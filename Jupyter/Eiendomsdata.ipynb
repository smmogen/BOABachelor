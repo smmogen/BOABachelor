{
 "cells": [
  {
   "cell_type": "code",
   "metadata": {
    "cell_id": "2d94c48d-2ab5-483e-b957-7096a7af5034",
    "deepnote_to_be_reexecuted": false,
    "source_hash": "cd337e81",
    "execution_start": 1644331800518,
    "execution_millis": 1685,
    "deepnote_cell_type": "code"
   },
   "source": "# Importer biblioteker som trengs\nimport pandas as pd\nimport matplotlib.pyplot as plt\nimport matplotlib.image as mpimg\nimport numpy as np",
   "execution_count": 1,
   "outputs": []
  },
  {
   "cell_type": "code",
   "metadata": {
    "cell_id": "00001-ee8f14d9-2253-4871-a3aa-fcb11991a616",
    "deepnote_to_be_reexecuted": false,
    "source_hash": "67247453",
    "execution_start": 1644331802204,
    "execution_millis": 1607,
    "deepnote_cell_type": "code"
   },
   "source": "# Importerer datasettet\ndf = pd.read_csv('datasett.csv')",
   "execution_count": 2,
   "outputs": []
  },
  {
   "cell_type": "code",
   "metadata": {
    "cell_id": "5687221a-a4eb-4a30-b921-3c545b1f51c5",
    "tags": [],
    "deepnote_to_be_reexecuted": false,
    "source_hash": "221c7f0f",
    "execution_start": 1644331803925,
    "execution_millis": 459,
    "deepnote_table_state": {
     "pageSize": 50,
     "pageIndex": 0,
     "filters": [],
     "sortBy": [
      {
       "id": "lastchanged",
       "type": "desc"
      }
     ]
    },
    "deepnote_table_loading": false,
    "deepnote_cell_type": "code"
   },
   "source": "# Tar en titt på dataen\ndf.head(20)",
   "execution_count": 3,
   "outputs": [
    {
     "output_type": "execute_result",
     "execution_count": 3,
     "data": {
      "application/vnd.deepnote.dataframe.v3+json": {
       "column_count": 57,
       "row_count": 20,
       "columns": [
        {
         "name": "documentDate",
         "dtype": "object",
         "stats": {
          "unique_count": 20,
          "nan_count": 0,
          "categories": [
           {
            "name": "2021-12-02",
            "count": 1
           },
           {
            "name": "2021-05-31",
            "count": 1
           },
           {
            "name": "18 others",
            "count": 18
           }
          ]
         }
        },
        {
         "name": "picturedate",
         "dtype": "object",
         "stats": {
          "unique_count": 20,
          "nan_count": 0,
          "categories": [
           {
            "name": "2021/8",
            "count": 1
           },
           {
            "name": "2021/3",
            "count": 1
           },
           {
            "name": "18 others",
            "count": 18
           }
          ]
         }
        },
        {
         "name": "lastchanged",
         "dtype": "object",
         "stats": {
          "unique_count": 19,
          "nan_count": 0,
          "categories": [
           {
            "name": "2019-02-24",
            "count": 2
           },
           {
            "name": "2021-08-01",
            "count": 1
           },
           {
            "name": "17 others",
            "count": 17
           }
          ]
         }
        },
        {
         "name": "adcreated",
         "dtype": "object",
         "stats": {
          "unique_count": 20,
          "nan_count": 0,
          "categories": [
           {
            "name": "2021-07-27",
            "count": 1
           },
           {
            "name": "2021-03-18",
            "count": 1
           },
           {
            "name": "18 others",
            "count": 18
           }
          ]
         }
        },
        {
         "name": "price",
         "dtype": "int64",
         "stats": {
          "unique_count": 20,
          "nan_count": 0,
          "min": "1660000",
          "max": "21000000",
          "histogram": [
           {
            "bin_start": 1660000,
            "bin_end": 3594000,
            "count": 9
           },
           {
            "bin_start": 3594000,
            "bin_end": 5528000,
            "count": 4
           },
           {
            "bin_start": 5528000,
            "bin_end": 7462000,
            "count": 3
           },
           {
            "bin_start": 7462000,
            "bin_end": 9396000,
            "count": 1
           },
           {
            "bin_start": 9396000,
            "bin_end": 11330000,
            "count": 1
           },
           {
            "bin_start": 11330000,
            "bin_end": 13264000,
            "count": 0
           },
           {
            "bin_start": 13264000,
            "bin_end": 15198000,
            "count": 1
           },
           {
            "bin_start": 15198000,
            "bin_end": 17132000,
            "count": 0
           },
           {
            "bin_start": 17132000,
            "bin_end": 19066000,
            "count": 0
           },
           {
            "bin_start": 19066000,
            "bin_end": 21000000,
            "count": 1
           }
          ]
         }
        },
        {
         "name": "listprice",
         "dtype": "float64",
         "stats": {
          "unique_count": 18,
          "nan_count": 0,
          "min": "1680000.0",
          "max": "24000000.0",
          "histogram": [
           {
            "bin_start": 1680000,
            "bin_end": 3912000,
            "count": 11
           },
           {
            "bin_start": 3912000,
            "bin_end": 6144000,
            "count": 4
           },
           {
            "bin_start": 6144000,
            "bin_end": 8376000,
            "count": 2
           },
           {
            "bin_start": 8376000,
            "bin_end": 10608000,
            "count": 1
           },
           {
            "bin_start": 10608000,
            "bin_end": 12840000,
            "count": 0
           },
           {
            "bin_start": 12840000,
            "bin_end": 15072000,
            "count": 1
           },
           {
            "bin_start": 15072000,
            "bin_end": 17304000,
            "count": 0
           },
           {
            "bin_start": 17304000,
            "bin_end": 19536000,
            "count": 0
           },
           {
            "bin_start": 19536000,
            "bin_end": 21768000,
            "count": 0
           },
           {
            "bin_start": 21768000,
            "bin_end": 24000000,
            "count": 1
           }
          ]
         }
        },
        {
         "name": "lat",
         "dtype": "float64",
         "stats": {
          "unique_count": 20,
          "nan_count": 0,
          "min": "59.873753",
          "max": "59.965298",
          "histogram": [
           {
            "bin_start": 59.873753,
            "bin_end": 59.8829075,
            "count": 2
           },
           {
            "bin_start": 59.8829075,
            "bin_end": 59.892062,
            "count": 2
           },
           {
            "bin_start": 59.892062,
            "bin_end": 59.9012165,
            "count": 1
           },
           {
            "bin_start": 59.9012165,
            "bin_end": 59.910371,
            "count": 1
           },
           {
            "bin_start": 59.910371,
            "bin_end": 59.9195255,
            "count": 3
           },
           {
            "bin_start": 59.9195255,
            "bin_end": 59.92868,
            "count": 3
           },
           {
            "bin_start": 59.92868,
            "bin_end": 59.9378345,
            "count": 2
           },
           {
            "bin_start": 59.9378345,
            "bin_end": 59.946988999999995,
            "count": 2
           },
           {
            "bin_start": 59.946988999999995,
            "bin_end": 59.956143499999996,
            "count": 3
           },
           {
            "bin_start": 59.956143499999996,
            "bin_end": 59.965298,
            "count": 1
           }
          ]
         }
        },
        {
         "name": "lng",
         "dtype": "float64",
         "stats": {
          "unique_count": 20,
          "nan_count": 0,
          "min": "10.6479",
          "max": "10.921401",
          "histogram": [
           {
            "bin_start": 10.6479,
            "bin_end": 10.6752501,
            "count": 1
           },
           {
            "bin_start": 10.6752501,
            "bin_end": 10.7026002,
            "count": 1
           },
           {
            "bin_start": 10.7026002,
            "bin_end": 10.7299503,
            "count": 1
           },
           {
            "bin_start": 10.7299503,
            "bin_end": 10.7573004,
            "count": 1
           },
           {
            "bin_start": 10.7573004,
            "bin_end": 10.7846505,
            "count": 8
           },
           {
            "bin_start": 10.7846505,
            "bin_end": 10.8120006,
            "count": 4
           },
           {
            "bin_start": 10.8120006,
            "bin_end": 10.839350699999999,
            "count": 0
           },
           {
            "bin_start": 10.839350699999999,
            "bin_end": 10.8667008,
            "count": 2
           },
           {
            "bin_start": 10.8667008,
            "bin_end": 10.8940509,
            "count": 1
           },
           {
            "bin_start": 10.8940509,
            "bin_end": 10.921401,
            "count": 1
           }
          ]
         }
        },
        {
         "name": "address",
         "dtype": "object",
         "stats": {
          "unique_count": 20,
          "nan_count": 0,
          "categories": [
           {
            "name": "Ringshusveien 8B, 1176 Oslo",
            "count": 1
           },
           {
            "name": "Akersbakken 39, 0172 Oslo",
            "count": 1
           },
           {
            "name": "18 others",
            "count": 18
           }
          ]
         }
        },
        {
         "name": "apartmentnumber",
         "dtype": "object",
         "stats": {
          "unique_count": 12,
          "nan_count": 0,
          "categories": [
           {
            "name": "H0101",
            "count": 5
           },
           {
            "name": "H0201",
            "count": 3
           },
           {
            "name": "10 others",
            "count": 12
           }
          ]
         }
        },
        {
         "name": "apartmenttype",
         "dtype": "object",
         "stats": {
          "unique_count": 1,
          "nan_count": 0,
          "categories": [
           {
            "name": "B",
            "count": 20
           }
          ]
         }
        },
        {
         "name": "conveyancetype",
         "dtype": "object",
         "stats": {
          "unique_count": 1,
          "nan_count": 0,
          "categories": [
           {
            "name": "Fritt salg",
            "count": 20
           }
          ]
         }
        },
        {
         "name": "finncode",
         "dtype": "int64",
         "stats": {
          "unique_count": 20,
          "nan_count": 0,
          "min": "13919459",
          "max": "226217549",
          "histogram": [
           {
            "bin_start": 13919459,
            "bin_end": 35149268,
            "count": 5
           },
           {
            "bin_start": 35149268,
            "bin_end": 56379077,
            "count": 4
           },
           {
            "bin_start": 56379077,
            "bin_end": 77608886,
            "count": 2
           },
           {
            "bin_start": 77608886,
            "bin_end": 98838695,
            "count": 1
           },
           {
            "bin_start": 98838695,
            "bin_end": 120068504,
            "count": 0
           },
           {
            "bin_start": 120068504,
            "bin_end": 141298313,
            "count": 2
           },
           {
            "bin_start": 141298313,
            "bin_end": 162528122,
            "count": 0
           },
           {
            "bin_start": 162528122,
            "bin_end": 183757931,
            "count": 1
           },
           {
            "bin_start": 183757931,
            "bin_end": 204987740,
            "count": 3
           },
           {
            "bin_start": 204987740,
            "bin_end": 226217549,
            "count": 2
           }
          ]
         }
        },
        {
         "name": "BRA",
         "dtype": "float64",
         "stats": {
          "unique_count": 16,
          "nan_count": 3,
          "min": "34.0",
          "max": "571.0",
          "histogram": [
           {
            "bin_start": 34,
            "bin_end": 87.7,
            "count": 10
           },
           {
            "bin_start": 87.7,
            "bin_end": 141.4,
            "count": 4
           },
           {
            "bin_start": 141.4,
            "bin_end": 195.10000000000002,
            "count": 0
           },
           {
            "bin_start": 195.10000000000002,
            "bin_end": 248.8,
            "count": 0
           },
           {
            "bin_start": 248.8,
            "bin_end": 302.5,
            "count": 1
           },
           {
            "bin_start": 302.5,
            "bin_end": 356.20000000000005,
            "count": 0
           },
           {
            "bin_start": 356.20000000000005,
            "bin_end": 409.90000000000003,
            "count": 0
           },
           {
            "bin_start": 409.90000000000003,
            "bin_end": 463.6,
            "count": 1
           },
           {
            "bin_start": 463.6,
            "bin_end": 517.3,
            "count": 0
           },
           {
            "bin_start": 517.3,
            "bin_end": 571,
            "count": 1
           }
          ]
         }
        },
        {
         "name": "PROM",
         "dtype": "float64",
         "stats": {
          "unique_count": 19,
          "nan_count": 0,
          "min": "34.0",
          "max": "453.0",
          "histogram": [
           {
            "bin_start": 34,
            "bin_end": 75.9,
            "count": 12
           },
           {
            "bin_start": 75.9,
            "bin_end": 117.8,
            "count": 3
           },
           {
            "bin_start": 117.8,
            "bin_end": 159.7,
            "count": 2
           },
           {
            "bin_start": 159.7,
            "bin_end": 201.6,
            "count": 0
           },
           {
            "bin_start": 201.6,
            "bin_end": 243.5,
            "count": 1
           },
           {
            "bin_start": 243.5,
            "bin_end": 285.4,
            "count": 0
           },
           {
            "bin_start": 285.4,
            "bin_end": 327.3,
            "count": 0
           },
           {
            "bin_start": 327.3,
            "bin_end": 369.2,
            "count": 1
           },
           {
            "bin_start": 369.2,
            "bin_end": 411.09999999999997,
            "count": 0
           },
           {
            "bin_start": 411.09999999999997,
            "bin_end": 453,
            "count": 1
           }
          ]
         }
        },
        {
         "name": "buildyear",
         "dtype": "float64",
         "stats": {
          "unique_count": 18,
          "nan_count": 0,
          "min": "1893.0",
          "max": "2012.0",
          "histogram": [
           {
            "bin_start": 1893,
            "bin_end": 1904.9,
            "count": 3
           },
           {
            "bin_start": 1904.9,
            "bin_end": 1916.8,
            "count": 0
           },
           {
            "bin_start": 1916.8,
            "bin_end": 1928.7,
            "count": 2
           },
           {
            "bin_start": 1928.7,
            "bin_end": 1940.6,
            "count": 4
           },
           {
            "bin_start": 1940.6,
            "bin_end": 1952.5,
            "count": 0
           },
           {
            "bin_start": 1952.5,
            "bin_end": 1964.4,
            "count": 2
           },
           {
            "bin_start": 1964.4,
            "bin_end": 1976.3,
            "count": 2
           },
           {
            "bin_start": 1976.3,
            "bin_end": 1988.2,
            "count": 3
           },
           {
            "bin_start": 1988.2,
            "bin_end": 2000.1,
            "count": 2
           },
           {
            "bin_start": 2000.1,
            "bin_end": 2012,
            "count": 2
           }
          ]
         }
        },
        {
         "name": "matrikkel",
         "dtype": "object",
         "stats": {
          "unique_count": 20,
          "nan_count": 0,
          "categories": [
           {
            "name": "301-158-751-0",
            "count": 1
           },
           {
            "name": "301-218-18-25",
            "count": 1
           },
           {
            "name": "18 others",
            "count": 18
           }
          ]
         }
        },
        {
         "name": "bedrooms",
         "dtype": "float64",
         "stats": {
          "unique_count": 5,
          "nan_count": 0,
          "min": "1.0",
          "max": "5.0",
          "histogram": [
           {
            "bin_start": 1,
            "bin_end": 1.4,
            "count": 9
           },
           {
            "bin_start": 1.4,
            "bin_end": 1.8,
            "count": 0
           },
           {
            "bin_start": 1.8,
            "bin_end": 2.2,
            "count": 3
           },
           {
            "bin_start": 2.2,
            "bin_end": 2.6,
            "count": 0
           },
           {
            "bin_start": 2.6,
            "bin_end": 3,
            "count": 0
           },
           {
            "bin_start": 3,
            "bin_end": 3.4000000000000004,
            "count": 4
           },
           {
            "bin_start": 3.4000000000000004,
            "bin_end": 3.8000000000000003,
            "count": 0
           },
           {
            "bin_start": 3.8000000000000003,
            "bin_end": 4.2,
            "count": 1
           },
           {
            "bin_start": 4.2,
            "bin_end": 4.6,
            "count": 0
           },
           {
            "bin_start": 4.6,
            "bin_end": 5,
            "count": 3
           }
          ]
         }
        },
        {
         "name": "rooms",
         "dtype": "float64",
         "stats": {
          "unique_count": 7,
          "nan_count": 5,
          "min": "1.0",
          "max": "10.0",
          "histogram": [
           {
            "bin_start": 1,
            "bin_end": 1.9,
            "count": 1
           },
           {
            "bin_start": 1.9,
            "bin_end": 2.8,
            "count": 5
           },
           {
            "bin_start": 2.8,
            "bin_end": 3.7,
            "count": 2
           },
           {
            "bin_start": 3.7,
            "bin_end": 4.6,
            "count": 2
           },
           {
            "bin_start": 4.6,
            "bin_end": 5.5,
            "count": 3
           },
           {
            "bin_start": 5.5,
            "bin_end": 6.4,
            "count": 0
           },
           {
            "bin_start": 6.4,
            "bin_end": 7.3,
            "count": 0
           },
           {
            "bin_start": 7.3,
            "bin_end": 8.2,
            "count": 0
           },
           {
            "bin_start": 8.2,
            "bin_end": 9.1,
            "count": 1
           },
           {
            "bin_start": 9.1,
            "bin_end": 10,
            "count": 1
           }
          ]
         }
        },
        {
         "name": "bathrooms",
         "dtype": "int64",
         "stats": {
          "unique_count": 3,
          "nan_count": 0,
          "min": "0",
          "max": "4",
          "histogram": [
           {
            "bin_start": 0,
            "bin_end": 0.4,
            "count": 2
           },
           {
            "bin_start": 0.4,
            "bin_end": 0.8,
            "count": 0
           },
           {
            "bin_start": 0.8,
            "bin_end": 1.2000000000000002,
            "count": 17
           },
           {
            "bin_start": 1.2000000000000002,
            "bin_end": 1.6,
            "count": 0
           },
           {
            "bin_start": 1.6,
            "bin_end": 2,
            "count": 0
           },
           {
            "bin_start": 2,
            "bin_end": 2.4000000000000004,
            "count": 0
           },
           {
            "bin_start": 2.4000000000000004,
            "bin_end": 2.8000000000000003,
            "count": 0
           },
           {
            "bin_start": 2.8000000000000003,
            "bin_end": 3.2,
            "count": 0
           },
           {
            "bin_start": 3.2,
            "bin_end": 3.6,
            "count": 0
           },
           {
            "bin_start": 3.6,
            "bin_end": 4,
            "count": 1
           }
          ]
         }
        },
        {
         "name": "WC",
         "dtype": "int64",
         "stats": {
          "unique_count": 4,
          "nan_count": 0,
          "min": "0",
          "max": "5",
          "histogram": [
           {
            "bin_start": 0,
            "bin_end": 0.5,
            "count": 2
           },
           {
            "bin_start": 0.5,
            "bin_end": 1,
            "count": 0
           },
           {
            "bin_start": 1,
            "bin_end": 1.5,
            "count": 14
           },
           {
            "bin_start": 1.5,
            "bin_end": 2,
            "count": 0
           },
           {
            "bin_start": 2,
            "bin_end": 2.5,
            "count": 3
           },
           {
            "bin_start": 2.5,
            "bin_end": 3,
            "count": 0
           },
           {
            "bin_start": 3,
            "bin_end": 3.5,
            "count": 0
           },
           {
            "bin_start": 3.5,
            "bin_end": 4,
            "count": 0
           },
           {
            "bin_start": 4,
            "bin_end": 4.5,
            "count": 0
           },
           {
            "bin_start": 4.5,
            "bin_end": 5,
            "count": 1
           }
          ]
         }
        },
        {
         "name": "elevator",
         "dtype": "object",
         "stats": {
          "unique_count": 2,
          "nan_count": 0,
          "categories": [
           {
            "name": "N",
            "count": 17
           },
           {
            "name": "J",
            "count": 3
           }
          ]
         }
        },
        {
         "name": "floor",
         "dtype": "float64",
         "stats": {
          "unique_count": 5,
          "nan_count": 5,
          "min": "1.0",
          "max": "6.0",
          "histogram": [
           {
            "bin_start": 1,
            "bin_end": 1.5,
            "count": 3
           },
           {
            "bin_start": 1.5,
            "bin_end": 2,
            "count": 0
           },
           {
            "bin_start": 2,
            "bin_end": 2.5,
            "count": 4
           },
           {
            "bin_start": 2.5,
            "bin_end": 3,
            "count": 0
           },
           {
            "bin_start": 3,
            "bin_end": 3.5,
            "count": 5
           },
           {
            "bin_start": 3.5,
            "bin_end": 4,
            "count": 0
           },
           {
            "bin_start": 4,
            "bin_end": 4.5,
            "count": 2
           },
           {
            "bin_start": 4.5,
            "bin_end": 5,
            "count": 0
           },
           {
            "bin_start": 5,
            "bin_end": 5.5,
            "count": 0
           },
           {
            "bin_start": 5.5,
            "bin_end": 6,
            "count": 1
           }
          ]
         }
        },
        {
         "name": "housingtype",
         "dtype": "object",
         "stats": {
          "unique_count": 4,
          "nan_count": 0,
          "categories": [
           {
            "name": "Leilighet",
            "count": 13
           },
           {
            "name": "Enebolig",
            "count": 5
           },
           {
            "name": "2 others",
            "count": 2
           }
          ]
         }
        },
        {
         "name": "commondebt",
         "dtype": "float64",
         "stats": {
          "unique_count": 9,
          "nan_count": 11,
          "min": "511.0",
          "max": "164865.0",
          "histogram": [
           {
            "bin_start": 511,
            "bin_end": 16946.4,
            "count": 2
           },
           {
            "bin_start": 16946.4,
            "bin_end": 33381.8,
            "count": 1
           },
           {
            "bin_start": 33381.8,
            "bin_end": 49817.200000000004,
            "count": 1
           },
           {
            "bin_start": 49817.200000000004,
            "bin_end": 66252.6,
            "count": 1
           },
           {
            "bin_start": 66252.6,
            "bin_end": 82688,
            "count": 1
           },
           {
            "bin_start": 82688,
            "bin_end": 99123.40000000001,
            "count": 1
           },
           {
            "bin_start": 99123.40000000001,
            "bin_end": 115558.80000000002,
            "count": 1
           },
           {
            "bin_start": 115558.80000000002,
            "bin_end": 131994.2,
            "count": 0
           },
           {
            "bin_start": 131994.2,
            "bin_end": 148429.6,
            "count": 0
           },
           {
            "bin_start": 148429.6,
            "bin_end": 164865,
            "count": 1
           }
          ]
         }
        },
        {
         "name": "commoncosts",
         "dtype": "float64",
         "stats": {
          "unique_count": 14,
          "nan_count": 6,
          "min": "1200.0",
          "max": "3893.0",
          "histogram": [
           {
            "bin_start": 1200,
            "bin_end": 1469.3,
            "count": 3
           },
           {
            "bin_start": 1469.3,
            "bin_end": 1738.6,
            "count": 0
           },
           {
            "bin_start": 1738.6,
            "bin_end": 2007.9,
            "count": 2
           },
           {
            "bin_start": 2007.9,
            "bin_end": 2277.2,
            "count": 1
           },
           {
            "bin_start": 2277.2,
            "bin_end": 2546.5,
            "count": 1
           },
           {
            "bin_start": 2546.5,
            "bin_end": 2815.8,
            "count": 1
           },
           {
            "bin_start": 2815.8,
            "bin_end": 3085.1000000000004,
            "count": 2
           },
           {
            "bin_start": 3085.1000000000004,
            "bin_end": 3354.4,
            "count": 2
           },
           {
            "bin_start": 3354.4,
            "bin_end": 3623.7000000000003,
            "count": 1
           },
           {
            "bin_start": 3623.7000000000003,
            "bin_end": 3893,
            "count": 1
           }
          ]
         }
        },
        {
         "name": "F_Aircondition",
         "dtype": "float64",
         "stats": {
          "unique_count": 1,
          "nan_count": 19,
          "min": "1.0",
          "max": "1.0",
          "histogram": [
           {
            "bin_start": 0.5,
            "bin_end": 0.6,
            "count": 0
           },
           {
            "bin_start": 0.6,
            "bin_end": 0.7,
            "count": 0
           },
           {
            "bin_start": 0.7,
            "bin_end": 0.8,
            "count": 0
           },
           {
            "bin_start": 0.8,
            "bin_end": 0.9,
            "count": 0
           },
           {
            "bin_start": 0.9,
            "bin_end": 1,
            "count": 0
           },
           {
            "bin_start": 1,
            "bin_end": 1.1,
            "count": 1
           },
           {
            "bin_start": 1.1,
            "bin_end": 1.2000000000000002,
            "count": 0
           },
           {
            "bin_start": 1.2000000000000002,
            "bin_end": 1.3,
            "count": 0
           },
           {
            "bin_start": 1.3,
            "bin_end": 1.4,
            "count": 0
           },
           {
            "bin_start": 1.4,
            "bin_end": 1.5,
            "count": 0
           }
          ]
         }
        },
        {
         "name": "F_Alarm",
         "dtype": "float64",
         "stats": {
          "unique_count": 0,
          "nan_count": 20,
          "min": null,
          "max": null,
          "histogram": [
           {
            "bin_start": 0,
            "bin_end": 0.1,
            "count": 0
           },
           {
            "bin_start": 0.1,
            "bin_end": 0.2,
            "count": 0
           },
           {
            "bin_start": 0.2,
            "bin_end": 0.30000000000000004,
            "count": 0
           },
           {
            "bin_start": 0.30000000000000004,
            "bin_end": 0.4,
            "count": 0
           },
           {
            "bin_start": 0.4,
            "bin_end": 0.5,
            "count": 0
           },
           {
            "bin_start": 0.5,
            "bin_end": 0.6000000000000001,
            "count": 0
           },
           {
            "bin_start": 0.6000000000000001,
            "bin_end": 0.7000000000000001,
            "count": 0
           },
           {
            "bin_start": 0.7000000000000001,
            "bin_end": 0.8,
            "count": 0
           },
           {
            "bin_start": 0.8,
            "bin_end": 0.9,
            "count": 0
           },
           {
            "bin_start": 0.9,
            "bin_end": 1,
            "count": 0
           }
          ]
         }
        },
        {
         "name": "F_BalkongTerrasse",
         "dtype": "float64",
         "stats": {
          "unique_count": 1,
          "nan_count": 9,
          "min": "1.0",
          "max": "1.0",
          "histogram": [
           {
            "bin_start": 0.5,
            "bin_end": 0.6,
            "count": 0
           },
           {
            "bin_start": 0.6,
            "bin_end": 0.7,
            "count": 0
           },
           {
            "bin_start": 0.7,
            "bin_end": 0.8,
            "count": 0
           },
           {
            "bin_start": 0.8,
            "bin_end": 0.9,
            "count": 0
           },
           {
            "bin_start": 0.9,
            "bin_end": 1,
            "count": 0
           },
           {
            "bin_start": 1,
            "bin_end": 1.1,
            "count": 11
           },
           {
            "bin_start": 1.1,
            "bin_end": 1.2000000000000002,
            "count": 0
           },
           {
            "bin_start": 1.2000000000000002,
            "bin_end": 1.3,
            "count": 0
           },
           {
            "bin_start": 1.3,
            "bin_end": 1.4,
            "count": 0
           },
           {
            "bin_start": 1.4,
            "bin_end": 1.5,
            "count": 0
           }
          ]
         }
        },
        {
         "name": "F_Barnevennlig",
         "dtype": "float64",
         "stats": {
          "unique_count": 1,
          "nan_count": 8,
          "min": "1.0",
          "max": "1.0",
          "histogram": [
           {
            "bin_start": 0.5,
            "bin_end": 0.6,
            "count": 0
           },
           {
            "bin_start": 0.6,
            "bin_end": 0.7,
            "count": 0
           },
           {
            "bin_start": 0.7,
            "bin_end": 0.8,
            "count": 0
           },
           {
            "bin_start": 0.8,
            "bin_end": 0.9,
            "count": 0
           },
           {
            "bin_start": 0.9,
            "bin_end": 1,
            "count": 0
           },
           {
            "bin_start": 1,
            "bin_end": 1.1,
            "count": 12
           },
           {
            "bin_start": 1.1,
            "bin_end": 1.2000000000000002,
            "count": 0
           },
           {
            "bin_start": 1.2000000000000002,
            "bin_end": 1.3,
            "count": 0
           },
           {
            "bin_start": 1.3,
            "bin_end": 1.4,
            "count": 0
           },
           {
            "bin_start": 1.4,
            "bin_end": 1.5,
            "count": 0
           }
          ]
         }
        },
        {
         "name": "F_Bredbåndstilknytning",
         "dtype": "float64",
         "stats": {
          "unique_count": 1,
          "nan_count": 8,
          "min": "1.0",
          "max": "1.0",
          "histogram": [
           {
            "bin_start": 0.5,
            "bin_end": 0.6,
            "count": 0
           },
           {
            "bin_start": 0.6,
            "bin_end": 0.7,
            "count": 0
           },
           {
            "bin_start": 0.7,
            "bin_end": 0.8,
            "count": 0
           },
           {
            "bin_start": 0.8,
            "bin_end": 0.9,
            "count": 0
           },
           {
            "bin_start": 0.9,
            "bin_end": 1,
            "count": 0
           },
           {
            "bin_start": 1,
            "bin_end": 1.1,
            "count": 12
           },
           {
            "bin_start": 1.1,
            "bin_end": 1.2000000000000002,
            "count": 0
           },
           {
            "bin_start": 1.2000000000000002,
            "bin_end": 1.3,
            "count": 0
           },
           {
            "bin_start": 1.3,
            "bin_end": 1.4,
            "count": 0
           },
           {
            "bin_start": 1.4,
            "bin_end": 1.5,
            "count": 0
           }
          ]
         }
        },
        {
         "name": "F_Fellesvaskeri",
         "dtype": "float64",
         "stats": {
          "unique_count": 1,
          "nan_count": 17,
          "min": "1.0",
          "max": "1.0",
          "histogram": [
           {
            "bin_start": 0.5,
            "bin_end": 0.6,
            "count": 0
           },
           {
            "bin_start": 0.6,
            "bin_end": 0.7,
            "count": 0
           },
           {
            "bin_start": 0.7,
            "bin_end": 0.8,
            "count": 0
           },
           {
            "bin_start": 0.8,
            "bin_end": 0.9,
            "count": 0
           },
           {
            "bin_start": 0.9,
            "bin_end": 1,
            "count": 0
           },
           {
            "bin_start": 1,
            "bin_end": 1.1,
            "count": 3
           },
           {
            "bin_start": 1.1,
            "bin_end": 1.2000000000000002,
            "count": 0
           },
           {
            "bin_start": 1.2000000000000002,
            "bin_end": 1.3,
            "count": 0
           },
           {
            "bin_start": 1.3,
            "bin_end": 1.4,
            "count": 0
           },
           {
            "bin_start": 1.4,
            "bin_end": 1.5,
            "count": 0
           }
          ]
         }
        },
        {
         "name": "F_GarasjeP-plass",
         "dtype": "float64",
         "stats": {
          "unique_count": 1,
          "nan_count": 11,
          "min": "1.0",
          "max": "1.0",
          "histogram": [
           {
            "bin_start": 0.5,
            "bin_end": 0.6,
            "count": 0
           },
           {
            "bin_start": 0.6,
            "bin_end": 0.7,
            "count": 0
           },
           {
            "bin_start": 0.7,
            "bin_end": 0.8,
            "count": 0
           },
           {
            "bin_start": 0.8,
            "bin_end": 0.9,
            "count": 0
           },
           {
            "bin_start": 0.9,
            "bin_end": 1,
            "count": 0
           },
           {
            "bin_start": 1,
            "bin_end": 1.1,
            "count": 9
           },
           {
            "bin_start": 1.1,
            "bin_end": 1.2000000000000002,
            "count": 0
           },
           {
            "bin_start": 1.2000000000000002,
            "bin_end": 1.3,
            "count": 0
           },
           {
            "bin_start": 1.3,
            "bin_end": 1.4,
            "count": 0
           },
           {
            "bin_start": 1.4,
            "bin_end": 1.5,
            "count": 0
           }
          ]
         }
        },
        {
         "name": "F_Heis",
         "dtype": "float64",
         "stats": {
          "unique_count": 1,
          "nan_count": 17,
          "min": "1.0",
          "max": "1.0",
          "histogram": [
           {
            "bin_start": 0.5,
            "bin_end": 0.6,
            "count": 0
           },
           {
            "bin_start": 0.6,
            "bin_end": 0.7,
            "count": 0
           },
           {
            "bin_start": 0.7,
            "bin_end": 0.8,
            "count": 0
           },
           {
            "bin_start": 0.8,
            "bin_end": 0.9,
            "count": 0
           },
           {
            "bin_start": 0.9,
            "bin_end": 1,
            "count": 0
           },
           {
            "bin_start": 1,
            "bin_end": 1.1,
            "count": 3
           },
           {
            "bin_start": 1.1,
            "bin_end": 1.2000000000000002,
            "count": 0
           },
           {
            "bin_start": 1.2000000000000002,
            "bin_end": 1.3,
            "count": 0
           },
           {
            "bin_start": 1.3,
            "bin_end": 1.4,
            "count": 0
           },
           {
            "bin_start": 1.4,
            "bin_end": 1.5,
            "count": 0
           }
          ]
         }
        },
        {
         "name": "F_Ingen gjenboere",
         "dtype": "float64",
         "stats": {
          "unique_count": 1,
          "nan_count": 12,
          "min": "1.0",
          "max": "1.0",
          "histogram": [
           {
            "bin_start": 0.5,
            "bin_end": 0.6,
            "count": 0
           },
           {
            "bin_start": 0.6,
            "bin_end": 0.7,
            "count": 0
           },
           {
            "bin_start": 0.7,
            "bin_end": 0.8,
            "count": 0
           },
           {
            "bin_start": 0.8,
            "bin_end": 0.9,
            "count": 0
           },
           {
            "bin_start": 0.9,
            "bin_end": 1,
            "count": 0
           },
           {
            "bin_start": 1,
            "bin_end": 1.1,
            "count": 8
           },
           {
            "bin_start": 1.1,
            "bin_end": 1.2000000000000002,
            "count": 0
           },
           {
            "bin_start": 1.2000000000000002,
            "bin_end": 1.3,
            "count": 0
           },
           {
            "bin_start": 1.3,
            "bin_end": 1.4,
            "count": 0
           },
           {
            "bin_start": 1.4,
            "bin_end": 1.5,
            "count": 0
           }
          ]
         }
        },
        {
         "name": "F_Lademulighet",
         "dtype": "float64",
         "stats": {
          "unique_count": 0,
          "nan_count": 20,
          "min": null,
          "max": null,
          "histogram": [
           {
            "bin_start": 0,
            "bin_end": 0.1,
            "count": 0
           },
           {
            "bin_start": 0.1,
            "bin_end": 0.2,
            "count": 0
           },
           {
            "bin_start": 0.2,
            "bin_end": 0.30000000000000004,
            "count": 0
           },
           {
            "bin_start": 0.30000000000000004,
            "bin_end": 0.4,
            "count": 0
           },
           {
            "bin_start": 0.4,
            "bin_end": 0.5,
            "count": 0
           },
           {
            "bin_start": 0.5,
            "bin_end": 0.6000000000000001,
            "count": 0
           },
           {
            "bin_start": 0.6000000000000001,
            "bin_end": 0.7000000000000001,
            "count": 0
           },
           {
            "bin_start": 0.7000000000000001,
            "bin_end": 0.8,
            "count": 0
           },
           {
            "bin_start": 0.8,
            "bin_end": 0.9,
            "count": 0
           },
           {
            "bin_start": 0.9,
            "bin_end": 1,
            "count": 0
           }
          ]
         }
        },
        {
         "name": "F_Livsløpsstandard",
         "dtype": "float64",
         "stats": {
          "unique_count": 0,
          "nan_count": 20,
          "min": null,
          "max": null,
          "histogram": [
           {
            "bin_start": 0,
            "bin_end": 0.1,
            "count": 0
           },
           {
            "bin_start": 0.1,
            "bin_end": 0.2,
            "count": 0
           },
           {
            "bin_start": 0.2,
            "bin_end": 0.30000000000000004,
            "count": 0
           },
           {
            "bin_start": 0.30000000000000004,
            "bin_end": 0.4,
            "count": 0
           },
           {
            "bin_start": 0.4,
            "bin_end": 0.5,
            "count": 0
           },
           {
            "bin_start": 0.5,
            "bin_end": 0.6000000000000001,
            "count": 0
           },
           {
            "bin_start": 0.6000000000000001,
            "bin_end": 0.7000000000000001,
            "count": 0
           },
           {
            "bin_start": 0.7000000000000001,
            "bin_end": 0.8,
            "count": 0
           },
           {
            "bin_start": 0.8,
            "bin_end": 0.9,
            "count": 0
           },
           {
            "bin_start": 0.9,
            "bin_end": 1,
            "count": 0
           }
          ]
         }
        },
        {
         "name": "F_Moderne",
         "dtype": "float64",
         "stats": {
          "unique_count": 1,
          "nan_count": 14,
          "min": "1.0",
          "max": "1.0",
          "histogram": [
           {
            "bin_start": 0.5,
            "bin_end": 0.6,
            "count": 0
           },
           {
            "bin_start": 0.6,
            "bin_end": 0.7,
            "count": 0
           },
           {
            "bin_start": 0.7,
            "bin_end": 0.8,
            "count": 0
           },
           {
            "bin_start": 0.8,
            "bin_end": 0.9,
            "count": 0
           },
           {
            "bin_start": 0.9,
            "bin_end": 1,
            "count": 0
           },
           {
            "bin_start": 1,
            "bin_end": 1.1,
            "count": 6
           },
           {
            "bin_start": 1.1,
            "bin_end": 1.2000000000000002,
            "count": 0
           },
           {
            "bin_start": 1.2000000000000002,
            "bin_end": 1.3,
            "count": 0
           },
           {
            "bin_start": 1.3,
            "bin_end": 1.4,
            "count": 0
           },
           {
            "bin_start": 1.4,
            "bin_end": 1.5,
            "count": 0
           }
          ]
         }
        },
        {
         "name": "F_Offentlig vannkloakk",
         "dtype": "float64",
         "stats": {
          "unique_count": 1,
          "nan_count": 8,
          "min": "1.0",
          "max": "1.0",
          "histogram": [
           {
            "bin_start": 0.5,
            "bin_end": 0.6,
            "count": 0
           },
           {
            "bin_start": 0.6,
            "bin_end": 0.7,
            "count": 0
           },
           {
            "bin_start": 0.7,
            "bin_end": 0.8,
            "count": 0
           },
           {
            "bin_start": 0.8,
            "bin_end": 0.9,
            "count": 0
           },
           {
            "bin_start": 0.9,
            "bin_end": 1,
            "count": 0
           },
           {
            "bin_start": 1,
            "bin_end": 1.1,
            "count": 12
           },
           {
            "bin_start": 1.1,
            "bin_end": 1.2000000000000002,
            "count": 0
           },
           {
            "bin_start": 1.2000000000000002,
            "bin_end": 1.3,
            "count": 0
           },
           {
            "bin_start": 1.3,
            "bin_end": 1.4,
            "count": 0
           },
           {
            "bin_start": 1.4,
            "bin_end": 1.5,
            "count": 0
           }
          ]
         }
        },
        {
         "name": "F_Parkett",
         "dtype": "float64",
         "stats": {
          "unique_count": 1,
          "nan_count": 6,
          "min": "1.0",
          "max": "1.0",
          "histogram": [
           {
            "bin_start": 0.5,
            "bin_end": 0.6,
            "count": 0
           },
           {
            "bin_start": 0.6,
            "bin_end": 0.7,
            "count": 0
           },
           {
            "bin_start": 0.7,
            "bin_end": 0.8,
            "count": 0
           },
           {
            "bin_start": 0.8,
            "bin_end": 0.9,
            "count": 0
           },
           {
            "bin_start": 0.9,
            "bin_end": 1,
            "count": 0
           },
           {
            "bin_start": 1,
            "bin_end": 1.1,
            "count": 14
           },
           {
            "bin_start": 1.1,
            "bin_end": 1.2000000000000002,
            "count": 0
           },
           {
            "bin_start": 1.2000000000000002,
            "bin_end": 1.3,
            "count": 0
           },
           {
            "bin_start": 1.3,
            "bin_end": 1.4,
            "count": 0
           },
           {
            "bin_start": 1.4,
            "bin_end": 1.5,
            "count": 0
           }
          ]
         }
        },
        {
         "name": "F_PeisIldsted",
         "dtype": "float64",
         "stats": {
          "unique_count": 1,
          "nan_count": 11,
          "min": "1.0",
          "max": "1.0",
          "histogram": [
           {
            "bin_start": 0.5,
            "bin_end": 0.6,
            "count": 0
           },
           {
            "bin_start": 0.6,
            "bin_end": 0.7,
            "count": 0
           },
           {
            "bin_start": 0.7,
            "bin_end": 0.8,
            "count": 0
           },
           {
            "bin_start": 0.8,
            "bin_end": 0.9,
            "count": 0
           },
           {
            "bin_start": 0.9,
            "bin_end": 1,
            "count": 0
           },
           {
            "bin_start": 1,
            "bin_end": 1.1,
            "count": 9
           },
           {
            "bin_start": 1.1,
            "bin_end": 1.2000000000000002,
            "count": 0
           },
           {
            "bin_start": 1.2000000000000002,
            "bin_end": 1.3,
            "count": 0
           },
           {
            "bin_start": 1.3,
            "bin_end": 1.4,
            "count": 0
           },
           {
            "bin_start": 1.4,
            "bin_end": 1.5,
            "count": 0
           }
          ]
         }
        },
        {
         "name": "F_Rolig",
         "dtype": "float64",
         "stats": {
          "unique_count": 1,
          "nan_count": 6,
          "min": "1.0",
          "max": "1.0",
          "histogram": [
           {
            "bin_start": 0.5,
            "bin_end": 0.6,
            "count": 0
           },
           {
            "bin_start": 0.6,
            "bin_end": 0.7,
            "count": 0
           },
           {
            "bin_start": 0.7,
            "bin_end": 0.8,
            "count": 0
           },
           {
            "bin_start": 0.8,
            "bin_end": 0.9,
            "count": 0
           },
           {
            "bin_start": 0.9,
            "bin_end": 1,
            "count": 0
           },
           {
            "bin_start": 1,
            "bin_end": 1.1,
            "count": 14
           },
           {
            "bin_start": 1.1,
            "bin_end": 1.2000000000000002,
            "count": 0
           },
           {
            "bin_start": 1.2000000000000002,
            "bin_end": 1.3,
            "count": 0
           },
           {
            "bin_start": 1.3,
            "bin_end": 1.4,
            "count": 0
           },
           {
            "bin_start": 1.4,
            "bin_end": 1.5,
            "count": 0
           }
          ]
         }
        },
        {
         "name": "F_Sentralt",
         "dtype": "float64",
         "stats": {
          "unique_count": 1,
          "nan_count": 9,
          "min": "1.0",
          "max": "1.0",
          "histogram": [
           {
            "bin_start": 0.5,
            "bin_end": 0.6,
            "count": 0
           },
           {
            "bin_start": 0.6,
            "bin_end": 0.7,
            "count": 0
           },
           {
            "bin_start": 0.7,
            "bin_end": 0.8,
            "count": 0
           },
           {
            "bin_start": 0.8,
            "bin_end": 0.9,
            "count": 0
           },
           {
            "bin_start": 0.9,
            "bin_end": 1,
            "count": 0
           },
           {
            "bin_start": 1,
            "bin_end": 1.1,
            "count": 11
           },
           {
            "bin_start": 1.1,
            "bin_end": 1.2000000000000002,
            "count": 0
           },
           {
            "bin_start": 1.2000000000000002,
            "bin_end": 1.3,
            "count": 0
           },
           {
            "bin_start": 1.3,
            "bin_end": 1.4,
            "count": 0
           },
           {
            "bin_start": 1.4,
            "bin_end": 1.5,
            "count": 0
           }
          ]
         }
        },
        {
         "name": "F_Utsikt",
         "dtype": "float64",
         "stats": {
          "unique_count": 1,
          "nan_count": 12,
          "min": "1.0",
          "max": "1.0",
          "histogram": [
           {
            "bin_start": 0.5,
            "bin_end": 0.6,
            "count": 0
           },
           {
            "bin_start": 0.6,
            "bin_end": 0.7,
            "count": 0
           },
           {
            "bin_start": 0.7,
            "bin_end": 0.8,
            "count": 0
           },
           {
            "bin_start": 0.8,
            "bin_end": 0.9,
            "count": 0
           },
           {
            "bin_start": 0.9,
            "bin_end": 1,
            "count": 0
           },
           {
            "bin_start": 1,
            "bin_end": 1.1,
            "count": 8
           },
           {
            "bin_start": 1.1,
            "bin_end": 1.2000000000000002,
            "count": 0
           },
           {
            "bin_start": 1.2000000000000002,
            "bin_end": 1.3,
            "count": 0
           },
           {
            "bin_start": 1.3,
            "bin_end": 1.4,
            "count": 0
           },
           {
            "bin_start": 1.4,
            "bin_end": 1.5,
            "count": 0
           }
          ]
         }
        },
        {
         "name": "F_Vaktmester-vektertjeneste",
         "dtype": "float64",
         "stats": {
          "unique_count": 1,
          "nan_count": 14,
          "min": "1.0",
          "max": "1.0",
          "histogram": [
           {
            "bin_start": 0.5,
            "bin_end": 0.6,
            "count": 0
           },
           {
            "bin_start": 0.6,
            "bin_end": 0.7,
            "count": 0
           },
           {
            "bin_start": 0.7,
            "bin_end": 0.8,
            "count": 0
           },
           {
            "bin_start": 0.8,
            "bin_end": 0.9,
            "count": 0
           },
           {
            "bin_start": 0.9,
            "bin_end": 1,
            "count": 0
           },
           {
            "bin_start": 1,
            "bin_end": 1.1,
            "count": 6
           },
           {
            "bin_start": 1.1,
            "bin_end": 1.2000000000000002,
            "count": 0
           },
           {
            "bin_start": 1.2000000000000002,
            "bin_end": 1.3,
            "count": 0
           },
           {
            "bin_start": 1.3,
            "bin_end": 1.4,
            "count": 0
           },
           {
            "bin_start": 1.4,
            "bin_end": 1.5,
            "count": 0
           }
          ]
         }
        },
        {
         "name": "F_Bademulighet",
         "dtype": "float64",
         "stats": {
          "unique_count": 0,
          "nan_count": 20,
          "min": null,
          "max": null,
          "histogram": [
           {
            "bin_start": 0,
            "bin_end": 0.1,
            "count": 0
           },
           {
            "bin_start": 0.1,
            "bin_end": 0.2,
            "count": 0
           },
           {
            "bin_start": 0.2,
            "bin_end": 0.30000000000000004,
            "count": 0
           },
           {
            "bin_start": 0.30000000000000004,
            "bin_end": 0.4,
            "count": 0
           },
           {
            "bin_start": 0.4,
            "bin_end": 0.5,
            "count": 0
           },
           {
            "bin_start": 0.5,
            "bin_end": 0.6000000000000001,
            "count": 0
           },
           {
            "bin_start": 0.6000000000000001,
            "bin_end": 0.7000000000000001,
            "count": 0
           },
           {
            "bin_start": 0.7000000000000001,
            "bin_end": 0.8,
            "count": 0
           },
           {
            "bin_start": 0.8,
            "bin_end": 0.9,
            "count": 0
           },
           {
            "bin_start": 0.9,
            "bin_end": 1,
            "count": 0
           }
          ]
         }
        },
        {
         "name": "F_Fiskemulighet",
         "dtype": "float64",
         "stats": {
          "unique_count": 0,
          "nan_count": 20,
          "min": null,
          "max": null,
          "histogram": [
           {
            "bin_start": 0,
            "bin_end": 0.1,
            "count": 0
           },
           {
            "bin_start": 0.1,
            "bin_end": 0.2,
            "count": 0
           },
           {
            "bin_start": 0.2,
            "bin_end": 0.30000000000000004,
            "count": 0
           },
           {
            "bin_start": 0.30000000000000004,
            "bin_end": 0.4,
            "count": 0
           },
           {
            "bin_start": 0.4,
            "bin_end": 0.5,
            "count": 0
           },
           {
            "bin_start": 0.5,
            "bin_end": 0.6000000000000001,
            "count": 0
           },
           {
            "bin_start": 0.6000000000000001,
            "bin_end": 0.7000000000000001,
            "count": 0
           },
           {
            "bin_start": 0.7000000000000001,
            "bin_end": 0.8,
            "count": 0
           },
           {
            "bin_start": 0.8,
            "bin_end": 0.9,
            "count": 0
           },
           {
            "bin_start": 0.9,
            "bin_end": 1,
            "count": 0
           }
          ]
         }
        },
        {
         "name": "F_Turterreng",
         "dtype": "float64",
         "stats": {
          "unique_count": 1,
          "nan_count": 10,
          "min": "1.0",
          "max": "1.0",
          "histogram": [
           {
            "bin_start": 0.5,
            "bin_end": 0.6,
            "count": 0
           },
           {
            "bin_start": 0.6,
            "bin_end": 0.7,
            "count": 0
           },
           {
            "bin_start": 0.7,
            "bin_end": 0.8,
            "count": 0
           },
           {
            "bin_start": 0.8,
            "bin_end": 0.9,
            "count": 0
           },
           {
            "bin_start": 0.9,
            "bin_end": 1,
            "count": 0
           },
           {
            "bin_start": 1,
            "bin_end": 1.1,
            "count": 10
           },
           {
            "bin_start": 1.1,
            "bin_end": 1.2000000000000002,
            "count": 0
           },
           {
            "bin_start": 1.2000000000000002,
            "bin_end": 1.3,
            "count": 0
           },
           {
            "bin_start": 1.3,
            "bin_end": 1.4,
            "count": 0
           },
           {
            "bin_start": 1.4,
            "bin_end": 1.5,
            "count": 0
           }
          ]
         }
        },
        {
         "name": "adtitle",
         "dtype": "object",
         "stats": {
          "unique_count": 20,
          "nan_count": 0,
          "categories": [
           {
            "name": "Oppussingsobjekt - Enebolig i kjede med skjermet beliggenhet - Vestvendt uteplass - Barnevennlig - 4 soverom - Peis",
            "count": 1
           },
           {
            "name": "Stilren og meget tiltalende 3-roms selveier. 3. etasje med heisadkomst. Beliggende mot rolig bakgård. Bygg fra 1991",
            "count": 1
           },
           {
            "name": "18 others",
            "count": 18
           }
          ]
         }
        },
        {
         "name": "N_modernisering",
         "dtype": "bool",
         "stats": {
          "unique_count": 1,
          "nan_count": 0,
          "categories": [
           {
            "name": "False",
            "count": 20
           }
          ]
         }
        },
        {
         "name": "N_oppussing",
         "dtype": "bool",
         "stats": {
          "unique_count": 2,
          "nan_count": 0,
          "categories": [
           {
            "name": "False",
            "count": 19
           },
           {
            "name": "True",
            "count": 1
           }
          ]
         }
        },
        {
         "name": "N_regulert",
         "dtype": "bool",
         "stats": {
          "unique_count": 1,
          "nan_count": 0,
          "categories": [
           {
            "name": "False",
            "count": 20
           }
          ]
         }
        },
        {
         "name": "N_garasjemulighet",
         "dtype": "bool",
         "stats": {
          "unique_count": 1,
          "nan_count": 0,
          "categories": [
           {
            "name": "False",
            "count": 20
           }
          ]
         }
        },
        {
         "name": "postcode",
         "dtype": "int64",
         "stats": {
          "unique_count": 19,
          "nan_count": 0,
          "min": "172",
          "max": "1184",
          "histogram": [
           {
            "bin_start": 172,
            "bin_end": 273.2,
            "count": 2
           },
           {
            "bin_start": 273.2,
            "bin_end": 374.4,
            "count": 2
           },
           {
            "bin_start": 374.4,
            "bin_end": 475.6,
            "count": 1
           },
           {
            "bin_start": 475.6,
            "bin_end": 576.8,
            "count": 3
           },
           {
            "bin_start": 576.8,
            "bin_end": 678,
            "count": 3
           },
           {
            "bin_start": 678,
            "bin_end": 779.2,
            "count": 2
           },
           {
            "bin_start": 779.2,
            "bin_end": 880.4,
            "count": 0
           },
           {
            "bin_start": 880.4,
            "bin_end": 981.6,
            "count": 1
           },
           {
            "bin_start": 981.6,
            "bin_end": 1082.8000000000002,
            "count": 2
           },
           {
            "bin_start": 1082.8000000000002,
            "bin_end": 1184,
            "count": 4
           }
          ]
         }
        },
        {
         "name": "Parking",
         "dtype": "int64",
         "stats": {
          "unique_count": 2,
          "nan_count": 0,
          "min": "0",
          "max": "1",
          "histogram": [
           {
            "bin_start": 0,
            "bin_end": 0.1,
            "count": 11
           },
           {
            "bin_start": 0.1,
            "bin_end": 0.2,
            "count": 0
           },
           {
            "bin_start": 0.2,
            "bin_end": 0.30000000000000004,
            "count": 0
           },
           {
            "bin_start": 0.30000000000000004,
            "bin_end": 0.4,
            "count": 0
           },
           {
            "bin_start": 0.4,
            "bin_end": 0.5,
            "count": 0
           },
           {
            "bin_start": 0.5,
            "bin_end": 0.6000000000000001,
            "count": 0
           },
           {
            "bin_start": 0.6000000000000001,
            "bin_end": 0.7000000000000001,
            "count": 0
           },
           {
            "bin_start": 0.7000000000000001,
            "bin_end": 0.8,
            "count": 0
           },
           {
            "bin_start": 0.8,
            "bin_end": 0.9,
            "count": 0
           },
           {
            "bin_start": 0.9,
            "bin_end": 1,
            "count": 9
           }
          ]
         }
        },
        {
         "name": "price_inc_debt",
         "dtype": "float64",
         "stats": {
          "unique_count": 20,
          "nan_count": 0,
          "min": "1678207.0",
          "max": "21000000.0",
          "histogram": [
           {
            "bin_start": 1678207,
            "bin_end": 3610386.3,
            "count": 9
           },
           {
            "bin_start": 3610386.3,
            "bin_end": 5542565.6,
            "count": 4
           },
           {
            "bin_start": 5542565.6,
            "bin_end": 7474744.9,
            "count": 3
           },
           {
            "bin_start": 7474744.9,
            "bin_end": 9406924.2,
            "count": 1
           },
           {
            "bin_start": 9406924.2,
            "bin_end": 11339103.5,
            "count": 1
           },
           {
            "bin_start": 11339103.5,
            "bin_end": 13271282.8,
            "count": 0
           },
           {
            "bin_start": 13271282.8,
            "bin_end": 15203462.1,
            "count": 1
           },
           {
            "bin_start": 15203462.1,
            "bin_end": 17135641.4,
            "count": 0
           },
           {
            "bin_start": 17135641.4,
            "bin_end": 19067820.7,
            "count": 0
           },
           {
            "bin_start": 19067820.7,
            "bin_end": 21000000,
            "count": 1
           }
          ]
         }
        },
        {
         "name": "area_id",
         "dtype": "int64",
         "stats": {
          "unique_count": 13,
          "nan_count": 0,
          "min": "1",
          "max": "14",
          "histogram": [
           {
            "bin_start": 1,
            "bin_end": 2.3,
            "count": 5
           },
           {
            "bin_start": 2.3,
            "bin_end": 3.6,
            "count": 2
           },
           {
            "bin_start": 3.6,
            "bin_end": 4.9,
            "count": 1
           },
           {
            "bin_start": 4.9,
            "bin_end": 6.2,
            "count": 2
           },
           {
            "bin_start": 6.2,
            "bin_end": 7.5,
            "count": 1
           },
           {
            "bin_start": 7.5,
            "bin_end": 8.8,
            "count": 1
           },
           {
            "bin_start": 8.8,
            "bin_end": 10.1,
            "count": 1
           },
           {
            "bin_start": 10.1,
            "bin_end": 11.4,
            "count": 1
           },
           {
            "bin_start": 11.4,
            "bin_end": 12.700000000000001,
            "count": 1
           },
           {
            "bin_start": 12.700000000000001,
            "bin_end": 14,
            "count": 5
           }
          ]
         }
        },
        {
         "name": "_deepnote_index_column",
         "dtype": "int64"
        }
       ],
       "rows": [
        {
         "documentDate": "2021-12-02",
         "picturedate": "2021/8",
         "lastchanged": "2021-08-01",
         "adcreated": "2021-07-27",
         "price": 9900000,
         "listprice": 8750000,
         "lat": 59.879,
         "lng": 10.7993,
         "address": "Ringshusveien 8B, 1176 Oslo",
         "apartmentnumber": "H0101",
         "apartmenttype": "B",
         "conveyancetype": "Fritt salg",
         "finncode": 226217549,
         "BRA": 126,
         "PROM": 115,
         "buildyear": 1970,
         "matrikkel": "301-158-751-0",
         "bedrooms": 4,
         "rooms": 5,
         "bathrooms": 1,
         "WC": 2,
         "elevator": "N",
         "floor": 1,
         "housingtype": "Enebolig",
         "commondebt": "nan",
         "commoncosts": "nan",
         "F_Aircondition": "nan",
         "F_Alarm": "nan",
         "F_BalkongTerrasse": 1,
         "F_Barnevennlig": 1,
         "F_Bredbåndstilknytning": "nan",
         "F_Fellesvaskeri": "nan",
         "F_GarasjeP-plass": 1,
         "F_Heis": "nan",
         "F_Ingen gjenboere": "nan",
         "F_Lademulighet": "nan",
         "F_Livsløpsstandard": "nan",
         "F_Moderne": "nan",
         "F_Offentlig vannkloakk": "nan",
         "F_Parkett": "nan",
         "F_PeisIldsted": 1,
         "F_Rolig": 1,
         "F_Sentralt": "nan",
         "F_Utsikt": "nan",
         "F_Vaktmester-vektertjeneste": "nan",
         "F_Bademulighet": "nan",
         "F_Fiskemulighet": "nan",
         "F_Turterreng": 1,
         "adtitle": "Oppussingsobjekt - Enebolig i kjede med skjermet beliggenhet - Vestvendt uteplass - Barnevennlig - …",
         "N_modernisering": false,
         "N_oppussing": true,
         "N_regulert": false,
         "N_garasjemulighet": false,
         "postcode": 1176,
         "Parking": 1,
         "price_inc_debt": 9900000,
         "area_id": 14,
         "_deepnote_index_column": 2
        },
        {
         "documentDate": "2021-05-31",
         "picturedate": "2021/3",
         "lastchanged": "2021-03-19",
         "adcreated": "2021-03-18",
         "price": 6200000,
         "listprice": 6300000,
         "lat": 59.9226,
         "lng": 10.7413,
         "address": "Akersbakken 39, 0172 Oslo",
         "apartmentnumber": "H0304",
         "apartmenttype": "B",
         "conveyancetype": "Fritt salg",
         "finncode": 211640295,
         "BRA": 71,
         "PROM": 71,
         "buildyear": 1991,
         "matrikkel": "301-218-18-25",
         "bedrooms": 2,
         "rooms": 3,
         "bathrooms": 1,
         "WC": 1,
         "elevator": "J",
         "floor": 3,
         "housingtype": "Leilighet",
         "commondebt": 12596,
         "commoncosts": 3271,
         "F_Aircondition": "nan",
         "F_Alarm": "nan",
         "F_BalkongTerrasse": "nan",
         "F_Barnevennlig": 1,
         "F_Bredbåndstilknytning": 1,
         "F_Fellesvaskeri": "nan",
         "F_GarasjeP-plass": "nan",
         "F_Heis": 1,
         "F_Ingen gjenboere": "nan",
         "F_Lademulighet": "nan",
         "F_Livsløpsstandard": "nan",
         "F_Moderne": "nan",
         "F_Offentlig vannkloakk": 1,
         "F_Parkett": 1,
         "F_PeisIldsted": 1,
         "F_Rolig": 1,
         "F_Sentralt": 1,
         "F_Utsikt": "nan",
         "F_Vaktmester-vektertjeneste": 1,
         "F_Bademulighet": "nan",
         "F_Fiskemulighet": "nan",
         "F_Turterreng": 1,
         "adtitle": "Stilren og meget tiltalende 3-roms selveier. 3. etasje med heisadkomst. Beliggende mot rolig bakgår…",
         "N_modernisering": false,
         "N_oppussing": false,
         "N_regulert": false,
         "N_garasjemulighet": false,
         "postcode": 172,
         "Parking": 0,
         "price_inc_debt": 6212596,
         "area_id": 4,
         "_deepnote_index_column": 19
        },
        {
         "documentDate": "2020-09-29",
         "picturedate": "2020/8",
         "lastchanged": "2020-12-14",
         "adcreated": "2020-08-25",
         "price": 3900000,
         "listprice": 3650000,
         "lat": 59.9189,
         "lng": 10.6479,
         "address": "Skogbrynet 16D, 0283 Oslo",
         "apartmentnumber": "U0101",
         "apartmenttype": "B",
         "conveyancetype": "Fritt salg",
         "finncode": 188594072,
         "BRA": 56,
         "PROM": 56,
         "buildyear": 1977,
         "matrikkel": "301-9-38-14",
         "bedrooms": 1,
         "rooms": 2,
         "bathrooms": 1,
         "WC": 1,
         "elevator": "N",
         "floor": 1,
         "housingtype": "Leilighet",
         "commondebt": 44838,
         "commoncosts": 3062,
         "F_Aircondition": "nan",
         "F_Alarm": "nan",
         "F_BalkongTerrasse": 1,
         "F_Barnevennlig": 1,
         "F_Bredbåndstilknytning": 1,
         "F_Fellesvaskeri": "nan",
         "F_GarasjeP-plass": 1,
         "F_Heis": "nan",
         "F_Ingen gjenboere": 1,
         "F_Lademulighet": "nan",
         "F_Livsløpsstandard": "nan",
         "F_Moderne": "nan",
         "F_Offentlig vannkloakk": 1,
         "F_Parkett": 1,
         "F_PeisIldsted": "nan",
         "F_Rolig": 1,
         "F_Sentralt": 1,
         "F_Utsikt": "nan",
         "F_Vaktmester-vektertjeneste": 1,
         "F_Bademulighet": "nan",
         "F_Fiskemulighet": "nan",
         "F_Turterreng": 1,
         "adtitle": "Innbydende og lys 2-roms hjørneleilighet - Vestvendt terrasse mot hage - Parkeringsplass - Rekkehus…",
         "N_modernisering": false,
         "N_oppussing": false,
         "N_regulert": false,
         "N_garasjemulighet": false,
         "postcode": 283,
         "Parking": 1,
         "price_inc_debt": 3944838,
         "area_id": 6,
         "_deepnote_index_column": 1
        },
        {
         "documentDate": "2020-12-15",
         "picturedate": "2020/10",
         "lastchanged": "2020-10-11",
         "adcreated": "2020-10-11",
         "price": 3650000,
         "listprice": 3450000,
         "lat": 59.900898,
         "lng": 10.777195,
         "address": "Ekebergveien 43, 0195 Oslo",
         "apartmentnumber": "H0201",
         "apartmenttype": "B",
         "conveyancetype": "Fritt salg",
         "finncode": 193783344,
         "BRA": 46,
         "PROM": 46,
         "buildyear": 1938,
         "matrikkel": "301-233-151-4",
         "bedrooms": 1,
         "rooms": 2,
         "bathrooms": 0,
         "WC": 0,
         "elevator": "N",
         "floor": 2,
         "housingtype": "Leilighet",
         "commondebt": 111610,
         "commoncosts": 3893,
         "F_Aircondition": "nan",
         "F_Alarm": "nan",
         "F_BalkongTerrasse": 1,
         "F_Barnevennlig": 1,
         "F_Bredbåndstilknytning": 1,
         "F_Fellesvaskeri": 1,
         "F_GarasjeP-plass": "nan",
         "F_Heis": "nan",
         "F_Ingen gjenboere": 1,
         "F_Lademulighet": "nan",
         "F_Livsløpsstandard": "nan",
         "F_Moderne": "nan",
         "F_Offentlig vannkloakk": 1,
         "F_Parkett": 1,
         "F_PeisIldsted": 1,
         "F_Rolig": 1,
         "F_Sentralt": "nan",
         "F_Utsikt": 1,
         "F_Vaktmester-vektertjeneste": "nan",
         "F_Bademulighet": "nan",
         "F_Fiskemulighet": "nan",
         "F_Turterreng": 1,
         "adtitle": "Visning avlyst. Solgt etter bud direkte til selger. Beklager.",
         "N_modernisering": false,
         "N_oppussing": false,
         "N_regulert": false,
         "N_garasjemulighet": false,
         "postcode": 195,
         "Parking": 0,
         "price_inc_debt": 3761610,
         "area_id": 1,
         "_deepnote_index_column": 16
        },
        {
         "documentDate": "2020-09-25",
         "picturedate": "2020/7",
         "lastchanged": "2020-08-07",
         "adcreated": "2020-08-03",
         "price": 5150000,
         "listprice": 4650000,
         "lat": 59.91303,
         "lng": 10.776672,
         "address": "Hagegata 41, 0653 Oslo",
         "apartmentnumber": "H0703",
         "apartmenttype": "B",
         "conveyancetype": "Fritt salg",
         "finncode": 186196629,
         "BRA": 55,
         "PROM": 54,
         "buildyear": 1990,
         "matrikkel": "301-231-166-37",
         "bedrooms": 1,
         "rooms": "nan",
         "bathrooms": 1,
         "WC": 1,
         "elevator": "J",
         "floor": 6,
         "housingtype": "Leilighet",
         "commondebt": "nan",
         "commoncosts": 3127,
         "F_Aircondition": "nan",
         "F_Alarm": "nan",
         "F_BalkongTerrasse": 1,
         "F_Barnevennlig": 1,
         "F_Bredbåndstilknytning": 1,
         "F_Fellesvaskeri": "nan",
         "F_GarasjeP-plass": 1,
         "F_Heis": 1,
         "F_Ingen gjenboere": 1,
         "F_Lademulighet": "nan",
         "F_Livsløpsstandard": "nan",
         "F_Moderne": 1,
         "F_Offentlig vannkloakk": 1,
         "F_Parkett": "nan",
         "F_PeisIldsted": "nan",
         "F_Rolig": 1,
         "F_Sentralt": 1,
         "F_Utsikt": 1,
         "F_Vaktmester-vektertjeneste": 1,
         "F_Bademulighet": "nan",
         "F_Fiskemulighet": "nan",
         "F_Turterreng": "nan",
         "adtitle": "VISNING AVLYST! Direkte bud til selger. Toppleilighet med stor, solrik takterrasse (14 kvm) - Ingen…",
         "N_modernisering": false,
         "N_oppussing": false,
         "N_regulert": false,
         "N_garasjemulighet": false,
         "postcode": 653,
         "Parking": 1,
         "price_inc_debt": 5150000,
         "area_id": 1,
         "_deepnote_index_column": 0
        },
        {
         "documentDate": "2020-11-05",
         "picturedate": "2020/5",
         "lastchanged": "2020-06-17",
         "adcreated": "2020-05-02",
         "price": 13500000,
         "listprice": 15000000,
         "lat": 59.90884,
         "lng": 10.853329,
         "address": "Trasoppterrassen 3A, 0684 Oslo",
         "apartmentnumber": "H0101",
         "apartmenttype": "B",
         "conveyancetype": "Fritt salg",
         "finncode": 177618568,
         "BRA": 571,
         "PROM": 453,
         "buildyear": 1984,
         "matrikkel": "301-143-204-0",
         "bedrooms": 5,
         "rooms": 9,
         "bathrooms": 4,
         "WC": 5,
         "elevator": "N",
         "floor": "nan",
         "housingtype": "Enebolig",
         "commondebt": "nan",
         "commoncosts": "nan",
         "F_Aircondition": "nan",
         "F_Alarm": "nan",
         "F_BalkongTerrasse": 1,
         "F_Barnevennlig": 1,
         "F_Bredbåndstilknytning": 1,
         "F_Fellesvaskeri": "nan",
         "F_GarasjeP-plass": 1,
         "F_Heis": "nan",
         "F_Ingen gjenboere": "nan",
         "F_Lademulighet": "nan",
         "F_Livsløpsstandard": "nan",
         "F_Moderne": 1,
         "F_Offentlig vannkloakk": 1,
         "F_Parkett": 1,
         "F_PeisIldsted": 1,
         "F_Rolig": 1,
         "F_Sentralt": 1,
         "F_Utsikt": 1,
         "F_Vaktmester-vektertjeneste": "nan",
         "F_Bademulighet": "nan",
         "F_Fiskemulighet": "nan",
         "F_Turterreng": 1,
         "adtitle": "Unik eiendom med spektakulær utsikt og solrik beliggenhet - Arkitekttegnet enebolig med 571 kvm bru…",
         "N_modernisering": false,
         "N_oppussing": false,
         "N_regulert": false,
         "N_garasjemulighet": false,
         "postcode": 684,
         "Parking": 1,
         "price_inc_debt": 13500000,
         "area_id": 13,
         "_deepnote_index_column": 14
        },
        {
         "documentDate": "2015-07-08",
         "picturedate": "2015/5",
         "lastchanged": "2020-06-11",
         "adcreated": "2015-05-02",
         "price": 2600000,
         "listprice": 2190000,
         "lat": 59.93444,
         "lng": 10.774304,
         "address": "Edmund Neuperts gate 3, 0475 Oslo",
         "apartmentnumber": "H0302",
         "apartmenttype": "B",
         "conveyancetype": "Fritt salg",
         "finncode": 58788725,
         "BRA": 40,
         "PROM": 40,
         "buildyear": 1925,
         "matrikkel": "301-225-9-13",
         "bedrooms": 1,
         "rooms": 2,
         "bathrooms": 0,
         "WC": 0,
         "elevator": "N",
         "floor": 3,
         "housingtype": "Leilighet",
         "commondebt": 85111,
         "commoncosts": 1963,
         "F_Aircondition": "nan",
         "F_Alarm": "nan",
         "F_BalkongTerrasse": "nan",
         "F_Barnevennlig": "nan",
         "F_Bredbåndstilknytning": 1,
         "F_Fellesvaskeri": 1,
         "F_GarasjeP-plass": "nan",
         "F_Heis": "nan",
         "F_Ingen gjenboere": 1,
         "F_Lademulighet": "nan",
         "F_Livsløpsstandard": "nan",
         "F_Moderne": 1,
         "F_Offentlig vannkloakk": 1,
         "F_Parkett": "nan",
         "F_PeisIldsted": 1,
         "F_Rolig": 1,
         "F_Sentralt": 1,
         "F_Utsikt": 1,
         "F_Vaktmester-vektertjeneste": 1,
         "F_Bademulighet": "nan",
         "F_Fiskemulighet": "nan",
         "F_Turterreng": 1,
         "adtitle": "TORSHOV - STRØKEN 2-ROMS I 3.ETG. I POPULÆRE \" ENGLEGÅRDEN\". LEKKERT FLISLAGT BAD. MODERNE KJØKKEN.…",
         "N_modernisering": false,
         "N_oppussing": false,
         "N_regulert": false,
         "N_garasjemulighet": false,
         "postcode": 475,
         "Parking": 0,
         "price_inc_debt": 2685111,
         "area_id": 3,
         "_deepnote_index_column": 5
        },
        {
         "documentDate": "2011-12-14",
         "picturedate": "2011/10",
         "lastchanged": "2019-02-24",
         "adcreated": "2011-10-13",
         "price": 1925000,
         "listprice": 1990000,
         "lat": 59.948322,
         "lng": 10.766691,
         "address": "Nydalen Allé 5, 0484 Oslo",
         "apartmentnumber": "H0209",
         "apartmenttype": "B",
         "conveyancetype": "Fritt salg",
         "finncode": 31197222,
         "BRA": 35,
         "PROM": 35,
         "buildyear": 2006,
         "matrikkel": "301-77-382-54",
         "bedrooms": 1,
         "rooms": 1,
         "bathrooms": 1,
         "WC": 1,
         "elevator": "J",
         "floor": 2,
         "housingtype": "Leilighet",
         "commondebt": "nan",
         "commoncosts": 1317,
         "F_Aircondition": "nan",
         "F_Alarm": "nan",
         "F_BalkongTerrasse": 1,
         "F_Barnevennlig": "nan",
         "F_Bredbåndstilknytning": 1,
         "F_Fellesvaskeri": "nan",
         "F_GarasjeP-plass": "nan",
         "F_Heis": 1,
         "F_Ingen gjenboere": "nan",
         "F_Lademulighet": "nan",
         "F_Livsløpsstandard": "nan",
         "F_Moderne": "nan",
         "F_Offentlig vannkloakk": "nan",
         "F_Parkett": 1,
         "F_PeisIldsted": "nan",
         "F_Rolig": 1,
         "F_Sentralt": 1,
         "F_Utsikt": "nan",
         "F_Vaktmester-vektertjeneste": "nan",
         "F_Bademulighet": "nan",
         "F_Fiskemulighet": "nan",
         "F_Turterreng": 1,
         "adtitle": "Solsiden i Nydalen - Lys og pen eierleilighet i 2.etasje med stor vestvendt balkong.",
         "N_modernisering": false,
         "N_oppussing": false,
         "N_regulert": false,
         "N_garasjemulighet": false,
         "postcode": 484,
         "Parking": 0,
         "price_inc_debt": 1925000,
         "area_id": 8,
         "_deepnote_index_column": 8
        },
        {
         "documentDate": "2012-09-04",
         "picturedate": "2012/8",
         "lastchanged": "2019-02-24",
         "adcreated": "2012-08-08",
         "price": 2400000,
         "listprice": 1990000,
         "lat": 59.943737,
         "lng": 10.774553,
         "address": "Grefsenveien 30 A, 0485 Oslo",
         "apartmentnumber": "H0403",
         "apartmenttype": "B",
         "conveyancetype": "Fritt salg",
         "finncode": 36454379,
         "BRA": 46,
         "PROM": 46,
         "buildyear": 1935,
         "matrikkel": "301-76-5-29",
         "bedrooms": 1,
         "rooms": 2,
         "bathrooms": 1,
         "WC": 1,
         "elevator": "N",
         "floor": 4,
         "housingtype": "Leilighet",
         "commondebt": 164865,
         "commoncosts": 3606,
         "F_Aircondition": "nan",
         "F_Alarm": "nan",
         "F_BalkongTerrasse": 1,
         "F_Barnevennlig": "nan",
         "F_Bredbåndstilknytning": 1,
         "F_Fellesvaskeri": 1,
         "F_GarasjeP-plass": 1,
         "F_Heis": "nan",
         "F_Ingen gjenboere": "nan",
         "F_Lademulighet": "nan",
         "F_Livsløpsstandard": "nan",
         "F_Moderne": "nan",
         "F_Offentlig vannkloakk": "nan",
         "F_Parkett": 1,
         "F_PeisIldsted": "nan",
         "F_Rolig": "nan",
         "F_Sentralt": 1,
         "F_Utsikt": "nan",
         "F_Vaktmester-vektertjeneste": "nan",
         "F_Bademulighet": "nan",
         "F_Fiskemulighet": "nan",
         "F_Turterreng": 1,
         "adtitle": "Sandaker/Storo - Oppusset og attraktiv 2 roms med parkering og solrik balkong. Alt oppusset i 2007/…",
         "N_modernisering": false,
         "N_oppussing": false,
         "N_regulert": false,
         "N_garasjemulighet": false,
         "postcode": 485,
         "Parking": 1,
         "price_inc_debt": 2564865,
         "area_id": 3,
         "_deepnote_index_column": 11
        },
        {
         "documentDate": "2019-05-06",
         "picturedate": "2019/2",
         "lastchanged": "2019-02-15",
         "adcreated": "2019-01-25",
         "price": 8450000,
         "listprice": 7800000,
         "lat": 59.873753,
         "lng": 10.808472,
         "address": "Radarveien 78 C, 1163 Oslo",
         "apartmentnumber": "H0201",
         "apartmenttype": "B",
         "conveyancetype": "Fritt salg",
         "finncode": 138940366,
         "BRA": 113,
         "PROM": 113,
         "buildyear": 2012,
         "matrikkel": "301-159-128-2",
         "bedrooms": 3,
         "rooms": 4,
         "bathrooms": 1,
         "WC": 1,
         "elevator": "N",
         "floor": 2,
         "housingtype": "Tomannsbolig",
         "commondebt": "nan",
         "commoncosts": 1750,
         "F_Aircondition": 1,
         "F_Alarm": "nan",
         "F_BalkongTerrasse": 1,
         "F_Barnevennlig": 1,
         "F_Bredbåndstilknytning": 1,
         "F_Fellesvaskeri": "nan",
         "F_GarasjeP-plass": 1,
         "F_Heis": "nan",
         "F_Ingen gjenboere": 1,
         "F_Lademulighet": "nan",
         "F_Livsløpsstandard": "nan",
         "F_Moderne": 1,
         "F_Offentlig vannkloakk": 1,
         "F_Parkett": 1,
         "F_PeisIldsted": "nan",
         "F_Rolig": 1,
         "F_Sentralt": 1,
         "F_Utsikt": 1,
         "F_Vaktmester-vektertjeneste": "nan",
         "F_Bademulighet": "nan",
         "F_Fiskemulighet": "nan",
         "F_Turterreng": "nan",
         "adtitle": "LAMBERTSETER/NORDSTRAND: Lys og luftig 1/2 av tomannsbolig m/flott utsikt. Stor veranda. Garasje. A…",
         "N_modernisering": false,
         "N_oppussing": false,
         "N_regulert": false,
         "N_garasjemulighet": false,
         "postcode": 1163,
         "Parking": 1,
         "price_inc_debt": 8450000,
         "area_id": 14,
         "_deepnote_index_column": 10
        },
        {
         "documentDate": "2018-08-16",
         "picturedate": "2018/6",
         "lastchanged": "2018-06-27",
         "adcreated": "2018-05-31",
         "price": 2950000,
         "listprice": 2600000,
         "lat": 59.9113,
         "lng": 10.777734,
         "address": "Kjølberggata 17 B, 0653 Oslo",
         "apartmentnumber": "H0402",
         "apartmenttype": "B",
         "conveyancetype": "Fritt salg",
         "finncode": 121536606,
         "BRA": 34,
         "PROM": 34,
         "buildyear": 1899,
         "matrikkel": "301-231-253-19",
         "bedrooms": 1,
         "rooms": "nan",
         "bathrooms": 1,
         "WC": 1,
         "elevator": "N",
         "floor": 4,
         "housingtype": "Leilighet",
         "commondebt": 54525,
         "commoncosts": 2381,
         "F_Aircondition": "nan",
         "F_Alarm": "nan",
         "F_BalkongTerrasse": "nan",
         "F_Barnevennlig": "nan",
         "F_Bredbåndstilknytning": 1,
         "F_Fellesvaskeri": "nan",
         "F_GarasjeP-plass": "nan",
         "F_Heis": "nan",
         "F_Ingen gjenboere": "nan",
         "F_Lademulighet": "nan",
         "F_Livsløpsstandard": "nan",
         "F_Moderne": 1,
         "F_Offentlig vannkloakk": 1,
         "F_Parkett": 1,
         "F_PeisIldsted": "nan",
         "F_Rolig": "nan",
         "F_Sentralt": 1,
         "F_Utsikt": 1,
         "F_Vaktmester-vektertjeneste": 1,
         "F_Bademulighet": "nan",
         "F_Fiskemulighet": "nan",
         "F_Turterreng": 1,
         "adtitle": "NEDRE KAMPEN/ TØYEN - Lys og sjarmerende 1-roms med god planløsning - Attraktiv beliggenhet - Mulig…",
         "N_modernisering": false,
         "N_oppussing": false,
         "N_regulert": false,
         "N_garasjemulighet": false,
         "postcode": 653,
         "Parking": 0,
         "price_inc_debt": 3004525,
         "area_id": 1,
         "_deepnote_index_column": 15
        },
        {
         "documentDate": "2017-03-06",
         "picturedate": "2016/12",
         "lastchanged": "2016-12-11",
         "adcreated": "2016-12-02",
         "price": 3390000,
         "listprice": 3090000,
         "lat": 59.965298,
         "lng": 10.921401,
         "address": "Ellen Gleditch vei 4, 0987 Oslo",
         "apartmentnumber": "H0301",
         "apartmenttype": "B",
         "conveyancetype": "Fritt salg",
         "finncode": 87103256,
         "BRA": 97,
         "PROM": 85,
         "buildyear": 1970,
         "matrikkel": "301-99-44-123",
         "bedrooms": 3,
         "rooms": 4,
         "bathrooms": 1,
         "WC": 2,
         "elevator": "N",
         "floor": 3,
         "housingtype": "Leilighet",
         "commondebt": 69535,
         "commoncosts": 2730,
         "F_Aircondition": "nan",
         "F_Alarm": "nan",
         "F_BalkongTerrasse": "nan",
         "F_Barnevennlig": "nan",
         "F_Bredbåndstilknytning": "nan",
         "F_Fellesvaskeri": "nan",
         "F_GarasjeP-plass": "nan",
         "F_Heis": "nan",
         "F_Ingen gjenboere": "nan",
         "F_Lademulighet": "nan",
         "F_Livsløpsstandard": "nan",
         "F_Moderne": "nan",
         "F_Offentlig vannkloakk": "nan",
         "F_Parkett": "nan",
         "F_PeisIldsted": "nan",
         "F_Rolig": "nan",
         "F_Sentralt": "nan",
         "F_Utsikt": "nan",
         "F_Vaktmester-vektertjeneste": "nan",
         "F_Bademulighet": "nan",
         "F_Fiskemulighet": "nan",
         "F_Turterreng": "nan",
         "adtitle": "BOLIGEN ER SOLGT. VISNING AVLYST",
         "N_modernisering": false,
         "N_oppussing": false,
         "N_regulert": false,
         "N_garasjemulighet": false,
         "postcode": 987,
         "Parking": 0,
         "price_inc_debt": 3459535,
         "area_id": 11,
         "_deepnote_index_column": 7
        },
        {
         "documentDate": "2015-12-02",
         "picturedate": "2015/8",
         "lastchanged": "2015-08-27",
         "adcreated": "2015-08-07",
         "price": 5350000,
         "listprice": 4390000,
         "lat": 59.95471,
         "lng": 10.856106,
         "address": "Sølve Solfengs vei 27 B, 0956 Oslo",
         "apartmentnumber": "H0101",
         "apartmenttype": "B",
         "conveyancetype": "Fritt salg",
         "finncode": 62678805,
         "BRA": 134,
         "PROM": 123,
         "buildyear": 1961,
         "matrikkel": "301-90-491-0",
         "bedrooms": 3,
         "rooms": 5,
         "bathrooms": 1,
         "WC": 1,
         "elevator": "N",
         "floor": "nan",
         "housingtype": "Rekkehus",
         "commondebt": "nan",
         "commoncosts": "nan",
         "F_Aircondition": "nan",
         "F_Alarm": "nan",
         "F_BalkongTerrasse": 1,
         "F_Barnevennlig": 1,
         "F_Bredbåndstilknytning": 1,
         "F_Fellesvaskeri": "nan",
         "F_GarasjeP-plass": 1,
         "F_Heis": "nan",
         "F_Ingen gjenboere": 1,
         "F_Lademulighet": "nan",
         "F_Livsløpsstandard": "nan",
         "F_Moderne": 1,
         "F_Offentlig vannkloakk": 1,
         "F_Parkett": 1,
         "F_PeisIldsted": 1,
         "F_Rolig": 1,
         "F_Sentralt": 1,
         "F_Utsikt": 1,
         "F_Vaktmester-vektertjeneste": "nan",
         "F_Bademulighet": "nan",
         "F_Fiskemulighet": "nan",
         "F_Turterreng": 1,
         "adtitle": "Rødtvet - Lekkert rekkehus m/garasje, solrike terrasser, idyllisk hage og nydelig utsikt - Barneven…",
         "N_modernisering": false,
         "N_oppussing": false,
         "N_regulert": false,
         "N_garasjemulighet": false,
         "postcode": 956,
         "Parking": 1,
         "price_inc_debt": 5350000,
         "area_id": 10,
         "_deepnote_index_column": 9
        },
        {
         "documentDate": "2014-05-21",
         "picturedate": "2014/2",
         "lastchanged": "2014-03-01",
         "adcreated": "2014-02-15",
         "price": 5775000,
         "listprice": 5690000,
         "lat": 59.93454,
         "lng": 10.796455,
         "address": "Liljeveien 15, 0585 Oslo",
         "apartmentnumber": "H0101",
         "apartmenttype": "B",
         "conveyancetype": "Fritt salg",
         "finncode": 46728572,
         "BRA": "nan",
         "PROM": 139,
         "buildyear": 1937,
         "matrikkel": "301-83-217-0",
         "bedrooms": 3,
         "rooms": 5,
         "bathrooms": 1,
         "WC": 1,
         "elevator": "N",
         "floor": "nan",
         "housingtype": "Enebolig",
         "commondebt": "nan",
         "commoncosts": "nan",
         "F_Aircondition": "nan",
         "F_Alarm": "nan",
         "F_BalkongTerrasse": "nan",
         "F_Barnevennlig": 1,
         "F_Bredbåndstilknytning": "nan",
         "F_Fellesvaskeri": "nan",
         "F_GarasjeP-plass": 1,
         "F_Heis": "nan",
         "F_Ingen gjenboere": "nan",
         "F_Lademulighet": "nan",
         "F_Livsløpsstandard": "nan",
         "F_Moderne": "nan",
         "F_Offentlig vannkloakk": 1,
         "F_Parkett": 1,
         "F_PeisIldsted": 1,
         "F_Rolig": 1,
         "F_Sentralt": "nan",
         "F_Utsikt": "nan",
         "F_Vaktmester-vektertjeneste": "nan",
         "F_Bademulighet": "nan",
         "F_Fiskemulighet": "nan",
         "F_Turterreng": "nan",
         "adtitle": "REFSTAD: Enebolig / Generasjonsbolig / Utleiemulighet - Garasje og solrik hage - Sentralt og meget …",
         "N_modernisering": false,
         "N_oppussing": false,
         "N_regulert": false,
         "N_garasjemulighet": false,
         "postcode": 585,
         "Parking": 1,
         "price_inc_debt": 5775000,
         "area_id": 2,
         "_deepnote_index_column": 12
        },
        {
         "documentDate": "2013-11-12",
         "picturedate": "2013/8",
         "lastchanged": "2013-09-13",
         "adcreated": "2013-08-21",
         "price": 21000000,
         "listprice": 24000000,
         "lat": 59.952496,
         "lng": 10.686596,
         "address": "Bjørnveien 53, 0774 Oslo",
         "apartmentnumber": "H0101",
         "apartmenttype": "B",
         "conveyancetype": "Fritt salg",
         "finncode": 43507737,
         "BRA": 443,
         "PROM": 354,
         "buildyear": 1932,
         "matrikkel": "301-33-628-0",
         "bedrooms": 5,
         "rooms": "nan",
         "bathrooms": 1,
         "WC": 1,
         "elevator": "N",
         "floor": "nan",
         "housingtype": "Enebolig",
         "commondebt": "nan",
         "commoncosts": "nan",
         "F_Aircondition": "nan",
         "F_Alarm": "nan",
         "F_BalkongTerrasse": 1,
         "F_Barnevennlig": 1,
         "F_Bredbåndstilknytning": 1,
         "F_Fellesvaskeri": "nan",
         "F_GarasjeP-plass": 1,
         "F_Heis": "nan",
         "F_Ingen gjenboere": 1,
         "F_Lademulighet": "nan",
         "F_Livsløpsstandard": "nan",
         "F_Moderne": "nan",
         "F_Offentlig vannkloakk": 1,
         "F_Parkett": 1,
         "F_PeisIldsted": 1,
         "F_Rolig": 1,
         "F_Sentralt": "nan",
         "F_Utsikt": "nan",
         "F_Vaktmester-vektertjeneste": "nan",
         "F_Bademulighet": "nan",
         "F_Fiskemulighet": "nan",
         "F_Turterreng": "nan",
         "adtitle": "SLEMDAL - Herskapsvilla med nydelig tomt på 2,2 mål. Velholdt og innholdsrikt. Integrert dobbelgara…",
         "N_modernisering": false,
         "N_oppussing": false,
         "N_regulert": false,
         "N_garasjemulighet": false,
         "postcode": 774,
         "Parking": 1,
         "price_inc_debt": 21000000,
         "area_id": 7,
         "_deepnote_index_column": 13
        },
        {
         "documentDate": "2012-10-24",
         "picturedate": "2012/6",
         "lastchanged": "2012-06-15",
         "adcreated": "2012-06-01",
         "price": 5760000,
         "listprice": 5490000,
         "lat": 59.944653,
         "lng": 10.888134,
         "address": "Micheletveien 20, 1053 Oslo",
         "apartmentnumber": "U0102",
         "apartmenttype": "B",
         "conveyancetype": "Fritt salg",
         "finncode": 35251134,
         "BRA": 249,
         "PROM": 242,
         "buildyear": 1977,
         "matrikkel": "301-105-334-0",
         "bedrooms": 5,
         "rooms": 10,
         "bathrooms": 1,
         "WC": 1,
         "elevator": "N",
         "floor": "nan",
         "housingtype": "Enebolig",
         "commondebt": "nan",
         "commoncosts": "nan",
         "F_Aircondition": "nan",
         "F_Alarm": "nan",
         "F_BalkongTerrasse": "nan",
         "F_Barnevennlig": "nan",
         "F_Bredbåndstilknytning": "nan",
         "F_Fellesvaskeri": "nan",
         "F_GarasjeP-plass": "nan",
         "F_Heis": "nan",
         "F_Ingen gjenboere": "nan",
         "F_Lademulighet": "nan",
         "F_Livsløpsstandard": "nan",
         "F_Moderne": "nan",
         "F_Offentlig vannkloakk": "nan",
         "F_Parkett": "nan",
         "F_PeisIldsted": "nan",
         "F_Rolig": "nan",
         "F_Sentralt": "nan",
         "F_Utsikt": "nan",
         "F_Vaktmester-vektertjeneste": "nan",
         "F_Bademulighet": "nan",
         "F_Fiskemulighet": "nan",
         "F_Turterreng": "nan",
         "adtitle": "GAMLE FURUSET - Velholdt og romslig enebolig med sokkelleilighet - Dobbeltgarasje - Tomt på 1.140m2…",
         "N_modernisering": false,
         "N_oppussing": false,
         "N_regulert": false,
         "N_garasjemulighet": false,
         "postcode": 1053,
         "Parking": 0,
         "price_inc_debt": 5760000,
         "area_id": 12,
         "_deepnote_index_column": 4
        },
        {
         "documentDate": "2010-06-24",
         "picturedate": "6/221",
         "lastchanged": "2010-05-14",
         "adcreated": "2010-05-06",
         "price": 2450000,
         "listprice": 2500000,
         "lat": 59.924786,
         "lng": 10.728049,
         "address": "Underhaugsveien 9 C, 0354 Oslo",
         "apartmentnumber": "H0201",
         "apartmenttype": "B",
         "conveyancetype": "Fritt salg",
         "finncode": 22195956,
         "BRA": 53,
         "PROM": 53,
         "buildyear": 1895,
         "matrikkel": "301-214-361-8",
         "bedrooms": 1,
         "rooms": "nan",
         "bathrooms": 1,
         "WC": 1,
         "elevator": "N",
         "floor": 2,
         "housingtype": "Leilighet",
         "commondebt": 511,
         "commoncosts": 1276,
         "F_Aircondition": "nan",
         "F_Alarm": "nan",
         "F_BalkongTerrasse": "nan",
         "F_Barnevennlig": "nan",
         "F_Bredbåndstilknytning": "nan",
         "F_Fellesvaskeri": "nan",
         "F_GarasjeP-plass": "nan",
         "F_Heis": "nan",
         "F_Ingen gjenboere": "nan",
         "F_Lademulighet": "nan",
         "F_Livsløpsstandard": "nan",
         "F_Moderne": "nan",
         "F_Offentlig vannkloakk": "nan",
         "F_Parkett": 1,
         "F_PeisIldsted": 1,
         "F_Rolig": 1,
         "F_Sentralt": 1,
         "F_Utsikt": "nan",
         "F_Vaktmester-vektertjeneste": "nan",
         "F_Bademulighet": "nan",
         "F_Fiskemulighet": "nan",
         "F_Turterreng": "nan",
         "adtitle": "MAJORSTUEN - Tiltalende selveier med sentral beliggenhet. Peisovn. Lave fellesutgifter.",
         "N_modernisering": false,
         "N_oppussing": false,
         "N_regulert": false,
         "N_garasjemulighet": false,
         "postcode": 354,
         "Parking": 0,
         "price_inc_debt": 2450511,
         "area_id": 5,
         "_deepnote_index_column": 17
        },
        {
         "documentDate": "2010-07-02",
         "picturedate": "4/218",
         "lastchanged": "2010-04-29",
         "adcreated": "2010-04-17",
         "price": 2030000,
         "listprice": 2100000,
         "lat": 59.924435,
         "lng": 10.75756,
         "address": "Markveien 24, 0554 Oslo",
         "apartmentnumber": "H0302",
         "apartmenttype": "B",
         "conveyancetype": "Fritt salg",
         "finncode": 21877374,
         "BRA": "nan",
         "PROM": 47,
         "buildyear": 1893,
         "matrikkel": "301-228-168-8",
         "bedrooms": 2,
         "rooms": 3,
         "bathrooms": 1,
         "WC": 2,
         "elevator": "N",
         "floor": 3,
         "housingtype": "Leilighet",
         "commondebt": "nan",
         "commoncosts": 2205,
         "F_Aircondition": "nan",
         "F_Alarm": "nan",
         "F_BalkongTerrasse": "nan",
         "F_Barnevennlig": 1,
         "F_Bredbåndstilknytning": "nan",
         "F_Fellesvaskeri": "nan",
         "F_GarasjeP-plass": "nan",
         "F_Heis": "nan",
         "F_Ingen gjenboere": "nan",
         "F_Lademulighet": "nan",
         "F_Livsløpsstandard": "nan",
         "F_Moderne": "nan",
         "F_Offentlig vannkloakk": "nan",
         "F_Parkett": 1,
         "F_PeisIldsted": "nan",
         "F_Rolig": "nan",
         "F_Sentralt": "nan",
         "F_Utsikt": "nan",
         "F_Vaktmester-vektertjeneste": "nan",
         "F_Bademulighet": "nan",
         "F_Fiskemulighet": "nan",
         "F_Turterreng": "nan",
         "adtitle": "GRÜNERLØKKA: Lys, moderne og nyoppusset 3-roms selveier - Lekkert kjøkken og bad. Hjørneleilighet -…",
         "N_modernisering": false,
         "N_oppussing": false,
         "N_regulert": false,
         "N_garasjemulighet": false,
         "postcode": 554,
         "Parking": 0,
         "price_inc_debt": 2030000,
         "area_id": 2,
         "_deepnote_index_column": 18
        },
        {
         "documentDate": "2009-11-12",
         "picturedate": "4/186",
         "lastchanged": "2009-09-05",
         "adcreated": "2009-08-24",
         "price": 1660000,
         "listprice": 1680000,
         "lat": 59.88769,
         "lng": 10.802634,
         "address": "Libakkfaret 1 A, 1184 Oslo",
         "apartmentnumber": "H0302",
         "apartmenttype": "B",
         "conveyancetype": "Fritt salg",
         "finncode": 18679054,
         "BRA": "nan",
         "PROM": 66,
         "buildyear": 1954,
         "matrikkel": "301-149-433-102",
         "bedrooms": 2,
         "rooms": "nan",
         "bathrooms": 1,
         "WC": 1,
         "elevator": "N",
         "floor": 3,
         "housingtype": "Leilighet",
         "commondebt": 18207,
         "commoncosts": 2866,
         "F_Aircondition": "nan",
         "F_Alarm": "nan",
         "F_BalkongTerrasse": 1,
         "F_Barnevennlig": 1,
         "F_Bredbåndstilknytning": "nan",
         "F_Fellesvaskeri": "nan",
         "F_GarasjeP-plass": "nan",
         "F_Heis": "nan",
         "F_Ingen gjenboere": 1,
         "F_Lademulighet": "nan",
         "F_Livsløpsstandard": "nan",
         "F_Moderne": "nan",
         "F_Offentlig vannkloakk": 1,
         "F_Parkett": 1,
         "F_PeisIldsted": "nan",
         "F_Rolig": 1,
         "F_Sentralt": "nan",
         "F_Utsikt": 1,
         "F_Vaktmester-vektertjeneste": 1,
         "F_Bademulighet": "nan",
         "F_Fiskemulighet": "nan",
         "F_Turterreng": "nan",
         "adtitle": "BRATTLIKOLLEN - Lys og gjennomgående 3-roms selveier - Endeleilighet - Balkong - Sentralt - Ingen f…",
         "N_modernisering": false,
         "N_oppussing": false,
         "N_regulert": false,
         "N_garasjemulighet": false,
         "postcode": 1184,
         "Parking": 0,
         "price_inc_debt": 1678207,
         "area_id": 14,
         "_deepnote_index_column": 3
        },
        {
         "documentDate": "2008-07-25",
         "picturedate": "9/139",
         "lastchanged": "2008-07-06",
         "adcreated": "2008-06-27",
         "price": 2550000,
         "listprice": 2600000,
         "lat": 59.889133,
         "lng": 10.778798,
         "address": "Høgdefaret 10, 1178 Oslo",
         "apartmentnumber": "H0102",
         "apartmenttype": "B",
         "conveyancetype": "Fritt salg",
         "finncode": 13919459,
         "BRA": 66,
         "PROM": 61,
         "buildyear": 1928,
         "matrikkel": "301-151-98-2",
         "bedrooms": 1,
         "rooms": 2,
         "bathrooms": 1,
         "WC": 1,
         "elevator": "N",
         "floor": 1,
         "housingtype": "Leilighet",
         "commondebt": "nan",
         "commoncosts": 1200,
         "F_Aircondition": "nan",
         "F_Alarm": "nan",
         "F_BalkongTerrasse": "nan",
         "F_Barnevennlig": "nan",
         "F_Bredbåndstilknytning": "nan",
         "F_Fellesvaskeri": "nan",
         "F_GarasjeP-plass": "nan",
         "F_Heis": "nan",
         "F_Ingen gjenboere": "nan",
         "F_Lademulighet": "nan",
         "F_Livsløpsstandard": "nan",
         "F_Moderne": "nan",
         "F_Offentlig vannkloakk": "nan",
         "F_Parkett": "nan",
         "F_PeisIldsted": "nan",
         "F_Rolig": "nan",
         "F_Sentralt": "nan",
         "F_Utsikt": "nan",
         "F_Vaktmester-vektertjeneste": "nan",
         "F_Bademulighet": "nan",
         "F_Fiskemulighet": "nan",
         "F_Turterreng": "nan",
         "adtitle": "Holtet Hageby - 1/4 part av firemannsbolig . påbygningsmulighet  -vestvendt terrasse  og hage",
         "N_modernisering": false,
         "N_oppussing": false,
         "N_regulert": false,
         "N_garasjemulighet": false,
         "postcode": 1178,
         "Parking": 0,
         "price_inc_debt": 2550000,
         "area_id": 14,
         "_deepnote_index_column": 6
        }
       ]
      },
      "text/plain": "   documentDate picturedate lastchanged   adcreated     price   listprice  \\\n0    2020-09-25      2020/7  2020-08-07  2020-08-03   5150000   4650000.0   \n1    2020-09-29      2020/8  2020-12-14  2020-08-25   3900000   3650000.0   \n2    2021-12-02      2021/8  2021-08-01  2021-07-27   9900000   8750000.0   \n3    2009-11-12       4/186  2009-09-05  2009-08-24   1660000   1680000.0   \n4    2012-10-24      2012/6  2012-06-15  2012-06-01   5760000   5490000.0   \n5    2015-07-08      2015/5  2020-06-11  2015-05-02   2600000   2190000.0   \n6    2008-07-25       9/139  2008-07-06  2008-06-27   2550000   2600000.0   \n7    2017-03-06     2016/12  2016-12-11  2016-12-02   3390000   3090000.0   \n8    2011-12-14     2011/10  2019-02-24  2011-10-13   1925000   1990000.0   \n9    2015-12-02      2015/8  2015-08-27  2015-08-07   5350000   4390000.0   \n10   2019-05-06      2019/2  2019-02-15  2019-01-25   8450000   7800000.0   \n11   2012-09-04      2012/8  2019-02-24  2012-08-08   2400000   1990000.0   \n12   2014-05-21      2014/2  2014-03-01  2014-02-15   5775000   5690000.0   \n13   2013-11-12      2013/8  2013-09-13  2013-08-21  21000000  24000000.0   \n14   2020-11-05      2020/5  2020-06-17  2020-05-02  13500000  15000000.0   \n15   2018-08-16      2018/6  2018-06-27  2018-05-31   2950000   2600000.0   \n16   2020-12-15     2020/10  2020-10-11  2020-10-11   3650000   3450000.0   \n17   2010-06-24       6/221  2010-05-14  2010-05-06   2450000   2500000.0   \n18   2010-07-02       4/218  2010-04-29  2010-04-17   2030000   2100000.0   \n19   2021-05-31      2021/3  2021-03-19  2021-03-18   6200000   6300000.0   \n\n          lat        lng                             address apartmentnumber  \\\n0   59.913030  10.776672              Hagegata 41, 0653 Oslo           H0703   \n1   59.918900  10.647900           Skogbrynet 16D, 0283 Oslo           U0101   \n2   59.879000  10.799300         Ringshusveien 8B, 1176 Oslo           H0101   \n3   59.887690  10.802634          Libakkfaret 1 A, 1184 Oslo           H0302   \n4   59.944653  10.888134         Micheletveien 20, 1053 Oslo           U0102   \n5   59.934440  10.774304   Edmund Neuperts gate 3, 0475 Oslo           H0302   \n6   59.889133  10.778798            Høgdefaret 10, 1178 Oslo           H0102   \n7   59.965298  10.921401     Ellen Gleditch vei 4, 0987 Oslo           H0301   \n8   59.948322  10.766691           Nydalen Allé 5, 0484 Oslo           H0209   \n9   59.954710  10.856106  Sølve Solfengs vei 27 B, 0956 Oslo           H0101   \n10  59.873753  10.808472          Radarveien 78 C, 1163 Oslo           H0201   \n11  59.943737  10.774553        Grefsenveien 30 A, 0485 Oslo           H0403   \n12  59.934540  10.796455            Liljeveien 15, 0585 Oslo           H0101   \n13  59.952496  10.686596            Bjørnveien 53, 0774 Oslo           H0101   \n14  59.908840  10.853329      Trasoppterrassen 3A, 0684 Oslo           H0101   \n15  59.911300  10.777734        Kjølberggata 17 B, 0653 Oslo           H0402   \n16  59.900898  10.777195          Ekebergveien 43, 0195 Oslo           H0201   \n17  59.924786  10.728049      Underhaugsveien 9 C, 0354 Oslo           H0201   \n18  59.924435  10.757560             Markveien 24, 0554 Oslo           H0302   \n19  59.922600  10.741300           Akersbakken 39, 0172 Oslo           H0304   \n\n    ... F_Turterreng                                            adtitle  \\\n0   ...          NaN  VISNING AVLYST! Direkte bud til selger. Topple...   \n1   ...          1.0  Innbydende og lys 2-roms hjørneleilighet - Ves...   \n2   ...          1.0  Oppussingsobjekt - Enebolig i kjede med skjerm...   \n3   ...          NaN  BRATTLIKOLLEN - Lys og gjennomgående 3-roms se...   \n4   ...          NaN  GAMLE FURUSET - Velholdt og romslig enebolig m...   \n5   ...          1.0  TORSHOV - STRØKEN 2-ROMS I 3.ETG. I POPULÆRE \"...   \n6   ...          NaN  Holtet Hageby - 1/4 part av firemannsbolig . p...   \n7   ...          NaN                   BOLIGEN ER SOLGT. VISNING AVLYST   \n8   ...          1.0  Solsiden i Nydalen - Lys og pen eierleilighet ...   \n9   ...          1.0  Rødtvet - Lekkert rekkehus m/garasje, solrike ...   \n10  ...          NaN  LAMBERTSETER/NORDSTRAND: Lys og luftig 1/2 av ...   \n11  ...          1.0  Sandaker/Storo - Oppusset og attraktiv 2 roms ...   \n12  ...          NaN  REFSTAD: Enebolig / Generasjonsbolig / Utleiem...   \n13  ...          NaN  SLEMDAL - Herskapsvilla med nydelig tomt på 2,...   \n14  ...          1.0  Unik eiendom med spektakulær utsikt og solrik ...   \n15  ...          1.0  NEDRE KAMPEN/ TØYEN - Lys og sjarmerende 1-rom...   \n16  ...          1.0  Visning avlyst. Solgt etter bud direkte til se...   \n17  ...          NaN  MAJORSTUEN - Tiltalende selveier med sentral b...   \n18  ...          NaN  GRÜNERLØKKA: Lys, moderne og nyoppusset 3-roms...   \n19  ...          1.0  Stilren og meget tiltalende 3-roms selveier. 3...   \n\n    N_modernisering  N_oppussing  N_regulert  N_garasjemulighet postcode  \\\n0             False        False       False              False      653   \n1             False        False       False              False      283   \n2             False         True       False              False     1176   \n3             False        False       False              False     1184   \n4             False        False       False              False     1053   \n5             False        False       False              False      475   \n6             False        False       False              False     1178   \n7             False        False       False              False      987   \n8             False        False       False              False      484   \n9             False        False       False              False      956   \n10            False        False       False              False     1163   \n11            False        False       False              False      485   \n12            False        False       False              False      585   \n13            False        False       False              False      774   \n14            False        False       False              False      684   \n15            False        False       False              False      653   \n16            False        False       False              False      195   \n17            False        False       False              False      354   \n18            False        False       False              False      554   \n19            False        False       False              False      172   \n\n    Parking  price_inc_debt  area_id  \n0         1       5150000.0        1  \n1         1       3944838.0        6  \n2         1       9900000.0       14  \n3         0       1678207.0       14  \n4         0       5760000.0       12  \n5         0       2685111.0        3  \n6         0       2550000.0       14  \n7         0       3459535.0       11  \n8         0       1925000.0        8  \n9         1       5350000.0       10  \n10        1       8450000.0       14  \n11        1       2564865.0        3  \n12        1       5775000.0        2  \n13        1      21000000.0        7  \n14        1      13500000.0       13  \n15        0       3004525.0        1  \n16        0       3761610.0        1  \n17        0       2450511.0        5  \n18        0       2030000.0        2  \n19        0       6212596.0        4  \n\n[20 rows x 57 columns]",
      "text/html": "<div>\n<style scoped>\n    .dataframe tbody tr th:only-of-type {\n        vertical-align: middle;\n    }\n\n    .dataframe tbody tr th {\n        vertical-align: top;\n    }\n\n    .dataframe thead th {\n        text-align: right;\n    }\n</style>\n<table border=\"1\" class=\"dataframe\">\n  <thead>\n    <tr style=\"text-align: right;\">\n      <th></th>\n      <th>documentDate</th>\n      <th>picturedate</th>\n      <th>lastchanged</th>\n      <th>adcreated</th>\n      <th>price</th>\n      <th>listprice</th>\n      <th>lat</th>\n      <th>lng</th>\n      <th>address</th>\n      <th>apartmentnumber</th>\n      <th>...</th>\n      <th>F_Turterreng</th>\n      <th>adtitle</th>\n      <th>N_modernisering</th>\n      <th>N_oppussing</th>\n      <th>N_regulert</th>\n      <th>N_garasjemulighet</th>\n      <th>postcode</th>\n      <th>Parking</th>\n      <th>price_inc_debt</th>\n      <th>area_id</th>\n    </tr>\n  </thead>\n  <tbody>\n    <tr>\n      <th>0</th>\n      <td>2020-09-25</td>\n      <td>2020/7</td>\n      <td>2020-08-07</td>\n      <td>2020-08-03</td>\n      <td>5150000</td>\n      <td>4650000.0</td>\n      <td>59.913030</td>\n      <td>10.776672</td>\n      <td>Hagegata 41, 0653 Oslo</td>\n      <td>H0703</td>\n      <td>...</td>\n      <td>NaN</td>\n      <td>VISNING AVLYST! Direkte bud til selger. Topple...</td>\n      <td>False</td>\n      <td>False</td>\n      <td>False</td>\n      <td>False</td>\n      <td>653</td>\n      <td>1</td>\n      <td>5150000.0</td>\n      <td>1</td>\n    </tr>\n    <tr>\n      <th>1</th>\n      <td>2020-09-29</td>\n      <td>2020/8</td>\n      <td>2020-12-14</td>\n      <td>2020-08-25</td>\n      <td>3900000</td>\n      <td>3650000.0</td>\n      <td>59.918900</td>\n      <td>10.647900</td>\n      <td>Skogbrynet 16D, 0283 Oslo</td>\n      <td>U0101</td>\n      <td>...</td>\n      <td>1.0</td>\n      <td>Innbydende og lys 2-roms hjørneleilighet - Ves...</td>\n      <td>False</td>\n      <td>False</td>\n      <td>False</td>\n      <td>False</td>\n      <td>283</td>\n      <td>1</td>\n      <td>3944838.0</td>\n      <td>6</td>\n    </tr>\n    <tr>\n      <th>2</th>\n      <td>2021-12-02</td>\n      <td>2021/8</td>\n      <td>2021-08-01</td>\n      <td>2021-07-27</td>\n      <td>9900000</td>\n      <td>8750000.0</td>\n      <td>59.879000</td>\n      <td>10.799300</td>\n      <td>Ringshusveien 8B, 1176 Oslo</td>\n      <td>H0101</td>\n      <td>...</td>\n      <td>1.0</td>\n      <td>Oppussingsobjekt - Enebolig i kjede med skjerm...</td>\n      <td>False</td>\n      <td>True</td>\n      <td>False</td>\n      <td>False</td>\n      <td>1176</td>\n      <td>1</td>\n      <td>9900000.0</td>\n      <td>14</td>\n    </tr>\n    <tr>\n      <th>3</th>\n      <td>2009-11-12</td>\n      <td>4/186</td>\n      <td>2009-09-05</td>\n      <td>2009-08-24</td>\n      <td>1660000</td>\n      <td>1680000.0</td>\n      <td>59.887690</td>\n      <td>10.802634</td>\n      <td>Libakkfaret 1 A, 1184 Oslo</td>\n      <td>H0302</td>\n      <td>...</td>\n      <td>NaN</td>\n      <td>BRATTLIKOLLEN - Lys og gjennomgående 3-roms se...</td>\n      <td>False</td>\n      <td>False</td>\n      <td>False</td>\n      <td>False</td>\n      <td>1184</td>\n      <td>0</td>\n      <td>1678207.0</td>\n      <td>14</td>\n    </tr>\n    <tr>\n      <th>4</th>\n      <td>2012-10-24</td>\n      <td>2012/6</td>\n      <td>2012-06-15</td>\n      <td>2012-06-01</td>\n      <td>5760000</td>\n      <td>5490000.0</td>\n      <td>59.944653</td>\n      <td>10.888134</td>\n      <td>Micheletveien 20, 1053 Oslo</td>\n      <td>U0102</td>\n      <td>...</td>\n      <td>NaN</td>\n      <td>GAMLE FURUSET - Velholdt og romslig enebolig m...</td>\n      <td>False</td>\n      <td>False</td>\n      <td>False</td>\n      <td>False</td>\n      <td>1053</td>\n      <td>0</td>\n      <td>5760000.0</td>\n      <td>12</td>\n    </tr>\n    <tr>\n      <th>5</th>\n      <td>2015-07-08</td>\n      <td>2015/5</td>\n      <td>2020-06-11</td>\n      <td>2015-05-02</td>\n      <td>2600000</td>\n      <td>2190000.0</td>\n      <td>59.934440</td>\n      <td>10.774304</td>\n      <td>Edmund Neuperts gate 3, 0475 Oslo</td>\n      <td>H0302</td>\n      <td>...</td>\n      <td>1.0</td>\n      <td>TORSHOV - STRØKEN 2-ROMS I 3.ETG. I POPULÆRE \"...</td>\n      <td>False</td>\n      <td>False</td>\n      <td>False</td>\n      <td>False</td>\n      <td>475</td>\n      <td>0</td>\n      <td>2685111.0</td>\n      <td>3</td>\n    </tr>\n    <tr>\n      <th>6</th>\n      <td>2008-07-25</td>\n      <td>9/139</td>\n      <td>2008-07-06</td>\n      <td>2008-06-27</td>\n      <td>2550000</td>\n      <td>2600000.0</td>\n      <td>59.889133</td>\n      <td>10.778798</td>\n      <td>Høgdefaret 10, 1178 Oslo</td>\n      <td>H0102</td>\n      <td>...</td>\n      <td>NaN</td>\n      <td>Holtet Hageby - 1/4 part av firemannsbolig . p...</td>\n      <td>False</td>\n      <td>False</td>\n      <td>False</td>\n      <td>False</td>\n      <td>1178</td>\n      <td>0</td>\n      <td>2550000.0</td>\n      <td>14</td>\n    </tr>\n    <tr>\n      <th>7</th>\n      <td>2017-03-06</td>\n      <td>2016/12</td>\n      <td>2016-12-11</td>\n      <td>2016-12-02</td>\n      <td>3390000</td>\n      <td>3090000.0</td>\n      <td>59.965298</td>\n      <td>10.921401</td>\n      <td>Ellen Gleditch vei 4, 0987 Oslo</td>\n      <td>H0301</td>\n      <td>...</td>\n      <td>NaN</td>\n      <td>BOLIGEN ER SOLGT. VISNING AVLYST</td>\n      <td>False</td>\n      <td>False</td>\n      <td>False</td>\n      <td>False</td>\n      <td>987</td>\n      <td>0</td>\n      <td>3459535.0</td>\n      <td>11</td>\n    </tr>\n    <tr>\n      <th>8</th>\n      <td>2011-12-14</td>\n      <td>2011/10</td>\n      <td>2019-02-24</td>\n      <td>2011-10-13</td>\n      <td>1925000</td>\n      <td>1990000.0</td>\n      <td>59.948322</td>\n      <td>10.766691</td>\n      <td>Nydalen Allé 5, 0484 Oslo</td>\n      <td>H0209</td>\n      <td>...</td>\n      <td>1.0</td>\n      <td>Solsiden i Nydalen - Lys og pen eierleilighet ...</td>\n      <td>False</td>\n      <td>False</td>\n      <td>False</td>\n      <td>False</td>\n      <td>484</td>\n      <td>0</td>\n      <td>1925000.0</td>\n      <td>8</td>\n    </tr>\n    <tr>\n      <th>9</th>\n      <td>2015-12-02</td>\n      <td>2015/8</td>\n      <td>2015-08-27</td>\n      <td>2015-08-07</td>\n      <td>5350000</td>\n      <td>4390000.0</td>\n      <td>59.954710</td>\n      <td>10.856106</td>\n      <td>Sølve Solfengs vei 27 B, 0956 Oslo</td>\n      <td>H0101</td>\n      <td>...</td>\n      <td>1.0</td>\n      <td>Rødtvet - Lekkert rekkehus m/garasje, solrike ...</td>\n      <td>False</td>\n      <td>False</td>\n      <td>False</td>\n      <td>False</td>\n      <td>956</td>\n      <td>1</td>\n      <td>5350000.0</td>\n      <td>10</td>\n    </tr>\n    <tr>\n      <th>10</th>\n      <td>2019-05-06</td>\n      <td>2019/2</td>\n      <td>2019-02-15</td>\n      <td>2019-01-25</td>\n      <td>8450000</td>\n      <td>7800000.0</td>\n      <td>59.873753</td>\n      <td>10.808472</td>\n      <td>Radarveien 78 C, 1163 Oslo</td>\n      <td>H0201</td>\n      <td>...</td>\n      <td>NaN</td>\n      <td>LAMBERTSETER/NORDSTRAND: Lys og luftig 1/2 av ...</td>\n      <td>False</td>\n      <td>False</td>\n      <td>False</td>\n      <td>False</td>\n      <td>1163</td>\n      <td>1</td>\n      <td>8450000.0</td>\n      <td>14</td>\n    </tr>\n    <tr>\n      <th>11</th>\n      <td>2012-09-04</td>\n      <td>2012/8</td>\n      <td>2019-02-24</td>\n      <td>2012-08-08</td>\n      <td>2400000</td>\n      <td>1990000.0</td>\n      <td>59.943737</td>\n      <td>10.774553</td>\n      <td>Grefsenveien 30 A, 0485 Oslo</td>\n      <td>H0403</td>\n      <td>...</td>\n      <td>1.0</td>\n      <td>Sandaker/Storo - Oppusset og attraktiv 2 roms ...</td>\n      <td>False</td>\n      <td>False</td>\n      <td>False</td>\n      <td>False</td>\n      <td>485</td>\n      <td>1</td>\n      <td>2564865.0</td>\n      <td>3</td>\n    </tr>\n    <tr>\n      <th>12</th>\n      <td>2014-05-21</td>\n      <td>2014/2</td>\n      <td>2014-03-01</td>\n      <td>2014-02-15</td>\n      <td>5775000</td>\n      <td>5690000.0</td>\n      <td>59.934540</td>\n      <td>10.796455</td>\n      <td>Liljeveien 15, 0585 Oslo</td>\n      <td>H0101</td>\n      <td>...</td>\n      <td>NaN</td>\n      <td>REFSTAD: Enebolig / Generasjonsbolig / Utleiem...</td>\n      <td>False</td>\n      <td>False</td>\n      <td>False</td>\n      <td>False</td>\n      <td>585</td>\n      <td>1</td>\n      <td>5775000.0</td>\n      <td>2</td>\n    </tr>\n    <tr>\n      <th>13</th>\n      <td>2013-11-12</td>\n      <td>2013/8</td>\n      <td>2013-09-13</td>\n      <td>2013-08-21</td>\n      <td>21000000</td>\n      <td>24000000.0</td>\n      <td>59.952496</td>\n      <td>10.686596</td>\n      <td>Bjørnveien 53, 0774 Oslo</td>\n      <td>H0101</td>\n      <td>...</td>\n      <td>NaN</td>\n      <td>SLEMDAL - Herskapsvilla med nydelig tomt på 2,...</td>\n      <td>False</td>\n      <td>False</td>\n      <td>False</td>\n      <td>False</td>\n      <td>774</td>\n      <td>1</td>\n      <td>21000000.0</td>\n      <td>7</td>\n    </tr>\n    <tr>\n      <th>14</th>\n      <td>2020-11-05</td>\n      <td>2020/5</td>\n      <td>2020-06-17</td>\n      <td>2020-05-02</td>\n      <td>13500000</td>\n      <td>15000000.0</td>\n      <td>59.908840</td>\n      <td>10.853329</td>\n      <td>Trasoppterrassen 3A, 0684 Oslo</td>\n      <td>H0101</td>\n      <td>...</td>\n      <td>1.0</td>\n      <td>Unik eiendom med spektakulær utsikt og solrik ...</td>\n      <td>False</td>\n      <td>False</td>\n      <td>False</td>\n      <td>False</td>\n      <td>684</td>\n      <td>1</td>\n      <td>13500000.0</td>\n      <td>13</td>\n    </tr>\n    <tr>\n      <th>15</th>\n      <td>2018-08-16</td>\n      <td>2018/6</td>\n      <td>2018-06-27</td>\n      <td>2018-05-31</td>\n      <td>2950000</td>\n      <td>2600000.0</td>\n      <td>59.911300</td>\n      <td>10.777734</td>\n      <td>Kjølberggata 17 B, 0653 Oslo</td>\n      <td>H0402</td>\n      <td>...</td>\n      <td>1.0</td>\n      <td>NEDRE KAMPEN/ TØYEN - Lys og sjarmerende 1-rom...</td>\n      <td>False</td>\n      <td>False</td>\n      <td>False</td>\n      <td>False</td>\n      <td>653</td>\n      <td>0</td>\n      <td>3004525.0</td>\n      <td>1</td>\n    </tr>\n    <tr>\n      <th>16</th>\n      <td>2020-12-15</td>\n      <td>2020/10</td>\n      <td>2020-10-11</td>\n      <td>2020-10-11</td>\n      <td>3650000</td>\n      <td>3450000.0</td>\n      <td>59.900898</td>\n      <td>10.777195</td>\n      <td>Ekebergveien 43, 0195 Oslo</td>\n      <td>H0201</td>\n      <td>...</td>\n      <td>1.0</td>\n      <td>Visning avlyst. Solgt etter bud direkte til se...</td>\n      <td>False</td>\n      <td>False</td>\n      <td>False</td>\n      <td>False</td>\n      <td>195</td>\n      <td>0</td>\n      <td>3761610.0</td>\n      <td>1</td>\n    </tr>\n    <tr>\n      <th>17</th>\n      <td>2010-06-24</td>\n      <td>6/221</td>\n      <td>2010-05-14</td>\n      <td>2010-05-06</td>\n      <td>2450000</td>\n      <td>2500000.0</td>\n      <td>59.924786</td>\n      <td>10.728049</td>\n      <td>Underhaugsveien 9 C, 0354 Oslo</td>\n      <td>H0201</td>\n      <td>...</td>\n      <td>NaN</td>\n      <td>MAJORSTUEN - Tiltalende selveier med sentral b...</td>\n      <td>False</td>\n      <td>False</td>\n      <td>False</td>\n      <td>False</td>\n      <td>354</td>\n      <td>0</td>\n      <td>2450511.0</td>\n      <td>5</td>\n    </tr>\n    <tr>\n      <th>18</th>\n      <td>2010-07-02</td>\n      <td>4/218</td>\n      <td>2010-04-29</td>\n      <td>2010-04-17</td>\n      <td>2030000</td>\n      <td>2100000.0</td>\n      <td>59.924435</td>\n      <td>10.757560</td>\n      <td>Markveien 24, 0554 Oslo</td>\n      <td>H0302</td>\n      <td>...</td>\n      <td>NaN</td>\n      <td>GRÜNERLØKKA: Lys, moderne og nyoppusset 3-roms...</td>\n      <td>False</td>\n      <td>False</td>\n      <td>False</td>\n      <td>False</td>\n      <td>554</td>\n      <td>0</td>\n      <td>2030000.0</td>\n      <td>2</td>\n    </tr>\n    <tr>\n      <th>19</th>\n      <td>2021-05-31</td>\n      <td>2021/3</td>\n      <td>2021-03-19</td>\n      <td>2021-03-18</td>\n      <td>6200000</td>\n      <td>6300000.0</td>\n      <td>59.922600</td>\n      <td>10.741300</td>\n      <td>Akersbakken 39, 0172 Oslo</td>\n      <td>H0304</td>\n      <td>...</td>\n      <td>1.0</td>\n      <td>Stilren og meget tiltalende 3-roms selveier. 3...</td>\n      <td>False</td>\n      <td>False</td>\n      <td>False</td>\n      <td>False</td>\n      <td>172</td>\n      <td>0</td>\n      <td>6212596.0</td>\n      <td>4</td>\n    </tr>\n  </tbody>\n</table>\n<p>20 rows × 57 columns</p>\n</div>"
     },
     "metadata": {}
    }
   ]
  },
  {
   "cell_type": "code",
   "metadata": {
    "cell_id": "00002-b418a789-a747-4f9e-a266-d09143aad12b",
    "deepnote_to_be_reexecuted": false,
    "source_hash": "2517bc9f",
    "execution_start": 1644331804371,
    "execution_millis": 1794057,
    "deepnote_cell_type": "code"
   },
   "source": "# Printer litt info om datasettet\nprint(f\"Antall rader i datasettet: {len(df)}\")\nprint(f\"Antall kolonner i datasettet: {len(df.columns)}\")\nprint()\nprint(df.columns)",
   "execution_count": 4,
   "outputs": [
    {
     "name": "stdout",
     "text": "Antall rader i datasettet: 181250\nAntall kolonner i datasettet: 57\n\nIndex(['documentDate', 'picturedate', 'lastchanged', 'adcreated', 'price',\n       'listprice', 'lat', 'lng', 'address', 'apartmentnumber',\n       'apartmenttype', 'conveyancetype', 'finncode', 'BRA', 'PROM',\n       'buildyear', 'matrikkel', 'bedrooms', 'rooms', 'bathrooms', 'WC',\n       'elevator', 'floor', 'housingtype', 'commondebt', 'commoncosts',\n       'F_Aircondition', 'F_Alarm', 'F_BalkongTerrasse', 'F_Barnevennlig',\n       'F_Bredbåndstilknytning', 'F_Fellesvaskeri', 'F_GarasjeP-plass',\n       'F_Heis', 'F_Ingen gjenboere', 'F_Lademulighet', 'F_Livsløpsstandard',\n       'F_Moderne', 'F_Offentlig vannkloakk', 'F_Parkett', 'F_PeisIldsted',\n       'F_Rolig', 'F_Sentralt', 'F_Utsikt', 'F_Vaktmester-vektertjeneste',\n       'F_Bademulighet', 'F_Fiskemulighet', 'F_Turterreng', 'adtitle',\n       'N_modernisering', 'N_oppussing', 'N_regulert', 'N_garasjemulighet',\n       'postcode', 'Parking', 'price_inc_debt', 'area_id'],\n      dtype='object')\n",
     "output_type": "stream"
    }
   ]
  },
  {
   "cell_type": "code",
   "metadata": {
    "cell_id": "e6fa94fe-ad20-4d55-83db-e14a1dd364ee",
    "tags": [],
    "deepnote_to_be_reexecuted": false,
    "source_hash": "6a761762",
    "execution_start": 1644331804375,
    "execution_millis": 1794038,
    "deepnote_cell_type": "code"
   },
   "source": "#df.info()\n#df.describe()",
   "execution_count": 5,
   "outputs": []
  },
  {
   "cell_type": "code",
   "metadata": {
    "cell_id": "00003-a0f671d3-600f-45e7-a9ef-bbca9f2f0e40",
    "deepnote_output_heights": [
     611
    ],
    "deepnote_to_be_reexecuted": false,
    "source_hash": "b4b71d30",
    "execution_start": 1644331804375,
    "execution_millis": 111,
    "deepnote_cell_type": "code"
   },
   "source": "# Sjekker null-verdier\ndf.isnull().sum()",
   "execution_count": 6,
   "outputs": [
    {
     "output_type": "execute_result",
     "execution_count": 6,
     "data": {
      "text/plain": "documentDate                        0\npicturedate                       257\nlastchanged                         0\nadcreated                           0\nprice                               0\nlistprice                           0\nlat                              1568\nlng                              1568\naddress                             0\napartmentnumber                   822\napartmenttype                     792\nconveyancetype                      0\nfinncode                            0\nBRA                              3273\nPROM                                0\nbuildyear                         925\nmatrikkel                           0\nbedrooms                         9385\nrooms                           51910\nbathrooms                           0\nWC                                  0\nelevator                          792\nfloor                           37977\nhousingtype                         0\ncommondebt                      58689\ncommoncosts                     15759\nF_Aircondition                 178173\nF_Alarm                        175171\nF_BalkongTerrasse               60920\nF_Barnevennlig                  72380\nF_Bredbåndstilknytning          80143\nF_Fellesvaskeri                148196\nF_GarasjeP-plass               108973\nF_Heis                         129931\nF_Ingen gjenboere              132973\nF_Lademulighet                 173472\nF_Livsløpsstandard             176498\nF_Moderne                      136234\nF_Offentlig vannkloakk          98042\nF_Parkett                       82952\nF_PeisIldsted                  128068\nF_Rolig                         76928\nF_Sentralt                      81605\nF_Utsikt                       119962\nF_Vaktmester-vektertjeneste    117235\nF_Bademulighet                 172852\nF_Fiskemulighet                178556\nF_Turterreng                   100291\nadtitle                             0\nN_modernisering                     0\nN_oppussing                         0\nN_regulert                          0\nN_garasjemulighet                   0\npostcode                            0\nParking                             0\nprice_inc_debt                      0\narea_id                             0\ndtype: int64"
     },
     "metadata": {}
    }
   ]
  },
  {
   "cell_type": "markdown",
   "source": "Som vi kan se så finnes det null-verdier for flere av variablene. Dette er helt vanlig i større datasett og er et problem vi må gjøre noe med. Alle null-verdiene for variabler som starter med F_ (fasteliteter), vil bli kodet om til 0, da dette er dummy-variabler med 0 og 1 som verdi. Videre ser vi at rom og etasje er de to variablene med flest null-verdier (henholdsvis 51 910 og 37 977). Det finnes også et høyt antall null-verider for fellesgjeld og felleskostnader, men dette er knyttet til eneboliger og rekkehus hvor man ikke har disse kostnadene.",
   "metadata": {
    "cell_id": "f2e7051f-28fb-49d3-8fa9-bb9cfbd8b95f",
    "tags": [],
    "deepnote_cell_type": "markdown"
   }
  },
  {
   "cell_type": "code",
   "metadata": {
    "cell_id": "2859dd53-6650-4867-b900-f402a7f53849",
    "tags": [],
    "deepnote_to_be_reexecuted": false,
    "source_hash": "ff0d33f4",
    "execution_start": 1644331804487,
    "execution_millis": 35,
    "deepnote_output_heights": [
     289.921875
    ],
    "deepnote_cell_type": "code"
   },
   "source": "df['housingtype'].value_counts()",
   "execution_count": 7,
   "outputs": [
    {
     "output_type": "execute_result",
     "execution_count": 7,
     "data": {
      "text/plain": "Leilighet                157774\nEnebolig                  10180\nRekkehus                   7491\nTomannsbolig               5638\nAndre                        66\nTomter                       55\nBygård/Flermannsbolig        29\nAnnet fritid                  6\nGarasje/Parkering             5\nGårdsbruk/Småbruk             2\nwarehouse                     1\nmultipurposearea              1\nbusiness                      1\nKontor                        1\nName: housingtype, dtype: int64"
     },
     "metadata": {}
    }
   ]
  },
  {
   "cell_type": "markdown",
   "source": "Vi starter med å se hvordan fordelingen av de ulike boligformene er i datasettet, og observerer at 87% av datapunktene i datasetter er leiligheter. I bydelene som er nærmest sentrum er over 90% av boliger leiligheter, mens i bydelene som ligger lengre borte fra sentrum er leilighetsandelen ned mot 40% på det laveste. Vi kan observere at det finnes 167 datapunkter som ikke er leilighet, enebolig, rekkehus eller tomannsbolig. Disse datapunktene vil ikke være relevante for oss så vi velger å utelate dem fra datasettet.",
   "metadata": {
    "cell_id": "3869877f-47ee-4671-a78b-0a615c54ecac",
    "tags": [],
    "deepnote_cell_type": "markdown"
   }
  },
  {
   "cell_type": "code",
   "metadata": {
    "cell_id": "c66a5199-1b48-425d-ae92-6e7a79b9f730",
    "tags": [],
    "deepnote_to_be_reexecuted": false,
    "source_hash": "79bf7124",
    "execution_start": 1644331804554,
    "execution_millis": 761,
    "deepnote_output_heights": [
     97.96875
    ],
    "deepnote_cell_type": "code"
   },
   "source": "feil_bolig = ['Andre','Tomter','Bygård/Flermannsbolig','Annet fritid','Garasje/Parkering','Gårdsbruk/Småbruk','Kontor','multipurposearea','warehouse','business']\n\nfor cat in feil_bolig:\n    df.drop(df[df['housingtype'] == cat].index, inplace=True)\n\ndf['housingtype'].value_counts()\n",
   "execution_count": 8,
   "outputs": [
    {
     "output_type": "execute_result",
     "execution_count": 8,
     "data": {
      "text/plain": "Leilighet       157774\nEnebolig         10180\nRekkehus          7491\nTomannsbolig      5638\nName: housingtype, dtype: int64"
     },
     "metadata": {}
    }
   ]
  },
  {
   "cell_type": "markdown",
   "source": "Den neste variabelen vi skal se på er lengde/breddegrad variablene (lat,lng). Vi vet at Oslo ligger rundt breddegrad 59-60 og rundt lengdegrad 10. Dermed vil koordinater som avviker mye fra disse koordinatene være feil.",
   "metadata": {
    "cell_id": "f9b23e94-4e10-4e9b-85a4-0ae6e0834991",
    "tags": [],
    "deepnote_to_be_reexecuted": false,
    "source_hash": "b623e53d",
    "execution_start": 1644315649954,
    "execution_millis": 1,
    "deepnote_cell_type": "markdown"
   },
   "outputs": [],
   "execution_count": 27
  },
  {
   "cell_type": "code",
   "metadata": {
    "cell_id": "aec1f39f-1e1f-4cdb-8b46-dd8c42bca288",
    "tags": [],
    "deepnote_to_be_reexecuted": false,
    "source_hash": "639379d3",
    "execution_start": 1644331805305,
    "execution_millis": 571,
    "deepnote_output_heights": [
     280
    ],
    "deepnote_cell_type": "code"
   },
   "source": "df[['lat','lng']].hist(figsize=(16,5), bins=25)\nplt.show()",
   "execution_count": 9,
   "outputs": [
    {
     "data": {
      "text/plain": "<Figure size 1152x360 with 2 Axes>",
      "image/png": "[encoded data removed]"
     },
     "metadata": {
      "needs_background": "light",
      "image/png": {
       "width": 952,
       "height": 319
      }
     },
     "output_type": "display_data"
    }
   ]
  },
  {
   "cell_type": "markdown",
   "source": "Som vi ser så treffer alle koordinatene på Oslo-området. Vi skal nå ta en titt på null-verdiene til datapunktene.",
   "metadata": {
    "cell_id": "6b8c881f-6bc1-442b-a38c-875ac9e70f1f",
    "tags": [],
    "deepnote_to_be_reexecuted": false,
    "source_hash": "b623e53d",
    "execution_start": 1643793800783,
    "execution_millis": 0,
    "deepnote_output_heights": [
     250
    ],
    "deepnote_cell_type": "markdown"
   }
  },
  {
   "cell_type": "code",
   "source": "# Printer null-verdier for lat or lng\ndf[['lat','lng']].isnull().sum()",
   "metadata": {
    "cell_id": "97b25732-f52a-49f6-9919-2e51bd6a9ddb",
    "tags": [],
    "deepnote_to_be_reexecuted": false,
    "source_hash": "adcb1887",
    "execution_start": 1644331805886,
    "execution_millis": 14,
    "deepnote_output_heights": [
     59.578125
    ],
    "deepnote_cell_type": "code"
   },
   "outputs": [
    {
     "output_type": "execute_result",
     "execution_count": 10,
     "data": {
      "text/plain": "lat    1567\nlng    1567\ndtype: int64"
     },
     "metadata": {}
    }
   ],
   "execution_count": 10
  },
  {
   "cell_type": "markdown",
   "source": "Som vi kan se så har vi 1567 datapunkter som mangler lengde og breddegrader. En løsning vil da være å fjerne null-verdiene, men dette vil ikke være optimalt. Vi vil derfor prøve å finne koordinater for hver av de 16 bydelene, for deretter å erstatte null-verdiene med dette. Vi må derfor først lage koordinater for de 16 bydelene, for deretter å erstatte null-verdiene med disse. Koordinatene til bydelene vil være sentrum av bydelen.",
   "metadata": {
    "cell_id": "8c03339c-c950-41ac-8e27-b181430fe0a4",
    "tags": [],
    "deepnote_cell_type": "markdown"
   },
   "outputs": [],
   "execution_count": null
  },
  {
   "cell_type": "code",
   "source": "#Dictionary med bydeler (area_id) og tilsvarende koordinater til sentrum av bydelene\nbydeler_koordinater = {1:[59.911832, 10.789224], 2:[59.923818, 10.771007],3:[59.938290, 10.764674],\n4:[59.927053, 10.738491],5:[59.915947, 10.705421],6:[59.927271, 10.664877],7:[59.950695, 10.657639],\n8:[59.956516, 10.766631],9:[59.937116, 10.820808],10:[59.954572, 10.876033],11:[59.958182, 10.924858],\n12:[59.935980, 10.877371],13:[59.888390, 10.835148],14:[59.875677, 10.789629],15:[59.832622, 10.826528],\n16:[59.910462, 10.737319]}\n\n#Oppretter nye kolonner for lat/lng til bydelene\ndf['Bydel_lat'] = df['area_id']\ndf['Bydel_lng'] = df['area_id']\n\n#Endrer fra area_id til koordinater for bydelene\nfor key, item in bydeler_koordinater.items():\n    df['Bydel_lat'].mask(df['Bydel_lat'] == key, item[0], inplace=True)\n    df['Bydel_lng'].mask(df['Bydel_lng'] == key, item[1], inplace=True)\n\n#Fyller inn null-verdier med tilsvarende koordinater for bydelene\ndf['lat'] = df['lat'].fillna(df['Bydel_lat'])\ndf['lng'] = df['lng'].fillna(df['Bydel_lng'])",
   "metadata": {
    "cell_id": "4e3ac3ea-0b16-43cd-9106-f6e0092464e6",
    "tags": [],
    "deepnote_to_be_reexecuted": false,
    "source_hash": "6065b78e",
    "execution_start": 1644331805913,
    "execution_millis": 77,
    "deepnote_output_heights": [
     60
    ],
    "deepnote_cell_type": "code"
   },
   "outputs": [],
   "execution_count": 11
  },
  {
   "cell_type": "markdown",
   "source": "Den neste variabelen vi skal se på er bruksareal (BRA). Det første vi må gjøre er å se på fordelingen for å kunne identifisere feil-verdier. BRA vil i de fleste tilfeller ligge mellom 50-100 for leiligheter, og 150-300 for større enebolig. Dette er det selvfølgelig unntak for med større leiligheter og boliger. Dermed vil det være vanskelig å skille mellom hva som er reelle store boliger, og hva som er feilverdier. En løsning er å fjerne verdier som er over 500 for eneboliger, rekkehus og tomannsboliger, hvis man har en pris som er under 10 000 000. Det er fordi boliger på >500 kvm vil så si alltid koste over 10 M. For leiligheter kan man fjerne verdier over 350 kvm hvis prisen er under 10M. Til slutt vil vi fjerne alle boliger med 1000 > BRA > 10 pga dette er åpenbare feildata etter å ha inspisert datapunktene.\n\n ",
   "metadata": {
    "cell_id": "333960f3-55f9-431b-8da5-089a089447fc",
    "tags": [],
    "deepnote_to_be_reexecuted": false,
    "source_hash": "b4b71d30",
    "execution_start": 1644324241165,
    "execution_millis": 90,
    "deepnote_output_heights": [
     611
    ],
    "deepnote_cell_type": "markdown"
   },
   "outputs": [],
   "execution_count": 49
  },
  {
   "cell_type": "code",
   "source": "#Fjerner alle boliger med BRA>500 og pris<10 000 000\ndf.drop(df[(df['BRA'] > 500) & (df['price'] < 10000000)].index, inplace = True)\n#Fjerner alle leiligheter med BRA>350 og pris<10 000 000\ndf.drop(df[(df['BRA'] > 350) & (df['housingtype'] == 'Leilighet') & (df['price'] < 10000000)].index, inplace = True)\n#Fjerner alle boliger med BRA > 1000\ndf.drop(df[df['BRA'] > 1000].index, inplace = True)\n#Fjerner alle boliger med BRA < 10\ndf.drop(df[df['BRA'] < 10].index, inplace = True)",
   "metadata": {
    "cell_id": "c3c1c711-320b-42cd-80b3-7a5bb9abfa1e",
    "tags": [],
    "deepnote_to_be_reexecuted": false,
    "source_hash": "502bab03",
    "execution_start": 1644331805999,
    "execution_millis": 264,
    "deepnote_cell_type": "code"
   },
   "outputs": [],
   "execution_count": 12
  },
  {
   "cell_type": "code",
   "source": "#Printer histogram over fordelingen\ndf['BRA'].hist(bins=50, figsize=(16,5))\nplt.show()\n#Printer histogram over fordelingen mellom 0 og 200 kvm\ndf['BRA'].hist(bins=50, figsize=(16,5), range=[0,200])\nplt.show()",
   "metadata": {
    "cell_id": "05fca3c2-ad6d-42cf-bcb8-07b49d838d61",
    "tags": [],
    "deepnote_to_be_reexecuted": false,
    "source_hash": "4774ca9c",
    "execution_start": 1644331806269,
    "execution_millis": 807,
    "deepnote_output_heights": [
     268,
     267.484375
    ],
    "deepnote_cell_type": "code"
   },
   "outputs": [
    {
     "data": {
      "text/plain": "<Figure size 1152x360 with 1 Axes>",
      "image/png": "[encoded data removed]"
     },
     "metadata": {
      "needs_background": "light",
      "image/png": {
       "width": 945,
       "height": 303
      }
     },
     "output_type": "display_data"
    },
    {
     "data": {
      "text/plain": "<Figure size 1152x360 with 1 Axes>",
      "image/png": "[encoded data removed]"
     },
     "metadata": {
      "needs_background": "light",
      "image/png": {
       "width": 945,
       "height": 303
      }
     },
     "output_type": "display_data"
    }
   ],
   "execution_count": 13
  },
  {
   "cell_type": "markdown",
   "source": "Som vi kan se så er dataen høyreskjev, noe som vil være naturlig da det finnes langt flere små boliger. Videre må vi nå gjøre noe med null-verdiene. Siden BRA henger tett sammen med primærrom (PROM), så vil en brukbar løsning være å finne forholdet mellom disse variablene og deretter bruke det for å generere BRA hvor man ikke har dette oppgitt.",
   "metadata": {
    "cell_id": "29e2d438-77ca-4afc-ac08-8920171f0851",
    "tags": [],
    "deepnote_to_be_reexecuted": false,
    "source_hash": "b623e53d",
    "execution_start": 1644329377571,
    "execution_millis": 7,
    "deepnote_table_state": {
     "pageSize": 100,
     "pageIndex": 0,
     "filters": [],
     "sortBy": [
      {
       "id": "BRA",
       "type": "desc"
      }
     ]
    },
    "deepnote_table_loading": false,
    "deepnote_output_heights": [
     611
    ],
    "deepnote_cell_type": "markdown"
   },
   "outputs": [],
   "execution_count": 50
  },
  {
   "cell_type": "code",
   "source": "#Printer korrelasjonen mellom PROM og BRA\nprint(df[['PROM','BRA']].corr())",
   "metadata": {
    "cell_id": "1c2efc44-2410-42f9-882a-0863aa85c046",
    "tags": [],
    "deepnote_to_be_reexecuted": false,
    "source_hash": "24c7caf4",
    "execution_start": 1644331807081,
    "execution_millis": 18,
    "deepnote_cell_type": "code"
   },
   "outputs": [
    {
     "name": "stdout",
     "text": "          PROM       BRA\nPROM  1.000000  0.963266\nBRA   0.963266  1.000000\n",
     "output_type": "stream"
    }
   ],
   "execution_count": 14
  },
  {
   "cell_type": "code",
   "source": "#Erstatter alle null-verdier for BRA med tilhørende PROM / 0.963464\ndf['BRA'] = df['BRA'].fillna((df['PROM']/0.963464).round())",
   "metadata": {
    "cell_id": "be168a04-cd6a-454e-bd57-c1b6213f9427",
    "tags": [],
    "deepnote_to_be_reexecuted": false,
    "source_hash": "992ba006",
    "execution_start": 1644331807103,
    "execution_millis": 6,
    "deepnote_cell_type": "code"
   },
   "outputs": [],
   "execution_count": 15
  },
  {
   "cell_type": "markdown",
   "source": "Den neste variabelen vi skal se på er byggeår. Vi starter da med å få en oversikt over fordelingen av dataen. I datasettet vårt er de eldste boligene fra tidlig 1600 tallet. Vi kan derfor fjerne alle boliger som har oppført byggeår før dette. Det vil fortsatt kunne være feil i dataen, men det er rimelig å anta at det finnes et fåtall av boliger med byggeår så langt tilbake. Videre vil vi da få en veldig venstreskjev fordeling hvor man begynner å få data fra midten av 1800-tallet. \n\nI tillegg finnes det rett under 1000 null-verdier som vi velger å fjerne da det vil være vanskelig å beregne et alternativt byggeår.",
   "metadata": {
    "cell_id": "6ec79f5e-08b7-4b56-8c19-b97a84aab669",
    "tags": [],
    "deepnote_cell_type": "markdown"
   },
   "outputs": [],
   "execution_count": null
  },
  {
   "cell_type": "code",
   "source": "#Fjerner alle boliger med byggeår < 1600\ndf.drop(df[df['buildyear'] < 1600].index, inplace = True)\n#Fjerner null-verdier\ndf = df[df['buildyear'].notna()]\ndf['buildyear'].isnull().sum()",
   "metadata": {
    "cell_id": "871fd60d-bad4-4cbe-aac6-3f061d053cbe",
    "tags": [],
    "deepnote_to_be_reexecuted": false,
    "source_hash": "5d59593a",
    "execution_start": 1644332135570,
    "execution_millis": 179,
    "deepnote_output_heights": [
     21,
     21
    ],
    "deepnote_cell_type": "code"
   },
   "outputs": [
    {
     "output_type": "execute_result",
     "execution_count": 39,
     "data": {
      "text/plain": "0"
     },
     "metadata": {}
    }
   ],
   "execution_count": 39
  },
  {
   "cell_type": "code",
   "source": "df['buildyear'].hist(bins=50, figsize=(16,4))\nplt.show()",
   "metadata": {
    "cell_id": "ac76c937-c259-4ddf-9bbe-4d671f169464",
    "tags": [],
    "deepnote_to_be_reexecuted": false,
    "source_hash": "437b8a3b",
    "execution_start": 1644331807203,
    "execution_millis": 433,
    "deepnote_output_heights": [
     219.28125
    ],
    "deepnote_cell_type": "code"
   },
   "outputs": [
    {
     "data": {
      "text/plain": "<Figure size 1152x288 with 1 Axes>",
      "image/png": "[encoded data removed]"
     },
     "metadata": {
      "needs_background": "light",
      "image/png": {
       "width": 945,
       "height": 248
      }
     },
     "output_type": "display_data"
    }
   ],
   "execution_count": 17
  },
  {
   "cell_type": "code",
   "source": "df.head()",
   "metadata": {
    "cell_id": "b9d23f28-a2fc-44fe-aa71-3cc46aac055d",
    "tags": [],
    "deepnote_to_be_reexecuted": false,
    "source_hash": "c085b6ba",
    "execution_start": 1644332152856,
    "execution_millis": 449,
    "deepnote_output_heights": [
     21.1875
    ],
    "deepnote_cell_type": "code"
   },
   "outputs": [
    {
     "output_type": "execute_result",
     "execution_count": 40,
     "data": {
      "application/vnd.deepnote.dataframe.v3+json": {
       "column_count": 59,
       "row_count": 5,
       "columns": [
        {
         "name": "documentDate",
         "dtype": "object",
         "stats": {
          "unique_count": 5,
          "nan_count": 0,
          "categories": [
           {
            "name": "2020-09-25",
            "count": 1
           },
           {
            "name": "2020-09-29",
            "count": 1
           },
           {
            "name": "3 others",
            "count": 3
           }
          ]
         }
        },
        {
         "name": "picturedate",
         "dtype": "object",
         "stats": {
          "unique_count": 5,
          "nan_count": 0,
          "categories": [
           {
            "name": "2020/7",
            "count": 1
           },
           {
            "name": "2020/8",
            "count": 1
           },
           {
            "name": "3 others",
            "count": 3
           }
          ]
         }
        },
        {
         "name": "lastchanged",
         "dtype": "object",
         "stats": {
          "unique_count": 5,
          "nan_count": 0,
          "categories": [
           {
            "name": "2020-08-07",
            "count": 1
           },
           {
            "name": "2020-12-14",
            "count": 1
           },
           {
            "name": "3 others",
            "count": 3
           }
          ]
         }
        },
        {
         "name": "adcreated",
         "dtype": "object",
         "stats": {
          "unique_count": 5,
          "nan_count": 0,
          "categories": [
           {
            "name": "2020-08-03",
            "count": 1
           },
           {
            "name": "2020-08-25",
            "count": 1
           },
           {
            "name": "3 others",
            "count": 3
           }
          ]
         }
        },
        {
         "name": "price",
         "dtype": "int64",
         "stats": {
          "unique_count": 5,
          "nan_count": 0,
          "min": "1660000",
          "max": "9900000",
          "histogram": [
           {
            "bin_start": 1660000,
            "bin_end": 2484000,
            "count": 1
           },
           {
            "bin_start": 2484000,
            "bin_end": 3308000,
            "count": 0
           },
           {
            "bin_start": 3308000,
            "bin_end": 4132000,
            "count": 1
           },
           {
            "bin_start": 4132000,
            "bin_end": 4956000,
            "count": 0
           },
           {
            "bin_start": 4956000,
            "bin_end": 5780000,
            "count": 2
           },
           {
            "bin_start": 5780000,
            "bin_end": 6604000,
            "count": 0
           },
           {
            "bin_start": 6604000,
            "bin_end": 7428000,
            "count": 0
           },
           {
            "bin_start": 7428000,
            "bin_end": 8252000,
            "count": 0
           },
           {
            "bin_start": 8252000,
            "bin_end": 9076000,
            "count": 0
           },
           {
            "bin_start": 9076000,
            "bin_end": 9900000,
            "count": 1
           }
          ]
         }
        },
        {
         "name": "listprice",
         "dtype": "float64",
         "stats": {
          "unique_count": 5,
          "nan_count": 0,
          "min": "1680000.0",
          "max": "8750000.0",
          "histogram": [
           {
            "bin_start": 1680000,
            "bin_end": 2387000,
            "count": 1
           },
           {
            "bin_start": 2387000,
            "bin_end": 3094000,
            "count": 0
           },
           {
            "bin_start": 3094000,
            "bin_end": 3801000,
            "count": 1
           },
           {
            "bin_start": 3801000,
            "bin_end": 4508000,
            "count": 0
           },
           {
            "bin_start": 4508000,
            "bin_end": 5215000,
            "count": 1
           },
           {
            "bin_start": 5215000,
            "bin_end": 5922000,
            "count": 1
           },
           {
            "bin_start": 5922000,
            "bin_end": 6629000,
            "count": 0
           },
           {
            "bin_start": 6629000,
            "bin_end": 7336000,
            "count": 0
           },
           {
            "bin_start": 7336000,
            "bin_end": 8043000,
            "count": 0
           },
           {
            "bin_start": 8043000,
            "bin_end": 8750000,
            "count": 1
           }
          ]
         }
        },
        {
         "name": "lat",
         "dtype": "float64",
         "stats": {
          "unique_count": 5,
          "nan_count": 0,
          "min": "59.879",
          "max": "59.944653",
          "histogram": [
           {
            "bin_start": 59.879,
            "bin_end": 59.885565299999996,
            "count": 1
           },
           {
            "bin_start": 59.885565299999996,
            "bin_end": 59.8921306,
            "count": 1
           },
           {
            "bin_start": 59.8921306,
            "bin_end": 59.8986959,
            "count": 0
           },
           {
            "bin_start": 59.8986959,
            "bin_end": 59.9052612,
            "count": 0
           },
           {
            "bin_start": 59.9052612,
            "bin_end": 59.911826500000004,
            "count": 0
           },
           {
            "bin_start": 59.911826500000004,
            "bin_end": 59.9183918,
            "count": 1
           },
           {
            "bin_start": 59.9183918,
            "bin_end": 59.9249571,
            "count": 1
           },
           {
            "bin_start": 59.9249571,
            "bin_end": 59.9315224,
            "count": 0
           },
           {
            "bin_start": 59.9315224,
            "bin_end": 59.938087700000004,
            "count": 0
           },
           {
            "bin_start": 59.938087700000004,
            "bin_end": 59.944653,
            "count": 1
           }
          ]
         }
        },
        {
         "name": "lng",
         "dtype": "float64",
         "stats": {
          "unique_count": 5,
          "nan_count": 0,
          "min": "10.6479",
          "max": "10.888134",
          "histogram": [
           {
            "bin_start": 10.6479,
            "bin_end": 10.6719234,
            "count": 1
           },
           {
            "bin_start": 10.6719234,
            "bin_end": 10.6959468,
            "count": 0
           },
           {
            "bin_start": 10.6959468,
            "bin_end": 10.7199702,
            "count": 0
           },
           {
            "bin_start": 10.7199702,
            "bin_end": 10.7439936,
            "count": 0
           },
           {
            "bin_start": 10.7439936,
            "bin_end": 10.768017,
            "count": 0
           },
           {
            "bin_start": 10.768017,
            "bin_end": 10.792040400000001,
            "count": 1
           },
           {
            "bin_start": 10.792040400000001,
            "bin_end": 10.8160638,
            "count": 2
           },
           {
            "bin_start": 10.8160638,
            "bin_end": 10.840087200000001,
            "count": 0
           },
           {
            "bin_start": 10.840087200000001,
            "bin_end": 10.8641106,
            "count": 0
           },
           {
            "bin_start": 10.8641106,
            "bin_end": 10.888134,
            "count": 1
           }
          ]
         }
        },
        {
         "name": "address",
         "dtype": "object",
         "stats": {
          "unique_count": 5,
          "nan_count": 0,
          "categories": [
           {
            "name": "Hagegata 41, 0653 Oslo",
            "count": 1
           },
           {
            "name": "Skogbrynet 16D, 0283 Oslo",
            "count": 1
           },
           {
            "name": "3 others",
            "count": 3
           }
          ]
         }
        },
        {
         "name": "apartmentnumber",
         "dtype": "object",
         "stats": {
          "unique_count": 5,
          "nan_count": 0,
          "categories": [
           {
            "name": "H0703",
            "count": 1
           },
           {
            "name": "U0101",
            "count": 1
           },
           {
            "name": "3 others",
            "count": 3
           }
          ]
         }
        },
        {
         "name": "apartmenttype",
         "dtype": "object",
         "stats": {
          "unique_count": 1,
          "nan_count": 0,
          "categories": [
           {
            "name": "B",
            "count": 5
           }
          ]
         }
        },
        {
         "name": "conveyancetype",
         "dtype": "object",
         "stats": {
          "unique_count": 1,
          "nan_count": 0,
          "categories": [
           {
            "name": "Fritt salg",
            "count": 5
           }
          ]
         }
        },
        {
         "name": "finncode",
         "dtype": "int64",
         "stats": {
          "unique_count": 5,
          "nan_count": 0,
          "min": "18679054",
          "max": "226217549",
          "histogram": [
           {
            "bin_start": 18679054,
            "bin_end": 39432903.5,
            "count": 2
           },
           {
            "bin_start": 39432903.5,
            "bin_end": 60186753,
            "count": 0
           },
           {
            "bin_start": 60186753,
            "bin_end": 80940602.5,
            "count": 0
           },
           {
            "bin_start": 80940602.5,
            "bin_end": 101694452,
            "count": 0
           },
           {
            "bin_start": 101694452,
            "bin_end": 122448301.5,
            "count": 0
           },
           {
            "bin_start": 122448301.5,
            "bin_end": 143202151,
            "count": 0
           },
           {
            "bin_start": 143202151,
            "bin_end": 163956000.5,
            "count": 0
           },
           {
            "bin_start": 163956000.5,
            "bin_end": 184709850,
            "count": 0
           },
           {
            "bin_start": 184709850,
            "bin_end": 205463699.5,
            "count": 2
           },
           {
            "bin_start": 205463699.5,
            "bin_end": 226217549,
            "count": 1
           }
          ]
         }
        },
        {
         "name": "BRA",
         "dtype": "float64",
         "stats": {
          "unique_count": 5,
          "nan_count": 0,
          "min": "55.0",
          "max": "249.0",
          "histogram": [
           {
            "bin_start": 55,
            "bin_end": 74.4,
            "count": 3
           },
           {
            "bin_start": 74.4,
            "bin_end": 93.8,
            "count": 0
           },
           {
            "bin_start": 93.8,
            "bin_end": 113.19999999999999,
            "count": 0
           },
           {
            "bin_start": 113.19999999999999,
            "bin_end": 132.6,
            "count": 1
           },
           {
            "bin_start": 132.6,
            "bin_end": 152,
            "count": 0
           },
           {
            "bin_start": 152,
            "bin_end": 171.39999999999998,
            "count": 0
           },
           {
            "bin_start": 171.39999999999998,
            "bin_end": 190.79999999999998,
            "count": 0
           },
           {
            "bin_start": 190.79999999999998,
            "bin_end": 210.2,
            "count": 0
           },
           {
            "bin_start": 210.2,
            "bin_end": 229.6,
            "count": 0
           },
           {
            "bin_start": 229.6,
            "bin_end": 249,
            "count": 1
           }
          ]
         }
        },
        {
         "name": "PROM",
         "dtype": "float64",
         "stats": {
          "unique_count": 5,
          "nan_count": 0,
          "min": "54.0",
          "max": "242.0",
          "histogram": [
           {
            "bin_start": 54,
            "bin_end": 72.8,
            "count": 3
           },
           {
            "bin_start": 72.8,
            "bin_end": 91.6,
            "count": 0
           },
           {
            "bin_start": 91.6,
            "bin_end": 110.4,
            "count": 0
           },
           {
            "bin_start": 110.4,
            "bin_end": 129.2,
            "count": 1
           },
           {
            "bin_start": 129.2,
            "bin_end": 148,
            "count": 0
           },
           {
            "bin_start": 148,
            "bin_end": 166.8,
            "count": 0
           },
           {
            "bin_start": 166.8,
            "bin_end": 185.6,
            "count": 0
           },
           {
            "bin_start": 185.6,
            "bin_end": 204.4,
            "count": 0
           },
           {
            "bin_start": 204.4,
            "bin_end": 223.20000000000002,
            "count": 0
           },
           {
            "bin_start": 223.20000000000002,
            "bin_end": 242,
            "count": 1
           }
          ]
         }
        },
        {
         "name": "buildyear",
         "dtype": "float64",
         "stats": {
          "unique_count": 4,
          "nan_count": 0,
          "min": "1954.0",
          "max": "1990.0",
          "histogram": [
           {
            "bin_start": 1954,
            "bin_end": 1957.6,
            "count": 1
           },
           {
            "bin_start": 1957.6,
            "bin_end": 1961.2,
            "count": 0
           },
           {
            "bin_start": 1961.2,
            "bin_end": 1964.8,
            "count": 0
           },
           {
            "bin_start": 1964.8,
            "bin_end": 1968.4,
            "count": 0
           },
           {
            "bin_start": 1968.4,
            "bin_end": 1972,
            "count": 1
           },
           {
            "bin_start": 1972,
            "bin_end": 1975.6,
            "count": 0
           },
           {
            "bin_start": 1975.6,
            "bin_end": 1979.2,
            "count": 2
           },
           {
            "bin_start": 1979.2,
            "bin_end": 1982.8,
            "count": 0
           },
           {
            "bin_start": 1982.8,
            "bin_end": 1986.4,
            "count": 0
           },
           {
            "bin_start": 1986.4,
            "bin_end": 1990,
            "count": 1
           }
          ]
         }
        },
        {
         "name": "matrikkel",
         "dtype": "object",
         "stats": {
          "unique_count": 5,
          "nan_count": 0,
          "categories": [
           {
            "name": "301-231-166-37",
            "count": 1
           },
           {
            "name": "301-9-38-14",
            "count": 1
           },
           {
            "name": "3 others",
            "count": 3
           }
          ]
         }
        },
        {
         "name": "bedrooms",
         "dtype": "float64",
         "stats": {
          "unique_count": 4,
          "nan_count": 0,
          "min": "1.0",
          "max": "5.0",
          "histogram": [
           {
            "bin_start": 1,
            "bin_end": 1.4,
            "count": 2
           },
           {
            "bin_start": 1.4,
            "bin_end": 1.8,
            "count": 0
           },
           {
            "bin_start": 1.8,
            "bin_end": 2.2,
            "count": 1
           },
           {
            "bin_start": 2.2,
            "bin_end": 2.6,
            "count": 0
           },
           {
            "bin_start": 2.6,
            "bin_end": 3,
            "count": 0
           },
           {
            "bin_start": 3,
            "bin_end": 3.4000000000000004,
            "count": 0
           },
           {
            "bin_start": 3.4000000000000004,
            "bin_end": 3.8000000000000003,
            "count": 0
           },
           {
            "bin_start": 3.8000000000000003,
            "bin_end": 4.2,
            "count": 1
           },
           {
            "bin_start": 4.2,
            "bin_end": 4.6,
            "count": 0
           },
           {
            "bin_start": 4.6,
            "bin_end": 5,
            "count": 1
           }
          ]
         }
        },
        {
         "name": "rooms",
         "dtype": "float64",
         "stats": {
          "unique_count": 3,
          "nan_count": 2,
          "min": "2.0",
          "max": "10.0",
          "histogram": [
           {
            "bin_start": 2,
            "bin_end": 2.8,
            "count": 1
           },
           {
            "bin_start": 2.8,
            "bin_end": 3.6,
            "count": 0
           },
           {
            "bin_start": 3.6,
            "bin_end": 4.4,
            "count": 0
           },
           {
            "bin_start": 4.4,
            "bin_end": 5.2,
            "count": 1
           },
           {
            "bin_start": 5.2,
            "bin_end": 6,
            "count": 0
           },
           {
            "bin_start": 6,
            "bin_end": 6.800000000000001,
            "count": 0
           },
           {
            "bin_start": 6.800000000000001,
            "bin_end": 7.6000000000000005,
            "count": 0
           },
           {
            "bin_start": 7.6000000000000005,
            "bin_end": 8.4,
            "count": 0
           },
           {
            "bin_start": 8.4,
            "bin_end": 9.2,
            "count": 0
           },
           {
            "bin_start": 9.2,
            "bin_end": 10,
            "count": 1
           }
          ]
         }
        },
        {
         "name": "bathrooms",
         "dtype": "int64",
         "stats": {
          "unique_count": 1,
          "nan_count": 0,
          "min": "1",
          "max": "1",
          "histogram": [
           {
            "bin_start": 0.5,
            "bin_end": 0.6,
            "count": 0
           },
           {
            "bin_start": 0.6,
            "bin_end": 0.7,
            "count": 0
           },
           {
            "bin_start": 0.7,
            "bin_end": 0.8,
            "count": 0
           },
           {
            "bin_start": 0.8,
            "bin_end": 0.9,
            "count": 0
           },
           {
            "bin_start": 0.9,
            "bin_end": 1,
            "count": 0
           },
           {
            "bin_start": 1,
            "bin_end": 1.1,
            "count": 5
           },
           {
            "bin_start": 1.1,
            "bin_end": 1.2000000000000002,
            "count": 0
           },
           {
            "bin_start": 1.2000000000000002,
            "bin_end": 1.3,
            "count": 0
           },
           {
            "bin_start": 1.3,
            "bin_end": 1.4,
            "count": 0
           },
           {
            "bin_start": 1.4,
            "bin_end": 1.5,
            "count": 0
           }
          ]
         }
        },
        {
         "name": "WC",
         "dtype": "int64",
         "stats": {
          "unique_count": 2,
          "nan_count": 0,
          "min": "1",
          "max": "2",
          "histogram": [
           {
            "bin_start": 1,
            "bin_end": 1.1,
            "count": 4
           },
           {
            "bin_start": 1.1,
            "bin_end": 1.2,
            "count": 0
           },
           {
            "bin_start": 1.2,
            "bin_end": 1.3,
            "count": 0
           },
           {
            "bin_start": 1.3,
            "bin_end": 1.4,
            "count": 0
           },
           {
            "bin_start": 1.4,
            "bin_end": 1.5,
            "count": 0
           },
           {
            "bin_start": 1.5,
            "bin_end": 1.6,
            "count": 0
           },
           {
            "bin_start": 1.6,
            "bin_end": 1.7000000000000002,
            "count": 0
           },
           {
            "bin_start": 1.7000000000000002,
            "bin_end": 1.8,
            "count": 0
           },
           {
            "bin_start": 1.8,
            "bin_end": 1.9,
            "count": 0
           },
           {
            "bin_start": 1.9,
            "bin_end": 2,
            "count": 1
           }
          ]
         }
        },
        {
         "name": "elevator",
         "dtype": "object",
         "stats": {
          "unique_count": 2,
          "nan_count": 0,
          "categories": [
           {
            "name": "N",
            "count": 4
           },
           {
            "name": "J",
            "count": 1
           }
          ]
         }
        },
        {
         "name": "floor",
         "dtype": "float64",
         "stats": {
          "unique_count": 3,
          "nan_count": 1,
          "min": "1.0",
          "max": "6.0",
          "histogram": [
           {
            "bin_start": 1,
            "bin_end": 1.5,
            "count": 2
           },
           {
            "bin_start": 1.5,
            "bin_end": 2,
            "count": 0
           },
           {
            "bin_start": 2,
            "bin_end": 2.5,
            "count": 0
           },
           {
            "bin_start": 2.5,
            "bin_end": 3,
            "count": 0
           },
           {
            "bin_start": 3,
            "bin_end": 3.5,
            "count": 1
           },
           {
            "bin_start": 3.5,
            "bin_end": 4,
            "count": 0
           },
           {
            "bin_start": 4,
            "bin_end": 4.5,
            "count": 0
           },
           {
            "bin_start": 4.5,
            "bin_end": 5,
            "count": 0
           },
           {
            "bin_start": 5,
            "bin_end": 5.5,
            "count": 0
           },
           {
            "bin_start": 5.5,
            "bin_end": 6,
            "count": 1
           }
          ]
         }
        },
        {
         "name": "housingtype",
         "dtype": "object",
         "stats": {
          "unique_count": 2,
          "nan_count": 0,
          "categories": [
           {
            "name": "Leilighet",
            "count": 3
           },
           {
            "name": "Enebolig",
            "count": 2
           }
          ]
         }
        },
        {
         "name": "commondebt",
         "dtype": "float64",
         "stats": {
          "unique_count": 2,
          "nan_count": 3,
          "min": "18207.0",
          "max": "44838.0",
          "histogram": [
           {
            "bin_start": 18207,
            "bin_end": 20870.1,
            "count": 1
           },
           {
            "bin_start": 20870.1,
            "bin_end": 23533.2,
            "count": 0
           },
           {
            "bin_start": 23533.2,
            "bin_end": 26196.3,
            "count": 0
           },
           {
            "bin_start": 26196.3,
            "bin_end": 28859.4,
            "count": 0
           },
           {
            "bin_start": 28859.4,
            "bin_end": 31522.5,
            "count": 0
           },
           {
            "bin_start": 31522.5,
            "bin_end": 34185.6,
            "count": 0
           },
           {
            "bin_start": 34185.6,
            "bin_end": 36848.7,
            "count": 0
           },
           {
            "bin_start": 36848.7,
            "bin_end": 39511.8,
            "count": 0
           },
           {
            "bin_start": 39511.8,
            "bin_end": 42174.899999999994,
            "count": 0
           },
           {
            "bin_start": 42174.899999999994,
            "bin_end": 44838,
            "count": 1
           }
          ]
         }
        },
        {
         "name": "commoncosts",
         "dtype": "float64",
         "stats": {
          "unique_count": 3,
          "nan_count": 2,
          "min": "2866.0",
          "max": "3127.0",
          "histogram": [
           {
            "bin_start": 2866,
            "bin_end": 2892.1,
            "count": 1
           },
           {
            "bin_start": 2892.1,
            "bin_end": 2918.2,
            "count": 0
           },
           {
            "bin_start": 2918.2,
            "bin_end": 2944.3,
            "count": 0
           },
           {
            "bin_start": 2944.3,
            "bin_end": 2970.4,
            "count": 0
           },
           {
            "bin_start": 2970.4,
            "bin_end": 2996.5,
            "count": 0
           },
           {
            "bin_start": 2996.5,
            "bin_end": 3022.6,
            "count": 0
           },
           {
            "bin_start": 3022.6,
            "bin_end": 3048.7,
            "count": 0
           },
           {
            "bin_start": 3048.7,
            "bin_end": 3074.8,
            "count": 1
           },
           {
            "bin_start": 3074.8,
            "bin_end": 3100.9,
            "count": 0
           },
           {
            "bin_start": 3100.9,
            "bin_end": 3127,
            "count": 1
           }
          ]
         }
        },
        {
         "name": "F_Aircondition",
         "dtype": "float64",
         "stats": {
          "unique_count": 0,
          "nan_count": 5,
          "min": null,
          "max": null,
          "histogram": [
           {
            "bin_start": 0,
            "bin_end": 0.1,
            "count": 0
           },
           {
            "bin_start": 0.1,
            "bin_end": 0.2,
            "count": 0
           },
           {
            "bin_start": 0.2,
            "bin_end": 0.30000000000000004,
            "count": 0
           },
           {
            "bin_start": 0.30000000000000004,
            "bin_end": 0.4,
            "count": 0
           },
           {
            "bin_start": 0.4,
            "bin_end": 0.5,
            "count": 0
           },
           {
            "bin_start": 0.5,
            "bin_end": 0.6000000000000001,
            "count": 0
           },
           {
            "bin_start": 0.6000000000000001,
            "bin_end": 0.7000000000000001,
            "count": 0
           },
           {
            "bin_start": 0.7000000000000001,
            "bin_end": 0.8,
            "count": 0
           },
           {
            "bin_start": 0.8,
            "bin_end": 0.9,
            "count": 0
           },
           {
            "bin_start": 0.9,
            "bin_end": 1,
            "count": 0
           }
          ]
         }
        },
        {
         "name": "F_Alarm",
         "dtype": "float64",
         "stats": {
          "unique_count": 0,
          "nan_count": 5,
          "min": null,
          "max": null,
          "histogram": [
           {
            "bin_start": 0,
            "bin_end": 0.1,
            "count": 0
           },
           {
            "bin_start": 0.1,
            "bin_end": 0.2,
            "count": 0
           },
           {
            "bin_start": 0.2,
            "bin_end": 0.30000000000000004,
            "count": 0
           },
           {
            "bin_start": 0.30000000000000004,
            "bin_end": 0.4,
            "count": 0
           },
           {
            "bin_start": 0.4,
            "bin_end": 0.5,
            "count": 0
           },
           {
            "bin_start": 0.5,
            "bin_end": 0.6000000000000001,
            "count": 0
           },
           {
            "bin_start": 0.6000000000000001,
            "bin_end": 0.7000000000000001,
            "count": 0
           },
           {
            "bin_start": 0.7000000000000001,
            "bin_end": 0.8,
            "count": 0
           },
           {
            "bin_start": 0.8,
            "bin_end": 0.9,
            "count": 0
           },
           {
            "bin_start": 0.9,
            "bin_end": 1,
            "count": 0
           }
          ]
         }
        },
        {
         "name": "F_BalkongTerrasse",
         "dtype": "float64",
         "stats": {
          "unique_count": 1,
          "nan_count": 1,
          "min": "1.0",
          "max": "1.0",
          "histogram": [
           {
            "bin_start": 0.5,
            "bin_end": 0.6,
            "count": 0
           },
           {
            "bin_start": 0.6,
            "bin_end": 0.7,
            "count": 0
           },
           {
            "bin_start": 0.7,
            "bin_end": 0.8,
            "count": 0
           },
           {
            "bin_start": 0.8,
            "bin_end": 0.9,
            "count": 0
           },
           {
            "bin_start": 0.9,
            "bin_end": 1,
            "count": 0
           },
           {
            "bin_start": 1,
            "bin_end": 1.1,
            "count": 4
           },
           {
            "bin_start": 1.1,
            "bin_end": 1.2000000000000002,
            "count": 0
           },
           {
            "bin_start": 1.2000000000000002,
            "bin_end": 1.3,
            "count": 0
           },
           {
            "bin_start": 1.3,
            "bin_end": 1.4,
            "count": 0
           },
           {
            "bin_start": 1.4,
            "bin_end": 1.5,
            "count": 0
           }
          ]
         }
        },
        {
         "name": "F_Barnevennlig",
         "dtype": "float64",
         "stats": {
          "unique_count": 1,
          "nan_count": 1,
          "min": "1.0",
          "max": "1.0",
          "histogram": [
           {
            "bin_start": 0.5,
            "bin_end": 0.6,
            "count": 0
           },
           {
            "bin_start": 0.6,
            "bin_end": 0.7,
            "count": 0
           },
           {
            "bin_start": 0.7,
            "bin_end": 0.8,
            "count": 0
           },
           {
            "bin_start": 0.8,
            "bin_end": 0.9,
            "count": 0
           },
           {
            "bin_start": 0.9,
            "bin_end": 1,
            "count": 0
           },
           {
            "bin_start": 1,
            "bin_end": 1.1,
            "count": 4
           },
           {
            "bin_start": 1.1,
            "bin_end": 1.2000000000000002,
            "count": 0
           },
           {
            "bin_start": 1.2000000000000002,
            "bin_end": 1.3,
            "count": 0
           },
           {
            "bin_start": 1.3,
            "bin_end": 1.4,
            "count": 0
           },
           {
            "bin_start": 1.4,
            "bin_end": 1.5,
            "count": 0
           }
          ]
         }
        },
        {
         "name": "F_Bredbåndstilknytning",
         "dtype": "float64",
         "stats": {
          "unique_count": 1,
          "nan_count": 3,
          "min": "1.0",
          "max": "1.0",
          "histogram": [
           {
            "bin_start": 0.5,
            "bin_end": 0.6,
            "count": 0
           },
           {
            "bin_start": 0.6,
            "bin_end": 0.7,
            "count": 0
           },
           {
            "bin_start": 0.7,
            "bin_end": 0.8,
            "count": 0
           },
           {
            "bin_start": 0.8,
            "bin_end": 0.9,
            "count": 0
           },
           {
            "bin_start": 0.9,
            "bin_end": 1,
            "count": 0
           },
           {
            "bin_start": 1,
            "bin_end": 1.1,
            "count": 2
           },
           {
            "bin_start": 1.1,
            "bin_end": 1.2000000000000002,
            "count": 0
           },
           {
            "bin_start": 1.2000000000000002,
            "bin_end": 1.3,
            "count": 0
           },
           {
            "bin_start": 1.3,
            "bin_end": 1.4,
            "count": 0
           },
           {
            "bin_start": 1.4,
            "bin_end": 1.5,
            "count": 0
           }
          ]
         }
        },
        {
         "name": "F_Fellesvaskeri",
         "dtype": "float64",
         "stats": {
          "unique_count": 0,
          "nan_count": 5,
          "min": null,
          "max": null,
          "histogram": [
           {
            "bin_start": 0,
            "bin_end": 0.1,
            "count": 0
           },
           {
            "bin_start": 0.1,
            "bin_end": 0.2,
            "count": 0
           },
           {
            "bin_start": 0.2,
            "bin_end": 0.30000000000000004,
            "count": 0
           },
           {
            "bin_start": 0.30000000000000004,
            "bin_end": 0.4,
            "count": 0
           },
           {
            "bin_start": 0.4,
            "bin_end": 0.5,
            "count": 0
           },
           {
            "bin_start": 0.5,
            "bin_end": 0.6000000000000001,
            "count": 0
           },
           {
            "bin_start": 0.6000000000000001,
            "bin_end": 0.7000000000000001,
            "count": 0
           },
           {
            "bin_start": 0.7000000000000001,
            "bin_end": 0.8,
            "count": 0
           },
           {
            "bin_start": 0.8,
            "bin_end": 0.9,
            "count": 0
           },
           {
            "bin_start": 0.9,
            "bin_end": 1,
            "count": 0
           }
          ]
         }
        },
        {
         "name": "F_GarasjeP-plass",
         "dtype": "float64",
         "stats": {
          "unique_count": 1,
          "nan_count": 2,
          "min": "1.0",
          "max": "1.0",
          "histogram": [
           {
            "bin_start": 0.5,
            "bin_end": 0.6,
            "count": 0
           },
           {
            "bin_start": 0.6,
            "bin_end": 0.7,
            "count": 0
           },
           {
            "bin_start": 0.7,
            "bin_end": 0.8,
            "count": 0
           },
           {
            "bin_start": 0.8,
            "bin_end": 0.9,
            "count": 0
           },
           {
            "bin_start": 0.9,
            "bin_end": 1,
            "count": 0
           },
           {
            "bin_start": 1,
            "bin_end": 1.1,
            "count": 3
           },
           {
            "bin_start": 1.1,
            "bin_end": 1.2000000000000002,
            "count": 0
           },
           {
            "bin_start": 1.2000000000000002,
            "bin_end": 1.3,
            "count": 0
           },
           {
            "bin_start": 1.3,
            "bin_end": 1.4,
            "count": 0
           },
           {
            "bin_start": 1.4,
            "bin_end": 1.5,
            "count": 0
           }
          ]
         }
        },
        {
         "name": "F_Heis",
         "dtype": "float64",
         "stats": {
          "unique_count": 1,
          "nan_count": 4,
          "min": "1.0",
          "max": "1.0",
          "histogram": [
           {
            "bin_start": 0.5,
            "bin_end": 0.6,
            "count": 0
           },
           {
            "bin_start": 0.6,
            "bin_end": 0.7,
            "count": 0
           },
           {
            "bin_start": 0.7,
            "bin_end": 0.8,
            "count": 0
           },
           {
            "bin_start": 0.8,
            "bin_end": 0.9,
            "count": 0
           },
           {
            "bin_start": 0.9,
            "bin_end": 1,
            "count": 0
           },
           {
            "bin_start": 1,
            "bin_end": 1.1,
            "count": 1
           },
           {
            "bin_start": 1.1,
            "bin_end": 1.2000000000000002,
            "count": 0
           },
           {
            "bin_start": 1.2000000000000002,
            "bin_end": 1.3,
            "count": 0
           },
           {
            "bin_start": 1.3,
            "bin_end": 1.4,
            "count": 0
           },
           {
            "bin_start": 1.4,
            "bin_end": 1.5,
            "count": 0
           }
          ]
         }
        },
        {
         "name": "F_Ingen gjenboere",
         "dtype": "float64",
         "stats": {
          "unique_count": 1,
          "nan_count": 2,
          "min": "1.0",
          "max": "1.0",
          "histogram": [
           {
            "bin_start": 0.5,
            "bin_end": 0.6,
            "count": 0
           },
           {
            "bin_start": 0.6,
            "bin_end": 0.7,
            "count": 0
           },
           {
            "bin_start": 0.7,
            "bin_end": 0.8,
            "count": 0
           },
           {
            "bin_start": 0.8,
            "bin_end": 0.9,
            "count": 0
           },
           {
            "bin_start": 0.9,
            "bin_end": 1,
            "count": 0
           },
           {
            "bin_start": 1,
            "bin_end": 1.1,
            "count": 3
           },
           {
            "bin_start": 1.1,
            "bin_end": 1.2000000000000002,
            "count": 0
           },
           {
            "bin_start": 1.2000000000000002,
            "bin_end": 1.3,
            "count": 0
           },
           {
            "bin_start": 1.3,
            "bin_end": 1.4,
            "count": 0
           },
           {
            "bin_start": 1.4,
            "bin_end": 1.5,
            "count": 0
           }
          ]
         }
        },
        {
         "name": "F_Lademulighet",
         "dtype": "float64",
         "stats": {
          "unique_count": 0,
          "nan_count": 5,
          "min": null,
          "max": null,
          "histogram": [
           {
            "bin_start": 0,
            "bin_end": 0.1,
            "count": 0
           },
           {
            "bin_start": 0.1,
            "bin_end": 0.2,
            "count": 0
           },
           {
            "bin_start": 0.2,
            "bin_end": 0.30000000000000004,
            "count": 0
           },
           {
            "bin_start": 0.30000000000000004,
            "bin_end": 0.4,
            "count": 0
           },
           {
            "bin_start": 0.4,
            "bin_end": 0.5,
            "count": 0
           },
           {
            "bin_start": 0.5,
            "bin_end": 0.6000000000000001,
            "count": 0
           },
           {
            "bin_start": 0.6000000000000001,
            "bin_end": 0.7000000000000001,
            "count": 0
           },
           {
            "bin_start": 0.7000000000000001,
            "bin_end": 0.8,
            "count": 0
           },
           {
            "bin_start": 0.8,
            "bin_end": 0.9,
            "count": 0
           },
           {
            "bin_start": 0.9,
            "bin_end": 1,
            "count": 0
           }
          ]
         }
        },
        {
         "name": "F_Livsløpsstandard",
         "dtype": "float64",
         "stats": {
          "unique_count": 0,
          "nan_count": 5,
          "min": null,
          "max": null,
          "histogram": [
           {
            "bin_start": 0,
            "bin_end": 0.1,
            "count": 0
           },
           {
            "bin_start": 0.1,
            "bin_end": 0.2,
            "count": 0
           },
           {
            "bin_start": 0.2,
            "bin_end": 0.30000000000000004,
            "count": 0
           },
           {
            "bin_start": 0.30000000000000004,
            "bin_end": 0.4,
            "count": 0
           },
           {
            "bin_start": 0.4,
            "bin_end": 0.5,
            "count": 0
           },
           {
            "bin_start": 0.5,
            "bin_end": 0.6000000000000001,
            "count": 0
           },
           {
            "bin_start": 0.6000000000000001,
            "bin_end": 0.7000000000000001,
            "count": 0
           },
           {
            "bin_start": 0.7000000000000001,
            "bin_end": 0.8,
            "count": 0
           },
           {
            "bin_start": 0.8,
            "bin_end": 0.9,
            "count": 0
           },
           {
            "bin_start": 0.9,
            "bin_end": 1,
            "count": 0
           }
          ]
         }
        },
        {
         "name": "F_Moderne",
         "dtype": "float64",
         "stats": {
          "unique_count": 1,
          "nan_count": 4,
          "min": "1.0",
          "max": "1.0",
          "histogram": [
           {
            "bin_start": 0.5,
            "bin_end": 0.6,
            "count": 0
           },
           {
            "bin_start": 0.6,
            "bin_end": 0.7,
            "count": 0
           },
           {
            "bin_start": 0.7,
            "bin_end": 0.8,
            "count": 0
           },
           {
            "bin_start": 0.8,
            "bin_end": 0.9,
            "count": 0
           },
           {
            "bin_start": 0.9,
            "bin_end": 1,
            "count": 0
           },
           {
            "bin_start": 1,
            "bin_end": 1.1,
            "count": 1
           },
           {
            "bin_start": 1.1,
            "bin_end": 1.2000000000000002,
            "count": 0
           },
           {
            "bin_start": 1.2000000000000002,
            "bin_end": 1.3,
            "count": 0
           },
           {
            "bin_start": 1.3,
            "bin_end": 1.4,
            "count": 0
           },
           {
            "bin_start": 1.4,
            "bin_end": 1.5,
            "count": 0
           }
          ]
         }
        },
        {
         "name": "F_Offentlig vannkloakk",
         "dtype": "float64",
         "stats": {
          "unique_count": 1,
          "nan_count": 2,
          "min": "1.0",
          "max": "1.0",
          "histogram": [
           {
            "bin_start": 0.5,
            "bin_end": 0.6,
            "count": 0
           },
           {
            "bin_start": 0.6,
            "bin_end": 0.7,
            "count": 0
           },
           {
            "bin_start": 0.7,
            "bin_end": 0.8,
            "count": 0
           },
           {
            "bin_start": 0.8,
            "bin_end": 0.9,
            "count": 0
           },
           {
            "bin_start": 0.9,
            "bin_end": 1,
            "count": 0
           },
           {
            "bin_start": 1,
            "bin_end": 1.1,
            "count": 3
           },
           {
            "bin_start": 1.1,
            "bin_end": 1.2000000000000002,
            "count": 0
           },
           {
            "bin_start": 1.2000000000000002,
            "bin_end": 1.3,
            "count": 0
           },
           {
            "bin_start": 1.3,
            "bin_end": 1.4,
            "count": 0
           },
           {
            "bin_start": 1.4,
            "bin_end": 1.5,
            "count": 0
           }
          ]
         }
        },
        {
         "name": "F_Parkett",
         "dtype": "float64",
         "stats": {
          "unique_count": 1,
          "nan_count": 3,
          "min": "1.0",
          "max": "1.0",
          "histogram": [
           {
            "bin_start": 0.5,
            "bin_end": 0.6,
            "count": 0
           },
           {
            "bin_start": 0.6,
            "bin_end": 0.7,
            "count": 0
           },
           {
            "bin_start": 0.7,
            "bin_end": 0.8,
            "count": 0
           },
           {
            "bin_start": 0.8,
            "bin_end": 0.9,
            "count": 0
           },
           {
            "bin_start": 0.9,
            "bin_end": 1,
            "count": 0
           },
           {
            "bin_start": 1,
            "bin_end": 1.1,
            "count": 2
           },
           {
            "bin_start": 1.1,
            "bin_end": 1.2000000000000002,
            "count": 0
           },
           {
            "bin_start": 1.2000000000000002,
            "bin_end": 1.3,
            "count": 0
           },
           {
            "bin_start": 1.3,
            "bin_end": 1.4,
            "count": 0
           },
           {
            "bin_start": 1.4,
            "bin_end": 1.5,
            "count": 0
           }
          ]
         }
        },
        {
         "name": "F_PeisIldsted",
         "dtype": "float64",
         "stats": {
          "unique_count": 1,
          "nan_count": 4,
          "min": "1.0",
          "max": "1.0",
          "histogram": [
           {
            "bin_start": 0.5,
            "bin_end": 0.6,
            "count": 0
           },
           {
            "bin_start": 0.6,
            "bin_end": 0.7,
            "count": 0
           },
           {
            "bin_start": 0.7,
            "bin_end": 0.8,
            "count": 0
           },
           {
            "bin_start": 0.8,
            "bin_end": 0.9,
            "count": 0
           },
           {
            "bin_start": 0.9,
            "bin_end": 1,
            "count": 0
           },
           {
            "bin_start": 1,
            "bin_end": 1.1,
            "count": 1
           },
           {
            "bin_start": 1.1,
            "bin_end": 1.2000000000000002,
            "count": 0
           },
           {
            "bin_start": 1.2000000000000002,
            "bin_end": 1.3,
            "count": 0
           },
           {
            "bin_start": 1.3,
            "bin_end": 1.4,
            "count": 0
           },
           {
            "bin_start": 1.4,
            "bin_end": 1.5,
            "count": 0
           }
          ]
         }
        },
        {
         "name": "F_Rolig",
         "dtype": "float64",
         "stats": {
          "unique_count": 1,
          "nan_count": 1,
          "min": "1.0",
          "max": "1.0",
          "histogram": [
           {
            "bin_start": 0.5,
            "bin_end": 0.6,
            "count": 0
           },
           {
            "bin_start": 0.6,
            "bin_end": 0.7,
            "count": 0
           },
           {
            "bin_start": 0.7,
            "bin_end": 0.8,
            "count": 0
           },
           {
            "bin_start": 0.8,
            "bin_end": 0.9,
            "count": 0
           },
           {
            "bin_start": 0.9,
            "bin_end": 1,
            "count": 0
           },
           {
            "bin_start": 1,
            "bin_end": 1.1,
            "count": 4
           },
           {
            "bin_start": 1.1,
            "bin_end": 1.2000000000000002,
            "count": 0
           },
           {
            "bin_start": 1.2000000000000002,
            "bin_end": 1.3,
            "count": 0
           },
           {
            "bin_start": 1.3,
            "bin_end": 1.4,
            "count": 0
           },
           {
            "bin_start": 1.4,
            "bin_end": 1.5,
            "count": 0
           }
          ]
         }
        },
        {
         "name": "F_Sentralt",
         "dtype": "float64",
         "stats": {
          "unique_count": 1,
          "nan_count": 3,
          "min": "1.0",
          "max": "1.0",
          "histogram": [
           {
            "bin_start": 0.5,
            "bin_end": 0.6,
            "count": 0
           },
           {
            "bin_start": 0.6,
            "bin_end": 0.7,
            "count": 0
           },
           {
            "bin_start": 0.7,
            "bin_end": 0.8,
            "count": 0
           },
           {
            "bin_start": 0.8,
            "bin_end": 0.9,
            "count": 0
           },
           {
            "bin_start": 0.9,
            "bin_end": 1,
            "count": 0
           },
           {
            "bin_start": 1,
            "bin_end": 1.1,
            "count": 2
           },
           {
            "bin_start": 1.1,
            "bin_end": 1.2000000000000002,
            "count": 0
           },
           {
            "bin_start": 1.2000000000000002,
            "bin_end": 1.3,
            "count": 0
           },
           {
            "bin_start": 1.3,
            "bin_end": 1.4,
            "count": 0
           },
           {
            "bin_start": 1.4,
            "bin_end": 1.5,
            "count": 0
           }
          ]
         }
        },
        {
         "name": "F_Utsikt",
         "dtype": "float64",
         "stats": {
          "unique_count": 1,
          "nan_count": 3,
          "min": "1.0",
          "max": "1.0",
          "histogram": [
           {
            "bin_start": 0.5,
            "bin_end": 0.6,
            "count": 0
           },
           {
            "bin_start": 0.6,
            "bin_end": 0.7,
            "count": 0
           },
           {
            "bin_start": 0.7,
            "bin_end": 0.8,
            "count": 0
           },
           {
            "bin_start": 0.8,
            "bin_end": 0.9,
            "count": 0
           },
           {
            "bin_start": 0.9,
            "bin_end": 1,
            "count": 0
           },
           {
            "bin_start": 1,
            "bin_end": 1.1,
            "count": 2
           },
           {
            "bin_start": 1.1,
            "bin_end": 1.2000000000000002,
            "count": 0
           },
           {
            "bin_start": 1.2000000000000002,
            "bin_end": 1.3,
            "count": 0
           },
           {
            "bin_start": 1.3,
            "bin_end": 1.4,
            "count": 0
           },
           {
            "bin_start": 1.4,
            "bin_end": 1.5,
            "count": 0
           }
          ]
         }
        },
        {
         "name": "F_Vaktmester-vektertjeneste",
         "dtype": "float64",
         "stats": {
          "unique_count": 1,
          "nan_count": 2,
          "min": "1.0",
          "max": "1.0",
          "histogram": [
           {
            "bin_start": 0.5,
            "bin_end": 0.6,
            "count": 0
           },
           {
            "bin_start": 0.6,
            "bin_end": 0.7,
            "count": 0
           },
           {
            "bin_start": 0.7,
            "bin_end": 0.8,
            "count": 0
           },
           {
            "bin_start": 0.8,
            "bin_end": 0.9,
            "count": 0
           },
           {
            "bin_start": 0.9,
            "bin_end": 1,
            "count": 0
           },
           {
            "bin_start": 1,
            "bin_end": 1.1,
            "count": 3
           },
           {
            "bin_start": 1.1,
            "bin_end": 1.2000000000000002,
            "count": 0
           },
           {
            "bin_start": 1.2000000000000002,
            "bin_end": 1.3,
            "count": 0
           },
           {
            "bin_start": 1.3,
            "bin_end": 1.4,
            "count": 0
           },
           {
            "bin_start": 1.4,
            "bin_end": 1.5,
            "count": 0
           }
          ]
         }
        },
        {
         "name": "F_Bademulighet",
         "dtype": "float64",
         "stats": {
          "unique_count": 0,
          "nan_count": 5,
          "min": null,
          "max": null,
          "histogram": [
           {
            "bin_start": 0,
            "bin_end": 0.1,
            "count": 0
           },
           {
            "bin_start": 0.1,
            "bin_end": 0.2,
            "count": 0
           },
           {
            "bin_start": 0.2,
            "bin_end": 0.30000000000000004,
            "count": 0
           },
           {
            "bin_start": 0.30000000000000004,
            "bin_end": 0.4,
            "count": 0
           },
           {
            "bin_start": 0.4,
            "bin_end": 0.5,
            "count": 0
           },
           {
            "bin_start": 0.5,
            "bin_end": 0.6000000000000001,
            "count": 0
           },
           {
            "bin_start": 0.6000000000000001,
            "bin_end": 0.7000000000000001,
            "count": 0
           },
           {
            "bin_start": 0.7000000000000001,
            "bin_end": 0.8,
            "count": 0
           },
           {
            "bin_start": 0.8,
            "bin_end": 0.9,
            "count": 0
           },
           {
            "bin_start": 0.9,
            "bin_end": 1,
            "count": 0
           }
          ]
         }
        },
        {
         "name": "F_Fiskemulighet",
         "dtype": "float64",
         "stats": {
          "unique_count": 0,
          "nan_count": 5,
          "min": null,
          "max": null,
          "histogram": [
           {
            "bin_start": 0,
            "bin_end": 0.1,
            "count": 0
           },
           {
            "bin_start": 0.1,
            "bin_end": 0.2,
            "count": 0
           },
           {
            "bin_start": 0.2,
            "bin_end": 0.30000000000000004,
            "count": 0
           },
           {
            "bin_start": 0.30000000000000004,
            "bin_end": 0.4,
            "count": 0
           },
           {
            "bin_start": 0.4,
            "bin_end": 0.5,
            "count": 0
           },
           {
            "bin_start": 0.5,
            "bin_end": 0.6000000000000001,
            "count": 0
           },
           {
            "bin_start": 0.6000000000000001,
            "bin_end": 0.7000000000000001,
            "count": 0
           },
           {
            "bin_start": 0.7000000000000001,
            "bin_end": 0.8,
            "count": 0
           },
           {
            "bin_start": 0.8,
            "bin_end": 0.9,
            "count": 0
           },
           {
            "bin_start": 0.9,
            "bin_end": 1,
            "count": 0
           }
          ]
         }
        },
        {
         "name": "F_Turterreng",
         "dtype": "float64",
         "stats": {
          "unique_count": 1,
          "nan_count": 3,
          "min": "1.0",
          "max": "1.0",
          "histogram": [
           {
            "bin_start": 0.5,
            "bin_end": 0.6,
            "count": 0
           },
           {
            "bin_start": 0.6,
            "bin_end": 0.7,
            "count": 0
           },
           {
            "bin_start": 0.7,
            "bin_end": 0.8,
            "count": 0
           },
           {
            "bin_start": 0.8,
            "bin_end": 0.9,
            "count": 0
           },
           {
            "bin_start": 0.9,
            "bin_end": 1,
            "count": 0
           },
           {
            "bin_start": 1,
            "bin_end": 1.1,
            "count": 2
           },
           {
            "bin_start": 1.1,
            "bin_end": 1.2000000000000002,
            "count": 0
           },
           {
            "bin_start": 1.2000000000000002,
            "bin_end": 1.3,
            "count": 0
           },
           {
            "bin_start": 1.3,
            "bin_end": 1.4,
            "count": 0
           },
           {
            "bin_start": 1.4,
            "bin_end": 1.5,
            "count": 0
           }
          ]
         }
        },
        {
         "name": "adtitle",
         "dtype": "object",
         "stats": {
          "unique_count": 5,
          "nan_count": 0,
          "categories": [
           {
            "name": "VISNING AVLYST! Direkte bud til selger. Toppleilighet med stor, solrik takterrasse (14 kvm) - Ingen innsyn - Garasje",
            "count": 1
           },
           {
            "name": "Innbydende og lys 2-roms hjørneleilighet - Vestvendt terrasse mot hage - Parkeringsplass - Rekkehusfølelse",
            "count": 1
           },
           {
            "name": "3 others",
            "count": 3
           }
          ]
         }
        },
        {
         "name": "N_modernisering",
         "dtype": "bool",
         "stats": {
          "unique_count": 1,
          "nan_count": 0,
          "categories": [
           {
            "name": "False",
            "count": 5
           }
          ]
         }
        },
        {
         "name": "N_oppussing",
         "dtype": "bool",
         "stats": {
          "unique_count": 2,
          "nan_count": 0,
          "categories": [
           {
            "name": "False",
            "count": 4
           },
           {
            "name": "True",
            "count": 1
           }
          ]
         }
        },
        {
         "name": "N_regulert",
         "dtype": "bool",
         "stats": {
          "unique_count": 1,
          "nan_count": 0,
          "categories": [
           {
            "name": "False",
            "count": 5
           }
          ]
         }
        },
        {
         "name": "N_garasjemulighet",
         "dtype": "bool",
         "stats": {
          "unique_count": 1,
          "nan_count": 0,
          "categories": [
           {
            "name": "False",
            "count": 5
           }
          ]
         }
        },
        {
         "name": "postcode",
         "dtype": "int64",
         "stats": {
          "unique_count": 5,
          "nan_count": 0,
          "min": "283",
          "max": "1184",
          "histogram": [
           {
            "bin_start": 283,
            "bin_end": 373.1,
            "count": 1
           },
           {
            "bin_start": 373.1,
            "bin_end": 463.2,
            "count": 0
           },
           {
            "bin_start": 463.2,
            "bin_end": 553.3,
            "count": 0
           },
           {
            "bin_start": 553.3,
            "bin_end": 643.4,
            "count": 0
           },
           {
            "bin_start": 643.4,
            "bin_end": 733.5,
            "count": 1
           },
           {
            "bin_start": 733.5,
            "bin_end": 823.5999999999999,
            "count": 0
           },
           {
            "bin_start": 823.5999999999999,
            "bin_end": 913.6999999999999,
            "count": 0
           },
           {
            "bin_start": 913.6999999999999,
            "bin_end": 1003.8,
            "count": 0
           },
           {
            "bin_start": 1003.8,
            "bin_end": 1093.9,
            "count": 1
           },
           {
            "bin_start": 1093.9,
            "bin_end": 1184,
            "count": 2
           }
          ]
         }
        },
        {
         "name": "Parking",
         "dtype": "int64",
         "stats": {
          "unique_count": 2,
          "nan_count": 0,
          "min": "0",
          "max": "1",
          "histogram": [
           {
            "bin_start": 0,
            "bin_end": 0.1,
            "count": 2
           },
           {
            "bin_start": 0.1,
            "bin_end": 0.2,
            "count": 0
           },
           {
            "bin_start": 0.2,
            "bin_end": 0.30000000000000004,
            "count": 0
           },
           {
            "bin_start": 0.30000000000000004,
            "bin_end": 0.4,
            "count": 0
           },
           {
            "bin_start": 0.4,
            "bin_end": 0.5,
            "count": 0
           },
           {
            "bin_start": 0.5,
            "bin_end": 0.6000000000000001,
            "count": 0
           },
           {
            "bin_start": 0.6000000000000001,
            "bin_end": 0.7000000000000001,
            "count": 0
           },
           {
            "bin_start": 0.7000000000000001,
            "bin_end": 0.8,
            "count": 0
           },
           {
            "bin_start": 0.8,
            "bin_end": 0.9,
            "count": 0
           },
           {
            "bin_start": 0.9,
            "bin_end": 1,
            "count": 3
           }
          ]
         }
        },
        {
         "name": "price_inc_debt",
         "dtype": "float64",
         "stats": {
          "unique_count": 5,
          "nan_count": 0,
          "min": "1678207.0",
          "max": "9900000.0",
          "histogram": [
           {
            "bin_start": 1678207,
            "bin_end": 2500386.3,
            "count": 1
           },
           {
            "bin_start": 2500386.3,
            "bin_end": 3322565.6,
            "count": 0
           },
           {
            "bin_start": 3322565.6,
            "bin_end": 4144744.9000000004,
            "count": 1
           },
           {
            "bin_start": 4144744.9000000004,
            "bin_end": 4966924.2,
            "count": 0
           },
           {
            "bin_start": 4966924.2,
            "bin_end": 5789103.5,
            "count": 2
           },
           {
            "bin_start": 5789103.5,
            "bin_end": 6611282.800000001,
            "count": 0
           },
           {
            "bin_start": 6611282.800000001,
            "bin_end": 7433462.100000001,
            "count": 0
           },
           {
            "bin_start": 7433462.100000001,
            "bin_end": 8255641.4,
            "count": 0
           },
           {
            "bin_start": 8255641.4,
            "bin_end": 9077820.7,
            "count": 0
           },
           {
            "bin_start": 9077820.7,
            "bin_end": 9900000,
            "count": 1
           }
          ]
         }
        },
        {
         "name": "area_id",
         "dtype": "int64",
         "stats": {
          "unique_count": 4,
          "nan_count": 0,
          "min": "1",
          "max": "14",
          "histogram": [
           {
            "bin_start": 1,
            "bin_end": 2.3,
            "count": 1
           },
           {
            "bin_start": 2.3,
            "bin_end": 3.6,
            "count": 0
           },
           {
            "bin_start": 3.6,
            "bin_end": 4.9,
            "count": 0
           },
           {
            "bin_start": 4.9,
            "bin_end": 6.2,
            "count": 1
           },
           {
            "bin_start": 6.2,
            "bin_end": 7.5,
            "count": 0
           },
           {
            "bin_start": 7.5,
            "bin_end": 8.8,
            "count": 0
           },
           {
            "bin_start": 8.8,
            "bin_end": 10.1,
            "count": 0
           },
           {
            "bin_start": 10.1,
            "bin_end": 11.4,
            "count": 0
           },
           {
            "bin_start": 11.4,
            "bin_end": 12.700000000000001,
            "count": 1
           },
           {
            "bin_start": 12.700000000000001,
            "bin_end": 14,
            "count": 2
           }
          ]
         }
        },
        {
         "name": "Bydel_lat",
         "dtype": "float64",
         "stats": {
          "unique_count": 4,
          "nan_count": 0,
          "min": "59.875677",
          "max": "59.93598",
          "histogram": [
           {
            "bin_start": 59.875677,
            "bin_end": 59.8817073,
            "count": 2
           },
           {
            "bin_start": 59.8817073,
            "bin_end": 59.8877376,
            "count": 0
           },
           {
            "bin_start": 59.8877376,
            "bin_end": 59.8937679,
            "count": 0
           },
           {
            "bin_start": 59.8937679,
            "bin_end": 59.8997982,
            "count": 0
           },
           {
            "bin_start": 59.8997982,
            "bin_end": 59.9058285,
            "count": 0
           },
           {
            "bin_start": 59.9058285,
            "bin_end": 59.911858800000005,
            "count": 1
           },
           {
            "bin_start": 59.911858800000005,
            "bin_end": 59.917889100000004,
            "count": 0
           },
           {
            "bin_start": 59.917889100000004,
            "bin_end": 59.9239194,
            "count": 0
           },
           {
            "bin_start": 59.9239194,
            "bin_end": 59.9299497,
            "count": 1
           },
           {
            "bin_start": 59.9299497,
            "bin_end": 59.93598,
            "count": 1
           }
          ]
         }
        },
        {
         "name": "Bydel_lng",
         "dtype": "float64",
         "stats": {
          "unique_count": 4,
          "nan_count": 0,
          "min": "10.664877",
          "max": "10.877371",
          "histogram": [
           {
            "bin_start": 10.664877,
            "bin_end": 10.686126400000001,
            "count": 1
           },
           {
            "bin_start": 10.686126400000001,
            "bin_end": 10.707375800000001,
            "count": 0
           },
           {
            "bin_start": 10.707375800000001,
            "bin_end": 10.7286252,
            "count": 0
           },
           {
            "bin_start": 10.7286252,
            "bin_end": 10.7498746,
            "count": 0
           },
           {
            "bin_start": 10.7498746,
            "bin_end": 10.771124,
            "count": 0
           },
           {
            "bin_start": 10.771124,
            "bin_end": 10.7923734,
            "count": 3
           },
           {
            "bin_start": 10.7923734,
            "bin_end": 10.813622800000001,
            "count": 0
           },
           {
            "bin_start": 10.813622800000001,
            "bin_end": 10.8348722,
            "count": 0
           },
           {
            "bin_start": 10.8348722,
            "bin_end": 10.8561216,
            "count": 0
           },
           {
            "bin_start": 10.8561216,
            "bin_end": 10.877371,
            "count": 1
           }
          ]
         }
        },
        {
         "name": "_deepnote_index_column",
         "dtype": "int64"
        }
       ],
       "rows": [
        {
         "documentDate": "2020-09-25",
         "picturedate": "2020/7",
         "lastchanged": "2020-08-07",
         "adcreated": "2020-08-03",
         "price": 5150000,
         "listprice": 4650000,
         "lat": 59.91303,
         "lng": 10.776672,
         "address": "Hagegata 41, 0653 Oslo",
         "apartmentnumber": "H0703",
         "apartmenttype": "B",
         "conveyancetype": "Fritt salg",
         "finncode": 186196629,
         "BRA": 55,
         "PROM": 54,
         "buildyear": 1990,
         "matrikkel": "301-231-166-37",
         "bedrooms": 1,
         "rooms": "nan",
         "bathrooms": 1,
         "WC": 1,
         "elevator": "J",
         "floor": 6,
         "housingtype": "Leilighet",
         "commondebt": "nan",
         "commoncosts": 3127,
         "F_Aircondition": "nan",
         "F_Alarm": "nan",
         "F_BalkongTerrasse": 1,
         "F_Barnevennlig": 1,
         "F_Bredbåndstilknytning": 1,
         "F_Fellesvaskeri": "nan",
         "F_GarasjeP-plass": 1,
         "F_Heis": 1,
         "F_Ingen gjenboere": 1,
         "F_Lademulighet": "nan",
         "F_Livsløpsstandard": "nan",
         "F_Moderne": 1,
         "F_Offentlig vannkloakk": 1,
         "F_Parkett": "nan",
         "F_PeisIldsted": "nan",
         "F_Rolig": 1,
         "F_Sentralt": 1,
         "F_Utsikt": 1,
         "F_Vaktmester-vektertjeneste": 1,
         "F_Bademulighet": "nan",
         "F_Fiskemulighet": "nan",
         "F_Turterreng": "nan",
         "adtitle": "VISNING AVLYST! Direkte bud til selger. Toppleilighet med stor, solrik takterrasse (14 kvm) - Ingen…",
         "N_modernisering": false,
         "N_oppussing": false,
         "N_regulert": false,
         "N_garasjemulighet": false,
         "postcode": 653,
         "Parking": 1,
         "price_inc_debt": 5150000,
         "area_id": 1,
         "Bydel_lat": 59.911832,
         "Bydel_lng": 10.789224,
         "_deepnote_index_column": 0
        },
        {
         "documentDate": "2020-09-29",
         "picturedate": "2020/8",
         "lastchanged": "2020-12-14",
         "adcreated": "2020-08-25",
         "price": 3900000,
         "listprice": 3650000,
         "lat": 59.9189,
         "lng": 10.6479,
         "address": "Skogbrynet 16D, 0283 Oslo",
         "apartmentnumber": "U0101",
         "apartmenttype": "B",
         "conveyancetype": "Fritt salg",
         "finncode": 188594072,
         "BRA": 56,
         "PROM": 56,
         "buildyear": 1977,
         "matrikkel": "301-9-38-14",
         "bedrooms": 1,
         "rooms": 2,
         "bathrooms": 1,
         "WC": 1,
         "elevator": "N",
         "floor": 1,
         "housingtype": "Leilighet",
         "commondebt": 44838,
         "commoncosts": 3062,
         "F_Aircondition": "nan",
         "F_Alarm": "nan",
         "F_BalkongTerrasse": 1,
         "F_Barnevennlig": 1,
         "F_Bredbåndstilknytning": 1,
         "F_Fellesvaskeri": "nan",
         "F_GarasjeP-plass": 1,
         "F_Heis": "nan",
         "F_Ingen gjenboere": 1,
         "F_Lademulighet": "nan",
         "F_Livsløpsstandard": "nan",
         "F_Moderne": "nan",
         "F_Offentlig vannkloakk": 1,
         "F_Parkett": 1,
         "F_PeisIldsted": "nan",
         "F_Rolig": 1,
         "F_Sentralt": 1,
         "F_Utsikt": "nan",
         "F_Vaktmester-vektertjeneste": 1,
         "F_Bademulighet": "nan",
         "F_Fiskemulighet": "nan",
         "F_Turterreng": 1,
         "adtitle": "Innbydende og lys 2-roms hjørneleilighet - Vestvendt terrasse mot hage - Parkeringsplass - Rekkehus…",
         "N_modernisering": false,
         "N_oppussing": false,
         "N_regulert": false,
         "N_garasjemulighet": false,
         "postcode": 283,
         "Parking": 1,
         "price_inc_debt": 3944838,
         "area_id": 6,
         "Bydel_lat": 59.927271,
         "Bydel_lng": 10.664877,
         "_deepnote_index_column": 1
        },
        {
         "documentDate": "2021-12-02",
         "picturedate": "2021/8",
         "lastchanged": "2021-08-01",
         "adcreated": "2021-07-27",
         "price": 9900000,
         "listprice": 8750000,
         "lat": 59.879,
         "lng": 10.7993,
         "address": "Ringshusveien 8B, 1176 Oslo",
         "apartmentnumber": "H0101",
         "apartmenttype": "B",
         "conveyancetype": "Fritt salg",
         "finncode": 226217549,
         "BRA": 126,
         "PROM": 115,
         "buildyear": 1970,
         "matrikkel": "301-158-751-0",
         "bedrooms": 4,
         "rooms": 5,
         "bathrooms": 1,
         "WC": 2,
         "elevator": "N",
         "floor": 1,
         "housingtype": "Enebolig",
         "commondebt": "nan",
         "commoncosts": "nan",
         "F_Aircondition": "nan",
         "F_Alarm": "nan",
         "F_BalkongTerrasse": 1,
         "F_Barnevennlig": 1,
         "F_Bredbåndstilknytning": "nan",
         "F_Fellesvaskeri": "nan",
         "F_GarasjeP-plass": 1,
         "F_Heis": "nan",
         "F_Ingen gjenboere": "nan",
         "F_Lademulighet": "nan",
         "F_Livsløpsstandard": "nan",
         "F_Moderne": "nan",
         "F_Offentlig vannkloakk": "nan",
         "F_Parkett": "nan",
         "F_PeisIldsted": 1,
         "F_Rolig": 1,
         "F_Sentralt": "nan",
         "F_Utsikt": "nan",
         "F_Vaktmester-vektertjeneste": "nan",
         "F_Bademulighet": "nan",
         "F_Fiskemulighet": "nan",
         "F_Turterreng": 1,
         "adtitle": "Oppussingsobjekt - Enebolig i kjede med skjermet beliggenhet - Vestvendt uteplass - Barnevennlig - …",
         "N_modernisering": false,
         "N_oppussing": true,
         "N_regulert": false,
         "N_garasjemulighet": false,
         "postcode": 1176,
         "Parking": 1,
         "price_inc_debt": 9900000,
         "area_id": 14,
         "Bydel_lat": 59.875677,
         "Bydel_lng": 10.789629,
         "_deepnote_index_column": 2
        },
        {
         "documentDate": "2009-11-12",
         "picturedate": "4/186",
         "lastchanged": "2009-09-05",
         "adcreated": "2009-08-24",
         "price": 1660000,
         "listprice": 1680000,
         "lat": 59.88769,
         "lng": 10.802634,
         "address": "Libakkfaret 1 A, 1184 Oslo",
         "apartmentnumber": "H0302",
         "apartmenttype": "B",
         "conveyancetype": "Fritt salg",
         "finncode": 18679054,
         "BRA": 69,
         "PROM": 66,
         "buildyear": 1954,
         "matrikkel": "301-149-433-102",
         "bedrooms": 2,
         "rooms": "nan",
         "bathrooms": 1,
         "WC": 1,
         "elevator": "N",
         "floor": 3,
         "housingtype": "Leilighet",
         "commondebt": 18207,
         "commoncosts": 2866,
         "F_Aircondition": "nan",
         "F_Alarm": "nan",
         "F_BalkongTerrasse": 1,
         "F_Barnevennlig": 1,
         "F_Bredbåndstilknytning": "nan",
         "F_Fellesvaskeri": "nan",
         "F_GarasjeP-plass": "nan",
         "F_Heis": "nan",
         "F_Ingen gjenboere": 1,
         "F_Lademulighet": "nan",
         "F_Livsløpsstandard": "nan",
         "F_Moderne": "nan",
         "F_Offentlig vannkloakk": 1,
         "F_Parkett": 1,
         "F_PeisIldsted": "nan",
         "F_Rolig": 1,
         "F_Sentralt": "nan",
         "F_Utsikt": 1,
         "F_Vaktmester-vektertjeneste": 1,
         "F_Bademulighet": "nan",
         "F_Fiskemulighet": "nan",
         "F_Turterreng": "nan",
         "adtitle": "BRATTLIKOLLEN - Lys og gjennomgående 3-roms selveier - Endeleilighet - Balkong - Sentralt - Ingen f…",
         "N_modernisering": false,
         "N_oppussing": false,
         "N_regulert": false,
         "N_garasjemulighet": false,
         "postcode": 1184,
         "Parking": 0,
         "price_inc_debt": 1678207,
         "area_id": 14,
         "Bydel_lat": 59.875677,
         "Bydel_lng": 10.789629,
         "_deepnote_index_column": 3
        },
        {
         "documentDate": "2012-10-24",
         "picturedate": "2012/6",
         "lastchanged": "2012-06-15",
         "adcreated": "2012-06-01",
         "price": 5760000,
         "listprice": 5490000,
         "lat": 59.944653,
         "lng": 10.888134,
         "address": "Micheletveien 20, 1053 Oslo",
         "apartmentnumber": "U0102",
         "apartmenttype": "B",
         "conveyancetype": "Fritt salg",
         "finncode": 35251134,
         "BRA": 249,
         "PROM": 242,
         "buildyear": 1977,
         "matrikkel": "301-105-334-0",
         "bedrooms": 5,
         "rooms": 10,
         "bathrooms": 1,
         "WC": 1,
         "elevator": "N",
         "floor": "nan",
         "housingtype": "Enebolig",
         "commondebt": "nan",
         "commoncosts": "nan",
         "F_Aircondition": "nan",
         "F_Alarm": "nan",
         "F_BalkongTerrasse": "nan",
         "F_Barnevennlig": "nan",
         "F_Bredbåndstilknytning": "nan",
         "F_Fellesvaskeri": "nan",
         "F_GarasjeP-plass": "nan",
         "F_Heis": "nan",
         "F_Ingen gjenboere": "nan",
         "F_Lademulighet": "nan",
         "F_Livsløpsstandard": "nan",
         "F_Moderne": "nan",
         "F_Offentlig vannkloakk": "nan",
         "F_Parkett": "nan",
         "F_PeisIldsted": "nan",
         "F_Rolig": "nan",
         "F_Sentralt": "nan",
         "F_Utsikt": "nan",
         "F_Vaktmester-vektertjeneste": "nan",
         "F_Bademulighet": "nan",
         "F_Fiskemulighet": "nan",
         "F_Turterreng": "nan",
         "adtitle": "GAMLE FURUSET - Velholdt og romslig enebolig med sokkelleilighet - Dobbeltgarasje - Tomt på 1.140m2…",
         "N_modernisering": false,
         "N_oppussing": false,
         "N_regulert": false,
         "N_garasjemulighet": false,
         "postcode": 1053,
         "Parking": 0,
         "price_inc_debt": 5760000,
         "area_id": 12,
         "Bydel_lat": 59.93598,
         "Bydel_lng": 10.877371,
         "_deepnote_index_column": 4
        }
       ]
      },
      "text/plain": "  documentDate picturedate lastchanged   adcreated    price  listprice  \\\n0   2020-09-25      2020/7  2020-08-07  2020-08-03  5150000  4650000.0   \n1   2020-09-29      2020/8  2020-12-14  2020-08-25  3900000  3650000.0   \n2   2021-12-02      2021/8  2021-08-01  2021-07-27  9900000  8750000.0   \n3   2009-11-12       4/186  2009-09-05  2009-08-24  1660000  1680000.0   \n4   2012-10-24      2012/6  2012-06-15  2012-06-01  5760000  5490000.0   \n\n         lat        lng                      address apartmentnumber  ...  \\\n0  59.913030  10.776672       Hagegata 41, 0653 Oslo           H0703  ...   \n1  59.918900  10.647900    Skogbrynet 16D, 0283 Oslo           U0101  ...   \n2  59.879000  10.799300  Ringshusveien 8B, 1176 Oslo           H0101  ...   \n3  59.887690  10.802634   Libakkfaret 1 A, 1184 Oslo           H0302  ...   \n4  59.944653  10.888134  Micheletveien 20, 1053 Oslo           U0102  ...   \n\n  N_modernisering N_oppussing  N_regulert  N_garasjemulighet  postcode  \\\n0           False       False       False              False       653   \n1           False       False       False              False       283   \n2           False        True       False              False      1176   \n3           False       False       False              False      1184   \n4           False       False       False              False      1053   \n\n   Parking price_inc_debt  area_id  Bydel_lat  Bydel_lng  \n0        1      5150000.0        1  59.911832  10.789224  \n1        1      3944838.0        6  59.927271  10.664877  \n2        1      9900000.0       14  59.875677  10.789629  \n3        0      1678207.0       14  59.875677  10.789629  \n4        0      5760000.0       12  59.935980  10.877371  \n\n[5 rows x 59 columns]",
      "text/html": "<div>\n<style scoped>\n    .dataframe tbody tr th:only-of-type {\n        vertical-align: middle;\n    }\n\n    .dataframe tbody tr th {\n        vertical-align: top;\n    }\n\n    .dataframe thead th {\n        text-align: right;\n    }\n</style>\n<table border=\"1\" class=\"dataframe\">\n  <thead>\n    <tr style=\"text-align: right;\">\n      <th></th>\n      <th>documentDate</th>\n      <th>picturedate</th>\n      <th>lastchanged</th>\n      <th>adcreated</th>\n      <th>price</th>\n      <th>listprice</th>\n      <th>lat</th>\n      <th>lng</th>\n      <th>address</th>\n      <th>apartmentnumber</th>\n      <th>...</th>\n      <th>N_modernisering</th>\n      <th>N_oppussing</th>\n      <th>N_regulert</th>\n      <th>N_garasjemulighet</th>\n      <th>postcode</th>\n      <th>Parking</th>\n      <th>price_inc_debt</th>\n      <th>area_id</th>\n      <th>Bydel_lat</th>\n      <th>Bydel_lng</th>\n    </tr>\n  </thead>\n  <tbody>\n    <tr>\n      <th>0</th>\n      <td>2020-09-25</td>\n      <td>2020/7</td>\n      <td>2020-08-07</td>\n      <td>2020-08-03</td>\n      <td>5150000</td>\n      <td>4650000.0</td>\n      <td>59.913030</td>\n      <td>10.776672</td>\n      <td>Hagegata 41, 0653 Oslo</td>\n      <td>H0703</td>\n      <td>...</td>\n      <td>False</td>\n      <td>False</td>\n      <td>False</td>\n      <td>False</td>\n      <td>653</td>\n      <td>1</td>\n      <td>5150000.0</td>\n      <td>1</td>\n      <td>59.911832</td>\n      <td>10.789224</td>\n    </tr>\n    <tr>\n      <th>1</th>\n      <td>2020-09-29</td>\n      <td>2020/8</td>\n      <td>2020-12-14</td>\n      <td>2020-08-25</td>\n      <td>3900000</td>\n      <td>3650000.0</td>\n      <td>59.918900</td>\n      <td>10.647900</td>\n      <td>Skogbrynet 16D, 0283 Oslo</td>\n      <td>U0101</td>\n      <td>...</td>\n      <td>False</td>\n      <td>False</td>\n      <td>False</td>\n      <td>False</td>\n      <td>283</td>\n      <td>1</td>\n      <td>3944838.0</td>\n      <td>6</td>\n      <td>59.927271</td>\n      <td>10.664877</td>\n    </tr>\n    <tr>\n      <th>2</th>\n      <td>2021-12-02</td>\n      <td>2021/8</td>\n      <td>2021-08-01</td>\n      <td>2021-07-27</td>\n      <td>9900000</td>\n      <td>8750000.0</td>\n      <td>59.879000</td>\n      <td>10.799300</td>\n      <td>Ringshusveien 8B, 1176 Oslo</td>\n      <td>H0101</td>\n      <td>...</td>\n      <td>False</td>\n      <td>True</td>\n      <td>False</td>\n      <td>False</td>\n      <td>1176</td>\n      <td>1</td>\n      <td>9900000.0</td>\n      <td>14</td>\n      <td>59.875677</td>\n      <td>10.789629</td>\n    </tr>\n    <tr>\n      <th>3</th>\n      <td>2009-11-12</td>\n      <td>4/186</td>\n      <td>2009-09-05</td>\n      <td>2009-08-24</td>\n      <td>1660000</td>\n      <td>1680000.0</td>\n      <td>59.887690</td>\n      <td>10.802634</td>\n      <td>Libakkfaret 1 A, 1184 Oslo</td>\n      <td>H0302</td>\n      <td>...</td>\n      <td>False</td>\n      <td>False</td>\n      <td>False</td>\n      <td>False</td>\n      <td>1184</td>\n      <td>0</td>\n      <td>1678207.0</td>\n      <td>14</td>\n      <td>59.875677</td>\n      <td>10.789629</td>\n    </tr>\n    <tr>\n      <th>4</th>\n      <td>2012-10-24</td>\n      <td>2012/6</td>\n      <td>2012-06-15</td>\n      <td>2012-06-01</td>\n      <td>5760000</td>\n      <td>5490000.0</td>\n      <td>59.944653</td>\n      <td>10.888134</td>\n      <td>Micheletveien 20, 1053 Oslo</td>\n      <td>U0102</td>\n      <td>...</td>\n      <td>False</td>\n      <td>False</td>\n      <td>False</td>\n      <td>False</td>\n      <td>1053</td>\n      <td>0</td>\n      <td>5760000.0</td>\n      <td>12</td>\n      <td>59.935980</td>\n      <td>10.877371</td>\n    </tr>\n  </tbody>\n</table>\n<p>5 rows × 59 columns</p>\n</div>"
     },
     "metadata": {}
    }
   ],
   "execution_count": 40
  },
  {
   "cell_type": "code",
   "source": "len(df)",
   "metadata": {
    "cell_id": "ca468561-4222-43e9-9a34-6aec21f38b98",
    "tags": [],
    "deepnote_to_be_reexecuted": false,
    "source_hash": "2f88c77a",
    "execution_start": 1644332155603,
    "execution_millis": 117,
    "deepnote_output_heights": [
     21.1875
    ],
    "deepnote_cell_type": "code"
   },
   "outputs": [
    {
     "output_type": "execute_result",
     "execution_count": 41,
     "data": {
      "text/plain": "180066"
     },
     "metadata": {}
    }
   ],
   "execution_count": 41
  },
  {
   "cell_type": "code",
   "source": "",
   "metadata": {
    "cell_id": "04ffd01e-1b1b-4112-ada1-f6f107c5d6b7",
    "tags": [],
    "deepnote_to_be_reexecuted": false,
    "source_hash": "b623e53d",
    "execution_start": 1644331807661,
    "deepnote_cell_type": "code"
   },
   "outputs": [],
   "execution_count": 18
  },
  {
   "cell_type": "code",
   "source": "",
   "metadata": {
    "cell_id": "d1cf380f-ddb1-4165-b2bc-8dc41aa97cf2",
    "tags": [],
    "deepnote_to_be_reexecuted": false,
    "source_hash": "b623e53d",
    "execution_start": 1644331807666,
    "deepnote_cell_type": "code"
   },
   "outputs": [],
   "execution_count": 18
  },
  {
   "cell_type": "code",
   "source": "",
   "metadata": {
    "cell_id": "d4bffe23-6fba-49f0-acde-19b6e20da631",
    "tags": [],
    "deepnote_to_be_reexecuted": false,
    "source_hash": "b623e53d",
    "execution_start": 1644331807713,
    "deepnote_cell_type": "code"
   },
   "outputs": [],
   "execution_count": 18
  },
  {
   "cell_type": "code",
   "source": "# Sjekker null-verdier\ndf.isnull().sum()",
   "metadata": {
    "cell_id": "19bcef06-b361-420c-8122-12307e1efb7a",
    "tags": [],
    "deepnote_to_be_reexecuted": false,
    "source_hash": "b4b71d30",
    "execution_start": 1644332161494,
    "execution_millis": 189,
    "deepnote_table_state": {
     "pageSize": 10,
     "pageIndex": 0,
     "filters": [],
     "sortBy": [
      {
       "id": "lng",
       "type": "desc"
      }
     ]
    },
    "deepnote_table_loading": false,
    "deepnote_output_heights": [
     611
    ],
    "deepnote_cell_type": "code"
   },
   "outputs": [
    {
     "output_type": "execute_result",
     "execution_count": 42,
     "data": {
      "text/plain": "documentDate                        0\npicturedate                       249\nlastchanged                         0\nadcreated                           0\nprice                               0\nlistprice                           0\nlat                                 0\nlng                                 0\naddress                             0\napartmentnumber                   811\napartmenttype                     783\nconveyancetype                      0\nfinncode                            0\nBRA                                 0\nPROM                                0\nbuildyear                           0\nmatrikkel                           0\nbedrooms                         9279\nrooms                           51345\nbathrooms                           0\nWC                                  0\nelevator                          783\nfloor                           37635\nhousingtype                         0\ncommondebt                      58127\ncommoncosts                     15613\nF_Aircondition                 177006\nF_Alarm                        174015\nF_BalkongTerrasse               60384\nF_Barnevennlig                  71743\nF_Bredbåndstilknytning          79440\nF_Fellesvaskeri                147154\nF_GarasjeP-plass               108152\nF_Heis                         129077\nF_Ingen gjenboere              131989\nF_Lademulighet                 172310\nF_Livsløpsstandard             175353\nF_Moderne                      135330\nF_Offentlig vannkloakk          97294\nF_Parkett                       82336\nF_PeisIldsted                  127189\nF_Rolig                         76236\nF_Sentralt                      80910\nF_Utsikt                       119082\nF_Vaktmester-vektertjeneste    116309\nF_Bademulighet                 171692\nF_Fiskemulighet                177382\nF_Turterreng                    99494\nadtitle                             0\nN_modernisering                     0\nN_oppussing                         0\nN_regulert                          0\nN_garasjemulighet                   0\npostcode                            0\nParking                             0\nprice_inc_debt                      0\narea_id                             0\nBydel_lat                           0\nBydel_lng                           0\ndtype: int64"
     },
     "metadata": {}
    }
   ],
   "execution_count": 42
  },
  {
   "cell_type": "code",
   "source": "",
   "metadata": {
    "cell_id": "d806a599-d95d-4921-9245-76fd484806fb",
    "tags": [],
    "deepnote_to_be_reexecuted": false,
    "source_hash": "b623e53d",
    "execution_start": 1644331807802,
    "execution_millis": 6,
    "deepnote_cell_type": "code"
   },
   "outputs": [],
   "execution_count": 19
  },
  {
   "cell_type": "code",
   "source": "",
   "metadata": {
    "cell_id": "0848350c-fe03-4fec-8001-5e81f0a208ed",
    "tags": [],
    "deepnote_to_be_reexecuted": false,
    "source_hash": "b623e53d",
    "execution_start": 1644331807821,
    "execution_millis": 1792889,
    "deepnote_cell_type": "code"
   },
   "outputs": [],
   "execution_count": 19
  },
  {
   "cell_type": "code",
   "source": "",
   "metadata": {
    "cell_id": "f1e81e4a-ed08-4873-8ca6-69d07f581432",
    "tags": [],
    "deepnote_to_be_reexecuted": false,
    "source_hash": "b623e53d",
    "execution_start": 1644331807828,
    "execution_millis": 1792898,
    "deepnote_cell_type": "code"
   },
   "outputs": [],
   "execution_count": 19
  },
  {
   "cell_type": "code",
   "source": "",
   "metadata": {
    "cell_id": "64feaedd-de48-4833-8a61-11cea4f5a364",
    "tags": [],
    "deepnote_to_be_reexecuted": false,
    "source_hash": "b623e53d",
    "execution_start": 1644331807875,
    "execution_millis": 1792849,
    "deepnote_cell_type": "code"
   },
   "outputs": [],
   "execution_count": 19
  },
  {
   "cell_type": "code",
   "source": "",
   "metadata": {
    "cell_id": "001153d3-d400-413b-a6cb-1dd82018c03c",
    "tags": [],
    "deepnote_to_be_reexecuted": false,
    "source_hash": "b623e53d",
    "execution_start": 1644331807878,
    "execution_millis": 1792848,
    "deepnote_cell_type": "code"
   },
   "outputs": [],
   "execution_count": 19
  },
  {
   "cell_type": "code",
   "metadata": {
    "cell_id": "9e542c7c-a536-4bdf-883b-c8a555703489",
    "tags": [],
    "deepnote_to_be_reexecuted": false,
    "source_hash": "904b5d71",
    "execution_start": 1644331807879,
    "execution_millis": 1792900,
    "deepnote_cell_type": "code"
   },
   "source": "print(df.loc[df['floor']>=40, ['finncode','price']])",
   "execution_count": 20,
   "outputs": [
    {
     "name": "stdout",
     "text": "         finncode    price\n58875   105504167  3950000\n135329   14251816  2110000\n",
     "output_type": "stream"
    }
   ]
  },
  {
   "cell_type": "code",
   "metadata": {
    "cell_id": "ca00411f-266d-4cce-a6e3-5d0b61971801",
    "tags": [],
    "deepnote_to_be_reexecuted": false,
    "source_hash": "4e1e1e7e",
    "execution_start": 1644331807881,
    "execution_millis": 258,
    "deepnote_output_heights": [
     611
    ],
    "deepnote_cell_type": "code"
   },
   "source": "df_leilighet = df.loc[df['housingtype']=='Leilighet']\ndf_leilighet['housingtype'].value_counts()\ndf_leilighet.isnull().sum()",
   "execution_count": 21,
   "outputs": [
    {
     "output_type": "execute_result",
     "execution_count": 21,
     "data": {
      "text/plain": "documentDate                        0\npicturedate                       219\nlastchanged                         0\nadcreated                           0\nprice                               0\nlistprice                           0\nlat                                 0\nlng                                 0\naddress                             0\napartmentnumber                   799\napartmenttype                     779\nconveyancetype                      0\nfinncode                            0\nBRA                                 0\nPROM                                0\nbuildyear                         819\nmatrikkel                           0\nbedrooms                         8686\nrooms                           39314\nbathrooms                           0\nWC                                  0\nelevator                          779\nfloor                           16994\nhousingtype                         0\ncommondebt                      39301\ncommoncosts                       851\nF_Aircondition                 155151\nF_Alarm                        154465\nF_BalkongTerrasse               53873\nF_Barnevennlig                  66694\nF_Bredbåndstilknytning          66430\nF_Fellesvaskeri                124923\nF_GarasjeP-plass               102270\nF_Heis                         106562\nF_Ingen gjenboere              114301\nF_Lademulighet                 151122\nF_Livsløpsstandard             153175\nF_Moderne                      117170\nF_Offentlig vannkloakk          84738\nF_Parkett                       73268\nF_PeisIldsted                  119796\nF_Rolig                         68014\nF_Sentralt                      67921\nF_Utsikt                       103843\nF_Vaktmester-vektertjeneste     95125\nF_Bademulighet                 150740\nF_Fiskemulighet                155544\nF_Turterreng                    89097\nadtitle                             0\nN_modernisering                     0\nN_oppussing                         0\nN_regulert                          0\nN_garasjemulighet                   0\npostcode                            0\nParking                             0\nprice_inc_debt                      0\narea_id                             0\nBydel_lat                           0\nBydel_lng                           0\ndtype: int64"
     },
     "metadata": {}
    }
   ]
  },
  {
   "cell_type": "code",
   "metadata": {
    "cell_id": "7bbb9bd0-0888-463c-9bbf-e04dc0350b37",
    "tags": [],
    "deepnote_to_be_reexecuted": false,
    "source_hash": "b623e53d",
    "execution_start": 1644331808068,
    "execution_millis": 1792852,
    "deepnote_cell_type": "code"
   },
   "source": "",
   "execution_count": 21,
   "outputs": []
  },
  {
   "cell_type": "code",
   "metadata": {
    "cell_id": "4b0c6262-f3ae-4932-84bd-c53eb9a28800",
    "tags": [],
    "deepnote_to_be_reexecuted": false,
    "source_hash": "b623e53d",
    "execution_start": 1644331808081,
    "execution_millis": 1792839,
    "deepnote_cell_type": "code"
   },
   "source": "",
   "execution_count": 21,
   "outputs": []
  },
  {
   "cell_type": "code",
   "metadata": {
    "cell_id": "923525f2-d022-4c8f-9894-e18f2a360f36",
    "tags": [],
    "deepnote_to_be_reexecuted": false,
    "source_hash": "b623e53d",
    "execution_start": 1644331808095,
    "execution_millis": 1792811,
    "deepnote_cell_type": "code"
   },
   "source": "",
   "execution_count": 21,
   "outputs": []
  },
  {
   "cell_type": "code",
   "metadata": {
    "cell_id": "9f2cbb7b-a9cb-452b-8704-a1ad5b77a36c",
    "tags": [],
    "deepnote_to_be_reexecuted": false,
    "source_hash": "b623e53d",
    "execution_start": 1644331808146,
    "execution_millis": 1792792,
    "deepnote_cell_type": "code"
   },
   "source": "",
   "execution_count": 21,
   "outputs": []
  },
  {
   "cell_type": "code",
   "metadata": {
    "cell_id": "7ce03f6c-9a73-436e-81cf-4f9f9d088793",
    "tags": [],
    "deepnote_to_be_reexecuted": false,
    "source_hash": "b623e53d",
    "execution_start": 1644331808147,
    "execution_millis": 1792791,
    "deepnote_cell_type": "code"
   },
   "source": "",
   "execution_count": 21,
   "outputs": []
  },
  {
   "cell_type": "code",
   "metadata": {
    "cell_id": "057c54bf-afdb-4f22-a861-8ea7a239c699",
    "tags": [],
    "deepnote_to_be_reexecuted": false,
    "source_hash": "b623e53d",
    "execution_start": 1644331808149,
    "execution_millis": 1792843,
    "deepnote_cell_type": "code"
   },
   "source": "",
   "execution_count": 21,
   "outputs": []
  },
  {
   "cell_type": "code",
   "metadata": {
    "cell_id": "2c47aa90-93ac-4724-bc5b-46df0133324c",
    "tags": [],
    "deepnote_to_be_reexecuted": false,
    "source_hash": "b623e53d",
    "execution_start": 1644331808157,
    "execution_millis": 1792802,
    "deepnote_cell_type": "code"
   },
   "source": "",
   "execution_count": 21,
   "outputs": []
  },
  {
   "cell_type": "code",
   "metadata": {
    "cell_id": "7bdc9505-db3f-4d1f-9de9-d3bf5dde0b08",
    "tags": [],
    "deepnote_to_be_reexecuted": false,
    "source_hash": "b623e53d",
    "execution_start": 1644331808159,
    "execution_millis": 1792801,
    "deepnote_cell_type": "code"
   },
   "source": "",
   "execution_count": 21,
   "outputs": []
  },
  {
   "cell_type": "code",
   "metadata": {
    "cell_id": "1fbb6f9f-a024-41d2-beb2-8e96ea15aedb",
    "tags": [],
    "deepnote_to_be_reexecuted": false,
    "source_hash": "b623e53d",
    "execution_start": 1644331808168,
    "execution_millis": 1792801,
    "deepnote_cell_type": "code"
   },
   "source": "",
   "execution_count": 21,
   "outputs": []
  },
  {
   "cell_type": "code",
   "metadata": {
    "cell_id": "1cfbdc41-07fc-48e0-8fc9-746d337d3d57",
    "tags": [],
    "deepnote_to_be_reexecuted": false,
    "source_hash": "b623e53d",
    "execution_start": 1644331808200,
    "execution_millis": 1792802,
    "deepnote_cell_type": "code"
   },
   "source": "",
   "execution_count": 21,
   "outputs": []
  },
  {
   "cell_type": "code",
   "metadata": {
    "cell_id": "eb5cd913-d9cf-47e7-a0c1-68764884e49e",
    "tags": [],
    "deepnote_to_be_reexecuted": false,
    "source_hash": "b623e53d",
    "execution_start": 1644331808232,
    "execution_millis": 1792809,
    "deepnote_cell_type": "code"
   },
   "source": "",
   "execution_count": 21,
   "outputs": []
  },
  {
   "cell_type": "code",
   "metadata": {
    "cell_id": "aef35122-7441-49b6-81bb-db1eca58d92a",
    "tags": [],
    "deepnote_to_be_reexecuted": false,
    "source_hash": "b623e53d",
    "execution_start": 1644331808234,
    "execution_millis": 1792815,
    "deepnote_cell_type": "code"
   },
   "source": "",
   "execution_count": 21,
   "outputs": []
  },
  {
   "cell_type": "code",
   "metadata": {
    "cell_id": "00005-b0dfb173-5623-4019-9fb9-364cc15ea865",
    "deepnote_to_be_reexecuted": false,
    "source_hash": "34cc42e7",
    "execution_start": 1644331808235,
    "execution_millis": 0,
    "deepnote_cell_type": "code"
   },
   "source": "df_latlng = df.copy()",
   "execution_count": 22,
   "outputs": []
  },
  {
   "cell_type": "code",
   "metadata": {
    "cell_id": "00006-aa82cb3e-b989-42d7-8193-b2bf11a89e22",
    "deepnote_to_be_reexecuted": false,
    "source_hash": "b49592ad",
    "execution_start": 1644331808252,
    "execution_millis": 113,
    "deepnote_cell_type": "code"
   },
   "source": "df_latlng.drop(df[df[\"lat\"] < 59.8].index, inplace=True)\ndf_latlng.drop(df[df[\"lat\"] > 59.98].index, inplace=True)",
   "execution_count": 23,
   "outputs": []
  },
  {
   "cell_type": "code",
   "metadata": {
    "cell_id": "00007-8805fa5c-b18a-4cf6-90d9-aed5cccef894",
    "deepnote_output_heights": [
     250
    ],
    "deepnote_to_be_reexecuted": false,
    "source_hash": "32487fdf",
    "execution_start": 1644331808370,
    "execution_millis": 375,
    "deepnote_cell_type": "code"
   },
   "source": "plt.scatter(df_latlng[\"lng\"],df_latlng[\"lat\"], s=1)\nplt.show()",
   "execution_count": 24,
   "outputs": [
    {
     "data": {
      "text/plain": "<Figure size 432x288 with 1 Axes>",
      "image/png": "[encoded data removed]"
     },
     "metadata": {
      "needs_background": "light",
      "image/png": {
       "width": 391,
       "height": 248
      }
     },
     "output_type": "display_data"
    }
   ]
  },
  {
   "cell_type": "code",
   "metadata": {
    "cell_id": "00008-0ce19e62-da01-4d36-ad2c-173c0a334360",
    "deepnote_output_heights": [
     431
    ],
    "deepnote_to_be_reexecuted": false,
    "source_hash": "933dcef6",
    "execution_start": 1644331808756,
    "execution_millis": 6499,
    "deepnote_cell_type": "code"
   },
   "source": "df_latlng.plot(kind = \"scatter\", \n                x = \"lng\", \n                y = \"lat\", \n                alpha = 0.4,                        # blending value, between 0 (transparent) and 1 (opaque).\n                s = df_latlng[\"price\"]/1000000,   # The marker size according to population\n                label = \"Størrelse\",               # The label of the timeseries used in legend  \n                figsize = (10,7),                   # Figure size\n                #c = \"price\",           # color dependent on feature house value\n                cmap = plt.get_cmap(\"jet\"),         # color map in case that c is an array of floats\n                colorbar = True,\n                sharex = False)                     #  each subplot x- or y-axis will be independent  \n\nplt.legend()\nplt.show()\n\n\n# Try to put an error into cmap then you get a suggestion of all the possibilities\n",
   "execution_count": 25,
   "outputs": [
    {
     "data": {
      "text/plain": "<Figure size 720x504 with 2 Axes>",
      "image/png": "[encoded data removed]"
     },
     "metadata": {
      "needs_background": "light",
      "image/png": {
       "width": 586,
       "height": 429
      }
     },
     "output_type": "display_data"
    }
   ]
  },
  {
   "cell_type": "code",
   "metadata": {
    "cell_id": "00009-86671a91-8f3b-4d70-969e-9418507566af",
    "deepnote_output_heights": [
     571
    ],
    "deepnote_to_be_reexecuted": false,
    "source_hash": "dbfd81cf",
    "execution_start": 1644331815262,
    "execution_millis": 8300,
    "deepnote_cell_type": "code"
   },
   "source": "oslo_img=mpimg.imread('oslo.png')\n\nax = df_latlng.plot(kind = \"scatter\", \n                x = \"lng\", \n                y = \"lat\", \n                alpha = 0.4,                        # blending value, between 0 (transparent) and 1 (opaque).\n                s = df_latlng[\"price\"]/1000000,   # The marker size according to population\n                label = \"Størrelse\",               # The label of the timeseries used in legend  \n                figsize = (10,10),                   # Figure size\n                #c = \"price\",           # color dependent on feature house value\n                cmap = plt.get_cmap(\"jet\"),         # color map in case that c is an array of floats\n                colorbar = True,\n                sharex = False)  \n\nplt.imshow(oslo_img,\n           extent=[10.62, 10.95, 59.81, 59.988],\n           alpha=0.5,\n           #cmap=plt.get_cmap(\"jet\")\n           )\nplt.ylabel(\"Latitude\", fontsize=14)\nplt.xlabel(\"Longitude\", fontsize=14)\n\nprices = df_latlng[\"price\"]\ntick_values = np.linspace(prices.min(), prices.max(), 11)\ncbar = plt.colorbar(ticks=tick_values/prices.max())\ncbar.ax.set_yticklabels([\"$%dk\"%(round(v/1000)) for v in tick_values], fontsize=14)\n#cbar.set_label('Median House Value', fontsize=16)\n\nplt.legend(fontsize=10)\n\nplt.show()",
   "execution_count": 26,
   "outputs": [
    {
     "data": {
      "text/plain": "<Figure size 720x720 with 3 Axes>",
      "image/png": "[encoded data removed]"
     },
     "metadata": {
      "needs_background": "light",
      "image/png": {
       "width": 592,
       "height": 569
      }
     },
     "output_type": "display_data"
    }
   ]
  },
  {
   "cell_type": "code",
   "metadata": {
    "cell_id": "00010-2b11b469-4cf3-4e02-a456-8d2f51e8cae9",
    "deepnote_to_be_reexecuted": false,
    "source_hash": "b623e53d",
    "execution_start": 1644331823565,
    "execution_millis": 1794545,
    "deepnote_cell_type": "code"
   },
   "source": "",
   "execution_count": 26,
   "outputs": []
  },
  {
   "cell_type": "code",
   "metadata": {
    "cell_id": "00011-5a5685ce-96e8-4d77-9810-4a3b40d440e3",
    "deepnote_output_heights": [
     1
    ],
    "deepnote_to_be_reexecuted": false,
    "source_hash": "c085b6ba",
    "execution_start": 1644331823567,
    "execution_millis": 437,
    "deepnote_cell_type": "code"
   },
   "source": "df.head()",
   "execution_count": 27,
   "outputs": [
    {
     "output_type": "execute_result",
     "execution_count": 27,
     "data": {
      "application/vnd.deepnote.dataframe.v3+json": {
       "column_count": 59,
       "row_count": 5,
       "columns": [
        {
         "name": "documentDate",
         "dtype": "object",
         "stats": {
          "unique_count": 5,
          "nan_count": 0,
          "categories": [
           {
            "name": "2012-10-24",
            "count": 1
           },
           {
            "name": "2009-11-12",
            "count": 1
           },
           {
            "name": "3 others",
            "count": 3
           }
          ]
         }
        },
        {
         "name": "picturedate",
         "dtype": "object",
         "stats": {
          "unique_count": 5,
          "nan_count": 0,
          "categories": [
           {
            "name": "2012/6",
            "count": 1
           },
           {
            "name": "4/186",
            "count": 1
           },
           {
            "name": "3 others",
            "count": 3
           }
          ]
         }
        },
        {
         "name": "lastchanged",
         "dtype": "object",
         "stats": {
          "unique_count": 5,
          "nan_count": 0,
          "categories": [
           {
            "name": "2012-06-15",
            "count": 1
           },
           {
            "name": "2009-09-05",
            "count": 1
           },
           {
            "name": "3 others",
            "count": 3
           }
          ]
         }
        },
        {
         "name": "adcreated",
         "dtype": "object",
         "stats": {
          "unique_count": 5,
          "nan_count": 0,
          "categories": [
           {
            "name": "2012-06-01",
            "count": 1
           },
           {
            "name": "2009-08-24",
            "count": 1
           },
           {
            "name": "3 others",
            "count": 3
           }
          ]
         }
        },
        {
         "name": "price",
         "dtype": "int64",
         "stats": {
          "unique_count": 5,
          "nan_count": 0,
          "min": "1660000",
          "max": "9900000",
          "histogram": [
           {
            "bin_start": 1660000,
            "bin_end": 2484000,
            "count": 1
           },
           {
            "bin_start": 2484000,
            "bin_end": 3308000,
            "count": 0
           },
           {
            "bin_start": 3308000,
            "bin_end": 4132000,
            "count": 1
           },
           {
            "bin_start": 4132000,
            "bin_end": 4956000,
            "count": 0
           },
           {
            "bin_start": 4956000,
            "bin_end": 5780000,
            "count": 2
           },
           {
            "bin_start": 5780000,
            "bin_end": 6604000,
            "count": 0
           },
           {
            "bin_start": 6604000,
            "bin_end": 7428000,
            "count": 0
           },
           {
            "bin_start": 7428000,
            "bin_end": 8252000,
            "count": 0
           },
           {
            "bin_start": 8252000,
            "bin_end": 9076000,
            "count": 0
           },
           {
            "bin_start": 9076000,
            "bin_end": 9900000,
            "count": 1
           }
          ]
         }
        },
        {
         "name": "listprice",
         "dtype": "float64",
         "stats": {
          "unique_count": 5,
          "nan_count": 0,
          "min": "1680000.0",
          "max": "8750000.0",
          "histogram": [
           {
            "bin_start": 1680000,
            "bin_end": 2387000,
            "count": 1
           },
           {
            "bin_start": 2387000,
            "bin_end": 3094000,
            "count": 0
           },
           {
            "bin_start": 3094000,
            "bin_end": 3801000,
            "count": 1
           },
           {
            "bin_start": 3801000,
            "bin_end": 4508000,
            "count": 0
           },
           {
            "bin_start": 4508000,
            "bin_end": 5215000,
            "count": 1
           },
           {
            "bin_start": 5215000,
            "bin_end": 5922000,
            "count": 1
           },
           {
            "bin_start": 5922000,
            "bin_end": 6629000,
            "count": 0
           },
           {
            "bin_start": 6629000,
            "bin_end": 7336000,
            "count": 0
           },
           {
            "bin_start": 7336000,
            "bin_end": 8043000,
            "count": 0
           },
           {
            "bin_start": 8043000,
            "bin_end": 8750000,
            "count": 1
           }
          ]
         }
        },
        {
         "name": "lat",
         "dtype": "float64",
         "stats": {
          "unique_count": 5,
          "nan_count": 0,
          "min": "59.879",
          "max": "59.944653",
          "histogram": [
           {
            "bin_start": 59.879,
            "bin_end": 59.885565299999996,
            "count": 1
           },
           {
            "bin_start": 59.885565299999996,
            "bin_end": 59.8921306,
            "count": 1
           },
           {
            "bin_start": 59.8921306,
            "bin_end": 59.8986959,
            "count": 0
           },
           {
            "bin_start": 59.8986959,
            "bin_end": 59.9052612,
            "count": 0
           },
           {
            "bin_start": 59.9052612,
            "bin_end": 59.911826500000004,
            "count": 0
           },
           {
            "bin_start": 59.911826500000004,
            "bin_end": 59.9183918,
            "count": 1
           },
           {
            "bin_start": 59.9183918,
            "bin_end": 59.9249571,
            "count": 1
           },
           {
            "bin_start": 59.9249571,
            "bin_end": 59.9315224,
            "count": 0
           },
           {
            "bin_start": 59.9315224,
            "bin_end": 59.938087700000004,
            "count": 0
           },
           {
            "bin_start": 59.938087700000004,
            "bin_end": 59.944653,
            "count": 1
           }
          ]
         }
        },
        {
         "name": "lng",
         "dtype": "float64",
         "stats": {
          "unique_count": 5,
          "nan_count": 0,
          "min": "10.6479",
          "max": "10.888134",
          "histogram": [
           {
            "bin_start": 10.6479,
            "bin_end": 10.6719234,
            "count": 1
           },
           {
            "bin_start": 10.6719234,
            "bin_end": 10.6959468,
            "count": 0
           },
           {
            "bin_start": 10.6959468,
            "bin_end": 10.7199702,
            "count": 0
           },
           {
            "bin_start": 10.7199702,
            "bin_end": 10.7439936,
            "count": 0
           },
           {
            "bin_start": 10.7439936,
            "bin_end": 10.768017,
            "count": 0
           },
           {
            "bin_start": 10.768017,
            "bin_end": 10.792040400000001,
            "count": 1
           },
           {
            "bin_start": 10.792040400000001,
            "bin_end": 10.8160638,
            "count": 2
           },
           {
            "bin_start": 10.8160638,
            "bin_end": 10.840087200000001,
            "count": 0
           },
           {
            "bin_start": 10.840087200000001,
            "bin_end": 10.8641106,
            "count": 0
           },
           {
            "bin_start": 10.8641106,
            "bin_end": 10.888134,
            "count": 1
           }
          ]
         }
        },
        {
         "name": "address",
         "dtype": "object",
         "stats": {
          "unique_count": 5,
          "nan_count": 0,
          "categories": [
           {
            "name": "Micheletveien 20, 1053 Oslo",
            "count": 1
           },
           {
            "name": "Libakkfaret 1 A, 1184 Oslo",
            "count": 1
           },
           {
            "name": "3 others",
            "count": 3
           }
          ]
         }
        },
        {
         "name": "apartmentnumber",
         "dtype": "object",
         "stats": {
          "unique_count": 5,
          "nan_count": 0,
          "categories": [
           {
            "name": "U0102",
            "count": 1
           },
           {
            "name": "H0302",
            "count": 1
           },
           {
            "name": "3 others",
            "count": 3
           }
          ]
         }
        },
        {
         "name": "apartmenttype",
         "dtype": "object",
         "stats": {
          "unique_count": 1,
          "nan_count": 0,
          "categories": [
           {
            "name": "B",
            "count": 5
           }
          ]
         }
        },
        {
         "name": "conveyancetype",
         "dtype": "object",
         "stats": {
          "unique_count": 1,
          "nan_count": 0,
          "categories": [
           {
            "name": "Fritt salg",
            "count": 5
           }
          ]
         }
        },
        {
         "name": "finncode",
         "dtype": "int64",
         "stats": {
          "unique_count": 5,
          "nan_count": 0,
          "min": "18679054",
          "max": "226217549",
          "histogram": [
           {
            "bin_start": 18679054,
            "bin_end": 39432903.5,
            "count": 2
           },
           {
            "bin_start": 39432903.5,
            "bin_end": 60186753,
            "count": 0
           },
           {
            "bin_start": 60186753,
            "bin_end": 80940602.5,
            "count": 0
           },
           {
            "bin_start": 80940602.5,
            "bin_end": 101694452,
            "count": 0
           },
           {
            "bin_start": 101694452,
            "bin_end": 122448301.5,
            "count": 0
           },
           {
            "bin_start": 122448301.5,
            "bin_end": 143202151,
            "count": 0
           },
           {
            "bin_start": 143202151,
            "bin_end": 163956000.5,
            "count": 0
           },
           {
            "bin_start": 163956000.5,
            "bin_end": 184709850,
            "count": 0
           },
           {
            "bin_start": 184709850,
            "bin_end": 205463699.5,
            "count": 2
           },
           {
            "bin_start": 205463699.5,
            "bin_end": 226217549,
            "count": 1
           }
          ]
         }
        },
        {
         "name": "BRA",
         "dtype": "float64",
         "stats": {
          "unique_count": 5,
          "nan_count": 0,
          "min": "55.0",
          "max": "249.0",
          "histogram": [
           {
            "bin_start": 55,
            "bin_end": 74.4,
            "count": 3
           },
           {
            "bin_start": 74.4,
            "bin_end": 93.8,
            "count": 0
           },
           {
            "bin_start": 93.8,
            "bin_end": 113.19999999999999,
            "count": 0
           },
           {
            "bin_start": 113.19999999999999,
            "bin_end": 132.6,
            "count": 1
           },
           {
            "bin_start": 132.6,
            "bin_end": 152,
            "count": 0
           },
           {
            "bin_start": 152,
            "bin_end": 171.39999999999998,
            "count": 0
           },
           {
            "bin_start": 171.39999999999998,
            "bin_end": 190.79999999999998,
            "count": 0
           },
           {
            "bin_start": 190.79999999999998,
            "bin_end": 210.2,
            "count": 0
           },
           {
            "bin_start": 210.2,
            "bin_end": 229.6,
            "count": 0
           },
           {
            "bin_start": 229.6,
            "bin_end": 249,
            "count": 1
           }
          ]
         }
        },
        {
         "name": "PROM",
         "dtype": "float64",
         "stats": {
          "unique_count": 5,
          "nan_count": 0,
          "min": "54.0",
          "max": "242.0",
          "histogram": [
           {
            "bin_start": 54,
            "bin_end": 72.8,
            "count": 3
           },
           {
            "bin_start": 72.8,
            "bin_end": 91.6,
            "count": 0
           },
           {
            "bin_start": 91.6,
            "bin_end": 110.4,
            "count": 0
           },
           {
            "bin_start": 110.4,
            "bin_end": 129.2,
            "count": 1
           },
           {
            "bin_start": 129.2,
            "bin_end": 148,
            "count": 0
           },
           {
            "bin_start": 148,
            "bin_end": 166.8,
            "count": 0
           },
           {
            "bin_start": 166.8,
            "bin_end": 185.6,
            "count": 0
           },
           {
            "bin_start": 185.6,
            "bin_end": 204.4,
            "count": 0
           },
           {
            "bin_start": 204.4,
            "bin_end": 223.20000000000002,
            "count": 0
           },
           {
            "bin_start": 223.20000000000002,
            "bin_end": 242,
            "count": 1
           }
          ]
         }
        },
        {
         "name": "buildyear",
         "dtype": "float64",
         "stats": {
          "unique_count": 4,
          "nan_count": 0,
          "min": "1954.0",
          "max": "1990.0",
          "histogram": [
           {
            "bin_start": 1954,
            "bin_end": 1957.6,
            "count": 1
           },
           {
            "bin_start": 1957.6,
            "bin_end": 1961.2,
            "count": 0
           },
           {
            "bin_start": 1961.2,
            "bin_end": 1964.8,
            "count": 0
           },
           {
            "bin_start": 1964.8,
            "bin_end": 1968.4,
            "count": 0
           },
           {
            "bin_start": 1968.4,
            "bin_end": 1972,
            "count": 1
           },
           {
            "bin_start": 1972,
            "bin_end": 1975.6,
            "count": 0
           },
           {
            "bin_start": 1975.6,
            "bin_end": 1979.2,
            "count": 2
           },
           {
            "bin_start": 1979.2,
            "bin_end": 1982.8,
            "count": 0
           },
           {
            "bin_start": 1982.8,
            "bin_end": 1986.4,
            "count": 0
           },
           {
            "bin_start": 1986.4,
            "bin_end": 1990,
            "count": 1
           }
          ]
         }
        },
        {
         "name": "matrikkel",
         "dtype": "object",
         "stats": {
          "unique_count": 5,
          "nan_count": 0,
          "categories": [
           {
            "name": "301-105-334-0",
            "count": 1
           },
           {
            "name": "301-149-433-102",
            "count": 1
           },
           {
            "name": "3 others",
            "count": 3
           }
          ]
         }
        },
        {
         "name": "bedrooms",
         "dtype": "float64",
         "stats": {
          "unique_count": 4,
          "nan_count": 0,
          "min": "1.0",
          "max": "5.0",
          "histogram": [
           {
            "bin_start": 1,
            "bin_end": 1.4,
            "count": 2
           },
           {
            "bin_start": 1.4,
            "bin_end": 1.8,
            "count": 0
           },
           {
            "bin_start": 1.8,
            "bin_end": 2.2,
            "count": 1
           },
           {
            "bin_start": 2.2,
            "bin_end": 2.6,
            "count": 0
           },
           {
            "bin_start": 2.6,
            "bin_end": 3,
            "count": 0
           },
           {
            "bin_start": 3,
            "bin_end": 3.4000000000000004,
            "count": 0
           },
           {
            "bin_start": 3.4000000000000004,
            "bin_end": 3.8000000000000003,
            "count": 0
           },
           {
            "bin_start": 3.8000000000000003,
            "bin_end": 4.2,
            "count": 1
           },
           {
            "bin_start": 4.2,
            "bin_end": 4.6,
            "count": 0
           },
           {
            "bin_start": 4.6,
            "bin_end": 5,
            "count": 1
           }
          ]
         }
        },
        {
         "name": "rooms",
         "dtype": "float64",
         "stats": {
          "unique_count": 3,
          "nan_count": 2,
          "min": "2.0",
          "max": "10.0",
          "histogram": [
           {
            "bin_start": 2,
            "bin_end": 2.8,
            "count": 1
           },
           {
            "bin_start": 2.8,
            "bin_end": 3.6,
            "count": 0
           },
           {
            "bin_start": 3.6,
            "bin_end": 4.4,
            "count": 0
           },
           {
            "bin_start": 4.4,
            "bin_end": 5.2,
            "count": 1
           },
           {
            "bin_start": 5.2,
            "bin_end": 6,
            "count": 0
           },
           {
            "bin_start": 6,
            "bin_end": 6.800000000000001,
            "count": 0
           },
           {
            "bin_start": 6.800000000000001,
            "bin_end": 7.6000000000000005,
            "count": 0
           },
           {
            "bin_start": 7.6000000000000005,
            "bin_end": 8.4,
            "count": 0
           },
           {
            "bin_start": 8.4,
            "bin_end": 9.2,
            "count": 0
           },
           {
            "bin_start": 9.2,
            "bin_end": 10,
            "count": 1
           }
          ]
         }
        },
        {
         "name": "bathrooms",
         "dtype": "int64",
         "stats": {
          "unique_count": 1,
          "nan_count": 0,
          "min": "1",
          "max": "1",
          "histogram": [
           {
            "bin_start": 0.5,
            "bin_end": 0.6,
            "count": 0
           },
           {
            "bin_start": 0.6,
            "bin_end": 0.7,
            "count": 0
           },
           {
            "bin_start": 0.7,
            "bin_end": 0.8,
            "count": 0
           },
           {
            "bin_start": 0.8,
            "bin_end": 0.9,
            "count": 0
           },
           {
            "bin_start": 0.9,
            "bin_end": 1,
            "count": 0
           },
           {
            "bin_start": 1,
            "bin_end": 1.1,
            "count": 5
           },
           {
            "bin_start": 1.1,
            "bin_end": 1.2000000000000002,
            "count": 0
           },
           {
            "bin_start": 1.2000000000000002,
            "bin_end": 1.3,
            "count": 0
           },
           {
            "bin_start": 1.3,
            "bin_end": 1.4,
            "count": 0
           },
           {
            "bin_start": 1.4,
            "bin_end": 1.5,
            "count": 0
           }
          ]
         }
        },
        {
         "name": "WC",
         "dtype": "int64",
         "stats": {
          "unique_count": 2,
          "nan_count": 0,
          "min": "1",
          "max": "2",
          "histogram": [
           {
            "bin_start": 1,
            "bin_end": 1.1,
            "count": 4
           },
           {
            "bin_start": 1.1,
            "bin_end": 1.2,
            "count": 0
           },
           {
            "bin_start": 1.2,
            "bin_end": 1.3,
            "count": 0
           },
           {
            "bin_start": 1.3,
            "bin_end": 1.4,
            "count": 0
           },
           {
            "bin_start": 1.4,
            "bin_end": 1.5,
            "count": 0
           },
           {
            "bin_start": 1.5,
            "bin_end": 1.6,
            "count": 0
           },
           {
            "bin_start": 1.6,
            "bin_end": 1.7000000000000002,
            "count": 0
           },
           {
            "bin_start": 1.7000000000000002,
            "bin_end": 1.8,
            "count": 0
           },
           {
            "bin_start": 1.8,
            "bin_end": 1.9,
            "count": 0
           },
           {
            "bin_start": 1.9,
            "bin_end": 2,
            "count": 1
           }
          ]
         }
        },
        {
         "name": "elevator",
         "dtype": "object",
         "stats": {
          "unique_count": 2,
          "nan_count": 0,
          "categories": [
           {
            "name": "N",
            "count": 4
           },
           {
            "name": "J",
            "count": 1
           }
          ]
         }
        },
        {
         "name": "floor",
         "dtype": "float64",
         "stats": {
          "unique_count": 3,
          "nan_count": 1,
          "min": "1.0",
          "max": "6.0",
          "histogram": [
           {
            "bin_start": 1,
            "bin_end": 1.5,
            "count": 2
           },
           {
            "bin_start": 1.5,
            "bin_end": 2,
            "count": 0
           },
           {
            "bin_start": 2,
            "bin_end": 2.5,
            "count": 0
           },
           {
            "bin_start": 2.5,
            "bin_end": 3,
            "count": 0
           },
           {
            "bin_start": 3,
            "bin_end": 3.5,
            "count": 1
           },
           {
            "bin_start": 3.5,
            "bin_end": 4,
            "count": 0
           },
           {
            "bin_start": 4,
            "bin_end": 4.5,
            "count": 0
           },
           {
            "bin_start": 4.5,
            "bin_end": 5,
            "count": 0
           },
           {
            "bin_start": 5,
            "bin_end": 5.5,
            "count": 0
           },
           {
            "bin_start": 5.5,
            "bin_end": 6,
            "count": 1
           }
          ]
         }
        },
        {
         "name": "housingtype",
         "dtype": "object",
         "stats": {
          "unique_count": 2,
          "nan_count": 0,
          "categories": [
           {
            "name": "Leilighet",
            "count": 3
           },
           {
            "name": "Enebolig",
            "count": 2
           }
          ]
         }
        },
        {
         "name": "commondebt",
         "dtype": "float64",
         "stats": {
          "unique_count": 2,
          "nan_count": 3,
          "min": "18207.0",
          "max": "44838.0",
          "histogram": [
           {
            "bin_start": 18207,
            "bin_end": 20870.1,
            "count": 1
           },
           {
            "bin_start": 20870.1,
            "bin_end": 23533.2,
            "count": 0
           },
           {
            "bin_start": 23533.2,
            "bin_end": 26196.3,
            "count": 0
           },
           {
            "bin_start": 26196.3,
            "bin_end": 28859.4,
            "count": 0
           },
           {
            "bin_start": 28859.4,
            "bin_end": 31522.5,
            "count": 0
           },
           {
            "bin_start": 31522.5,
            "bin_end": 34185.6,
            "count": 0
           },
           {
            "bin_start": 34185.6,
            "bin_end": 36848.7,
            "count": 0
           },
           {
            "bin_start": 36848.7,
            "bin_end": 39511.8,
            "count": 0
           },
           {
            "bin_start": 39511.8,
            "bin_end": 42174.899999999994,
            "count": 0
           },
           {
            "bin_start": 42174.899999999994,
            "bin_end": 44838,
            "count": 1
           }
          ]
         }
        },
        {
         "name": "commoncosts",
         "dtype": "float64",
         "stats": {
          "unique_count": 3,
          "nan_count": 2,
          "min": "2866.0",
          "max": "3127.0",
          "histogram": [
           {
            "bin_start": 2866,
            "bin_end": 2892.1,
            "count": 1
           },
           {
            "bin_start": 2892.1,
            "bin_end": 2918.2,
            "count": 0
           },
           {
            "bin_start": 2918.2,
            "bin_end": 2944.3,
            "count": 0
           },
           {
            "bin_start": 2944.3,
            "bin_end": 2970.4,
            "count": 0
           },
           {
            "bin_start": 2970.4,
            "bin_end": 2996.5,
            "count": 0
           },
           {
            "bin_start": 2996.5,
            "bin_end": 3022.6,
            "count": 0
           },
           {
            "bin_start": 3022.6,
            "bin_end": 3048.7,
            "count": 0
           },
           {
            "bin_start": 3048.7,
            "bin_end": 3074.8,
            "count": 1
           },
           {
            "bin_start": 3074.8,
            "bin_end": 3100.9,
            "count": 0
           },
           {
            "bin_start": 3100.9,
            "bin_end": 3127,
            "count": 1
           }
          ]
         }
        },
        {
         "name": "F_Aircondition",
         "dtype": "float64",
         "stats": {
          "unique_count": 0,
          "nan_count": 5,
          "min": null,
          "max": null,
          "histogram": [
           {
            "bin_start": 0,
            "bin_end": 0.1,
            "count": 0
           },
           {
            "bin_start": 0.1,
            "bin_end": 0.2,
            "count": 0
           },
           {
            "bin_start": 0.2,
            "bin_end": 0.30000000000000004,
            "count": 0
           },
           {
            "bin_start": 0.30000000000000004,
            "bin_end": 0.4,
            "count": 0
           },
           {
            "bin_start": 0.4,
            "bin_end": 0.5,
            "count": 0
           },
           {
            "bin_start": 0.5,
            "bin_end": 0.6000000000000001,
            "count": 0
           },
           {
            "bin_start": 0.6000000000000001,
            "bin_end": 0.7000000000000001,
            "count": 0
           },
           {
            "bin_start": 0.7000000000000001,
            "bin_end": 0.8,
            "count": 0
           },
           {
            "bin_start": 0.8,
            "bin_end": 0.9,
            "count": 0
           },
           {
            "bin_start": 0.9,
            "bin_end": 1,
            "count": 0
           }
          ]
         }
        },
        {
         "name": "F_Alarm",
         "dtype": "float64",
         "stats": {
          "unique_count": 0,
          "nan_count": 5,
          "min": null,
          "max": null,
          "histogram": [
           {
            "bin_start": 0,
            "bin_end": 0.1,
            "count": 0
           },
           {
            "bin_start": 0.1,
            "bin_end": 0.2,
            "count": 0
           },
           {
            "bin_start": 0.2,
            "bin_end": 0.30000000000000004,
            "count": 0
           },
           {
            "bin_start": 0.30000000000000004,
            "bin_end": 0.4,
            "count": 0
           },
           {
            "bin_start": 0.4,
            "bin_end": 0.5,
            "count": 0
           },
           {
            "bin_start": 0.5,
            "bin_end": 0.6000000000000001,
            "count": 0
           },
           {
            "bin_start": 0.6000000000000001,
            "bin_end": 0.7000000000000001,
            "count": 0
           },
           {
            "bin_start": 0.7000000000000001,
            "bin_end": 0.8,
            "count": 0
           },
           {
            "bin_start": 0.8,
            "bin_end": 0.9,
            "count": 0
           },
           {
            "bin_start": 0.9,
            "bin_end": 1,
            "count": 0
           }
          ]
         }
        },
        {
         "name": "F_BalkongTerrasse",
         "dtype": "float64",
         "stats": {
          "unique_count": 1,
          "nan_count": 1,
          "min": "1.0",
          "max": "1.0",
          "histogram": [
           {
            "bin_start": 0.5,
            "bin_end": 0.6,
            "count": 0
           },
           {
            "bin_start": 0.6,
            "bin_end": 0.7,
            "count": 0
           },
           {
            "bin_start": 0.7,
            "bin_end": 0.8,
            "count": 0
           },
           {
            "bin_start": 0.8,
            "bin_end": 0.9,
            "count": 0
           },
           {
            "bin_start": 0.9,
            "bin_end": 1,
            "count": 0
           },
           {
            "bin_start": 1,
            "bin_end": 1.1,
            "count": 4
           },
           {
            "bin_start": 1.1,
            "bin_end": 1.2000000000000002,
            "count": 0
           },
           {
            "bin_start": 1.2000000000000002,
            "bin_end": 1.3,
            "count": 0
           },
           {
            "bin_start": 1.3,
            "bin_end": 1.4,
            "count": 0
           },
           {
            "bin_start": 1.4,
            "bin_end": 1.5,
            "count": 0
           }
          ]
         }
        },
        {
         "name": "F_Barnevennlig",
         "dtype": "float64",
         "stats": {
          "unique_count": 1,
          "nan_count": 1,
          "min": "1.0",
          "max": "1.0",
          "histogram": [
           {
            "bin_start": 0.5,
            "bin_end": 0.6,
            "count": 0
           },
           {
            "bin_start": 0.6,
            "bin_end": 0.7,
            "count": 0
           },
           {
            "bin_start": 0.7,
            "bin_end": 0.8,
            "count": 0
           },
           {
            "bin_start": 0.8,
            "bin_end": 0.9,
            "count": 0
           },
           {
            "bin_start": 0.9,
            "bin_end": 1,
            "count": 0
           },
           {
            "bin_start": 1,
            "bin_end": 1.1,
            "count": 4
           },
           {
            "bin_start": 1.1,
            "bin_end": 1.2000000000000002,
            "count": 0
           },
           {
            "bin_start": 1.2000000000000002,
            "bin_end": 1.3,
            "count": 0
           },
           {
            "bin_start": 1.3,
            "bin_end": 1.4,
            "count": 0
           },
           {
            "bin_start": 1.4,
            "bin_end": 1.5,
            "count": 0
           }
          ]
         }
        },
        {
         "name": "F_Bredbåndstilknytning",
         "dtype": "float64",
         "stats": {
          "unique_count": 1,
          "nan_count": 3,
          "min": "1.0",
          "max": "1.0",
          "histogram": [
           {
            "bin_start": 0.5,
            "bin_end": 0.6,
            "count": 0
           },
           {
            "bin_start": 0.6,
            "bin_end": 0.7,
            "count": 0
           },
           {
            "bin_start": 0.7,
            "bin_end": 0.8,
            "count": 0
           },
           {
            "bin_start": 0.8,
            "bin_end": 0.9,
            "count": 0
           },
           {
            "bin_start": 0.9,
            "bin_end": 1,
            "count": 0
           },
           {
            "bin_start": 1,
            "bin_end": 1.1,
            "count": 2
           },
           {
            "bin_start": 1.1,
            "bin_end": 1.2000000000000002,
            "count": 0
           },
           {
            "bin_start": 1.2000000000000002,
            "bin_end": 1.3,
            "count": 0
           },
           {
            "bin_start": 1.3,
            "bin_end": 1.4,
            "count": 0
           },
           {
            "bin_start": 1.4,
            "bin_end": 1.5,
            "count": 0
           }
          ]
         }
        },
        {
         "name": "F_Fellesvaskeri",
         "dtype": "float64",
         "stats": {
          "unique_count": 0,
          "nan_count": 5,
          "min": null,
          "max": null,
          "histogram": [
           {
            "bin_start": 0,
            "bin_end": 0.1,
            "count": 0
           },
           {
            "bin_start": 0.1,
            "bin_end": 0.2,
            "count": 0
           },
           {
            "bin_start": 0.2,
            "bin_end": 0.30000000000000004,
            "count": 0
           },
           {
            "bin_start": 0.30000000000000004,
            "bin_end": 0.4,
            "count": 0
           },
           {
            "bin_start": 0.4,
            "bin_end": 0.5,
            "count": 0
           },
           {
            "bin_start": 0.5,
            "bin_end": 0.6000000000000001,
            "count": 0
           },
           {
            "bin_start": 0.6000000000000001,
            "bin_end": 0.7000000000000001,
            "count": 0
           },
           {
            "bin_start": 0.7000000000000001,
            "bin_end": 0.8,
            "count": 0
           },
           {
            "bin_start": 0.8,
            "bin_end": 0.9,
            "count": 0
           },
           {
            "bin_start": 0.9,
            "bin_end": 1,
            "count": 0
           }
          ]
         }
        },
        {
         "name": "F_GarasjeP-plass",
         "dtype": "float64",
         "stats": {
          "unique_count": 1,
          "nan_count": 2,
          "min": "1.0",
          "max": "1.0",
          "histogram": [
           {
            "bin_start": 0.5,
            "bin_end": 0.6,
            "count": 0
           },
           {
            "bin_start": 0.6,
            "bin_end": 0.7,
            "count": 0
           },
           {
            "bin_start": 0.7,
            "bin_end": 0.8,
            "count": 0
           },
           {
            "bin_start": 0.8,
            "bin_end": 0.9,
            "count": 0
           },
           {
            "bin_start": 0.9,
            "bin_end": 1,
            "count": 0
           },
           {
            "bin_start": 1,
            "bin_end": 1.1,
            "count": 3
           },
           {
            "bin_start": 1.1,
            "bin_end": 1.2000000000000002,
            "count": 0
           },
           {
            "bin_start": 1.2000000000000002,
            "bin_end": 1.3,
            "count": 0
           },
           {
            "bin_start": 1.3,
            "bin_end": 1.4,
            "count": 0
           },
           {
            "bin_start": 1.4,
            "bin_end": 1.5,
            "count": 0
           }
          ]
         }
        },
        {
         "name": "F_Heis",
         "dtype": "float64",
         "stats": {
          "unique_count": 1,
          "nan_count": 4,
          "min": "1.0",
          "max": "1.0",
          "histogram": [
           {
            "bin_start": 0.5,
            "bin_end": 0.6,
            "count": 0
           },
           {
            "bin_start": 0.6,
            "bin_end": 0.7,
            "count": 0
           },
           {
            "bin_start": 0.7,
            "bin_end": 0.8,
            "count": 0
           },
           {
            "bin_start": 0.8,
            "bin_end": 0.9,
            "count": 0
           },
           {
            "bin_start": 0.9,
            "bin_end": 1,
            "count": 0
           },
           {
            "bin_start": 1,
            "bin_end": 1.1,
            "count": 1
           },
           {
            "bin_start": 1.1,
            "bin_end": 1.2000000000000002,
            "count": 0
           },
           {
            "bin_start": 1.2000000000000002,
            "bin_end": 1.3,
            "count": 0
           },
           {
            "bin_start": 1.3,
            "bin_end": 1.4,
            "count": 0
           },
           {
            "bin_start": 1.4,
            "bin_end": 1.5,
            "count": 0
           }
          ]
         }
        },
        {
         "name": "F_Ingen gjenboere",
         "dtype": "float64",
         "stats": {
          "unique_count": 1,
          "nan_count": 2,
          "min": "1.0",
          "max": "1.0",
          "histogram": [
           {
            "bin_start": 0.5,
            "bin_end": 0.6,
            "count": 0
           },
           {
            "bin_start": 0.6,
            "bin_end": 0.7,
            "count": 0
           },
           {
            "bin_start": 0.7,
            "bin_end": 0.8,
            "count": 0
           },
           {
            "bin_start": 0.8,
            "bin_end": 0.9,
            "count": 0
           },
           {
            "bin_start": 0.9,
            "bin_end": 1,
            "count": 0
           },
           {
            "bin_start": 1,
            "bin_end": 1.1,
            "count": 3
           },
           {
            "bin_start": 1.1,
            "bin_end": 1.2000000000000002,
            "count": 0
           },
           {
            "bin_start": 1.2000000000000002,
            "bin_end": 1.3,
            "count": 0
           },
           {
            "bin_start": 1.3,
            "bin_end": 1.4,
            "count": 0
           },
           {
            "bin_start": 1.4,
            "bin_end": 1.5,
            "count": 0
           }
          ]
         }
        },
        {
         "name": "F_Lademulighet",
         "dtype": "float64",
         "stats": {
          "unique_count": 0,
          "nan_count": 5,
          "min": null,
          "max": null,
          "histogram": [
           {
            "bin_start": 0,
            "bin_end": 0.1,
            "count": 0
           },
           {
            "bin_start": 0.1,
            "bin_end": 0.2,
            "count": 0
           },
           {
            "bin_start": 0.2,
            "bin_end": 0.30000000000000004,
            "count": 0
           },
           {
            "bin_start": 0.30000000000000004,
            "bin_end": 0.4,
            "count": 0
           },
           {
            "bin_start": 0.4,
            "bin_end": 0.5,
            "count": 0
           },
           {
            "bin_start": 0.5,
            "bin_end": 0.6000000000000001,
            "count": 0
           },
           {
            "bin_start": 0.6000000000000001,
            "bin_end": 0.7000000000000001,
            "count": 0
           },
           {
            "bin_start": 0.7000000000000001,
            "bin_end": 0.8,
            "count": 0
           },
           {
            "bin_start": 0.8,
            "bin_end": 0.9,
            "count": 0
           },
           {
            "bin_start": 0.9,
            "bin_end": 1,
            "count": 0
           }
          ]
         }
        },
        {
         "name": "F_Livsløpsstandard",
         "dtype": "float64",
         "stats": {
          "unique_count": 0,
          "nan_count": 5,
          "min": null,
          "max": null,
          "histogram": [
           {
            "bin_start": 0,
            "bin_end": 0.1,
            "count": 0
           },
           {
            "bin_start": 0.1,
            "bin_end": 0.2,
            "count": 0
           },
           {
            "bin_start": 0.2,
            "bin_end": 0.30000000000000004,
            "count": 0
           },
           {
            "bin_start": 0.30000000000000004,
            "bin_end": 0.4,
            "count": 0
           },
           {
            "bin_start": 0.4,
            "bin_end": 0.5,
            "count": 0
           },
           {
            "bin_start": 0.5,
            "bin_end": 0.6000000000000001,
            "count": 0
           },
           {
            "bin_start": 0.6000000000000001,
            "bin_end": 0.7000000000000001,
            "count": 0
           },
           {
            "bin_start": 0.7000000000000001,
            "bin_end": 0.8,
            "count": 0
           },
           {
            "bin_start": 0.8,
            "bin_end": 0.9,
            "count": 0
           },
           {
            "bin_start": 0.9,
            "bin_end": 1,
            "count": 0
           }
          ]
         }
        },
        {
         "name": "F_Moderne",
         "dtype": "float64",
         "stats": {
          "unique_count": 1,
          "nan_count": 4,
          "min": "1.0",
          "max": "1.0",
          "histogram": [
           {
            "bin_start": 0.5,
            "bin_end": 0.6,
            "count": 0
           },
           {
            "bin_start": 0.6,
            "bin_end": 0.7,
            "count": 0
           },
           {
            "bin_start": 0.7,
            "bin_end": 0.8,
            "count": 0
           },
           {
            "bin_start": 0.8,
            "bin_end": 0.9,
            "count": 0
           },
           {
            "bin_start": 0.9,
            "bin_end": 1,
            "count": 0
           },
           {
            "bin_start": 1,
            "bin_end": 1.1,
            "count": 1
           },
           {
            "bin_start": 1.1,
            "bin_end": 1.2000000000000002,
            "count": 0
           },
           {
            "bin_start": 1.2000000000000002,
            "bin_end": 1.3,
            "count": 0
           },
           {
            "bin_start": 1.3,
            "bin_end": 1.4,
            "count": 0
           },
           {
            "bin_start": 1.4,
            "bin_end": 1.5,
            "count": 0
           }
          ]
         }
        },
        {
         "name": "F_Offentlig vannkloakk",
         "dtype": "float64",
         "stats": {
          "unique_count": 1,
          "nan_count": 2,
          "min": "1.0",
          "max": "1.0",
          "histogram": [
           {
            "bin_start": 0.5,
            "bin_end": 0.6,
            "count": 0
           },
           {
            "bin_start": 0.6,
            "bin_end": 0.7,
            "count": 0
           },
           {
            "bin_start": 0.7,
            "bin_end": 0.8,
            "count": 0
           },
           {
            "bin_start": 0.8,
            "bin_end": 0.9,
            "count": 0
           },
           {
            "bin_start": 0.9,
            "bin_end": 1,
            "count": 0
           },
           {
            "bin_start": 1,
            "bin_end": 1.1,
            "count": 3
           },
           {
            "bin_start": 1.1,
            "bin_end": 1.2000000000000002,
            "count": 0
           },
           {
            "bin_start": 1.2000000000000002,
            "bin_end": 1.3,
            "count": 0
           },
           {
            "bin_start": 1.3,
            "bin_end": 1.4,
            "count": 0
           },
           {
            "bin_start": 1.4,
            "bin_end": 1.5,
            "count": 0
           }
          ]
         }
        },
        {
         "name": "F_Parkett",
         "dtype": "float64",
         "stats": {
          "unique_count": 1,
          "nan_count": 3,
          "min": "1.0",
          "max": "1.0",
          "histogram": [
           {
            "bin_start": 0.5,
            "bin_end": 0.6,
            "count": 0
           },
           {
            "bin_start": 0.6,
            "bin_end": 0.7,
            "count": 0
           },
           {
            "bin_start": 0.7,
            "bin_end": 0.8,
            "count": 0
           },
           {
            "bin_start": 0.8,
            "bin_end": 0.9,
            "count": 0
           },
           {
            "bin_start": 0.9,
            "bin_end": 1,
            "count": 0
           },
           {
            "bin_start": 1,
            "bin_end": 1.1,
            "count": 2
           },
           {
            "bin_start": 1.1,
            "bin_end": 1.2000000000000002,
            "count": 0
           },
           {
            "bin_start": 1.2000000000000002,
            "bin_end": 1.3,
            "count": 0
           },
           {
            "bin_start": 1.3,
            "bin_end": 1.4,
            "count": 0
           },
           {
            "bin_start": 1.4,
            "bin_end": 1.5,
            "count": 0
           }
          ]
         }
        },
        {
         "name": "F_PeisIldsted",
         "dtype": "float64",
         "stats": {
          "unique_count": 1,
          "nan_count": 4,
          "min": "1.0",
          "max": "1.0",
          "histogram": [
           {
            "bin_start": 0.5,
            "bin_end": 0.6,
            "count": 0
           },
           {
            "bin_start": 0.6,
            "bin_end": 0.7,
            "count": 0
           },
           {
            "bin_start": 0.7,
            "bin_end": 0.8,
            "count": 0
           },
           {
            "bin_start": 0.8,
            "bin_end": 0.9,
            "count": 0
           },
           {
            "bin_start": 0.9,
            "bin_end": 1,
            "count": 0
           },
           {
            "bin_start": 1,
            "bin_end": 1.1,
            "count": 1
           },
           {
            "bin_start": 1.1,
            "bin_end": 1.2000000000000002,
            "count": 0
           },
           {
            "bin_start": 1.2000000000000002,
            "bin_end": 1.3,
            "count": 0
           },
           {
            "bin_start": 1.3,
            "bin_end": 1.4,
            "count": 0
           },
           {
            "bin_start": 1.4,
            "bin_end": 1.5,
            "count": 0
           }
          ]
         }
        },
        {
         "name": "F_Rolig",
         "dtype": "float64",
         "stats": {
          "unique_count": 1,
          "nan_count": 1,
          "min": "1.0",
          "max": "1.0",
          "histogram": [
           {
            "bin_start": 0.5,
            "bin_end": 0.6,
            "count": 0
           },
           {
            "bin_start": 0.6,
            "bin_end": 0.7,
            "count": 0
           },
           {
            "bin_start": 0.7,
            "bin_end": 0.8,
            "count": 0
           },
           {
            "bin_start": 0.8,
            "bin_end": 0.9,
            "count": 0
           },
           {
            "bin_start": 0.9,
            "bin_end": 1,
            "count": 0
           },
           {
            "bin_start": 1,
            "bin_end": 1.1,
            "count": 4
           },
           {
            "bin_start": 1.1,
            "bin_end": 1.2000000000000002,
            "count": 0
           },
           {
            "bin_start": 1.2000000000000002,
            "bin_end": 1.3,
            "count": 0
           },
           {
            "bin_start": 1.3,
            "bin_end": 1.4,
            "count": 0
           },
           {
            "bin_start": 1.4,
            "bin_end": 1.5,
            "count": 0
           }
          ]
         }
        },
        {
         "name": "F_Sentralt",
         "dtype": "float64",
         "stats": {
          "unique_count": 1,
          "nan_count": 3,
          "min": "1.0",
          "max": "1.0",
          "histogram": [
           {
            "bin_start": 0.5,
            "bin_end": 0.6,
            "count": 0
           },
           {
            "bin_start": 0.6,
            "bin_end": 0.7,
            "count": 0
           },
           {
            "bin_start": 0.7,
            "bin_end": 0.8,
            "count": 0
           },
           {
            "bin_start": 0.8,
            "bin_end": 0.9,
            "count": 0
           },
           {
            "bin_start": 0.9,
            "bin_end": 1,
            "count": 0
           },
           {
            "bin_start": 1,
            "bin_end": 1.1,
            "count": 2
           },
           {
            "bin_start": 1.1,
            "bin_end": 1.2000000000000002,
            "count": 0
           },
           {
            "bin_start": 1.2000000000000002,
            "bin_end": 1.3,
            "count": 0
           },
           {
            "bin_start": 1.3,
            "bin_end": 1.4,
            "count": 0
           },
           {
            "bin_start": 1.4,
            "bin_end": 1.5,
            "count": 0
           }
          ]
         }
        },
        {
         "name": "F_Utsikt",
         "dtype": "float64",
         "stats": {
          "unique_count": 1,
          "nan_count": 3,
          "min": "1.0",
          "max": "1.0",
          "histogram": [
           {
            "bin_start": 0.5,
            "bin_end": 0.6,
            "count": 0
           },
           {
            "bin_start": 0.6,
            "bin_end": 0.7,
            "count": 0
           },
           {
            "bin_start": 0.7,
            "bin_end": 0.8,
            "count": 0
           },
           {
            "bin_start": 0.8,
            "bin_end": 0.9,
            "count": 0
           },
           {
            "bin_start": 0.9,
            "bin_end": 1,
            "count": 0
           },
           {
            "bin_start": 1,
            "bin_end": 1.1,
            "count": 2
           },
           {
            "bin_start": 1.1,
            "bin_end": 1.2000000000000002,
            "count": 0
           },
           {
            "bin_start": 1.2000000000000002,
            "bin_end": 1.3,
            "count": 0
           },
           {
            "bin_start": 1.3,
            "bin_end": 1.4,
            "count": 0
           },
           {
            "bin_start": 1.4,
            "bin_end": 1.5,
            "count": 0
           }
          ]
         }
        },
        {
         "name": "F_Vaktmester-vektertjeneste",
         "dtype": "float64",
         "stats": {
          "unique_count": 1,
          "nan_count": 2,
          "min": "1.0",
          "max": "1.0",
          "histogram": [
           {
            "bin_start": 0.5,
            "bin_end": 0.6,
            "count": 0
           },
           {
            "bin_start": 0.6,
            "bin_end": 0.7,
            "count": 0
           },
           {
            "bin_start": 0.7,
            "bin_end": 0.8,
            "count": 0
           },
           {
            "bin_start": 0.8,
            "bin_end": 0.9,
            "count": 0
           },
           {
            "bin_start": 0.9,
            "bin_end": 1,
            "count": 0
           },
           {
            "bin_start": 1,
            "bin_end": 1.1,
            "count": 3
           },
           {
            "bin_start": 1.1,
            "bin_end": 1.2000000000000002,
            "count": 0
           },
           {
            "bin_start": 1.2000000000000002,
            "bin_end": 1.3,
            "count": 0
           },
           {
            "bin_start": 1.3,
            "bin_end": 1.4,
            "count": 0
           },
           {
            "bin_start": 1.4,
            "bin_end": 1.5,
            "count": 0
           }
          ]
         }
        },
        {
         "name": "F_Bademulighet",
         "dtype": "float64",
         "stats": {
          "unique_count": 0,
          "nan_count": 5,
          "min": null,
          "max": null,
          "histogram": [
           {
            "bin_start": 0,
            "bin_end": 0.1,
            "count": 0
           },
           {
            "bin_start": 0.1,
            "bin_end": 0.2,
            "count": 0
           },
           {
            "bin_start": 0.2,
            "bin_end": 0.30000000000000004,
            "count": 0
           },
           {
            "bin_start": 0.30000000000000004,
            "bin_end": 0.4,
            "count": 0
           },
           {
            "bin_start": 0.4,
            "bin_end": 0.5,
            "count": 0
           },
           {
            "bin_start": 0.5,
            "bin_end": 0.6000000000000001,
            "count": 0
           },
           {
            "bin_start": 0.6000000000000001,
            "bin_end": 0.7000000000000001,
            "count": 0
           },
           {
            "bin_start": 0.7000000000000001,
            "bin_end": 0.8,
            "count": 0
           },
           {
            "bin_start": 0.8,
            "bin_end": 0.9,
            "count": 0
           },
           {
            "bin_start": 0.9,
            "bin_end": 1,
            "count": 0
           }
          ]
         }
        },
        {
         "name": "F_Fiskemulighet",
         "dtype": "float64",
         "stats": {
          "unique_count": 0,
          "nan_count": 5,
          "min": null,
          "max": null,
          "histogram": [
           {
            "bin_start": 0,
            "bin_end": 0.1,
            "count": 0
           },
           {
            "bin_start": 0.1,
            "bin_end": 0.2,
            "count": 0
           },
           {
            "bin_start": 0.2,
            "bin_end": 0.30000000000000004,
            "count": 0
           },
           {
            "bin_start": 0.30000000000000004,
            "bin_end": 0.4,
            "count": 0
           },
           {
            "bin_start": 0.4,
            "bin_end": 0.5,
            "count": 0
           },
           {
            "bin_start": 0.5,
            "bin_end": 0.6000000000000001,
            "count": 0
           },
           {
            "bin_start": 0.6000000000000001,
            "bin_end": 0.7000000000000001,
            "count": 0
           },
           {
            "bin_start": 0.7000000000000001,
            "bin_end": 0.8,
            "count": 0
           },
           {
            "bin_start": 0.8,
            "bin_end": 0.9,
            "count": 0
           },
           {
            "bin_start": 0.9,
            "bin_end": 1,
            "count": 0
           }
          ]
         }
        },
        {
         "name": "F_Turterreng",
         "dtype": "float64",
         "stats": {
          "unique_count": 1,
          "nan_count": 3,
          "min": "1.0",
          "max": "1.0",
          "histogram": [
           {
            "bin_start": 0.5,
            "bin_end": 0.6,
            "count": 0
           },
           {
            "bin_start": 0.6,
            "bin_end": 0.7,
            "count": 0
           },
           {
            "bin_start": 0.7,
            "bin_end": 0.8,
            "count": 0
           },
           {
            "bin_start": 0.8,
            "bin_end": 0.9,
            "count": 0
           },
           {
            "bin_start": 0.9,
            "bin_end": 1,
            "count": 0
           },
           {
            "bin_start": 1,
            "bin_end": 1.1,
            "count": 2
           },
           {
            "bin_start": 1.1,
            "bin_end": 1.2000000000000002,
            "count": 0
           },
           {
            "bin_start": 1.2000000000000002,
            "bin_end": 1.3,
            "count": 0
           },
           {
            "bin_start": 1.3,
            "bin_end": 1.4,
            "count": 0
           },
           {
            "bin_start": 1.4,
            "bin_end": 1.5,
            "count": 0
           }
          ]
         }
        },
        {
         "name": "adtitle",
         "dtype": "object",
         "stats": {
          "unique_count": 5,
          "nan_count": 0,
          "categories": [
           {
            "name": "GAMLE FURUSET - Velholdt og romslig enebolig med sokkelleilighet - Dobbeltgarasje - Tomt på 1.140m2 - Meget barnevennlig",
            "count": 1
           },
           {
            "name": "BRATTLIKOLLEN - Lys og gjennomgående 3-roms selveier - Endeleilighet - Balkong - Sentralt - Ingen forkjøpsrett - Må sees",
            "count": 1
           },
           {
            "name": "3 others",
            "count": 3
           }
          ]
         }
        },
        {
         "name": "N_modernisering",
         "dtype": "bool",
         "stats": {
          "unique_count": 1,
          "nan_count": 0,
          "categories": [
           {
            "name": "False",
            "count": 5
           }
          ]
         }
        },
        {
         "name": "N_oppussing",
         "dtype": "bool",
         "stats": {
          "unique_count": 2,
          "nan_count": 0,
          "categories": [
           {
            "name": "False",
            "count": 4
           },
           {
            "name": "True",
            "count": 1
           }
          ]
         }
        },
        {
         "name": "N_regulert",
         "dtype": "bool",
         "stats": {
          "unique_count": 1,
          "nan_count": 0,
          "categories": [
           {
            "name": "False",
            "count": 5
           }
          ]
         }
        },
        {
         "name": "N_garasjemulighet",
         "dtype": "bool",
         "stats": {
          "unique_count": 1,
          "nan_count": 0,
          "categories": [
           {
            "name": "False",
            "count": 5
           }
          ]
         }
        },
        {
         "name": "postcode",
         "dtype": "int64",
         "stats": {
          "unique_count": 5,
          "nan_count": 0,
          "min": "283",
          "max": "1184",
          "histogram": [
           {
            "bin_start": 283,
            "bin_end": 373.1,
            "count": 1
           },
           {
            "bin_start": 373.1,
            "bin_end": 463.2,
            "count": 0
           },
           {
            "bin_start": 463.2,
            "bin_end": 553.3,
            "count": 0
           },
           {
            "bin_start": 553.3,
            "bin_end": 643.4,
            "count": 0
           },
           {
            "bin_start": 643.4,
            "bin_end": 733.5,
            "count": 1
           },
           {
            "bin_start": 733.5,
            "bin_end": 823.5999999999999,
            "count": 0
           },
           {
            "bin_start": 823.5999999999999,
            "bin_end": 913.6999999999999,
            "count": 0
           },
           {
            "bin_start": 913.6999999999999,
            "bin_end": 1003.8,
            "count": 0
           },
           {
            "bin_start": 1003.8,
            "bin_end": 1093.9,
            "count": 1
           },
           {
            "bin_start": 1093.9,
            "bin_end": 1184,
            "count": 2
           }
          ]
         }
        },
        {
         "name": "Parking",
         "dtype": "int64",
         "stats": {
          "unique_count": 2,
          "nan_count": 0,
          "min": "0",
          "max": "1",
          "histogram": [
           {
            "bin_start": 0,
            "bin_end": 0.1,
            "count": 2
           },
           {
            "bin_start": 0.1,
            "bin_end": 0.2,
            "count": 0
           },
           {
            "bin_start": 0.2,
            "bin_end": 0.30000000000000004,
            "count": 0
           },
           {
            "bin_start": 0.30000000000000004,
            "bin_end": 0.4,
            "count": 0
           },
           {
            "bin_start": 0.4,
            "bin_end": 0.5,
            "count": 0
           },
           {
            "bin_start": 0.5,
            "bin_end": 0.6000000000000001,
            "count": 0
           },
           {
            "bin_start": 0.6000000000000001,
            "bin_end": 0.7000000000000001,
            "count": 0
           },
           {
            "bin_start": 0.7000000000000001,
            "bin_end": 0.8,
            "count": 0
           },
           {
            "bin_start": 0.8,
            "bin_end": 0.9,
            "count": 0
           },
           {
            "bin_start": 0.9,
            "bin_end": 1,
            "count": 3
           }
          ]
         }
        },
        {
         "name": "price_inc_debt",
         "dtype": "float64",
         "stats": {
          "unique_count": 5,
          "nan_count": 0,
          "min": "1678207.0",
          "max": "9900000.0",
          "histogram": [
           {
            "bin_start": 1678207,
            "bin_end": 2500386.3,
            "count": 1
           },
           {
            "bin_start": 2500386.3,
            "bin_end": 3322565.6,
            "count": 0
           },
           {
            "bin_start": 3322565.6,
            "bin_end": 4144744.9000000004,
            "count": 1
           },
           {
            "bin_start": 4144744.9000000004,
            "bin_end": 4966924.2,
            "count": 0
           },
           {
            "bin_start": 4966924.2,
            "bin_end": 5789103.5,
            "count": 2
           },
           {
            "bin_start": 5789103.5,
            "bin_end": 6611282.800000001,
            "count": 0
           },
           {
            "bin_start": 6611282.800000001,
            "bin_end": 7433462.100000001,
            "count": 0
           },
           {
            "bin_start": 7433462.100000001,
            "bin_end": 8255641.4,
            "count": 0
           },
           {
            "bin_start": 8255641.4,
            "bin_end": 9077820.7,
            "count": 0
           },
           {
            "bin_start": 9077820.7,
            "bin_end": 9900000,
            "count": 1
           }
          ]
         }
        },
        {
         "name": "area_id",
         "dtype": "int64",
         "stats": {
          "unique_count": 4,
          "nan_count": 0,
          "min": "1",
          "max": "14",
          "histogram": [
           {
            "bin_start": 1,
            "bin_end": 2.3,
            "count": 1
           },
           {
            "bin_start": 2.3,
            "bin_end": 3.6,
            "count": 0
           },
           {
            "bin_start": 3.6,
            "bin_end": 4.9,
            "count": 0
           },
           {
            "bin_start": 4.9,
            "bin_end": 6.2,
            "count": 1
           },
           {
            "bin_start": 6.2,
            "bin_end": 7.5,
            "count": 0
           },
           {
            "bin_start": 7.5,
            "bin_end": 8.8,
            "count": 0
           },
           {
            "bin_start": 8.8,
            "bin_end": 10.1,
            "count": 0
           },
           {
            "bin_start": 10.1,
            "bin_end": 11.4,
            "count": 0
           },
           {
            "bin_start": 11.4,
            "bin_end": 12.700000000000001,
            "count": 1
           },
           {
            "bin_start": 12.700000000000001,
            "bin_end": 14,
            "count": 2
           }
          ]
         }
        },
        {
         "name": "Bydel_lat",
         "dtype": "float64",
         "stats": {
          "unique_count": 4,
          "nan_count": 0,
          "min": "59.875677",
          "max": "59.93598",
          "histogram": [
           {
            "bin_start": 59.875677,
            "bin_end": 59.8817073,
            "count": 2
           },
           {
            "bin_start": 59.8817073,
            "bin_end": 59.8877376,
            "count": 0
           },
           {
            "bin_start": 59.8877376,
            "bin_end": 59.8937679,
            "count": 0
           },
           {
            "bin_start": 59.8937679,
            "bin_end": 59.8997982,
            "count": 0
           },
           {
            "bin_start": 59.8997982,
            "bin_end": 59.9058285,
            "count": 0
           },
           {
            "bin_start": 59.9058285,
            "bin_end": 59.911858800000005,
            "count": 1
           },
           {
            "bin_start": 59.911858800000005,
            "bin_end": 59.917889100000004,
            "count": 0
           },
           {
            "bin_start": 59.917889100000004,
            "bin_end": 59.9239194,
            "count": 0
           },
           {
            "bin_start": 59.9239194,
            "bin_end": 59.9299497,
            "count": 1
           },
           {
            "bin_start": 59.9299497,
            "bin_end": 59.93598,
            "count": 1
           }
          ]
         }
        },
        {
         "name": "Bydel_lng",
         "dtype": "float64",
         "stats": {
          "unique_count": 4,
          "nan_count": 0,
          "min": "10.664877",
          "max": "10.877371",
          "histogram": [
           {
            "bin_start": 10.664877,
            "bin_end": 10.686126400000001,
            "count": 1
           },
           {
            "bin_start": 10.686126400000001,
            "bin_end": 10.707375800000001,
            "count": 0
           },
           {
            "bin_start": 10.707375800000001,
            "bin_end": 10.7286252,
            "count": 0
           },
           {
            "bin_start": 10.7286252,
            "bin_end": 10.7498746,
            "count": 0
           },
           {
            "bin_start": 10.7498746,
            "bin_end": 10.771124,
            "count": 0
           },
           {
            "bin_start": 10.771124,
            "bin_end": 10.7923734,
            "count": 3
           },
           {
            "bin_start": 10.7923734,
            "bin_end": 10.813622800000001,
            "count": 0
           },
           {
            "bin_start": 10.813622800000001,
            "bin_end": 10.8348722,
            "count": 0
           },
           {
            "bin_start": 10.8348722,
            "bin_end": 10.8561216,
            "count": 0
           },
           {
            "bin_start": 10.8561216,
            "bin_end": 10.877371,
            "count": 1
           }
          ]
         }
        },
        {
         "name": "_deepnote_index_column",
         "dtype": "int64"
        }
       ],
       "rows": [
        {
         "documentDate": "2012-10-24",
         "picturedate": "2012/6",
         "lastchanged": "2012-06-15",
         "adcreated": "2012-06-01",
         "price": 5760000,
         "listprice": 5490000,
         "lat": 59.944653,
         "lng": 10.888134,
         "address": "Micheletveien 20, 1053 Oslo",
         "apartmentnumber": "U0102",
         "apartmenttype": "B",
         "conveyancetype": "Fritt salg",
         "finncode": 35251134,
         "BRA": 249,
         "PROM": 242,
         "buildyear": 1977,
         "matrikkel": "301-105-334-0",
         "bedrooms": 5,
         "rooms": 10,
         "bathrooms": 1,
         "WC": 1,
         "elevator": "N",
         "floor": "nan",
         "housingtype": "Enebolig",
         "commondebt": "nan",
         "commoncosts": "nan",
         "F_Aircondition": "nan",
         "F_Alarm": "nan",
         "F_BalkongTerrasse": "nan",
         "F_Barnevennlig": "nan",
         "F_Bredbåndstilknytning": "nan",
         "F_Fellesvaskeri": "nan",
         "F_GarasjeP-plass": "nan",
         "F_Heis": "nan",
         "F_Ingen gjenboere": "nan",
         "F_Lademulighet": "nan",
         "F_Livsløpsstandard": "nan",
         "F_Moderne": "nan",
         "F_Offentlig vannkloakk": "nan",
         "F_Parkett": "nan",
         "F_PeisIldsted": "nan",
         "F_Rolig": "nan",
         "F_Sentralt": "nan",
         "F_Utsikt": "nan",
         "F_Vaktmester-vektertjeneste": "nan",
         "F_Bademulighet": "nan",
         "F_Fiskemulighet": "nan",
         "F_Turterreng": "nan",
         "adtitle": "GAMLE FURUSET - Velholdt og romslig enebolig med sokkelleilighet - Dobbeltgarasje - Tomt på 1.140m2…",
         "N_modernisering": false,
         "N_oppussing": false,
         "N_regulert": false,
         "N_garasjemulighet": false,
         "postcode": 1053,
         "Parking": 0,
         "price_inc_debt": 5760000,
         "area_id": 12,
         "Bydel_lat": 59.93598,
         "Bydel_lng": 10.877371,
         "_deepnote_index_column": 4
        },
        {
         "documentDate": "2009-11-12",
         "picturedate": "4/186",
         "lastchanged": "2009-09-05",
         "adcreated": "2009-08-24",
         "price": 1660000,
         "listprice": 1680000,
         "lat": 59.88769,
         "lng": 10.802634,
         "address": "Libakkfaret 1 A, 1184 Oslo",
         "apartmentnumber": "H0302",
         "apartmenttype": "B",
         "conveyancetype": "Fritt salg",
         "finncode": 18679054,
         "BRA": 69,
         "PROM": 66,
         "buildyear": 1954,
         "matrikkel": "301-149-433-102",
         "bedrooms": 2,
         "rooms": "nan",
         "bathrooms": 1,
         "WC": 1,
         "elevator": "N",
         "floor": 3,
         "housingtype": "Leilighet",
         "commondebt": 18207,
         "commoncosts": 2866,
         "F_Aircondition": "nan",
         "F_Alarm": "nan",
         "F_BalkongTerrasse": 1,
         "F_Barnevennlig": 1,
         "F_Bredbåndstilknytning": "nan",
         "F_Fellesvaskeri": "nan",
         "F_GarasjeP-plass": "nan",
         "F_Heis": "nan",
         "F_Ingen gjenboere": 1,
         "F_Lademulighet": "nan",
         "F_Livsløpsstandard": "nan",
         "F_Moderne": "nan",
         "F_Offentlig vannkloakk": 1,
         "F_Parkett": 1,
         "F_PeisIldsted": "nan",
         "F_Rolig": 1,
         "F_Sentralt": "nan",
         "F_Utsikt": 1,
         "F_Vaktmester-vektertjeneste": 1,
         "F_Bademulighet": "nan",
         "F_Fiskemulighet": "nan",
         "F_Turterreng": "nan",
         "adtitle": "BRATTLIKOLLEN - Lys og gjennomgående 3-roms selveier - Endeleilighet - Balkong - Sentralt - Ingen f…",
         "N_modernisering": false,
         "N_oppussing": false,
         "N_regulert": false,
         "N_garasjemulighet": false,
         "postcode": 1184,
         "Parking": 0,
         "price_inc_debt": 1678207,
         "area_id": 14,
         "Bydel_lat": 59.875677,
         "Bydel_lng": 10.789629,
         "_deepnote_index_column": 3
        },
        {
         "documentDate": "2021-12-02",
         "picturedate": "2021/8",
         "lastchanged": "2021-08-01",
         "adcreated": "2021-07-27",
         "price": 9900000,
         "listprice": 8750000,
         "lat": 59.879,
         "lng": 10.7993,
         "address": "Ringshusveien 8B, 1176 Oslo",
         "apartmentnumber": "H0101",
         "apartmenttype": "B",
         "conveyancetype": "Fritt salg",
         "finncode": 226217549,
         "BRA": 126,
         "PROM": 115,
         "buildyear": 1970,
         "matrikkel": "301-158-751-0",
         "bedrooms": 4,
         "rooms": 5,
         "bathrooms": 1,
         "WC": 2,
         "elevator": "N",
         "floor": 1,
         "housingtype": "Enebolig",
         "commondebt": "nan",
         "commoncosts": "nan",
         "F_Aircondition": "nan",
         "F_Alarm": "nan",
         "F_BalkongTerrasse": 1,
         "F_Barnevennlig": 1,
         "F_Bredbåndstilknytning": "nan",
         "F_Fellesvaskeri": "nan",
         "F_GarasjeP-plass": 1,
         "F_Heis": "nan",
         "F_Ingen gjenboere": "nan",
         "F_Lademulighet": "nan",
         "F_Livsløpsstandard": "nan",
         "F_Moderne": "nan",
         "F_Offentlig vannkloakk": "nan",
         "F_Parkett": "nan",
         "F_PeisIldsted": 1,
         "F_Rolig": 1,
         "F_Sentralt": "nan",
         "F_Utsikt": "nan",
         "F_Vaktmester-vektertjeneste": "nan",
         "F_Bademulighet": "nan",
         "F_Fiskemulighet": "nan",
         "F_Turterreng": 1,
         "adtitle": "Oppussingsobjekt - Enebolig i kjede med skjermet beliggenhet - Vestvendt uteplass - Barnevennlig - …",
         "N_modernisering": false,
         "N_oppussing": true,
         "N_regulert": false,
         "N_garasjemulighet": false,
         "postcode": 1176,
         "Parking": 1,
         "price_inc_debt": 9900000,
         "area_id": 14,
         "Bydel_lat": 59.875677,
         "Bydel_lng": 10.789629,
         "_deepnote_index_column": 2
        },
        {
         "documentDate": "2020-09-25",
         "picturedate": "2020/7",
         "lastchanged": "2020-08-07",
         "adcreated": "2020-08-03",
         "price": 5150000,
         "listprice": 4650000,
         "lat": 59.91303,
         "lng": 10.776672,
         "address": "Hagegata 41, 0653 Oslo",
         "apartmentnumber": "H0703",
         "apartmenttype": "B",
         "conveyancetype": "Fritt salg",
         "finncode": 186196629,
         "BRA": 55,
         "PROM": 54,
         "buildyear": 1990,
         "matrikkel": "301-231-166-37",
         "bedrooms": 1,
         "rooms": "nan",
         "bathrooms": 1,
         "WC": 1,
         "elevator": "J",
         "floor": 6,
         "housingtype": "Leilighet",
         "commondebt": "nan",
         "commoncosts": 3127,
         "F_Aircondition": "nan",
         "F_Alarm": "nan",
         "F_BalkongTerrasse": 1,
         "F_Barnevennlig": 1,
         "F_Bredbåndstilknytning": 1,
         "F_Fellesvaskeri": "nan",
         "F_GarasjeP-plass": 1,
         "F_Heis": 1,
         "F_Ingen gjenboere": 1,
         "F_Lademulighet": "nan",
         "F_Livsløpsstandard": "nan",
         "F_Moderne": 1,
         "F_Offentlig vannkloakk": 1,
         "F_Parkett": "nan",
         "F_PeisIldsted": "nan",
         "F_Rolig": 1,
         "F_Sentralt": 1,
         "F_Utsikt": 1,
         "F_Vaktmester-vektertjeneste": 1,
         "F_Bademulighet": "nan",
         "F_Fiskemulighet": "nan",
         "F_Turterreng": "nan",
         "adtitle": "VISNING AVLYST! Direkte bud til selger. Toppleilighet med stor, solrik takterrasse (14 kvm) - Ingen…",
         "N_modernisering": false,
         "N_oppussing": false,
         "N_regulert": false,
         "N_garasjemulighet": false,
         "postcode": 653,
         "Parking": 1,
         "price_inc_debt": 5150000,
         "area_id": 1,
         "Bydel_lat": 59.911832,
         "Bydel_lng": 10.789224,
         "_deepnote_index_column": 0
        },
        {
         "documentDate": "2020-09-29",
         "picturedate": "2020/8",
         "lastchanged": "2020-12-14",
         "adcreated": "2020-08-25",
         "price": 3900000,
         "listprice": 3650000,
         "lat": 59.9189,
         "lng": 10.6479,
         "address": "Skogbrynet 16D, 0283 Oslo",
         "apartmentnumber": "U0101",
         "apartmenttype": "B",
         "conveyancetype": "Fritt salg",
         "finncode": 188594072,
         "BRA": 56,
         "PROM": 56,
         "buildyear": 1977,
         "matrikkel": "301-9-38-14",
         "bedrooms": 1,
         "rooms": 2,
         "bathrooms": 1,
         "WC": 1,
         "elevator": "N",
         "floor": 1,
         "housingtype": "Leilighet",
         "commondebt": 44838,
         "commoncosts": 3062,
         "F_Aircondition": "nan",
         "F_Alarm": "nan",
         "F_BalkongTerrasse": 1,
         "F_Barnevennlig": 1,
         "F_Bredbåndstilknytning": 1,
         "F_Fellesvaskeri": "nan",
         "F_GarasjeP-plass": 1,
         "F_Heis": "nan",
         "F_Ingen gjenboere": 1,
         "F_Lademulighet": "nan",
         "F_Livsløpsstandard": "nan",
         "F_Moderne": "nan",
         "F_Offentlig vannkloakk": 1,
         "F_Parkett": 1,
         "F_PeisIldsted": "nan",
         "F_Rolig": 1,
         "F_Sentralt": 1,
         "F_Utsikt": "nan",
         "F_Vaktmester-vektertjeneste": 1,
         "F_Bademulighet": "nan",
         "F_Fiskemulighet": "nan",
         "F_Turterreng": 1,
         "adtitle": "Innbydende og lys 2-roms hjørneleilighet - Vestvendt terrasse mot hage - Parkeringsplass - Rekkehus…",
         "N_modernisering": false,
         "N_oppussing": false,
         "N_regulert": false,
         "N_garasjemulighet": false,
         "postcode": 283,
         "Parking": 1,
         "price_inc_debt": 3944838,
         "area_id": 6,
         "Bydel_lat": 59.927271,
         "Bydel_lng": 10.664877,
         "_deepnote_index_column": 1
        }
       ]
      },
      "text/plain": "  documentDate picturedate lastchanged   adcreated    price  listprice  \\\n0   2020-09-25      2020/7  2020-08-07  2020-08-03  5150000  4650000.0   \n1   2020-09-29      2020/8  2020-12-14  2020-08-25  3900000  3650000.0   \n2   2021-12-02      2021/8  2021-08-01  2021-07-27  9900000  8750000.0   \n3   2009-11-12       4/186  2009-09-05  2009-08-24  1660000  1680000.0   \n4   2012-10-24      2012/6  2012-06-15  2012-06-01  5760000  5490000.0   \n\n         lat        lng                      address apartmentnumber  ...  \\\n0  59.913030  10.776672       Hagegata 41, 0653 Oslo           H0703  ...   \n1  59.918900  10.647900    Skogbrynet 16D, 0283 Oslo           U0101  ...   \n2  59.879000  10.799300  Ringshusveien 8B, 1176 Oslo           H0101  ...   \n3  59.887690  10.802634   Libakkfaret 1 A, 1184 Oslo           H0302  ...   \n4  59.944653  10.888134  Micheletveien 20, 1053 Oslo           U0102  ...   \n\n  N_modernisering N_oppussing  N_regulert  N_garasjemulighet  postcode  \\\n0           False       False       False              False       653   \n1           False       False       False              False       283   \n2           False        True       False              False      1176   \n3           False       False       False              False      1184   \n4           False       False       False              False      1053   \n\n   Parking price_inc_debt  area_id  Bydel_lat  Bydel_lng  \n0        1      5150000.0        1  59.911832  10.789224  \n1        1      3944838.0        6  59.927271  10.664877  \n2        1      9900000.0       14  59.875677  10.789629  \n3        0      1678207.0       14  59.875677  10.789629  \n4        0      5760000.0       12  59.935980  10.877371  \n\n[5 rows x 59 columns]",
      "text/html": "<div>\n<style scoped>\n    .dataframe tbody tr th:only-of-type {\n        vertical-align: middle;\n    }\n\n    .dataframe tbody tr th {\n        vertical-align: top;\n    }\n\n    .dataframe thead th {\n        text-align: right;\n    }\n</style>\n<table border=\"1\" class=\"dataframe\">\n  <thead>\n    <tr style=\"text-align: right;\">\n      <th></th>\n      <th>documentDate</th>\n      <th>picturedate</th>\n      <th>lastchanged</th>\n      <th>adcreated</th>\n      <th>price</th>\n      <th>listprice</th>\n      <th>lat</th>\n      <th>lng</th>\n      <th>address</th>\n      <th>apartmentnumber</th>\n      <th>...</th>\n      <th>N_modernisering</th>\n      <th>N_oppussing</th>\n      <th>N_regulert</th>\n      <th>N_garasjemulighet</th>\n      <th>postcode</th>\n      <th>Parking</th>\n      <th>price_inc_debt</th>\n      <th>area_id</th>\n      <th>Bydel_lat</th>\n      <th>Bydel_lng</th>\n    </tr>\n  </thead>\n  <tbody>\n    <tr>\n      <th>0</th>\n      <td>2020-09-25</td>\n      <td>2020/7</td>\n      <td>2020-08-07</td>\n      <td>2020-08-03</td>\n      <td>5150000</td>\n      <td>4650000.0</td>\n      <td>59.913030</td>\n      <td>10.776672</td>\n      <td>Hagegata 41, 0653 Oslo</td>\n      <td>H0703</td>\n      <td>...</td>\n      <td>False</td>\n      <td>False</td>\n      <td>False</td>\n      <td>False</td>\n      <td>653</td>\n      <td>1</td>\n      <td>5150000.0</td>\n      <td>1</td>\n      <td>59.911832</td>\n      <td>10.789224</td>\n    </tr>\n    <tr>\n      <th>1</th>\n      <td>2020-09-29</td>\n      <td>2020/8</td>\n      <td>2020-12-14</td>\n      <td>2020-08-25</td>\n      <td>3900000</td>\n      <td>3650000.0</td>\n      <td>59.918900</td>\n      <td>10.647900</td>\n      <td>Skogbrynet 16D, 0283 Oslo</td>\n      <td>U0101</td>\n      <td>...</td>\n      <td>False</td>\n      <td>False</td>\n      <td>False</td>\n      <td>False</td>\n      <td>283</td>\n      <td>1</td>\n      <td>3944838.0</td>\n      <td>6</td>\n      <td>59.927271</td>\n      <td>10.664877</td>\n    </tr>\n    <tr>\n      <th>2</th>\n      <td>2021-12-02</td>\n      <td>2021/8</td>\n      <td>2021-08-01</td>\n      <td>2021-07-27</td>\n      <td>9900000</td>\n      <td>8750000.0</td>\n      <td>59.879000</td>\n      <td>10.799300</td>\n      <td>Ringshusveien 8B, 1176 Oslo</td>\n      <td>H0101</td>\n      <td>...</td>\n      <td>False</td>\n      <td>True</td>\n      <td>False</td>\n      <td>False</td>\n      <td>1176</td>\n      <td>1</td>\n      <td>9900000.0</td>\n      <td>14</td>\n      <td>59.875677</td>\n      <td>10.789629</td>\n    </tr>\n    <tr>\n      <th>3</th>\n      <td>2009-11-12</td>\n      <td>4/186</td>\n      <td>2009-09-05</td>\n      <td>2009-08-24</td>\n      <td>1660000</td>\n      <td>1680000.0</td>\n      <td>59.887690</td>\n      <td>10.802634</td>\n      <td>Libakkfaret 1 A, 1184 Oslo</td>\n      <td>H0302</td>\n      <td>...</td>\n      <td>False</td>\n      <td>False</td>\n      <td>False</td>\n      <td>False</td>\n      <td>1184</td>\n      <td>0</td>\n      <td>1678207.0</td>\n      <td>14</td>\n      <td>59.875677</td>\n      <td>10.789629</td>\n    </tr>\n    <tr>\n      <th>4</th>\n      <td>2012-10-24</td>\n      <td>2012/6</td>\n      <td>2012-06-15</td>\n      <td>2012-06-01</td>\n      <td>5760000</td>\n      <td>5490000.0</td>\n      <td>59.944653</td>\n      <td>10.888134</td>\n      <td>Micheletveien 20, 1053 Oslo</td>\n      <td>U0102</td>\n      <td>...</td>\n      <td>False</td>\n      <td>False</td>\n      <td>False</td>\n      <td>False</td>\n      <td>1053</td>\n      <td>0</td>\n      <td>5760000.0</td>\n      <td>12</td>\n      <td>59.935980</td>\n      <td>10.877371</td>\n    </tr>\n  </tbody>\n</table>\n<p>5 rows × 59 columns</p>\n</div>"
     },
     "metadata": {}
    }
   ]
  },
  {
   "cell_type": "code",
   "metadata": {
    "cell_id": "00012-06d055c5-8550-4dda-942e-9229072c117d",
    "deepnote_output_heights": [
     305
    ],
    "deepnote_to_be_reexecuted": false,
    "source_hash": "9c321414",
    "execution_start": 1644331823969,
    "execution_millis": 425,
    "deepnote_cell_type": "code"
   },
   "source": "df['price'].hist(bins=70, range=[0,10000000], figsize=(17,6))\nplt.show()",
   "execution_count": 28,
   "outputs": [
    {
     "data": {
      "text/plain": "<Figure size 1224x432 with 1 Axes>",
      "image/png": "[encoded data removed]"
     },
     "metadata": {
      "needs_background": "light",
      "image/png": {
       "width": 995,
       "height": 370
      }
     },
     "output_type": "display_data"
    }
   ]
  },
  {
   "cell_type": "code",
   "metadata": {
    "cell_id": "00013-073fd591-e606-4e70-bf33-dba895c85d8c",
    "deepnote_output_heights": [
     250
    ],
    "deepnote_to_be_reexecuted": false,
    "source_hash": "cff01a26",
    "execution_start": 1644331824424,
    "execution_millis": 308,
    "deepnote_cell_type": "code"
   },
   "source": "df[\"area_id\"].hist(bins=25)\nplt.show()",
   "execution_count": 29,
   "outputs": [
    {
     "data": {
      "text/plain": "<Figure size 432x288 with 1 Axes>",
      "image/png": "[encoded data removed]"
     },
     "metadata": {
      "needs_background": "light",
      "image/png": {
       "width": 387,
       "height": 248
      }
     },
     "output_type": "display_data"
    }
   ]
  },
  {
   "cell_type": "code",
   "metadata": {
    "cell_id": "00014-88d3dadb-013e-4fbb-8bf5-2b40ddd80c82",
    "deepnote_to_be_reexecuted": false,
    "source_hash": "b623e53d",
    "execution_start": 1644331824744,
    "execution_millis": 1794597,
    "deepnote_cell_type": "code"
   },
   "source": "",
   "execution_count": 29,
   "outputs": []
  },
  {
   "cell_type": "code",
   "metadata": {
    "cell_id": "7c28e39c-b084-46fd-939c-33ba8e5932e1",
    "tags": [],
    "deepnote_to_be_reexecuted": false,
    "source_hash": "b623e53d",
    "execution_start": 1644331824754,
    "execution_millis": 1794589,
    "deepnote_cell_type": "code"
   },
   "source": "",
   "execution_count": 29,
   "outputs": []
  },
  {
   "cell_type": "code",
   "metadata": {
    "cell_id": "2b3d1cbb-ba95-418a-950c-eec301627af3",
    "tags": [],
    "deepnote_to_be_reexecuted": false,
    "source_hash": "b623e53d",
    "execution_start": 1644331824764,
    "execution_millis": 1794572,
    "deepnote_cell_type": "code"
   },
   "source": "",
   "execution_count": 29,
   "outputs": []
  },
  {
   "cell_type": "code",
   "metadata": {
    "cell_id": "93699cf4-0436-46f5-bba6-1a12673335b9",
    "tags": [],
    "deepnote_to_be_reexecuted": false,
    "source_hash": "b623e53d",
    "execution_start": 1644331824826,
    "execution_millis": 1794532,
    "deepnote_cell_type": "code"
   },
   "source": "",
   "execution_count": 29,
   "outputs": []
  },
  {
   "cell_type": "code",
   "metadata": {
    "cell_id": "50ee130c-a4d3-41bc-9d02-707859f10cf0",
    "tags": [],
    "deepnote_to_be_reexecuted": false,
    "source_hash": "b623e53d",
    "execution_start": 1644331824827,
    "execution_millis": 1794532,
    "deepnote_cell_type": "code"
   },
   "source": "",
   "execution_count": 29,
   "outputs": []
  },
  {
   "cell_type": "markdown",
   "source": "<a style='text-decoration:none;line-height:16px;display:flex;color:#5B5B62;padding:10px;justify-content:end;' href='https://deepnote.com?utm_source=created-in-deepnote-cell&projectId=7a076037-bdbc-4d12-92b5-75ebface7fab' target=\"_blank\">\n<img alt='Created in deepnote.com' style='display:inline;max-height:16px;margin:0px;margin-right:7.5px;' src='data:image/svg+xml;base64,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' > </img>\nCreated in <span style='font-weight:600;margin-left:4px;'>Deepnote</span></a>",
   "metadata": {
    "tags": [],
    "created_in_deepnote_cell": true,
    "deepnote_cell_type": "markdown"
   }
  }
 ],
 "nbformat": 4,
 "nbformat_minor": 5,
 "metadata": {
  "kernelspec": {
   "display_name": "Python 3 (ipykernel)",
   "language": "python",
   "name": "python3"
  },
  "language_info": {
   "codemirror_mode": {
    "name": "ipython",
    "version": 3
   },
   "file_extension": ".py",
   "mimetype": "text/x-python",
   "name": "python",
   "nbconvert_exporter": "python",
   "pygments_lexer": "ipython3",
   "version": "3.9.6"
  },
  "deepnote_notebook_id": "412c32ea-12e7-4943-9595-4f2320b85aab",
  "deepnote": {},
  "deepnote_execution_queue": []
 }
}