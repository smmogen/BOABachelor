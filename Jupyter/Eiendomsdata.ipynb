{
 "cells": [
  {
   "cell_type": "code",
   "metadata": {
    "cell_id": "2d94c48d-2ab5-483e-b957-7096a7af5034",
    "deepnote_to_be_reexecuted": false,
    "source_hash": "cd337e81",
    "execution_start": 1644497800172,
    "execution_millis": 959,
    "deepnote_cell_type": "code"
   },
   "source": "# Importer biblioteker som trengs\nimport pandas as pd\nimport matplotlib.pyplot as plt\nimport matplotlib.image as mpimg\nimport numpy as np",
   "outputs": [],
   "execution_count": null
  },
  {
   "cell_type": "code",
   "metadata": {
    "cell_id": "00001-ee8f14d9-2253-4871-a3aa-fcb11991a616",
    "deepnote_to_be_reexecuted": false,
    "source_hash": "67247453",
    "execution_start": 1644497801136,
    "execution_millis": 1391,
    "deepnote_cell_type": "code"
   },
   "source": "# Importerer datasettet\ndf = pd.read_csv('datasett.csv')",
   "outputs": [],
   "execution_count": null
  },
  {
   "cell_type": "code",
   "metadata": {
    "cell_id": "5687221a-a4eb-4a30-b921-3c545b1f51c5",
    "tags": [],
    "deepnote_to_be_reexecuted": false,
    "source_hash": "9bf26057",
    "execution_start": 1644497802538,
    "execution_millis": 207,
    "deepnote_table_state": {
     "pageSize": 10,
     "pageIndex": 0,
     "filters": [],
     "sortBy": [
      {
       "id": "price",
       "type": "desc"
      }
     ]
    },
    "deepnote_table_loading": false,
    "deepnote_cell_type": "code"
   },
   "source": "# Tar en titt på dataen\ndf.head()",
   "outputs": [
    {
     "output_type": "execute_result",
     "execution_count": 3,
     "data": {
      "application/vnd.deepnote.dataframe.v3+json": {
       "column_count": 57,
       "row_count": 5,
       "columns": [
        {
         "name": "documentDate",
         "dtype": "object",
         "stats": {
          "unique_count": 5,
          "nan_count": 0,
          "categories": [
           {
            "name": "2021-12-02",
            "count": 1
           },
           {
            "name": "2012-10-24",
            "count": 1
           },
           {
            "name": "3 others",
            "count": 3
           }
          ]
         }
        },
        {
         "name": "picturedate",
         "dtype": "object",
         "stats": {
          "unique_count": 5,
          "nan_count": 0,
          "categories": [
           {
            "name": "2021/8",
            "count": 1
           },
           {
            "name": "2012/6",
            "count": 1
           },
           {
            "name": "3 others",
            "count": 3
           }
          ]
         }
        },
        {
         "name": "lastchanged",
         "dtype": "object",
         "stats": {
          "unique_count": 5,
          "nan_count": 0,
          "categories": [
           {
            "name": "2021-08-01",
            "count": 1
           },
           {
            "name": "2012-06-15",
            "count": 1
           },
           {
            "name": "3 others",
            "count": 3
           }
          ]
         }
        },
        {
         "name": "adcreated",
         "dtype": "object",
         "stats": {
          "unique_count": 5,
          "nan_count": 0,
          "categories": [
           {
            "name": "2021-07-27",
            "count": 1
           },
           {
            "name": "2012-06-01",
            "count": 1
           },
           {
            "name": "3 others",
            "count": 3
           }
          ]
         }
        },
        {
         "name": "price",
         "dtype": "int64",
         "stats": {
          "unique_count": 5,
          "nan_count": 0,
          "min": "1660000",
          "max": "9900000",
          "histogram": [
           {
            "bin_start": 1660000,
            "bin_end": 2484000,
            "count": 1
           },
           {
            "bin_start": 2484000,
            "bin_end": 3308000,
            "count": 0
           },
           {
            "bin_start": 3308000,
            "bin_end": 4132000,
            "count": 1
           },
           {
            "bin_start": 4132000,
            "bin_end": 4956000,
            "count": 0
           },
           {
            "bin_start": 4956000,
            "bin_end": 5780000,
            "count": 2
           },
           {
            "bin_start": 5780000,
            "bin_end": 6604000,
            "count": 0
           },
           {
            "bin_start": 6604000,
            "bin_end": 7428000,
            "count": 0
           },
           {
            "bin_start": 7428000,
            "bin_end": 8252000,
            "count": 0
           },
           {
            "bin_start": 8252000,
            "bin_end": 9076000,
            "count": 0
           },
           {
            "bin_start": 9076000,
            "bin_end": 9900000,
            "count": 1
           }
          ]
         }
        },
        {
         "name": "listprice",
         "dtype": "float64",
         "stats": {
          "unique_count": 5,
          "nan_count": 0,
          "min": "1680000.0",
          "max": "8750000.0",
          "histogram": [
           {
            "bin_start": 1680000,
            "bin_end": 2387000,
            "count": 1
           },
           {
            "bin_start": 2387000,
            "bin_end": 3094000,
            "count": 0
           },
           {
            "bin_start": 3094000,
            "bin_end": 3801000,
            "count": 1
           },
           {
            "bin_start": 3801000,
            "bin_end": 4508000,
            "count": 0
           },
           {
            "bin_start": 4508000,
            "bin_end": 5215000,
            "count": 1
           },
           {
            "bin_start": 5215000,
            "bin_end": 5922000,
            "count": 1
           },
           {
            "bin_start": 5922000,
            "bin_end": 6629000,
            "count": 0
           },
           {
            "bin_start": 6629000,
            "bin_end": 7336000,
            "count": 0
           },
           {
            "bin_start": 7336000,
            "bin_end": 8043000,
            "count": 0
           },
           {
            "bin_start": 8043000,
            "bin_end": 8750000,
            "count": 1
           }
          ]
         }
        },
        {
         "name": "lat",
         "dtype": "float64",
         "stats": {
          "unique_count": 5,
          "nan_count": 0,
          "min": "59.879",
          "max": "59.944653",
          "histogram": [
           {
            "bin_start": 59.879,
            "bin_end": 59.885565299999996,
            "count": 1
           },
           {
            "bin_start": 59.885565299999996,
            "bin_end": 59.8921306,
            "count": 1
           },
           {
            "bin_start": 59.8921306,
            "bin_end": 59.8986959,
            "count": 0
           },
           {
            "bin_start": 59.8986959,
            "bin_end": 59.9052612,
            "count": 0
           },
           {
            "bin_start": 59.9052612,
            "bin_end": 59.911826500000004,
            "count": 0
           },
           {
            "bin_start": 59.911826500000004,
            "bin_end": 59.9183918,
            "count": 1
           },
           {
            "bin_start": 59.9183918,
            "bin_end": 59.9249571,
            "count": 1
           },
           {
            "bin_start": 59.9249571,
            "bin_end": 59.9315224,
            "count": 0
           },
           {
            "bin_start": 59.9315224,
            "bin_end": 59.938087700000004,
            "count": 0
           },
           {
            "bin_start": 59.938087700000004,
            "bin_end": 59.944653,
            "count": 1
           }
          ]
         }
        },
        {
         "name": "lng",
         "dtype": "float64",
         "stats": {
          "unique_count": 5,
          "nan_count": 0,
          "min": "10.6479",
          "max": "10.888134",
          "histogram": [
           {
            "bin_start": 10.6479,
            "bin_end": 10.6719234,
            "count": 1
           },
           {
            "bin_start": 10.6719234,
            "bin_end": 10.6959468,
            "count": 0
           },
           {
            "bin_start": 10.6959468,
            "bin_end": 10.7199702,
            "count": 0
           },
           {
            "bin_start": 10.7199702,
            "bin_end": 10.7439936,
            "count": 0
           },
           {
            "bin_start": 10.7439936,
            "bin_end": 10.768017,
            "count": 0
           },
           {
            "bin_start": 10.768017,
            "bin_end": 10.792040400000001,
            "count": 1
           },
           {
            "bin_start": 10.792040400000001,
            "bin_end": 10.8160638,
            "count": 2
           },
           {
            "bin_start": 10.8160638,
            "bin_end": 10.840087200000001,
            "count": 0
           },
           {
            "bin_start": 10.840087200000001,
            "bin_end": 10.8641106,
            "count": 0
           },
           {
            "bin_start": 10.8641106,
            "bin_end": 10.888134,
            "count": 1
           }
          ]
         }
        },
        {
         "name": "address",
         "dtype": "object",
         "stats": {
          "unique_count": 5,
          "nan_count": 0,
          "categories": [
           {
            "name": "Ringshusveien 8B, 1176 Oslo",
            "count": 1
           },
           {
            "name": "Micheletveien 20, 1053 Oslo",
            "count": 1
           },
           {
            "name": "3 others",
            "count": 3
           }
          ]
         }
        },
        {
         "name": "apartmentnumber",
         "dtype": "object",
         "stats": {
          "unique_count": 5,
          "nan_count": 0,
          "categories": [
           {
            "name": "H0101",
            "count": 1
           },
           {
            "name": "U0102",
            "count": 1
           },
           {
            "name": "3 others",
            "count": 3
           }
          ]
         }
        },
        {
         "name": "apartmenttype",
         "dtype": "object",
         "stats": {
          "unique_count": 1,
          "nan_count": 0,
          "categories": [
           {
            "name": "B",
            "count": 5
           }
          ]
         }
        },
        {
         "name": "conveyancetype",
         "dtype": "object",
         "stats": {
          "unique_count": 1,
          "nan_count": 0,
          "categories": [
           {
            "name": "Fritt salg",
            "count": 5
           }
          ]
         }
        },
        {
         "name": "finncode",
         "dtype": "int64",
         "stats": {
          "unique_count": 5,
          "nan_count": 0,
          "min": "18679054",
          "max": "226217549",
          "histogram": [
           {
            "bin_start": 18679054,
            "bin_end": 39432903.5,
            "count": 2
           },
           {
            "bin_start": 39432903.5,
            "bin_end": 60186753,
            "count": 0
           },
           {
            "bin_start": 60186753,
            "bin_end": 80940602.5,
            "count": 0
           },
           {
            "bin_start": 80940602.5,
            "bin_end": 101694452,
            "count": 0
           },
           {
            "bin_start": 101694452,
            "bin_end": 122448301.5,
            "count": 0
           },
           {
            "bin_start": 122448301.5,
            "bin_end": 143202151,
            "count": 0
           },
           {
            "bin_start": 143202151,
            "bin_end": 163956000.5,
            "count": 0
           },
           {
            "bin_start": 163956000.5,
            "bin_end": 184709850,
            "count": 0
           },
           {
            "bin_start": 184709850,
            "bin_end": 205463699.5,
            "count": 2
           },
           {
            "bin_start": 205463699.5,
            "bin_end": 226217549,
            "count": 1
           }
          ]
         }
        },
        {
         "name": "BRA",
         "dtype": "float64",
         "stats": {
          "unique_count": 4,
          "nan_count": 1,
          "min": "55.0",
          "max": "249.0",
          "histogram": [
           {
            "bin_start": 55,
            "bin_end": 74.4,
            "count": 2
           },
           {
            "bin_start": 74.4,
            "bin_end": 93.8,
            "count": 0
           },
           {
            "bin_start": 93.8,
            "bin_end": 113.19999999999999,
            "count": 0
           },
           {
            "bin_start": 113.19999999999999,
            "bin_end": 132.6,
            "count": 1
           },
           {
            "bin_start": 132.6,
            "bin_end": 152,
            "count": 0
           },
           {
            "bin_start": 152,
            "bin_end": 171.39999999999998,
            "count": 0
           },
           {
            "bin_start": 171.39999999999998,
            "bin_end": 190.79999999999998,
            "count": 0
           },
           {
            "bin_start": 190.79999999999998,
            "bin_end": 210.2,
            "count": 0
           },
           {
            "bin_start": 210.2,
            "bin_end": 229.6,
            "count": 0
           },
           {
            "bin_start": 229.6,
            "bin_end": 249,
            "count": 1
           }
          ]
         }
        },
        {
         "name": "PROM",
         "dtype": "float64",
         "stats": {
          "unique_count": 5,
          "nan_count": 0,
          "min": "54.0",
          "max": "242.0",
          "histogram": [
           {
            "bin_start": 54,
            "bin_end": 72.8,
            "count": 3
           },
           {
            "bin_start": 72.8,
            "bin_end": 91.6,
            "count": 0
           },
           {
            "bin_start": 91.6,
            "bin_end": 110.4,
            "count": 0
           },
           {
            "bin_start": 110.4,
            "bin_end": 129.2,
            "count": 1
           },
           {
            "bin_start": 129.2,
            "bin_end": 148,
            "count": 0
           },
           {
            "bin_start": 148,
            "bin_end": 166.8,
            "count": 0
           },
           {
            "bin_start": 166.8,
            "bin_end": 185.6,
            "count": 0
           },
           {
            "bin_start": 185.6,
            "bin_end": 204.4,
            "count": 0
           },
           {
            "bin_start": 204.4,
            "bin_end": 223.20000000000002,
            "count": 0
           },
           {
            "bin_start": 223.20000000000002,
            "bin_end": 242,
            "count": 1
           }
          ]
         }
        },
        {
         "name": "buildyear",
         "dtype": "float64",
         "stats": {
          "unique_count": 4,
          "nan_count": 0,
          "min": "1954.0",
          "max": "1990.0",
          "histogram": [
           {
            "bin_start": 1954,
            "bin_end": 1957.6,
            "count": 1
           },
           {
            "bin_start": 1957.6,
            "bin_end": 1961.2,
            "count": 0
           },
           {
            "bin_start": 1961.2,
            "bin_end": 1964.8,
            "count": 0
           },
           {
            "bin_start": 1964.8,
            "bin_end": 1968.4,
            "count": 0
           },
           {
            "bin_start": 1968.4,
            "bin_end": 1972,
            "count": 1
           },
           {
            "bin_start": 1972,
            "bin_end": 1975.6,
            "count": 0
           },
           {
            "bin_start": 1975.6,
            "bin_end": 1979.2,
            "count": 2
           },
           {
            "bin_start": 1979.2,
            "bin_end": 1982.8,
            "count": 0
           },
           {
            "bin_start": 1982.8,
            "bin_end": 1986.4,
            "count": 0
           },
           {
            "bin_start": 1986.4,
            "bin_end": 1990,
            "count": 1
           }
          ]
         }
        },
        {
         "name": "matrikkel",
         "dtype": "object",
         "stats": {
          "unique_count": 5,
          "nan_count": 0,
          "categories": [
           {
            "name": "301-158-751-0",
            "count": 1
           },
           {
            "name": "301-105-334-0",
            "count": 1
           },
           {
            "name": "3 others",
            "count": 3
           }
          ]
         }
        },
        {
         "name": "bedrooms",
         "dtype": "float64",
         "stats": {
          "unique_count": 4,
          "nan_count": 0,
          "min": "1.0",
          "max": "5.0",
          "histogram": [
           {
            "bin_start": 1,
            "bin_end": 1.4,
            "count": 2
           },
           {
            "bin_start": 1.4,
            "bin_end": 1.8,
            "count": 0
           },
           {
            "bin_start": 1.8,
            "bin_end": 2.2,
            "count": 1
           },
           {
            "bin_start": 2.2,
            "bin_end": 2.6,
            "count": 0
           },
           {
            "bin_start": 2.6,
            "bin_end": 3,
            "count": 0
           },
           {
            "bin_start": 3,
            "bin_end": 3.4000000000000004,
            "count": 0
           },
           {
            "bin_start": 3.4000000000000004,
            "bin_end": 3.8000000000000003,
            "count": 0
           },
           {
            "bin_start": 3.8000000000000003,
            "bin_end": 4.2,
            "count": 1
           },
           {
            "bin_start": 4.2,
            "bin_end": 4.6,
            "count": 0
           },
           {
            "bin_start": 4.6,
            "bin_end": 5,
            "count": 1
           }
          ]
         }
        },
        {
         "name": "rooms",
         "dtype": "float64",
         "stats": {
          "unique_count": 3,
          "nan_count": 2,
          "min": "2.0",
          "max": "10.0",
          "histogram": [
           {
            "bin_start": 2,
            "bin_end": 2.8,
            "count": 1
           },
           {
            "bin_start": 2.8,
            "bin_end": 3.6,
            "count": 0
           },
           {
            "bin_start": 3.6,
            "bin_end": 4.4,
            "count": 0
           },
           {
            "bin_start": 4.4,
            "bin_end": 5.2,
            "count": 1
           },
           {
            "bin_start": 5.2,
            "bin_end": 6,
            "count": 0
           },
           {
            "bin_start": 6,
            "bin_end": 6.800000000000001,
            "count": 0
           },
           {
            "bin_start": 6.800000000000001,
            "bin_end": 7.6000000000000005,
            "count": 0
           },
           {
            "bin_start": 7.6000000000000005,
            "bin_end": 8.4,
            "count": 0
           },
           {
            "bin_start": 8.4,
            "bin_end": 9.2,
            "count": 0
           },
           {
            "bin_start": 9.2,
            "bin_end": 10,
            "count": 1
           }
          ]
         }
        },
        {
         "name": "bathrooms",
         "dtype": "int64",
         "stats": {
          "unique_count": 1,
          "nan_count": 0,
          "min": "1",
          "max": "1",
          "histogram": [
           {
            "bin_start": 0.5,
            "bin_end": 0.6,
            "count": 0
           },
           {
            "bin_start": 0.6,
            "bin_end": 0.7,
            "count": 0
           },
           {
            "bin_start": 0.7,
            "bin_end": 0.8,
            "count": 0
           },
           {
            "bin_start": 0.8,
            "bin_end": 0.9,
            "count": 0
           },
           {
            "bin_start": 0.9,
            "bin_end": 1,
            "count": 0
           },
           {
            "bin_start": 1,
            "bin_end": 1.1,
            "count": 5
           },
           {
            "bin_start": 1.1,
            "bin_end": 1.2000000000000002,
            "count": 0
           },
           {
            "bin_start": 1.2000000000000002,
            "bin_end": 1.3,
            "count": 0
           },
           {
            "bin_start": 1.3,
            "bin_end": 1.4,
            "count": 0
           },
           {
            "bin_start": 1.4,
            "bin_end": 1.5,
            "count": 0
           }
          ]
         }
        },
        {
         "name": "WC",
         "dtype": "int64",
         "stats": {
          "unique_count": 2,
          "nan_count": 0,
          "min": "1",
          "max": "2",
          "histogram": [
           {
            "bin_start": 1,
            "bin_end": 1.1,
            "count": 4
           },
           {
            "bin_start": 1.1,
            "bin_end": 1.2,
            "count": 0
           },
           {
            "bin_start": 1.2,
            "bin_end": 1.3,
            "count": 0
           },
           {
            "bin_start": 1.3,
            "bin_end": 1.4,
            "count": 0
           },
           {
            "bin_start": 1.4,
            "bin_end": 1.5,
            "count": 0
           },
           {
            "bin_start": 1.5,
            "bin_end": 1.6,
            "count": 0
           },
           {
            "bin_start": 1.6,
            "bin_end": 1.7000000000000002,
            "count": 0
           },
           {
            "bin_start": 1.7000000000000002,
            "bin_end": 1.8,
            "count": 0
           },
           {
            "bin_start": 1.8,
            "bin_end": 1.9,
            "count": 0
           },
           {
            "bin_start": 1.9,
            "bin_end": 2,
            "count": 1
           }
          ]
         }
        },
        {
         "name": "elevator",
         "dtype": "object",
         "stats": {
          "unique_count": 2,
          "nan_count": 0,
          "categories": [
           {
            "name": "N",
            "count": 4
           },
           {
            "name": "J",
            "count": 1
           }
          ]
         }
        },
        {
         "name": "floor",
         "dtype": "float64",
         "stats": {
          "unique_count": 3,
          "nan_count": 1,
          "min": "1.0",
          "max": "6.0",
          "histogram": [
           {
            "bin_start": 1,
            "bin_end": 1.5,
            "count": 2
           },
           {
            "bin_start": 1.5,
            "bin_end": 2,
            "count": 0
           },
           {
            "bin_start": 2,
            "bin_end": 2.5,
            "count": 0
           },
           {
            "bin_start": 2.5,
            "bin_end": 3,
            "count": 0
           },
           {
            "bin_start": 3,
            "bin_end": 3.5,
            "count": 1
           },
           {
            "bin_start": 3.5,
            "bin_end": 4,
            "count": 0
           },
           {
            "bin_start": 4,
            "bin_end": 4.5,
            "count": 0
           },
           {
            "bin_start": 4.5,
            "bin_end": 5,
            "count": 0
           },
           {
            "bin_start": 5,
            "bin_end": 5.5,
            "count": 0
           },
           {
            "bin_start": 5.5,
            "bin_end": 6,
            "count": 1
           }
          ]
         }
        },
        {
         "name": "housingtype",
         "dtype": "object",
         "stats": {
          "unique_count": 2,
          "nan_count": 0,
          "categories": [
           {
            "name": "Leilighet",
            "count": 3
           },
           {
            "name": "Enebolig",
            "count": 2
           }
          ]
         }
        },
        {
         "name": "commondebt",
         "dtype": "float64",
         "stats": {
          "unique_count": 2,
          "nan_count": 3,
          "min": "18207.0",
          "max": "44838.0",
          "histogram": [
           {
            "bin_start": 18207,
            "bin_end": 20870.1,
            "count": 1
           },
           {
            "bin_start": 20870.1,
            "bin_end": 23533.2,
            "count": 0
           },
           {
            "bin_start": 23533.2,
            "bin_end": 26196.3,
            "count": 0
           },
           {
            "bin_start": 26196.3,
            "bin_end": 28859.4,
            "count": 0
           },
           {
            "bin_start": 28859.4,
            "bin_end": 31522.5,
            "count": 0
           },
           {
            "bin_start": 31522.5,
            "bin_end": 34185.6,
            "count": 0
           },
           {
            "bin_start": 34185.6,
            "bin_end": 36848.7,
            "count": 0
           },
           {
            "bin_start": 36848.7,
            "bin_end": 39511.8,
            "count": 0
           },
           {
            "bin_start": 39511.8,
            "bin_end": 42174.899999999994,
            "count": 0
           },
           {
            "bin_start": 42174.899999999994,
            "bin_end": 44838,
            "count": 1
           }
          ]
         }
        },
        {
         "name": "commoncosts",
         "dtype": "float64",
         "stats": {
          "unique_count": 3,
          "nan_count": 2,
          "min": "2866.0",
          "max": "3127.0",
          "histogram": [
           {
            "bin_start": 2866,
            "bin_end": 2892.1,
            "count": 1
           },
           {
            "bin_start": 2892.1,
            "bin_end": 2918.2,
            "count": 0
           },
           {
            "bin_start": 2918.2,
            "bin_end": 2944.3,
            "count": 0
           },
           {
            "bin_start": 2944.3,
            "bin_end": 2970.4,
            "count": 0
           },
           {
            "bin_start": 2970.4,
            "bin_end": 2996.5,
            "count": 0
           },
           {
            "bin_start": 2996.5,
            "bin_end": 3022.6,
            "count": 0
           },
           {
            "bin_start": 3022.6,
            "bin_end": 3048.7,
            "count": 0
           },
           {
            "bin_start": 3048.7,
            "bin_end": 3074.8,
            "count": 1
           },
           {
            "bin_start": 3074.8,
            "bin_end": 3100.9,
            "count": 0
           },
           {
            "bin_start": 3100.9,
            "bin_end": 3127,
            "count": 1
           }
          ]
         }
        },
        {
         "name": "F_Aircondition",
         "dtype": "float64",
         "stats": {
          "unique_count": 0,
          "nan_count": 5,
          "min": null,
          "max": null,
          "histogram": [
           {
            "bin_start": 0,
            "bin_end": 0.1,
            "count": 0
           },
           {
            "bin_start": 0.1,
            "bin_end": 0.2,
            "count": 0
           },
           {
            "bin_start": 0.2,
            "bin_end": 0.30000000000000004,
            "count": 0
           },
           {
            "bin_start": 0.30000000000000004,
            "bin_end": 0.4,
            "count": 0
           },
           {
            "bin_start": 0.4,
            "bin_end": 0.5,
            "count": 0
           },
           {
            "bin_start": 0.5,
            "bin_end": 0.6000000000000001,
            "count": 0
           },
           {
            "bin_start": 0.6000000000000001,
            "bin_end": 0.7000000000000001,
            "count": 0
           },
           {
            "bin_start": 0.7000000000000001,
            "bin_end": 0.8,
            "count": 0
           },
           {
            "bin_start": 0.8,
            "bin_end": 0.9,
            "count": 0
           },
           {
            "bin_start": 0.9,
            "bin_end": 1,
            "count": 0
           }
          ]
         }
        },
        {
         "name": "F_Alarm",
         "dtype": "float64",
         "stats": {
          "unique_count": 0,
          "nan_count": 5,
          "min": null,
          "max": null,
          "histogram": [
           {
            "bin_start": 0,
            "bin_end": 0.1,
            "count": 0
           },
           {
            "bin_start": 0.1,
            "bin_end": 0.2,
            "count": 0
           },
           {
            "bin_start": 0.2,
            "bin_end": 0.30000000000000004,
            "count": 0
           },
           {
            "bin_start": 0.30000000000000004,
            "bin_end": 0.4,
            "count": 0
           },
           {
            "bin_start": 0.4,
            "bin_end": 0.5,
            "count": 0
           },
           {
            "bin_start": 0.5,
            "bin_end": 0.6000000000000001,
            "count": 0
           },
           {
            "bin_start": 0.6000000000000001,
            "bin_end": 0.7000000000000001,
            "count": 0
           },
           {
            "bin_start": 0.7000000000000001,
            "bin_end": 0.8,
            "count": 0
           },
           {
            "bin_start": 0.8,
            "bin_end": 0.9,
            "count": 0
           },
           {
            "bin_start": 0.9,
            "bin_end": 1,
            "count": 0
           }
          ]
         }
        },
        {
         "name": "F_BalkongTerrasse",
         "dtype": "float64",
         "stats": {
          "unique_count": 1,
          "nan_count": 1,
          "min": "1.0",
          "max": "1.0",
          "histogram": [
           {
            "bin_start": 0.5,
            "bin_end": 0.6,
            "count": 0
           },
           {
            "bin_start": 0.6,
            "bin_end": 0.7,
            "count": 0
           },
           {
            "bin_start": 0.7,
            "bin_end": 0.8,
            "count": 0
           },
           {
            "bin_start": 0.8,
            "bin_end": 0.9,
            "count": 0
           },
           {
            "bin_start": 0.9,
            "bin_end": 1,
            "count": 0
           },
           {
            "bin_start": 1,
            "bin_end": 1.1,
            "count": 4
           },
           {
            "bin_start": 1.1,
            "bin_end": 1.2000000000000002,
            "count": 0
           },
           {
            "bin_start": 1.2000000000000002,
            "bin_end": 1.3,
            "count": 0
           },
           {
            "bin_start": 1.3,
            "bin_end": 1.4,
            "count": 0
           },
           {
            "bin_start": 1.4,
            "bin_end": 1.5,
            "count": 0
           }
          ]
         }
        },
        {
         "name": "F_Barnevennlig",
         "dtype": "float64",
         "stats": {
          "unique_count": 1,
          "nan_count": 1,
          "min": "1.0",
          "max": "1.0",
          "histogram": [
           {
            "bin_start": 0.5,
            "bin_end": 0.6,
            "count": 0
           },
           {
            "bin_start": 0.6,
            "bin_end": 0.7,
            "count": 0
           },
           {
            "bin_start": 0.7,
            "bin_end": 0.8,
            "count": 0
           },
           {
            "bin_start": 0.8,
            "bin_end": 0.9,
            "count": 0
           },
           {
            "bin_start": 0.9,
            "bin_end": 1,
            "count": 0
           },
           {
            "bin_start": 1,
            "bin_end": 1.1,
            "count": 4
           },
           {
            "bin_start": 1.1,
            "bin_end": 1.2000000000000002,
            "count": 0
           },
           {
            "bin_start": 1.2000000000000002,
            "bin_end": 1.3,
            "count": 0
           },
           {
            "bin_start": 1.3,
            "bin_end": 1.4,
            "count": 0
           },
           {
            "bin_start": 1.4,
            "bin_end": 1.5,
            "count": 0
           }
          ]
         }
        },
        {
         "name": "F_Bredbåndstilknytning",
         "dtype": "float64",
         "stats": {
          "unique_count": 1,
          "nan_count": 3,
          "min": "1.0",
          "max": "1.0",
          "histogram": [
           {
            "bin_start": 0.5,
            "bin_end": 0.6,
            "count": 0
           },
           {
            "bin_start": 0.6,
            "bin_end": 0.7,
            "count": 0
           },
           {
            "bin_start": 0.7,
            "bin_end": 0.8,
            "count": 0
           },
           {
            "bin_start": 0.8,
            "bin_end": 0.9,
            "count": 0
           },
           {
            "bin_start": 0.9,
            "bin_end": 1,
            "count": 0
           },
           {
            "bin_start": 1,
            "bin_end": 1.1,
            "count": 2
           },
           {
            "bin_start": 1.1,
            "bin_end": 1.2000000000000002,
            "count": 0
           },
           {
            "bin_start": 1.2000000000000002,
            "bin_end": 1.3,
            "count": 0
           },
           {
            "bin_start": 1.3,
            "bin_end": 1.4,
            "count": 0
           },
           {
            "bin_start": 1.4,
            "bin_end": 1.5,
            "count": 0
           }
          ]
         }
        },
        {
         "name": "F_Fellesvaskeri",
         "dtype": "float64",
         "stats": {
          "unique_count": 0,
          "nan_count": 5,
          "min": null,
          "max": null,
          "histogram": [
           {
            "bin_start": 0,
            "bin_end": 0.1,
            "count": 0
           },
           {
            "bin_start": 0.1,
            "bin_end": 0.2,
            "count": 0
           },
           {
            "bin_start": 0.2,
            "bin_end": 0.30000000000000004,
            "count": 0
           },
           {
            "bin_start": 0.30000000000000004,
            "bin_end": 0.4,
            "count": 0
           },
           {
            "bin_start": 0.4,
            "bin_end": 0.5,
            "count": 0
           },
           {
            "bin_start": 0.5,
            "bin_end": 0.6000000000000001,
            "count": 0
           },
           {
            "bin_start": 0.6000000000000001,
            "bin_end": 0.7000000000000001,
            "count": 0
           },
           {
            "bin_start": 0.7000000000000001,
            "bin_end": 0.8,
            "count": 0
           },
           {
            "bin_start": 0.8,
            "bin_end": 0.9,
            "count": 0
           },
           {
            "bin_start": 0.9,
            "bin_end": 1,
            "count": 0
           }
          ]
         }
        },
        {
         "name": "F_GarasjeP-plass",
         "dtype": "float64",
         "stats": {
          "unique_count": 1,
          "nan_count": 2,
          "min": "1.0",
          "max": "1.0",
          "histogram": [
           {
            "bin_start": 0.5,
            "bin_end": 0.6,
            "count": 0
           },
           {
            "bin_start": 0.6,
            "bin_end": 0.7,
            "count": 0
           },
           {
            "bin_start": 0.7,
            "bin_end": 0.8,
            "count": 0
           },
           {
            "bin_start": 0.8,
            "bin_end": 0.9,
            "count": 0
           },
           {
            "bin_start": 0.9,
            "bin_end": 1,
            "count": 0
           },
           {
            "bin_start": 1,
            "bin_end": 1.1,
            "count": 3
           },
           {
            "bin_start": 1.1,
            "bin_end": 1.2000000000000002,
            "count": 0
           },
           {
            "bin_start": 1.2000000000000002,
            "bin_end": 1.3,
            "count": 0
           },
           {
            "bin_start": 1.3,
            "bin_end": 1.4,
            "count": 0
           },
           {
            "bin_start": 1.4,
            "bin_end": 1.5,
            "count": 0
           }
          ]
         }
        },
        {
         "name": "F_Heis",
         "dtype": "float64",
         "stats": {
          "unique_count": 1,
          "nan_count": 4,
          "min": "1.0",
          "max": "1.0",
          "histogram": [
           {
            "bin_start": 0.5,
            "bin_end": 0.6,
            "count": 0
           },
           {
            "bin_start": 0.6,
            "bin_end": 0.7,
            "count": 0
           },
           {
            "bin_start": 0.7,
            "bin_end": 0.8,
            "count": 0
           },
           {
            "bin_start": 0.8,
            "bin_end": 0.9,
            "count": 0
           },
           {
            "bin_start": 0.9,
            "bin_end": 1,
            "count": 0
           },
           {
            "bin_start": 1,
            "bin_end": 1.1,
            "count": 1
           },
           {
            "bin_start": 1.1,
            "bin_end": 1.2000000000000002,
            "count": 0
           },
           {
            "bin_start": 1.2000000000000002,
            "bin_end": 1.3,
            "count": 0
           },
           {
            "bin_start": 1.3,
            "bin_end": 1.4,
            "count": 0
           },
           {
            "bin_start": 1.4,
            "bin_end": 1.5,
            "count": 0
           }
          ]
         }
        },
        {
         "name": "F_Ingen gjenboere",
         "dtype": "float64",
         "stats": {
          "unique_count": 1,
          "nan_count": 2,
          "min": "1.0",
          "max": "1.0",
          "histogram": [
           {
            "bin_start": 0.5,
            "bin_end": 0.6,
            "count": 0
           },
           {
            "bin_start": 0.6,
            "bin_end": 0.7,
            "count": 0
           },
           {
            "bin_start": 0.7,
            "bin_end": 0.8,
            "count": 0
           },
           {
            "bin_start": 0.8,
            "bin_end": 0.9,
            "count": 0
           },
           {
            "bin_start": 0.9,
            "bin_end": 1,
            "count": 0
           },
           {
            "bin_start": 1,
            "bin_end": 1.1,
            "count": 3
           },
           {
            "bin_start": 1.1,
            "bin_end": 1.2000000000000002,
            "count": 0
           },
           {
            "bin_start": 1.2000000000000002,
            "bin_end": 1.3,
            "count": 0
           },
           {
            "bin_start": 1.3,
            "bin_end": 1.4,
            "count": 0
           },
           {
            "bin_start": 1.4,
            "bin_end": 1.5,
            "count": 0
           }
          ]
         }
        },
        {
         "name": "F_Lademulighet",
         "dtype": "float64",
         "stats": {
          "unique_count": 0,
          "nan_count": 5,
          "min": null,
          "max": null,
          "histogram": [
           {
            "bin_start": 0,
            "bin_end": 0.1,
            "count": 0
           },
           {
            "bin_start": 0.1,
            "bin_end": 0.2,
            "count": 0
           },
           {
            "bin_start": 0.2,
            "bin_end": 0.30000000000000004,
            "count": 0
           },
           {
            "bin_start": 0.30000000000000004,
            "bin_end": 0.4,
            "count": 0
           },
           {
            "bin_start": 0.4,
            "bin_end": 0.5,
            "count": 0
           },
           {
            "bin_start": 0.5,
            "bin_end": 0.6000000000000001,
            "count": 0
           },
           {
            "bin_start": 0.6000000000000001,
            "bin_end": 0.7000000000000001,
            "count": 0
           },
           {
            "bin_start": 0.7000000000000001,
            "bin_end": 0.8,
            "count": 0
           },
           {
            "bin_start": 0.8,
            "bin_end": 0.9,
            "count": 0
           },
           {
            "bin_start": 0.9,
            "bin_end": 1,
            "count": 0
           }
          ]
         }
        },
        {
         "name": "F_Livsløpsstandard",
         "dtype": "float64",
         "stats": {
          "unique_count": 0,
          "nan_count": 5,
          "min": null,
          "max": null,
          "histogram": [
           {
            "bin_start": 0,
            "bin_end": 0.1,
            "count": 0
           },
           {
            "bin_start": 0.1,
            "bin_end": 0.2,
            "count": 0
           },
           {
            "bin_start": 0.2,
            "bin_end": 0.30000000000000004,
            "count": 0
           },
           {
            "bin_start": 0.30000000000000004,
            "bin_end": 0.4,
            "count": 0
           },
           {
            "bin_start": 0.4,
            "bin_end": 0.5,
            "count": 0
           },
           {
            "bin_start": 0.5,
            "bin_end": 0.6000000000000001,
            "count": 0
           },
           {
            "bin_start": 0.6000000000000001,
            "bin_end": 0.7000000000000001,
            "count": 0
           },
           {
            "bin_start": 0.7000000000000001,
            "bin_end": 0.8,
            "count": 0
           },
           {
            "bin_start": 0.8,
            "bin_end": 0.9,
            "count": 0
           },
           {
            "bin_start": 0.9,
            "bin_end": 1,
            "count": 0
           }
          ]
         }
        },
        {
         "name": "F_Moderne",
         "dtype": "float64",
         "stats": {
          "unique_count": 1,
          "nan_count": 4,
          "min": "1.0",
          "max": "1.0",
          "histogram": [
           {
            "bin_start": 0.5,
            "bin_end": 0.6,
            "count": 0
           },
           {
            "bin_start": 0.6,
            "bin_end": 0.7,
            "count": 0
           },
           {
            "bin_start": 0.7,
            "bin_end": 0.8,
            "count": 0
           },
           {
            "bin_start": 0.8,
            "bin_end": 0.9,
            "count": 0
           },
           {
            "bin_start": 0.9,
            "bin_end": 1,
            "count": 0
           },
           {
            "bin_start": 1,
            "bin_end": 1.1,
            "count": 1
           },
           {
            "bin_start": 1.1,
            "bin_end": 1.2000000000000002,
            "count": 0
           },
           {
            "bin_start": 1.2000000000000002,
            "bin_end": 1.3,
            "count": 0
           },
           {
            "bin_start": 1.3,
            "bin_end": 1.4,
            "count": 0
           },
           {
            "bin_start": 1.4,
            "bin_end": 1.5,
            "count": 0
           }
          ]
         }
        },
        {
         "name": "F_Offentlig vannkloakk",
         "dtype": "float64",
         "stats": {
          "unique_count": 1,
          "nan_count": 2,
          "min": "1.0",
          "max": "1.0",
          "histogram": [
           {
            "bin_start": 0.5,
            "bin_end": 0.6,
            "count": 0
           },
           {
            "bin_start": 0.6,
            "bin_end": 0.7,
            "count": 0
           },
           {
            "bin_start": 0.7,
            "bin_end": 0.8,
            "count": 0
           },
           {
            "bin_start": 0.8,
            "bin_end": 0.9,
            "count": 0
           },
           {
            "bin_start": 0.9,
            "bin_end": 1,
            "count": 0
           },
           {
            "bin_start": 1,
            "bin_end": 1.1,
            "count": 3
           },
           {
            "bin_start": 1.1,
            "bin_end": 1.2000000000000002,
            "count": 0
           },
           {
            "bin_start": 1.2000000000000002,
            "bin_end": 1.3,
            "count": 0
           },
           {
            "bin_start": 1.3,
            "bin_end": 1.4,
            "count": 0
           },
           {
            "bin_start": 1.4,
            "bin_end": 1.5,
            "count": 0
           }
          ]
         }
        },
        {
         "name": "F_Parkett",
         "dtype": "float64",
         "stats": {
          "unique_count": 1,
          "nan_count": 3,
          "min": "1.0",
          "max": "1.0",
          "histogram": [
           {
            "bin_start": 0.5,
            "bin_end": 0.6,
            "count": 0
           },
           {
            "bin_start": 0.6,
            "bin_end": 0.7,
            "count": 0
           },
           {
            "bin_start": 0.7,
            "bin_end": 0.8,
            "count": 0
           },
           {
            "bin_start": 0.8,
            "bin_end": 0.9,
            "count": 0
           },
           {
            "bin_start": 0.9,
            "bin_end": 1,
            "count": 0
           },
           {
            "bin_start": 1,
            "bin_end": 1.1,
            "count": 2
           },
           {
            "bin_start": 1.1,
            "bin_end": 1.2000000000000002,
            "count": 0
           },
           {
            "bin_start": 1.2000000000000002,
            "bin_end": 1.3,
            "count": 0
           },
           {
            "bin_start": 1.3,
            "bin_end": 1.4,
            "count": 0
           },
           {
            "bin_start": 1.4,
            "bin_end": 1.5,
            "count": 0
           }
          ]
         }
        },
        {
         "name": "F_PeisIldsted",
         "dtype": "float64",
         "stats": {
          "unique_count": 1,
          "nan_count": 4,
          "min": "1.0",
          "max": "1.0",
          "histogram": [
           {
            "bin_start": 0.5,
            "bin_end": 0.6,
            "count": 0
           },
           {
            "bin_start": 0.6,
            "bin_end": 0.7,
            "count": 0
           },
           {
            "bin_start": 0.7,
            "bin_end": 0.8,
            "count": 0
           },
           {
            "bin_start": 0.8,
            "bin_end": 0.9,
            "count": 0
           },
           {
            "bin_start": 0.9,
            "bin_end": 1,
            "count": 0
           },
           {
            "bin_start": 1,
            "bin_end": 1.1,
            "count": 1
           },
           {
            "bin_start": 1.1,
            "bin_end": 1.2000000000000002,
            "count": 0
           },
           {
            "bin_start": 1.2000000000000002,
            "bin_end": 1.3,
            "count": 0
           },
           {
            "bin_start": 1.3,
            "bin_end": 1.4,
            "count": 0
           },
           {
            "bin_start": 1.4,
            "bin_end": 1.5,
            "count": 0
           }
          ]
         }
        },
        {
         "name": "F_Rolig",
         "dtype": "float64",
         "stats": {
          "unique_count": 1,
          "nan_count": 1,
          "min": "1.0",
          "max": "1.0",
          "histogram": [
           {
            "bin_start": 0.5,
            "bin_end": 0.6,
            "count": 0
           },
           {
            "bin_start": 0.6,
            "bin_end": 0.7,
            "count": 0
           },
           {
            "bin_start": 0.7,
            "bin_end": 0.8,
            "count": 0
           },
           {
            "bin_start": 0.8,
            "bin_end": 0.9,
            "count": 0
           },
           {
            "bin_start": 0.9,
            "bin_end": 1,
            "count": 0
           },
           {
            "bin_start": 1,
            "bin_end": 1.1,
            "count": 4
           },
           {
            "bin_start": 1.1,
            "bin_end": 1.2000000000000002,
            "count": 0
           },
           {
            "bin_start": 1.2000000000000002,
            "bin_end": 1.3,
            "count": 0
           },
           {
            "bin_start": 1.3,
            "bin_end": 1.4,
            "count": 0
           },
           {
            "bin_start": 1.4,
            "bin_end": 1.5,
            "count": 0
           }
          ]
         }
        },
        {
         "name": "F_Sentralt",
         "dtype": "float64",
         "stats": {
          "unique_count": 1,
          "nan_count": 3,
          "min": "1.0",
          "max": "1.0",
          "histogram": [
           {
            "bin_start": 0.5,
            "bin_end": 0.6,
            "count": 0
           },
           {
            "bin_start": 0.6,
            "bin_end": 0.7,
            "count": 0
           },
           {
            "bin_start": 0.7,
            "bin_end": 0.8,
            "count": 0
           },
           {
            "bin_start": 0.8,
            "bin_end": 0.9,
            "count": 0
           },
           {
            "bin_start": 0.9,
            "bin_end": 1,
            "count": 0
           },
           {
            "bin_start": 1,
            "bin_end": 1.1,
            "count": 2
           },
           {
            "bin_start": 1.1,
            "bin_end": 1.2000000000000002,
            "count": 0
           },
           {
            "bin_start": 1.2000000000000002,
            "bin_end": 1.3,
            "count": 0
           },
           {
            "bin_start": 1.3,
            "bin_end": 1.4,
            "count": 0
           },
           {
            "bin_start": 1.4,
            "bin_end": 1.5,
            "count": 0
           }
          ]
         }
        },
        {
         "name": "F_Utsikt",
         "dtype": "float64",
         "stats": {
          "unique_count": 1,
          "nan_count": 3,
          "min": "1.0",
          "max": "1.0",
          "histogram": [
           {
            "bin_start": 0.5,
            "bin_end": 0.6,
            "count": 0
           },
           {
            "bin_start": 0.6,
            "bin_end": 0.7,
            "count": 0
           },
           {
            "bin_start": 0.7,
            "bin_end": 0.8,
            "count": 0
           },
           {
            "bin_start": 0.8,
            "bin_end": 0.9,
            "count": 0
           },
           {
            "bin_start": 0.9,
            "bin_end": 1,
            "count": 0
           },
           {
            "bin_start": 1,
            "bin_end": 1.1,
            "count": 2
           },
           {
            "bin_start": 1.1,
            "bin_end": 1.2000000000000002,
            "count": 0
           },
           {
            "bin_start": 1.2000000000000002,
            "bin_end": 1.3,
            "count": 0
           },
           {
            "bin_start": 1.3,
            "bin_end": 1.4,
            "count": 0
           },
           {
            "bin_start": 1.4,
            "bin_end": 1.5,
            "count": 0
           }
          ]
         }
        },
        {
         "name": "F_Vaktmester-vektertjeneste",
         "dtype": "float64",
         "stats": {
          "unique_count": 1,
          "nan_count": 2,
          "min": "1.0",
          "max": "1.0",
          "histogram": [
           {
            "bin_start": 0.5,
            "bin_end": 0.6,
            "count": 0
           },
           {
            "bin_start": 0.6,
            "bin_end": 0.7,
            "count": 0
           },
           {
            "bin_start": 0.7,
            "bin_end": 0.8,
            "count": 0
           },
           {
            "bin_start": 0.8,
            "bin_end": 0.9,
            "count": 0
           },
           {
            "bin_start": 0.9,
            "bin_end": 1,
            "count": 0
           },
           {
            "bin_start": 1,
            "bin_end": 1.1,
            "count": 3
           },
           {
            "bin_start": 1.1,
            "bin_end": 1.2000000000000002,
            "count": 0
           },
           {
            "bin_start": 1.2000000000000002,
            "bin_end": 1.3,
            "count": 0
           },
           {
            "bin_start": 1.3,
            "bin_end": 1.4,
            "count": 0
           },
           {
            "bin_start": 1.4,
            "bin_end": 1.5,
            "count": 0
           }
          ]
         }
        },
        {
         "name": "F_Bademulighet",
         "dtype": "float64",
         "stats": {
          "unique_count": 0,
          "nan_count": 5,
          "min": null,
          "max": null,
          "histogram": [
           {
            "bin_start": 0,
            "bin_end": 0.1,
            "count": 0
           },
           {
            "bin_start": 0.1,
            "bin_end": 0.2,
            "count": 0
           },
           {
            "bin_start": 0.2,
            "bin_end": 0.30000000000000004,
            "count": 0
           },
           {
            "bin_start": 0.30000000000000004,
            "bin_end": 0.4,
            "count": 0
           },
           {
            "bin_start": 0.4,
            "bin_end": 0.5,
            "count": 0
           },
           {
            "bin_start": 0.5,
            "bin_end": 0.6000000000000001,
            "count": 0
           },
           {
            "bin_start": 0.6000000000000001,
            "bin_end": 0.7000000000000001,
            "count": 0
           },
           {
            "bin_start": 0.7000000000000001,
            "bin_end": 0.8,
            "count": 0
           },
           {
            "bin_start": 0.8,
            "bin_end": 0.9,
            "count": 0
           },
           {
            "bin_start": 0.9,
            "bin_end": 1,
            "count": 0
           }
          ]
         }
        },
        {
         "name": "F_Fiskemulighet",
         "dtype": "float64",
         "stats": {
          "unique_count": 0,
          "nan_count": 5,
          "min": null,
          "max": null,
          "histogram": [
           {
            "bin_start": 0,
            "bin_end": 0.1,
            "count": 0
           },
           {
            "bin_start": 0.1,
            "bin_end": 0.2,
            "count": 0
           },
           {
            "bin_start": 0.2,
            "bin_end": 0.30000000000000004,
            "count": 0
           },
           {
            "bin_start": 0.30000000000000004,
            "bin_end": 0.4,
            "count": 0
           },
           {
            "bin_start": 0.4,
            "bin_end": 0.5,
            "count": 0
           },
           {
            "bin_start": 0.5,
            "bin_end": 0.6000000000000001,
            "count": 0
           },
           {
            "bin_start": 0.6000000000000001,
            "bin_end": 0.7000000000000001,
            "count": 0
           },
           {
            "bin_start": 0.7000000000000001,
            "bin_end": 0.8,
            "count": 0
           },
           {
            "bin_start": 0.8,
            "bin_end": 0.9,
            "count": 0
           },
           {
            "bin_start": 0.9,
            "bin_end": 1,
            "count": 0
           }
          ]
         }
        },
        {
         "name": "F_Turterreng",
         "dtype": "float64",
         "stats": {
          "unique_count": 1,
          "nan_count": 3,
          "min": "1.0",
          "max": "1.0",
          "histogram": [
           {
            "bin_start": 0.5,
            "bin_end": 0.6,
            "count": 0
           },
           {
            "bin_start": 0.6,
            "bin_end": 0.7,
            "count": 0
           },
           {
            "bin_start": 0.7,
            "bin_end": 0.8,
            "count": 0
           },
           {
            "bin_start": 0.8,
            "bin_end": 0.9,
            "count": 0
           },
           {
            "bin_start": 0.9,
            "bin_end": 1,
            "count": 0
           },
           {
            "bin_start": 1,
            "bin_end": 1.1,
            "count": 2
           },
           {
            "bin_start": 1.1,
            "bin_end": 1.2000000000000002,
            "count": 0
           },
           {
            "bin_start": 1.2000000000000002,
            "bin_end": 1.3,
            "count": 0
           },
           {
            "bin_start": 1.3,
            "bin_end": 1.4,
            "count": 0
           },
           {
            "bin_start": 1.4,
            "bin_end": 1.5,
            "count": 0
           }
          ]
         }
        },
        {
         "name": "adtitle",
         "dtype": "object",
         "stats": {
          "unique_count": 5,
          "nan_count": 0,
          "categories": [
           {
            "name": "Oppussingsobjekt - Enebolig i kjede med skjermet beliggenhet - Vestvendt uteplass - Barnevennlig - 4 soverom - Peis",
            "count": 1
           },
           {
            "name": "GAMLE FURUSET - Velholdt og romslig enebolig med sokkelleilighet - Dobbeltgarasje - Tomt på 1.140m2 - Meget barnevennlig",
            "count": 1
           },
           {
            "name": "3 others",
            "count": 3
           }
          ]
         }
        },
        {
         "name": "N_modernisering",
         "dtype": "bool",
         "stats": {
          "unique_count": 1,
          "nan_count": 0,
          "categories": [
           {
            "name": "False",
            "count": 5
           }
          ]
         }
        },
        {
         "name": "N_oppussing",
         "dtype": "bool",
         "stats": {
          "unique_count": 2,
          "nan_count": 0,
          "categories": [
           {
            "name": "False",
            "count": 4
           },
           {
            "name": "True",
            "count": 1
           }
          ]
         }
        },
        {
         "name": "N_regulert",
         "dtype": "bool",
         "stats": {
          "unique_count": 1,
          "nan_count": 0,
          "categories": [
           {
            "name": "False",
            "count": 5
           }
          ]
         }
        },
        {
         "name": "N_garasjemulighet",
         "dtype": "bool",
         "stats": {
          "unique_count": 1,
          "nan_count": 0,
          "categories": [
           {
            "name": "False",
            "count": 5
           }
          ]
         }
        },
        {
         "name": "postcode",
         "dtype": "int64",
         "stats": {
          "unique_count": 5,
          "nan_count": 0,
          "min": "283",
          "max": "1184",
          "histogram": [
           {
            "bin_start": 283,
            "bin_end": 373.1,
            "count": 1
           },
           {
            "bin_start": 373.1,
            "bin_end": 463.2,
            "count": 0
           },
           {
            "bin_start": 463.2,
            "bin_end": 553.3,
            "count": 0
           },
           {
            "bin_start": 553.3,
            "bin_end": 643.4,
            "count": 0
           },
           {
            "bin_start": 643.4,
            "bin_end": 733.5,
            "count": 1
           },
           {
            "bin_start": 733.5,
            "bin_end": 823.5999999999999,
            "count": 0
           },
           {
            "bin_start": 823.5999999999999,
            "bin_end": 913.6999999999999,
            "count": 0
           },
           {
            "bin_start": 913.6999999999999,
            "bin_end": 1003.8,
            "count": 0
           },
           {
            "bin_start": 1003.8,
            "bin_end": 1093.9,
            "count": 1
           },
           {
            "bin_start": 1093.9,
            "bin_end": 1184,
            "count": 2
           }
          ]
         }
        },
        {
         "name": "Parking",
         "dtype": "int64",
         "stats": {
          "unique_count": 2,
          "nan_count": 0,
          "min": "0",
          "max": "1",
          "histogram": [
           {
            "bin_start": 0,
            "bin_end": 0.1,
            "count": 2
           },
           {
            "bin_start": 0.1,
            "bin_end": 0.2,
            "count": 0
           },
           {
            "bin_start": 0.2,
            "bin_end": 0.30000000000000004,
            "count": 0
           },
           {
            "bin_start": 0.30000000000000004,
            "bin_end": 0.4,
            "count": 0
           },
           {
            "bin_start": 0.4,
            "bin_end": 0.5,
            "count": 0
           },
           {
            "bin_start": 0.5,
            "bin_end": 0.6000000000000001,
            "count": 0
           },
           {
            "bin_start": 0.6000000000000001,
            "bin_end": 0.7000000000000001,
            "count": 0
           },
           {
            "bin_start": 0.7000000000000001,
            "bin_end": 0.8,
            "count": 0
           },
           {
            "bin_start": 0.8,
            "bin_end": 0.9,
            "count": 0
           },
           {
            "bin_start": 0.9,
            "bin_end": 1,
            "count": 3
           }
          ]
         }
        },
        {
         "name": "price_inc_debt",
         "dtype": "float64",
         "stats": {
          "unique_count": 5,
          "nan_count": 0,
          "min": "1678207.0",
          "max": "9900000.0",
          "histogram": [
           {
            "bin_start": 1678207,
            "bin_end": 2500386.3,
            "count": 1
           },
           {
            "bin_start": 2500386.3,
            "bin_end": 3322565.6,
            "count": 0
           },
           {
            "bin_start": 3322565.6,
            "bin_end": 4144744.9000000004,
            "count": 1
           },
           {
            "bin_start": 4144744.9000000004,
            "bin_end": 4966924.2,
            "count": 0
           },
           {
            "bin_start": 4966924.2,
            "bin_end": 5789103.5,
            "count": 2
           },
           {
            "bin_start": 5789103.5,
            "bin_end": 6611282.800000001,
            "count": 0
           },
           {
            "bin_start": 6611282.800000001,
            "bin_end": 7433462.100000001,
            "count": 0
           },
           {
            "bin_start": 7433462.100000001,
            "bin_end": 8255641.4,
            "count": 0
           },
           {
            "bin_start": 8255641.4,
            "bin_end": 9077820.7,
            "count": 0
           },
           {
            "bin_start": 9077820.7,
            "bin_end": 9900000,
            "count": 1
           }
          ]
         }
        },
        {
         "name": "area_id",
         "dtype": "int64",
         "stats": {
          "unique_count": 4,
          "nan_count": 0,
          "min": "1",
          "max": "14",
          "histogram": [
           {
            "bin_start": 1,
            "bin_end": 2.3,
            "count": 1
           },
           {
            "bin_start": 2.3,
            "bin_end": 3.6,
            "count": 0
           },
           {
            "bin_start": 3.6,
            "bin_end": 4.9,
            "count": 0
           },
           {
            "bin_start": 4.9,
            "bin_end": 6.2,
            "count": 1
           },
           {
            "bin_start": 6.2,
            "bin_end": 7.5,
            "count": 0
           },
           {
            "bin_start": 7.5,
            "bin_end": 8.8,
            "count": 0
           },
           {
            "bin_start": 8.8,
            "bin_end": 10.1,
            "count": 0
           },
           {
            "bin_start": 10.1,
            "bin_end": 11.4,
            "count": 0
           },
           {
            "bin_start": 11.4,
            "bin_end": 12.700000000000001,
            "count": 1
           },
           {
            "bin_start": 12.700000000000001,
            "bin_end": 14,
            "count": 2
           }
          ]
         }
        },
        {
         "name": "_deepnote_index_column",
         "dtype": "int64"
        }
       ],
       "rows": [
        {
         "documentDate": "2021-12-02",
         "picturedate": "2021/8",
         "lastchanged": "2021-08-01",
         "adcreated": "2021-07-27",
         "price": 9900000,
         "listprice": 8750000,
         "lat": 59.879,
         "lng": 10.7993,
         "address": "Ringshusveien 8B, 1176 Oslo",
         "apartmentnumber": "H0101",
         "apartmenttype": "B",
         "conveyancetype": "Fritt salg",
         "finncode": 226217549,
         "BRA": 126,
         "PROM": 115,
         "buildyear": 1970,
         "matrikkel": "301-158-751-0",
         "bedrooms": 4,
         "rooms": 5,
         "bathrooms": 1,
         "WC": 2,
         "elevator": "N",
         "floor": 1,
         "housingtype": "Enebolig",
         "commondebt": "nan",
         "commoncosts": "nan",
         "F_Aircondition": "nan",
         "F_Alarm": "nan",
         "F_BalkongTerrasse": 1,
         "F_Barnevennlig": 1,
         "F_Bredbåndstilknytning": "nan",
         "F_Fellesvaskeri": "nan",
         "F_GarasjeP-plass": 1,
         "F_Heis": "nan",
         "F_Ingen gjenboere": "nan",
         "F_Lademulighet": "nan",
         "F_Livsløpsstandard": "nan",
         "F_Moderne": "nan",
         "F_Offentlig vannkloakk": "nan",
         "F_Parkett": "nan",
         "F_PeisIldsted": 1,
         "F_Rolig": 1,
         "F_Sentralt": "nan",
         "F_Utsikt": "nan",
         "F_Vaktmester-vektertjeneste": "nan",
         "F_Bademulighet": "nan",
         "F_Fiskemulighet": "nan",
         "F_Turterreng": 1,
         "adtitle": "Oppussingsobjekt - Enebolig i kjede med skjermet beliggenhet - Vestvendt uteplass - Barnevennlig - …",
         "N_modernisering": false,
         "N_oppussing": true,
         "N_regulert": false,
         "N_garasjemulighet": false,
         "postcode": 1176,
         "Parking": 1,
         "price_inc_debt": 9900000,
         "area_id": 14,
         "_deepnote_index_column": 2
        },
        {
         "documentDate": "2012-10-24",
         "picturedate": "2012/6",
         "lastchanged": "2012-06-15",
         "adcreated": "2012-06-01",
         "price": 5760000,
         "listprice": 5490000,
         "lat": 59.944653,
         "lng": 10.888134,
         "address": "Micheletveien 20, 1053 Oslo",
         "apartmentnumber": "U0102",
         "apartmenttype": "B",
         "conveyancetype": "Fritt salg",
         "finncode": 35251134,
         "BRA": 249,
         "PROM": 242,
         "buildyear": 1977,
         "matrikkel": "301-105-334-0",
         "bedrooms": 5,
         "rooms": 10,
         "bathrooms": 1,
         "WC": 1,
         "elevator": "N",
         "floor": "nan",
         "housingtype": "Enebolig",
         "commondebt": "nan",
         "commoncosts": "nan",
         "F_Aircondition": "nan",
         "F_Alarm": "nan",
         "F_BalkongTerrasse": "nan",
         "F_Barnevennlig": "nan",
         "F_Bredbåndstilknytning": "nan",
         "F_Fellesvaskeri": "nan",
         "F_GarasjeP-plass": "nan",
         "F_Heis": "nan",
         "F_Ingen gjenboere": "nan",
         "F_Lademulighet": "nan",
         "F_Livsløpsstandard": "nan",
         "F_Moderne": "nan",
         "F_Offentlig vannkloakk": "nan",
         "F_Parkett": "nan",
         "F_PeisIldsted": "nan",
         "F_Rolig": "nan",
         "F_Sentralt": "nan",
         "F_Utsikt": "nan",
         "F_Vaktmester-vektertjeneste": "nan",
         "F_Bademulighet": "nan",
         "F_Fiskemulighet": "nan",
         "F_Turterreng": "nan",
         "adtitle": "GAMLE FURUSET - Velholdt og romslig enebolig med sokkelleilighet - Dobbeltgarasje - Tomt på 1.140m2…",
         "N_modernisering": false,
         "N_oppussing": false,
         "N_regulert": false,
         "N_garasjemulighet": false,
         "postcode": 1053,
         "Parking": 0,
         "price_inc_debt": 5760000,
         "area_id": 12,
         "_deepnote_index_column": 4
        },
        {
         "documentDate": "2020-09-25",
         "picturedate": "2020/7",
         "lastchanged": "2020-08-07",
         "adcreated": "2020-08-03",
         "price": 5150000,
         "listprice": 4650000,
         "lat": 59.91303,
         "lng": 10.776672,
         "address": "Hagegata 41, 0653 Oslo",
         "apartmentnumber": "H0703",
         "apartmenttype": "B",
         "conveyancetype": "Fritt salg",
         "finncode": 186196629,
         "BRA": 55,
         "PROM": 54,
         "buildyear": 1990,
         "matrikkel": "301-231-166-37",
         "bedrooms": 1,
         "rooms": "nan",
         "bathrooms": 1,
         "WC": 1,
         "elevator": "J",
         "floor": 6,
         "housingtype": "Leilighet",
         "commondebt": "nan",
         "commoncosts": 3127,
         "F_Aircondition": "nan",
         "F_Alarm": "nan",
         "F_BalkongTerrasse": 1,
         "F_Barnevennlig": 1,
         "F_Bredbåndstilknytning": 1,
         "F_Fellesvaskeri": "nan",
         "F_GarasjeP-plass": 1,
         "F_Heis": 1,
         "F_Ingen gjenboere": 1,
         "F_Lademulighet": "nan",
         "F_Livsløpsstandard": "nan",
         "F_Moderne": 1,
         "F_Offentlig vannkloakk": 1,
         "F_Parkett": "nan",
         "F_PeisIldsted": "nan",
         "F_Rolig": 1,
         "F_Sentralt": 1,
         "F_Utsikt": 1,
         "F_Vaktmester-vektertjeneste": 1,
         "F_Bademulighet": "nan",
         "F_Fiskemulighet": "nan",
         "F_Turterreng": "nan",
         "adtitle": "VISNING AVLYST! Direkte bud til selger. Toppleilighet med stor, solrik takterrasse (14 kvm) - Ingen…",
         "N_modernisering": false,
         "N_oppussing": false,
         "N_regulert": false,
         "N_garasjemulighet": false,
         "postcode": 653,
         "Parking": 1,
         "price_inc_debt": 5150000,
         "area_id": 1,
         "_deepnote_index_column": 0
        },
        {
         "documentDate": "2020-09-29",
         "picturedate": "2020/8",
         "lastchanged": "2020-12-14",
         "adcreated": "2020-08-25",
         "price": 3900000,
         "listprice": 3650000,
         "lat": 59.9189,
         "lng": 10.6479,
         "address": "Skogbrynet 16D, 0283 Oslo",
         "apartmentnumber": "U0101",
         "apartmenttype": "B",
         "conveyancetype": "Fritt salg",
         "finncode": 188594072,
         "BRA": 56,
         "PROM": 56,
         "buildyear": 1977,
         "matrikkel": "301-9-38-14",
         "bedrooms": 1,
         "rooms": 2,
         "bathrooms": 1,
         "WC": 1,
         "elevator": "N",
         "floor": 1,
         "housingtype": "Leilighet",
         "commondebt": 44838,
         "commoncosts": 3062,
         "F_Aircondition": "nan",
         "F_Alarm": "nan",
         "F_BalkongTerrasse": 1,
         "F_Barnevennlig": 1,
         "F_Bredbåndstilknytning": 1,
         "F_Fellesvaskeri": "nan",
         "F_GarasjeP-plass": 1,
         "F_Heis": "nan",
         "F_Ingen gjenboere": 1,
         "F_Lademulighet": "nan",
         "F_Livsløpsstandard": "nan",
         "F_Moderne": "nan",
         "F_Offentlig vannkloakk": 1,
         "F_Parkett": 1,
         "F_PeisIldsted": "nan",
         "F_Rolig": 1,
         "F_Sentralt": 1,
         "F_Utsikt": "nan",
         "F_Vaktmester-vektertjeneste": 1,
         "F_Bademulighet": "nan",
         "F_Fiskemulighet": "nan",
         "F_Turterreng": 1,
         "adtitle": "Innbydende og lys 2-roms hjørneleilighet - Vestvendt terrasse mot hage - Parkeringsplass - Rekkehus…",
         "N_modernisering": false,
         "N_oppussing": false,
         "N_regulert": false,
         "N_garasjemulighet": false,
         "postcode": 283,
         "Parking": 1,
         "price_inc_debt": 3944838,
         "area_id": 6,
         "_deepnote_index_column": 1
        },
        {
         "documentDate": "2009-11-12",
         "picturedate": "4/186",
         "lastchanged": "2009-09-05",
         "adcreated": "2009-08-24",
         "price": 1660000,
         "listprice": 1680000,
         "lat": 59.88769,
         "lng": 10.802634,
         "address": "Libakkfaret 1 A, 1184 Oslo",
         "apartmentnumber": "H0302",
         "apartmenttype": "B",
         "conveyancetype": "Fritt salg",
         "finncode": 18679054,
         "BRA": "nan",
         "PROM": 66,
         "buildyear": 1954,
         "matrikkel": "301-149-433-102",
         "bedrooms": 2,
         "rooms": "nan",
         "bathrooms": 1,
         "WC": 1,
         "elevator": "N",
         "floor": 3,
         "housingtype": "Leilighet",
         "commondebt": 18207,
         "commoncosts": 2866,
         "F_Aircondition": "nan",
         "F_Alarm": "nan",
         "F_BalkongTerrasse": 1,
         "F_Barnevennlig": 1,
         "F_Bredbåndstilknytning": "nan",
         "F_Fellesvaskeri": "nan",
         "F_GarasjeP-plass": "nan",
         "F_Heis": "nan",
         "F_Ingen gjenboere": 1,
         "F_Lademulighet": "nan",
         "F_Livsløpsstandard": "nan",
         "F_Moderne": "nan",
         "F_Offentlig vannkloakk": 1,
         "F_Parkett": 1,
         "F_PeisIldsted": "nan",
         "F_Rolig": 1,
         "F_Sentralt": "nan",
         "F_Utsikt": 1,
         "F_Vaktmester-vektertjeneste": 1,
         "F_Bademulighet": "nan",
         "F_Fiskemulighet": "nan",
         "F_Turterreng": "nan",
         "adtitle": "BRATTLIKOLLEN - Lys og gjennomgående 3-roms selveier - Endeleilighet - Balkong - Sentralt - Ingen f…",
         "N_modernisering": false,
         "N_oppussing": false,
         "N_regulert": false,
         "N_garasjemulighet": false,
         "postcode": 1184,
         "Parking": 0,
         "price_inc_debt": 1678207,
         "area_id": 14,
         "_deepnote_index_column": 3
        }
       ]
      },
      "text/plain": "  documentDate picturedate lastchanged   adcreated    price  listprice  \\\n0   2020-09-25      2020/7  2020-08-07  2020-08-03  5150000  4650000.0   \n1   2020-09-29      2020/8  2020-12-14  2020-08-25  3900000  3650000.0   \n2   2021-12-02      2021/8  2021-08-01  2021-07-27  9900000  8750000.0   \n3   2009-11-12       4/186  2009-09-05  2009-08-24  1660000  1680000.0   \n4   2012-10-24      2012/6  2012-06-15  2012-06-01  5760000  5490000.0   \n\n         lat        lng                      address apartmentnumber  ...  \\\n0  59.913030  10.776672       Hagegata 41, 0653 Oslo           H0703  ...   \n1  59.918900  10.647900    Skogbrynet 16D, 0283 Oslo           U0101  ...   \n2  59.879000  10.799300  Ringshusveien 8B, 1176 Oslo           H0101  ...   \n3  59.887690  10.802634   Libakkfaret 1 A, 1184 Oslo           H0302  ...   \n4  59.944653  10.888134  Micheletveien 20, 1053 Oslo           U0102  ...   \n\n  F_Turterreng                                            adtitle  \\\n0          NaN  VISNING AVLYST! Direkte bud til selger. Topple...   \n1          1.0  Innbydende og lys 2-roms hjørneleilighet - Ves...   \n2          1.0  Oppussingsobjekt - Enebolig i kjede med skjerm...   \n3          NaN  BRATTLIKOLLEN - Lys og gjennomgående 3-roms se...   \n4          NaN  GAMLE FURUSET - Velholdt og romslig enebolig m...   \n\n   N_modernisering  N_oppussing  N_regulert  N_garasjemulighet postcode  \\\n0            False        False       False              False      653   \n1            False        False       False              False      283   \n2            False         True       False              False     1176   \n3            False        False       False              False     1184   \n4            False        False       False              False     1053   \n\n   Parking  price_inc_debt  area_id  \n0        1       5150000.0        1  \n1        1       3944838.0        6  \n2        1       9900000.0       14  \n3        0       1678207.0       14  \n4        0       5760000.0       12  \n\n[5 rows x 57 columns]",
      "text/html": "<div>\n<style scoped>\n    .dataframe tbody tr th:only-of-type {\n        vertical-align: middle;\n    }\n\n    .dataframe tbody tr th {\n        vertical-align: top;\n    }\n\n    .dataframe thead th {\n        text-align: right;\n    }\n</style>\n<table border=\"1\" class=\"dataframe\">\n  <thead>\n    <tr style=\"text-align: right;\">\n      <th></th>\n      <th>documentDate</th>\n      <th>picturedate</th>\n      <th>lastchanged</th>\n      <th>adcreated</th>\n      <th>price</th>\n      <th>listprice</th>\n      <th>lat</th>\n      <th>lng</th>\n      <th>address</th>\n      <th>apartmentnumber</th>\n      <th>...</th>\n      <th>F_Turterreng</th>\n      <th>adtitle</th>\n      <th>N_modernisering</th>\n      <th>N_oppussing</th>\n      <th>N_regulert</th>\n      <th>N_garasjemulighet</th>\n      <th>postcode</th>\n      <th>Parking</th>\n      <th>price_inc_debt</th>\n      <th>area_id</th>\n    </tr>\n  </thead>\n  <tbody>\n    <tr>\n      <th>0</th>\n      <td>2020-09-25</td>\n      <td>2020/7</td>\n      <td>2020-08-07</td>\n      <td>2020-08-03</td>\n      <td>5150000</td>\n      <td>4650000.0</td>\n      <td>59.913030</td>\n      <td>10.776672</td>\n      <td>Hagegata 41, 0653 Oslo</td>\n      <td>H0703</td>\n      <td>...</td>\n      <td>NaN</td>\n      <td>VISNING AVLYST! Direkte bud til selger. Topple...</td>\n      <td>False</td>\n      <td>False</td>\n      <td>False</td>\n      <td>False</td>\n      <td>653</td>\n      <td>1</td>\n      <td>5150000.0</td>\n      <td>1</td>\n    </tr>\n    <tr>\n      <th>1</th>\n      <td>2020-09-29</td>\n      <td>2020/8</td>\n      <td>2020-12-14</td>\n      <td>2020-08-25</td>\n      <td>3900000</td>\n      <td>3650000.0</td>\n      <td>59.918900</td>\n      <td>10.647900</td>\n      <td>Skogbrynet 16D, 0283 Oslo</td>\n      <td>U0101</td>\n      <td>...</td>\n      <td>1.0</td>\n      <td>Innbydende og lys 2-roms hjørneleilighet - Ves...</td>\n      <td>False</td>\n      <td>False</td>\n      <td>False</td>\n      <td>False</td>\n      <td>283</td>\n      <td>1</td>\n      <td>3944838.0</td>\n      <td>6</td>\n    </tr>\n    <tr>\n      <th>2</th>\n      <td>2021-12-02</td>\n      <td>2021/8</td>\n      <td>2021-08-01</td>\n      <td>2021-07-27</td>\n      <td>9900000</td>\n      <td>8750000.0</td>\n      <td>59.879000</td>\n      <td>10.799300</td>\n      <td>Ringshusveien 8B, 1176 Oslo</td>\n      <td>H0101</td>\n      <td>...</td>\n      <td>1.0</td>\n      <td>Oppussingsobjekt - Enebolig i kjede med skjerm...</td>\n      <td>False</td>\n      <td>True</td>\n      <td>False</td>\n      <td>False</td>\n      <td>1176</td>\n      <td>1</td>\n      <td>9900000.0</td>\n      <td>14</td>\n    </tr>\n    <tr>\n      <th>3</th>\n      <td>2009-11-12</td>\n      <td>4/186</td>\n      <td>2009-09-05</td>\n      <td>2009-08-24</td>\n      <td>1660000</td>\n      <td>1680000.0</td>\n      <td>59.887690</td>\n      <td>10.802634</td>\n      <td>Libakkfaret 1 A, 1184 Oslo</td>\n      <td>H0302</td>\n      <td>...</td>\n      <td>NaN</td>\n      <td>BRATTLIKOLLEN - Lys og gjennomgående 3-roms se...</td>\n      <td>False</td>\n      <td>False</td>\n      <td>False</td>\n      <td>False</td>\n      <td>1184</td>\n      <td>0</td>\n      <td>1678207.0</td>\n      <td>14</td>\n    </tr>\n    <tr>\n      <th>4</th>\n      <td>2012-10-24</td>\n      <td>2012/6</td>\n      <td>2012-06-15</td>\n      <td>2012-06-01</td>\n      <td>5760000</td>\n      <td>5490000.0</td>\n      <td>59.944653</td>\n      <td>10.888134</td>\n      <td>Micheletveien 20, 1053 Oslo</td>\n      <td>U0102</td>\n      <td>...</td>\n      <td>NaN</td>\n      <td>GAMLE FURUSET - Velholdt og romslig enebolig m...</td>\n      <td>False</td>\n      <td>False</td>\n      <td>False</td>\n      <td>False</td>\n      <td>1053</td>\n      <td>0</td>\n      <td>5760000.0</td>\n      <td>12</td>\n    </tr>\n  </tbody>\n</table>\n<p>5 rows × 57 columns</p>\n</div>"
     },
     "metadata": {}
    }
   ],
   "execution_count": null
  },
  {
   "cell_type": "code",
   "metadata": {
    "cell_id": "00002-b418a789-a747-4f9e-a266-d09143aad12b",
    "deepnote_to_be_reexecuted": false,
    "source_hash": "2517bc9f",
    "execution_start": 1644497802747,
    "execution_millis": 157880,
    "deepnote_cell_type": "code"
   },
   "source": "# Printer litt info om datasettet\nprint(f\"Antall rader i datasettet: {len(df)}\")\nprint(f\"Antall kolonner i datasettet: {len(df.columns)}\")\nprint()\nprint(df.columns)",
   "outputs": [
    {
     "name": "stdout",
     "text": "Antall rader i datasettet: 181250\nAntall kolonner i datasettet: 57\n\nIndex(['documentDate', 'picturedate', 'lastchanged', 'adcreated', 'price',\n       'listprice', 'lat', 'lng', 'address', 'apartmentnumber',\n       'apartmenttype', 'conveyancetype', 'finncode', 'BRA', 'PROM',\n       'buildyear', 'matrikkel', 'bedrooms', 'rooms', 'bathrooms', 'WC',\n       'elevator', 'floor', 'housingtype', 'commondebt', 'commoncosts',\n       'F_Aircondition', 'F_Alarm', 'F_BalkongTerrasse', 'F_Barnevennlig',\n       'F_Bredbåndstilknytning', 'F_Fellesvaskeri', 'F_GarasjeP-plass',\n       'F_Heis', 'F_Ingen gjenboere', 'F_Lademulighet', 'F_Livsløpsstandard',\n       'F_Moderne', 'F_Offentlig vannkloakk', 'F_Parkett', 'F_PeisIldsted',\n       'F_Rolig', 'F_Sentralt', 'F_Utsikt', 'F_Vaktmester-vektertjeneste',\n       'F_Bademulighet', 'F_Fiskemulighet', 'F_Turterreng', 'adtitle',\n       'N_modernisering', 'N_oppussing', 'N_regulert', 'N_garasjemulighet',\n       'postcode', 'Parking', 'price_inc_debt', 'area_id'],\n      dtype='object')\n",
     "output_type": "stream"
    }
   ],
   "execution_count": null
  },
  {
   "cell_type": "code",
   "metadata": {
    "cell_id": "e6fa94fe-ad20-4d55-83db-e14a1dd364ee",
    "tags": [],
    "deepnote_to_be_reexecuted": false,
    "source_hash": "6a761762",
    "execution_start": 1644497802749,
    "execution_millis": 157875,
    "deepnote_cell_type": "code"
   },
   "source": "#df.info()\n#df.describe()",
   "outputs": [],
   "execution_count": null
  },
  {
   "cell_type": "code",
   "metadata": {
    "cell_id": "00003-a0f671d3-600f-45e7-a9ef-bbca9f2f0e40",
    "deepnote_output_heights": [
     611
    ],
    "deepnote_to_be_reexecuted": false,
    "source_hash": "b4b71d30",
    "execution_start": 1644497802751,
    "execution_millis": 88,
    "deepnote_cell_type": "code"
   },
   "source": "# Sjekker null-verdier\ndf.isnull().sum()",
   "outputs": [
    {
     "output_type": "execute_result",
     "execution_count": 6,
     "data": {
      "text/plain": "documentDate                        0\npicturedate                       257\nlastchanged                         0\nadcreated                           0\nprice                               0\nlistprice                           0\nlat                              1568\nlng                              1568\naddress                             0\napartmentnumber                   822\napartmenttype                     792\nconveyancetype                      0\nfinncode                            0\nBRA                              3273\nPROM                                0\nbuildyear                         925\nmatrikkel                           0\nbedrooms                         9385\nrooms                           51910\nbathrooms                           0\nWC                                  0\nelevator                          792\nfloor                           37977\nhousingtype                         0\ncommondebt                      58689\ncommoncosts                     15759\nF_Aircondition                 178173\nF_Alarm                        175171\nF_BalkongTerrasse               60920\nF_Barnevennlig                  72380\nF_Bredbåndstilknytning          80143\nF_Fellesvaskeri                148196\nF_GarasjeP-plass               108973\nF_Heis                         129931\nF_Ingen gjenboere              132973\nF_Lademulighet                 173472\nF_Livsløpsstandard             176498\nF_Moderne                      136234\nF_Offentlig vannkloakk          98042\nF_Parkett                       82952\nF_PeisIldsted                  128068\nF_Rolig                         76928\nF_Sentralt                      81605\nF_Utsikt                       119962\nF_Vaktmester-vektertjeneste    117235\nF_Bademulighet                 172852\nF_Fiskemulighet                178556\nF_Turterreng                   100291\nadtitle                             0\nN_modernisering                     0\nN_oppussing                         0\nN_regulert                          0\nN_garasjemulighet                   0\npostcode                            0\nParking                             0\nprice_inc_debt                      0\narea_id                             0\ndtype: int64"
     },
     "metadata": {}
    }
   ],
   "execution_count": null
  },
  {
   "cell_type": "markdown",
   "source": "Som vi kan se så finnes det null-verdier for flere av variablene. Dette er helt vanlig i større datasett og er et problem vi må gjøre noe med. Alle null-verdiene for variabler som starter med F_ (fasteliteter), vil bli kodet om til 0, da dette er dummy-variabler med 0 og 1 som verdi. Videre ser vi at rom og etasje er de to variablene med flest null-verdier (henholdsvis 51 910 og 37 977). Det finnes også et høyt antall null-verider for fellesgjeld og felleskostnader, men dette er knyttet til eneboliger og rekkehus hvor man ikke har disse kostnadene.",
   "metadata": {
    "cell_id": "f2e7051f-28fb-49d3-8fa9-bb9cfbd8b95f",
    "tags": [],
    "deepnote_cell_type": "markdown"
   }
  },
  {
   "cell_type": "code",
   "metadata": {
    "cell_id": "2859dd53-6650-4867-b900-f402a7f53849",
    "tags": [],
    "deepnote_to_be_reexecuted": false,
    "source_hash": "ff0d33f4",
    "execution_start": 1644497802862,
    "execution_millis": 4,
    "deepnote_output_heights": [
     290
    ],
    "deepnote_cell_type": "code"
   },
   "source": "df['housingtype'].value_counts()",
   "outputs": [
    {
     "output_type": "execute_result",
     "execution_count": 7,
     "data": {
      "text/plain": "Leilighet                157774\nEnebolig                  10180\nRekkehus                   7491\nTomannsbolig               5638\nAndre                        66\nTomter                       55\nBygård/Flermannsbolig        29\nAnnet fritid                  6\nGarasje/Parkering             5\nGårdsbruk/Småbruk             2\nKontor                        1\nmultipurposearea              1\nbusiness                      1\nwarehouse                     1\nName: housingtype, dtype: int64"
     },
     "metadata": {}
    }
   ],
   "execution_count": null
  },
  {
   "cell_type": "markdown",
   "source": "Vi starter med å se hvordan fordelingen av de ulike boligformene er i datasettet, og observerer at 87% av datapunktene i datasetter er leiligheter. I bydelene som er nærmest sentrum er over 90% av boliger leiligheter, mens i bydelene som ligger lengre borte fra sentrum er leilighetsandelen ned mot 40% på det laveste. Vi kan observere at det finnes 167 datapunkter som ikke er leilighet, enebolig, rekkehus eller tomannsbolig. Disse datapunktene vil ikke være relevante for oss så vi velger å utelate dem fra datasettet.",
   "metadata": {
    "cell_id": "3869877f-47ee-4671-a78b-0a615c54ecac",
    "tags": [],
    "deepnote_cell_type": "markdown"
   }
  },
  {
   "cell_type": "code",
   "metadata": {
    "cell_id": "c66a5199-1b48-425d-ae92-6e7a79b9f730",
    "tags": [],
    "deepnote_to_be_reexecuted": false,
    "source_hash": "79bf7124",
    "execution_start": 1644497802881,
    "execution_millis": 756,
    "deepnote_output_heights": [
     98
    ],
    "deepnote_cell_type": "code"
   },
   "source": "feil_bolig = ['Andre','Tomter','Bygård/Flermannsbolig','Annet fritid','Garasje/Parkering','Gårdsbruk/Småbruk','Kontor','multipurposearea','warehouse','business']\n\nfor cat in feil_bolig:\n    df.drop(df[df['housingtype'] == cat].index, inplace=True)\n\ndf['housingtype'].value_counts()\n",
   "outputs": [
    {
     "output_type": "execute_result",
     "execution_count": 8,
     "data": {
      "text/plain": "Leilighet       157774\nEnebolig         10180\nRekkehus          7491\nTomannsbolig      5638\nName: housingtype, dtype: int64"
     },
     "metadata": {}
    }
   ],
   "execution_count": null
  },
  {
   "cell_type": "markdown",
   "source": "Den neste variabelen vi skal se på er lengde/breddegrad variablene (lat,lng). Vi vet at Oslo ligger rundt breddegrad 59-60 og rundt lengdegrad 10. Dermed vil koordinater som avviker mye fra disse koordinatene være feil.",
   "metadata": {
    "cell_id": "f9b23e94-4e10-4e9b-85a4-0ae6e0834991",
    "tags": [],
    "deepnote_to_be_reexecuted": false,
    "source_hash": "b623e53d",
    "execution_start": 1644315649954,
    "execution_millis": 1,
    "deepnote_cell_type": "markdown"
   }
  },
  {
   "cell_type": "code",
   "metadata": {
    "cell_id": "aec1f39f-1e1f-4cdb-8b46-dd8c42bca288",
    "tags": [],
    "deepnote_to_be_reexecuted": false,
    "source_hash": "639379d3",
    "execution_start": 1644497803585,
    "execution_millis": 408,
    "deepnote_output_heights": [
     280
    ],
    "deepnote_cell_type": "code"
   },
   "source": "df[['lat','lng']].hist(figsize=(16,5), bins=25)\nplt.show()",
   "outputs": [
    {
     "data": {
      "text/plain": "<Figure size 1152x360 with 2 Axes>",
      "image/png": "[encoded data removed]"
     },
     "metadata": {
      "needs_background": "light",
      "image/png": {
       "width": 952,
       "height": 319
      }
     },
     "output_type": "display_data"
    }
   ],
   "execution_count": null
  },
  {
   "cell_type": "markdown",
   "source": "Som vi ser så treffer alle koordinatene på Oslo-området. Vi skal nå ta en titt på null-verdiene til datapunktene.",
   "metadata": {
    "cell_id": "6b8c881f-6bc1-442b-a38c-875ac9e70f1f",
    "tags": [],
    "deepnote_to_be_reexecuted": false,
    "source_hash": "b623e53d",
    "execution_start": 1643793800783,
    "execution_millis": 0,
    "deepnote_output_heights": [
     250
    ],
    "deepnote_cell_type": "markdown"
   }
  },
  {
   "cell_type": "code",
   "metadata": {
    "cell_id": "97b25732-f52a-49f6-9919-2e51bd6a9ddb",
    "tags": [],
    "deepnote_to_be_reexecuted": false,
    "source_hash": "adcb1887",
    "execution_start": 1644497803996,
    "execution_millis": 27,
    "deepnote_output_heights": [
     60
    ],
    "deepnote_cell_type": "code"
   },
   "source": "# Printer null-verdier for lat or lng\ndf[['lat','lng']].isnull().sum()",
   "outputs": [
    {
     "output_type": "execute_result",
     "execution_count": 10,
     "data": {
      "text/plain": "lat    1567\nlng    1567\ndtype: int64"
     },
     "metadata": {}
    }
   ],
   "execution_count": null
  },
  {
   "cell_type": "markdown",
   "source": "Som vi kan se så har vi 1567 datapunkter som mangler lengde og breddegrader. En løsning vil da være å fjerne null-verdiene, men dette vil ikke være optimalt. Vi vil derfor prøve å finne koordinater for hver av de 16 bydelene, for deretter å erstatte null-verdiene med dette. Vi må derfor først lage koordinater for de 16 bydelene, for deretter å erstatte null-verdiene med disse. Koordinatene til bydelene vil være sentrum av bydelen.",
   "metadata": {
    "cell_id": "8c03339c-c950-41ac-8e27-b181430fe0a4",
    "tags": [],
    "deepnote_cell_type": "markdown"
   }
  },
  {
   "cell_type": "code",
   "metadata": {
    "cell_id": "4e3ac3ea-0b16-43cd-9106-f6e0092464e6",
    "tags": [],
    "deepnote_to_be_reexecuted": false,
    "source_hash": "6065b78e",
    "execution_start": 1644497804006,
    "execution_millis": 57,
    "deepnote_output_heights": [
     60
    ],
    "deepnote_cell_type": "code"
   },
   "source": "#Dictionary med bydeler (area_id) og tilsvarende koordinater til sentrum av bydelene\nbydeler_koordinater = {1:[59.911832, 10.789224], 2:[59.923818, 10.771007],3:[59.938290, 10.764674],\n4:[59.927053, 10.738491],5:[59.915947, 10.705421],6:[59.927271, 10.664877],7:[59.950695, 10.657639],\n8:[59.956516, 10.766631],9:[59.937116, 10.820808],10:[59.954572, 10.876033],11:[59.958182, 10.924858],\n12:[59.935980, 10.877371],13:[59.888390, 10.835148],14:[59.875677, 10.789629],15:[59.832622, 10.826528],\n16:[59.910462, 10.737319]}\n\n#Oppretter nye kolonner for lat/lng til bydelene\ndf['Bydel_lat'] = df['area_id']\ndf['Bydel_lng'] = df['area_id']\n\n#Endrer fra area_id til koordinater for bydelene\nfor key, item in bydeler_koordinater.items():\n    df['Bydel_lat'].mask(df['Bydel_lat'] == key, item[0], inplace=True)\n    df['Bydel_lng'].mask(df['Bydel_lng'] == key, item[1], inplace=True)\n\n#Fyller inn null-verdier med tilsvarende koordinater for bydelene\ndf['lat'] = df['lat'].fillna(df['Bydel_lat'])\ndf['lng'] = df['lng'].fillna(df['Bydel_lng'])",
   "outputs": [],
   "execution_count": null
  },
  {
   "cell_type": "markdown",
   "source": "Den neste variabelen vi skal se på er bruksareal (BRA). Det første vi må gjøre er å se på fordelingen for å kunne identifisere feil-verdier. BRA vil i de fleste tilfeller ligge mellom 50-100 for leiligheter, og 150-300 for større enebolig. Dette er det selvfølgelig unntak for med større leiligheter og boliger. Dermed vil det være vanskelig å skille mellom hva som er reelle store boliger, og hva som er feilverdier. En løsning er å fjerne verdier som er over 500 for eneboliger, rekkehus og tomannsboliger, hvis man har en pris som er under 10 000 000. Det er fordi boliger på >500 kvm vil så si alltid koste over 10 M. For leiligheter kan man fjerne verdier over 350 kvm hvis prisen er under 10M. Til slutt vil vi fjerne alle boliger med 1000 > BRA > 10 pga dette er åpenbare feildata etter å ha inspisert datapunktene.\n\n ",
   "metadata": {
    "cell_id": "333960f3-55f9-431b-8da5-089a089447fc",
    "tags": [],
    "deepnote_to_be_reexecuted": false,
    "source_hash": "b4b71d30",
    "execution_start": 1644324241165,
    "execution_millis": 90,
    "deepnote_output_heights": [
     611
    ],
    "deepnote_cell_type": "markdown"
   }
  },
  {
   "cell_type": "code",
   "metadata": {
    "cell_id": "c3c1c711-320b-42cd-80b3-7a5bb9abfa1e",
    "tags": [],
    "deepnote_to_be_reexecuted": false,
    "source_hash": "502bab03",
    "execution_start": 1644497804068,
    "execution_millis": 263,
    "deepnote_cell_type": "code"
   },
   "source": "#Fjerner alle boliger med BRA>500 og pris<10 000 000\ndf.drop(df[(df['BRA'] > 500) & (df['price'] < 10000000)].index, inplace = True)\n#Fjerner alle leiligheter med BRA>350 og pris<10 000 000\ndf.drop(df[(df['BRA'] > 350) & (df['housingtype'] == 'Leilighet') & (df['price'] < 10000000)].index, inplace = True)\n#Fjerner alle boliger med BRA > 1000\ndf.drop(df[df['BRA'] > 1000].index, inplace = True)\n#Fjerner alle boliger med BRA < 10\ndf.drop(df[df['BRA'] < 10].index, inplace = True)",
   "outputs": [],
   "execution_count": null
  },
  {
   "cell_type": "code",
   "metadata": {
    "cell_id": "05fca3c2-ad6d-42cf-bcb8-07b49d838d61",
    "tags": [],
    "deepnote_to_be_reexecuted": false,
    "source_hash": "4774ca9c",
    "execution_start": 1644497804336,
    "execution_millis": 569,
    "deepnote_output_heights": [
     268,
     268
    ],
    "deepnote_cell_type": "code"
   },
   "source": "#Printer histogram over fordelingen\ndf['BRA'].hist(bins=50, figsize=(16,5))\nplt.show()\n#Printer histogram over fordelingen mellom 0 og 200 kvm\ndf['BRA'].hist(bins=50, figsize=(16,5), range=[0,200])\nplt.show()",
   "outputs": [
    {
     "data": {
      "text/plain": "<Figure size 1152x360 with 1 Axes>",
      "image/png": "[encoded data removed]"
     },
     "metadata": {
      "needs_background": "light",
      "image/png": {
       "width": 945,
       "height": 303
      }
     },
     "output_type": "display_data"
    },
    {
     "data": {
      "text/plain": "<Figure size 1152x360 with 1 Axes>",
      "image/png": "[encoded data removed]"
     },
     "metadata": {
      "needs_background": "light",
      "image/png": {
       "width": 945,
       "height": 303
      }
     },
     "output_type": "display_data"
    }
   ],
   "execution_count": null
  },
  {
   "cell_type": "markdown",
   "source": "Som vi kan se så er dataen høyreskjev, noe som vil være naturlig da det finnes langt flere små boliger. Videre må vi nå gjøre noe med null-verdiene. Siden BRA henger tett sammen med primærrom (PROM), så vil en brukbar løsning være å finne forholdet mellom disse variablene og deretter bruke det for å generere BRA hvor man ikke har dette oppgitt.\n\nKjøre linear regresjon",
   "metadata": {
    "cell_id": "29e2d438-77ca-4afc-ac08-8920171f0851",
    "tags": [],
    "deepnote_to_be_reexecuted": false,
    "source_hash": "b623e53d",
    "execution_start": 1644329377571,
    "execution_millis": 7,
    "deepnote_table_state": {
     "pageSize": 100,
     "pageIndex": 0,
     "filters": [],
     "sortBy": [
      {
       "id": "BRA",
       "type": "desc"
      }
     ]
    },
    "deepnote_table_loading": false,
    "deepnote_output_heights": [
     611
    ],
    "deepnote_cell_type": "markdown"
   }
  },
  {
   "cell_type": "code",
   "metadata": {
    "cell_id": "1c2efc44-2410-42f9-882a-0863aa85c046",
    "tags": [],
    "deepnote_to_be_reexecuted": false,
    "source_hash": "24c7caf4",
    "execution_start": 1644497804908,
    "execution_millis": 9,
    "deepnote_cell_type": "code"
   },
   "source": "#Printer korrelasjonen mellom PROM og BRA\nprint(df[['PROM','BRA']].corr())",
   "outputs": [
    {
     "name": "stdout",
     "text": "          PROM       BRA\nPROM  1.000000  0.963266\nBRA   0.963266  1.000000\n",
     "output_type": "stream"
    }
   ],
   "execution_count": null
  },
  {
   "cell_type": "code",
   "metadata": {
    "cell_id": "be168a04-cd6a-454e-bd57-c1b6213f9427",
    "tags": [],
    "deepnote_to_be_reexecuted": false,
    "source_hash": "992ba006",
    "execution_start": 1644497804921,
    "execution_millis": 2,
    "deepnote_cell_type": "code"
   },
   "source": "#Erstatter alle null-verdier for BRA med tilhørende PROM / 0.963464\ndf['BRA'] = df['BRA'].fillna((df['PROM']/0.963464).round())",
   "outputs": [],
   "execution_count": null
  },
  {
   "cell_type": "markdown",
   "source": "Den neste variabelen vi skal se på er byggeår. Vi starter da med å få en oversikt over fordelingen av dataen. I datasettet vårt er de eldste boligene fra tidlig 1600 tallet. Vi kan derfor fjerne alle boliger som har oppført byggeår før dette. Det vil fortsatt kunne være feil i dataen, men det er rimelig å anta at det finnes et fåtall av boliger med byggeår så langt tilbake. Videre vil vi da få en veldig venstreskjev fordeling hvor man begynner å få data fra midten av 1800-tallet. \n\nI tillegg finnes det rett under 1000 null-verdier som vi velger å fjerne da det vil være vanskelig å beregne byggeår.",
   "metadata": {
    "cell_id": "6ec79f5e-08b7-4b56-8c19-b97a84aab669",
    "tags": [],
    "deepnote_cell_type": "markdown"
   }
  },
  {
   "cell_type": "code",
   "metadata": {
    "cell_id": "871fd60d-bad4-4cbe-aac6-3f061d053cbe",
    "tags": [],
    "deepnote_to_be_reexecuted": false,
    "source_hash": "5d59593a",
    "execution_start": 1644497804926,
    "execution_millis": 108,
    "deepnote_output_heights": [
     21
    ],
    "deepnote_cell_type": "code"
   },
   "source": "#Fjerner alle boliger med byggeår < 1600\ndf.drop(df[df['buildyear'] < 1600].index, inplace = True)\n#Fjerner null-verdier\ndf = df[df['buildyear'].notna()]\ndf['buildyear'].isnull().sum()",
   "outputs": [
    {
     "output_type": "execute_result",
     "execution_count": 16,
     "data": {
      "text/plain": "0"
     },
     "metadata": {}
    }
   ],
   "execution_count": null
  },
  {
   "cell_type": "code",
   "metadata": {
    "cell_id": "ac76c937-c259-4ddf-9bbe-4d671f169464",
    "tags": [],
    "deepnote_to_be_reexecuted": false,
    "source_hash": "437b8a3b",
    "execution_start": 1644497805046,
    "execution_millis": 316,
    "deepnote_output_heights": [
     220
    ],
    "deepnote_cell_type": "code"
   },
   "source": "df['buildyear'].hist(bins=50, figsize=(16,4))\nplt.show()",
   "outputs": [
    {
     "data": {
      "text/plain": "<Figure size 1152x288 with 1 Axes>",
      "image/png": "[encoded data removed]"
     },
     "metadata": {
      "needs_background": "light",
      "image/png": {
       "width": 945,
       "height": 248
      }
     },
     "output_type": "display_data"
    }
   ],
   "execution_count": null
  },
  {
   "cell_type": "markdown",
   "source": "Videre skal vi nå se på soverom og antall rom totalt. Hvordan er fordelingen, og hva må vi gjøre med eventuelle null-verdier?",
   "metadata": {
    "cell_id": "ca468561-4222-43e9-9a34-6aec21f38b98",
    "tags": [],
    "deepnote_to_be_reexecuted": false,
    "source_hash": "2f88c77a",
    "execution_start": 1644485827021,
    "execution_millis": 153671413,
    "deepnote_output_heights": [
     21
    ],
    "deepnote_cell_type": "markdown"
   }
  },
  {
   "cell_type": "code",
   "metadata": {
    "cell_id": "04ffd01e-1b1b-4112-ada1-f6f107c5d6b7",
    "tags": [],
    "deepnote_to_be_reexecuted": false,
    "source_hash": "d9378346",
    "execution_start": 1644497805370,
    "execution_millis": 480,
    "deepnote_output_heights": [
     185,
     266
    ],
    "deepnote_cell_type": "code"
   },
   "source": "df[['rooms','bedrooms']].hist(bins=40, figsize=(16,3)) #Printer fordeling i histogram\nplt.show()\nprint(f\"Antall null-verdier for 'rooms':    {df['rooms'].isnull().sum()}\")\nprint(f\"Antall null-verdier for 'bedrooms': {df['bedrooms'].isnull().sum()}\")",
   "outputs": [
    {
     "data": {
      "text/plain": "<Figure size 1152x216 with 2 Axes>",
      "image/png": "[encoded data removed]"
     },
     "metadata": {
      "needs_background": "light",
      "image/png": {
       "width": 952,
       "height": 210
      }
     },
     "output_type": "display_data"
    },
    {
     "name": "stdout",
     "text": "Antall null-verdier for 'rooms':    51345\nAntall null-verdier for 'bedrooms': 9279\n",
     "output_type": "stream"
    }
   ],
   "execution_count": null
  },
  {
   "cell_type": "markdown",
   "source": "Som vi kan se så finnes det helt klart noen feildata i begge kategoriene. I tillegg er det slik at vi har 51 345 null-verdier for antall rom. Dette tilsvarer rundt 30%, og er svært høyt. Løsningen for denne variabelen vil dermed bli å fjerne den helt, da det er såpass mange null-verdier.\n\nFor soverom så har vi 9 279 null-verdier. Dette er relativt høyt, men det er noe vi kan gjøre noe med. Det første vi gjør er å fjerne datapunkter med over 20 soverom da dette helt klart er feilverdier. Videre må vi finne en måte å håndtere null-verdiene på. Løsningen vi går for da er å bruke gjennomsnitt for antall soverom til å erstatte null-verdiene. (FORDEL ULEMPER VED DETTE). Vi så på muligheten for å koble det sammen med BRA eller PROM, men dette har en relativt liten korrelasjon, så det vil være en bedre løsning å bruke gjennomsnitt.",
   "metadata": {
    "cell_id": "d1cf380f-ddb1-4165-b2bc-8dc41aa97cf2",
    "tags": [],
    "deepnote_to_be_reexecuted": false,
    "source_hash": "b623e53d",
    "execution_start": 1644485827104,
    "execution_millis": 154019367,
    "deepnote_cell_type": "markdown"
   }
  },
  {
   "cell_type": "code",
   "metadata": {
    "cell_id": "eaff9081-c320-4037-bbe6-64c3eb9934c1",
    "tags": [],
    "deepnote_to_be_reexecuted": false,
    "source_hash": "8e687877",
    "execution_start": 1644497805850,
    "execution_millis": 99,
    "deepnote_output_heights": [
     232.34375
    ],
    "deepnote_cell_type": "code"
   },
   "source": "#Fjerner soverom > 20\ndf.drop(df[df['bedrooms'] >20].index, inplace = True)\n\n#Erstatter null-verdier med gjennomsnitt\ndf['bedrooms'].fillna(df['bedrooms'].mean(), inplace=True)\n\n#Fjerner \"rooms\"-variabelen\ndf.drop('rooms',inplace=True, axis=1)",
   "outputs": [],
   "execution_count": null
  },
  {
   "cell_type": "markdown",
   "source": "Vi har nå fått fikset opp i de variablene, og videre skal vi se på hvordan fordelingen av \"bathrooms\" og \"WC\" er.",
   "metadata": {
    "cell_id": "c537ce24-7e16-4cb5-8494-4705c22460a9",
    "tags": [],
    "deepnote_cell_type": "markdown"
   },
   "outputs": [],
   "execution_count": null
  },
  {
   "cell_type": "code",
   "metadata": {
    "cell_id": "d3c34aab-5612-4a4b-a8b1-5cc225ad1b7d",
    "tags": [],
    "deepnote_to_be_reexecuted": false,
    "source_hash": "47968ee1",
    "execution_start": 1644497806019,
    "execution_millis": 707,
    "deepnote_table_state": {
     "pageSize": 10,
     "pageIndex": 0,
     "filters": [],
     "sortBy": [
      {
       "id": "price",
       "type": "desc"
      }
     ]
    },
    "deepnote_table_loading": false,
    "deepnote_output_heights": [
     185,
     184.828125
    ],
    "deepnote_cell_type": "code"
   },
   "source": "df[['bathrooms','WC']].hist(bins=40, figsize=(16,3)) #Printer fordeling i histogram\nplt.show()",
   "outputs": [
    {
     "data": {
      "text/plain": "<Figure size 1152x216 with 2 Axes>",
      "image/png": "[encoded data removed]"
     },
     "metadata": {
      "needs_background": "light",
      "image/png": {
       "width": 951,
       "height": 210
      }
     },
     "output_type": "display_data"
    }
   ],
   "execution_count": null
  },
  {
   "cell_type": "markdown",
   "metadata": {
    "cell_id": "d4bffe23-6fba-49f0-acde-19b6e20da631",
    "tags": [],
    "deepnote_to_be_reexecuted": false,
    "source_hash": "2b87a672",
    "execution_start": 1644495199448,
    "execution_millis": 170,
    "deepnote_output_heights": [
     21.1875,
     250
    ],
    "deepnote_cell_type": "markdown"
   },
   "source": "Som vi kan se, så ser begge disse variablene ut til å være korrekte. Vi kan observere at det finnes rundt 40 000 datapunkter med 0 WC. Dette kan det være flere grunner til. For eksempel er det ofte samlet bad og WC i små leiligheter. Når det gjelder de 40 000 datapunktene med 0 for bad, så er flerparten av disse feilverdier. DETTE GJØR AT VI MÅ ...",
   "execution_count": 44
  },
  {
   "cell_type": "code",
   "metadata": {
    "cell_id": "88ba0d14-7a68-40b9-88d5-3998ece3105a",
    "tags": [],
    "deepnote_to_be_reexecuted": false,
    "source_hash": "27b250b8",
    "execution_start": 1644497806489,
    "execution_millis": 273,
    "deepnote_table_state": {
     "pageSize": 10,
     "pageIndex": 0,
     "filters": [],
     "sortBy": [
      {
       "id": "price",
       "type": "desc"
      }
     ]
    },
    "deepnote_table_loading": false,
    "deepnote_cell_type": "code"
   },
   "source": "df.loc[df['bedrooms']==0,:]",
   "outputs": [
    {
     "output_type": "execute_result",
     "execution_count": 21,
     "data": {
      "application/vnd.deepnote.dataframe.v3+json": {
       "column_count": 58,
       "row_count": 2937,
       "columns": [
        {
         "name": "documentDate",
         "dtype": "object",
         "stats": {
          "unique_count": 1629,
          "nan_count": 0,
          "categories": [
           {
            "name": "2019-07-03",
            "count": 12
           },
           {
            "name": "2020-03-04",
            "count": 10
           },
           {
            "name": "1627 others",
            "count": 2915
           }
          ]
         }
        },
        {
         "name": "picturedate",
         "dtype": "object",
         "stats": {
          "unique_count": 421,
          "nan_count": 1,
          "categories": [
           {
            "name": "2020/8",
            "count": 78
           },
           {
            "name": "420 others",
            "count": 2858
           },
           {
            "name": "Missing",
            "count": 1
           }
          ]
         }
        },
        {
         "name": "lastchanged",
         "dtype": "object",
         "stats": {
          "unique_count": 1319,
          "nan_count": 0,
          "categories": [
           {
            "name": "2019-02-24",
            "count": 653
           },
           {
            "name": "2019-01-16",
            "count": 25
           },
           {
            "name": "1317 others",
            "count": 2259
           }
          ]
         }
        },
        {
         "name": "adcreated",
         "dtype": "object",
         "stats": {
          "unique_count": 1773,
          "nan_count": 0,
          "categories": [
           {
            "name": "2020-08-12",
            "count": 12
           },
           {
            "name": "2019-05-15",
            "count": 11
           },
           {
            "name": "1771 others",
            "count": 2914
           }
          ]
         }
        },
        {
         "name": "price",
         "dtype": "int64",
         "stats": {
          "unique_count": 551,
          "nan_count": 0,
          "min": "115000",
          "max": "26500000",
          "histogram": [
           {
            "bin_start": 115000,
            "bin_end": 2753500,
            "count": 2014
           },
           {
            "bin_start": 2753500,
            "bin_end": 5392000,
            "count": 896
           },
           {
            "bin_start": 5392000,
            "bin_end": 8030500,
            "count": 14
           },
           {
            "bin_start": 8030500,
            "bin_end": 10669000,
            "count": 11
           },
           {
            "bin_start": 10669000,
            "bin_end": 13307500,
            "count": 1
           },
           {
            "bin_start": 13307500,
            "bin_end": 15946000,
            "count": 0
           },
           {
            "bin_start": 15946000,
            "bin_end": 18584500,
            "count": 0
           },
           {
            "bin_start": 18584500,
            "bin_end": 21223000,
            "count": 0
           },
           {
            "bin_start": 21223000,
            "bin_end": 23861500,
            "count": 0
           },
           {
            "bin_start": 23861500,
            "bin_end": 26500000,
            "count": 1
           }
          ]
         }
        },
        {
         "name": "listprice",
         "dtype": "float64",
         "stats": {
          "unique_count": 296,
          "nan_count": 0,
          "min": "120000.0",
          "max": "30000000.0",
          "histogram": [
           {
            "bin_start": 120000,
            "bin_end": 3108000,
            "count": 2597
           },
           {
            "bin_start": 3108000,
            "bin_end": 6096000,
            "count": 320
           },
           {
            "bin_start": 6096000,
            "bin_end": 9084000,
            "count": 16
           },
           {
            "bin_start": 9084000,
            "bin_end": 12072000,
            "count": 3
           },
           {
            "bin_start": 12072000,
            "bin_end": 15060000,
            "count": 0
           },
           {
            "bin_start": 15060000,
            "bin_end": 18048000,
            "count": 0
           },
           {
            "bin_start": 18048000,
            "bin_end": 21036000,
            "count": 0
           },
           {
            "bin_start": 21036000,
            "bin_end": 24024000,
            "count": 0
           },
           {
            "bin_start": 24024000,
            "bin_end": 27012000,
            "count": 0
           },
           {
            "bin_start": 27012000,
            "bin_end": 30000000,
            "count": 1
           }
          ]
         }
        },
        {
         "name": "lat",
         "dtype": "float64",
         "stats": {
          "unique_count": 1248,
          "nan_count": 0,
          "min": "59.826782",
          "max": "59.973812",
          "histogram": [
           {
            "bin_start": 59.826782,
            "bin_end": 59.841485,
            "count": 6
           },
           {
            "bin_start": 59.841485,
            "bin_end": 59.856188,
            "count": 21
           },
           {
            "bin_start": 59.856188,
            "bin_end": 59.870891,
            "count": 32
           },
           {
            "bin_start": 59.870891,
            "bin_end": 59.885594000000005,
            "count": 49
           },
           {
            "bin_start": 59.885594000000005,
            "bin_end": 59.900297,
            "count": 72
           },
           {
            "bin_start": 59.900297,
            "bin_end": 59.915,
            "count": 420
           },
           {
            "bin_start": 59.915,
            "bin_end": 59.929703,
            "count": 1081
           },
           {
            "bin_start": 59.929703,
            "bin_end": 59.944406,
            "count": 697
           },
           {
            "bin_start": 59.944406,
            "bin_end": 59.959109000000005,
            "count": 285
           },
           {
            "bin_start": 59.959109000000005,
            "bin_end": 59.973812,
            "count": 274
           }
          ]
         }
        },
        {
         "name": "lng",
         "dtype": "float64",
         "stats": {
          "unique_count": 1459,
          "nan_count": 0,
          "min": "10.633588",
          "max": "10.925284",
          "histogram": [
           {
            "bin_start": 10.633588,
            "bin_end": 10.662757599999999,
            "count": 45
           },
           {
            "bin_start": 10.662757599999999,
            "bin_end": 10.6919272,
            "count": 57
           },
           {
            "bin_start": 10.6919272,
            "bin_end": 10.7210968,
            "count": 314
           },
           {
            "bin_start": 10.7210968,
            "bin_end": 10.7502664,
            "count": 611
           },
           {
            "bin_start": 10.7502664,
            "bin_end": 10.779436,
            "count": 1051
           },
           {
            "bin_start": 10.779436,
            "bin_end": 10.8086056,
            "count": 283
           },
           {
            "bin_start": 10.8086056,
            "bin_end": 10.8377752,
            "count": 168
           },
           {
            "bin_start": 10.8377752,
            "bin_end": 10.866944799999999,
            "count": 168
           },
           {
            "bin_start": 10.866944799999999,
            "bin_end": 10.8961144,
            "count": 165
           },
           {
            "bin_start": 10.8961144,
            "bin_end": 10.925284,
            "count": 75
           }
          ]
         }
        },
        {
         "name": "address",
         "dtype": "object",
         "stats": {
          "unique_count": 1535,
          "nan_count": 0,
          "categories": [
           {
            "name": "Stavangergata 46A, 0467 Oslo",
            "count": 65
           },
           {
            "name": "Kristiansands gate 5, 0463 Oslo",
            "count": 28
           },
           {
            "name": "1533 others",
            "count": 2844
           }
          ]
         }
        },
        {
         "name": "apartmentnumber",
         "dtype": "object",
         "stats": {
          "unique_count": 254,
          "nan_count": 14,
          "categories": [
           {
            "name": "H0101",
            "count": 191
           },
           {
            "name": "253 others",
            "count": 2732
           },
           {
            "name": "Missing",
            "count": 14
           }
          ]
         }
        },
        {
         "name": "apartmenttype",
         "dtype": "object",
         "stats": {
          "unique_count": 2,
          "nan_count": 14,
          "categories": [
           {
            "name": "B",
            "count": 2905
           },
           {
            "name": "I",
            "count": 18
           },
           {
            "name": "Missing",
            "count": 14
           }
          ]
         }
        },
        {
         "name": "conveyancetype",
         "dtype": "object",
         "stats": {
          "unique_count": 1,
          "nan_count": 0,
          "categories": [
           {
            "name": "Fritt salg",
            "count": 2937
           }
          ]
         }
        },
        {
         "name": "finncode",
         "dtype": "int64",
         "stats": {
          "unique_count": 2937,
          "nan_count": 0,
          "min": "11010214",
          "max": "241295573",
          "histogram": [
           {
            "bin_start": 11010214,
            "bin_end": 34038749.9,
            "count": 546
           },
           {
            "bin_start": 34038749.9,
            "bin_end": 57067285.8,
            "count": 426
           },
           {
            "bin_start": 57067285.8,
            "bin_end": 80095821.69999999,
            "count": 182
           },
           {
            "bin_start": 80095821.69999999,
            "bin_end": 103124357.6,
            "count": 123
           },
           {
            "bin_start": 103124357.6,
            "bin_end": 126152893.5,
            "count": 119
           },
           {
            "bin_start": 126152893.5,
            "bin_end": 149181429.39999998,
            "count": 290
           },
           {
            "bin_start": 149181429.39999998,
            "bin_end": 172209965.29999998,
            "count": 326
           },
           {
            "bin_start": 172209965.29999998,
            "bin_end": 195238501.2,
            "count": 359
           },
           {
            "bin_start": 195238501.2,
            "bin_end": 218267037.1,
            "count": 289
           },
           {
            "bin_start": 218267037.1,
            "bin_end": 241295573,
            "count": 277
           }
          ]
         }
        },
        {
         "name": "BRA",
         "dtype": "float64",
         "stats": {
          "unique_count": 99,
          "nan_count": 0,
          "min": "13.0",
          "max": "792.0",
          "histogram": [
           {
            "bin_start": 13,
            "bin_end": 90.9,
            "count": 2889
           },
           {
            "bin_start": 90.9,
            "bin_end": 168.8,
            "count": 22
           },
           {
            "bin_start": 168.8,
            "bin_end": 246.70000000000002,
            "count": 19
           },
           {
            "bin_start": 246.70000000000002,
            "bin_end": 324.6,
            "count": 6
           },
           {
            "bin_start": 324.6,
            "bin_end": 402.5,
            "count": 0
           },
           {
            "bin_start": 402.5,
            "bin_end": 480.40000000000003,
            "count": 0
           },
           {
            "bin_start": 480.40000000000003,
            "bin_end": 558.3000000000001,
            "count": 0
           },
           {
            "bin_start": 558.3000000000001,
            "bin_end": 636.2,
            "count": 0
           },
           {
            "bin_start": 636.2,
            "bin_end": 714.1,
            "count": 0
           },
           {
            "bin_start": 714.1,
            "bin_end": 792,
            "count": 1
           }
          ]
         }
        },
        {
         "name": "PROM",
         "dtype": "float64",
         "stats": {
          "unique_count": 103,
          "nan_count": 0,
          "min": "13.0",
          "max": "729.0",
          "histogram": [
           {
            "bin_start": 13,
            "bin_end": 84.6,
            "count": 2891
           },
           {
            "bin_start": 84.6,
            "bin_end": 156.2,
            "count": 22
           },
           {
            "bin_start": 156.2,
            "bin_end": 227.79999999999998,
            "count": 19
           },
           {
            "bin_start": 227.79999999999998,
            "bin_end": 299.4,
            "count": 4
           },
           {
            "bin_start": 299.4,
            "bin_end": 371,
            "count": 0
           },
           {
            "bin_start": 371,
            "bin_end": 442.59999999999997,
            "count": 0
           },
           {
            "bin_start": 442.59999999999997,
            "bin_end": 514.1999999999999,
            "count": 0
           },
           {
            "bin_start": 514.1999999999999,
            "bin_end": 585.8,
            "count": 0
           },
           {
            "bin_start": 585.8,
            "bin_end": 657.4,
            "count": 0
           },
           {
            "bin_start": 657.4,
            "bin_end": 729,
            "count": 1
           }
          ]
         }
        },
        {
         "name": "buildyear",
         "dtype": "float64",
         "stats": {
          "unique_count": 144,
          "nan_count": 0,
          "min": "1800.0",
          "max": "2020.0",
          "histogram": [
           {
            "bin_start": 1800,
            "bin_end": 1822,
            "count": 1
           },
           {
            "bin_start": 1822,
            "bin_end": 1844,
            "count": 0
           },
           {
            "bin_start": 1844,
            "bin_end": 1866,
            "count": 10
           },
           {
            "bin_start": 1866,
            "bin_end": 1888,
            "count": 63
           },
           {
            "bin_start": 1888,
            "bin_end": 1910,
            "count": 385
           },
           {
            "bin_start": 1910,
            "bin_end": 1932,
            "count": 160
           },
           {
            "bin_start": 1932,
            "bin_end": 1954,
            "count": 764
           },
           {
            "bin_start": 1954,
            "bin_end": 1976,
            "count": 1213
           },
           {
            "bin_start": 1976,
            "bin_end": 1998,
            "count": 95
           },
           {
            "bin_start": 1998,
            "bin_end": 2020,
            "count": 246
           }
          ]
         }
        },
        {
         "name": "matrikkel",
         "dtype": "object",
         "stats": {
          "unique_count": 2607,
          "nan_count": 0,
          "categories": [
           {
            "name": "301-233-255-7",
            "count": 4
           },
           {
            "name": "301-212-33-38",
            "count": 3
           },
           {
            "name": "2605 others",
            "count": 2930
           }
          ]
         }
        },
        {
         "name": "bedrooms",
         "dtype": "float64",
         "stats": {
          "unique_count": 1,
          "nan_count": 0,
          "min": "0.0",
          "max": "0.0",
          "histogram": [
           {
            "bin_start": -0.5,
            "bin_end": -0.4,
            "count": 0
           },
           {
            "bin_start": -0.4,
            "bin_end": -0.3,
            "count": 0
           },
           {
            "bin_start": -0.3,
            "bin_end": -0.19999999999999996,
            "count": 0
           },
           {
            "bin_start": -0.19999999999999996,
            "bin_end": -0.09999999999999998,
            "count": 0
           },
           {
            "bin_start": -0.09999999999999998,
            "bin_end": 0,
            "count": 0
           },
           {
            "bin_start": 0,
            "bin_end": 0.10000000000000009,
            "count": 2937
           },
           {
            "bin_start": 0.10000000000000009,
            "bin_end": 0.20000000000000007,
            "count": 0
           },
           {
            "bin_start": 0.20000000000000007,
            "bin_end": 0.30000000000000004,
            "count": 0
           },
           {
            "bin_start": 0.30000000000000004,
            "bin_end": 0.4,
            "count": 0
           },
           {
            "bin_start": 0.4,
            "bin_end": 0.5,
            "count": 0
           }
          ]
         }
        },
        {
         "name": "bathrooms",
         "dtype": "int64",
         "stats": {
          "unique_count": 5,
          "nan_count": 0,
          "min": "0",
          "max": "4",
          "histogram": [
           {
            "bin_start": 0,
            "bin_end": 0.4,
            "count": 845
           },
           {
            "bin_start": 0.4,
            "bin_end": 0.8,
            "count": 0
           },
           {
            "bin_start": 0.8,
            "bin_end": 1.2000000000000002,
            "count": 2062
           },
           {
            "bin_start": 1.2000000000000002,
            "bin_end": 1.6,
            "count": 0
           },
           {
            "bin_start": 1.6,
            "bin_end": 2,
            "count": 0
           },
           {
            "bin_start": 2,
            "bin_end": 2.4000000000000004,
            "count": 28
           },
           {
            "bin_start": 2.4000000000000004,
            "bin_end": 2.8000000000000003,
            "count": 0
           },
           {
            "bin_start": 2.8000000000000003,
            "bin_end": 3.2,
            "count": 1
           },
           {
            "bin_start": 3.2,
            "bin_end": 3.6,
            "count": 0
           },
           {
            "bin_start": 3.6,
            "bin_end": 4,
            "count": 1
           }
          ]
         }
        },
        {
         "name": "WC",
         "dtype": "int64",
         "stats": {
          "unique_count": 5,
          "nan_count": 0,
          "min": "0",
          "max": "4",
          "histogram": [
           {
            "bin_start": 0,
            "bin_end": 0.4,
            "count": 839
           },
           {
            "bin_start": 0.4,
            "bin_end": 0.8,
            "count": 0
           },
           {
            "bin_start": 0.8,
            "bin_end": 1.2000000000000002,
            "count": 2053
           },
           {
            "bin_start": 1.2000000000000002,
            "bin_end": 1.6,
            "count": 0
           },
           {
            "bin_start": 1.6,
            "bin_end": 2,
            "count": 0
           },
           {
            "bin_start": 2,
            "bin_end": 2.4000000000000004,
            "count": 39
           },
           {
            "bin_start": 2.4000000000000004,
            "bin_end": 2.8000000000000003,
            "count": 0
           },
           {
            "bin_start": 2.8000000000000003,
            "bin_end": 3.2,
            "count": 5
           },
           {
            "bin_start": 3.2,
            "bin_end": 3.6,
            "count": 0
           },
           {
            "bin_start": 3.6,
            "bin_end": 4,
            "count": 1
           }
          ]
         }
        },
        {
         "name": "elevator",
         "dtype": "object",
         "stats": {
          "unique_count": 2,
          "nan_count": 14,
          "categories": [
           {
            "name": "J",
            "count": 1490
           },
           {
            "name": "N",
            "count": 1433
           },
           {
            "name": "Missing",
            "count": 14
           }
          ]
         }
        },
        {
         "name": "floor",
         "dtype": "float64",
         "stats": {
          "unique_count": 19,
          "nan_count": 199,
          "min": "0.0",
          "max": "19.0",
          "histogram": [
           {
            "bin_start": 0,
            "bin_end": 1.9,
            "count": 510
           },
           {
            "bin_start": 1.9,
            "bin_end": 3.8,
            "count": 1106
           },
           {
            "bin_start": 3.8,
            "bin_end": 5.699999999999999,
            "count": 760
           },
           {
            "bin_start": 5.699999999999999,
            "bin_end": 7.6,
            "count": 200
           },
           {
            "bin_start": 7.6,
            "bin_end": 9.5,
            "count": 76
           },
           {
            "bin_start": 9.5,
            "bin_end": 11.399999999999999,
            "count": 57
           },
           {
            "bin_start": 11.399999999999999,
            "bin_end": 13.299999999999999,
            "count": 21
           },
           {
            "bin_start": 13.299999999999999,
            "bin_end": 15.2,
            "count": 2
           },
           {
            "bin_start": 15.2,
            "bin_end": 17.099999999999998,
            "count": 3
           },
           {
            "bin_start": 17.099999999999998,
            "bin_end": 19,
            "count": 3
           }
          ]
         }
        },
        {
         "name": "housingtype",
         "dtype": "object",
         "stats": {
          "unique_count": 4,
          "nan_count": 0,
          "categories": [
           {
            "name": "Leilighet",
            "count": 2896
           },
           {
            "name": "Enebolig",
            "count": 24
           },
           {
            "name": "2 others",
            "count": 17
           }
          ]
         }
        },
        {
         "name": "commondebt",
         "dtype": "float64",
         "stats": {
          "unique_count": 1821,
          "nan_count": 576,
          "min": "46.0",
          "max": "1588850.0",
          "histogram": [
           {
            "bin_start": 46,
            "bin_end": 158926.4,
            "count": 1665
           },
           {
            "bin_start": 158926.4,
            "bin_end": 317806.8,
            "count": 428
           },
           {
            "bin_start": 317806.8,
            "bin_end": 476687.19999999995,
            "count": 70
           },
           {
            "bin_start": 476687.19999999995,
            "bin_end": 635567.6,
            "count": 59
           },
           {
            "bin_start": 635567.6,
            "bin_end": 794448,
            "count": 66
           },
           {
            "bin_start": 794448,
            "bin_end": 953328.3999999999,
            "count": 38
           },
           {
            "bin_start": 953328.3999999999,
            "bin_end": 1112208.8,
            "count": 23
           },
           {
            "bin_start": 1112208.8,
            "bin_end": 1271089.2,
            "count": 6
           },
           {
            "bin_start": 1271089.2,
            "bin_end": 1429969.5999999999,
            "count": 4
           },
           {
            "bin_start": 1429969.5999999999,
            "bin_end": 1588850,
            "count": 2
           }
          ]
         }
        },
        {
         "name": "commoncosts",
         "dtype": "float64",
         "stats": {
          "unique_count": 1663,
          "nan_count": 44,
          "min": "0.0",
          "max": "11759.0",
          "histogram": [
           {
            "bin_start": 0,
            "bin_end": 1175.9,
            "count": 255
           },
           {
            "bin_start": 1175.9,
            "bin_end": 2351.8,
            "count": 1301
           },
           {
            "bin_start": 2351.8,
            "bin_end": 3527.7000000000003,
            "count": 1017
           },
           {
            "bin_start": 3527.7000000000003,
            "bin_end": 4703.6,
            "count": 190
           },
           {
            "bin_start": 4703.6,
            "bin_end": 5879.5,
            "count": 78
           },
           {
            "bin_start": 5879.5,
            "bin_end": 7055.400000000001,
            "count": 39
           },
           {
            "bin_start": 7055.400000000001,
            "bin_end": 8231.300000000001,
            "count": 8
           },
           {
            "bin_start": 8231.300000000001,
            "bin_end": 9407.2,
            "count": 3
           },
           {
            "bin_start": 9407.2,
            "bin_end": 10583.1,
            "count": 1
           },
           {
            "bin_start": 10583.1,
            "bin_end": 11759,
            "count": 1
           }
          ]
         }
        },
        {
         "name": "F_Aircondition",
         "dtype": "float64",
         "stats": {
          "unique_count": 1,
          "nan_count": 2909,
          "min": "1.0",
          "max": "1.0",
          "histogram": [
           {
            "bin_start": 0.5,
            "bin_end": 0.6,
            "count": 0
           },
           {
            "bin_start": 0.6,
            "bin_end": 0.7,
            "count": 0
           },
           {
            "bin_start": 0.7,
            "bin_end": 0.8,
            "count": 0
           },
           {
            "bin_start": 0.8,
            "bin_end": 0.9,
            "count": 0
           },
           {
            "bin_start": 0.9,
            "bin_end": 1,
            "count": 0
           },
           {
            "bin_start": 1,
            "bin_end": 1.1,
            "count": 28
           },
           {
            "bin_start": 1.1,
            "bin_end": 1.2000000000000002,
            "count": 0
           },
           {
            "bin_start": 1.2000000000000002,
            "bin_end": 1.3,
            "count": 0
           },
           {
            "bin_start": 1.3,
            "bin_end": 1.4,
            "count": 0
           },
           {
            "bin_start": 1.4,
            "bin_end": 1.5,
            "count": 0
           }
          ]
         }
        },
        {
         "name": "F_Alarm",
         "dtype": "float64",
         "stats": {
          "unique_count": 1,
          "nan_count": 2888,
          "min": "1.0",
          "max": "1.0",
          "histogram": [
           {
            "bin_start": 0.5,
            "bin_end": 0.6,
            "count": 0
           },
           {
            "bin_start": 0.6,
            "bin_end": 0.7,
            "count": 0
           },
           {
            "bin_start": 0.7,
            "bin_end": 0.8,
            "count": 0
           },
           {
            "bin_start": 0.8,
            "bin_end": 0.9,
            "count": 0
           },
           {
            "bin_start": 0.9,
            "bin_end": 1,
            "count": 0
           },
           {
            "bin_start": 1,
            "bin_end": 1.1,
            "count": 49
           },
           {
            "bin_start": 1.1,
            "bin_end": 1.2000000000000002,
            "count": 0
           },
           {
            "bin_start": 1.2000000000000002,
            "bin_end": 1.3,
            "count": 0
           },
           {
            "bin_start": 1.3,
            "bin_end": 1.4,
            "count": 0
           },
           {
            "bin_start": 1.4,
            "bin_end": 1.5,
            "count": 0
           }
          ]
         }
        },
        {
         "name": "F_BalkongTerrasse",
         "dtype": "float64",
         "stats": {
          "unique_count": 1,
          "nan_count": 1591,
          "min": "1.0",
          "max": "1.0",
          "histogram": [
           {
            "bin_start": 0.5,
            "bin_end": 0.6,
            "count": 0
           },
           {
            "bin_start": 0.6,
            "bin_end": 0.7,
            "count": 0
           },
           {
            "bin_start": 0.7,
            "bin_end": 0.8,
            "count": 0
           },
           {
            "bin_start": 0.8,
            "bin_end": 0.9,
            "count": 0
           },
           {
            "bin_start": 0.9,
            "bin_end": 1,
            "count": 0
           },
           {
            "bin_start": 1,
            "bin_end": 1.1,
            "count": 1346
           },
           {
            "bin_start": 1.1,
            "bin_end": 1.2000000000000002,
            "count": 0
           },
           {
            "bin_start": 1.2000000000000002,
            "bin_end": 1.3,
            "count": 0
           },
           {
            "bin_start": 1.3,
            "bin_end": 1.4,
            "count": 0
           },
           {
            "bin_start": 1.4,
            "bin_end": 1.5,
            "count": 0
           }
          ]
         }
        },
        {
         "name": "F_Barnevennlig",
         "dtype": "float64",
         "stats": {
          "unique_count": 1,
          "nan_count": 1897,
          "min": "1.0",
          "max": "1.0",
          "histogram": [
           {
            "bin_start": 0.5,
            "bin_end": 0.6,
            "count": 0
           },
           {
            "bin_start": 0.6,
            "bin_end": 0.7,
            "count": 0
           },
           {
            "bin_start": 0.7,
            "bin_end": 0.8,
            "count": 0
           },
           {
            "bin_start": 0.8,
            "bin_end": 0.9,
            "count": 0
           },
           {
            "bin_start": 0.9,
            "bin_end": 1,
            "count": 0
           },
           {
            "bin_start": 1,
            "bin_end": 1.1,
            "count": 1040
           },
           {
            "bin_start": 1.1,
            "bin_end": 1.2000000000000002,
            "count": 0
           },
           {
            "bin_start": 1.2000000000000002,
            "bin_end": 1.3,
            "count": 0
           },
           {
            "bin_start": 1.3,
            "bin_end": 1.4,
            "count": 0
           },
           {
            "bin_start": 1.4,
            "bin_end": 1.5,
            "count": 0
           }
          ]
         }
        },
        {
         "name": "F_Bredbåndstilknytning",
         "dtype": "float64",
         "stats": {
          "unique_count": 1,
          "nan_count": 1182,
          "min": "1.0",
          "max": "1.0",
          "histogram": [
           {
            "bin_start": 0.5,
            "bin_end": 0.6,
            "count": 0
           },
           {
            "bin_start": 0.6,
            "bin_end": 0.7,
            "count": 0
           },
           {
            "bin_start": 0.7,
            "bin_end": 0.8,
            "count": 0
           },
           {
            "bin_start": 0.8,
            "bin_end": 0.9,
            "count": 0
           },
           {
            "bin_start": 0.9,
            "bin_end": 1,
            "count": 0
           },
           {
            "bin_start": 1,
            "bin_end": 1.1,
            "count": 1755
           },
           {
            "bin_start": 1.1,
            "bin_end": 1.2000000000000002,
            "count": 0
           },
           {
            "bin_start": 1.2000000000000002,
            "bin_end": 1.3,
            "count": 0
           },
           {
            "bin_start": 1.3,
            "bin_end": 1.4,
            "count": 0
           },
           {
            "bin_start": 1.4,
            "bin_end": 1.5,
            "count": 0
           }
          ]
         }
        },
        {
         "name": "F_Fellesvaskeri",
         "dtype": "float64",
         "stats": {
          "unique_count": 1,
          "nan_count": 1556,
          "min": "1.0",
          "max": "1.0",
          "histogram": [
           {
            "bin_start": 0.5,
            "bin_end": 0.6,
            "count": 0
           },
           {
            "bin_start": 0.6,
            "bin_end": 0.7,
            "count": 0
           },
           {
            "bin_start": 0.7,
            "bin_end": 0.8,
            "count": 0
           },
           {
            "bin_start": 0.8,
            "bin_end": 0.9,
            "count": 0
           },
           {
            "bin_start": 0.9,
            "bin_end": 1,
            "count": 0
           },
           {
            "bin_start": 1,
            "bin_end": 1.1,
            "count": 1381
           },
           {
            "bin_start": 1.1,
            "bin_end": 1.2000000000000002,
            "count": 0
           },
           {
            "bin_start": 1.2000000000000002,
            "bin_end": 1.3,
            "count": 0
           },
           {
            "bin_start": 1.3,
            "bin_end": 1.4,
            "count": 0
           },
           {
            "bin_start": 1.4,
            "bin_end": 1.5,
            "count": 0
           }
          ]
         }
        },
        {
         "name": "F_GarasjeP-plass",
         "dtype": "float64",
         "stats": {
          "unique_count": 1,
          "nan_count": 2587,
          "min": "1.0",
          "max": "1.0",
          "histogram": [
           {
            "bin_start": 0.5,
            "bin_end": 0.6,
            "count": 0
           },
           {
            "bin_start": 0.6,
            "bin_end": 0.7,
            "count": 0
           },
           {
            "bin_start": 0.7,
            "bin_end": 0.8,
            "count": 0
           },
           {
            "bin_start": 0.8,
            "bin_end": 0.9,
            "count": 0
           },
           {
            "bin_start": 0.9,
            "bin_end": 1,
            "count": 0
           },
           {
            "bin_start": 1,
            "bin_end": 1.1,
            "count": 350
           },
           {
            "bin_start": 1.1,
            "bin_end": 1.2000000000000002,
            "count": 0
           },
           {
            "bin_start": 1.2000000000000002,
            "bin_end": 1.3,
            "count": 0
           },
           {
            "bin_start": 1.3,
            "bin_end": 1.4,
            "count": 0
           },
           {
            "bin_start": 1.4,
            "bin_end": 1.5,
            "count": 0
           }
          ]
         }
        },
        {
         "name": "F_Heis",
         "dtype": "float64",
         "stats": {
          "unique_count": 1,
          "nan_count": 1546,
          "min": "1.0",
          "max": "1.0",
          "histogram": [
           {
            "bin_start": 0.5,
            "bin_end": 0.6,
            "count": 0
           },
           {
            "bin_start": 0.6,
            "bin_end": 0.7,
            "count": 0
           },
           {
            "bin_start": 0.7,
            "bin_end": 0.8,
            "count": 0
           },
           {
            "bin_start": 0.8,
            "bin_end": 0.9,
            "count": 0
           },
           {
            "bin_start": 0.9,
            "bin_end": 1,
            "count": 0
           },
           {
            "bin_start": 1,
            "bin_end": 1.1,
            "count": 1391
           },
           {
            "bin_start": 1.1,
            "bin_end": 1.2000000000000002,
            "count": 0
           },
           {
            "bin_start": 1.2000000000000002,
            "bin_end": 1.3,
            "count": 0
           },
           {
            "bin_start": 1.3,
            "bin_end": 1.4,
            "count": 0
           },
           {
            "bin_start": 1.4,
            "bin_end": 1.5,
            "count": 0
           }
          ]
         }
        },
        {
         "name": "F_Ingen gjenboere",
         "dtype": "float64",
         "stats": {
          "unique_count": 1,
          "nan_count": 1933,
          "min": "1.0",
          "max": "1.0",
          "histogram": [
           {
            "bin_start": 0.5,
            "bin_end": 0.6,
            "count": 0
           },
           {
            "bin_start": 0.6,
            "bin_end": 0.7,
            "count": 0
           },
           {
            "bin_start": 0.7,
            "bin_end": 0.8,
            "count": 0
           },
           {
            "bin_start": 0.8,
            "bin_end": 0.9,
            "count": 0
           },
           {
            "bin_start": 0.9,
            "bin_end": 1,
            "count": 0
           },
           {
            "bin_start": 1,
            "bin_end": 1.1,
            "count": 1004
           },
           {
            "bin_start": 1.1,
            "bin_end": 1.2000000000000002,
            "count": 0
           },
           {
            "bin_start": 1.2000000000000002,
            "bin_end": 1.3,
            "count": 0
           },
           {
            "bin_start": 1.3,
            "bin_end": 1.4,
            "count": 0
           },
           {
            "bin_start": 1.4,
            "bin_end": 1.5,
            "count": 0
           }
          ]
         }
        },
        {
         "name": "F_Lademulighet",
         "dtype": "float64"
        },
        {
         "name": "F_Livsløpsstandard",
         "dtype": "float64"
        },
        {
         "name": "F_Moderne",
         "dtype": "float64"
        },
        {
         "name": "F_Offentlig vannkloakk",
         "dtype": "float64"
        },
        {
         "name": "F_Parkett",
         "dtype": "float64"
        },
        {
         "name": "F_PeisIldsted",
         "dtype": "float64"
        },
        {
         "name": "F_Rolig",
         "dtype": "float64"
        },
        {
         "name": "F_Sentralt",
         "dtype": "float64"
        },
        {
         "name": "F_Utsikt",
         "dtype": "float64"
        },
        {
         "name": "F_Vaktmester-vektertjeneste",
         "dtype": "float64"
        },
        {
         "name": "F_Bademulighet",
         "dtype": "float64"
        },
        {
         "name": "F_Fiskemulighet",
         "dtype": "float64"
        },
        {
         "name": "F_Turterreng",
         "dtype": "float64"
        },
        {
         "name": "adtitle",
         "dtype": "object"
        },
        {
         "name": "N_modernisering",
         "dtype": "bool"
        },
        {
         "name": "N_oppussing",
         "dtype": "bool"
        },
        {
         "name": "N_regulert",
         "dtype": "bool"
        },
        {
         "name": "N_garasjemulighet",
         "dtype": "bool"
        },
        {
         "name": "postcode",
         "dtype": "int64"
        },
        {
         "name": "Parking",
         "dtype": "int64"
        },
        {
         "name": "price_inc_debt",
         "dtype": "float64"
        },
        {
         "name": "area_id",
         "dtype": "int64"
        },
        {
         "name": "Bydel_lat",
         "dtype": "float64"
        },
        {
         "name": "Bydel_lng",
         "dtype": "float64"
        },
        {
         "name": "_deepnote_index_column",
         "dtype": "int64"
        }
       ],
       "rows": [
        {
         "documentDate": "2014-04-16",
         "picturedate": "2014/2",
         "lastchanged": "2014-03-02",
         "adcreated": "2014-01-21",
         "price": 26500000,
         "listprice": 30000000,
         "lat": 59.919575,
         "lng": 10.696983,
         "address": "Kristinelundveien 2, 0268 Oslo",
         "apartmentnumber": "H0101",
         "apartmenttype": "B",
         "conveyancetype": "Fritt salg",
         "finncode": 46299277,
         "BRA": 792,
         "PROM": 729,
         "buildyear": 1912,
         "matrikkel": "301-212-534-0",
         "bedrooms": 0,
         "bathrooms": 2,
         "WC": 2,
         "elevator": "N",
         "floor": "nan",
         "housingtype": "Enebolig",
         "commondebt": "nan",
         "commoncosts": "nan",
         "F_Aircondition": "nan",
         "F_Alarm": "nan",
         "F_BalkongTerrasse": 1,
         "F_Barnevennlig": "nan",
         "F_Bredbåndstilknytning": "nan",
         "F_Fellesvaskeri": "nan",
         "F_GarasjeP-plass": "nan",
         "F_Heis": "nan",
         "F_Ingen gjenboere": "nan",
         "F_Lademulighet": "nan",
         "F_Livsløpsstandard": "nan",
         "F_Moderne": "nan",
         "F_Offentlig vannkloakk": "nan",
         "F_Parkett": "nan",
         "F_PeisIldsted": 1,
         "F_Rolig": "nan",
         "F_Sentralt": 1,
         "F_Utsikt": "nan",
         "F_Vaktmester-vektertjeneste": "nan",
         "F_Bademulighet": "nan",
         "F_Fiskemulighet": "nan",
         "F_Turterreng": "nan",
         "adtitle": "FROGNER - Byvilla med meget god beliggenhet og gode leieinntekter",
         "N_modernisering": false,
         "N_oppussing": false,
         "N_regulert": false,
         "N_garasjemulighet": false,
         "postcode": 268,
         "Parking": 0,
         "price_inc_debt": 26500000,
         "area_id": 5,
         "Bydel_lat": 59.915947,
         "Bydel_lng": 10.705421,
         "_deepnote_index_column": 21382
        },
        {
         "documentDate": "2010-03-05",
         "picturedate": "3/189",
         "lastchanged": "2009-12-12",
         "adcreated": "2009-09-14",
         "price": 10800000,
         "listprice": 12000000,
         "lat": 59.910675,
         "lng": 10.725461,
         "address": "Bryggegaten 22, 0250 Oslo",
         "apartmentnumber": "H1202",
         "apartmenttype": "B",
         "conveyancetype": "Fritt salg",
         "finncode": 18967693,
         "BRA": 225,
         "PROM": 214,
         "buildyear": 1990,
         "matrikkel": "301-209-448-10",
         "bedrooms": 0,
         "bathrooms": 2,
         "WC": 2,
         "elevator": "J",
         "floor": 12,
         "housingtype": "Leilighet",
         "commondebt": 39174,
         "commoncosts": 11759,
         "F_Aircondition": "nan",
         "F_Alarm": 1,
         "F_BalkongTerrasse": 1,
         "F_Barnevennlig": "nan",
         "F_Bredbåndstilknytning": "nan",
         "F_Fellesvaskeri": "nan",
         "F_GarasjeP-plass": 1,
         "F_Heis": 1,
         "F_Ingen gjenboere": "nan",
         "F_Lademulighet": "nan",
         "F_Livsløpsstandard": "nan",
         "F_Moderne": "nan",
         "F_Offentlig vannkloakk": "nan",
         "F_Parkett": 1,
         "F_PeisIldsted": 1,
         "F_Rolig": "nan",
         "F_Sentralt": 1,
         "F_Utsikt": 1,
         "F_Vaktmester-vektertjeneste": "nan",
         "F_Bademulighet": "nan",
         "F_Fiskemulighet": "nan",
         "F_Turterreng": "nan",
         "adtitle": "Unik leilighet på Aker Brygge <br />214m2 , 3 terrasser, 2 peiser ,  garasje , sol og utsikt.",
         "N_modernisering": false,
         "N_oppussing": false,
         "N_regulert": false,
         "N_garasjemulighet": false,
         "postcode": 250,
         "Parking": 1,
         "price_inc_debt": 10839174,
         "area_id": 5,
         "Bydel_lat": 59.915947,
         "Bydel_lng": 10.705421,
         "_deepnote_index_column": 51867
        },
        {
         "documentDate": "2012-10-17",
         "picturedate": "2012/9",
         "lastchanged": "2012-09-22",
         "adcreated": "2012-08-19",
         "price": 10200000,
         "listprice": 9800000,
         "lat": 59.95089,
         "lng": 10.684814,
         "address": "Bjørnveien 20 H, 0774 Oslo",
         "apartmentnumber": "H0101",
         "apartmenttype": "B",
         "conveyancetype": "Fritt salg",
         "finncode": 36683362,
         "BRA": 289,
         "PROM": 285,
         "buildyear": 1980,
         "matrikkel": "301-33-1965-0",
         "bedrooms": 0,
         "bathrooms": 0,
         "WC": 0,
         "elevator": "N",
         "floor": "nan",
         "housingtype": "Enebolig",
         "commondebt": "nan",
         "commoncosts": "nan",
         "F_Aircondition": "nan",
         "F_Alarm": "nan",
         "F_BalkongTerrasse": 1,
         "F_Barnevennlig": 1,
         "F_Bredbåndstilknytning": "nan",
         "F_Fellesvaskeri": "nan",
         "F_GarasjeP-plass": 1,
         "F_Heis": "nan",
         "F_Ingen gjenboere": 1,
         "F_Lademulighet": "nan",
         "F_Livsløpsstandard": "nan",
         "F_Moderne": "nan",
         "F_Offentlig vannkloakk": "nan",
         "F_Parkett": 1,
         "F_PeisIldsted": 1,
         "F_Rolig": "nan",
         "F_Sentralt": "nan",
         "F_Utsikt": "nan",
         "F_Vaktmester-vektertjeneste": "nan",
         "F_Bademulighet": "nan",
         "F_Fiskemulighet": "nan",
         "F_Turterreng": 1,
         "adtitle": "SLEMDAL Stor, påkostet enebolig m/ 3-roms prakt.del - dobbelgarasje - solrik tomt",
         "N_modernisering": false,
         "N_oppussing": false,
         "N_regulert": false,
         "N_garasjemulighet": false,
         "postcode": 774,
         "Parking": 1,
         "price_inc_debt": 10200000,
         "area_id": 7,
         "Bydel_lat": 59.950695,
         "Bydel_lng": 10.657639,
         "_deepnote_index_column": 68394
        },
        {
         "documentDate": "2009-07-03",
         "picturedate": "4/172",
         "lastchanged": "2009-05-18",
         "adcreated": "2009-05-04",
         "price": 9600000,
         "listprice": 9750000,
         "lat": 59.955616,
         "lng": 10.742201,
         "address": "Dyrlandsveien 13, 0875 Oslo",
         "apartmentnumber": "H0101",
         "apartmenttype": "B",
         "conveyancetype": "Fritt salg",
         "finncode": 17258564,
         "BRA": 294,
         "PROM": 286,
         "buildyear": 1960,
         "matrikkel": "301-52-609-0",
         "bedrooms": 0,
         "bathrooms": 1,
         "WC": 1,
         "elevator": "N",
         "floor": "nan",
         "housingtype": "Enebolig",
         "commondebt": "nan",
         "commoncosts": "nan",
         "F_Aircondition": "nan",
         "F_Alarm": "nan",
         "F_BalkongTerrasse": 1,
         "F_Barnevennlig": 1,
         "F_Bredbåndstilknytning": "nan",
         "F_Fellesvaskeri": "nan",
         "F_GarasjeP-plass": 1,
         "F_Heis": "nan",
         "F_Ingen gjenboere": 1,
         "F_Lademulighet": "nan",
         "F_Livsløpsstandard": "nan",
         "F_Moderne": "nan",
         "F_Offentlig vannkloakk": 1,
         "F_Parkett": 1,
         "F_PeisIldsted": 1,
         "F_Rolig": 1,
         "F_Sentralt": "nan",
         "F_Utsikt": 1,
         "F_Vaktmester-vektertjeneste": "nan",
         "F_Bademulighet": "nan",
         "F_Fiskemulighet": "nan",
         "F_Turterreng": 1,
         "adtitle": "Enebolig på Nordberg <br />Solrik, flat tomt på 1,3 mål, utsikt, stille",
         "N_modernisering": false,
         "N_oppussing": false,
         "N_regulert": false,
         "N_garasjemulighet": false,
         "postcode": 875,
         "Parking": 1,
         "price_inc_debt": 9600000,
         "area_id": 8,
         "Bydel_lat": 59.956516,
         "Bydel_lng": 10.766631,
         "_deepnote_index_column": 164554
        },
        {
         "documentDate": "2008-11-28",
         "picturedate": "5/131",
         "lastchanged": "2008-05-05",
         "adcreated": "2008-04-19",
         "price": 9350000,
         "listprice": 8500000,
         "lat": 59.961884,
         "lng": 10.758628,
         "address": "Langåsveien 17, 0880 Oslo",
         "apartmentnumber": "H0201",
         "apartmenttype": "B",
         "conveyancetype": "Fritt salg",
         "finncode": 13149895,
         "BRA": 275,
         "PROM": 196,
         "buildyear": 1928,
         "matrikkel": "301-57-85-0",
         "bedrooms": 0,
         "bathrooms": 1,
         "WC": 1,
         "elevator": "N",
         "floor": "nan",
         "housingtype": "Enebolig",
         "commondebt": "nan",
         "commoncosts": "nan",
         "F_Aircondition": "nan",
         "F_Alarm": "nan",
         "F_BalkongTerrasse": "nan",
         "F_Barnevennlig": 1,
         "F_Bredbåndstilknytning": "nan",
         "F_Fellesvaskeri": "nan",
         "F_GarasjeP-plass": 1,
         "F_Heis": "nan",
         "F_Ingen gjenboere": "nan",
         "F_Lademulighet": "nan",
         "F_Livsløpsstandard": "nan",
         "F_Moderne": "nan",
         "F_Offentlig vannkloakk": "nan",
         "F_Parkett": "nan",
         "F_PeisIldsted": "nan",
         "F_Rolig": "nan",
         "F_Sentralt": "nan",
         "F_Utsikt": "nan",
         "F_Vaktmester-vektertjeneste": "nan",
         "F_Bademulighet": "nan",
         "F_Fiskemulighet": "nan",
         "F_Turterreng": "nan",
         "adtitle": "Korsvoll - Unik eiendom! Enebolig, stor eplehage, mulighet for å skille ut tomt",
         "N_modernisering": false,
         "N_oppussing": false,
         "N_regulert": false,
         "N_garasjemulighet": false,
         "postcode": 880,
         "Parking": 1,
         "price_inc_debt": 9350000,
         "area_id": 8,
         "Bydel_lat": 59.956516,
         "Bydel_lng": 10.766631,
         "_deepnote_index_column": 8088
        },
        {
         "documentDate": "2013-01-29",
         "picturedate": "2012/8",
         "lastchanged": "2012-09-01",
         "adcreated": "2012-08-12",
         "price": 8800000,
         "listprice": 8800000,
         "lat": 59.917282,
         "lng": 10.650305,
         "address": "Vækerø Terrasse 11, 0282 Oslo",
         "apartmentnumber": "H0101",
         "apartmenttype": "B",
         "conveyancetype": "Fritt salg",
         "finncode": 36544002,
         "BRA": 211,
         "PROM": 200,
         "buildyear": 2012,
         "matrikkel": "301-7-24-3",
         "bedrooms": 0,
         "bathrooms": 2,
         "WC": 2,
         "elevator": "N",
         "floor": "nan",
         "housingtype": "Tomannsbolig",
         "commondebt": "nan",
         "commoncosts": "nan",
         "F_Aircondition": "nan",
         "F_Alarm": "nan",
         "F_BalkongTerrasse": 1,
         "F_Barnevennlig": 1,
         "F_Bredbåndstilknytning": "nan",
         "F_Fellesvaskeri": "nan",
         "F_GarasjeP-plass": 1,
         "F_Heis": "nan",
         "F_Ingen gjenboere": 1,
         "F_Lademulighet": "nan",
         "F_Livsløpsstandard": "nan",
         "F_Moderne": "nan",
         "F_Offentlig vannkloakk": "nan",
         "F_Parkett": 1,
         "F_PeisIldsted": 1,
         "F_Rolig": 1,
         "F_Sentralt": 1,
         "F_Utsikt": 1,
         "F_Vaktmester-vektertjeneste": "nan",
         "F_Bademulighet": "nan",
         "F_Fiskemulighet": "nan",
         "F_Turterreng": 1,
         "adtitle": "NY ferdigstilt funkis tomannsbolig for den kresne! <br />Innflyttingsklar! Flott sjøutsikt! Dobb ga…",
         "N_modernisering": false,
         "N_oppussing": false,
         "N_regulert": false,
         "N_garasjemulighet": false,
         "postcode": 282,
         "Parking": 1,
         "price_inc_debt": 8800000,
         "area_id": 6,
         "Bydel_lat": 59.927271,
         "Bydel_lng": 10.664877,
         "_deepnote_index_column": 58000
        },
        {
         "documentDate": "2013-01-29",
         "picturedate": "2012/4",
         "lastchanged": "2012-04-19",
         "adcreated": "2012-04-03",
         "price": 8600000,
         "listprice": 8600000,
         "lat": 59.917282,
         "lng": 10.650305,
         "address": "Vækerø Terrasse 11, 0282 Oslo",
         "apartmentnumber": "H0101",
         "apartmenttype": "B",
         "conveyancetype": "Fritt salg",
         "finncode": 34118310,
         "BRA": 188,
         "PROM": 179,
         "buildyear": 2012,
         "matrikkel": "301-7-24-1",
         "bedrooms": 0,
         "bathrooms": 2,
         "WC": 2,
         "elevator": "N",
         "floor": "nan",
         "housingtype": "Tomannsbolig",
         "commondebt": "nan",
         "commoncosts": "nan",
         "F_Aircondition": "nan",
         "F_Alarm": "nan",
         "F_BalkongTerrasse": 1,
         "F_Barnevennlig": 1,
         "F_Bredbåndstilknytning": "nan",
         "F_Fellesvaskeri": "nan",
         "F_GarasjeP-plass": 1,
         "F_Heis": "nan",
         "F_Ingen gjenboere": 1,
         "F_Lademulighet": "nan",
         "F_Livsløpsstandard": "nan",
         "F_Moderne": "nan",
         "F_Offentlig vannkloakk": "nan",
         "F_Parkett": 1,
         "F_PeisIldsted": 1,
         "F_Rolig": 1,
         "F_Sentralt": 1,
         "F_Utsikt": 1,
         "F_Vaktmester-vektertjeneste": "nan",
         "F_Bademulighet": "nan",
         "F_Fiskemulighet": "nan",
         "F_Turterreng": 1,
         "adtitle": "To NYE funkis tomannsboliger for den kresne! <br />Flott sjøutsikt! Underjordisk garasje! Solrik ta…",
         "N_modernisering": false,
         "N_oppussing": false,
         "N_regulert": false,
         "N_garasjemulighet": false,
         "postcode": 282,
         "Parking": 1,
         "price_inc_debt": 8600000,
         "area_id": 6,
         "Bydel_lat": 59.927271,
         "Bydel_lng": 10.664877,
         "_deepnote_index_column": 77731
        },
        {
         "documentDate": "2013-01-29",
         "picturedate": "2012/4",
         "lastchanged": "2012-04-19",
         "adcreated": "2012-04-03",
         "price": 8500000,
         "listprice": 8500000,
         "lat": 59.917282,
         "lng": 10.650305,
         "address": "Vækerø Terrasse 11, 0282 Oslo",
         "apartmentnumber": "U0101",
         "apartmenttype": "B",
         "conveyancetype": "Fritt salg",
         "finncode": 34118348,
         "BRA": 206,
         "PROM": 200,
         "buildyear": 2012,
         "matrikkel": "301-7-24-4",
         "bedrooms": 0,
         "bathrooms": 2,
         "WC": 2,
         "elevator": "N",
         "floor": "nan",
         "housingtype": "Tomannsbolig",
         "commondebt": "nan",
         "commoncosts": "nan",
         "F_Aircondition": "nan",
         "F_Alarm": "nan",
         "F_BalkongTerrasse": 1,
         "F_Barnevennlig": 1,
         "F_Bredbåndstilknytning": "nan",
         "F_Fellesvaskeri": "nan",
         "F_GarasjeP-plass": 1,
         "F_Heis": "nan",
         "F_Ingen gjenboere": 1,
         "F_Lademulighet": "nan",
         "F_Livsløpsstandard": "nan",
         "F_Moderne": "nan",
         "F_Offentlig vannkloakk": "nan",
         "F_Parkett": 1,
         "F_PeisIldsted": 1,
         "F_Rolig": 1,
         "F_Sentralt": 1,
         "F_Utsikt": 1,
         "F_Vaktmester-vektertjeneste": "nan",
         "F_Bademulighet": "nan",
         "F_Fiskemulighet": "nan",
         "F_Turterreng": 1,
         "adtitle": "To NYE funkis tomannsboliger for den kresne! <br />Flott sjøutsikt! Underjordisk garasje! Solrik ta…",
         "N_modernisering": false,
         "N_oppussing": false,
         "N_regulert": false,
         "N_garasjemulighet": false,
         "postcode": 282,
         "Parking": 1,
         "price_inc_debt": 8500000,
         "area_id": 6,
         "Bydel_lat": 59.927271,
         "Bydel_lng": 10.664877,
         "_deepnote_index_column": 145100
        },
        {
         "documentDate": "2018-12-13",
         "picturedate": "2018/8",
         "lastchanged": "2019-02-01",
         "adcreated": "2018-08-16",
         "price": 8400000,
         "listprice": 8550000,
         "lat": 59.8427,
         "lng": 10.8056,
         "address": "Hauketosvingen 4, 1266 Oslo",
         "apartmentnumber": "H0101",
         "apartmenttype": "B",
         "conveyancetype": "Fritt salg",
         "finncode": 126894107,
         "BRA": 284,
         "PROM": 241,
         "buildyear": 1949,
         "matrikkel": "301-189-75-0",
         "bedrooms": 0,
         "bathrooms": 2,
         "WC": 2,
         "elevator": "N",
         "floor": "nan",
         "housingtype": "Enebolig",
         "commondebt": "nan",
         "commoncosts": "nan",
         "F_Aircondition": "nan",
         "F_Alarm": "nan",
         "F_BalkongTerrasse": 1,
         "F_Barnevennlig": 1,
         "F_Bredbåndstilknytning": "nan",
         "F_Fellesvaskeri": "nan",
         "F_GarasjeP-plass": 1,
         "F_Heis": "nan",
         "F_Ingen gjenboere": "nan",
         "F_Lademulighet": "nan",
         "F_Livsløpsstandard": "nan",
         "F_Moderne": "nan",
         "F_Offentlig vannkloakk": 1,
         "F_Parkett": 1,
         "F_PeisIldsted": 1,
         "F_Rolig": 1,
         "F_Sentralt": 1,
         "F_Utsikt": "nan",
         "F_Vaktmester-vektertjeneste": "nan",
         "F_Bademulighet": "nan",
         "F_Fiskemulighet": "nan",
         "F_Turterreng": 1,
         "adtitle": "Hauketo - Meget tiltalende, stor og innholdsrik enebolig, med 3 bad, delvis innredet kjeller, stort…",
         "N_modernisering": false,
         "N_oppussing": false,
         "N_regulert": false,
         "N_garasjemulighet": false,
         "postcode": 1266,
         "Parking": 1,
         "price_inc_debt": 8400000,
         "area_id": 15,
         "Bydel_lat": 59.832622,
         "Bydel_lng": 10.826528,
         "_deepnote_index_column": 27518
        },
        {
         "documentDate": "2013-01-29",
         "picturedate": "2012/8",
         "lastchanged": "2012-09-21",
         "adcreated": "2012-08-12",
         "price": 8350000,
         "listprice": 8500000,
         "lat": 59.917282,
         "lng": 10.650305,
         "address": "Vækerø Terrasse 11, 0282 Oslo",
         "apartmentnumber": "H0101",
         "apartmenttype": "B",
         "conveyancetype": "Fritt salg",
         "finncode": 36544322,
         "BRA": 192,
         "PROM": 182,
         "buildyear": 2012,
         "matrikkel": "301-7-24-2",
         "bedrooms": 0,
         "bathrooms": 2,
         "WC": 2,
         "elevator": "N",
         "floor": "nan",
         "housingtype": "Tomannsbolig",
         "commondebt": "nan",
         "commoncosts": "nan",
         "F_Aircondition": "nan",
         "F_Alarm": "nan",
         "F_BalkongTerrasse": 1,
         "F_Barnevennlig": 1,
         "F_Bredbåndstilknytning": "nan",
         "F_Fellesvaskeri": "nan",
         "F_GarasjeP-plass": 1,
         "F_Heis": "nan",
         "F_Ingen gjenboere": 1,
         "F_Lademulighet": "nan",
         "F_Livsløpsstandard": "nan",
         "F_Moderne": "nan",
         "F_Offentlig vannkloakk": "nan",
         "F_Parkett": 1,
         "F_PeisIldsted": 1,
         "F_Rolig": 1,
         "F_Sentralt": 1,
         "F_Utsikt": 1,
         "F_Vaktmester-vektertjeneste": "nan",
         "F_Bademulighet": "nan",
         "F_Fiskemulighet": "nan",
         "F_Turterreng": 1,
         "adtitle": "NY ferdigstilt funkis tomannsbolig! Kun 1 igjen! <br />Innflyttingsklar! Flott sjøutsikt! Dobb gar.…",
         "N_modernisering": false,
         "N_oppussing": false,
         "N_regulert": false,
         "N_garasjemulighet": false,
         "postcode": 282,
         "Parking": 1,
         "price_inc_debt": 8350000,
         "area_id": 6,
         "Bydel_lat": 59.927271,
         "Bydel_lng": 10.664877,
         "_deepnote_index_column": 10578
        }
       ]
      },
      "text/plain": "       documentDate picturedate lastchanged   adcreated    price  listprice  \\\n142      2008-07-04       2/127  2008-03-21  2008-03-11  2100000  2090000.0   \n161      2021-10-01      2021/8  2021-08-07  2021-08-04  3200000  3290000.0   \n212      2012-11-13      2012/9  2012-10-06  2012-09-13  1870000  1890000.0   \n260      2011-06-27      2011/6  2011-06-09  2011-06-03  1250000   990000.0   \n331      2019-06-13      2019/5  2019-09-23  2019-05-03  2240000  2290000.0   \n...             ...         ...         ...         ...      ...        ...   \n180804   2021-12-13     2021/10  2021-10-08  2021-10-06  3240000  3290000.0   \n180869   2022-01-18     2021/11  2021-11-05  2021-11-04  3300000  3060000.0   \n180956   2021-12-23     2021/10  2021-10-28  2021-10-25  2950000  2950000.0   \n181108   2018-10-24      2018/9  2019-02-01  2018-09-07  3500000  3600000.0   \n181247   2022-01-06     2021/10  2021-10-22  2021-10-19  3350000  3300000.0   \n\n              lat        lng                          address apartmentnumber  \\\n142     59.928608  10.652009        Ullern Allè 93, 0381 Oslo           H0114   \n161     59.929700  10.782400        Sinsenveien 16, 0572 Oslo           H0402   \n212     59.920160  10.732352    Hegdehaugsveien 5A, 0352 Oslo           H0503   \n260     59.922558  10.726760        Oscars gate 19, 0352 Oslo           H0412   \n331     59.960200  10.880700        Bergensveien 4, 0963 Oslo           H0719   \n...           ...        ...                              ...             ...   \n180804  59.929400  10.733800         Vidars gate 4, 0452 Oslo           H0405   \n180869  59.909900  10.766700      Hollendergata 2E, 0190 Oslo           H0103   \n180956  59.889100  10.853600     Mikkel Revs vei 2, 0688 Oslo           H0304   \n181108  59.918000  10.693600  Olav Kyrres gate 7 A, 0273 Oslo           H0301   \n181247  59.917000  10.709900        Bygdøy allé 35, 0262 Oslo           H0207   \n\n        ... N_modernisering N_oppussing  N_regulert  N_garasjemulighet  \\\n142     ...           False       False       False              False   \n161     ...           False       False       False              False   \n212     ...           False       False       False              False   \n260     ...           False       False       False              False   \n331     ...            True       False       False              False   \n...     ...             ...         ...         ...                ...   \n180804  ...           False       False       False              False   \n180869  ...           False       False       False              False   \n180956  ...           False       False       False              False   \n181108  ...           False       False       False              False   \n181247  ...           False       False       False              False   \n\n        postcode  Parking price_inc_debt  area_id  Bydel_lat  Bydel_lng  \n142          381        0      2115656.0        6  59.927271  10.664877  \n161          572        0      3318000.0        2  59.923818  10.771007  \n212          352        0      1872490.0        5  59.915947  10.705421  \n260          352        0      1287612.0        5  59.915947  10.705421  \n331          963        0      2247530.0       10  59.954572  10.876033  \n...          ...      ...            ...      ...        ...        ...  \n180804       452        0      3242146.0        4  59.927053  10.738491  \n180869       190        0      3328438.0        1  59.911832  10.789224  \n180956       688        1      2950000.0       13  59.888390  10.835148  \n181108       273        0      3500000.0        5  59.915947  10.705421  \n181247       262        0      3376040.0        5  59.915947  10.705421  \n\n[2937 rows x 58 columns]",
      "text/html": "<div>\n<style scoped>\n    .dataframe tbody tr th:only-of-type {\n        vertical-align: middle;\n    }\n\n    .dataframe tbody tr th {\n        vertical-align: top;\n    }\n\n    .dataframe thead th {\n        text-align: right;\n    }\n</style>\n<table border=\"1\" class=\"dataframe\">\n  <thead>\n    <tr style=\"text-align: right;\">\n      <th></th>\n      <th>documentDate</th>\n      <th>picturedate</th>\n      <th>lastchanged</th>\n      <th>adcreated</th>\n      <th>price</th>\n      <th>listprice</th>\n      <th>lat</th>\n      <th>lng</th>\n      <th>address</th>\n      <th>apartmentnumber</th>\n      <th>...</th>\n      <th>N_modernisering</th>\n      <th>N_oppussing</th>\n      <th>N_regulert</th>\n      <th>N_garasjemulighet</th>\n      <th>postcode</th>\n      <th>Parking</th>\n      <th>price_inc_debt</th>\n      <th>area_id</th>\n      <th>Bydel_lat</th>\n      <th>Bydel_lng</th>\n    </tr>\n  </thead>\n  <tbody>\n    <tr>\n      <th>142</th>\n      <td>2008-07-04</td>\n      <td>2/127</td>\n      <td>2008-03-21</td>\n      <td>2008-03-11</td>\n      <td>2100000</td>\n      <td>2090000.0</td>\n      <td>59.928608</td>\n      <td>10.652009</td>\n      <td>Ullern Allè 93, 0381 Oslo</td>\n      <td>H0114</td>\n      <td>...</td>\n      <td>False</td>\n      <td>False</td>\n      <td>False</td>\n      <td>False</td>\n      <td>381</td>\n      <td>0</td>\n      <td>2115656.0</td>\n      <td>6</td>\n      <td>59.927271</td>\n      <td>10.664877</td>\n    </tr>\n    <tr>\n      <th>161</th>\n      <td>2021-10-01</td>\n      <td>2021/8</td>\n      <td>2021-08-07</td>\n      <td>2021-08-04</td>\n      <td>3200000</td>\n      <td>3290000.0</td>\n      <td>59.929700</td>\n      <td>10.782400</td>\n      <td>Sinsenveien 16, 0572 Oslo</td>\n      <td>H0402</td>\n      <td>...</td>\n      <td>False</td>\n      <td>False</td>\n      <td>False</td>\n      <td>False</td>\n      <td>572</td>\n      <td>0</td>\n      <td>3318000.0</td>\n      <td>2</td>\n      <td>59.923818</td>\n      <td>10.771007</td>\n    </tr>\n    <tr>\n      <th>212</th>\n      <td>2012-11-13</td>\n      <td>2012/9</td>\n      <td>2012-10-06</td>\n      <td>2012-09-13</td>\n      <td>1870000</td>\n      <td>1890000.0</td>\n      <td>59.920160</td>\n      <td>10.732352</td>\n      <td>Hegdehaugsveien 5A, 0352 Oslo</td>\n      <td>H0503</td>\n      <td>...</td>\n      <td>False</td>\n      <td>False</td>\n      <td>False</td>\n      <td>False</td>\n      <td>352</td>\n      <td>0</td>\n      <td>1872490.0</td>\n      <td>5</td>\n      <td>59.915947</td>\n      <td>10.705421</td>\n    </tr>\n    <tr>\n      <th>260</th>\n      <td>2011-06-27</td>\n      <td>2011/6</td>\n      <td>2011-06-09</td>\n      <td>2011-06-03</td>\n      <td>1250000</td>\n      <td>990000.0</td>\n      <td>59.922558</td>\n      <td>10.726760</td>\n      <td>Oscars gate 19, 0352 Oslo</td>\n      <td>H0412</td>\n      <td>...</td>\n      <td>False</td>\n      <td>False</td>\n      <td>False</td>\n      <td>False</td>\n      <td>352</td>\n      <td>0</td>\n      <td>1287612.0</td>\n      <td>5</td>\n      <td>59.915947</td>\n      <td>10.705421</td>\n    </tr>\n    <tr>\n      <th>331</th>\n      <td>2019-06-13</td>\n      <td>2019/5</td>\n      <td>2019-09-23</td>\n      <td>2019-05-03</td>\n      <td>2240000</td>\n      <td>2290000.0</td>\n      <td>59.960200</td>\n      <td>10.880700</td>\n      <td>Bergensveien 4, 0963 Oslo</td>\n      <td>H0719</td>\n      <td>...</td>\n      <td>True</td>\n      <td>False</td>\n      <td>False</td>\n      <td>False</td>\n      <td>963</td>\n      <td>0</td>\n      <td>2247530.0</td>\n      <td>10</td>\n      <td>59.954572</td>\n      <td>10.876033</td>\n    </tr>\n    <tr>\n      <th>...</th>\n      <td>...</td>\n      <td>...</td>\n      <td>...</td>\n      <td>...</td>\n      <td>...</td>\n      <td>...</td>\n      <td>...</td>\n      <td>...</td>\n      <td>...</td>\n      <td>...</td>\n      <td>...</td>\n      <td>...</td>\n      <td>...</td>\n      <td>...</td>\n      <td>...</td>\n      <td>...</td>\n      <td>...</td>\n      <td>...</td>\n      <td>...</td>\n      <td>...</td>\n      <td>...</td>\n    </tr>\n    <tr>\n      <th>180804</th>\n      <td>2021-12-13</td>\n      <td>2021/10</td>\n      <td>2021-10-08</td>\n      <td>2021-10-06</td>\n      <td>3240000</td>\n      <td>3290000.0</td>\n      <td>59.929400</td>\n      <td>10.733800</td>\n      <td>Vidars gate 4, 0452 Oslo</td>\n      <td>H0405</td>\n      <td>...</td>\n      <td>False</td>\n      <td>False</td>\n      <td>False</td>\n      <td>False</td>\n      <td>452</td>\n      <td>0</td>\n      <td>3242146.0</td>\n      <td>4</td>\n      <td>59.927053</td>\n      <td>10.738491</td>\n    </tr>\n    <tr>\n      <th>180869</th>\n      <td>2022-01-18</td>\n      <td>2021/11</td>\n      <td>2021-11-05</td>\n      <td>2021-11-04</td>\n      <td>3300000</td>\n      <td>3060000.0</td>\n      <td>59.909900</td>\n      <td>10.766700</td>\n      <td>Hollendergata 2E, 0190 Oslo</td>\n      <td>H0103</td>\n      <td>...</td>\n      <td>False</td>\n      <td>False</td>\n      <td>False</td>\n      <td>False</td>\n      <td>190</td>\n      <td>0</td>\n      <td>3328438.0</td>\n      <td>1</td>\n      <td>59.911832</td>\n      <td>10.789224</td>\n    </tr>\n    <tr>\n      <th>180956</th>\n      <td>2021-12-23</td>\n      <td>2021/10</td>\n      <td>2021-10-28</td>\n      <td>2021-10-25</td>\n      <td>2950000</td>\n      <td>2950000.0</td>\n      <td>59.889100</td>\n      <td>10.853600</td>\n      <td>Mikkel Revs vei 2, 0688 Oslo</td>\n      <td>H0304</td>\n      <td>...</td>\n      <td>False</td>\n      <td>False</td>\n      <td>False</td>\n      <td>False</td>\n      <td>688</td>\n      <td>1</td>\n      <td>2950000.0</td>\n      <td>13</td>\n      <td>59.888390</td>\n      <td>10.835148</td>\n    </tr>\n    <tr>\n      <th>181108</th>\n      <td>2018-10-24</td>\n      <td>2018/9</td>\n      <td>2019-02-01</td>\n      <td>2018-09-07</td>\n      <td>3500000</td>\n      <td>3600000.0</td>\n      <td>59.918000</td>\n      <td>10.693600</td>\n      <td>Olav Kyrres gate 7 A, 0273 Oslo</td>\n      <td>H0301</td>\n      <td>...</td>\n      <td>False</td>\n      <td>False</td>\n      <td>False</td>\n      <td>False</td>\n      <td>273</td>\n      <td>0</td>\n      <td>3500000.0</td>\n      <td>5</td>\n      <td>59.915947</td>\n      <td>10.705421</td>\n    </tr>\n    <tr>\n      <th>181247</th>\n      <td>2022-01-06</td>\n      <td>2021/10</td>\n      <td>2021-10-22</td>\n      <td>2021-10-19</td>\n      <td>3350000</td>\n      <td>3300000.0</td>\n      <td>59.917000</td>\n      <td>10.709900</td>\n      <td>Bygdøy allé 35, 0262 Oslo</td>\n      <td>H0207</td>\n      <td>...</td>\n      <td>False</td>\n      <td>False</td>\n      <td>False</td>\n      <td>False</td>\n      <td>262</td>\n      <td>0</td>\n      <td>3376040.0</td>\n      <td>5</td>\n      <td>59.915947</td>\n      <td>10.705421</td>\n    </tr>\n  </tbody>\n</table>\n<p>2937 rows × 58 columns</p>\n</div>"
     },
     "metadata": {}
    }
   ],
   "execution_count": null
  },
  {
   "cell_type": "markdown",
   "source": "Den neste variabelen vi skal se på er heis-variabelen. Som vi kan se fra listen over variabler, så er det også en fastelitetsvariabel på heis (F_Heis). Disse henger tett sammen, men for rundt 5 000 datapunkter så er det ulik verdi. Vi velger derfor å fjerne \"F_Heis\", og gå videre med \"elevator\" variabelen.\n\nFor \"elevator\" så er verdiene kodet som J/N, altså ikke numerisk. Dette vil vi transformere til 1/0. Videre kan vi også observere at det er 783 nullverdier. Disse vil vi omkode til 0.\n\nDet er også viktig å huske på at heis-variabelen bare er relevant i leiligheter, da de fleste eneboliger ikke har bruk for heis.",
   "metadata": {
    "cell_id": "327ff960-8ce8-4c61-b9b0-22fc180657cc",
    "tags": [],
    "deepnote_cell_type": "markdown"
   },
   "outputs": [],
   "execution_count": null
  },
  {
   "cell_type": "code",
   "metadata": {
    "cell_id": "298cd18e-b4fa-4d5c-9b2d-d3f071a4647b",
    "tags": [],
    "deepnote_to_be_reexecuted": false,
    "source_hash": "786fb5dc",
    "execution_start": 1644497806971,
    "execution_millis": 118,
    "deepnote_output_heights": [
     59.578125,
     250
    ],
    "deepnote_cell_type": "code"
   },
   "source": "#Printer fordelingen på de to heis-variablene\nprint(df['elevator'].value_counts())\nprint(df['F_Heis'].value_counts())\n\n#Fjerner F_Heis\ndf.drop('F_Heis',inplace=True,axis=1)\n\n#Gjør om til numerisk binær variabel (1/0)\ndf['elevator'].replace({'J':1,'N':0}, inplace=True)",
   "outputs": [
    {
     "name": "stdout",
     "text": "N    123659\nJ     55613\nName: elevator, dtype: int64\n1.0    50988\nName: F_Heis, dtype: int64\n",
     "output_type": "stream"
    }
   ],
   "execution_count": null
  },
  {
   "cell_type": "markdown",
   "metadata": {
    "cell_id": "1419f37d-ad24-44a9-9ca5-4714c8df57fb",
    "tags": [],
    "deepnote_to_be_reexecuted": false,
    "source_hash": "b623e53d",
    "execution_start": 1644497854487,
    "execution_millis": 3,
    "deepnote_cell_type": "markdown"
   },
   "source": "Videre kan vi nå se på variabelen etasjer ('floor'). D",
   "execution_count": 25
  },
  {
   "cell_type": "code",
   "metadata": {
    "cell_id": "0402c67b-e32f-4c23-966e-75097a1e5039",
    "tags": [],
    "deepnote_to_be_reexecuted": false,
    "source_hash": "b623e53d",
    "execution_start": 1644497855634,
    "execution_millis": 1,
    "deepnote_cell_type": "code"
   },
   "source": "",
   "outputs": [],
   "execution_count": null
  },
  {
   "cell_type": "code",
   "metadata": {
    "cell_id": "cfaf8b49-a96d-4561-aa83-61ff933c5f90",
    "tags": [],
    "deepnote_to_be_reexecuted": true,
    "source_hash": "b623e53d",
    "execution_start": 1644497649452,
    "execution_millis": 297250,
    "deepnote_cell_type": "code"
   },
   "source": "",
   "outputs": [],
   "execution_count": null
  },
  {
   "cell_type": "code",
   "metadata": {
    "cell_id": "19bcef06-b361-420c-8122-12307e1efb7a",
    "tags": [],
    "deepnote_to_be_reexecuted": true,
    "source_hash": "b4b71d30",
    "execution_start": 1644497649510,
    "execution_millis": 21,
    "deepnote_table_state": {
     "pageSize": 10,
     "pageIndex": 0,
     "filters": [],
     "sortBy": [
      {
       "id": "lng",
       "type": "desc"
      }
     ]
    },
    "deepnote_table_loading": false,
    "deepnote_output_heights": [
     611
    ],
    "deepnote_cell_type": "code"
   },
   "source": "# Sjekker null-verdier\ndf.isnull().sum()",
   "outputs": [
    {
     "output_type": "execute_result",
     "execution_count": 25,
     "data": {
      "text/plain": "documentDate                        0\npicturedate                       248\nlastchanged                         0\nadcreated                           0\nprice                               0\nlistprice                           0\nlat                                 0\nlng                                 0\naddress                             0\napartmentnumber                   811\napartmenttype                     783\nconveyancetype                      0\nfinncode                            0\nBRA                                 0\nPROM                                0\nbuildyear                           0\nmatrikkel                           0\nbedrooms                            0\nbathrooms                           0\nWC                                  0\nelevator                            0\nfloor                           37631\nhousingtype                         0\ncommondebt                      58120\ncommoncosts                     15608\nF_Aircondition                 176996\nF_Alarm                        174006\nF_BalkongTerrasse               60381\nF_Barnevennlig                  71740\nF_Bredbåndstilknytning          79437\nF_Fellesvaskeri                147145\nF_GarasjeP-plass               108147\nF_Ingen gjenboere              131980\nF_Lademulighet                 172299\nF_Livsløpsstandard             175342\nF_Moderne                      135320\nF_Offentlig vannkloakk          97287\nF_Parkett                       82332\nF_PeisIldsted                  127185\nF_Rolig                         76228\nF_Sentralt                      80903\nF_Utsikt                       119071\nF_Vaktmester-vektertjeneste    116299\nF_Bademulighet                 171681\nF_Fiskemulighet                177371\nF_Turterreng                    99488\nadtitle                             0\nN_modernisering                     0\nN_oppussing                         0\nN_regulert                          0\nN_garasjemulighet                   0\npostcode                            0\nParking                             0\nprice_inc_debt                      0\narea_id                             0\nBydel_lat                           0\nBydel_lng                           0\ndtype: int64"
     },
     "metadata": {}
    }
   ],
   "execution_count": null
  },
  {
   "cell_type": "code",
   "metadata": {
    "cell_id": "d806a599-d95d-4921-9245-76fd484806fb",
    "tags": [],
    "deepnote_to_be_reexecuted": true,
    "source_hash": "b623e53d",
    "execution_start": 1644497649532,
    "execution_millis": 3,
    "deepnote_cell_type": "code"
   },
   "source": "",
   "outputs": [],
   "execution_count": null
  },
  {
   "cell_type": "code",
   "metadata": {
    "cell_id": "0848350c-fe03-4fec-8001-5e81f0a208ed",
    "tags": [],
    "deepnote_to_be_reexecuted": true,
    "source_hash": "b623e53d",
    "execution_start": 1644497649538,
    "execution_millis": 2,
    "deepnote_cell_type": "code"
   },
   "source": "",
   "outputs": [],
   "execution_count": null
  },
  {
   "cell_type": "code",
   "metadata": {
    "cell_id": "f1e81e4a-ed08-4873-8ca6-69d07f581432",
    "tags": [],
    "deepnote_to_be_reexecuted": true,
    "source_hash": "b623e53d",
    "execution_start": 1644497649542,
    "execution_millis": 2,
    "deepnote_cell_type": "code"
   },
   "source": "",
   "outputs": [],
   "execution_count": null
  },
  {
   "cell_type": "code",
   "metadata": {
    "cell_id": "64feaedd-de48-4833-8a61-11cea4f5a364",
    "tags": [],
    "deepnote_to_be_reexecuted": true,
    "source_hash": "b623e53d",
    "execution_start": 1644497649546,
    "execution_millis": 1,
    "deepnote_cell_type": "code"
   },
   "source": "",
   "outputs": [],
   "execution_count": null
  },
  {
   "cell_type": "code",
   "metadata": {
    "cell_id": "001153d3-d400-413b-a6cb-1dd82018c03c",
    "tags": [],
    "deepnote_to_be_reexecuted": true,
    "source_hash": "b623e53d",
    "execution_start": 1644497649549,
    "execution_millis": 2,
    "deepnote_cell_type": "code"
   },
   "source": "",
   "outputs": [],
   "execution_count": null
  },
  {
   "cell_type": "code",
   "metadata": {
    "cell_id": "9e542c7c-a536-4bdf-883b-c8a555703489",
    "tags": [],
    "deepnote_to_be_reexecuted": true,
    "source_hash": "904b5d71",
    "execution_start": 1644497649554,
    "execution_millis": 10,
    "deepnote_cell_type": "code"
   },
   "source": "print(df.loc[df['floor']>=40, ['finncode','price']])",
   "outputs": [
    {
     "name": "stdout",
     "text": "         finncode    price\n58875   105504167  3950000\n135329   14251816  2110000\n",
     "output_type": "stream"
    }
   ],
   "execution_count": null
  },
  {
   "cell_type": "code",
   "metadata": {
    "cell_id": "ca00411f-266d-4cce-a6e3-5d0b61971801",
    "tags": [],
    "deepnote_to_be_reexecuted": true,
    "source_hash": "4e1e1e7e",
    "execution_start": 1644497649585,
    "execution_millis": 151,
    "deepnote_output_heights": [
     611
    ],
    "deepnote_cell_type": "code"
   },
   "source": "df_leilighet = df.loc[df['housingtype']=='Leilighet']\ndf_leilighet['housingtype'].value_counts()\ndf_leilighet.isnull().sum()",
   "outputs": [
    {
     "output_type": "execute_result",
     "execution_count": 27,
     "data": {
      "text/plain": "documentDate                        0\npicturedate                       212\nlastchanged                         0\nadcreated                           0\nprice                               0\nlistprice                           0\nlat                                 0\nlng                                 0\naddress                             0\napartmentnumber                   795\napartmenttype                     775\nconveyancetype                      0\nfinncode                            0\nBRA                                 0\nPROM                                0\nbuildyear                           0\nmatrikkel                           0\nbedrooms                            0\nbathrooms                           0\nWC                                  0\nelevator                            0\nfloor                           16825\nhousingtype                         0\ncommondebt                      38969\ncommoncosts                       823\nF_Aircondition                 154334\nF_Alarm                        153650\nF_BalkongTerrasse               53468\nF_Barnevennlig                  66192\nF_Bredbåndstilknytning          65922\nF_Fellesvaskeri                124203\nF_GarasjeP-plass               101643\nF_Ingen gjenboere              113594\nF_Lademulighet                 150305\nF_Livsløpsstandard             152362\nF_Moderne                      116492\nF_Offentlig vannkloakk          84187\nF_Parkett                       72834\nF_PeisIldsted                  119141\nF_Rolig                         67490\nF_Sentralt                      67410\nF_Utsikt                       103211\nF_Vaktmester-vektertjeneste     94470\nF_Bademulighet                 149920\nF_Fiskemulighet                154722\nF_Turterreng                    88492\nadtitle                             0\nN_modernisering                     0\nN_oppussing                         0\nN_regulert                          0\nN_garasjemulighet                   0\npostcode                            0\nParking                             0\nprice_inc_debt                      0\narea_id                             0\nBydel_lat                           0\nBydel_lng                           0\ndtype: int64"
     },
     "metadata": {}
    }
   ],
   "execution_count": null
  },
  {
   "cell_type": "code",
   "metadata": {
    "cell_id": "7bbb9bd0-0888-463c-9bbf-e04dc0350b37",
    "tags": [],
    "deepnote_to_be_reexecuted": true,
    "source_hash": "b623e53d",
    "execution_start": 1644497649733,
    "execution_millis": 0,
    "deepnote_cell_type": "code"
   },
   "source": "",
   "outputs": [],
   "execution_count": null
  },
  {
   "cell_type": "code",
   "metadata": {
    "cell_id": "4b0c6262-f3ae-4932-84bd-c53eb9a28800",
    "tags": [],
    "deepnote_to_be_reexecuted": true,
    "source_hash": "b623e53d",
    "execution_start": 1644497649733,
    "execution_millis": 1,
    "deepnote_cell_type": "code"
   },
   "source": "",
   "outputs": [],
   "execution_count": null
  },
  {
   "cell_type": "code",
   "metadata": {
    "cell_id": "923525f2-d022-4c8f-9894-e18f2a360f36",
    "tags": [],
    "deepnote_to_be_reexecuted": true,
    "source_hash": "b623e53d",
    "execution_start": 1644497649734,
    "execution_millis": 0,
    "deepnote_cell_type": "code"
   },
   "source": "",
   "outputs": [],
   "execution_count": null
  },
  {
   "cell_type": "code",
   "metadata": {
    "cell_id": "9f2cbb7b-a9cb-452b-8704-a1ad5b77a36c",
    "tags": [],
    "deepnote_to_be_reexecuted": true,
    "source_hash": "b623e53d",
    "execution_start": 1644497649738,
    "execution_millis": 0,
    "deepnote_cell_type": "code"
   },
   "source": "",
   "outputs": [],
   "execution_count": null
  },
  {
   "cell_type": "code",
   "metadata": {
    "cell_id": "7ce03f6c-9a73-436e-81cf-4f9f9d088793",
    "tags": [],
    "deepnote_to_be_reexecuted": true,
    "source_hash": "b623e53d",
    "execution_start": 1644497649741,
    "execution_millis": 297246,
    "deepnote_cell_type": "code"
   },
   "source": "",
   "outputs": [],
   "execution_count": null
  },
  {
   "cell_type": "code",
   "metadata": {
    "cell_id": "057c54bf-afdb-4f22-a861-8ea7a239c699",
    "tags": [],
    "deepnote_to_be_reexecuted": true,
    "source_hash": "b623e53d",
    "execution_start": 1644497649751,
    "execution_millis": 297254,
    "deepnote_cell_type": "code"
   },
   "source": "",
   "outputs": [],
   "execution_count": null
  },
  {
   "cell_type": "code",
   "metadata": {
    "cell_id": "2c47aa90-93ac-4724-bc5b-46df0133324c",
    "tags": [],
    "deepnote_to_be_reexecuted": true,
    "source_hash": "b623e53d",
    "execution_start": 1644497649752,
    "execution_millis": 297254,
    "deepnote_cell_type": "code"
   },
   "source": "",
   "outputs": [],
   "execution_count": null
  },
  {
   "cell_type": "code",
   "metadata": {
    "cell_id": "7bdc9505-db3f-4d1f-9de9-d3bf5dde0b08",
    "tags": [],
    "deepnote_to_be_reexecuted": true,
    "source_hash": "b623e53d",
    "execution_start": 1644497649753,
    "execution_millis": 297253,
    "deepnote_cell_type": "code"
   },
   "source": "",
   "outputs": [],
   "execution_count": null
  },
  {
   "cell_type": "code",
   "metadata": {
    "cell_id": "1fbb6f9f-a024-41d2-beb2-8e96ea15aedb",
    "tags": [],
    "deepnote_to_be_reexecuted": true,
    "source_hash": "b623e53d",
    "execution_start": 1644497649757,
    "execution_millis": 297249,
    "deepnote_cell_type": "code"
   },
   "source": "",
   "outputs": [],
   "execution_count": null
  },
  {
   "cell_type": "code",
   "metadata": {
    "cell_id": "1cfbdc41-07fc-48e0-8fc9-746d337d3d57",
    "tags": [],
    "deepnote_to_be_reexecuted": true,
    "source_hash": "b623e53d",
    "execution_start": 1644497649758,
    "execution_millis": 297209,
    "deepnote_cell_type": "code"
   },
   "source": "",
   "outputs": [],
   "execution_count": null
  },
  {
   "cell_type": "code",
   "metadata": {
    "cell_id": "eb5cd913-d9cf-47e7-a0c1-68764884e49e",
    "tags": [],
    "deepnote_to_be_reexecuted": true,
    "source_hash": "b623e53d",
    "execution_start": 1644497649764,
    "execution_millis": 297215,
    "deepnote_cell_type": "code"
   },
   "source": "",
   "outputs": [],
   "execution_count": null
  },
  {
   "cell_type": "code",
   "metadata": {
    "cell_id": "aef35122-7441-49b6-81bb-db1eca58d92a",
    "tags": [],
    "deepnote_to_be_reexecuted": true,
    "source_hash": "b623e53d",
    "execution_start": 1644497649768,
    "execution_millis": 297217,
    "deepnote_cell_type": "code"
   },
   "source": "",
   "outputs": [],
   "execution_count": null
  },
  {
   "cell_type": "code",
   "metadata": {
    "cell_id": "00005-b0dfb173-5623-4019-9fb9-364cc15ea865",
    "deepnote_to_be_reexecuted": true,
    "source_hash": "34cc42e7",
    "execution_start": 1644497649769,
    "execution_millis": 36,
    "deepnote_cell_type": "code"
   },
   "source": "df_latlng = df.copy()",
   "outputs": [],
   "execution_count": null
  },
  {
   "cell_type": "code",
   "metadata": {
    "cell_id": "00006-aa82cb3e-b989-42d7-8193-b2bf11a89e22",
    "deepnote_to_be_reexecuted": true,
    "source_hash": "b49592ad",
    "execution_start": 1644497649849,
    "execution_millis": 71,
    "deepnote_cell_type": "code"
   },
   "source": "df_latlng.drop(df[df[\"lat\"] < 59.8].index, inplace=True)\ndf_latlng.drop(df[df[\"lat\"] > 59.98].index, inplace=True)",
   "outputs": [],
   "execution_count": null
  },
  {
   "cell_type": "code",
   "metadata": {
    "cell_id": "00007-8805fa5c-b18a-4cf6-90d9-aed5cccef894",
    "deepnote_output_heights": [
     250
    ],
    "deepnote_to_be_reexecuted": true,
    "source_hash": "32487fdf",
    "execution_start": 1644497649960,
    "execution_millis": 256,
    "deepnote_cell_type": "code"
   },
   "source": "plt.scatter(df_latlng[\"lng\"],df_latlng[\"lat\"], s=1)\nplt.show()",
   "outputs": [
    {
     "data": {
      "text/plain": "<Figure size 432x288 with 1 Axes>",
      "image/png": "[encoded data removed]"
     },
     "metadata": {
      "needs_background": "light",
      "image/png": {
       "width": 391,
       "height": 248
      }
     },
     "output_type": "display_data"
    }
   ],
   "execution_count": null
  },
  {
   "cell_type": "code",
   "metadata": {
    "cell_id": "00008-0ce19e62-da01-4d36-ad2c-173c0a334360",
    "deepnote_output_heights": [
     431
    ],
    "deepnote_to_be_reexecuted": true,
    "source_hash": "933dcef6",
    "execution_start": 1644497650210,
    "execution_millis": 4223,
    "deepnote_cell_type": "code"
   },
   "source": "df_latlng.plot(kind = \"scatter\", \n                x = \"lng\", \n                y = \"lat\", \n                alpha = 0.4,                        # blending value, between 0 (transparent) and 1 (opaque).\n                s = df_latlng[\"price\"]/1000000,   # The marker size according to population\n                label = \"Størrelse\",               # The label of the timeseries used in legend  \n                figsize = (10,7),                   # Figure size\n                #c = \"price\",           # color dependent on feature house value\n                cmap = plt.get_cmap(\"jet\"),         # color map in case that c is an array of floats\n                colorbar = True,\n                sharex = False)                     #  each subplot x- or y-axis will be independent  \n\nplt.legend()\nplt.show()\n\n\n# Try to put an error into cmap then you get a suggestion of all the possibilities\n",
   "outputs": [
    {
     "data": {
      "text/plain": "<Figure size 720x504 with 2 Axes>",
      "image/png": "[encoded data removed]"
     },
     "metadata": {
      "needs_background": "light",
      "image/png": {
       "width": 586,
       "height": 429
      }
     },
     "output_type": "display_data"
    }
   ],
   "execution_count": null
  },
  {
   "cell_type": "code",
   "metadata": {
    "cell_id": "00009-86671a91-8f3b-4d70-969e-9418507566af",
    "deepnote_output_heights": [
     571
    ],
    "deepnote_to_be_reexecuted": true,
    "source_hash": "dbfd81cf",
    "execution_start": 1644497654437,
    "execution_millis": 5422,
    "deepnote_cell_type": "code"
   },
   "source": "oslo_img=mpimg.imread('oslo.png')\n\nax = df_latlng.plot(kind = \"scatter\", \n                x = \"lng\", \n                y = \"lat\", \n                alpha = 0.4,                        # blending value, between 0 (transparent) and 1 (opaque).\n                s = df_latlng[\"price\"]/1000000,   # The marker size according to population\n                label = \"Størrelse\",               # The label of the timeseries used in legend  \n                figsize = (10,10),                   # Figure size\n                #c = \"price\",           # color dependent on feature house value\n                cmap = plt.get_cmap(\"jet\"),         # color map in case that c is an array of floats\n                colorbar = True,\n                sharex = False)  \n\nplt.imshow(oslo_img,\n           extent=[10.62, 10.95, 59.81, 59.988],\n           alpha=0.5,\n           #cmap=plt.get_cmap(\"jet\")\n           )\nplt.ylabel(\"Latitude\", fontsize=14)\nplt.xlabel(\"Longitude\", fontsize=14)\n\nprices = df_latlng[\"price\"]\ntick_values = np.linspace(prices.min(), prices.max(), 11)\ncbar = plt.colorbar(ticks=tick_values/prices.max())\ncbar.ax.set_yticklabels([\"$%dk\"%(round(v/1000)) for v in tick_values], fontsize=14)\n#cbar.set_label('Median House Value', fontsize=16)\n\nplt.legend(fontsize=10)\n\nplt.show()",
   "outputs": [
    {
     "data": {
      "text/plain": "<Figure size 720x720 with 3 Axes>",
      "image/png": "[encoded data removed]"
     },
     "metadata": {
      "needs_background": "light",
      "image/png": {
       "width": 592,
       "height": 569
      }
     },
     "output_type": "display_data"
    }
   ],
   "execution_count": null
  },
  {
   "cell_type": "code",
   "metadata": {
    "cell_id": "00010-2b11b469-4cf3-4e02-a456-8d2f51e8cae9",
    "deepnote_to_be_reexecuted": true,
    "source_hash": "b623e53d",
    "execution_start": 1644497659860,
    "execution_millis": 1,
    "deepnote_cell_type": "code"
   },
   "source": "",
   "outputs": [],
   "execution_count": null
  },
  {
   "cell_type": "code",
   "metadata": {
    "cell_id": "00011-5a5685ce-96e8-4d77-9810-4a3b40d440e3",
    "deepnote_output_heights": [
     1
    ],
    "deepnote_to_be_reexecuted": true,
    "source_hash": "c085b6ba",
    "execution_start": 1644497660032,
    "execution_millis": 215,
    "deepnote_cell_type": "code"
   },
   "source": "df.head()",
   "outputs": [
    {
     "output_type": "execute_result",
     "execution_count": 33,
     "data": {
      "application/vnd.deepnote.dataframe.v3+json": {
       "column_count": 57,
       "row_count": 5,
       "columns": [
        {
         "name": "documentDate",
         "dtype": "object",
         "stats": {
          "unique_count": 5,
          "nan_count": 0,
          "categories": [
           {
            "name": "2012-10-24",
            "count": 1
           },
           {
            "name": "2009-11-12",
            "count": 1
           },
           {
            "name": "3 others",
            "count": 3
           }
          ]
         }
        },
        {
         "name": "picturedate",
         "dtype": "object",
         "stats": {
          "unique_count": 5,
          "nan_count": 0,
          "categories": [
           {
            "name": "2012/6",
            "count": 1
           },
           {
            "name": "4/186",
            "count": 1
           },
           {
            "name": "3 others",
            "count": 3
           }
          ]
         }
        },
        {
         "name": "lastchanged",
         "dtype": "object",
         "stats": {
          "unique_count": 5,
          "nan_count": 0,
          "categories": [
           {
            "name": "2012-06-15",
            "count": 1
           },
           {
            "name": "2009-09-05",
            "count": 1
           },
           {
            "name": "3 others",
            "count": 3
           }
          ]
         }
        },
        {
         "name": "adcreated",
         "dtype": "object",
         "stats": {
          "unique_count": 5,
          "nan_count": 0,
          "categories": [
           {
            "name": "2012-06-01",
            "count": 1
           },
           {
            "name": "2009-08-24",
            "count": 1
           },
           {
            "name": "3 others",
            "count": 3
           }
          ]
         }
        },
        {
         "name": "price",
         "dtype": "int64",
         "stats": {
          "unique_count": 5,
          "nan_count": 0,
          "min": "1660000",
          "max": "9900000",
          "histogram": [
           {
            "bin_start": 1660000,
            "bin_end": 2484000,
            "count": 1
           },
           {
            "bin_start": 2484000,
            "bin_end": 3308000,
            "count": 0
           },
           {
            "bin_start": 3308000,
            "bin_end": 4132000,
            "count": 1
           },
           {
            "bin_start": 4132000,
            "bin_end": 4956000,
            "count": 0
           },
           {
            "bin_start": 4956000,
            "bin_end": 5780000,
            "count": 2
           },
           {
            "bin_start": 5780000,
            "bin_end": 6604000,
            "count": 0
           },
           {
            "bin_start": 6604000,
            "bin_end": 7428000,
            "count": 0
           },
           {
            "bin_start": 7428000,
            "bin_end": 8252000,
            "count": 0
           },
           {
            "bin_start": 8252000,
            "bin_end": 9076000,
            "count": 0
           },
           {
            "bin_start": 9076000,
            "bin_end": 9900000,
            "count": 1
           }
          ]
         }
        },
        {
         "name": "listprice",
         "dtype": "float64",
         "stats": {
          "unique_count": 5,
          "nan_count": 0,
          "min": "1680000.0",
          "max": "8750000.0",
          "histogram": [
           {
            "bin_start": 1680000,
            "bin_end": 2387000,
            "count": 1
           },
           {
            "bin_start": 2387000,
            "bin_end": 3094000,
            "count": 0
           },
           {
            "bin_start": 3094000,
            "bin_end": 3801000,
            "count": 1
           },
           {
            "bin_start": 3801000,
            "bin_end": 4508000,
            "count": 0
           },
           {
            "bin_start": 4508000,
            "bin_end": 5215000,
            "count": 1
           },
           {
            "bin_start": 5215000,
            "bin_end": 5922000,
            "count": 1
           },
           {
            "bin_start": 5922000,
            "bin_end": 6629000,
            "count": 0
           },
           {
            "bin_start": 6629000,
            "bin_end": 7336000,
            "count": 0
           },
           {
            "bin_start": 7336000,
            "bin_end": 8043000,
            "count": 0
           },
           {
            "bin_start": 8043000,
            "bin_end": 8750000,
            "count": 1
           }
          ]
         }
        },
        {
         "name": "lat",
         "dtype": "float64",
         "stats": {
          "unique_count": 5,
          "nan_count": 0,
          "min": "59.879",
          "max": "59.944653",
          "histogram": [
           {
            "bin_start": 59.879,
            "bin_end": 59.885565299999996,
            "count": 1
           },
           {
            "bin_start": 59.885565299999996,
            "bin_end": 59.8921306,
            "count": 1
           },
           {
            "bin_start": 59.8921306,
            "bin_end": 59.8986959,
            "count": 0
           },
           {
            "bin_start": 59.8986959,
            "bin_end": 59.9052612,
            "count": 0
           },
           {
            "bin_start": 59.9052612,
            "bin_end": 59.911826500000004,
            "count": 0
           },
           {
            "bin_start": 59.911826500000004,
            "bin_end": 59.9183918,
            "count": 1
           },
           {
            "bin_start": 59.9183918,
            "bin_end": 59.9249571,
            "count": 1
           },
           {
            "bin_start": 59.9249571,
            "bin_end": 59.9315224,
            "count": 0
           },
           {
            "bin_start": 59.9315224,
            "bin_end": 59.938087700000004,
            "count": 0
           },
           {
            "bin_start": 59.938087700000004,
            "bin_end": 59.944653,
            "count": 1
           }
          ]
         }
        },
        {
         "name": "lng",
         "dtype": "float64",
         "stats": {
          "unique_count": 5,
          "nan_count": 0,
          "min": "10.6479",
          "max": "10.888134",
          "histogram": [
           {
            "bin_start": 10.6479,
            "bin_end": 10.6719234,
            "count": 1
           },
           {
            "bin_start": 10.6719234,
            "bin_end": 10.6959468,
            "count": 0
           },
           {
            "bin_start": 10.6959468,
            "bin_end": 10.7199702,
            "count": 0
           },
           {
            "bin_start": 10.7199702,
            "bin_end": 10.7439936,
            "count": 0
           },
           {
            "bin_start": 10.7439936,
            "bin_end": 10.768017,
            "count": 0
           },
           {
            "bin_start": 10.768017,
            "bin_end": 10.792040400000001,
            "count": 1
           },
           {
            "bin_start": 10.792040400000001,
            "bin_end": 10.8160638,
            "count": 2
           },
           {
            "bin_start": 10.8160638,
            "bin_end": 10.840087200000001,
            "count": 0
           },
           {
            "bin_start": 10.840087200000001,
            "bin_end": 10.8641106,
            "count": 0
           },
           {
            "bin_start": 10.8641106,
            "bin_end": 10.888134,
            "count": 1
           }
          ]
         }
        },
        {
         "name": "address",
         "dtype": "object",
         "stats": {
          "unique_count": 5,
          "nan_count": 0,
          "categories": [
           {
            "name": "Micheletveien 20, 1053 Oslo",
            "count": 1
           },
           {
            "name": "Libakkfaret 1 A, 1184 Oslo",
            "count": 1
           },
           {
            "name": "3 others",
            "count": 3
           }
          ]
         }
        },
        {
         "name": "apartmentnumber",
         "dtype": "object",
         "stats": {
          "unique_count": 5,
          "nan_count": 0,
          "categories": [
           {
            "name": "U0102",
            "count": 1
           },
           {
            "name": "H0302",
            "count": 1
           },
           {
            "name": "3 others",
            "count": 3
           }
          ]
         }
        },
        {
         "name": "apartmenttype",
         "dtype": "object",
         "stats": {
          "unique_count": 1,
          "nan_count": 0,
          "categories": [
           {
            "name": "B",
            "count": 5
           }
          ]
         }
        },
        {
         "name": "conveyancetype",
         "dtype": "object",
         "stats": {
          "unique_count": 1,
          "nan_count": 0,
          "categories": [
           {
            "name": "Fritt salg",
            "count": 5
           }
          ]
         }
        },
        {
         "name": "finncode",
         "dtype": "int64",
         "stats": {
          "unique_count": 5,
          "nan_count": 0,
          "min": "18679054",
          "max": "226217549",
          "histogram": [
           {
            "bin_start": 18679054,
            "bin_end": 39432903.5,
            "count": 2
           },
           {
            "bin_start": 39432903.5,
            "bin_end": 60186753,
            "count": 0
           },
           {
            "bin_start": 60186753,
            "bin_end": 80940602.5,
            "count": 0
           },
           {
            "bin_start": 80940602.5,
            "bin_end": 101694452,
            "count": 0
           },
           {
            "bin_start": 101694452,
            "bin_end": 122448301.5,
            "count": 0
           },
           {
            "bin_start": 122448301.5,
            "bin_end": 143202151,
            "count": 0
           },
           {
            "bin_start": 143202151,
            "bin_end": 163956000.5,
            "count": 0
           },
           {
            "bin_start": 163956000.5,
            "bin_end": 184709850,
            "count": 0
           },
           {
            "bin_start": 184709850,
            "bin_end": 205463699.5,
            "count": 2
           },
           {
            "bin_start": 205463699.5,
            "bin_end": 226217549,
            "count": 1
           }
          ]
         }
        },
        {
         "name": "BRA",
         "dtype": "float64",
         "stats": {
          "unique_count": 5,
          "nan_count": 0,
          "min": "55.0",
          "max": "249.0",
          "histogram": [
           {
            "bin_start": 55,
            "bin_end": 74.4,
            "count": 3
           },
           {
            "bin_start": 74.4,
            "bin_end": 93.8,
            "count": 0
           },
           {
            "bin_start": 93.8,
            "bin_end": 113.19999999999999,
            "count": 0
           },
           {
            "bin_start": 113.19999999999999,
            "bin_end": 132.6,
            "count": 1
           },
           {
            "bin_start": 132.6,
            "bin_end": 152,
            "count": 0
           },
           {
            "bin_start": 152,
            "bin_end": 171.39999999999998,
            "count": 0
           },
           {
            "bin_start": 171.39999999999998,
            "bin_end": 190.79999999999998,
            "count": 0
           },
           {
            "bin_start": 190.79999999999998,
            "bin_end": 210.2,
            "count": 0
           },
           {
            "bin_start": 210.2,
            "bin_end": 229.6,
            "count": 0
           },
           {
            "bin_start": 229.6,
            "bin_end": 249,
            "count": 1
           }
          ]
         }
        },
        {
         "name": "PROM",
         "dtype": "float64",
         "stats": {
          "unique_count": 5,
          "nan_count": 0,
          "min": "54.0",
          "max": "242.0",
          "histogram": [
           {
            "bin_start": 54,
            "bin_end": 72.8,
            "count": 3
           },
           {
            "bin_start": 72.8,
            "bin_end": 91.6,
            "count": 0
           },
           {
            "bin_start": 91.6,
            "bin_end": 110.4,
            "count": 0
           },
           {
            "bin_start": 110.4,
            "bin_end": 129.2,
            "count": 1
           },
           {
            "bin_start": 129.2,
            "bin_end": 148,
            "count": 0
           },
           {
            "bin_start": 148,
            "bin_end": 166.8,
            "count": 0
           },
           {
            "bin_start": 166.8,
            "bin_end": 185.6,
            "count": 0
           },
           {
            "bin_start": 185.6,
            "bin_end": 204.4,
            "count": 0
           },
           {
            "bin_start": 204.4,
            "bin_end": 223.20000000000002,
            "count": 0
           },
           {
            "bin_start": 223.20000000000002,
            "bin_end": 242,
            "count": 1
           }
          ]
         }
        },
        {
         "name": "buildyear",
         "dtype": "float64",
         "stats": {
          "unique_count": 4,
          "nan_count": 0,
          "min": "1954.0",
          "max": "1990.0",
          "histogram": [
           {
            "bin_start": 1954,
            "bin_end": 1957.6,
            "count": 1
           },
           {
            "bin_start": 1957.6,
            "bin_end": 1961.2,
            "count": 0
           },
           {
            "bin_start": 1961.2,
            "bin_end": 1964.8,
            "count": 0
           },
           {
            "bin_start": 1964.8,
            "bin_end": 1968.4,
            "count": 0
           },
           {
            "bin_start": 1968.4,
            "bin_end": 1972,
            "count": 1
           },
           {
            "bin_start": 1972,
            "bin_end": 1975.6,
            "count": 0
           },
           {
            "bin_start": 1975.6,
            "bin_end": 1979.2,
            "count": 2
           },
           {
            "bin_start": 1979.2,
            "bin_end": 1982.8,
            "count": 0
           },
           {
            "bin_start": 1982.8,
            "bin_end": 1986.4,
            "count": 0
           },
           {
            "bin_start": 1986.4,
            "bin_end": 1990,
            "count": 1
           }
          ]
         }
        },
        {
         "name": "matrikkel",
         "dtype": "object",
         "stats": {
          "unique_count": 5,
          "nan_count": 0,
          "categories": [
           {
            "name": "301-105-334-0",
            "count": 1
           },
           {
            "name": "301-149-433-102",
            "count": 1
           },
           {
            "name": "3 others",
            "count": 3
           }
          ]
         }
        },
        {
         "name": "bedrooms",
         "dtype": "float64",
         "stats": {
          "unique_count": 4,
          "nan_count": 0,
          "min": "1.0",
          "max": "5.0",
          "histogram": [
           {
            "bin_start": 1,
            "bin_end": 1.4,
            "count": 2
           },
           {
            "bin_start": 1.4,
            "bin_end": 1.8,
            "count": 0
           },
           {
            "bin_start": 1.8,
            "bin_end": 2.2,
            "count": 1
           },
           {
            "bin_start": 2.2,
            "bin_end": 2.6,
            "count": 0
           },
           {
            "bin_start": 2.6,
            "bin_end": 3,
            "count": 0
           },
           {
            "bin_start": 3,
            "bin_end": 3.4000000000000004,
            "count": 0
           },
           {
            "bin_start": 3.4000000000000004,
            "bin_end": 3.8000000000000003,
            "count": 0
           },
           {
            "bin_start": 3.8000000000000003,
            "bin_end": 4.2,
            "count": 1
           },
           {
            "bin_start": 4.2,
            "bin_end": 4.6,
            "count": 0
           },
           {
            "bin_start": 4.6,
            "bin_end": 5,
            "count": 1
           }
          ]
         }
        },
        {
         "name": "bathrooms",
         "dtype": "int64",
         "stats": {
          "unique_count": 1,
          "nan_count": 0,
          "min": "1",
          "max": "1",
          "histogram": [
           {
            "bin_start": 0.5,
            "bin_end": 0.6,
            "count": 0
           },
           {
            "bin_start": 0.6,
            "bin_end": 0.7,
            "count": 0
           },
           {
            "bin_start": 0.7,
            "bin_end": 0.8,
            "count": 0
           },
           {
            "bin_start": 0.8,
            "bin_end": 0.9,
            "count": 0
           },
           {
            "bin_start": 0.9,
            "bin_end": 1,
            "count": 0
           },
           {
            "bin_start": 1,
            "bin_end": 1.1,
            "count": 5
           },
           {
            "bin_start": 1.1,
            "bin_end": 1.2000000000000002,
            "count": 0
           },
           {
            "bin_start": 1.2000000000000002,
            "bin_end": 1.3,
            "count": 0
           },
           {
            "bin_start": 1.3,
            "bin_end": 1.4,
            "count": 0
           },
           {
            "bin_start": 1.4,
            "bin_end": 1.5,
            "count": 0
           }
          ]
         }
        },
        {
         "name": "WC",
         "dtype": "int64",
         "stats": {
          "unique_count": 2,
          "nan_count": 0,
          "min": "1",
          "max": "2",
          "histogram": [
           {
            "bin_start": 1,
            "bin_end": 1.1,
            "count": 4
           },
           {
            "bin_start": 1.1,
            "bin_end": 1.2,
            "count": 0
           },
           {
            "bin_start": 1.2,
            "bin_end": 1.3,
            "count": 0
           },
           {
            "bin_start": 1.3,
            "bin_end": 1.4,
            "count": 0
           },
           {
            "bin_start": 1.4,
            "bin_end": 1.5,
            "count": 0
           },
           {
            "bin_start": 1.5,
            "bin_end": 1.6,
            "count": 0
           },
           {
            "bin_start": 1.6,
            "bin_end": 1.7000000000000002,
            "count": 0
           },
           {
            "bin_start": 1.7000000000000002,
            "bin_end": 1.8,
            "count": 0
           },
           {
            "bin_start": 1.8,
            "bin_end": 1.9,
            "count": 0
           },
           {
            "bin_start": 1.9,
            "bin_end": 2,
            "count": 1
           }
          ]
         }
        },
        {
         "name": "elevator",
         "dtype": "int64",
         "stats": {
          "unique_count": 2,
          "nan_count": 0,
          "min": "0",
          "max": "1",
          "histogram": [
           {
            "bin_start": 0,
            "bin_end": 0.1,
            "count": 1
           },
           {
            "bin_start": 0.1,
            "bin_end": 0.2,
            "count": 0
           },
           {
            "bin_start": 0.2,
            "bin_end": 0.30000000000000004,
            "count": 0
           },
           {
            "bin_start": 0.30000000000000004,
            "bin_end": 0.4,
            "count": 0
           },
           {
            "bin_start": 0.4,
            "bin_end": 0.5,
            "count": 0
           },
           {
            "bin_start": 0.5,
            "bin_end": 0.6000000000000001,
            "count": 0
           },
           {
            "bin_start": 0.6000000000000001,
            "bin_end": 0.7000000000000001,
            "count": 0
           },
           {
            "bin_start": 0.7000000000000001,
            "bin_end": 0.8,
            "count": 0
           },
           {
            "bin_start": 0.8,
            "bin_end": 0.9,
            "count": 0
           },
           {
            "bin_start": 0.9,
            "bin_end": 1,
            "count": 4
           }
          ]
         }
        },
        {
         "name": "floor",
         "dtype": "float64",
         "stats": {
          "unique_count": 3,
          "nan_count": 1,
          "min": "1.0",
          "max": "6.0",
          "histogram": [
           {
            "bin_start": 1,
            "bin_end": 1.5,
            "count": 2
           },
           {
            "bin_start": 1.5,
            "bin_end": 2,
            "count": 0
           },
           {
            "bin_start": 2,
            "bin_end": 2.5,
            "count": 0
           },
           {
            "bin_start": 2.5,
            "bin_end": 3,
            "count": 0
           },
           {
            "bin_start": 3,
            "bin_end": 3.5,
            "count": 1
           },
           {
            "bin_start": 3.5,
            "bin_end": 4,
            "count": 0
           },
           {
            "bin_start": 4,
            "bin_end": 4.5,
            "count": 0
           },
           {
            "bin_start": 4.5,
            "bin_end": 5,
            "count": 0
           },
           {
            "bin_start": 5,
            "bin_end": 5.5,
            "count": 0
           },
           {
            "bin_start": 5.5,
            "bin_end": 6,
            "count": 1
           }
          ]
         }
        },
        {
         "name": "housingtype",
         "dtype": "object",
         "stats": {
          "unique_count": 2,
          "nan_count": 0,
          "categories": [
           {
            "name": "Leilighet",
            "count": 3
           },
           {
            "name": "Enebolig",
            "count": 2
           }
          ]
         }
        },
        {
         "name": "commondebt",
         "dtype": "float64",
         "stats": {
          "unique_count": 2,
          "nan_count": 3,
          "min": "18207.0",
          "max": "44838.0",
          "histogram": [
           {
            "bin_start": 18207,
            "bin_end": 20870.1,
            "count": 1
           },
           {
            "bin_start": 20870.1,
            "bin_end": 23533.2,
            "count": 0
           },
           {
            "bin_start": 23533.2,
            "bin_end": 26196.3,
            "count": 0
           },
           {
            "bin_start": 26196.3,
            "bin_end": 28859.4,
            "count": 0
           },
           {
            "bin_start": 28859.4,
            "bin_end": 31522.5,
            "count": 0
           },
           {
            "bin_start": 31522.5,
            "bin_end": 34185.6,
            "count": 0
           },
           {
            "bin_start": 34185.6,
            "bin_end": 36848.7,
            "count": 0
           },
           {
            "bin_start": 36848.7,
            "bin_end": 39511.8,
            "count": 0
           },
           {
            "bin_start": 39511.8,
            "bin_end": 42174.899999999994,
            "count": 0
           },
           {
            "bin_start": 42174.899999999994,
            "bin_end": 44838,
            "count": 1
           }
          ]
         }
        },
        {
         "name": "commoncosts",
         "dtype": "float64",
         "stats": {
          "unique_count": 3,
          "nan_count": 2,
          "min": "2866.0",
          "max": "3127.0",
          "histogram": [
           {
            "bin_start": 2866,
            "bin_end": 2892.1,
            "count": 1
           },
           {
            "bin_start": 2892.1,
            "bin_end": 2918.2,
            "count": 0
           },
           {
            "bin_start": 2918.2,
            "bin_end": 2944.3,
            "count": 0
           },
           {
            "bin_start": 2944.3,
            "bin_end": 2970.4,
            "count": 0
           },
           {
            "bin_start": 2970.4,
            "bin_end": 2996.5,
            "count": 0
           },
           {
            "bin_start": 2996.5,
            "bin_end": 3022.6,
            "count": 0
           },
           {
            "bin_start": 3022.6,
            "bin_end": 3048.7,
            "count": 0
           },
           {
            "bin_start": 3048.7,
            "bin_end": 3074.8,
            "count": 1
           },
           {
            "bin_start": 3074.8,
            "bin_end": 3100.9,
            "count": 0
           },
           {
            "bin_start": 3100.9,
            "bin_end": 3127,
            "count": 1
           }
          ]
         }
        },
        {
         "name": "F_Aircondition",
         "dtype": "float64",
         "stats": {
          "unique_count": 0,
          "nan_count": 5,
          "min": null,
          "max": null,
          "histogram": [
           {
            "bin_start": 0,
            "bin_end": 0.1,
            "count": 0
           },
           {
            "bin_start": 0.1,
            "bin_end": 0.2,
            "count": 0
           },
           {
            "bin_start": 0.2,
            "bin_end": 0.30000000000000004,
            "count": 0
           },
           {
            "bin_start": 0.30000000000000004,
            "bin_end": 0.4,
            "count": 0
           },
           {
            "bin_start": 0.4,
            "bin_end": 0.5,
            "count": 0
           },
           {
            "bin_start": 0.5,
            "bin_end": 0.6000000000000001,
            "count": 0
           },
           {
            "bin_start": 0.6000000000000001,
            "bin_end": 0.7000000000000001,
            "count": 0
           },
           {
            "bin_start": 0.7000000000000001,
            "bin_end": 0.8,
            "count": 0
           },
           {
            "bin_start": 0.8,
            "bin_end": 0.9,
            "count": 0
           },
           {
            "bin_start": 0.9,
            "bin_end": 1,
            "count": 0
           }
          ]
         }
        },
        {
         "name": "F_Alarm",
         "dtype": "float64",
         "stats": {
          "unique_count": 0,
          "nan_count": 5,
          "min": null,
          "max": null,
          "histogram": [
           {
            "bin_start": 0,
            "bin_end": 0.1,
            "count": 0
           },
           {
            "bin_start": 0.1,
            "bin_end": 0.2,
            "count": 0
           },
           {
            "bin_start": 0.2,
            "bin_end": 0.30000000000000004,
            "count": 0
           },
           {
            "bin_start": 0.30000000000000004,
            "bin_end": 0.4,
            "count": 0
           },
           {
            "bin_start": 0.4,
            "bin_end": 0.5,
            "count": 0
           },
           {
            "bin_start": 0.5,
            "bin_end": 0.6000000000000001,
            "count": 0
           },
           {
            "bin_start": 0.6000000000000001,
            "bin_end": 0.7000000000000001,
            "count": 0
           },
           {
            "bin_start": 0.7000000000000001,
            "bin_end": 0.8,
            "count": 0
           },
           {
            "bin_start": 0.8,
            "bin_end": 0.9,
            "count": 0
           },
           {
            "bin_start": 0.9,
            "bin_end": 1,
            "count": 0
           }
          ]
         }
        },
        {
         "name": "F_BalkongTerrasse",
         "dtype": "float64",
         "stats": {
          "unique_count": 1,
          "nan_count": 1,
          "min": "1.0",
          "max": "1.0",
          "histogram": [
           {
            "bin_start": 0.5,
            "bin_end": 0.6,
            "count": 0
           },
           {
            "bin_start": 0.6,
            "bin_end": 0.7,
            "count": 0
           },
           {
            "bin_start": 0.7,
            "bin_end": 0.8,
            "count": 0
           },
           {
            "bin_start": 0.8,
            "bin_end": 0.9,
            "count": 0
           },
           {
            "bin_start": 0.9,
            "bin_end": 1,
            "count": 0
           },
           {
            "bin_start": 1,
            "bin_end": 1.1,
            "count": 4
           },
           {
            "bin_start": 1.1,
            "bin_end": 1.2000000000000002,
            "count": 0
           },
           {
            "bin_start": 1.2000000000000002,
            "bin_end": 1.3,
            "count": 0
           },
           {
            "bin_start": 1.3,
            "bin_end": 1.4,
            "count": 0
           },
           {
            "bin_start": 1.4,
            "bin_end": 1.5,
            "count": 0
           }
          ]
         }
        },
        {
         "name": "F_Barnevennlig",
         "dtype": "float64",
         "stats": {
          "unique_count": 1,
          "nan_count": 1,
          "min": "1.0",
          "max": "1.0",
          "histogram": [
           {
            "bin_start": 0.5,
            "bin_end": 0.6,
            "count": 0
           },
           {
            "bin_start": 0.6,
            "bin_end": 0.7,
            "count": 0
           },
           {
            "bin_start": 0.7,
            "bin_end": 0.8,
            "count": 0
           },
           {
            "bin_start": 0.8,
            "bin_end": 0.9,
            "count": 0
           },
           {
            "bin_start": 0.9,
            "bin_end": 1,
            "count": 0
           },
           {
            "bin_start": 1,
            "bin_end": 1.1,
            "count": 4
           },
           {
            "bin_start": 1.1,
            "bin_end": 1.2000000000000002,
            "count": 0
           },
           {
            "bin_start": 1.2000000000000002,
            "bin_end": 1.3,
            "count": 0
           },
           {
            "bin_start": 1.3,
            "bin_end": 1.4,
            "count": 0
           },
           {
            "bin_start": 1.4,
            "bin_end": 1.5,
            "count": 0
           }
          ]
         }
        },
        {
         "name": "F_Bredbåndstilknytning",
         "dtype": "float64",
         "stats": {
          "unique_count": 1,
          "nan_count": 3,
          "min": "1.0",
          "max": "1.0",
          "histogram": [
           {
            "bin_start": 0.5,
            "bin_end": 0.6,
            "count": 0
           },
           {
            "bin_start": 0.6,
            "bin_end": 0.7,
            "count": 0
           },
           {
            "bin_start": 0.7,
            "bin_end": 0.8,
            "count": 0
           },
           {
            "bin_start": 0.8,
            "bin_end": 0.9,
            "count": 0
           },
           {
            "bin_start": 0.9,
            "bin_end": 1,
            "count": 0
           },
           {
            "bin_start": 1,
            "bin_end": 1.1,
            "count": 2
           },
           {
            "bin_start": 1.1,
            "bin_end": 1.2000000000000002,
            "count": 0
           },
           {
            "bin_start": 1.2000000000000002,
            "bin_end": 1.3,
            "count": 0
           },
           {
            "bin_start": 1.3,
            "bin_end": 1.4,
            "count": 0
           },
           {
            "bin_start": 1.4,
            "bin_end": 1.5,
            "count": 0
           }
          ]
         }
        },
        {
         "name": "F_Fellesvaskeri",
         "dtype": "float64",
         "stats": {
          "unique_count": 0,
          "nan_count": 5,
          "min": null,
          "max": null,
          "histogram": [
           {
            "bin_start": 0,
            "bin_end": 0.1,
            "count": 0
           },
           {
            "bin_start": 0.1,
            "bin_end": 0.2,
            "count": 0
           },
           {
            "bin_start": 0.2,
            "bin_end": 0.30000000000000004,
            "count": 0
           },
           {
            "bin_start": 0.30000000000000004,
            "bin_end": 0.4,
            "count": 0
           },
           {
            "bin_start": 0.4,
            "bin_end": 0.5,
            "count": 0
           },
           {
            "bin_start": 0.5,
            "bin_end": 0.6000000000000001,
            "count": 0
           },
           {
            "bin_start": 0.6000000000000001,
            "bin_end": 0.7000000000000001,
            "count": 0
           },
           {
            "bin_start": 0.7000000000000001,
            "bin_end": 0.8,
            "count": 0
           },
           {
            "bin_start": 0.8,
            "bin_end": 0.9,
            "count": 0
           },
           {
            "bin_start": 0.9,
            "bin_end": 1,
            "count": 0
           }
          ]
         }
        },
        {
         "name": "F_GarasjeP-plass",
         "dtype": "float64",
         "stats": {
          "unique_count": 1,
          "nan_count": 2,
          "min": "1.0",
          "max": "1.0",
          "histogram": [
           {
            "bin_start": 0.5,
            "bin_end": 0.6,
            "count": 0
           },
           {
            "bin_start": 0.6,
            "bin_end": 0.7,
            "count": 0
           },
           {
            "bin_start": 0.7,
            "bin_end": 0.8,
            "count": 0
           },
           {
            "bin_start": 0.8,
            "bin_end": 0.9,
            "count": 0
           },
           {
            "bin_start": 0.9,
            "bin_end": 1,
            "count": 0
           },
           {
            "bin_start": 1,
            "bin_end": 1.1,
            "count": 3
           },
           {
            "bin_start": 1.1,
            "bin_end": 1.2000000000000002,
            "count": 0
           },
           {
            "bin_start": 1.2000000000000002,
            "bin_end": 1.3,
            "count": 0
           },
           {
            "bin_start": 1.3,
            "bin_end": 1.4,
            "count": 0
           },
           {
            "bin_start": 1.4,
            "bin_end": 1.5,
            "count": 0
           }
          ]
         }
        },
        {
         "name": "F_Ingen gjenboere",
         "dtype": "float64",
         "stats": {
          "unique_count": 1,
          "nan_count": 2,
          "min": "1.0",
          "max": "1.0",
          "histogram": [
           {
            "bin_start": 0.5,
            "bin_end": 0.6,
            "count": 0
           },
           {
            "bin_start": 0.6,
            "bin_end": 0.7,
            "count": 0
           },
           {
            "bin_start": 0.7,
            "bin_end": 0.8,
            "count": 0
           },
           {
            "bin_start": 0.8,
            "bin_end": 0.9,
            "count": 0
           },
           {
            "bin_start": 0.9,
            "bin_end": 1,
            "count": 0
           },
           {
            "bin_start": 1,
            "bin_end": 1.1,
            "count": 3
           },
           {
            "bin_start": 1.1,
            "bin_end": 1.2000000000000002,
            "count": 0
           },
           {
            "bin_start": 1.2000000000000002,
            "bin_end": 1.3,
            "count": 0
           },
           {
            "bin_start": 1.3,
            "bin_end": 1.4,
            "count": 0
           },
           {
            "bin_start": 1.4,
            "bin_end": 1.5,
            "count": 0
           }
          ]
         }
        },
        {
         "name": "F_Lademulighet",
         "dtype": "float64",
         "stats": {
          "unique_count": 0,
          "nan_count": 5,
          "min": null,
          "max": null,
          "histogram": [
           {
            "bin_start": 0,
            "bin_end": 0.1,
            "count": 0
           },
           {
            "bin_start": 0.1,
            "bin_end": 0.2,
            "count": 0
           },
           {
            "bin_start": 0.2,
            "bin_end": 0.30000000000000004,
            "count": 0
           },
           {
            "bin_start": 0.30000000000000004,
            "bin_end": 0.4,
            "count": 0
           },
           {
            "bin_start": 0.4,
            "bin_end": 0.5,
            "count": 0
           },
           {
            "bin_start": 0.5,
            "bin_end": 0.6000000000000001,
            "count": 0
           },
           {
            "bin_start": 0.6000000000000001,
            "bin_end": 0.7000000000000001,
            "count": 0
           },
           {
            "bin_start": 0.7000000000000001,
            "bin_end": 0.8,
            "count": 0
           },
           {
            "bin_start": 0.8,
            "bin_end": 0.9,
            "count": 0
           },
           {
            "bin_start": 0.9,
            "bin_end": 1,
            "count": 0
           }
          ]
         }
        },
        {
         "name": "F_Livsløpsstandard",
         "dtype": "float64",
         "stats": {
          "unique_count": 0,
          "nan_count": 5,
          "min": null,
          "max": null,
          "histogram": [
           {
            "bin_start": 0,
            "bin_end": 0.1,
            "count": 0
           },
           {
            "bin_start": 0.1,
            "bin_end": 0.2,
            "count": 0
           },
           {
            "bin_start": 0.2,
            "bin_end": 0.30000000000000004,
            "count": 0
           },
           {
            "bin_start": 0.30000000000000004,
            "bin_end": 0.4,
            "count": 0
           },
           {
            "bin_start": 0.4,
            "bin_end": 0.5,
            "count": 0
           },
           {
            "bin_start": 0.5,
            "bin_end": 0.6000000000000001,
            "count": 0
           },
           {
            "bin_start": 0.6000000000000001,
            "bin_end": 0.7000000000000001,
            "count": 0
           },
           {
            "bin_start": 0.7000000000000001,
            "bin_end": 0.8,
            "count": 0
           },
           {
            "bin_start": 0.8,
            "bin_end": 0.9,
            "count": 0
           },
           {
            "bin_start": 0.9,
            "bin_end": 1,
            "count": 0
           }
          ]
         }
        },
        {
         "name": "F_Moderne",
         "dtype": "float64",
         "stats": {
          "unique_count": 1,
          "nan_count": 4,
          "min": "1.0",
          "max": "1.0",
          "histogram": [
           {
            "bin_start": 0.5,
            "bin_end": 0.6,
            "count": 0
           },
           {
            "bin_start": 0.6,
            "bin_end": 0.7,
            "count": 0
           },
           {
            "bin_start": 0.7,
            "bin_end": 0.8,
            "count": 0
           },
           {
            "bin_start": 0.8,
            "bin_end": 0.9,
            "count": 0
           },
           {
            "bin_start": 0.9,
            "bin_end": 1,
            "count": 0
           },
           {
            "bin_start": 1,
            "bin_end": 1.1,
            "count": 1
           },
           {
            "bin_start": 1.1,
            "bin_end": 1.2000000000000002,
            "count": 0
           },
           {
            "bin_start": 1.2000000000000002,
            "bin_end": 1.3,
            "count": 0
           },
           {
            "bin_start": 1.3,
            "bin_end": 1.4,
            "count": 0
           },
           {
            "bin_start": 1.4,
            "bin_end": 1.5,
            "count": 0
           }
          ]
         }
        },
        {
         "name": "F_Offentlig vannkloakk",
         "dtype": "float64",
         "stats": {
          "unique_count": 1,
          "nan_count": 2,
          "min": "1.0",
          "max": "1.0",
          "histogram": [
           {
            "bin_start": 0.5,
            "bin_end": 0.6,
            "count": 0
           },
           {
            "bin_start": 0.6,
            "bin_end": 0.7,
            "count": 0
           },
           {
            "bin_start": 0.7,
            "bin_end": 0.8,
            "count": 0
           },
           {
            "bin_start": 0.8,
            "bin_end": 0.9,
            "count": 0
           },
           {
            "bin_start": 0.9,
            "bin_end": 1,
            "count": 0
           },
           {
            "bin_start": 1,
            "bin_end": 1.1,
            "count": 3
           },
           {
            "bin_start": 1.1,
            "bin_end": 1.2000000000000002,
            "count": 0
           },
           {
            "bin_start": 1.2000000000000002,
            "bin_end": 1.3,
            "count": 0
           },
           {
            "bin_start": 1.3,
            "bin_end": 1.4,
            "count": 0
           },
           {
            "bin_start": 1.4,
            "bin_end": 1.5,
            "count": 0
           }
          ]
         }
        },
        {
         "name": "F_Parkett",
         "dtype": "float64",
         "stats": {
          "unique_count": 1,
          "nan_count": 3,
          "min": "1.0",
          "max": "1.0",
          "histogram": [
           {
            "bin_start": 0.5,
            "bin_end": 0.6,
            "count": 0
           },
           {
            "bin_start": 0.6,
            "bin_end": 0.7,
            "count": 0
           },
           {
            "bin_start": 0.7,
            "bin_end": 0.8,
            "count": 0
           },
           {
            "bin_start": 0.8,
            "bin_end": 0.9,
            "count": 0
           },
           {
            "bin_start": 0.9,
            "bin_end": 1,
            "count": 0
           },
           {
            "bin_start": 1,
            "bin_end": 1.1,
            "count": 2
           },
           {
            "bin_start": 1.1,
            "bin_end": 1.2000000000000002,
            "count": 0
           },
           {
            "bin_start": 1.2000000000000002,
            "bin_end": 1.3,
            "count": 0
           },
           {
            "bin_start": 1.3,
            "bin_end": 1.4,
            "count": 0
           },
           {
            "bin_start": 1.4,
            "bin_end": 1.5,
            "count": 0
           }
          ]
         }
        },
        {
         "name": "F_PeisIldsted",
         "dtype": "float64",
         "stats": {
          "unique_count": 1,
          "nan_count": 4,
          "min": "1.0",
          "max": "1.0",
          "histogram": [
           {
            "bin_start": 0.5,
            "bin_end": 0.6,
            "count": 0
           },
           {
            "bin_start": 0.6,
            "bin_end": 0.7,
            "count": 0
           },
           {
            "bin_start": 0.7,
            "bin_end": 0.8,
            "count": 0
           },
           {
            "bin_start": 0.8,
            "bin_end": 0.9,
            "count": 0
           },
           {
            "bin_start": 0.9,
            "bin_end": 1,
            "count": 0
           },
           {
            "bin_start": 1,
            "bin_end": 1.1,
            "count": 1
           },
           {
            "bin_start": 1.1,
            "bin_end": 1.2000000000000002,
            "count": 0
           },
           {
            "bin_start": 1.2000000000000002,
            "bin_end": 1.3,
            "count": 0
           },
           {
            "bin_start": 1.3,
            "bin_end": 1.4,
            "count": 0
           },
           {
            "bin_start": 1.4,
            "bin_end": 1.5,
            "count": 0
           }
          ]
         }
        },
        {
         "name": "F_Rolig",
         "dtype": "float64",
         "stats": {
          "unique_count": 1,
          "nan_count": 1,
          "min": "1.0",
          "max": "1.0",
          "histogram": [
           {
            "bin_start": 0.5,
            "bin_end": 0.6,
            "count": 0
           },
           {
            "bin_start": 0.6,
            "bin_end": 0.7,
            "count": 0
           },
           {
            "bin_start": 0.7,
            "bin_end": 0.8,
            "count": 0
           },
           {
            "bin_start": 0.8,
            "bin_end": 0.9,
            "count": 0
           },
           {
            "bin_start": 0.9,
            "bin_end": 1,
            "count": 0
           },
           {
            "bin_start": 1,
            "bin_end": 1.1,
            "count": 4
           },
           {
            "bin_start": 1.1,
            "bin_end": 1.2000000000000002,
            "count": 0
           },
           {
            "bin_start": 1.2000000000000002,
            "bin_end": 1.3,
            "count": 0
           },
           {
            "bin_start": 1.3,
            "bin_end": 1.4,
            "count": 0
           },
           {
            "bin_start": 1.4,
            "bin_end": 1.5,
            "count": 0
           }
          ]
         }
        },
        {
         "name": "F_Sentralt",
         "dtype": "float64",
         "stats": {
          "unique_count": 1,
          "nan_count": 3,
          "min": "1.0",
          "max": "1.0",
          "histogram": [
           {
            "bin_start": 0.5,
            "bin_end": 0.6,
            "count": 0
           },
           {
            "bin_start": 0.6,
            "bin_end": 0.7,
            "count": 0
           },
           {
            "bin_start": 0.7,
            "bin_end": 0.8,
            "count": 0
           },
           {
            "bin_start": 0.8,
            "bin_end": 0.9,
            "count": 0
           },
           {
            "bin_start": 0.9,
            "bin_end": 1,
            "count": 0
           },
           {
            "bin_start": 1,
            "bin_end": 1.1,
            "count": 2
           },
           {
            "bin_start": 1.1,
            "bin_end": 1.2000000000000002,
            "count": 0
           },
           {
            "bin_start": 1.2000000000000002,
            "bin_end": 1.3,
            "count": 0
           },
           {
            "bin_start": 1.3,
            "bin_end": 1.4,
            "count": 0
           },
           {
            "bin_start": 1.4,
            "bin_end": 1.5,
            "count": 0
           }
          ]
         }
        },
        {
         "name": "F_Utsikt",
         "dtype": "float64",
         "stats": {
          "unique_count": 1,
          "nan_count": 3,
          "min": "1.0",
          "max": "1.0",
          "histogram": [
           {
            "bin_start": 0.5,
            "bin_end": 0.6,
            "count": 0
           },
           {
            "bin_start": 0.6,
            "bin_end": 0.7,
            "count": 0
           },
           {
            "bin_start": 0.7,
            "bin_end": 0.8,
            "count": 0
           },
           {
            "bin_start": 0.8,
            "bin_end": 0.9,
            "count": 0
           },
           {
            "bin_start": 0.9,
            "bin_end": 1,
            "count": 0
           },
           {
            "bin_start": 1,
            "bin_end": 1.1,
            "count": 2
           },
           {
            "bin_start": 1.1,
            "bin_end": 1.2000000000000002,
            "count": 0
           },
           {
            "bin_start": 1.2000000000000002,
            "bin_end": 1.3,
            "count": 0
           },
           {
            "bin_start": 1.3,
            "bin_end": 1.4,
            "count": 0
           },
           {
            "bin_start": 1.4,
            "bin_end": 1.5,
            "count": 0
           }
          ]
         }
        },
        {
         "name": "F_Vaktmester-vektertjeneste",
         "dtype": "float64",
         "stats": {
          "unique_count": 1,
          "nan_count": 2,
          "min": "1.0",
          "max": "1.0",
          "histogram": [
           {
            "bin_start": 0.5,
            "bin_end": 0.6,
            "count": 0
           },
           {
            "bin_start": 0.6,
            "bin_end": 0.7,
            "count": 0
           },
           {
            "bin_start": 0.7,
            "bin_end": 0.8,
            "count": 0
           },
           {
            "bin_start": 0.8,
            "bin_end": 0.9,
            "count": 0
           },
           {
            "bin_start": 0.9,
            "bin_end": 1,
            "count": 0
           },
           {
            "bin_start": 1,
            "bin_end": 1.1,
            "count": 3
           },
           {
            "bin_start": 1.1,
            "bin_end": 1.2000000000000002,
            "count": 0
           },
           {
            "bin_start": 1.2000000000000002,
            "bin_end": 1.3,
            "count": 0
           },
           {
            "bin_start": 1.3,
            "bin_end": 1.4,
            "count": 0
           },
           {
            "bin_start": 1.4,
            "bin_end": 1.5,
            "count": 0
           }
          ]
         }
        },
        {
         "name": "F_Bademulighet",
         "dtype": "float64",
         "stats": {
          "unique_count": 0,
          "nan_count": 5,
          "min": null,
          "max": null,
          "histogram": [
           {
            "bin_start": 0,
            "bin_end": 0.1,
            "count": 0
           },
           {
            "bin_start": 0.1,
            "bin_end": 0.2,
            "count": 0
           },
           {
            "bin_start": 0.2,
            "bin_end": 0.30000000000000004,
            "count": 0
           },
           {
            "bin_start": 0.30000000000000004,
            "bin_end": 0.4,
            "count": 0
           },
           {
            "bin_start": 0.4,
            "bin_end": 0.5,
            "count": 0
           },
           {
            "bin_start": 0.5,
            "bin_end": 0.6000000000000001,
            "count": 0
           },
           {
            "bin_start": 0.6000000000000001,
            "bin_end": 0.7000000000000001,
            "count": 0
           },
           {
            "bin_start": 0.7000000000000001,
            "bin_end": 0.8,
            "count": 0
           },
           {
            "bin_start": 0.8,
            "bin_end": 0.9,
            "count": 0
           },
           {
            "bin_start": 0.9,
            "bin_end": 1,
            "count": 0
           }
          ]
         }
        },
        {
         "name": "F_Fiskemulighet",
         "dtype": "float64",
         "stats": {
          "unique_count": 0,
          "nan_count": 5,
          "min": null,
          "max": null,
          "histogram": [
           {
            "bin_start": 0,
            "bin_end": 0.1,
            "count": 0
           },
           {
            "bin_start": 0.1,
            "bin_end": 0.2,
            "count": 0
           },
           {
            "bin_start": 0.2,
            "bin_end": 0.30000000000000004,
            "count": 0
           },
           {
            "bin_start": 0.30000000000000004,
            "bin_end": 0.4,
            "count": 0
           },
           {
            "bin_start": 0.4,
            "bin_end": 0.5,
            "count": 0
           },
           {
            "bin_start": 0.5,
            "bin_end": 0.6000000000000001,
            "count": 0
           },
           {
            "bin_start": 0.6000000000000001,
            "bin_end": 0.7000000000000001,
            "count": 0
           },
           {
            "bin_start": 0.7000000000000001,
            "bin_end": 0.8,
            "count": 0
           },
           {
            "bin_start": 0.8,
            "bin_end": 0.9,
            "count": 0
           },
           {
            "bin_start": 0.9,
            "bin_end": 1,
            "count": 0
           }
          ]
         }
        },
        {
         "name": "F_Turterreng",
         "dtype": "float64",
         "stats": {
          "unique_count": 1,
          "nan_count": 3,
          "min": "1.0",
          "max": "1.0",
          "histogram": [
           {
            "bin_start": 0.5,
            "bin_end": 0.6,
            "count": 0
           },
           {
            "bin_start": 0.6,
            "bin_end": 0.7,
            "count": 0
           },
           {
            "bin_start": 0.7,
            "bin_end": 0.8,
            "count": 0
           },
           {
            "bin_start": 0.8,
            "bin_end": 0.9,
            "count": 0
           },
           {
            "bin_start": 0.9,
            "bin_end": 1,
            "count": 0
           },
           {
            "bin_start": 1,
            "bin_end": 1.1,
            "count": 2
           },
           {
            "bin_start": 1.1,
            "bin_end": 1.2000000000000002,
            "count": 0
           },
           {
            "bin_start": 1.2000000000000002,
            "bin_end": 1.3,
            "count": 0
           },
           {
            "bin_start": 1.3,
            "bin_end": 1.4,
            "count": 0
           },
           {
            "bin_start": 1.4,
            "bin_end": 1.5,
            "count": 0
           }
          ]
         }
        },
        {
         "name": "adtitle",
         "dtype": "object",
         "stats": {
          "unique_count": 5,
          "nan_count": 0,
          "categories": [
           {
            "name": "GAMLE FURUSET - Velholdt og romslig enebolig med sokkelleilighet - Dobbeltgarasje - Tomt på 1.140m2 - Meget barnevennlig",
            "count": 1
           },
           {
            "name": "BRATTLIKOLLEN - Lys og gjennomgående 3-roms selveier - Endeleilighet - Balkong - Sentralt - Ingen forkjøpsrett - Må sees",
            "count": 1
           },
           {
            "name": "3 others",
            "count": 3
           }
          ]
         }
        },
        {
         "name": "N_modernisering",
         "dtype": "bool",
         "stats": {
          "unique_count": 1,
          "nan_count": 0,
          "categories": [
           {
            "name": "False",
            "count": 5
           }
          ]
         }
        },
        {
         "name": "N_oppussing",
         "dtype": "bool",
         "stats": {
          "unique_count": 2,
          "nan_count": 0,
          "categories": [
           {
            "name": "False",
            "count": 4
           },
           {
            "name": "True",
            "count": 1
           }
          ]
         }
        },
        {
         "name": "N_regulert",
         "dtype": "bool",
         "stats": {
          "unique_count": 1,
          "nan_count": 0,
          "categories": [
           {
            "name": "False",
            "count": 5
           }
          ]
         }
        },
        {
         "name": "N_garasjemulighet",
         "dtype": "bool",
         "stats": {
          "unique_count": 1,
          "nan_count": 0,
          "categories": [
           {
            "name": "False",
            "count": 5
           }
          ]
         }
        },
        {
         "name": "postcode",
         "dtype": "int64",
         "stats": {
          "unique_count": 5,
          "nan_count": 0,
          "min": "283",
          "max": "1184",
          "histogram": [
           {
            "bin_start": 283,
            "bin_end": 373.1,
            "count": 1
           },
           {
            "bin_start": 373.1,
            "bin_end": 463.2,
            "count": 0
           },
           {
            "bin_start": 463.2,
            "bin_end": 553.3,
            "count": 0
           },
           {
            "bin_start": 553.3,
            "bin_end": 643.4,
            "count": 0
           },
           {
            "bin_start": 643.4,
            "bin_end": 733.5,
            "count": 1
           },
           {
            "bin_start": 733.5,
            "bin_end": 823.5999999999999,
            "count": 0
           },
           {
            "bin_start": 823.5999999999999,
            "bin_end": 913.6999999999999,
            "count": 0
           },
           {
            "bin_start": 913.6999999999999,
            "bin_end": 1003.8,
            "count": 0
           },
           {
            "bin_start": 1003.8,
            "bin_end": 1093.9,
            "count": 1
           },
           {
            "bin_start": 1093.9,
            "bin_end": 1184,
            "count": 2
           }
          ]
         }
        },
        {
         "name": "Parking",
         "dtype": "int64",
         "stats": {
          "unique_count": 2,
          "nan_count": 0,
          "min": "0",
          "max": "1",
          "histogram": [
           {
            "bin_start": 0,
            "bin_end": 0.1,
            "count": 2
           },
           {
            "bin_start": 0.1,
            "bin_end": 0.2,
            "count": 0
           },
           {
            "bin_start": 0.2,
            "bin_end": 0.30000000000000004,
            "count": 0
           },
           {
            "bin_start": 0.30000000000000004,
            "bin_end": 0.4,
            "count": 0
           },
           {
            "bin_start": 0.4,
            "bin_end": 0.5,
            "count": 0
           },
           {
            "bin_start": 0.5,
            "bin_end": 0.6000000000000001,
            "count": 0
           },
           {
            "bin_start": 0.6000000000000001,
            "bin_end": 0.7000000000000001,
            "count": 0
           },
           {
            "bin_start": 0.7000000000000001,
            "bin_end": 0.8,
            "count": 0
           },
           {
            "bin_start": 0.8,
            "bin_end": 0.9,
            "count": 0
           },
           {
            "bin_start": 0.9,
            "bin_end": 1,
            "count": 3
           }
          ]
         }
        },
        {
         "name": "price_inc_debt",
         "dtype": "float64",
         "stats": {
          "unique_count": 5,
          "nan_count": 0,
          "min": "1678207.0",
          "max": "9900000.0",
          "histogram": [
           {
            "bin_start": 1678207,
            "bin_end": 2500386.3,
            "count": 1
           },
           {
            "bin_start": 2500386.3,
            "bin_end": 3322565.6,
            "count": 0
           },
           {
            "bin_start": 3322565.6,
            "bin_end": 4144744.9000000004,
            "count": 1
           },
           {
            "bin_start": 4144744.9000000004,
            "bin_end": 4966924.2,
            "count": 0
           },
           {
            "bin_start": 4966924.2,
            "bin_end": 5789103.5,
            "count": 2
           },
           {
            "bin_start": 5789103.5,
            "bin_end": 6611282.800000001,
            "count": 0
           },
           {
            "bin_start": 6611282.800000001,
            "bin_end": 7433462.100000001,
            "count": 0
           },
           {
            "bin_start": 7433462.100000001,
            "bin_end": 8255641.4,
            "count": 0
           },
           {
            "bin_start": 8255641.4,
            "bin_end": 9077820.7,
            "count": 0
           },
           {
            "bin_start": 9077820.7,
            "bin_end": 9900000,
            "count": 1
           }
          ]
         }
        },
        {
         "name": "area_id",
         "dtype": "int64",
         "stats": {
          "unique_count": 4,
          "nan_count": 0,
          "min": "1",
          "max": "14",
          "histogram": [
           {
            "bin_start": 1,
            "bin_end": 2.3,
            "count": 1
           },
           {
            "bin_start": 2.3,
            "bin_end": 3.6,
            "count": 0
           },
           {
            "bin_start": 3.6,
            "bin_end": 4.9,
            "count": 0
           },
           {
            "bin_start": 4.9,
            "bin_end": 6.2,
            "count": 1
           },
           {
            "bin_start": 6.2,
            "bin_end": 7.5,
            "count": 0
           },
           {
            "bin_start": 7.5,
            "bin_end": 8.8,
            "count": 0
           },
           {
            "bin_start": 8.8,
            "bin_end": 10.1,
            "count": 0
           },
           {
            "bin_start": 10.1,
            "bin_end": 11.4,
            "count": 0
           },
           {
            "bin_start": 11.4,
            "bin_end": 12.700000000000001,
            "count": 1
           },
           {
            "bin_start": 12.700000000000001,
            "bin_end": 14,
            "count": 2
           }
          ]
         }
        },
        {
         "name": "Bydel_lat",
         "dtype": "float64",
         "stats": {
          "unique_count": 4,
          "nan_count": 0,
          "min": "59.875677",
          "max": "59.93598",
          "histogram": [
           {
            "bin_start": 59.875677,
            "bin_end": 59.8817073,
            "count": 2
           },
           {
            "bin_start": 59.8817073,
            "bin_end": 59.8877376,
            "count": 0
           },
           {
            "bin_start": 59.8877376,
            "bin_end": 59.8937679,
            "count": 0
           },
           {
            "bin_start": 59.8937679,
            "bin_end": 59.8997982,
            "count": 0
           },
           {
            "bin_start": 59.8997982,
            "bin_end": 59.9058285,
            "count": 0
           },
           {
            "bin_start": 59.9058285,
            "bin_end": 59.911858800000005,
            "count": 1
           },
           {
            "bin_start": 59.911858800000005,
            "bin_end": 59.917889100000004,
            "count": 0
           },
           {
            "bin_start": 59.917889100000004,
            "bin_end": 59.9239194,
            "count": 0
           },
           {
            "bin_start": 59.9239194,
            "bin_end": 59.9299497,
            "count": 1
           },
           {
            "bin_start": 59.9299497,
            "bin_end": 59.93598,
            "count": 1
           }
          ]
         }
        },
        {
         "name": "Bydel_lng",
         "dtype": "float64",
         "stats": {
          "unique_count": 4,
          "nan_count": 0,
          "min": "10.664877",
          "max": "10.877371",
          "histogram": [
           {
            "bin_start": 10.664877,
            "bin_end": 10.686126400000001,
            "count": 1
           },
           {
            "bin_start": 10.686126400000001,
            "bin_end": 10.707375800000001,
            "count": 0
           },
           {
            "bin_start": 10.707375800000001,
            "bin_end": 10.7286252,
            "count": 0
           },
           {
            "bin_start": 10.7286252,
            "bin_end": 10.7498746,
            "count": 0
           },
           {
            "bin_start": 10.7498746,
            "bin_end": 10.771124,
            "count": 0
           },
           {
            "bin_start": 10.771124,
            "bin_end": 10.7923734,
            "count": 3
           },
           {
            "bin_start": 10.7923734,
            "bin_end": 10.813622800000001,
            "count": 0
           },
           {
            "bin_start": 10.813622800000001,
            "bin_end": 10.8348722,
            "count": 0
           },
           {
            "bin_start": 10.8348722,
            "bin_end": 10.8561216,
            "count": 0
           },
           {
            "bin_start": 10.8561216,
            "bin_end": 10.877371,
            "count": 1
           }
          ]
         }
        },
        {
         "name": "_deepnote_index_column",
         "dtype": "int64"
        }
       ],
       "rows": [
        {
         "documentDate": "2012-10-24",
         "picturedate": "2012/6",
         "lastchanged": "2012-06-15",
         "adcreated": "2012-06-01",
         "price": 5760000,
         "listprice": 5490000,
         "lat": 59.944653,
         "lng": 10.888134,
         "address": "Micheletveien 20, 1053 Oslo",
         "apartmentnumber": "U0102",
         "apartmenttype": "B",
         "conveyancetype": "Fritt salg",
         "finncode": 35251134,
         "BRA": 249,
         "PROM": 242,
         "buildyear": 1977,
         "matrikkel": "301-105-334-0",
         "bedrooms": 5,
         "bathrooms": 1,
         "WC": 1,
         "elevator": 1,
         "floor": "nan",
         "housingtype": "Enebolig",
         "commondebt": "nan",
         "commoncosts": "nan",
         "F_Aircondition": "nan",
         "F_Alarm": "nan",
         "F_BalkongTerrasse": "nan",
         "F_Barnevennlig": "nan",
         "F_Bredbåndstilknytning": "nan",
         "F_Fellesvaskeri": "nan",
         "F_GarasjeP-plass": "nan",
         "F_Ingen gjenboere": "nan",
         "F_Lademulighet": "nan",
         "F_Livsløpsstandard": "nan",
         "F_Moderne": "nan",
         "F_Offentlig vannkloakk": "nan",
         "F_Parkett": "nan",
         "F_PeisIldsted": "nan",
         "F_Rolig": "nan",
         "F_Sentralt": "nan",
         "F_Utsikt": "nan",
         "F_Vaktmester-vektertjeneste": "nan",
         "F_Bademulighet": "nan",
         "F_Fiskemulighet": "nan",
         "F_Turterreng": "nan",
         "adtitle": "GAMLE FURUSET - Velholdt og romslig enebolig med sokkelleilighet - Dobbeltgarasje - Tomt på 1.140m2…",
         "N_modernisering": false,
         "N_oppussing": false,
         "N_regulert": false,
         "N_garasjemulighet": false,
         "postcode": 1053,
         "Parking": 0,
         "price_inc_debt": 5760000,
         "area_id": 12,
         "Bydel_lat": 59.93598,
         "Bydel_lng": 10.877371,
         "_deepnote_index_column": 4
        },
        {
         "documentDate": "2009-11-12",
         "picturedate": "4/186",
         "lastchanged": "2009-09-05",
         "adcreated": "2009-08-24",
         "price": 1660000,
         "listprice": 1680000,
         "lat": 59.88769,
         "lng": 10.802634,
         "address": "Libakkfaret 1 A, 1184 Oslo",
         "apartmentnumber": "H0302",
         "apartmenttype": "B",
         "conveyancetype": "Fritt salg",
         "finncode": 18679054,
         "BRA": 69,
         "PROM": 66,
         "buildyear": 1954,
         "matrikkel": "301-149-433-102",
         "bedrooms": 2,
         "bathrooms": 1,
         "WC": 1,
         "elevator": 1,
         "floor": 3,
         "housingtype": "Leilighet",
         "commondebt": 18207,
         "commoncosts": 2866,
         "F_Aircondition": "nan",
         "F_Alarm": "nan",
         "F_BalkongTerrasse": 1,
         "F_Barnevennlig": 1,
         "F_Bredbåndstilknytning": "nan",
         "F_Fellesvaskeri": "nan",
         "F_GarasjeP-plass": "nan",
         "F_Ingen gjenboere": 1,
         "F_Lademulighet": "nan",
         "F_Livsløpsstandard": "nan",
         "F_Moderne": "nan",
         "F_Offentlig vannkloakk": 1,
         "F_Parkett": 1,
         "F_PeisIldsted": "nan",
         "F_Rolig": 1,
         "F_Sentralt": "nan",
         "F_Utsikt": 1,
         "F_Vaktmester-vektertjeneste": 1,
         "F_Bademulighet": "nan",
         "F_Fiskemulighet": "nan",
         "F_Turterreng": "nan",
         "adtitle": "BRATTLIKOLLEN - Lys og gjennomgående 3-roms selveier - Endeleilighet - Balkong - Sentralt - Ingen f…",
         "N_modernisering": false,
         "N_oppussing": false,
         "N_regulert": false,
         "N_garasjemulighet": false,
         "postcode": 1184,
         "Parking": 0,
         "price_inc_debt": 1678207,
         "area_id": 14,
         "Bydel_lat": 59.875677,
         "Bydel_lng": 10.789629,
         "_deepnote_index_column": 3
        },
        {
         "documentDate": "2021-12-02",
         "picturedate": "2021/8",
         "lastchanged": "2021-08-01",
         "adcreated": "2021-07-27",
         "price": 9900000,
         "listprice": 8750000,
         "lat": 59.879,
         "lng": 10.7993,
         "address": "Ringshusveien 8B, 1176 Oslo",
         "apartmentnumber": "H0101",
         "apartmenttype": "B",
         "conveyancetype": "Fritt salg",
         "finncode": 226217549,
         "BRA": 126,
         "PROM": 115,
         "buildyear": 1970,
         "matrikkel": "301-158-751-0",
         "bedrooms": 4,
         "bathrooms": 1,
         "WC": 2,
         "elevator": 1,
         "floor": 1,
         "housingtype": "Enebolig",
         "commondebt": "nan",
         "commoncosts": "nan",
         "F_Aircondition": "nan",
         "F_Alarm": "nan",
         "F_BalkongTerrasse": 1,
         "F_Barnevennlig": 1,
         "F_Bredbåndstilknytning": "nan",
         "F_Fellesvaskeri": "nan",
         "F_GarasjeP-plass": 1,
         "F_Ingen gjenboere": "nan",
         "F_Lademulighet": "nan",
         "F_Livsløpsstandard": "nan",
         "F_Moderne": "nan",
         "F_Offentlig vannkloakk": "nan",
         "F_Parkett": "nan",
         "F_PeisIldsted": 1,
         "F_Rolig": 1,
         "F_Sentralt": "nan",
         "F_Utsikt": "nan",
         "F_Vaktmester-vektertjeneste": "nan",
         "F_Bademulighet": "nan",
         "F_Fiskemulighet": "nan",
         "F_Turterreng": 1,
         "adtitle": "Oppussingsobjekt - Enebolig i kjede med skjermet beliggenhet - Vestvendt uteplass - Barnevennlig - …",
         "N_modernisering": false,
         "N_oppussing": true,
         "N_regulert": false,
         "N_garasjemulighet": false,
         "postcode": 1176,
         "Parking": 1,
         "price_inc_debt": 9900000,
         "area_id": 14,
         "Bydel_lat": 59.875677,
         "Bydel_lng": 10.789629,
         "_deepnote_index_column": 2
        },
        {
         "documentDate": "2020-09-25",
         "picturedate": "2020/7",
         "lastchanged": "2020-08-07",
         "adcreated": "2020-08-03",
         "price": 5150000,
         "listprice": 4650000,
         "lat": 59.91303,
         "lng": 10.776672,
         "address": "Hagegata 41, 0653 Oslo",
         "apartmentnumber": "H0703",
         "apartmenttype": "B",
         "conveyancetype": "Fritt salg",
         "finncode": 186196629,
         "BRA": 55,
         "PROM": 54,
         "buildyear": 1990,
         "matrikkel": "301-231-166-37",
         "bedrooms": 1,
         "bathrooms": 1,
         "WC": 1,
         "elevator": 0,
         "floor": 6,
         "housingtype": "Leilighet",
         "commondebt": "nan",
         "commoncosts": 3127,
         "F_Aircondition": "nan",
         "F_Alarm": "nan",
         "F_BalkongTerrasse": 1,
         "F_Barnevennlig": 1,
         "F_Bredbåndstilknytning": 1,
         "F_Fellesvaskeri": "nan",
         "F_GarasjeP-plass": 1,
         "F_Ingen gjenboere": 1,
         "F_Lademulighet": "nan",
         "F_Livsløpsstandard": "nan",
         "F_Moderne": 1,
         "F_Offentlig vannkloakk": 1,
         "F_Parkett": "nan",
         "F_PeisIldsted": "nan",
         "F_Rolig": 1,
         "F_Sentralt": 1,
         "F_Utsikt": 1,
         "F_Vaktmester-vektertjeneste": 1,
         "F_Bademulighet": "nan",
         "F_Fiskemulighet": "nan",
         "F_Turterreng": "nan",
         "adtitle": "VISNING AVLYST! Direkte bud til selger. Toppleilighet med stor, solrik takterrasse (14 kvm) - Ingen…",
         "N_modernisering": false,
         "N_oppussing": false,
         "N_regulert": false,
         "N_garasjemulighet": false,
         "postcode": 653,
         "Parking": 1,
         "price_inc_debt": 5150000,
         "area_id": 1,
         "Bydel_lat": 59.911832,
         "Bydel_lng": 10.789224,
         "_deepnote_index_column": 0
        },
        {
         "documentDate": "2020-09-29",
         "picturedate": "2020/8",
         "lastchanged": "2020-12-14",
         "adcreated": "2020-08-25",
         "price": 3900000,
         "listprice": 3650000,
         "lat": 59.9189,
         "lng": 10.6479,
         "address": "Skogbrynet 16D, 0283 Oslo",
         "apartmentnumber": "U0101",
         "apartmenttype": "B",
         "conveyancetype": "Fritt salg",
         "finncode": 188594072,
         "BRA": 56,
         "PROM": 56,
         "buildyear": 1977,
         "matrikkel": "301-9-38-14",
         "bedrooms": 1,
         "bathrooms": 1,
         "WC": 1,
         "elevator": 1,
         "floor": 1,
         "housingtype": "Leilighet",
         "commondebt": 44838,
         "commoncosts": 3062,
         "F_Aircondition": "nan",
         "F_Alarm": "nan",
         "F_BalkongTerrasse": 1,
         "F_Barnevennlig": 1,
         "F_Bredbåndstilknytning": 1,
         "F_Fellesvaskeri": "nan",
         "F_GarasjeP-plass": 1,
         "F_Ingen gjenboere": 1,
         "F_Lademulighet": "nan",
         "F_Livsløpsstandard": "nan",
         "F_Moderne": "nan",
         "F_Offentlig vannkloakk": 1,
         "F_Parkett": 1,
         "F_PeisIldsted": "nan",
         "F_Rolig": 1,
         "F_Sentralt": 1,
         "F_Utsikt": "nan",
         "F_Vaktmester-vektertjeneste": 1,
         "F_Bademulighet": "nan",
         "F_Fiskemulighet": "nan",
         "F_Turterreng": 1,
         "adtitle": "Innbydende og lys 2-roms hjørneleilighet - Vestvendt terrasse mot hage - Parkeringsplass - Rekkehus…",
         "N_modernisering": false,
         "N_oppussing": false,
         "N_regulert": false,
         "N_garasjemulighet": false,
         "postcode": 283,
         "Parking": 1,
         "price_inc_debt": 3944838,
         "area_id": 6,
         "Bydel_lat": 59.927271,
         "Bydel_lng": 10.664877,
         "_deepnote_index_column": 1
        }
       ]
      },
      "text/plain": "  documentDate picturedate lastchanged   adcreated    price  listprice  \\\n0   2020-09-25      2020/7  2020-08-07  2020-08-03  5150000  4650000.0   \n1   2020-09-29      2020/8  2020-12-14  2020-08-25  3900000  3650000.0   \n2   2021-12-02      2021/8  2021-08-01  2021-07-27  9900000  8750000.0   \n3   2009-11-12       4/186  2009-09-05  2009-08-24  1660000  1680000.0   \n4   2012-10-24      2012/6  2012-06-15  2012-06-01  5760000  5490000.0   \n\n         lat        lng                      address apartmentnumber  ...  \\\n0  59.913030  10.776672       Hagegata 41, 0653 Oslo           H0703  ...   \n1  59.918900  10.647900    Skogbrynet 16D, 0283 Oslo           U0101  ...   \n2  59.879000  10.799300  Ringshusveien 8B, 1176 Oslo           H0101  ...   \n3  59.887690  10.802634   Libakkfaret 1 A, 1184 Oslo           H0302  ...   \n4  59.944653  10.888134  Micheletveien 20, 1053 Oslo           U0102  ...   \n\n  N_modernisering N_oppussing  N_regulert  N_garasjemulighet  postcode  \\\n0           False       False       False              False       653   \n1           False       False       False              False       283   \n2           False        True       False              False      1176   \n3           False       False       False              False      1184   \n4           False       False       False              False      1053   \n\n   Parking price_inc_debt  area_id  Bydel_lat  Bydel_lng  \n0        1      5150000.0        1  59.911832  10.789224  \n1        1      3944838.0        6  59.927271  10.664877  \n2        1      9900000.0       14  59.875677  10.789629  \n3        0      1678207.0       14  59.875677  10.789629  \n4        0      5760000.0       12  59.935980  10.877371  \n\n[5 rows x 57 columns]",
      "text/html": "<div>\n<style scoped>\n    .dataframe tbody tr th:only-of-type {\n        vertical-align: middle;\n    }\n\n    .dataframe tbody tr th {\n        vertical-align: top;\n    }\n\n    .dataframe thead th {\n        text-align: right;\n    }\n</style>\n<table border=\"1\" class=\"dataframe\">\n  <thead>\n    <tr style=\"text-align: right;\">\n      <th></th>\n      <th>documentDate</th>\n      <th>picturedate</th>\n      <th>lastchanged</th>\n      <th>adcreated</th>\n      <th>price</th>\n      <th>listprice</th>\n      <th>lat</th>\n      <th>lng</th>\n      <th>address</th>\n      <th>apartmentnumber</th>\n      <th>...</th>\n      <th>N_modernisering</th>\n      <th>N_oppussing</th>\n      <th>N_regulert</th>\n      <th>N_garasjemulighet</th>\n      <th>postcode</th>\n      <th>Parking</th>\n      <th>price_inc_debt</th>\n      <th>area_id</th>\n      <th>Bydel_lat</th>\n      <th>Bydel_lng</th>\n    </tr>\n  </thead>\n  <tbody>\n    <tr>\n      <th>0</th>\n      <td>2020-09-25</td>\n      <td>2020/7</td>\n      <td>2020-08-07</td>\n      <td>2020-08-03</td>\n      <td>5150000</td>\n      <td>4650000.0</td>\n      <td>59.913030</td>\n      <td>10.776672</td>\n      <td>Hagegata 41, 0653 Oslo</td>\n      <td>H0703</td>\n      <td>...</td>\n      <td>False</td>\n      <td>False</td>\n      <td>False</td>\n      <td>False</td>\n      <td>653</td>\n      <td>1</td>\n      <td>5150000.0</td>\n      <td>1</td>\n      <td>59.911832</td>\n      <td>10.789224</td>\n    </tr>\n    <tr>\n      <th>1</th>\n      <td>2020-09-29</td>\n      <td>2020/8</td>\n      <td>2020-12-14</td>\n      <td>2020-08-25</td>\n      <td>3900000</td>\n      <td>3650000.0</td>\n      <td>59.918900</td>\n      <td>10.647900</td>\n      <td>Skogbrynet 16D, 0283 Oslo</td>\n      <td>U0101</td>\n      <td>...</td>\n      <td>False</td>\n      <td>False</td>\n      <td>False</td>\n      <td>False</td>\n      <td>283</td>\n      <td>1</td>\n      <td>3944838.0</td>\n      <td>6</td>\n      <td>59.927271</td>\n      <td>10.664877</td>\n    </tr>\n    <tr>\n      <th>2</th>\n      <td>2021-12-02</td>\n      <td>2021/8</td>\n      <td>2021-08-01</td>\n      <td>2021-07-27</td>\n      <td>9900000</td>\n      <td>8750000.0</td>\n      <td>59.879000</td>\n      <td>10.799300</td>\n      <td>Ringshusveien 8B, 1176 Oslo</td>\n      <td>H0101</td>\n      <td>...</td>\n      <td>False</td>\n      <td>True</td>\n      <td>False</td>\n      <td>False</td>\n      <td>1176</td>\n      <td>1</td>\n      <td>9900000.0</td>\n      <td>14</td>\n      <td>59.875677</td>\n      <td>10.789629</td>\n    </tr>\n    <tr>\n      <th>3</th>\n      <td>2009-11-12</td>\n      <td>4/186</td>\n      <td>2009-09-05</td>\n      <td>2009-08-24</td>\n      <td>1660000</td>\n      <td>1680000.0</td>\n      <td>59.887690</td>\n      <td>10.802634</td>\n      <td>Libakkfaret 1 A, 1184 Oslo</td>\n      <td>H0302</td>\n      <td>...</td>\n      <td>False</td>\n      <td>False</td>\n      <td>False</td>\n      <td>False</td>\n      <td>1184</td>\n      <td>0</td>\n      <td>1678207.0</td>\n      <td>14</td>\n      <td>59.875677</td>\n      <td>10.789629</td>\n    </tr>\n    <tr>\n      <th>4</th>\n      <td>2012-10-24</td>\n      <td>2012/6</td>\n      <td>2012-06-15</td>\n      <td>2012-06-01</td>\n      <td>5760000</td>\n      <td>5490000.0</td>\n      <td>59.944653</td>\n      <td>10.888134</td>\n      <td>Micheletveien 20, 1053 Oslo</td>\n      <td>U0102</td>\n      <td>...</td>\n      <td>False</td>\n      <td>False</td>\n      <td>False</td>\n      <td>False</td>\n      <td>1053</td>\n      <td>0</td>\n      <td>5760000.0</td>\n      <td>12</td>\n      <td>59.935980</td>\n      <td>10.877371</td>\n    </tr>\n  </tbody>\n</table>\n<p>5 rows × 57 columns</p>\n</div>"
     },
     "metadata": {}
    }
   ],
   "execution_count": null
  },
  {
   "cell_type": "code",
   "metadata": {
    "cell_id": "00012-06d055c5-8550-4dda-942e-9229072c117d",
    "deepnote_output_heights": [
     305
    ],
    "deepnote_to_be_reexecuted": true,
    "source_hash": "9c321414",
    "execution_start": 1644497660081,
    "execution_millis": 394,
    "deepnote_cell_type": "code"
   },
   "source": "df['price'].hist(bins=70, range=[0,10000000], figsize=(17,6))\nplt.show()",
   "outputs": [
    {
     "data": {
      "text/plain": "<Figure size 1224x432 with 1 Axes>",
      "image/png": "[encoded data removed]"
     },
     "metadata": {
      "needs_background": "light",
      "image/png": {
       "width": 995,
       "height": 370
      }
     },
     "output_type": "display_data"
    }
   ],
   "execution_count": null
  },
  {
   "cell_type": "code",
   "metadata": {
    "cell_id": "00013-073fd591-e606-4e70-bf33-dba895c85d8c",
    "deepnote_output_heights": [
     250
    ],
    "deepnote_to_be_reexecuted": true,
    "source_hash": "cff01a26",
    "execution_start": 1644497660451,
    "execution_millis": 235,
    "deepnote_cell_type": "code"
   },
   "source": "df[\"area_id\"].hist(bins=25)\nplt.show()",
   "outputs": [
    {
     "data": {
      "text/plain": "<Figure size 432x288 with 1 Axes>",
      "image/png": "[encoded data removed]"
     },
     "metadata": {
      "needs_background": "light",
      "image/png": {
       "width": 387,
       "height": 248
      }
     },
     "output_type": "display_data"
    }
   ],
   "execution_count": null
  },
  {
   "cell_type": "code",
   "metadata": {
    "cell_id": "00014-88d3dadb-013e-4fbb-8bf5-2b40ddd80c82",
    "deepnote_to_be_reexecuted": true,
    "source_hash": "b623e53d",
    "execution_start": 1644497660687,
    "execution_millis": 1,
    "deepnote_cell_type": "code"
   },
   "source": "",
   "outputs": [],
   "execution_count": null
  },
  {
   "cell_type": "code",
   "metadata": {
    "cell_id": "7c28e39c-b084-46fd-939c-33ba8e5932e1",
    "tags": [],
    "deepnote_to_be_reexecuted": true,
    "source_hash": "b623e53d",
    "execution_start": 1644497660691,
    "execution_millis": 1,
    "deepnote_cell_type": "code"
   },
   "source": "",
   "outputs": [],
   "execution_count": null
  },
  {
   "cell_type": "code",
   "metadata": {
    "cell_id": "2b3d1cbb-ba95-418a-950c-eec301627af3",
    "tags": [],
    "deepnote_to_be_reexecuted": true,
    "source_hash": "b623e53d",
    "execution_start": 1644497660694,
    "execution_millis": 2,
    "deepnote_cell_type": "code"
   },
   "source": "",
   "outputs": [],
   "execution_count": null
  },
  {
   "cell_type": "code",
   "metadata": {
    "cell_id": "93699cf4-0436-46f5-bba6-1a12673335b9",
    "tags": [],
    "deepnote_to_be_reexecuted": true,
    "source_hash": "b623e53d",
    "execution_start": 1644497660702,
    "execution_millis": 0,
    "deepnote_cell_type": "code"
   },
   "source": "",
   "outputs": [],
   "execution_count": null
  },
  {
   "cell_type": "code",
   "metadata": {
    "cell_id": "50ee130c-a4d3-41bc-9d02-707859f10cf0",
    "tags": [],
    "deepnote_to_be_reexecuted": true,
    "source_hash": "b623e53d",
    "execution_start": 1644497660745,
    "execution_millis": 298098,
    "deepnote_cell_type": "code"
   },
   "source": "",
   "outputs": [],
   "execution_count": null
  },
  {
   "cell_type": "markdown",
   "source": "<a style='text-decoration:none;line-height:16px;display:flex;color:#5B5B62;padding:10px;justify-content:end;' href='https://deepnote.com?utm_source=created-in-deepnote-cell&projectId=7a076037-bdbc-4d12-92b5-75ebface7fab' target=\"_blank\">\n<img alt='Created in deepnote.com' style='display:inline;max-height:16px;margin:0px;margin-right:7.5px;' src='data:image/svg+xml;base64,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' > </img>\nCreated in <span style='font-weight:600;margin-left:4px;'>Deepnote</span></a>",
   "metadata": {
    "tags": [],
    "created_in_deepnote_cell": true,
    "deepnote_cell_type": "markdown"
   }
  }
 ],
 "nbformat": 4,
 "nbformat_minor": 5,
 "metadata": {
  "kernelspec": {
   "display_name": "Python 3 (ipykernel)",
   "language": "python",
   "name": "python3"
  },
  "language_info": {
   "codemirror_mode": {
    "name": "ipython",
    "version": 3
   },
   "file_extension": ".py",
   "mimetype": "text/x-python",
   "name": "python",
   "nbconvert_exporter": "python",
   "pygments_lexer": "ipython3",
   "version": "3.9.6"
  },
  "deepnote_notebook_id": "412c32ea-12e7-4943-9595-4f2320b85aab",
  "deepnote": {},
  "deepnote_execution_queue": []
 }
}