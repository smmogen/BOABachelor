{
 "cells": [
  {
   "cell_type": "code",
   "metadata": {
    "cell_id": "2d94c48d-2ab5-483e-b957-7096a7af5034",
    "deepnote_to_be_reexecuted": false,
    "source_hash": "30e8f8fe",
    "execution_start": 1645091181327,
    "execution_millis": 4879,
    "deepnote_cell_type": "code"
   },
   "source": "# Importer biblioteker som trengs\nimport pandas as pd\nimport matplotlib.pyplot as plt\nimport matplotlib.image as mpimg\nimport numpy as np\nfrom sklearn import linear_model",
   "execution_count": 1,
   "outputs": []
  },
  {
   "cell_type": "code",
   "metadata": {
    "cell_id": "00001-ee8f14d9-2253-4871-a3aa-fcb11991a616",
    "deepnote_to_be_reexecuted": false,
    "source_hash": "67247453",
    "execution_start": 1645091186217,
    "execution_millis": 2037,
    "deepnote_cell_type": "code"
   },
   "source": "# Importerer datasettet\ndf = pd.read_csv('datasett.csv')",
   "execution_count": 2,
   "outputs": []
  },
  {
   "cell_type": "code",
   "metadata": {
    "cell_id": "5687221a-a4eb-4a30-b921-3c545b1f51c5",
    "tags": [],
    "deepnote_to_be_reexecuted": false,
    "source_hash": "9bf26057",
    "execution_start": 1645091188257,
    "execution_millis": 220,
    "deepnote_table_state": {
     "pageSize": 10,
     "pageIndex": 0,
     "filters": [],
     "sortBy": [
      {
       "id": "price",
       "type": "desc"
      }
     ]
    },
    "deepnote_table_loading": false,
    "deepnote_cell_type": "code"
   },
   "source": "# Tar en titt på dataen\ndf.head()",
   "execution_count": 3,
   "outputs": [
    {
     "output_type": "execute_result",
     "execution_count": 3,
     "data": {
      "application/vnd.deepnote.dataframe.v3+json": {
       "column_count": 57,
       "row_count": 5,
       "columns": [
        {
         "name": "documentDate",
         "dtype": "object",
         "stats": {
          "unique_count": 5,
          "nan_count": 0,
          "categories": [
           {
            "name": "2021-12-02",
            "count": 1
           },
           {
            "name": "2012-10-24",
            "count": 1
           },
           {
            "name": "3 others",
            "count": 3
           }
          ]
         }
        },
        {
         "name": "picturedate",
         "dtype": "object",
         "stats": {
          "unique_count": 5,
          "nan_count": 0,
          "categories": [
           {
            "name": "2021/8",
            "count": 1
           },
           {
            "name": "2012/6",
            "count": 1
           },
           {
            "name": "3 others",
            "count": 3
           }
          ]
         }
        },
        {
         "name": "lastchanged",
         "dtype": "object",
         "stats": {
          "unique_count": 5,
          "nan_count": 0,
          "categories": [
           {
            "name": "2021-08-01",
            "count": 1
           },
           {
            "name": "2012-06-15",
            "count": 1
           },
           {
            "name": "3 others",
            "count": 3
           }
          ]
         }
        },
        {
         "name": "adcreated",
         "dtype": "object",
         "stats": {
          "unique_count": 5,
          "nan_count": 0,
          "categories": [
           {
            "name": "2021-07-27",
            "count": 1
           },
           {
            "name": "2012-06-01",
            "count": 1
           },
           {
            "name": "3 others",
            "count": 3
           }
          ]
         }
        },
        {
         "name": "price",
         "dtype": "int64",
         "stats": {
          "unique_count": 5,
          "nan_count": 0,
          "min": "1660000",
          "max": "9900000",
          "histogram": [
           {
            "bin_start": 1660000,
            "bin_end": 2484000,
            "count": 1
           },
           {
            "bin_start": 2484000,
            "bin_end": 3308000,
            "count": 0
           },
           {
            "bin_start": 3308000,
            "bin_end": 4132000,
            "count": 1
           },
           {
            "bin_start": 4132000,
            "bin_end": 4956000,
            "count": 0
           },
           {
            "bin_start": 4956000,
            "bin_end": 5780000,
            "count": 2
           },
           {
            "bin_start": 5780000,
            "bin_end": 6604000,
            "count": 0
           },
           {
            "bin_start": 6604000,
            "bin_end": 7428000,
            "count": 0
           },
           {
            "bin_start": 7428000,
            "bin_end": 8252000,
            "count": 0
           },
           {
            "bin_start": 8252000,
            "bin_end": 9076000,
            "count": 0
           },
           {
            "bin_start": 9076000,
            "bin_end": 9900000,
            "count": 1
           }
          ]
         }
        },
        {
         "name": "listprice",
         "dtype": "float64",
         "stats": {
          "unique_count": 5,
          "nan_count": 0,
          "min": "1680000.0",
          "max": "8750000.0",
          "histogram": [
           {
            "bin_start": 1680000,
            "bin_end": 2387000,
            "count": 1
           },
           {
            "bin_start": 2387000,
            "bin_end": 3094000,
            "count": 0
           },
           {
            "bin_start": 3094000,
            "bin_end": 3801000,
            "count": 1
           },
           {
            "bin_start": 3801000,
            "bin_end": 4508000,
            "count": 0
           },
           {
            "bin_start": 4508000,
            "bin_end": 5215000,
            "count": 1
           },
           {
            "bin_start": 5215000,
            "bin_end": 5922000,
            "count": 1
           },
           {
            "bin_start": 5922000,
            "bin_end": 6629000,
            "count": 0
           },
           {
            "bin_start": 6629000,
            "bin_end": 7336000,
            "count": 0
           },
           {
            "bin_start": 7336000,
            "bin_end": 8043000,
            "count": 0
           },
           {
            "bin_start": 8043000,
            "bin_end": 8750000,
            "count": 1
           }
          ]
         }
        },
        {
         "name": "lat",
         "dtype": "float64",
         "stats": {
          "unique_count": 5,
          "nan_count": 0,
          "min": "59.879",
          "max": "59.944653",
          "histogram": [
           {
            "bin_start": 59.879,
            "bin_end": 59.885565299999996,
            "count": 1
           },
           {
            "bin_start": 59.885565299999996,
            "bin_end": 59.8921306,
            "count": 1
           },
           {
            "bin_start": 59.8921306,
            "bin_end": 59.8986959,
            "count": 0
           },
           {
            "bin_start": 59.8986959,
            "bin_end": 59.9052612,
            "count": 0
           },
           {
            "bin_start": 59.9052612,
            "bin_end": 59.911826500000004,
            "count": 0
           },
           {
            "bin_start": 59.911826500000004,
            "bin_end": 59.9183918,
            "count": 1
           },
           {
            "bin_start": 59.9183918,
            "bin_end": 59.9249571,
            "count": 1
           },
           {
            "bin_start": 59.9249571,
            "bin_end": 59.9315224,
            "count": 0
           },
           {
            "bin_start": 59.9315224,
            "bin_end": 59.938087700000004,
            "count": 0
           },
           {
            "bin_start": 59.938087700000004,
            "bin_end": 59.944653,
            "count": 1
           }
          ]
         }
        },
        {
         "name": "lng",
         "dtype": "float64",
         "stats": {
          "unique_count": 5,
          "nan_count": 0,
          "min": "10.6479",
          "max": "10.888134",
          "histogram": [
           {
            "bin_start": 10.6479,
            "bin_end": 10.6719234,
            "count": 1
           },
           {
            "bin_start": 10.6719234,
            "bin_end": 10.6959468,
            "count": 0
           },
           {
            "bin_start": 10.6959468,
            "bin_end": 10.7199702,
            "count": 0
           },
           {
            "bin_start": 10.7199702,
            "bin_end": 10.7439936,
            "count": 0
           },
           {
            "bin_start": 10.7439936,
            "bin_end": 10.768017,
            "count": 0
           },
           {
            "bin_start": 10.768017,
            "bin_end": 10.792040400000001,
            "count": 1
           },
           {
            "bin_start": 10.792040400000001,
            "bin_end": 10.8160638,
            "count": 2
           },
           {
            "bin_start": 10.8160638,
            "bin_end": 10.840087200000001,
            "count": 0
           },
           {
            "bin_start": 10.840087200000001,
            "bin_end": 10.8641106,
            "count": 0
           },
           {
            "bin_start": 10.8641106,
            "bin_end": 10.888134,
            "count": 1
           }
          ]
         }
        },
        {
         "name": "address",
         "dtype": "object",
         "stats": {
          "unique_count": 5,
          "nan_count": 0,
          "categories": [
           {
            "name": "Ringshusveien 8B, 1176 Oslo",
            "count": 1
           },
           {
            "name": "Micheletveien 20, 1053 Oslo",
            "count": 1
           },
           {
            "name": "3 others",
            "count": 3
           }
          ]
         }
        },
        {
         "name": "apartmentnumber",
         "dtype": "object",
         "stats": {
          "unique_count": 5,
          "nan_count": 0,
          "categories": [
           {
            "name": "H0101",
            "count": 1
           },
           {
            "name": "U0102",
            "count": 1
           },
           {
            "name": "3 others",
            "count": 3
           }
          ]
         }
        },
        {
         "name": "apartmenttype",
         "dtype": "object",
         "stats": {
          "unique_count": 1,
          "nan_count": 0,
          "categories": [
           {
            "name": "B",
            "count": 5
           }
          ]
         }
        },
        {
         "name": "conveyancetype",
         "dtype": "object",
         "stats": {
          "unique_count": 1,
          "nan_count": 0,
          "categories": [
           {
            "name": "Fritt salg",
            "count": 5
           }
          ]
         }
        },
        {
         "name": "finncode",
         "dtype": "int64",
         "stats": {
          "unique_count": 5,
          "nan_count": 0,
          "min": "18679054",
          "max": "226217549",
          "histogram": [
           {
            "bin_start": 18679054,
            "bin_end": 39432903.5,
            "count": 2
           },
           {
            "bin_start": 39432903.5,
            "bin_end": 60186753,
            "count": 0
           },
           {
            "bin_start": 60186753,
            "bin_end": 80940602.5,
            "count": 0
           },
           {
            "bin_start": 80940602.5,
            "bin_end": 101694452,
            "count": 0
           },
           {
            "bin_start": 101694452,
            "bin_end": 122448301.5,
            "count": 0
           },
           {
            "bin_start": 122448301.5,
            "bin_end": 143202151,
            "count": 0
           },
           {
            "bin_start": 143202151,
            "bin_end": 163956000.5,
            "count": 0
           },
           {
            "bin_start": 163956000.5,
            "bin_end": 184709850,
            "count": 0
           },
           {
            "bin_start": 184709850,
            "bin_end": 205463699.5,
            "count": 2
           },
           {
            "bin_start": 205463699.5,
            "bin_end": 226217549,
            "count": 1
           }
          ]
         }
        },
        {
         "name": "BRA",
         "dtype": "float64",
         "stats": {
          "unique_count": 4,
          "nan_count": 1,
          "min": "55.0",
          "max": "249.0",
          "histogram": [
           {
            "bin_start": 55,
            "bin_end": 74.4,
            "count": 2
           },
           {
            "bin_start": 74.4,
            "bin_end": 93.8,
            "count": 0
           },
           {
            "bin_start": 93.8,
            "bin_end": 113.19999999999999,
            "count": 0
           },
           {
            "bin_start": 113.19999999999999,
            "bin_end": 132.6,
            "count": 1
           },
           {
            "bin_start": 132.6,
            "bin_end": 152,
            "count": 0
           },
           {
            "bin_start": 152,
            "bin_end": 171.39999999999998,
            "count": 0
           },
           {
            "bin_start": 171.39999999999998,
            "bin_end": 190.79999999999998,
            "count": 0
           },
           {
            "bin_start": 190.79999999999998,
            "bin_end": 210.2,
            "count": 0
           },
           {
            "bin_start": 210.2,
            "bin_end": 229.6,
            "count": 0
           },
           {
            "bin_start": 229.6,
            "bin_end": 249,
            "count": 1
           }
          ]
         }
        },
        {
         "name": "PROM",
         "dtype": "float64",
         "stats": {
          "unique_count": 5,
          "nan_count": 0,
          "min": "54.0",
          "max": "242.0",
          "histogram": [
           {
            "bin_start": 54,
            "bin_end": 72.8,
            "count": 3
           },
           {
            "bin_start": 72.8,
            "bin_end": 91.6,
            "count": 0
           },
           {
            "bin_start": 91.6,
            "bin_end": 110.4,
            "count": 0
           },
           {
            "bin_start": 110.4,
            "bin_end": 129.2,
            "count": 1
           },
           {
            "bin_start": 129.2,
            "bin_end": 148,
            "count": 0
           },
           {
            "bin_start": 148,
            "bin_end": 166.8,
            "count": 0
           },
           {
            "bin_start": 166.8,
            "bin_end": 185.6,
            "count": 0
           },
           {
            "bin_start": 185.6,
            "bin_end": 204.4,
            "count": 0
           },
           {
            "bin_start": 204.4,
            "bin_end": 223.20000000000002,
            "count": 0
           },
           {
            "bin_start": 223.20000000000002,
            "bin_end": 242,
            "count": 1
           }
          ]
         }
        },
        {
         "name": "buildyear",
         "dtype": "float64",
         "stats": {
          "unique_count": 4,
          "nan_count": 0,
          "min": "1954.0",
          "max": "1990.0",
          "histogram": [
           {
            "bin_start": 1954,
            "bin_end": 1957.6,
            "count": 1
           },
           {
            "bin_start": 1957.6,
            "bin_end": 1961.2,
            "count": 0
           },
           {
            "bin_start": 1961.2,
            "bin_end": 1964.8,
            "count": 0
           },
           {
            "bin_start": 1964.8,
            "bin_end": 1968.4,
            "count": 0
           },
           {
            "bin_start": 1968.4,
            "bin_end": 1972,
            "count": 1
           },
           {
            "bin_start": 1972,
            "bin_end": 1975.6,
            "count": 0
           },
           {
            "bin_start": 1975.6,
            "bin_end": 1979.2,
            "count": 2
           },
           {
            "bin_start": 1979.2,
            "bin_end": 1982.8,
            "count": 0
           },
           {
            "bin_start": 1982.8,
            "bin_end": 1986.4,
            "count": 0
           },
           {
            "bin_start": 1986.4,
            "bin_end": 1990,
            "count": 1
           }
          ]
         }
        },
        {
         "name": "matrikkel",
         "dtype": "object",
         "stats": {
          "unique_count": 5,
          "nan_count": 0,
          "categories": [
           {
            "name": "301-158-751-0",
            "count": 1
           },
           {
            "name": "301-105-334-0",
            "count": 1
           },
           {
            "name": "3 others",
            "count": 3
           }
          ]
         }
        },
        {
         "name": "bedrooms",
         "dtype": "float64",
         "stats": {
          "unique_count": 4,
          "nan_count": 0,
          "min": "1.0",
          "max": "5.0",
          "histogram": [
           {
            "bin_start": 1,
            "bin_end": 1.4,
            "count": 2
           },
           {
            "bin_start": 1.4,
            "bin_end": 1.8,
            "count": 0
           },
           {
            "bin_start": 1.8,
            "bin_end": 2.2,
            "count": 1
           },
           {
            "bin_start": 2.2,
            "bin_end": 2.6,
            "count": 0
           },
           {
            "bin_start": 2.6,
            "bin_end": 3,
            "count": 0
           },
           {
            "bin_start": 3,
            "bin_end": 3.4000000000000004,
            "count": 0
           },
           {
            "bin_start": 3.4000000000000004,
            "bin_end": 3.8000000000000003,
            "count": 0
           },
           {
            "bin_start": 3.8000000000000003,
            "bin_end": 4.2,
            "count": 1
           },
           {
            "bin_start": 4.2,
            "bin_end": 4.6,
            "count": 0
           },
           {
            "bin_start": 4.6,
            "bin_end": 5,
            "count": 1
           }
          ]
         }
        },
        {
         "name": "rooms",
         "dtype": "float64",
         "stats": {
          "unique_count": 3,
          "nan_count": 2,
          "min": "2.0",
          "max": "10.0",
          "histogram": [
           {
            "bin_start": 2,
            "bin_end": 2.8,
            "count": 1
           },
           {
            "bin_start": 2.8,
            "bin_end": 3.6,
            "count": 0
           },
           {
            "bin_start": 3.6,
            "bin_end": 4.4,
            "count": 0
           },
           {
            "bin_start": 4.4,
            "bin_end": 5.2,
            "count": 1
           },
           {
            "bin_start": 5.2,
            "bin_end": 6,
            "count": 0
           },
           {
            "bin_start": 6,
            "bin_end": 6.800000000000001,
            "count": 0
           },
           {
            "bin_start": 6.800000000000001,
            "bin_end": 7.6000000000000005,
            "count": 0
           },
           {
            "bin_start": 7.6000000000000005,
            "bin_end": 8.4,
            "count": 0
           },
           {
            "bin_start": 8.4,
            "bin_end": 9.2,
            "count": 0
           },
           {
            "bin_start": 9.2,
            "bin_end": 10,
            "count": 1
           }
          ]
         }
        },
        {
         "name": "bathrooms",
         "dtype": "int64",
         "stats": {
          "unique_count": 1,
          "nan_count": 0,
          "min": "1",
          "max": "1",
          "histogram": [
           {
            "bin_start": 0.5,
            "bin_end": 0.6,
            "count": 0
           },
           {
            "bin_start": 0.6,
            "bin_end": 0.7,
            "count": 0
           },
           {
            "bin_start": 0.7,
            "bin_end": 0.8,
            "count": 0
           },
           {
            "bin_start": 0.8,
            "bin_end": 0.9,
            "count": 0
           },
           {
            "bin_start": 0.9,
            "bin_end": 1,
            "count": 0
           },
           {
            "bin_start": 1,
            "bin_end": 1.1,
            "count": 5
           },
           {
            "bin_start": 1.1,
            "bin_end": 1.2000000000000002,
            "count": 0
           },
           {
            "bin_start": 1.2000000000000002,
            "bin_end": 1.3,
            "count": 0
           },
           {
            "bin_start": 1.3,
            "bin_end": 1.4,
            "count": 0
           },
           {
            "bin_start": 1.4,
            "bin_end": 1.5,
            "count": 0
           }
          ]
         }
        },
        {
         "name": "WC",
         "dtype": "int64",
         "stats": {
          "unique_count": 2,
          "nan_count": 0,
          "min": "1",
          "max": "2",
          "histogram": [
           {
            "bin_start": 1,
            "bin_end": 1.1,
            "count": 4
           },
           {
            "bin_start": 1.1,
            "bin_end": 1.2,
            "count": 0
           },
           {
            "bin_start": 1.2,
            "bin_end": 1.3,
            "count": 0
           },
           {
            "bin_start": 1.3,
            "bin_end": 1.4,
            "count": 0
           },
           {
            "bin_start": 1.4,
            "bin_end": 1.5,
            "count": 0
           },
           {
            "bin_start": 1.5,
            "bin_end": 1.6,
            "count": 0
           },
           {
            "bin_start": 1.6,
            "bin_end": 1.7000000000000002,
            "count": 0
           },
           {
            "bin_start": 1.7000000000000002,
            "bin_end": 1.8,
            "count": 0
           },
           {
            "bin_start": 1.8,
            "bin_end": 1.9,
            "count": 0
           },
           {
            "bin_start": 1.9,
            "bin_end": 2,
            "count": 1
           }
          ]
         }
        },
        {
         "name": "elevator",
         "dtype": "object",
         "stats": {
          "unique_count": 2,
          "nan_count": 0,
          "categories": [
           {
            "name": "N",
            "count": 4
           },
           {
            "name": "J",
            "count": 1
           }
          ]
         }
        },
        {
         "name": "floor",
         "dtype": "float64",
         "stats": {
          "unique_count": 3,
          "nan_count": 1,
          "min": "1.0",
          "max": "6.0",
          "histogram": [
           {
            "bin_start": 1,
            "bin_end": 1.5,
            "count": 2
           },
           {
            "bin_start": 1.5,
            "bin_end": 2,
            "count": 0
           },
           {
            "bin_start": 2,
            "bin_end": 2.5,
            "count": 0
           },
           {
            "bin_start": 2.5,
            "bin_end": 3,
            "count": 0
           },
           {
            "bin_start": 3,
            "bin_end": 3.5,
            "count": 1
           },
           {
            "bin_start": 3.5,
            "bin_end": 4,
            "count": 0
           },
           {
            "bin_start": 4,
            "bin_end": 4.5,
            "count": 0
           },
           {
            "bin_start": 4.5,
            "bin_end": 5,
            "count": 0
           },
           {
            "bin_start": 5,
            "bin_end": 5.5,
            "count": 0
           },
           {
            "bin_start": 5.5,
            "bin_end": 6,
            "count": 1
           }
          ]
         }
        },
        {
         "name": "housingtype",
         "dtype": "object",
         "stats": {
          "unique_count": 2,
          "nan_count": 0,
          "categories": [
           {
            "name": "Leilighet",
            "count": 3
           },
           {
            "name": "Enebolig",
            "count": 2
           }
          ]
         }
        },
        {
         "name": "commondebt",
         "dtype": "float64",
         "stats": {
          "unique_count": 2,
          "nan_count": 3,
          "min": "18207.0",
          "max": "44838.0",
          "histogram": [
           {
            "bin_start": 18207,
            "bin_end": 20870.1,
            "count": 1
           },
           {
            "bin_start": 20870.1,
            "bin_end": 23533.2,
            "count": 0
           },
           {
            "bin_start": 23533.2,
            "bin_end": 26196.3,
            "count": 0
           },
           {
            "bin_start": 26196.3,
            "bin_end": 28859.4,
            "count": 0
           },
           {
            "bin_start": 28859.4,
            "bin_end": 31522.5,
            "count": 0
           },
           {
            "bin_start": 31522.5,
            "bin_end": 34185.6,
            "count": 0
           },
           {
            "bin_start": 34185.6,
            "bin_end": 36848.7,
            "count": 0
           },
           {
            "bin_start": 36848.7,
            "bin_end": 39511.8,
            "count": 0
           },
           {
            "bin_start": 39511.8,
            "bin_end": 42174.899999999994,
            "count": 0
           },
           {
            "bin_start": 42174.899999999994,
            "bin_end": 44838,
            "count": 1
           }
          ]
         }
        },
        {
         "name": "commoncosts",
         "dtype": "float64",
         "stats": {
          "unique_count": 3,
          "nan_count": 2,
          "min": "2866.0",
          "max": "3127.0",
          "histogram": [
           {
            "bin_start": 2866,
            "bin_end": 2892.1,
            "count": 1
           },
           {
            "bin_start": 2892.1,
            "bin_end": 2918.2,
            "count": 0
           },
           {
            "bin_start": 2918.2,
            "bin_end": 2944.3,
            "count": 0
           },
           {
            "bin_start": 2944.3,
            "bin_end": 2970.4,
            "count": 0
           },
           {
            "bin_start": 2970.4,
            "bin_end": 2996.5,
            "count": 0
           },
           {
            "bin_start": 2996.5,
            "bin_end": 3022.6,
            "count": 0
           },
           {
            "bin_start": 3022.6,
            "bin_end": 3048.7,
            "count": 0
           },
           {
            "bin_start": 3048.7,
            "bin_end": 3074.8,
            "count": 1
           },
           {
            "bin_start": 3074.8,
            "bin_end": 3100.9,
            "count": 0
           },
           {
            "bin_start": 3100.9,
            "bin_end": 3127,
            "count": 1
           }
          ]
         }
        },
        {
         "name": "F_Aircondition",
         "dtype": "float64",
         "stats": {
          "unique_count": 0,
          "nan_count": 5,
          "min": null,
          "max": null,
          "histogram": [
           {
            "bin_start": 0,
            "bin_end": 0.1,
            "count": 0
           },
           {
            "bin_start": 0.1,
            "bin_end": 0.2,
            "count": 0
           },
           {
            "bin_start": 0.2,
            "bin_end": 0.30000000000000004,
            "count": 0
           },
           {
            "bin_start": 0.30000000000000004,
            "bin_end": 0.4,
            "count": 0
           },
           {
            "bin_start": 0.4,
            "bin_end": 0.5,
            "count": 0
           },
           {
            "bin_start": 0.5,
            "bin_end": 0.6000000000000001,
            "count": 0
           },
           {
            "bin_start": 0.6000000000000001,
            "bin_end": 0.7000000000000001,
            "count": 0
           },
           {
            "bin_start": 0.7000000000000001,
            "bin_end": 0.8,
            "count": 0
           },
           {
            "bin_start": 0.8,
            "bin_end": 0.9,
            "count": 0
           },
           {
            "bin_start": 0.9,
            "bin_end": 1,
            "count": 0
           }
          ]
         }
        },
        {
         "name": "F_Alarm",
         "dtype": "float64",
         "stats": {
          "unique_count": 0,
          "nan_count": 5,
          "min": null,
          "max": null,
          "histogram": [
           {
            "bin_start": 0,
            "bin_end": 0.1,
            "count": 0
           },
           {
            "bin_start": 0.1,
            "bin_end": 0.2,
            "count": 0
           },
           {
            "bin_start": 0.2,
            "bin_end": 0.30000000000000004,
            "count": 0
           },
           {
            "bin_start": 0.30000000000000004,
            "bin_end": 0.4,
            "count": 0
           },
           {
            "bin_start": 0.4,
            "bin_end": 0.5,
            "count": 0
           },
           {
            "bin_start": 0.5,
            "bin_end": 0.6000000000000001,
            "count": 0
           },
           {
            "bin_start": 0.6000000000000001,
            "bin_end": 0.7000000000000001,
            "count": 0
           },
           {
            "bin_start": 0.7000000000000001,
            "bin_end": 0.8,
            "count": 0
           },
           {
            "bin_start": 0.8,
            "bin_end": 0.9,
            "count": 0
           },
           {
            "bin_start": 0.9,
            "bin_end": 1,
            "count": 0
           }
          ]
         }
        },
        {
         "name": "F_BalkongTerrasse",
         "dtype": "float64",
         "stats": {
          "unique_count": 1,
          "nan_count": 1,
          "min": "1.0",
          "max": "1.0",
          "histogram": [
           {
            "bin_start": 0.5,
            "bin_end": 0.6,
            "count": 0
           },
           {
            "bin_start": 0.6,
            "bin_end": 0.7,
            "count": 0
           },
           {
            "bin_start": 0.7,
            "bin_end": 0.8,
            "count": 0
           },
           {
            "bin_start": 0.8,
            "bin_end": 0.9,
            "count": 0
           },
           {
            "bin_start": 0.9,
            "bin_end": 1,
            "count": 0
           },
           {
            "bin_start": 1,
            "bin_end": 1.1,
            "count": 4
           },
           {
            "bin_start": 1.1,
            "bin_end": 1.2000000000000002,
            "count": 0
           },
           {
            "bin_start": 1.2000000000000002,
            "bin_end": 1.3,
            "count": 0
           },
           {
            "bin_start": 1.3,
            "bin_end": 1.4,
            "count": 0
           },
           {
            "bin_start": 1.4,
            "bin_end": 1.5,
            "count": 0
           }
          ]
         }
        },
        {
         "name": "F_Barnevennlig",
         "dtype": "float64",
         "stats": {
          "unique_count": 1,
          "nan_count": 1,
          "min": "1.0",
          "max": "1.0",
          "histogram": [
           {
            "bin_start": 0.5,
            "bin_end": 0.6,
            "count": 0
           },
           {
            "bin_start": 0.6,
            "bin_end": 0.7,
            "count": 0
           },
           {
            "bin_start": 0.7,
            "bin_end": 0.8,
            "count": 0
           },
           {
            "bin_start": 0.8,
            "bin_end": 0.9,
            "count": 0
           },
           {
            "bin_start": 0.9,
            "bin_end": 1,
            "count": 0
           },
           {
            "bin_start": 1,
            "bin_end": 1.1,
            "count": 4
           },
           {
            "bin_start": 1.1,
            "bin_end": 1.2000000000000002,
            "count": 0
           },
           {
            "bin_start": 1.2000000000000002,
            "bin_end": 1.3,
            "count": 0
           },
           {
            "bin_start": 1.3,
            "bin_end": 1.4,
            "count": 0
           },
           {
            "bin_start": 1.4,
            "bin_end": 1.5,
            "count": 0
           }
          ]
         }
        },
        {
         "name": "F_Bredbåndstilknytning",
         "dtype": "float64",
         "stats": {
          "unique_count": 1,
          "nan_count": 3,
          "min": "1.0",
          "max": "1.0",
          "histogram": [
           {
            "bin_start": 0.5,
            "bin_end": 0.6,
            "count": 0
           },
           {
            "bin_start": 0.6,
            "bin_end": 0.7,
            "count": 0
           },
           {
            "bin_start": 0.7,
            "bin_end": 0.8,
            "count": 0
           },
           {
            "bin_start": 0.8,
            "bin_end": 0.9,
            "count": 0
           },
           {
            "bin_start": 0.9,
            "bin_end": 1,
            "count": 0
           },
           {
            "bin_start": 1,
            "bin_end": 1.1,
            "count": 2
           },
           {
            "bin_start": 1.1,
            "bin_end": 1.2000000000000002,
            "count": 0
           },
           {
            "bin_start": 1.2000000000000002,
            "bin_end": 1.3,
            "count": 0
           },
           {
            "bin_start": 1.3,
            "bin_end": 1.4,
            "count": 0
           },
           {
            "bin_start": 1.4,
            "bin_end": 1.5,
            "count": 0
           }
          ]
         }
        },
        {
         "name": "F_Fellesvaskeri",
         "dtype": "float64",
         "stats": {
          "unique_count": 0,
          "nan_count": 5,
          "min": null,
          "max": null,
          "histogram": [
           {
            "bin_start": 0,
            "bin_end": 0.1,
            "count": 0
           },
           {
            "bin_start": 0.1,
            "bin_end": 0.2,
            "count": 0
           },
           {
            "bin_start": 0.2,
            "bin_end": 0.30000000000000004,
            "count": 0
           },
           {
            "bin_start": 0.30000000000000004,
            "bin_end": 0.4,
            "count": 0
           },
           {
            "bin_start": 0.4,
            "bin_end": 0.5,
            "count": 0
           },
           {
            "bin_start": 0.5,
            "bin_end": 0.6000000000000001,
            "count": 0
           },
           {
            "bin_start": 0.6000000000000001,
            "bin_end": 0.7000000000000001,
            "count": 0
           },
           {
            "bin_start": 0.7000000000000001,
            "bin_end": 0.8,
            "count": 0
           },
           {
            "bin_start": 0.8,
            "bin_end": 0.9,
            "count": 0
           },
           {
            "bin_start": 0.9,
            "bin_end": 1,
            "count": 0
           }
          ]
         }
        },
        {
         "name": "F_GarasjeP-plass",
         "dtype": "float64",
         "stats": {
          "unique_count": 1,
          "nan_count": 2,
          "min": "1.0",
          "max": "1.0",
          "histogram": [
           {
            "bin_start": 0.5,
            "bin_end": 0.6,
            "count": 0
           },
           {
            "bin_start": 0.6,
            "bin_end": 0.7,
            "count": 0
           },
           {
            "bin_start": 0.7,
            "bin_end": 0.8,
            "count": 0
           },
           {
            "bin_start": 0.8,
            "bin_end": 0.9,
            "count": 0
           },
           {
            "bin_start": 0.9,
            "bin_end": 1,
            "count": 0
           },
           {
            "bin_start": 1,
            "bin_end": 1.1,
            "count": 3
           },
           {
            "bin_start": 1.1,
            "bin_end": 1.2000000000000002,
            "count": 0
           },
           {
            "bin_start": 1.2000000000000002,
            "bin_end": 1.3,
            "count": 0
           },
           {
            "bin_start": 1.3,
            "bin_end": 1.4,
            "count": 0
           },
           {
            "bin_start": 1.4,
            "bin_end": 1.5,
            "count": 0
           }
          ]
         }
        },
        {
         "name": "F_Heis",
         "dtype": "float64",
         "stats": {
          "unique_count": 1,
          "nan_count": 4,
          "min": "1.0",
          "max": "1.0",
          "histogram": [
           {
            "bin_start": 0.5,
            "bin_end": 0.6,
            "count": 0
           },
           {
            "bin_start": 0.6,
            "bin_end": 0.7,
            "count": 0
           },
           {
            "bin_start": 0.7,
            "bin_end": 0.8,
            "count": 0
           },
           {
            "bin_start": 0.8,
            "bin_end": 0.9,
            "count": 0
           },
           {
            "bin_start": 0.9,
            "bin_end": 1,
            "count": 0
           },
           {
            "bin_start": 1,
            "bin_end": 1.1,
            "count": 1
           },
           {
            "bin_start": 1.1,
            "bin_end": 1.2000000000000002,
            "count": 0
           },
           {
            "bin_start": 1.2000000000000002,
            "bin_end": 1.3,
            "count": 0
           },
           {
            "bin_start": 1.3,
            "bin_end": 1.4,
            "count": 0
           },
           {
            "bin_start": 1.4,
            "bin_end": 1.5,
            "count": 0
           }
          ]
         }
        },
        {
         "name": "F_Ingen gjenboere",
         "dtype": "float64",
         "stats": {
          "unique_count": 1,
          "nan_count": 2,
          "min": "1.0",
          "max": "1.0",
          "histogram": [
           {
            "bin_start": 0.5,
            "bin_end": 0.6,
            "count": 0
           },
           {
            "bin_start": 0.6,
            "bin_end": 0.7,
            "count": 0
           },
           {
            "bin_start": 0.7,
            "bin_end": 0.8,
            "count": 0
           },
           {
            "bin_start": 0.8,
            "bin_end": 0.9,
            "count": 0
           },
           {
            "bin_start": 0.9,
            "bin_end": 1,
            "count": 0
           },
           {
            "bin_start": 1,
            "bin_end": 1.1,
            "count": 3
           },
           {
            "bin_start": 1.1,
            "bin_end": 1.2000000000000002,
            "count": 0
           },
           {
            "bin_start": 1.2000000000000002,
            "bin_end": 1.3,
            "count": 0
           },
           {
            "bin_start": 1.3,
            "bin_end": 1.4,
            "count": 0
           },
           {
            "bin_start": 1.4,
            "bin_end": 1.5,
            "count": 0
           }
          ]
         }
        },
        {
         "name": "F_Lademulighet",
         "dtype": "float64",
         "stats": {
          "unique_count": 0,
          "nan_count": 5,
          "min": null,
          "max": null,
          "histogram": [
           {
            "bin_start": 0,
            "bin_end": 0.1,
            "count": 0
           },
           {
            "bin_start": 0.1,
            "bin_end": 0.2,
            "count": 0
           },
           {
            "bin_start": 0.2,
            "bin_end": 0.30000000000000004,
            "count": 0
           },
           {
            "bin_start": 0.30000000000000004,
            "bin_end": 0.4,
            "count": 0
           },
           {
            "bin_start": 0.4,
            "bin_end": 0.5,
            "count": 0
           },
           {
            "bin_start": 0.5,
            "bin_end": 0.6000000000000001,
            "count": 0
           },
           {
            "bin_start": 0.6000000000000001,
            "bin_end": 0.7000000000000001,
            "count": 0
           },
           {
            "bin_start": 0.7000000000000001,
            "bin_end": 0.8,
            "count": 0
           },
           {
            "bin_start": 0.8,
            "bin_end": 0.9,
            "count": 0
           },
           {
            "bin_start": 0.9,
            "bin_end": 1,
            "count": 0
           }
          ]
         }
        },
        {
         "name": "F_Livsløpsstandard",
         "dtype": "float64",
         "stats": {
          "unique_count": 0,
          "nan_count": 5,
          "min": null,
          "max": null,
          "histogram": [
           {
            "bin_start": 0,
            "bin_end": 0.1,
            "count": 0
           },
           {
            "bin_start": 0.1,
            "bin_end": 0.2,
            "count": 0
           },
           {
            "bin_start": 0.2,
            "bin_end": 0.30000000000000004,
            "count": 0
           },
           {
            "bin_start": 0.30000000000000004,
            "bin_end": 0.4,
            "count": 0
           },
           {
            "bin_start": 0.4,
            "bin_end": 0.5,
            "count": 0
           },
           {
            "bin_start": 0.5,
            "bin_end": 0.6000000000000001,
            "count": 0
           },
           {
            "bin_start": 0.6000000000000001,
            "bin_end": 0.7000000000000001,
            "count": 0
           },
           {
            "bin_start": 0.7000000000000001,
            "bin_end": 0.8,
            "count": 0
           },
           {
            "bin_start": 0.8,
            "bin_end": 0.9,
            "count": 0
           },
           {
            "bin_start": 0.9,
            "bin_end": 1,
            "count": 0
           }
          ]
         }
        },
        {
         "name": "F_Moderne",
         "dtype": "float64",
         "stats": {
          "unique_count": 1,
          "nan_count": 4,
          "min": "1.0",
          "max": "1.0",
          "histogram": [
           {
            "bin_start": 0.5,
            "bin_end": 0.6,
            "count": 0
           },
           {
            "bin_start": 0.6,
            "bin_end": 0.7,
            "count": 0
           },
           {
            "bin_start": 0.7,
            "bin_end": 0.8,
            "count": 0
           },
           {
            "bin_start": 0.8,
            "bin_end": 0.9,
            "count": 0
           },
           {
            "bin_start": 0.9,
            "bin_end": 1,
            "count": 0
           },
           {
            "bin_start": 1,
            "bin_end": 1.1,
            "count": 1
           },
           {
            "bin_start": 1.1,
            "bin_end": 1.2000000000000002,
            "count": 0
           },
           {
            "bin_start": 1.2000000000000002,
            "bin_end": 1.3,
            "count": 0
           },
           {
            "bin_start": 1.3,
            "bin_end": 1.4,
            "count": 0
           },
           {
            "bin_start": 1.4,
            "bin_end": 1.5,
            "count": 0
           }
          ]
         }
        },
        {
         "name": "F_Offentlig vannkloakk",
         "dtype": "float64",
         "stats": {
          "unique_count": 1,
          "nan_count": 2,
          "min": "1.0",
          "max": "1.0",
          "histogram": [
           {
            "bin_start": 0.5,
            "bin_end": 0.6,
            "count": 0
           },
           {
            "bin_start": 0.6,
            "bin_end": 0.7,
            "count": 0
           },
           {
            "bin_start": 0.7,
            "bin_end": 0.8,
            "count": 0
           },
           {
            "bin_start": 0.8,
            "bin_end": 0.9,
            "count": 0
           },
           {
            "bin_start": 0.9,
            "bin_end": 1,
            "count": 0
           },
           {
            "bin_start": 1,
            "bin_end": 1.1,
            "count": 3
           },
           {
            "bin_start": 1.1,
            "bin_end": 1.2000000000000002,
            "count": 0
           },
           {
            "bin_start": 1.2000000000000002,
            "bin_end": 1.3,
            "count": 0
           },
           {
            "bin_start": 1.3,
            "bin_end": 1.4,
            "count": 0
           },
           {
            "bin_start": 1.4,
            "bin_end": 1.5,
            "count": 0
           }
          ]
         }
        },
        {
         "name": "F_Parkett",
         "dtype": "float64",
         "stats": {
          "unique_count": 1,
          "nan_count": 3,
          "min": "1.0",
          "max": "1.0",
          "histogram": [
           {
            "bin_start": 0.5,
            "bin_end": 0.6,
            "count": 0
           },
           {
            "bin_start": 0.6,
            "bin_end": 0.7,
            "count": 0
           },
           {
            "bin_start": 0.7,
            "bin_end": 0.8,
            "count": 0
           },
           {
            "bin_start": 0.8,
            "bin_end": 0.9,
            "count": 0
           },
           {
            "bin_start": 0.9,
            "bin_end": 1,
            "count": 0
           },
           {
            "bin_start": 1,
            "bin_end": 1.1,
            "count": 2
           },
           {
            "bin_start": 1.1,
            "bin_end": 1.2000000000000002,
            "count": 0
           },
           {
            "bin_start": 1.2000000000000002,
            "bin_end": 1.3,
            "count": 0
           },
           {
            "bin_start": 1.3,
            "bin_end": 1.4,
            "count": 0
           },
           {
            "bin_start": 1.4,
            "bin_end": 1.5,
            "count": 0
           }
          ]
         }
        },
        {
         "name": "F_PeisIldsted",
         "dtype": "float64",
         "stats": {
          "unique_count": 1,
          "nan_count": 4,
          "min": "1.0",
          "max": "1.0",
          "histogram": [
           {
            "bin_start": 0.5,
            "bin_end": 0.6,
            "count": 0
           },
           {
            "bin_start": 0.6,
            "bin_end": 0.7,
            "count": 0
           },
           {
            "bin_start": 0.7,
            "bin_end": 0.8,
            "count": 0
           },
           {
            "bin_start": 0.8,
            "bin_end": 0.9,
            "count": 0
           },
           {
            "bin_start": 0.9,
            "bin_end": 1,
            "count": 0
           },
           {
            "bin_start": 1,
            "bin_end": 1.1,
            "count": 1
           },
           {
            "bin_start": 1.1,
            "bin_end": 1.2000000000000002,
            "count": 0
           },
           {
            "bin_start": 1.2000000000000002,
            "bin_end": 1.3,
            "count": 0
           },
           {
            "bin_start": 1.3,
            "bin_end": 1.4,
            "count": 0
           },
           {
            "bin_start": 1.4,
            "bin_end": 1.5,
            "count": 0
           }
          ]
         }
        },
        {
         "name": "F_Rolig",
         "dtype": "float64",
         "stats": {
          "unique_count": 1,
          "nan_count": 1,
          "min": "1.0",
          "max": "1.0",
          "histogram": [
           {
            "bin_start": 0.5,
            "bin_end": 0.6,
            "count": 0
           },
           {
            "bin_start": 0.6,
            "bin_end": 0.7,
            "count": 0
           },
           {
            "bin_start": 0.7,
            "bin_end": 0.8,
            "count": 0
           },
           {
            "bin_start": 0.8,
            "bin_end": 0.9,
            "count": 0
           },
           {
            "bin_start": 0.9,
            "bin_end": 1,
            "count": 0
           },
           {
            "bin_start": 1,
            "bin_end": 1.1,
            "count": 4
           },
           {
            "bin_start": 1.1,
            "bin_end": 1.2000000000000002,
            "count": 0
           },
           {
            "bin_start": 1.2000000000000002,
            "bin_end": 1.3,
            "count": 0
           },
           {
            "bin_start": 1.3,
            "bin_end": 1.4,
            "count": 0
           },
           {
            "bin_start": 1.4,
            "bin_end": 1.5,
            "count": 0
           }
          ]
         }
        },
        {
         "name": "F_Sentralt",
         "dtype": "float64",
         "stats": {
          "unique_count": 1,
          "nan_count": 3,
          "min": "1.0",
          "max": "1.0",
          "histogram": [
           {
            "bin_start": 0.5,
            "bin_end": 0.6,
            "count": 0
           },
           {
            "bin_start": 0.6,
            "bin_end": 0.7,
            "count": 0
           },
           {
            "bin_start": 0.7,
            "bin_end": 0.8,
            "count": 0
           },
           {
            "bin_start": 0.8,
            "bin_end": 0.9,
            "count": 0
           },
           {
            "bin_start": 0.9,
            "bin_end": 1,
            "count": 0
           },
           {
            "bin_start": 1,
            "bin_end": 1.1,
            "count": 2
           },
           {
            "bin_start": 1.1,
            "bin_end": 1.2000000000000002,
            "count": 0
           },
           {
            "bin_start": 1.2000000000000002,
            "bin_end": 1.3,
            "count": 0
           },
           {
            "bin_start": 1.3,
            "bin_end": 1.4,
            "count": 0
           },
           {
            "bin_start": 1.4,
            "bin_end": 1.5,
            "count": 0
           }
          ]
         }
        },
        {
         "name": "F_Utsikt",
         "dtype": "float64",
         "stats": {
          "unique_count": 1,
          "nan_count": 3,
          "min": "1.0",
          "max": "1.0",
          "histogram": [
           {
            "bin_start": 0.5,
            "bin_end": 0.6,
            "count": 0
           },
           {
            "bin_start": 0.6,
            "bin_end": 0.7,
            "count": 0
           },
           {
            "bin_start": 0.7,
            "bin_end": 0.8,
            "count": 0
           },
           {
            "bin_start": 0.8,
            "bin_end": 0.9,
            "count": 0
           },
           {
            "bin_start": 0.9,
            "bin_end": 1,
            "count": 0
           },
           {
            "bin_start": 1,
            "bin_end": 1.1,
            "count": 2
           },
           {
            "bin_start": 1.1,
            "bin_end": 1.2000000000000002,
            "count": 0
           },
           {
            "bin_start": 1.2000000000000002,
            "bin_end": 1.3,
            "count": 0
           },
           {
            "bin_start": 1.3,
            "bin_end": 1.4,
            "count": 0
           },
           {
            "bin_start": 1.4,
            "bin_end": 1.5,
            "count": 0
           }
          ]
         }
        },
        {
         "name": "F_Vaktmester-vektertjeneste",
         "dtype": "float64",
         "stats": {
          "unique_count": 1,
          "nan_count": 2,
          "min": "1.0",
          "max": "1.0",
          "histogram": [
           {
            "bin_start": 0.5,
            "bin_end": 0.6,
            "count": 0
           },
           {
            "bin_start": 0.6,
            "bin_end": 0.7,
            "count": 0
           },
           {
            "bin_start": 0.7,
            "bin_end": 0.8,
            "count": 0
           },
           {
            "bin_start": 0.8,
            "bin_end": 0.9,
            "count": 0
           },
           {
            "bin_start": 0.9,
            "bin_end": 1,
            "count": 0
           },
           {
            "bin_start": 1,
            "bin_end": 1.1,
            "count": 3
           },
           {
            "bin_start": 1.1,
            "bin_end": 1.2000000000000002,
            "count": 0
           },
           {
            "bin_start": 1.2000000000000002,
            "bin_end": 1.3,
            "count": 0
           },
           {
            "bin_start": 1.3,
            "bin_end": 1.4,
            "count": 0
           },
           {
            "bin_start": 1.4,
            "bin_end": 1.5,
            "count": 0
           }
          ]
         }
        },
        {
         "name": "F_Bademulighet",
         "dtype": "float64",
         "stats": {
          "unique_count": 0,
          "nan_count": 5,
          "min": null,
          "max": null,
          "histogram": [
           {
            "bin_start": 0,
            "bin_end": 0.1,
            "count": 0
           },
           {
            "bin_start": 0.1,
            "bin_end": 0.2,
            "count": 0
           },
           {
            "bin_start": 0.2,
            "bin_end": 0.30000000000000004,
            "count": 0
           },
           {
            "bin_start": 0.30000000000000004,
            "bin_end": 0.4,
            "count": 0
           },
           {
            "bin_start": 0.4,
            "bin_end": 0.5,
            "count": 0
           },
           {
            "bin_start": 0.5,
            "bin_end": 0.6000000000000001,
            "count": 0
           },
           {
            "bin_start": 0.6000000000000001,
            "bin_end": 0.7000000000000001,
            "count": 0
           },
           {
            "bin_start": 0.7000000000000001,
            "bin_end": 0.8,
            "count": 0
           },
           {
            "bin_start": 0.8,
            "bin_end": 0.9,
            "count": 0
           },
           {
            "bin_start": 0.9,
            "bin_end": 1,
            "count": 0
           }
          ]
         }
        },
        {
         "name": "F_Fiskemulighet",
         "dtype": "float64",
         "stats": {
          "unique_count": 0,
          "nan_count": 5,
          "min": null,
          "max": null,
          "histogram": [
           {
            "bin_start": 0,
            "bin_end": 0.1,
            "count": 0
           },
           {
            "bin_start": 0.1,
            "bin_end": 0.2,
            "count": 0
           },
           {
            "bin_start": 0.2,
            "bin_end": 0.30000000000000004,
            "count": 0
           },
           {
            "bin_start": 0.30000000000000004,
            "bin_end": 0.4,
            "count": 0
           },
           {
            "bin_start": 0.4,
            "bin_end": 0.5,
            "count": 0
           },
           {
            "bin_start": 0.5,
            "bin_end": 0.6000000000000001,
            "count": 0
           },
           {
            "bin_start": 0.6000000000000001,
            "bin_end": 0.7000000000000001,
            "count": 0
           },
           {
            "bin_start": 0.7000000000000001,
            "bin_end": 0.8,
            "count": 0
           },
           {
            "bin_start": 0.8,
            "bin_end": 0.9,
            "count": 0
           },
           {
            "bin_start": 0.9,
            "bin_end": 1,
            "count": 0
           }
          ]
         }
        },
        {
         "name": "F_Turterreng",
         "dtype": "float64",
         "stats": {
          "unique_count": 1,
          "nan_count": 3,
          "min": "1.0",
          "max": "1.0",
          "histogram": [
           {
            "bin_start": 0.5,
            "bin_end": 0.6,
            "count": 0
           },
           {
            "bin_start": 0.6,
            "bin_end": 0.7,
            "count": 0
           },
           {
            "bin_start": 0.7,
            "bin_end": 0.8,
            "count": 0
           },
           {
            "bin_start": 0.8,
            "bin_end": 0.9,
            "count": 0
           },
           {
            "bin_start": 0.9,
            "bin_end": 1,
            "count": 0
           },
           {
            "bin_start": 1,
            "bin_end": 1.1,
            "count": 2
           },
           {
            "bin_start": 1.1,
            "bin_end": 1.2000000000000002,
            "count": 0
           },
           {
            "bin_start": 1.2000000000000002,
            "bin_end": 1.3,
            "count": 0
           },
           {
            "bin_start": 1.3,
            "bin_end": 1.4,
            "count": 0
           },
           {
            "bin_start": 1.4,
            "bin_end": 1.5,
            "count": 0
           }
          ]
         }
        },
        {
         "name": "adtitle",
         "dtype": "object",
         "stats": {
          "unique_count": 5,
          "nan_count": 0,
          "categories": [
           {
            "name": "Oppussingsobjekt - Enebolig i kjede med skjermet beliggenhet - Vestvendt uteplass - Barnevennlig - 4 soverom - Peis",
            "count": 1
           },
           {
            "name": "GAMLE FURUSET - Velholdt og romslig enebolig med sokkelleilighet - Dobbeltgarasje - Tomt på 1.140m2 - Meget barnevennlig",
            "count": 1
           },
           {
            "name": "3 others",
            "count": 3
           }
          ]
         }
        },
        {
         "name": "N_modernisering",
         "dtype": "bool",
         "stats": {
          "unique_count": 1,
          "nan_count": 0,
          "categories": [
           {
            "name": "False",
            "count": 5
           }
          ]
         }
        },
        {
         "name": "N_oppussing",
         "dtype": "bool",
         "stats": {
          "unique_count": 2,
          "nan_count": 0,
          "categories": [
           {
            "name": "False",
            "count": 4
           },
           {
            "name": "True",
            "count": 1
           }
          ]
         }
        },
        {
         "name": "N_regulert",
         "dtype": "bool",
         "stats": {
          "unique_count": 1,
          "nan_count": 0,
          "categories": [
           {
            "name": "False",
            "count": 5
           }
          ]
         }
        },
        {
         "name": "N_garasjemulighet",
         "dtype": "bool",
         "stats": {
          "unique_count": 1,
          "nan_count": 0,
          "categories": [
           {
            "name": "False",
            "count": 5
           }
          ]
         }
        },
        {
         "name": "postcode",
         "dtype": "int64",
         "stats": {
          "unique_count": 5,
          "nan_count": 0,
          "min": "283",
          "max": "1184",
          "histogram": [
           {
            "bin_start": 283,
            "bin_end": 373.1,
            "count": 1
           },
           {
            "bin_start": 373.1,
            "bin_end": 463.2,
            "count": 0
           },
           {
            "bin_start": 463.2,
            "bin_end": 553.3,
            "count": 0
           },
           {
            "bin_start": 553.3,
            "bin_end": 643.4,
            "count": 0
           },
           {
            "bin_start": 643.4,
            "bin_end": 733.5,
            "count": 1
           },
           {
            "bin_start": 733.5,
            "bin_end": 823.5999999999999,
            "count": 0
           },
           {
            "bin_start": 823.5999999999999,
            "bin_end": 913.6999999999999,
            "count": 0
           },
           {
            "bin_start": 913.6999999999999,
            "bin_end": 1003.8,
            "count": 0
           },
           {
            "bin_start": 1003.8,
            "bin_end": 1093.9,
            "count": 1
           },
           {
            "bin_start": 1093.9,
            "bin_end": 1184,
            "count": 2
           }
          ]
         }
        },
        {
         "name": "Parking",
         "dtype": "int64",
         "stats": {
          "unique_count": 2,
          "nan_count": 0,
          "min": "0",
          "max": "1",
          "histogram": [
           {
            "bin_start": 0,
            "bin_end": 0.1,
            "count": 2
           },
           {
            "bin_start": 0.1,
            "bin_end": 0.2,
            "count": 0
           },
           {
            "bin_start": 0.2,
            "bin_end": 0.30000000000000004,
            "count": 0
           },
           {
            "bin_start": 0.30000000000000004,
            "bin_end": 0.4,
            "count": 0
           },
           {
            "bin_start": 0.4,
            "bin_end": 0.5,
            "count": 0
           },
           {
            "bin_start": 0.5,
            "bin_end": 0.6000000000000001,
            "count": 0
           },
           {
            "bin_start": 0.6000000000000001,
            "bin_end": 0.7000000000000001,
            "count": 0
           },
           {
            "bin_start": 0.7000000000000001,
            "bin_end": 0.8,
            "count": 0
           },
           {
            "bin_start": 0.8,
            "bin_end": 0.9,
            "count": 0
           },
           {
            "bin_start": 0.9,
            "bin_end": 1,
            "count": 3
           }
          ]
         }
        },
        {
         "name": "price_inc_debt",
         "dtype": "float64",
         "stats": {
          "unique_count": 5,
          "nan_count": 0,
          "min": "1678207.0",
          "max": "9900000.0",
          "histogram": [
           {
            "bin_start": 1678207,
            "bin_end": 2500386.3,
            "count": 1
           },
           {
            "bin_start": 2500386.3,
            "bin_end": 3322565.6,
            "count": 0
           },
           {
            "bin_start": 3322565.6,
            "bin_end": 4144744.9000000004,
            "count": 1
           },
           {
            "bin_start": 4144744.9000000004,
            "bin_end": 4966924.2,
            "count": 0
           },
           {
            "bin_start": 4966924.2,
            "bin_end": 5789103.5,
            "count": 2
           },
           {
            "bin_start": 5789103.5,
            "bin_end": 6611282.800000001,
            "count": 0
           },
           {
            "bin_start": 6611282.800000001,
            "bin_end": 7433462.100000001,
            "count": 0
           },
           {
            "bin_start": 7433462.100000001,
            "bin_end": 8255641.4,
            "count": 0
           },
           {
            "bin_start": 8255641.4,
            "bin_end": 9077820.7,
            "count": 0
           },
           {
            "bin_start": 9077820.7,
            "bin_end": 9900000,
            "count": 1
           }
          ]
         }
        },
        {
         "name": "area_id",
         "dtype": "int64",
         "stats": {
          "unique_count": 4,
          "nan_count": 0,
          "min": "1",
          "max": "14",
          "histogram": [
           {
            "bin_start": 1,
            "bin_end": 2.3,
            "count": 1
           },
           {
            "bin_start": 2.3,
            "bin_end": 3.6,
            "count": 0
           },
           {
            "bin_start": 3.6,
            "bin_end": 4.9,
            "count": 0
           },
           {
            "bin_start": 4.9,
            "bin_end": 6.2,
            "count": 1
           },
           {
            "bin_start": 6.2,
            "bin_end": 7.5,
            "count": 0
           },
           {
            "bin_start": 7.5,
            "bin_end": 8.8,
            "count": 0
           },
           {
            "bin_start": 8.8,
            "bin_end": 10.1,
            "count": 0
           },
           {
            "bin_start": 10.1,
            "bin_end": 11.4,
            "count": 0
           },
           {
            "bin_start": 11.4,
            "bin_end": 12.700000000000001,
            "count": 1
           },
           {
            "bin_start": 12.700000000000001,
            "bin_end": 14,
            "count": 2
           }
          ]
         }
        },
        {
         "name": "_deepnote_index_column",
         "dtype": "int64"
        }
       ],
       "rows": [
        {
         "documentDate": "2021-12-02",
         "picturedate": "2021/8",
         "lastchanged": "2021-08-01",
         "adcreated": "2021-07-27",
         "price": 9900000,
         "listprice": 8750000,
         "lat": 59.879,
         "lng": 10.7993,
         "address": "Ringshusveien 8B, 1176 Oslo",
         "apartmentnumber": "H0101",
         "apartmenttype": "B",
         "conveyancetype": "Fritt salg",
         "finncode": 226217549,
         "BRA": 126,
         "PROM": 115,
         "buildyear": 1970,
         "matrikkel": "301-158-751-0",
         "bedrooms": 4,
         "rooms": 5,
         "bathrooms": 1,
         "WC": 2,
         "elevator": "N",
         "floor": 1,
         "housingtype": "Enebolig",
         "commondebt": "nan",
         "commoncosts": "nan",
         "F_Aircondition": "nan",
         "F_Alarm": "nan",
         "F_BalkongTerrasse": 1,
         "F_Barnevennlig": 1,
         "F_Bredbåndstilknytning": "nan",
         "F_Fellesvaskeri": "nan",
         "F_GarasjeP-plass": 1,
         "F_Heis": "nan",
         "F_Ingen gjenboere": "nan",
         "F_Lademulighet": "nan",
         "F_Livsløpsstandard": "nan",
         "F_Moderne": "nan",
         "F_Offentlig vannkloakk": "nan",
         "F_Parkett": "nan",
         "F_PeisIldsted": 1,
         "F_Rolig": 1,
         "F_Sentralt": "nan",
         "F_Utsikt": "nan",
         "F_Vaktmester-vektertjeneste": "nan",
         "F_Bademulighet": "nan",
         "F_Fiskemulighet": "nan",
         "F_Turterreng": 1,
         "adtitle": "Oppussingsobjekt - Enebolig i kjede med skjermet beliggenhet - Vestvendt uteplass - Barnevennlig - …",
         "N_modernisering": false,
         "N_oppussing": true,
         "N_regulert": false,
         "N_garasjemulighet": false,
         "postcode": 1176,
         "Parking": 1,
         "price_inc_debt": 9900000,
         "area_id": 14,
         "_deepnote_index_column": 2
        },
        {
         "documentDate": "2012-10-24",
         "picturedate": "2012/6",
         "lastchanged": "2012-06-15",
         "adcreated": "2012-06-01",
         "price": 5760000,
         "listprice": 5490000,
         "lat": 59.944653,
         "lng": 10.888134,
         "address": "Micheletveien 20, 1053 Oslo",
         "apartmentnumber": "U0102",
         "apartmenttype": "B",
         "conveyancetype": "Fritt salg",
         "finncode": 35251134,
         "BRA": 249,
         "PROM": 242,
         "buildyear": 1977,
         "matrikkel": "301-105-334-0",
         "bedrooms": 5,
         "rooms": 10,
         "bathrooms": 1,
         "WC": 1,
         "elevator": "N",
         "floor": "nan",
         "housingtype": "Enebolig",
         "commondebt": "nan",
         "commoncosts": "nan",
         "F_Aircondition": "nan",
         "F_Alarm": "nan",
         "F_BalkongTerrasse": "nan",
         "F_Barnevennlig": "nan",
         "F_Bredbåndstilknytning": "nan",
         "F_Fellesvaskeri": "nan",
         "F_GarasjeP-plass": "nan",
         "F_Heis": "nan",
         "F_Ingen gjenboere": "nan",
         "F_Lademulighet": "nan",
         "F_Livsløpsstandard": "nan",
         "F_Moderne": "nan",
         "F_Offentlig vannkloakk": "nan",
         "F_Parkett": "nan",
         "F_PeisIldsted": "nan",
         "F_Rolig": "nan",
         "F_Sentralt": "nan",
         "F_Utsikt": "nan",
         "F_Vaktmester-vektertjeneste": "nan",
         "F_Bademulighet": "nan",
         "F_Fiskemulighet": "nan",
         "F_Turterreng": "nan",
         "adtitle": "GAMLE FURUSET - Velholdt og romslig enebolig med sokkelleilighet - Dobbeltgarasje - Tomt på 1.140m2…",
         "N_modernisering": false,
         "N_oppussing": false,
         "N_regulert": false,
         "N_garasjemulighet": false,
         "postcode": 1053,
         "Parking": 0,
         "price_inc_debt": 5760000,
         "area_id": 12,
         "_deepnote_index_column": 4
        },
        {
         "documentDate": "2020-09-25",
         "picturedate": "2020/7",
         "lastchanged": "2020-08-07",
         "adcreated": "2020-08-03",
         "price": 5150000,
         "listprice": 4650000,
         "lat": 59.91303,
         "lng": 10.776672,
         "address": "Hagegata 41, 0653 Oslo",
         "apartmentnumber": "H0703",
         "apartmenttype": "B",
         "conveyancetype": "Fritt salg",
         "finncode": 186196629,
         "BRA": 55,
         "PROM": 54,
         "buildyear": 1990,
         "matrikkel": "301-231-166-37",
         "bedrooms": 1,
         "rooms": "nan",
         "bathrooms": 1,
         "WC": 1,
         "elevator": "J",
         "floor": 6,
         "housingtype": "Leilighet",
         "commondebt": "nan",
         "commoncosts": 3127,
         "F_Aircondition": "nan",
         "F_Alarm": "nan",
         "F_BalkongTerrasse": 1,
         "F_Barnevennlig": 1,
         "F_Bredbåndstilknytning": 1,
         "F_Fellesvaskeri": "nan",
         "F_GarasjeP-plass": 1,
         "F_Heis": 1,
         "F_Ingen gjenboere": 1,
         "F_Lademulighet": "nan",
         "F_Livsløpsstandard": "nan",
         "F_Moderne": 1,
         "F_Offentlig vannkloakk": 1,
         "F_Parkett": "nan",
         "F_PeisIldsted": "nan",
         "F_Rolig": 1,
         "F_Sentralt": 1,
         "F_Utsikt": 1,
         "F_Vaktmester-vektertjeneste": 1,
         "F_Bademulighet": "nan",
         "F_Fiskemulighet": "nan",
         "F_Turterreng": "nan",
         "adtitle": "VISNING AVLYST! Direkte bud til selger. Toppleilighet med stor, solrik takterrasse (14 kvm) - Ingen…",
         "N_modernisering": false,
         "N_oppussing": false,
         "N_regulert": false,
         "N_garasjemulighet": false,
         "postcode": 653,
         "Parking": 1,
         "price_inc_debt": 5150000,
         "area_id": 1,
         "_deepnote_index_column": 0
        },
        {
         "documentDate": "2020-09-29",
         "picturedate": "2020/8",
         "lastchanged": "2020-12-14",
         "adcreated": "2020-08-25",
         "price": 3900000,
         "listprice": 3650000,
         "lat": 59.9189,
         "lng": 10.6479,
         "address": "Skogbrynet 16D, 0283 Oslo",
         "apartmentnumber": "U0101",
         "apartmenttype": "B",
         "conveyancetype": "Fritt salg",
         "finncode": 188594072,
         "BRA": 56,
         "PROM": 56,
         "buildyear": 1977,
         "matrikkel": "301-9-38-14",
         "bedrooms": 1,
         "rooms": 2,
         "bathrooms": 1,
         "WC": 1,
         "elevator": "N",
         "floor": 1,
         "housingtype": "Leilighet",
         "commondebt": 44838,
         "commoncosts": 3062,
         "F_Aircondition": "nan",
         "F_Alarm": "nan",
         "F_BalkongTerrasse": 1,
         "F_Barnevennlig": 1,
         "F_Bredbåndstilknytning": 1,
         "F_Fellesvaskeri": "nan",
         "F_GarasjeP-plass": 1,
         "F_Heis": "nan",
         "F_Ingen gjenboere": 1,
         "F_Lademulighet": "nan",
         "F_Livsløpsstandard": "nan",
         "F_Moderne": "nan",
         "F_Offentlig vannkloakk": 1,
         "F_Parkett": 1,
         "F_PeisIldsted": "nan",
         "F_Rolig": 1,
         "F_Sentralt": 1,
         "F_Utsikt": "nan",
         "F_Vaktmester-vektertjeneste": 1,
         "F_Bademulighet": "nan",
         "F_Fiskemulighet": "nan",
         "F_Turterreng": 1,
         "adtitle": "Innbydende og lys 2-roms hjørneleilighet - Vestvendt terrasse mot hage - Parkeringsplass - Rekkehus…",
         "N_modernisering": false,
         "N_oppussing": false,
         "N_regulert": false,
         "N_garasjemulighet": false,
         "postcode": 283,
         "Parking": 1,
         "price_inc_debt": 3944838,
         "area_id": 6,
         "_deepnote_index_column": 1
        },
        {
         "documentDate": "2009-11-12",
         "picturedate": "4/186",
         "lastchanged": "2009-09-05",
         "adcreated": "2009-08-24",
         "price": 1660000,
         "listprice": 1680000,
         "lat": 59.88769,
         "lng": 10.802634,
         "address": "Libakkfaret 1 A, 1184 Oslo",
         "apartmentnumber": "H0302",
         "apartmenttype": "B",
         "conveyancetype": "Fritt salg",
         "finncode": 18679054,
         "BRA": "nan",
         "PROM": 66,
         "buildyear": 1954,
         "matrikkel": "301-149-433-102",
         "bedrooms": 2,
         "rooms": "nan",
         "bathrooms": 1,
         "WC": 1,
         "elevator": "N",
         "floor": 3,
         "housingtype": "Leilighet",
         "commondebt": 18207,
         "commoncosts": 2866,
         "F_Aircondition": "nan",
         "F_Alarm": "nan",
         "F_BalkongTerrasse": 1,
         "F_Barnevennlig": 1,
         "F_Bredbåndstilknytning": "nan",
         "F_Fellesvaskeri": "nan",
         "F_GarasjeP-plass": "nan",
         "F_Heis": "nan",
         "F_Ingen gjenboere": 1,
         "F_Lademulighet": "nan",
         "F_Livsløpsstandard": "nan",
         "F_Moderne": "nan",
         "F_Offentlig vannkloakk": 1,
         "F_Parkett": 1,
         "F_PeisIldsted": "nan",
         "F_Rolig": 1,
         "F_Sentralt": "nan",
         "F_Utsikt": 1,
         "F_Vaktmester-vektertjeneste": 1,
         "F_Bademulighet": "nan",
         "F_Fiskemulighet": "nan",
         "F_Turterreng": "nan",
         "adtitle": "BRATTLIKOLLEN - Lys og gjennomgående 3-roms selveier - Endeleilighet - Balkong - Sentralt - Ingen f…",
         "N_modernisering": false,
         "N_oppussing": false,
         "N_regulert": false,
         "N_garasjemulighet": false,
         "postcode": 1184,
         "Parking": 0,
         "price_inc_debt": 1678207,
         "area_id": 14,
         "_deepnote_index_column": 3
        }
       ]
      },
      "text/plain": "  documentDate picturedate lastchanged   adcreated    price  listprice  \\\n0   2020-09-25      2020/7  2020-08-07  2020-08-03  5150000  4650000.0   \n1   2020-09-29      2020/8  2020-12-14  2020-08-25  3900000  3650000.0   \n2   2021-12-02      2021/8  2021-08-01  2021-07-27  9900000  8750000.0   \n3   2009-11-12       4/186  2009-09-05  2009-08-24  1660000  1680000.0   \n4   2012-10-24      2012/6  2012-06-15  2012-06-01  5760000  5490000.0   \n\n         lat        lng                      address apartmentnumber  ...  \\\n0  59.913030  10.776672       Hagegata 41, 0653 Oslo           H0703  ...   \n1  59.918900  10.647900    Skogbrynet 16D, 0283 Oslo           U0101  ...   \n2  59.879000  10.799300  Ringshusveien 8B, 1176 Oslo           H0101  ...   \n3  59.887690  10.802634   Libakkfaret 1 A, 1184 Oslo           H0302  ...   \n4  59.944653  10.888134  Micheletveien 20, 1053 Oslo           U0102  ...   \n\n  F_Turterreng                                            adtitle  \\\n0          NaN  VISNING AVLYST! Direkte bud til selger. Topple...   \n1          1.0  Innbydende og lys 2-roms hjørneleilighet - Ves...   \n2          1.0  Oppussingsobjekt - Enebolig i kjede med skjerm...   \n3          NaN  BRATTLIKOLLEN - Lys og gjennomgående 3-roms se...   \n4          NaN  GAMLE FURUSET - Velholdt og romslig enebolig m...   \n\n   N_modernisering  N_oppussing  N_regulert  N_garasjemulighet postcode  \\\n0            False        False       False              False      653   \n1            False        False       False              False      283   \n2            False         True       False              False     1176   \n3            False        False       False              False     1184   \n4            False        False       False              False     1053   \n\n   Parking  price_inc_debt  area_id  \n0        1       5150000.0        1  \n1        1       3944838.0        6  \n2        1       9900000.0       14  \n3        0       1678207.0       14  \n4        0       5760000.0       12  \n\n[5 rows x 57 columns]",
      "text/html": "<div>\n<style scoped>\n    .dataframe tbody tr th:only-of-type {\n        vertical-align: middle;\n    }\n\n    .dataframe tbody tr th {\n        vertical-align: top;\n    }\n\n    .dataframe thead th {\n        text-align: right;\n    }\n</style>\n<table border=\"1\" class=\"dataframe\">\n  <thead>\n    <tr style=\"text-align: right;\">\n      <th></th>\n      <th>documentDate</th>\n      <th>picturedate</th>\n      <th>lastchanged</th>\n      <th>adcreated</th>\n      <th>price</th>\n      <th>listprice</th>\n      <th>lat</th>\n      <th>lng</th>\n      <th>address</th>\n      <th>apartmentnumber</th>\n      <th>...</th>\n      <th>F_Turterreng</th>\n      <th>adtitle</th>\n      <th>N_modernisering</th>\n      <th>N_oppussing</th>\n      <th>N_regulert</th>\n      <th>N_garasjemulighet</th>\n      <th>postcode</th>\n      <th>Parking</th>\n      <th>price_inc_debt</th>\n      <th>area_id</th>\n    </tr>\n  </thead>\n  <tbody>\n    <tr>\n      <th>0</th>\n      <td>2020-09-25</td>\n      <td>2020/7</td>\n      <td>2020-08-07</td>\n      <td>2020-08-03</td>\n      <td>5150000</td>\n      <td>4650000.0</td>\n      <td>59.913030</td>\n      <td>10.776672</td>\n      <td>Hagegata 41, 0653 Oslo</td>\n      <td>H0703</td>\n      <td>...</td>\n      <td>NaN</td>\n      <td>VISNING AVLYST! Direkte bud til selger. Topple...</td>\n      <td>False</td>\n      <td>False</td>\n      <td>False</td>\n      <td>False</td>\n      <td>653</td>\n      <td>1</td>\n      <td>5150000.0</td>\n      <td>1</td>\n    </tr>\n    <tr>\n      <th>1</th>\n      <td>2020-09-29</td>\n      <td>2020/8</td>\n      <td>2020-12-14</td>\n      <td>2020-08-25</td>\n      <td>3900000</td>\n      <td>3650000.0</td>\n      <td>59.918900</td>\n      <td>10.647900</td>\n      <td>Skogbrynet 16D, 0283 Oslo</td>\n      <td>U0101</td>\n      <td>...</td>\n      <td>1.0</td>\n      <td>Innbydende og lys 2-roms hjørneleilighet - Ves...</td>\n      <td>False</td>\n      <td>False</td>\n      <td>False</td>\n      <td>False</td>\n      <td>283</td>\n      <td>1</td>\n      <td>3944838.0</td>\n      <td>6</td>\n    </tr>\n    <tr>\n      <th>2</th>\n      <td>2021-12-02</td>\n      <td>2021/8</td>\n      <td>2021-08-01</td>\n      <td>2021-07-27</td>\n      <td>9900000</td>\n      <td>8750000.0</td>\n      <td>59.879000</td>\n      <td>10.799300</td>\n      <td>Ringshusveien 8B, 1176 Oslo</td>\n      <td>H0101</td>\n      <td>...</td>\n      <td>1.0</td>\n      <td>Oppussingsobjekt - Enebolig i kjede med skjerm...</td>\n      <td>False</td>\n      <td>True</td>\n      <td>False</td>\n      <td>False</td>\n      <td>1176</td>\n      <td>1</td>\n      <td>9900000.0</td>\n      <td>14</td>\n    </tr>\n    <tr>\n      <th>3</th>\n      <td>2009-11-12</td>\n      <td>4/186</td>\n      <td>2009-09-05</td>\n      <td>2009-08-24</td>\n      <td>1660000</td>\n      <td>1680000.0</td>\n      <td>59.887690</td>\n      <td>10.802634</td>\n      <td>Libakkfaret 1 A, 1184 Oslo</td>\n      <td>H0302</td>\n      <td>...</td>\n      <td>NaN</td>\n      <td>BRATTLIKOLLEN - Lys og gjennomgående 3-roms se...</td>\n      <td>False</td>\n      <td>False</td>\n      <td>False</td>\n      <td>False</td>\n      <td>1184</td>\n      <td>0</td>\n      <td>1678207.0</td>\n      <td>14</td>\n    </tr>\n    <tr>\n      <th>4</th>\n      <td>2012-10-24</td>\n      <td>2012/6</td>\n      <td>2012-06-15</td>\n      <td>2012-06-01</td>\n      <td>5760000</td>\n      <td>5490000.0</td>\n      <td>59.944653</td>\n      <td>10.888134</td>\n      <td>Micheletveien 20, 1053 Oslo</td>\n      <td>U0102</td>\n      <td>...</td>\n      <td>NaN</td>\n      <td>GAMLE FURUSET - Velholdt og romslig enebolig m...</td>\n      <td>False</td>\n      <td>False</td>\n      <td>False</td>\n      <td>False</td>\n      <td>1053</td>\n      <td>0</td>\n      <td>5760000.0</td>\n      <td>12</td>\n    </tr>\n  </tbody>\n</table>\n<p>5 rows × 57 columns</p>\n</div>"
     },
     "metadata": {}
    }
   ]
  },
  {
   "cell_type": "code",
   "metadata": {
    "cell_id": "00002-b418a789-a747-4f9e-a266-d09143aad12b",
    "deepnote_to_be_reexecuted": false,
    "source_hash": "2517bc9f",
    "execution_start": 1645091188485,
    "execution_millis": 5,
    "deepnote_cell_type": "code"
   },
   "source": "# Printer litt info om datasettet\nprint(f\"Antall rader i datasettet: {len(df)}\")\nprint(f\"Antall kolonner i datasettet: {len(df.columns)}\")\nprint()\nprint(df.columns)",
   "execution_count": 4,
   "outputs": [
    {
     "name": "stdout",
     "text": "Antall rader i datasettet: 181250\nAntall kolonner i datasettet: 57\n\nIndex(['documentDate', 'picturedate', 'lastchanged', 'adcreated', 'price',\n       'listprice', 'lat', 'lng', 'address', 'apartmentnumber',\n       'apartmenttype', 'conveyancetype', 'finncode', 'BRA', 'PROM',\n       'buildyear', 'matrikkel', 'bedrooms', 'rooms', 'bathrooms', 'WC',\n       'elevator', 'floor', 'housingtype', 'commondebt', 'commoncosts',\n       'F_Aircondition', 'F_Alarm', 'F_BalkongTerrasse', 'F_Barnevennlig',\n       'F_Bredbåndstilknytning', 'F_Fellesvaskeri', 'F_GarasjeP-plass',\n       'F_Heis', 'F_Ingen gjenboere', 'F_Lademulighet', 'F_Livsløpsstandard',\n       'F_Moderne', 'F_Offentlig vannkloakk', 'F_Parkett', 'F_PeisIldsted',\n       'F_Rolig', 'F_Sentralt', 'F_Utsikt', 'F_Vaktmester-vektertjeneste',\n       'F_Bademulighet', 'F_Fiskemulighet', 'F_Turterreng', 'adtitle',\n       'N_modernisering', 'N_oppussing', 'N_regulert', 'N_garasjemulighet',\n       'postcode', 'Parking', 'price_inc_debt', 'area_id'],\n      dtype='object')\n",
     "output_type": "stream"
    }
   ]
  },
  {
   "cell_type": "code",
   "metadata": {
    "cell_id": "e6fa94fe-ad20-4d55-83db-e14a1dd364ee",
    "tags": [],
    "deepnote_to_be_reexecuted": false,
    "source_hash": "6a761762",
    "execution_start": 1645091188497,
    "execution_millis": 6,
    "deepnote_cell_type": "code"
   },
   "source": "#df.info()\n#df.describe()",
   "execution_count": 5,
   "outputs": []
  },
  {
   "cell_type": "code",
   "metadata": {
    "cell_id": "00003-a0f671d3-600f-45e7-a9ef-bbca9f2f0e40",
    "deepnote_to_be_reexecuted": false,
    "source_hash": "b4b71d30",
    "execution_start": 1645091188547,
    "execution_millis": 153,
    "deepnote_output_heights": [
     611
    ],
    "deepnote_cell_type": "code"
   },
   "source": "# Sjekker null-verdier\ndf.isnull().sum()",
   "execution_count": 6,
   "outputs": [
    {
     "output_type": "execute_result",
     "execution_count": 6,
     "data": {
      "text/plain": "documentDate                        0\npicturedate                       257\nlastchanged                         0\nadcreated                           0\nprice                               0\nlistprice                           0\nlat                              1568\nlng                              1568\naddress                             0\napartmentnumber                   822\napartmenttype                     792\nconveyancetype                      0\nfinncode                            0\nBRA                              3273\nPROM                                0\nbuildyear                         925\nmatrikkel                           0\nbedrooms                         9385\nrooms                           51910\nbathrooms                           0\nWC                                  0\nelevator                          792\nfloor                           37977\nhousingtype                         0\ncommondebt                      58689\ncommoncosts                     15759\nF_Aircondition                 178173\nF_Alarm                        175171\nF_BalkongTerrasse               60920\nF_Barnevennlig                  72380\nF_Bredbåndstilknytning          80143\nF_Fellesvaskeri                148196\nF_GarasjeP-plass               108973\nF_Heis                         129931\nF_Ingen gjenboere              132973\nF_Lademulighet                 173472\nF_Livsløpsstandard             176498\nF_Moderne                      136234\nF_Offentlig vannkloakk          98042\nF_Parkett                       82952\nF_PeisIldsted                  128068\nF_Rolig                         76928\nF_Sentralt                      81605\nF_Utsikt                       119962\nF_Vaktmester-vektertjeneste    117235\nF_Bademulighet                 172852\nF_Fiskemulighet                178556\nF_Turterreng                   100291\nadtitle                             0\nN_modernisering                     0\nN_oppussing                         0\nN_regulert                          0\nN_garasjemulighet                   0\npostcode                            0\nParking                             0\nprice_inc_debt                      0\narea_id                             0\ndtype: int64"
     },
     "metadata": {}
    }
   ]
  },
  {
   "cell_type": "markdown",
   "source": "Som vi kan se så finnes det null-verdier for flere av variablene. Dette er helt vanlig i større datasett og er et problem vi må gjøre noe med. Alle null-verdiene for variabler som starter med F_ (fasteliteter), vil bli kodet om til 0, da dette er dummy-variabler med 0 og 1 som verdi. Videre ser vi at rom og etasje er de to variablene med flest null-verdier (henholdsvis 51 910 og 37 977). Det finnes også et høyt antall null-verider for fellesgjeld og felleskostnader, men dette er knyttet til eneboliger og rekkehus hvor man ikke har disse kostnadene.",
   "metadata": {
    "cell_id": "f2e7051f-28fb-49d3-8fa9-bb9cfbd8b95f",
    "tags": [],
    "deepnote_cell_type": "markdown"
   }
  },
  {
   "cell_type": "code",
   "metadata": {
    "cell_id": "2859dd53-6650-4867-b900-f402a7f53849",
    "tags": [],
    "deepnote_to_be_reexecuted": false,
    "source_hash": "ff0d33f4",
    "execution_start": 1645091188699,
    "execution_millis": 6,
    "deepnote_output_heights": [
     289.921875
    ],
    "deepnote_cell_type": "code"
   },
   "source": "df['housingtype'].value_counts()",
   "execution_count": 7,
   "outputs": [
    {
     "output_type": "execute_result",
     "execution_count": 7,
     "data": {
      "text/plain": "Leilighet                157774\nEnebolig                  10180\nRekkehus                   7491\nTomannsbolig               5638\nAndre                        66\nTomter                       55\nBygård/Flermannsbolig        29\nAnnet fritid                  6\nGarasje/Parkering             5\nGårdsbruk/Småbruk             2\nwarehouse                     1\nmultipurposearea              1\nKontor                        1\nbusiness                      1\nName: housingtype, dtype: int64"
     },
     "metadata": {}
    }
   ]
  },
  {
   "cell_type": "markdown",
   "source": "Vi starter med å se hvordan fordelingen av de ulike boligformene er i datasettet, og observerer at 87% av datapunktene i datasetter er leiligheter. I bydelene som er nærmest sentrum er over 90% av boliger leiligheter, mens i bydelene som ligger lengre borte fra sentrum er leilighetsandelen ned mot 40% på det laveste. Vi kan observere at det finnes 167 datapunkter som ikke er leilighet, enebolig, rekkehus eller tomannsbolig. Disse datapunktene vil ikke være relevante for oss så vi velger å utelate dem fra datasettet.",
   "metadata": {
    "cell_id": "3869877f-47ee-4671-a78b-0a615c54ecac",
    "tags": [],
    "deepnote_cell_type": "markdown"
   }
  },
  {
   "cell_type": "code",
   "metadata": {
    "cell_id": "c66a5199-1b48-425d-ae92-6e7a79b9f730",
    "tags": [],
    "deepnote_to_be_reexecuted": false,
    "source_hash": "79bf7124",
    "execution_start": 1645091188766,
    "execution_millis": 719,
    "deepnote_output_heights": [
     97.96875
    ],
    "deepnote_cell_type": "code"
   },
   "source": "feil_bolig = ['Andre','Tomter','Bygård/Flermannsbolig','Annet fritid','Garasje/Parkering','Gårdsbruk/Småbruk','Kontor','multipurposearea','warehouse','business']\n\nfor cat in feil_bolig:\n    df.drop(df[df['housingtype'] == cat].index, inplace=True)\n\ndf['housingtype'].value_counts()\n",
   "execution_count": 8,
   "outputs": [
    {
     "output_type": "execute_result",
     "execution_count": 8,
     "data": {
      "text/plain": "Leilighet       157774\nEnebolig         10180\nRekkehus          7491\nTomannsbolig      5638\nName: housingtype, dtype: int64"
     },
     "metadata": {}
    }
   ]
  },
  {
   "cell_type": "markdown",
   "source": "Den neste variabelen vi skal se på er lengde/breddegrad variablene (lat,lng). Vi vet at Oslo ligger rundt breddegrad 59-60 og rundt lengdegrad 10. Dermed vil koordinater som avviker mye fra disse koordinatene være feil.",
   "metadata": {
    "cell_id": "f9b23e94-4e10-4e9b-85a4-0ae6e0834991",
    "tags": [],
    "deepnote_to_be_reexecuted": false,
    "source_hash": "b623e53d",
    "execution_start": 1644315649954,
    "execution_millis": 1,
    "deepnote_cell_type": "markdown"
   }
  },
  {
   "cell_type": "code",
   "metadata": {
    "cell_id": "aec1f39f-1e1f-4cdb-8b46-dd8c42bca288",
    "tags": [],
    "deepnote_to_be_reexecuted": false,
    "source_hash": "639379d3",
    "execution_start": 1645091189483,
    "execution_millis": 641,
    "deepnote_output_heights": [
     279.4375
    ],
    "deepnote_cell_type": "code"
   },
   "source": "df[['lat','lng']].hist(figsize=(16,5), bins=25)\nplt.show()",
   "execution_count": 9,
   "outputs": [
    {
     "data": {
      "text/plain": "<Figure size 1152x360 with 2 Axes>",
      "image/png": "[encoded data removed]"
     },
     "metadata": {
      "needs_background": "light",
      "image/png": {
       "width": 952,
       "height": 319
      }
     },
     "output_type": "display_data"
    }
   ]
  },
  {
   "cell_type": "markdown",
   "source": "Som vi ser så treffer alle koordinatene på Oslo-området. Vi skal nå ta en titt på null-verdiene til datapunktene.",
   "metadata": {
    "cell_id": "6b8c881f-6bc1-442b-a38c-875ac9e70f1f",
    "tags": [],
    "deepnote_to_be_reexecuted": false,
    "source_hash": "b623e53d",
    "execution_start": 1643793800783,
    "execution_millis": 0,
    "deepnote_output_heights": [
     250
    ],
    "deepnote_cell_type": "markdown"
   }
  },
  {
   "cell_type": "code",
   "metadata": {
    "cell_id": "97b25732-f52a-49f6-9919-2e51bd6a9ddb",
    "tags": [],
    "deepnote_to_be_reexecuted": false,
    "source_hash": "adcb1887",
    "execution_start": 1645091190133,
    "execution_millis": 4,
    "deepnote_output_heights": [
     59.578125
    ],
    "deepnote_cell_type": "code"
   },
   "source": "# Printer null-verdier for lat or lng\ndf[['lat','lng']].isnull().sum()",
   "execution_count": 10,
   "outputs": [
    {
     "output_type": "execute_result",
     "execution_count": 10,
     "data": {
      "text/plain": "lat    1567\nlng    1567\ndtype: int64"
     },
     "metadata": {}
    }
   ]
  },
  {
   "cell_type": "markdown",
   "source": "Som vi kan se så har vi 1567 datapunkter som mangler lengde og breddegrader. En løsning vil da være å fjerne null-verdiene, men dette vil ikke være optimalt. Vi vil derfor prøve å finne koordinater for hver av de 16 bydelene, for deretter å erstatte null-verdiene med dette. Vi må derfor først lage koordinater for de 16 bydelene, for deretter å erstatte null-verdiene med disse. Koordinatene til bydelene vil være sentrum av bydelen.",
   "metadata": {
    "cell_id": "8c03339c-c950-41ac-8e27-b181430fe0a4",
    "tags": [],
    "deepnote_cell_type": "markdown"
   }
  },
  {
   "cell_type": "code",
   "metadata": {
    "cell_id": "4e3ac3ea-0b16-43cd-9106-f6e0092464e6",
    "tags": [],
    "deepnote_to_be_reexecuted": false,
    "source_hash": "6065b78e",
    "execution_start": 1645091190157,
    "execution_millis": 66,
    "deepnote_output_heights": [
     60
    ],
    "deepnote_cell_type": "code"
   },
   "source": "#Dictionary med bydeler (area_id) og tilsvarende koordinater til sentrum av bydelene\nbydeler_koordinater = {1:[59.911832, 10.789224], 2:[59.923818, 10.771007],3:[59.938290, 10.764674],\n4:[59.927053, 10.738491],5:[59.915947, 10.705421],6:[59.927271, 10.664877],7:[59.950695, 10.657639],\n8:[59.956516, 10.766631],9:[59.937116, 10.820808],10:[59.954572, 10.876033],11:[59.958182, 10.924858],\n12:[59.935980, 10.877371],13:[59.888390, 10.835148],14:[59.875677, 10.789629],15:[59.832622, 10.826528],\n16:[59.910462, 10.737319]}\n\n#Oppretter nye kolonner for lat/lng til bydelene\ndf['Bydel_lat'] = df['area_id']\ndf['Bydel_lng'] = df['area_id']\n\n#Endrer fra area_id til koordinater for bydelene\nfor key, item in bydeler_koordinater.items():\n    df['Bydel_lat'].mask(df['Bydel_lat'] == key, item[0], inplace=True)\n    df['Bydel_lng'].mask(df['Bydel_lng'] == key, item[1], inplace=True)\n\n#Fyller inn null-verdier med tilsvarende koordinater for bydelene\ndf['lat'] = df['lat'].fillna(df['Bydel_lat'])\ndf['lng'] = df['lng'].fillna(df['Bydel_lng'])",
   "execution_count": 11,
   "outputs": []
  },
  {
   "cell_type": "markdown",
   "source": "Den neste variabelen vi skal se på er bruksareal (BRA). Det første vi må gjøre er å se på fordelingen for å kunne identifisere feil-verdier. BRA vil i de fleste tilfeller ligge mellom 50-100 for leiligheter, og 150-300 for større enebolig. Dette er det selvfølgelig unntak for med større leiligheter og boliger. Dermed vil det være vanskelig å skille mellom hva som er reelle store boliger, og hva som er feilverdier. En løsning er å fjerne verdier som er over 500 for eneboliger, rekkehus og tomannsboliger, hvis man har en pris som er under 10 000 000. Det er fordi boliger på >500 kvm vil så si alltid koste over 10 M. For leiligheter kan man fjerne verdier over 350 kvm hvis prisen er under 10M. Til slutt vil vi fjerne alle boliger med 1000 > BRA > 10 pga dette er åpenbare feildata etter å ha inspisert datapunktene.\n\n ",
   "metadata": {
    "cell_id": "333960f3-55f9-431b-8da5-089a089447fc",
    "tags": [],
    "deepnote_to_be_reexecuted": false,
    "source_hash": "b4b71d30",
    "execution_start": 1644324241165,
    "execution_millis": 90,
    "deepnote_output_heights": [
     611
    ],
    "deepnote_cell_type": "markdown"
   }
  },
  {
   "cell_type": "code",
   "metadata": {
    "cell_id": "c3c1c711-320b-42cd-80b3-7a5bb9abfa1e",
    "tags": [],
    "deepnote_to_be_reexecuted": false,
    "source_hash": "502bab03",
    "execution_start": 1645091190275,
    "execution_millis": 290,
    "deepnote_cell_type": "code"
   },
   "source": "#Fjerner alle boliger med BRA>500 og pris<10 000 000\ndf.drop(df[(df['BRA'] > 500) & (df['price'] < 10000000)].index, inplace = True)\n#Fjerner alle leiligheter med BRA>350 og pris<10 000 000\ndf.drop(df[(df['BRA'] > 350) & (df['housingtype'] == 'Leilighet') & (df['price'] < 10000000)].index, inplace = True)\n#Fjerner alle boliger med BRA > 1000\ndf.drop(df[df['BRA'] > 1000].index, inplace = True)\n#Fjerner alle boliger med BRA < 10\ndf.drop(df[df['BRA'] < 10].index, inplace = True)",
   "execution_count": 12,
   "outputs": []
  },
  {
   "cell_type": "code",
   "metadata": {
    "cell_id": "05fca3c2-ad6d-42cf-bcb8-07b49d838d61",
    "tags": [],
    "deepnote_to_be_reexecuted": false,
    "source_hash": "4774ca9c",
    "execution_start": 1645091190600,
    "execution_millis": 758,
    "deepnote_output_heights": [
     268,
     267.484375
    ],
    "deepnote_cell_type": "code"
   },
   "source": "#Printer histogram over fordelingen\ndf['BRA'].hist(bins=50, figsize=(16,5))\nplt.show()\n#Printer histogram over fordelingen mellom 0 og 200 kvm\ndf['BRA'].hist(bins=50, figsize=(16,5), range=[0,200])\nplt.show()",
   "execution_count": 13,
   "outputs": [
    {
     "data": {
      "text/plain": "<Figure size 1152x360 with 1 Axes>",
      "image/png": "[encoded data removed]"
     },
     "metadata": {
      "needs_background": "light",
      "image/png": {
       "width": 945,
       "height": 303
      }
     },
     "output_type": "display_data"
    },
    {
     "data": {
      "text/plain": "<Figure size 1152x360 with 1 Axes>",
      "image/png": "[encoded data removed]"
     },
     "metadata": {
      "needs_background": "light",
      "image/png": {
       "width": 945,
       "height": 303
      }
     },
     "output_type": "display_data"
    }
   ]
  },
  {
   "cell_type": "markdown",
   "source": "Som vi kan se så er dataen høyreskjev, noe som vil være naturlig da det finnes langt flere små boliger. Videre må vi nå gjøre noe med null-verdiene. Siden BRA henger tett sammen med primærrom (PROM), så vil en brukbar løsning være å finne forholdet mellom disse variablene og deretter bruke det for å generere BRA hvor man ikke har dette oppgitt.\n\nDet første vi gjør er å plotte forholdet mellom disse to variablene i et scatter-plot.",
   "metadata": {
    "cell_id": "29e2d438-77ca-4afc-ac08-8920171f0851",
    "tags": [],
    "deepnote_to_be_reexecuted": false,
    "source_hash": "b623e53d",
    "execution_start": 1644329377571,
    "execution_millis": 7,
    "deepnote_table_state": {
     "pageSize": 100,
     "pageIndex": 0,
     "filters": [],
     "sortBy": [
      {
       "id": "BRA",
       "type": "desc"
      }
     ]
    },
    "deepnote_table_loading": false,
    "deepnote_output_heights": [
     611
    ],
    "deepnote_cell_type": "markdown"
   }
  },
  {
   "cell_type": "code",
   "metadata": {
    "cell_id": "1b7692c2-795c-4935-b0be-f1e433495ab6",
    "tags": [],
    "deepnote_to_be_reexecuted": false,
    "source_hash": "1491a2ba",
    "execution_start": 1645091191391,
    "execution_millis": 462,
    "deepnote_output_heights": [
     250
    ],
    "deepnote_cell_type": "code"
   },
   "source": "plt.scatter(df['BRA'],df['PROM'], s=5)\nplt.show()",
   "execution_count": 14,
   "outputs": [
    {
     "data": {
      "text/plain": "<Figure size 432x288 with 1 Axes>",
      "image/png": "[encoded data removed]"
     },
     "metadata": {
      "needs_background": "light",
      "image/png": {
       "width": 381,
       "height": 248
      }
     },
     "output_type": "display_data"
    }
   ]
  },
  {
   "cell_type": "markdown",
   "source": "Som vi kan se så virker det som om det er noen datapunkter hvor man har mikset opp PROM og BRA, da PROM alltid er mindre enn BRA. Dette er klare feilverdier og noe vi må fjerne. Videre vil vi finne sammenhengen mellom variablene ved bruk av linær regresjon.",
   "metadata": {
    "cell_id": "bd9fa60d-4b8e-46b4-8422-4b2857c33ce0",
    "tags": [],
    "deepnote_cell_type": "markdown"
   }
  },
  {
   "cell_type": "code",
   "metadata": {
    "cell_id": "d1808de4-7b13-4dc4-919b-12226e82b1f5",
    "tags": [],
    "deepnote_to_be_reexecuted": false,
    "source_hash": "14f7c85e",
    "execution_start": 1645091191892,
    "execution_millis": 82,
    "deepnote_output_heights": [
     null,
     59.578125
    ],
    "deepnote_cell_type": "code"
   },
   "source": "#Fjerner datapunkter hvor PROM > BRA\ndf.drop(df[df['PROM'] > df['BRA']].index, inplace=True)\n\n#Lager en ny datafram uten null-verdier for BRA slik at man kan gjøre en linear regresjon\ndf_PROM_BRA = df[['PROM','BRA']]\ndf_PROM_BRA.dropna(axis=0, inplace=True)\n\n#Definerer og tilpasser modellen\nmodel = linear_model.LinearRegression()\nmodel = model.fit(df_PROM_BRA[['PROM']], df_PROM_BRA[['BRA']])",
   "execution_count": 15,
   "outputs": [
    {
     "name": "stderr",
     "text": "/shared-libs/python3.7/py-core/lib/python3.7/site-packages/ipykernel_launcher.py:6: SettingWithCopyWarning: \nA value is trying to be set on a copy of a slice from a DataFrame\n\nSee the caveats in the documentation: https://pandas.pydata.org/pandas-docs/stable/user_guide/indexing.html#returning-a-view-versus-a-copy\n  \n",
     "output_type": "stream"
    }
   ]
  },
  {
   "cell_type": "code",
   "metadata": {
    "cell_id": "b95d6c4d-5d9d-4815-adb6-36c6b8a18bce",
    "tags": [],
    "deepnote_to_be_reexecuted": false,
    "source_hash": "6488f9c3",
    "execution_start": 1645091191983,
    "execution_millis": 48,
    "deepnote_output_heights": [
     606.5
    ],
    "deepnote_cell_type": "code"
   },
   "source": "#Printer ut R-scoren, koeffisientene og skjæringspunktet\nskjæringspunktet = model.intercept_.astype(float)\nkoeffisienten = model.coef_[0].astype(float)\n\nprint(f\"R^2 for modellen er: {model.score(df_PROM_BRA[['PROM']], df_PROM_BRA[['BRA']])*100:.4f}%\") # R^2\nprint(f'Koeffisienten: {koeffisienten}')  # Koeffisient\nprint(f'Skjæringspiunktet: {skjæringspunktet:}') # Skjæringspunktet\n\n#Erstatter alle null-verdier for BRA med tilhørende PROM * koeffisienten + skjæringspunktet\ndf['BRA'] = df['BRA'].fillna((skjæringspunktet + df['PROM']*koeffisienten))",
   "execution_count": 16,
   "outputs": [
    {
     "name": "stdout",
     "text": "R^2 for modellen er: 97.1761%\nKoeffisienten: [1.12682072]\nSkjæringspiunktet: [-6.25432843]\n",
     "output_type": "stream"
    }
   ]
  },
  {
   "cell_type": "code",
   "source": "df.head()",
   "metadata": {
    "cell_id": "f2d31bc9-13fc-40c4-95ad-fcf3d35fdaf6",
    "tags": [],
    "deepnote_to_be_reexecuted": false,
    "source_hash": "c085b6ba",
    "execution_start": 1645091192027,
    "execution_millis": 661,
    "deepnote_table_state": {
     "pageSize": 100,
     "pageIndex": 3,
     "filters": [],
     "sortBy": []
    },
    "deepnote_table_loading": false,
    "deepnote_cell_type": "code"
   },
   "outputs": [
    {
     "output_type": "execute_result",
     "execution_count": 17,
     "data": {
      "application/vnd.deepnote.dataframe.v3+json": {
       "column_count": 59,
       "row_count": 5,
       "columns": [
        {
         "name": "documentDate",
         "dtype": "object",
         "stats": {
          "unique_count": 5,
          "nan_count": 0,
          "categories": [
           {
            "name": "2020-09-25",
            "count": 1
           },
           {
            "name": "2020-09-29",
            "count": 1
           },
           {
            "name": "3 others",
            "count": 3
           }
          ]
         }
        },
        {
         "name": "picturedate",
         "dtype": "object",
         "stats": {
          "unique_count": 5,
          "nan_count": 0,
          "categories": [
           {
            "name": "2020/7",
            "count": 1
           },
           {
            "name": "2020/8",
            "count": 1
           },
           {
            "name": "3 others",
            "count": 3
           }
          ]
         }
        },
        {
         "name": "lastchanged",
         "dtype": "object",
         "stats": {
          "unique_count": 5,
          "nan_count": 0,
          "categories": [
           {
            "name": "2020-08-07",
            "count": 1
           },
           {
            "name": "2020-12-14",
            "count": 1
           },
           {
            "name": "3 others",
            "count": 3
           }
          ]
         }
        },
        {
         "name": "adcreated",
         "dtype": "object",
         "stats": {
          "unique_count": 5,
          "nan_count": 0,
          "categories": [
           {
            "name": "2020-08-03",
            "count": 1
           },
           {
            "name": "2020-08-25",
            "count": 1
           },
           {
            "name": "3 others",
            "count": 3
           }
          ]
         }
        },
        {
         "name": "price",
         "dtype": "int64",
         "stats": {
          "unique_count": 5,
          "nan_count": 0,
          "min": "1660000",
          "max": "9900000",
          "histogram": [
           {
            "bin_start": 1660000,
            "bin_end": 2484000,
            "count": 1
           },
           {
            "bin_start": 2484000,
            "bin_end": 3308000,
            "count": 0
           },
           {
            "bin_start": 3308000,
            "bin_end": 4132000,
            "count": 1
           },
           {
            "bin_start": 4132000,
            "bin_end": 4956000,
            "count": 0
           },
           {
            "bin_start": 4956000,
            "bin_end": 5780000,
            "count": 2
           },
           {
            "bin_start": 5780000,
            "bin_end": 6604000,
            "count": 0
           },
           {
            "bin_start": 6604000,
            "bin_end": 7428000,
            "count": 0
           },
           {
            "bin_start": 7428000,
            "bin_end": 8252000,
            "count": 0
           },
           {
            "bin_start": 8252000,
            "bin_end": 9076000,
            "count": 0
           },
           {
            "bin_start": 9076000,
            "bin_end": 9900000,
            "count": 1
           }
          ]
         }
        },
        {
         "name": "listprice",
         "dtype": "float64",
         "stats": {
          "unique_count": 5,
          "nan_count": 0,
          "min": "1680000.0",
          "max": "8750000.0",
          "histogram": [
           {
            "bin_start": 1680000,
            "bin_end": 2387000,
            "count": 1
           },
           {
            "bin_start": 2387000,
            "bin_end": 3094000,
            "count": 0
           },
           {
            "bin_start": 3094000,
            "bin_end": 3801000,
            "count": 1
           },
           {
            "bin_start": 3801000,
            "bin_end": 4508000,
            "count": 0
           },
           {
            "bin_start": 4508000,
            "bin_end": 5215000,
            "count": 1
           },
           {
            "bin_start": 5215000,
            "bin_end": 5922000,
            "count": 1
           },
           {
            "bin_start": 5922000,
            "bin_end": 6629000,
            "count": 0
           },
           {
            "bin_start": 6629000,
            "bin_end": 7336000,
            "count": 0
           },
           {
            "bin_start": 7336000,
            "bin_end": 8043000,
            "count": 0
           },
           {
            "bin_start": 8043000,
            "bin_end": 8750000,
            "count": 1
           }
          ]
         }
        },
        {
         "name": "lat",
         "dtype": "float64",
         "stats": {
          "unique_count": 5,
          "nan_count": 0,
          "min": "59.879",
          "max": "59.944653",
          "histogram": [
           {
            "bin_start": 59.879,
            "bin_end": 59.885565299999996,
            "count": 1
           },
           {
            "bin_start": 59.885565299999996,
            "bin_end": 59.8921306,
            "count": 1
           },
           {
            "bin_start": 59.8921306,
            "bin_end": 59.8986959,
            "count": 0
           },
           {
            "bin_start": 59.8986959,
            "bin_end": 59.9052612,
            "count": 0
           },
           {
            "bin_start": 59.9052612,
            "bin_end": 59.911826500000004,
            "count": 0
           },
           {
            "bin_start": 59.911826500000004,
            "bin_end": 59.9183918,
            "count": 1
           },
           {
            "bin_start": 59.9183918,
            "bin_end": 59.9249571,
            "count": 1
           },
           {
            "bin_start": 59.9249571,
            "bin_end": 59.9315224,
            "count": 0
           },
           {
            "bin_start": 59.9315224,
            "bin_end": 59.938087700000004,
            "count": 0
           },
           {
            "bin_start": 59.938087700000004,
            "bin_end": 59.944653,
            "count": 1
           }
          ]
         }
        },
        {
         "name": "lng",
         "dtype": "float64",
         "stats": {
          "unique_count": 5,
          "nan_count": 0,
          "min": "10.6479",
          "max": "10.888134",
          "histogram": [
           {
            "bin_start": 10.6479,
            "bin_end": 10.6719234,
            "count": 1
           },
           {
            "bin_start": 10.6719234,
            "bin_end": 10.6959468,
            "count": 0
           },
           {
            "bin_start": 10.6959468,
            "bin_end": 10.7199702,
            "count": 0
           },
           {
            "bin_start": 10.7199702,
            "bin_end": 10.7439936,
            "count": 0
           },
           {
            "bin_start": 10.7439936,
            "bin_end": 10.768017,
            "count": 0
           },
           {
            "bin_start": 10.768017,
            "bin_end": 10.792040400000001,
            "count": 1
           },
           {
            "bin_start": 10.792040400000001,
            "bin_end": 10.8160638,
            "count": 2
           },
           {
            "bin_start": 10.8160638,
            "bin_end": 10.840087200000001,
            "count": 0
           },
           {
            "bin_start": 10.840087200000001,
            "bin_end": 10.8641106,
            "count": 0
           },
           {
            "bin_start": 10.8641106,
            "bin_end": 10.888134,
            "count": 1
           }
          ]
         }
        },
        {
         "name": "address",
         "dtype": "object",
         "stats": {
          "unique_count": 5,
          "nan_count": 0,
          "categories": [
           {
            "name": "Hagegata 41, 0653 Oslo",
            "count": 1
           },
           {
            "name": "Skogbrynet 16D, 0283 Oslo",
            "count": 1
           },
           {
            "name": "3 others",
            "count": 3
           }
          ]
         }
        },
        {
         "name": "apartmentnumber",
         "dtype": "object",
         "stats": {
          "unique_count": 5,
          "nan_count": 0,
          "categories": [
           {
            "name": "H0703",
            "count": 1
           },
           {
            "name": "U0101",
            "count": 1
           },
           {
            "name": "3 others",
            "count": 3
           }
          ]
         }
        },
        {
         "name": "apartmenttype",
         "dtype": "object",
         "stats": {
          "unique_count": 1,
          "nan_count": 0,
          "categories": [
           {
            "name": "B",
            "count": 5
           }
          ]
         }
        },
        {
         "name": "conveyancetype",
         "dtype": "object",
         "stats": {
          "unique_count": 1,
          "nan_count": 0,
          "categories": [
           {
            "name": "Fritt salg",
            "count": 5
           }
          ]
         }
        },
        {
         "name": "finncode",
         "dtype": "int64",
         "stats": {
          "unique_count": 5,
          "nan_count": 0,
          "min": "18679054",
          "max": "226217549",
          "histogram": [
           {
            "bin_start": 18679054,
            "bin_end": 39432903.5,
            "count": 2
           },
           {
            "bin_start": 39432903.5,
            "bin_end": 60186753,
            "count": 0
           },
           {
            "bin_start": 60186753,
            "bin_end": 80940602.5,
            "count": 0
           },
           {
            "bin_start": 80940602.5,
            "bin_end": 101694452,
            "count": 0
           },
           {
            "bin_start": 101694452,
            "bin_end": 122448301.5,
            "count": 0
           },
           {
            "bin_start": 122448301.5,
            "bin_end": 143202151,
            "count": 0
           },
           {
            "bin_start": 143202151,
            "bin_end": 163956000.5,
            "count": 0
           },
           {
            "bin_start": 163956000.5,
            "bin_end": 184709850,
            "count": 0
           },
           {
            "bin_start": 184709850,
            "bin_end": 205463699.5,
            "count": 2
           },
           {
            "bin_start": 205463699.5,
            "bin_end": 226217549,
            "count": 1
           }
          ]
         }
        },
        {
         "name": "BRA",
         "dtype": "float64",
         "stats": {
          "unique_count": 5,
          "nan_count": 0,
          "min": "55.0",
          "max": "249.0",
          "histogram": [
           {
            "bin_start": 55,
            "bin_end": 74.4,
            "count": 3
           },
           {
            "bin_start": 74.4,
            "bin_end": 93.8,
            "count": 0
           },
           {
            "bin_start": 93.8,
            "bin_end": 113.19999999999999,
            "count": 0
           },
           {
            "bin_start": 113.19999999999999,
            "bin_end": 132.6,
            "count": 1
           },
           {
            "bin_start": 132.6,
            "bin_end": 152,
            "count": 0
           },
           {
            "bin_start": 152,
            "bin_end": 171.39999999999998,
            "count": 0
           },
           {
            "bin_start": 171.39999999999998,
            "bin_end": 190.79999999999998,
            "count": 0
           },
           {
            "bin_start": 190.79999999999998,
            "bin_end": 210.2,
            "count": 0
           },
           {
            "bin_start": 210.2,
            "bin_end": 229.6,
            "count": 0
           },
           {
            "bin_start": 229.6,
            "bin_end": 249,
            "count": 1
           }
          ]
         }
        },
        {
         "name": "PROM",
         "dtype": "float64",
         "stats": {
          "unique_count": 5,
          "nan_count": 0,
          "min": "54.0",
          "max": "242.0",
          "histogram": [
           {
            "bin_start": 54,
            "bin_end": 72.8,
            "count": 3
           },
           {
            "bin_start": 72.8,
            "bin_end": 91.6,
            "count": 0
           },
           {
            "bin_start": 91.6,
            "bin_end": 110.4,
            "count": 0
           },
           {
            "bin_start": 110.4,
            "bin_end": 129.2,
            "count": 1
           },
           {
            "bin_start": 129.2,
            "bin_end": 148,
            "count": 0
           },
           {
            "bin_start": 148,
            "bin_end": 166.8,
            "count": 0
           },
           {
            "bin_start": 166.8,
            "bin_end": 185.6,
            "count": 0
           },
           {
            "bin_start": 185.6,
            "bin_end": 204.4,
            "count": 0
           },
           {
            "bin_start": 204.4,
            "bin_end": 223.20000000000002,
            "count": 0
           },
           {
            "bin_start": 223.20000000000002,
            "bin_end": 242,
            "count": 1
           }
          ]
         }
        },
        {
         "name": "buildyear",
         "dtype": "float64",
         "stats": {
          "unique_count": 4,
          "nan_count": 0,
          "min": "1954.0",
          "max": "1990.0",
          "histogram": [
           {
            "bin_start": 1954,
            "bin_end": 1957.6,
            "count": 1
           },
           {
            "bin_start": 1957.6,
            "bin_end": 1961.2,
            "count": 0
           },
           {
            "bin_start": 1961.2,
            "bin_end": 1964.8,
            "count": 0
           },
           {
            "bin_start": 1964.8,
            "bin_end": 1968.4,
            "count": 0
           },
           {
            "bin_start": 1968.4,
            "bin_end": 1972,
            "count": 1
           },
           {
            "bin_start": 1972,
            "bin_end": 1975.6,
            "count": 0
           },
           {
            "bin_start": 1975.6,
            "bin_end": 1979.2,
            "count": 2
           },
           {
            "bin_start": 1979.2,
            "bin_end": 1982.8,
            "count": 0
           },
           {
            "bin_start": 1982.8,
            "bin_end": 1986.4,
            "count": 0
           },
           {
            "bin_start": 1986.4,
            "bin_end": 1990,
            "count": 1
           }
          ]
         }
        },
        {
         "name": "matrikkel",
         "dtype": "object",
         "stats": {
          "unique_count": 5,
          "nan_count": 0,
          "categories": [
           {
            "name": "301-231-166-37",
            "count": 1
           },
           {
            "name": "301-9-38-14",
            "count": 1
           },
           {
            "name": "3 others",
            "count": 3
           }
          ]
         }
        },
        {
         "name": "bedrooms",
         "dtype": "float64",
         "stats": {
          "unique_count": 4,
          "nan_count": 0,
          "min": "1.0",
          "max": "5.0",
          "histogram": [
           {
            "bin_start": 1,
            "bin_end": 1.4,
            "count": 2
           },
           {
            "bin_start": 1.4,
            "bin_end": 1.8,
            "count": 0
           },
           {
            "bin_start": 1.8,
            "bin_end": 2.2,
            "count": 1
           },
           {
            "bin_start": 2.2,
            "bin_end": 2.6,
            "count": 0
           },
           {
            "bin_start": 2.6,
            "bin_end": 3,
            "count": 0
           },
           {
            "bin_start": 3,
            "bin_end": 3.4000000000000004,
            "count": 0
           },
           {
            "bin_start": 3.4000000000000004,
            "bin_end": 3.8000000000000003,
            "count": 0
           },
           {
            "bin_start": 3.8000000000000003,
            "bin_end": 4.2,
            "count": 1
           },
           {
            "bin_start": 4.2,
            "bin_end": 4.6,
            "count": 0
           },
           {
            "bin_start": 4.6,
            "bin_end": 5,
            "count": 1
           }
          ]
         }
        },
        {
         "name": "rooms",
         "dtype": "float64",
         "stats": {
          "unique_count": 3,
          "nan_count": 2,
          "min": "2.0",
          "max": "10.0",
          "histogram": [
           {
            "bin_start": 2,
            "bin_end": 2.8,
            "count": 1
           },
           {
            "bin_start": 2.8,
            "bin_end": 3.6,
            "count": 0
           },
           {
            "bin_start": 3.6,
            "bin_end": 4.4,
            "count": 0
           },
           {
            "bin_start": 4.4,
            "bin_end": 5.2,
            "count": 1
           },
           {
            "bin_start": 5.2,
            "bin_end": 6,
            "count": 0
           },
           {
            "bin_start": 6,
            "bin_end": 6.800000000000001,
            "count": 0
           },
           {
            "bin_start": 6.800000000000001,
            "bin_end": 7.6000000000000005,
            "count": 0
           },
           {
            "bin_start": 7.6000000000000005,
            "bin_end": 8.4,
            "count": 0
           },
           {
            "bin_start": 8.4,
            "bin_end": 9.2,
            "count": 0
           },
           {
            "bin_start": 9.2,
            "bin_end": 10,
            "count": 1
           }
          ]
         }
        },
        {
         "name": "bathrooms",
         "dtype": "int64",
         "stats": {
          "unique_count": 1,
          "nan_count": 0,
          "min": "1",
          "max": "1",
          "histogram": [
           {
            "bin_start": 0.5,
            "bin_end": 0.6,
            "count": 0
           },
           {
            "bin_start": 0.6,
            "bin_end": 0.7,
            "count": 0
           },
           {
            "bin_start": 0.7,
            "bin_end": 0.8,
            "count": 0
           },
           {
            "bin_start": 0.8,
            "bin_end": 0.9,
            "count": 0
           },
           {
            "bin_start": 0.9,
            "bin_end": 1,
            "count": 0
           },
           {
            "bin_start": 1,
            "bin_end": 1.1,
            "count": 5
           },
           {
            "bin_start": 1.1,
            "bin_end": 1.2000000000000002,
            "count": 0
           },
           {
            "bin_start": 1.2000000000000002,
            "bin_end": 1.3,
            "count": 0
           },
           {
            "bin_start": 1.3,
            "bin_end": 1.4,
            "count": 0
           },
           {
            "bin_start": 1.4,
            "bin_end": 1.5,
            "count": 0
           }
          ]
         }
        },
        {
         "name": "WC",
         "dtype": "int64",
         "stats": {
          "unique_count": 2,
          "nan_count": 0,
          "min": "1",
          "max": "2",
          "histogram": [
           {
            "bin_start": 1,
            "bin_end": 1.1,
            "count": 4
           },
           {
            "bin_start": 1.1,
            "bin_end": 1.2,
            "count": 0
           },
           {
            "bin_start": 1.2,
            "bin_end": 1.3,
            "count": 0
           },
           {
            "bin_start": 1.3,
            "bin_end": 1.4,
            "count": 0
           },
           {
            "bin_start": 1.4,
            "bin_end": 1.5,
            "count": 0
           },
           {
            "bin_start": 1.5,
            "bin_end": 1.6,
            "count": 0
           },
           {
            "bin_start": 1.6,
            "bin_end": 1.7000000000000002,
            "count": 0
           },
           {
            "bin_start": 1.7000000000000002,
            "bin_end": 1.8,
            "count": 0
           },
           {
            "bin_start": 1.8,
            "bin_end": 1.9,
            "count": 0
           },
           {
            "bin_start": 1.9,
            "bin_end": 2,
            "count": 1
           }
          ]
         }
        },
        {
         "name": "elevator",
         "dtype": "object",
         "stats": {
          "unique_count": 2,
          "nan_count": 0,
          "categories": [
           {
            "name": "N",
            "count": 4
           },
           {
            "name": "J",
            "count": 1
           }
          ]
         }
        },
        {
         "name": "floor",
         "dtype": "float64",
         "stats": {
          "unique_count": 3,
          "nan_count": 1,
          "min": "1.0",
          "max": "6.0",
          "histogram": [
           {
            "bin_start": 1,
            "bin_end": 1.5,
            "count": 2
           },
           {
            "bin_start": 1.5,
            "bin_end": 2,
            "count": 0
           },
           {
            "bin_start": 2,
            "bin_end": 2.5,
            "count": 0
           },
           {
            "bin_start": 2.5,
            "bin_end": 3,
            "count": 0
           },
           {
            "bin_start": 3,
            "bin_end": 3.5,
            "count": 1
           },
           {
            "bin_start": 3.5,
            "bin_end": 4,
            "count": 0
           },
           {
            "bin_start": 4,
            "bin_end": 4.5,
            "count": 0
           },
           {
            "bin_start": 4.5,
            "bin_end": 5,
            "count": 0
           },
           {
            "bin_start": 5,
            "bin_end": 5.5,
            "count": 0
           },
           {
            "bin_start": 5.5,
            "bin_end": 6,
            "count": 1
           }
          ]
         }
        },
        {
         "name": "housingtype",
         "dtype": "object",
         "stats": {
          "unique_count": 2,
          "nan_count": 0,
          "categories": [
           {
            "name": "Leilighet",
            "count": 3
           },
           {
            "name": "Enebolig",
            "count": 2
           }
          ]
         }
        },
        {
         "name": "commondebt",
         "dtype": "float64",
         "stats": {
          "unique_count": 2,
          "nan_count": 3,
          "min": "18207.0",
          "max": "44838.0",
          "histogram": [
           {
            "bin_start": 18207,
            "bin_end": 20870.1,
            "count": 1
           },
           {
            "bin_start": 20870.1,
            "bin_end": 23533.2,
            "count": 0
           },
           {
            "bin_start": 23533.2,
            "bin_end": 26196.3,
            "count": 0
           },
           {
            "bin_start": 26196.3,
            "bin_end": 28859.4,
            "count": 0
           },
           {
            "bin_start": 28859.4,
            "bin_end": 31522.5,
            "count": 0
           },
           {
            "bin_start": 31522.5,
            "bin_end": 34185.6,
            "count": 0
           },
           {
            "bin_start": 34185.6,
            "bin_end": 36848.7,
            "count": 0
           },
           {
            "bin_start": 36848.7,
            "bin_end": 39511.8,
            "count": 0
           },
           {
            "bin_start": 39511.8,
            "bin_end": 42174.899999999994,
            "count": 0
           },
           {
            "bin_start": 42174.899999999994,
            "bin_end": 44838,
            "count": 1
           }
          ]
         }
        },
        {
         "name": "commoncosts",
         "dtype": "float64",
         "stats": {
          "unique_count": 3,
          "nan_count": 2,
          "min": "2866.0",
          "max": "3127.0",
          "histogram": [
           {
            "bin_start": 2866,
            "bin_end": 2892.1,
            "count": 1
           },
           {
            "bin_start": 2892.1,
            "bin_end": 2918.2,
            "count": 0
           },
           {
            "bin_start": 2918.2,
            "bin_end": 2944.3,
            "count": 0
           },
           {
            "bin_start": 2944.3,
            "bin_end": 2970.4,
            "count": 0
           },
           {
            "bin_start": 2970.4,
            "bin_end": 2996.5,
            "count": 0
           },
           {
            "bin_start": 2996.5,
            "bin_end": 3022.6,
            "count": 0
           },
           {
            "bin_start": 3022.6,
            "bin_end": 3048.7,
            "count": 0
           },
           {
            "bin_start": 3048.7,
            "bin_end": 3074.8,
            "count": 1
           },
           {
            "bin_start": 3074.8,
            "bin_end": 3100.9,
            "count": 0
           },
           {
            "bin_start": 3100.9,
            "bin_end": 3127,
            "count": 1
           }
          ]
         }
        },
        {
         "name": "F_Aircondition",
         "dtype": "float64",
         "stats": {
          "unique_count": 0,
          "nan_count": 5,
          "min": null,
          "max": null,
          "histogram": [
           {
            "bin_start": 0,
            "bin_end": 0.1,
            "count": 0
           },
           {
            "bin_start": 0.1,
            "bin_end": 0.2,
            "count": 0
           },
           {
            "bin_start": 0.2,
            "bin_end": 0.30000000000000004,
            "count": 0
           },
           {
            "bin_start": 0.30000000000000004,
            "bin_end": 0.4,
            "count": 0
           },
           {
            "bin_start": 0.4,
            "bin_end": 0.5,
            "count": 0
           },
           {
            "bin_start": 0.5,
            "bin_end": 0.6000000000000001,
            "count": 0
           },
           {
            "bin_start": 0.6000000000000001,
            "bin_end": 0.7000000000000001,
            "count": 0
           },
           {
            "bin_start": 0.7000000000000001,
            "bin_end": 0.8,
            "count": 0
           },
           {
            "bin_start": 0.8,
            "bin_end": 0.9,
            "count": 0
           },
           {
            "bin_start": 0.9,
            "bin_end": 1,
            "count": 0
           }
          ]
         }
        },
        {
         "name": "F_Alarm",
         "dtype": "float64",
         "stats": {
          "unique_count": 0,
          "nan_count": 5,
          "min": null,
          "max": null,
          "histogram": [
           {
            "bin_start": 0,
            "bin_end": 0.1,
            "count": 0
           },
           {
            "bin_start": 0.1,
            "bin_end": 0.2,
            "count": 0
           },
           {
            "bin_start": 0.2,
            "bin_end": 0.30000000000000004,
            "count": 0
           },
           {
            "bin_start": 0.30000000000000004,
            "bin_end": 0.4,
            "count": 0
           },
           {
            "bin_start": 0.4,
            "bin_end": 0.5,
            "count": 0
           },
           {
            "bin_start": 0.5,
            "bin_end": 0.6000000000000001,
            "count": 0
           },
           {
            "bin_start": 0.6000000000000001,
            "bin_end": 0.7000000000000001,
            "count": 0
           },
           {
            "bin_start": 0.7000000000000001,
            "bin_end": 0.8,
            "count": 0
           },
           {
            "bin_start": 0.8,
            "bin_end": 0.9,
            "count": 0
           },
           {
            "bin_start": 0.9,
            "bin_end": 1,
            "count": 0
           }
          ]
         }
        },
        {
         "name": "F_BalkongTerrasse",
         "dtype": "float64",
         "stats": {
          "unique_count": 1,
          "nan_count": 1,
          "min": "1.0",
          "max": "1.0",
          "histogram": [
           {
            "bin_start": 0.5,
            "bin_end": 0.6,
            "count": 0
           },
           {
            "bin_start": 0.6,
            "bin_end": 0.7,
            "count": 0
           },
           {
            "bin_start": 0.7,
            "bin_end": 0.8,
            "count": 0
           },
           {
            "bin_start": 0.8,
            "bin_end": 0.9,
            "count": 0
           },
           {
            "bin_start": 0.9,
            "bin_end": 1,
            "count": 0
           },
           {
            "bin_start": 1,
            "bin_end": 1.1,
            "count": 4
           },
           {
            "bin_start": 1.1,
            "bin_end": 1.2000000000000002,
            "count": 0
           },
           {
            "bin_start": 1.2000000000000002,
            "bin_end": 1.3,
            "count": 0
           },
           {
            "bin_start": 1.3,
            "bin_end": 1.4,
            "count": 0
           },
           {
            "bin_start": 1.4,
            "bin_end": 1.5,
            "count": 0
           }
          ]
         }
        },
        {
         "name": "F_Barnevennlig",
         "dtype": "float64",
         "stats": {
          "unique_count": 1,
          "nan_count": 1,
          "min": "1.0",
          "max": "1.0",
          "histogram": [
           {
            "bin_start": 0.5,
            "bin_end": 0.6,
            "count": 0
           },
           {
            "bin_start": 0.6,
            "bin_end": 0.7,
            "count": 0
           },
           {
            "bin_start": 0.7,
            "bin_end": 0.8,
            "count": 0
           },
           {
            "bin_start": 0.8,
            "bin_end": 0.9,
            "count": 0
           },
           {
            "bin_start": 0.9,
            "bin_end": 1,
            "count": 0
           },
           {
            "bin_start": 1,
            "bin_end": 1.1,
            "count": 4
           },
           {
            "bin_start": 1.1,
            "bin_end": 1.2000000000000002,
            "count": 0
           },
           {
            "bin_start": 1.2000000000000002,
            "bin_end": 1.3,
            "count": 0
           },
           {
            "bin_start": 1.3,
            "bin_end": 1.4,
            "count": 0
           },
           {
            "bin_start": 1.4,
            "bin_end": 1.5,
            "count": 0
           }
          ]
         }
        },
        {
         "name": "F_Bredbåndstilknytning",
         "dtype": "float64",
         "stats": {
          "unique_count": 1,
          "nan_count": 3,
          "min": "1.0",
          "max": "1.0",
          "histogram": [
           {
            "bin_start": 0.5,
            "bin_end": 0.6,
            "count": 0
           },
           {
            "bin_start": 0.6,
            "bin_end": 0.7,
            "count": 0
           },
           {
            "bin_start": 0.7,
            "bin_end": 0.8,
            "count": 0
           },
           {
            "bin_start": 0.8,
            "bin_end": 0.9,
            "count": 0
           },
           {
            "bin_start": 0.9,
            "bin_end": 1,
            "count": 0
           },
           {
            "bin_start": 1,
            "bin_end": 1.1,
            "count": 2
           },
           {
            "bin_start": 1.1,
            "bin_end": 1.2000000000000002,
            "count": 0
           },
           {
            "bin_start": 1.2000000000000002,
            "bin_end": 1.3,
            "count": 0
           },
           {
            "bin_start": 1.3,
            "bin_end": 1.4,
            "count": 0
           },
           {
            "bin_start": 1.4,
            "bin_end": 1.5,
            "count": 0
           }
          ]
         }
        },
        {
         "name": "F_Fellesvaskeri",
         "dtype": "float64",
         "stats": {
          "unique_count": 0,
          "nan_count": 5,
          "min": null,
          "max": null,
          "histogram": [
           {
            "bin_start": 0,
            "bin_end": 0.1,
            "count": 0
           },
           {
            "bin_start": 0.1,
            "bin_end": 0.2,
            "count": 0
           },
           {
            "bin_start": 0.2,
            "bin_end": 0.30000000000000004,
            "count": 0
           },
           {
            "bin_start": 0.30000000000000004,
            "bin_end": 0.4,
            "count": 0
           },
           {
            "bin_start": 0.4,
            "bin_end": 0.5,
            "count": 0
           },
           {
            "bin_start": 0.5,
            "bin_end": 0.6000000000000001,
            "count": 0
           },
           {
            "bin_start": 0.6000000000000001,
            "bin_end": 0.7000000000000001,
            "count": 0
           },
           {
            "bin_start": 0.7000000000000001,
            "bin_end": 0.8,
            "count": 0
           },
           {
            "bin_start": 0.8,
            "bin_end": 0.9,
            "count": 0
           },
           {
            "bin_start": 0.9,
            "bin_end": 1,
            "count": 0
           }
          ]
         }
        },
        {
         "name": "F_GarasjeP-plass",
         "dtype": "float64",
         "stats": {
          "unique_count": 1,
          "nan_count": 2,
          "min": "1.0",
          "max": "1.0",
          "histogram": [
           {
            "bin_start": 0.5,
            "bin_end": 0.6,
            "count": 0
           },
           {
            "bin_start": 0.6,
            "bin_end": 0.7,
            "count": 0
           },
           {
            "bin_start": 0.7,
            "bin_end": 0.8,
            "count": 0
           },
           {
            "bin_start": 0.8,
            "bin_end": 0.9,
            "count": 0
           },
           {
            "bin_start": 0.9,
            "bin_end": 1,
            "count": 0
           },
           {
            "bin_start": 1,
            "bin_end": 1.1,
            "count": 3
           },
           {
            "bin_start": 1.1,
            "bin_end": 1.2000000000000002,
            "count": 0
           },
           {
            "bin_start": 1.2000000000000002,
            "bin_end": 1.3,
            "count": 0
           },
           {
            "bin_start": 1.3,
            "bin_end": 1.4,
            "count": 0
           },
           {
            "bin_start": 1.4,
            "bin_end": 1.5,
            "count": 0
           }
          ]
         }
        },
        {
         "name": "F_Heis",
         "dtype": "float64",
         "stats": {
          "unique_count": 1,
          "nan_count": 4,
          "min": "1.0",
          "max": "1.0",
          "histogram": [
           {
            "bin_start": 0.5,
            "bin_end": 0.6,
            "count": 0
           },
           {
            "bin_start": 0.6,
            "bin_end": 0.7,
            "count": 0
           },
           {
            "bin_start": 0.7,
            "bin_end": 0.8,
            "count": 0
           },
           {
            "bin_start": 0.8,
            "bin_end": 0.9,
            "count": 0
           },
           {
            "bin_start": 0.9,
            "bin_end": 1,
            "count": 0
           },
           {
            "bin_start": 1,
            "bin_end": 1.1,
            "count": 1
           },
           {
            "bin_start": 1.1,
            "bin_end": 1.2000000000000002,
            "count": 0
           },
           {
            "bin_start": 1.2000000000000002,
            "bin_end": 1.3,
            "count": 0
           },
           {
            "bin_start": 1.3,
            "bin_end": 1.4,
            "count": 0
           },
           {
            "bin_start": 1.4,
            "bin_end": 1.5,
            "count": 0
           }
          ]
         }
        },
        {
         "name": "F_Ingen gjenboere",
         "dtype": "float64",
         "stats": {
          "unique_count": 1,
          "nan_count": 2,
          "min": "1.0",
          "max": "1.0",
          "histogram": [
           {
            "bin_start": 0.5,
            "bin_end": 0.6,
            "count": 0
           },
           {
            "bin_start": 0.6,
            "bin_end": 0.7,
            "count": 0
           },
           {
            "bin_start": 0.7,
            "bin_end": 0.8,
            "count": 0
           },
           {
            "bin_start": 0.8,
            "bin_end": 0.9,
            "count": 0
           },
           {
            "bin_start": 0.9,
            "bin_end": 1,
            "count": 0
           },
           {
            "bin_start": 1,
            "bin_end": 1.1,
            "count": 3
           },
           {
            "bin_start": 1.1,
            "bin_end": 1.2000000000000002,
            "count": 0
           },
           {
            "bin_start": 1.2000000000000002,
            "bin_end": 1.3,
            "count": 0
           },
           {
            "bin_start": 1.3,
            "bin_end": 1.4,
            "count": 0
           },
           {
            "bin_start": 1.4,
            "bin_end": 1.5,
            "count": 0
           }
          ]
         }
        },
        {
         "name": "F_Lademulighet",
         "dtype": "float64",
         "stats": {
          "unique_count": 0,
          "nan_count": 5,
          "min": null,
          "max": null,
          "histogram": [
           {
            "bin_start": 0,
            "bin_end": 0.1,
            "count": 0
           },
           {
            "bin_start": 0.1,
            "bin_end": 0.2,
            "count": 0
           },
           {
            "bin_start": 0.2,
            "bin_end": 0.30000000000000004,
            "count": 0
           },
           {
            "bin_start": 0.30000000000000004,
            "bin_end": 0.4,
            "count": 0
           },
           {
            "bin_start": 0.4,
            "bin_end": 0.5,
            "count": 0
           },
           {
            "bin_start": 0.5,
            "bin_end": 0.6000000000000001,
            "count": 0
           },
           {
            "bin_start": 0.6000000000000001,
            "bin_end": 0.7000000000000001,
            "count": 0
           },
           {
            "bin_start": 0.7000000000000001,
            "bin_end": 0.8,
            "count": 0
           },
           {
            "bin_start": 0.8,
            "bin_end": 0.9,
            "count": 0
           },
           {
            "bin_start": 0.9,
            "bin_end": 1,
            "count": 0
           }
          ]
         }
        },
        {
         "name": "F_Livsløpsstandard",
         "dtype": "float64",
         "stats": {
          "unique_count": 0,
          "nan_count": 5,
          "min": null,
          "max": null,
          "histogram": [
           {
            "bin_start": 0,
            "bin_end": 0.1,
            "count": 0
           },
           {
            "bin_start": 0.1,
            "bin_end": 0.2,
            "count": 0
           },
           {
            "bin_start": 0.2,
            "bin_end": 0.30000000000000004,
            "count": 0
           },
           {
            "bin_start": 0.30000000000000004,
            "bin_end": 0.4,
            "count": 0
           },
           {
            "bin_start": 0.4,
            "bin_end": 0.5,
            "count": 0
           },
           {
            "bin_start": 0.5,
            "bin_end": 0.6000000000000001,
            "count": 0
           },
           {
            "bin_start": 0.6000000000000001,
            "bin_end": 0.7000000000000001,
            "count": 0
           },
           {
            "bin_start": 0.7000000000000001,
            "bin_end": 0.8,
            "count": 0
           },
           {
            "bin_start": 0.8,
            "bin_end": 0.9,
            "count": 0
           },
           {
            "bin_start": 0.9,
            "bin_end": 1,
            "count": 0
           }
          ]
         }
        },
        {
         "name": "F_Moderne",
         "dtype": "float64",
         "stats": {
          "unique_count": 1,
          "nan_count": 4,
          "min": "1.0",
          "max": "1.0",
          "histogram": [
           {
            "bin_start": 0.5,
            "bin_end": 0.6,
            "count": 0
           },
           {
            "bin_start": 0.6,
            "bin_end": 0.7,
            "count": 0
           },
           {
            "bin_start": 0.7,
            "bin_end": 0.8,
            "count": 0
           },
           {
            "bin_start": 0.8,
            "bin_end": 0.9,
            "count": 0
           },
           {
            "bin_start": 0.9,
            "bin_end": 1,
            "count": 0
           },
           {
            "bin_start": 1,
            "bin_end": 1.1,
            "count": 1
           },
           {
            "bin_start": 1.1,
            "bin_end": 1.2000000000000002,
            "count": 0
           },
           {
            "bin_start": 1.2000000000000002,
            "bin_end": 1.3,
            "count": 0
           },
           {
            "bin_start": 1.3,
            "bin_end": 1.4,
            "count": 0
           },
           {
            "bin_start": 1.4,
            "bin_end": 1.5,
            "count": 0
           }
          ]
         }
        },
        {
         "name": "F_Offentlig vannkloakk",
         "dtype": "float64",
         "stats": {
          "unique_count": 1,
          "nan_count": 2,
          "min": "1.0",
          "max": "1.0",
          "histogram": [
           {
            "bin_start": 0.5,
            "bin_end": 0.6,
            "count": 0
           },
           {
            "bin_start": 0.6,
            "bin_end": 0.7,
            "count": 0
           },
           {
            "bin_start": 0.7,
            "bin_end": 0.8,
            "count": 0
           },
           {
            "bin_start": 0.8,
            "bin_end": 0.9,
            "count": 0
           },
           {
            "bin_start": 0.9,
            "bin_end": 1,
            "count": 0
           },
           {
            "bin_start": 1,
            "bin_end": 1.1,
            "count": 3
           },
           {
            "bin_start": 1.1,
            "bin_end": 1.2000000000000002,
            "count": 0
           },
           {
            "bin_start": 1.2000000000000002,
            "bin_end": 1.3,
            "count": 0
           },
           {
            "bin_start": 1.3,
            "bin_end": 1.4,
            "count": 0
           },
           {
            "bin_start": 1.4,
            "bin_end": 1.5,
            "count": 0
           }
          ]
         }
        },
        {
         "name": "F_Parkett",
         "dtype": "float64",
         "stats": {
          "unique_count": 1,
          "nan_count": 3,
          "min": "1.0",
          "max": "1.0",
          "histogram": [
           {
            "bin_start": 0.5,
            "bin_end": 0.6,
            "count": 0
           },
           {
            "bin_start": 0.6,
            "bin_end": 0.7,
            "count": 0
           },
           {
            "bin_start": 0.7,
            "bin_end": 0.8,
            "count": 0
           },
           {
            "bin_start": 0.8,
            "bin_end": 0.9,
            "count": 0
           },
           {
            "bin_start": 0.9,
            "bin_end": 1,
            "count": 0
           },
           {
            "bin_start": 1,
            "bin_end": 1.1,
            "count": 2
           },
           {
            "bin_start": 1.1,
            "bin_end": 1.2000000000000002,
            "count": 0
           },
           {
            "bin_start": 1.2000000000000002,
            "bin_end": 1.3,
            "count": 0
           },
           {
            "bin_start": 1.3,
            "bin_end": 1.4,
            "count": 0
           },
           {
            "bin_start": 1.4,
            "bin_end": 1.5,
            "count": 0
           }
          ]
         }
        },
        {
         "name": "F_PeisIldsted",
         "dtype": "float64",
         "stats": {
          "unique_count": 1,
          "nan_count": 4,
          "min": "1.0",
          "max": "1.0",
          "histogram": [
           {
            "bin_start": 0.5,
            "bin_end": 0.6,
            "count": 0
           },
           {
            "bin_start": 0.6,
            "bin_end": 0.7,
            "count": 0
           },
           {
            "bin_start": 0.7,
            "bin_end": 0.8,
            "count": 0
           },
           {
            "bin_start": 0.8,
            "bin_end": 0.9,
            "count": 0
           },
           {
            "bin_start": 0.9,
            "bin_end": 1,
            "count": 0
           },
           {
            "bin_start": 1,
            "bin_end": 1.1,
            "count": 1
           },
           {
            "bin_start": 1.1,
            "bin_end": 1.2000000000000002,
            "count": 0
           },
           {
            "bin_start": 1.2000000000000002,
            "bin_end": 1.3,
            "count": 0
           },
           {
            "bin_start": 1.3,
            "bin_end": 1.4,
            "count": 0
           },
           {
            "bin_start": 1.4,
            "bin_end": 1.5,
            "count": 0
           }
          ]
         }
        },
        {
         "name": "F_Rolig",
         "dtype": "float64",
         "stats": {
          "unique_count": 1,
          "nan_count": 1,
          "min": "1.0",
          "max": "1.0",
          "histogram": [
           {
            "bin_start": 0.5,
            "bin_end": 0.6,
            "count": 0
           },
           {
            "bin_start": 0.6,
            "bin_end": 0.7,
            "count": 0
           },
           {
            "bin_start": 0.7,
            "bin_end": 0.8,
            "count": 0
           },
           {
            "bin_start": 0.8,
            "bin_end": 0.9,
            "count": 0
           },
           {
            "bin_start": 0.9,
            "bin_end": 1,
            "count": 0
           },
           {
            "bin_start": 1,
            "bin_end": 1.1,
            "count": 4
           },
           {
            "bin_start": 1.1,
            "bin_end": 1.2000000000000002,
            "count": 0
           },
           {
            "bin_start": 1.2000000000000002,
            "bin_end": 1.3,
            "count": 0
           },
           {
            "bin_start": 1.3,
            "bin_end": 1.4,
            "count": 0
           },
           {
            "bin_start": 1.4,
            "bin_end": 1.5,
            "count": 0
           }
          ]
         }
        },
        {
         "name": "F_Sentralt",
         "dtype": "float64",
         "stats": {
          "unique_count": 1,
          "nan_count": 3,
          "min": "1.0",
          "max": "1.0",
          "histogram": [
           {
            "bin_start": 0.5,
            "bin_end": 0.6,
            "count": 0
           },
           {
            "bin_start": 0.6,
            "bin_end": 0.7,
            "count": 0
           },
           {
            "bin_start": 0.7,
            "bin_end": 0.8,
            "count": 0
           },
           {
            "bin_start": 0.8,
            "bin_end": 0.9,
            "count": 0
           },
           {
            "bin_start": 0.9,
            "bin_end": 1,
            "count": 0
           },
           {
            "bin_start": 1,
            "bin_end": 1.1,
            "count": 2
           },
           {
            "bin_start": 1.1,
            "bin_end": 1.2000000000000002,
            "count": 0
           },
           {
            "bin_start": 1.2000000000000002,
            "bin_end": 1.3,
            "count": 0
           },
           {
            "bin_start": 1.3,
            "bin_end": 1.4,
            "count": 0
           },
           {
            "bin_start": 1.4,
            "bin_end": 1.5,
            "count": 0
           }
          ]
         }
        },
        {
         "name": "F_Utsikt",
         "dtype": "float64",
         "stats": {
          "unique_count": 1,
          "nan_count": 3,
          "min": "1.0",
          "max": "1.0",
          "histogram": [
           {
            "bin_start": 0.5,
            "bin_end": 0.6,
            "count": 0
           },
           {
            "bin_start": 0.6,
            "bin_end": 0.7,
            "count": 0
           },
           {
            "bin_start": 0.7,
            "bin_end": 0.8,
            "count": 0
           },
           {
            "bin_start": 0.8,
            "bin_end": 0.9,
            "count": 0
           },
           {
            "bin_start": 0.9,
            "bin_end": 1,
            "count": 0
           },
           {
            "bin_start": 1,
            "bin_end": 1.1,
            "count": 2
           },
           {
            "bin_start": 1.1,
            "bin_end": 1.2000000000000002,
            "count": 0
           },
           {
            "bin_start": 1.2000000000000002,
            "bin_end": 1.3,
            "count": 0
           },
           {
            "bin_start": 1.3,
            "bin_end": 1.4,
            "count": 0
           },
           {
            "bin_start": 1.4,
            "bin_end": 1.5,
            "count": 0
           }
          ]
         }
        },
        {
         "name": "F_Vaktmester-vektertjeneste",
         "dtype": "float64",
         "stats": {
          "unique_count": 1,
          "nan_count": 2,
          "min": "1.0",
          "max": "1.0",
          "histogram": [
           {
            "bin_start": 0.5,
            "bin_end": 0.6,
            "count": 0
           },
           {
            "bin_start": 0.6,
            "bin_end": 0.7,
            "count": 0
           },
           {
            "bin_start": 0.7,
            "bin_end": 0.8,
            "count": 0
           },
           {
            "bin_start": 0.8,
            "bin_end": 0.9,
            "count": 0
           },
           {
            "bin_start": 0.9,
            "bin_end": 1,
            "count": 0
           },
           {
            "bin_start": 1,
            "bin_end": 1.1,
            "count": 3
           },
           {
            "bin_start": 1.1,
            "bin_end": 1.2000000000000002,
            "count": 0
           },
           {
            "bin_start": 1.2000000000000002,
            "bin_end": 1.3,
            "count": 0
           },
           {
            "bin_start": 1.3,
            "bin_end": 1.4,
            "count": 0
           },
           {
            "bin_start": 1.4,
            "bin_end": 1.5,
            "count": 0
           }
          ]
         }
        },
        {
         "name": "F_Bademulighet",
         "dtype": "float64",
         "stats": {
          "unique_count": 0,
          "nan_count": 5,
          "min": null,
          "max": null,
          "histogram": [
           {
            "bin_start": 0,
            "bin_end": 0.1,
            "count": 0
           },
           {
            "bin_start": 0.1,
            "bin_end": 0.2,
            "count": 0
           },
           {
            "bin_start": 0.2,
            "bin_end": 0.30000000000000004,
            "count": 0
           },
           {
            "bin_start": 0.30000000000000004,
            "bin_end": 0.4,
            "count": 0
           },
           {
            "bin_start": 0.4,
            "bin_end": 0.5,
            "count": 0
           },
           {
            "bin_start": 0.5,
            "bin_end": 0.6000000000000001,
            "count": 0
           },
           {
            "bin_start": 0.6000000000000001,
            "bin_end": 0.7000000000000001,
            "count": 0
           },
           {
            "bin_start": 0.7000000000000001,
            "bin_end": 0.8,
            "count": 0
           },
           {
            "bin_start": 0.8,
            "bin_end": 0.9,
            "count": 0
           },
           {
            "bin_start": 0.9,
            "bin_end": 1,
            "count": 0
           }
          ]
         }
        },
        {
         "name": "F_Fiskemulighet",
         "dtype": "float64",
         "stats": {
          "unique_count": 0,
          "nan_count": 5,
          "min": null,
          "max": null,
          "histogram": [
           {
            "bin_start": 0,
            "bin_end": 0.1,
            "count": 0
           },
           {
            "bin_start": 0.1,
            "bin_end": 0.2,
            "count": 0
           },
           {
            "bin_start": 0.2,
            "bin_end": 0.30000000000000004,
            "count": 0
           },
           {
            "bin_start": 0.30000000000000004,
            "bin_end": 0.4,
            "count": 0
           },
           {
            "bin_start": 0.4,
            "bin_end": 0.5,
            "count": 0
           },
           {
            "bin_start": 0.5,
            "bin_end": 0.6000000000000001,
            "count": 0
           },
           {
            "bin_start": 0.6000000000000001,
            "bin_end": 0.7000000000000001,
            "count": 0
           },
           {
            "bin_start": 0.7000000000000001,
            "bin_end": 0.8,
            "count": 0
           },
           {
            "bin_start": 0.8,
            "bin_end": 0.9,
            "count": 0
           },
           {
            "bin_start": 0.9,
            "bin_end": 1,
            "count": 0
           }
          ]
         }
        },
        {
         "name": "F_Turterreng",
         "dtype": "float64",
         "stats": {
          "unique_count": 1,
          "nan_count": 3,
          "min": "1.0",
          "max": "1.0",
          "histogram": [
           {
            "bin_start": 0.5,
            "bin_end": 0.6,
            "count": 0
           },
           {
            "bin_start": 0.6,
            "bin_end": 0.7,
            "count": 0
           },
           {
            "bin_start": 0.7,
            "bin_end": 0.8,
            "count": 0
           },
           {
            "bin_start": 0.8,
            "bin_end": 0.9,
            "count": 0
           },
           {
            "bin_start": 0.9,
            "bin_end": 1,
            "count": 0
           },
           {
            "bin_start": 1,
            "bin_end": 1.1,
            "count": 2
           },
           {
            "bin_start": 1.1,
            "bin_end": 1.2000000000000002,
            "count": 0
           },
           {
            "bin_start": 1.2000000000000002,
            "bin_end": 1.3,
            "count": 0
           },
           {
            "bin_start": 1.3,
            "bin_end": 1.4,
            "count": 0
           },
           {
            "bin_start": 1.4,
            "bin_end": 1.5,
            "count": 0
           }
          ]
         }
        },
        {
         "name": "adtitle",
         "dtype": "object",
         "stats": {
          "unique_count": 5,
          "nan_count": 0,
          "categories": [
           {
            "name": "VISNING AVLYST! Direkte bud til selger. Toppleilighet med stor, solrik takterrasse (14 kvm) - Ingen innsyn - Garasje",
            "count": 1
           },
           {
            "name": "Innbydende og lys 2-roms hjørneleilighet - Vestvendt terrasse mot hage - Parkeringsplass - Rekkehusfølelse",
            "count": 1
           },
           {
            "name": "3 others",
            "count": 3
           }
          ]
         }
        },
        {
         "name": "N_modernisering",
         "dtype": "bool",
         "stats": {
          "unique_count": 1,
          "nan_count": 0,
          "categories": [
           {
            "name": "False",
            "count": 5
           }
          ]
         }
        },
        {
         "name": "N_oppussing",
         "dtype": "bool",
         "stats": {
          "unique_count": 2,
          "nan_count": 0,
          "categories": [
           {
            "name": "False",
            "count": 4
           },
           {
            "name": "True",
            "count": 1
           }
          ]
         }
        },
        {
         "name": "N_regulert",
         "dtype": "bool",
         "stats": {
          "unique_count": 1,
          "nan_count": 0,
          "categories": [
           {
            "name": "False",
            "count": 5
           }
          ]
         }
        },
        {
         "name": "N_garasjemulighet",
         "dtype": "bool",
         "stats": {
          "unique_count": 1,
          "nan_count": 0,
          "categories": [
           {
            "name": "False",
            "count": 5
           }
          ]
         }
        },
        {
         "name": "postcode",
         "dtype": "int64",
         "stats": {
          "unique_count": 5,
          "nan_count": 0,
          "min": "283",
          "max": "1184",
          "histogram": [
           {
            "bin_start": 283,
            "bin_end": 373.1,
            "count": 1
           },
           {
            "bin_start": 373.1,
            "bin_end": 463.2,
            "count": 0
           },
           {
            "bin_start": 463.2,
            "bin_end": 553.3,
            "count": 0
           },
           {
            "bin_start": 553.3,
            "bin_end": 643.4,
            "count": 0
           },
           {
            "bin_start": 643.4,
            "bin_end": 733.5,
            "count": 1
           },
           {
            "bin_start": 733.5,
            "bin_end": 823.5999999999999,
            "count": 0
           },
           {
            "bin_start": 823.5999999999999,
            "bin_end": 913.6999999999999,
            "count": 0
           },
           {
            "bin_start": 913.6999999999999,
            "bin_end": 1003.8,
            "count": 0
           },
           {
            "bin_start": 1003.8,
            "bin_end": 1093.9,
            "count": 1
           },
           {
            "bin_start": 1093.9,
            "bin_end": 1184,
            "count": 2
           }
          ]
         }
        },
        {
         "name": "Parking",
         "dtype": "int64",
         "stats": {
          "unique_count": 2,
          "nan_count": 0,
          "min": "0",
          "max": "1",
          "histogram": [
           {
            "bin_start": 0,
            "bin_end": 0.1,
            "count": 2
           },
           {
            "bin_start": 0.1,
            "bin_end": 0.2,
            "count": 0
           },
           {
            "bin_start": 0.2,
            "bin_end": 0.30000000000000004,
            "count": 0
           },
           {
            "bin_start": 0.30000000000000004,
            "bin_end": 0.4,
            "count": 0
           },
           {
            "bin_start": 0.4,
            "bin_end": 0.5,
            "count": 0
           },
           {
            "bin_start": 0.5,
            "bin_end": 0.6000000000000001,
            "count": 0
           },
           {
            "bin_start": 0.6000000000000001,
            "bin_end": 0.7000000000000001,
            "count": 0
           },
           {
            "bin_start": 0.7000000000000001,
            "bin_end": 0.8,
            "count": 0
           },
           {
            "bin_start": 0.8,
            "bin_end": 0.9,
            "count": 0
           },
           {
            "bin_start": 0.9,
            "bin_end": 1,
            "count": 3
           }
          ]
         }
        },
        {
         "name": "price_inc_debt",
         "dtype": "float64",
         "stats": {
          "unique_count": 5,
          "nan_count": 0,
          "min": "1678207.0",
          "max": "9900000.0",
          "histogram": [
           {
            "bin_start": 1678207,
            "bin_end": 2500386.3,
            "count": 1
           },
           {
            "bin_start": 2500386.3,
            "bin_end": 3322565.6,
            "count": 0
           },
           {
            "bin_start": 3322565.6,
            "bin_end": 4144744.9000000004,
            "count": 1
           },
           {
            "bin_start": 4144744.9000000004,
            "bin_end": 4966924.2,
            "count": 0
           },
           {
            "bin_start": 4966924.2,
            "bin_end": 5789103.5,
            "count": 2
           },
           {
            "bin_start": 5789103.5,
            "bin_end": 6611282.800000001,
            "count": 0
           },
           {
            "bin_start": 6611282.800000001,
            "bin_end": 7433462.100000001,
            "count": 0
           },
           {
            "bin_start": 7433462.100000001,
            "bin_end": 8255641.4,
            "count": 0
           },
           {
            "bin_start": 8255641.4,
            "bin_end": 9077820.7,
            "count": 0
           },
           {
            "bin_start": 9077820.7,
            "bin_end": 9900000,
            "count": 1
           }
          ]
         }
        },
        {
         "name": "area_id",
         "dtype": "int64",
         "stats": {
          "unique_count": 4,
          "nan_count": 0,
          "min": "1",
          "max": "14",
          "histogram": [
           {
            "bin_start": 1,
            "bin_end": 2.3,
            "count": 1
           },
           {
            "bin_start": 2.3,
            "bin_end": 3.6,
            "count": 0
           },
           {
            "bin_start": 3.6,
            "bin_end": 4.9,
            "count": 0
           },
           {
            "bin_start": 4.9,
            "bin_end": 6.2,
            "count": 1
           },
           {
            "bin_start": 6.2,
            "bin_end": 7.5,
            "count": 0
           },
           {
            "bin_start": 7.5,
            "bin_end": 8.8,
            "count": 0
           },
           {
            "bin_start": 8.8,
            "bin_end": 10.1,
            "count": 0
           },
           {
            "bin_start": 10.1,
            "bin_end": 11.4,
            "count": 0
           },
           {
            "bin_start": 11.4,
            "bin_end": 12.700000000000001,
            "count": 1
           },
           {
            "bin_start": 12.700000000000001,
            "bin_end": 14,
            "count": 2
           }
          ]
         }
        },
        {
         "name": "Bydel_lat",
         "dtype": "float64",
         "stats": {
          "unique_count": 4,
          "nan_count": 0,
          "min": "59.875677",
          "max": "59.93598",
          "histogram": [
           {
            "bin_start": 59.875677,
            "bin_end": 59.8817073,
            "count": 2
           },
           {
            "bin_start": 59.8817073,
            "bin_end": 59.8877376,
            "count": 0
           },
           {
            "bin_start": 59.8877376,
            "bin_end": 59.8937679,
            "count": 0
           },
           {
            "bin_start": 59.8937679,
            "bin_end": 59.8997982,
            "count": 0
           },
           {
            "bin_start": 59.8997982,
            "bin_end": 59.9058285,
            "count": 0
           },
           {
            "bin_start": 59.9058285,
            "bin_end": 59.911858800000005,
            "count": 1
           },
           {
            "bin_start": 59.911858800000005,
            "bin_end": 59.917889100000004,
            "count": 0
           },
           {
            "bin_start": 59.917889100000004,
            "bin_end": 59.9239194,
            "count": 0
           },
           {
            "bin_start": 59.9239194,
            "bin_end": 59.9299497,
            "count": 1
           },
           {
            "bin_start": 59.9299497,
            "bin_end": 59.93598,
            "count": 1
           }
          ]
         }
        },
        {
         "name": "Bydel_lng",
         "dtype": "float64",
         "stats": {
          "unique_count": 4,
          "nan_count": 0,
          "min": "10.664877",
          "max": "10.877371",
          "histogram": [
           {
            "bin_start": 10.664877,
            "bin_end": 10.686126400000001,
            "count": 1
           },
           {
            "bin_start": 10.686126400000001,
            "bin_end": 10.707375800000001,
            "count": 0
           },
           {
            "bin_start": 10.707375800000001,
            "bin_end": 10.7286252,
            "count": 0
           },
           {
            "bin_start": 10.7286252,
            "bin_end": 10.7498746,
            "count": 0
           },
           {
            "bin_start": 10.7498746,
            "bin_end": 10.771124,
            "count": 0
           },
           {
            "bin_start": 10.771124,
            "bin_end": 10.7923734,
            "count": 3
           },
           {
            "bin_start": 10.7923734,
            "bin_end": 10.813622800000001,
            "count": 0
           },
           {
            "bin_start": 10.813622800000001,
            "bin_end": 10.8348722,
            "count": 0
           },
           {
            "bin_start": 10.8348722,
            "bin_end": 10.8561216,
            "count": 0
           },
           {
            "bin_start": 10.8561216,
            "bin_end": 10.877371,
            "count": 1
           }
          ]
         }
        },
        {
         "name": "_deepnote_index_column",
         "dtype": "int64"
        }
       ],
       "rows": [
        {
         "documentDate": "2020-09-25",
         "picturedate": "2020/7",
         "lastchanged": "2020-08-07",
         "adcreated": "2020-08-03",
         "price": 5150000,
         "listprice": 4650000,
         "lat": 59.91303,
         "lng": 10.776672,
         "address": "Hagegata 41, 0653 Oslo",
         "apartmentnumber": "H0703",
         "apartmenttype": "B",
         "conveyancetype": "Fritt salg",
         "finncode": 186196629,
         "BRA": 55,
         "PROM": 54,
         "buildyear": 1990,
         "matrikkel": "301-231-166-37",
         "bedrooms": 1,
         "rooms": "nan",
         "bathrooms": 1,
         "WC": 1,
         "elevator": "J",
         "floor": 6,
         "housingtype": "Leilighet",
         "commondebt": "nan",
         "commoncosts": 3127,
         "F_Aircondition": "nan",
         "F_Alarm": "nan",
         "F_BalkongTerrasse": 1,
         "F_Barnevennlig": 1,
         "F_Bredbåndstilknytning": 1,
         "F_Fellesvaskeri": "nan",
         "F_GarasjeP-plass": 1,
         "F_Heis": 1,
         "F_Ingen gjenboere": 1,
         "F_Lademulighet": "nan",
         "F_Livsløpsstandard": "nan",
         "F_Moderne": 1,
         "F_Offentlig vannkloakk": 1,
         "F_Parkett": "nan",
         "F_PeisIldsted": "nan",
         "F_Rolig": 1,
         "F_Sentralt": 1,
         "F_Utsikt": 1,
         "F_Vaktmester-vektertjeneste": 1,
         "F_Bademulighet": "nan",
         "F_Fiskemulighet": "nan",
         "F_Turterreng": "nan",
         "adtitle": "VISNING AVLYST! Direkte bud til selger. Toppleilighet med stor, solrik takterrasse (14 kvm) - Ingen…",
         "N_modernisering": false,
         "N_oppussing": false,
         "N_regulert": false,
         "N_garasjemulighet": false,
         "postcode": 653,
         "Parking": 1,
         "price_inc_debt": 5150000,
         "area_id": 1,
         "Bydel_lat": 59.911832,
         "Bydel_lng": 10.789224,
         "_deepnote_index_column": 0
        },
        {
         "documentDate": "2020-09-29",
         "picturedate": "2020/8",
         "lastchanged": "2020-12-14",
         "adcreated": "2020-08-25",
         "price": 3900000,
         "listprice": 3650000,
         "lat": 59.9189,
         "lng": 10.6479,
         "address": "Skogbrynet 16D, 0283 Oslo",
         "apartmentnumber": "U0101",
         "apartmenttype": "B",
         "conveyancetype": "Fritt salg",
         "finncode": 188594072,
         "BRA": 56,
         "PROM": 56,
         "buildyear": 1977,
         "matrikkel": "301-9-38-14",
         "bedrooms": 1,
         "rooms": 2,
         "bathrooms": 1,
         "WC": 1,
         "elevator": "N",
         "floor": 1,
         "housingtype": "Leilighet",
         "commondebt": 44838,
         "commoncosts": 3062,
         "F_Aircondition": "nan",
         "F_Alarm": "nan",
         "F_BalkongTerrasse": 1,
         "F_Barnevennlig": 1,
         "F_Bredbåndstilknytning": 1,
         "F_Fellesvaskeri": "nan",
         "F_GarasjeP-plass": 1,
         "F_Heis": "nan",
         "F_Ingen gjenboere": 1,
         "F_Lademulighet": "nan",
         "F_Livsløpsstandard": "nan",
         "F_Moderne": "nan",
         "F_Offentlig vannkloakk": 1,
         "F_Parkett": 1,
         "F_PeisIldsted": "nan",
         "F_Rolig": 1,
         "F_Sentralt": 1,
         "F_Utsikt": "nan",
         "F_Vaktmester-vektertjeneste": 1,
         "F_Bademulighet": "nan",
         "F_Fiskemulighet": "nan",
         "F_Turterreng": 1,
         "adtitle": "Innbydende og lys 2-roms hjørneleilighet - Vestvendt terrasse mot hage - Parkeringsplass - Rekkehus…",
         "N_modernisering": false,
         "N_oppussing": false,
         "N_regulert": false,
         "N_garasjemulighet": false,
         "postcode": 283,
         "Parking": 1,
         "price_inc_debt": 3944838,
         "area_id": 6,
         "Bydel_lat": 59.927271,
         "Bydel_lng": 10.664877,
         "_deepnote_index_column": 1
        },
        {
         "documentDate": "2021-12-02",
         "picturedate": "2021/8",
         "lastchanged": "2021-08-01",
         "adcreated": "2021-07-27",
         "price": 9900000,
         "listprice": 8750000,
         "lat": 59.879,
         "lng": 10.7993,
         "address": "Ringshusveien 8B, 1176 Oslo",
         "apartmentnumber": "H0101",
         "apartmenttype": "B",
         "conveyancetype": "Fritt salg",
         "finncode": 226217549,
         "BRA": 126,
         "PROM": 115,
         "buildyear": 1970,
         "matrikkel": "301-158-751-0",
         "bedrooms": 4,
         "rooms": 5,
         "bathrooms": 1,
         "WC": 2,
         "elevator": "N",
         "floor": 1,
         "housingtype": "Enebolig",
         "commondebt": "nan",
         "commoncosts": "nan",
         "F_Aircondition": "nan",
         "F_Alarm": "nan",
         "F_BalkongTerrasse": 1,
         "F_Barnevennlig": 1,
         "F_Bredbåndstilknytning": "nan",
         "F_Fellesvaskeri": "nan",
         "F_GarasjeP-plass": 1,
         "F_Heis": "nan",
         "F_Ingen gjenboere": "nan",
         "F_Lademulighet": "nan",
         "F_Livsløpsstandard": "nan",
         "F_Moderne": "nan",
         "F_Offentlig vannkloakk": "nan",
         "F_Parkett": "nan",
         "F_PeisIldsted": 1,
         "F_Rolig": 1,
         "F_Sentralt": "nan",
         "F_Utsikt": "nan",
         "F_Vaktmester-vektertjeneste": "nan",
         "F_Bademulighet": "nan",
         "F_Fiskemulighet": "nan",
         "F_Turterreng": 1,
         "adtitle": "Oppussingsobjekt - Enebolig i kjede med skjermet beliggenhet - Vestvendt uteplass - Barnevennlig - …",
         "N_modernisering": false,
         "N_oppussing": true,
         "N_regulert": false,
         "N_garasjemulighet": false,
         "postcode": 1176,
         "Parking": 1,
         "price_inc_debt": 9900000,
         "area_id": 14,
         "Bydel_lat": 59.875677,
         "Bydel_lng": 10.789629,
         "_deepnote_index_column": 2
        },
        {
         "documentDate": "2009-11-12",
         "picturedate": "4/186",
         "lastchanged": "2009-09-05",
         "adcreated": "2009-08-24",
         "price": 1660000,
         "listprice": 1680000,
         "lat": 59.88769,
         "lng": 10.802634,
         "address": "Libakkfaret 1 A, 1184 Oslo",
         "apartmentnumber": "H0302",
         "apartmenttype": "B",
         "conveyancetype": "Fritt salg",
         "finncode": 18679054,
         "BRA": 68.1158389273127,
         "PROM": 66,
         "buildyear": 1954,
         "matrikkel": "301-149-433-102",
         "bedrooms": 2,
         "rooms": "nan",
         "bathrooms": 1,
         "WC": 1,
         "elevator": "N",
         "floor": 3,
         "housingtype": "Leilighet",
         "commondebt": 18207,
         "commoncosts": 2866,
         "F_Aircondition": "nan",
         "F_Alarm": "nan",
         "F_BalkongTerrasse": 1,
         "F_Barnevennlig": 1,
         "F_Bredbåndstilknytning": "nan",
         "F_Fellesvaskeri": "nan",
         "F_GarasjeP-plass": "nan",
         "F_Heis": "nan",
         "F_Ingen gjenboere": 1,
         "F_Lademulighet": "nan",
         "F_Livsløpsstandard": "nan",
         "F_Moderne": "nan",
         "F_Offentlig vannkloakk": 1,
         "F_Parkett": 1,
         "F_PeisIldsted": "nan",
         "F_Rolig": 1,
         "F_Sentralt": "nan",
         "F_Utsikt": 1,
         "F_Vaktmester-vektertjeneste": 1,
         "F_Bademulighet": "nan",
         "F_Fiskemulighet": "nan",
         "F_Turterreng": "nan",
         "adtitle": "BRATTLIKOLLEN - Lys og gjennomgående 3-roms selveier - Endeleilighet - Balkong - Sentralt - Ingen f…",
         "N_modernisering": false,
         "N_oppussing": false,
         "N_regulert": false,
         "N_garasjemulighet": false,
         "postcode": 1184,
         "Parking": 0,
         "price_inc_debt": 1678207,
         "area_id": 14,
         "Bydel_lat": 59.875677,
         "Bydel_lng": 10.789629,
         "_deepnote_index_column": 3
        },
        {
         "documentDate": "2012-10-24",
         "picturedate": "2012/6",
         "lastchanged": "2012-06-15",
         "adcreated": "2012-06-01",
         "price": 5760000,
         "listprice": 5490000,
         "lat": 59.944653,
         "lng": 10.888134,
         "address": "Micheletveien 20, 1053 Oslo",
         "apartmentnumber": "U0102",
         "apartmenttype": "B",
         "conveyancetype": "Fritt salg",
         "finncode": 35251134,
         "BRA": 249,
         "PROM": 242,
         "buildyear": 1977,
         "matrikkel": "301-105-334-0",
         "bedrooms": 5,
         "rooms": 10,
         "bathrooms": 1,
         "WC": 1,
         "elevator": "N",
         "floor": "nan",
         "housingtype": "Enebolig",
         "commondebt": "nan",
         "commoncosts": "nan",
         "F_Aircondition": "nan",
         "F_Alarm": "nan",
         "F_BalkongTerrasse": "nan",
         "F_Barnevennlig": "nan",
         "F_Bredbåndstilknytning": "nan",
         "F_Fellesvaskeri": "nan",
         "F_GarasjeP-plass": "nan",
         "F_Heis": "nan",
         "F_Ingen gjenboere": "nan",
         "F_Lademulighet": "nan",
         "F_Livsløpsstandard": "nan",
         "F_Moderne": "nan",
         "F_Offentlig vannkloakk": "nan",
         "F_Parkett": "nan",
         "F_PeisIldsted": "nan",
         "F_Rolig": "nan",
         "F_Sentralt": "nan",
         "F_Utsikt": "nan",
         "F_Vaktmester-vektertjeneste": "nan",
         "F_Bademulighet": "nan",
         "F_Fiskemulighet": "nan",
         "F_Turterreng": "nan",
         "adtitle": "GAMLE FURUSET - Velholdt og romslig enebolig med sokkelleilighet - Dobbeltgarasje - Tomt på 1.140m2…",
         "N_modernisering": false,
         "N_oppussing": false,
         "N_regulert": false,
         "N_garasjemulighet": false,
         "postcode": 1053,
         "Parking": 0,
         "price_inc_debt": 5760000,
         "area_id": 12,
         "Bydel_lat": 59.93598,
         "Bydel_lng": 10.877371,
         "_deepnote_index_column": 4
        }
       ]
      },
      "text/plain": "  documentDate picturedate lastchanged   adcreated    price  listprice  \\\n0   2020-09-25      2020/7  2020-08-07  2020-08-03  5150000  4650000.0   \n1   2020-09-29      2020/8  2020-12-14  2020-08-25  3900000  3650000.0   \n2   2021-12-02      2021/8  2021-08-01  2021-07-27  9900000  8750000.0   \n3   2009-11-12       4/186  2009-09-05  2009-08-24  1660000  1680000.0   \n4   2012-10-24      2012/6  2012-06-15  2012-06-01  5760000  5490000.0   \n\n         lat        lng                      address apartmentnumber  ...  \\\n0  59.913030  10.776672       Hagegata 41, 0653 Oslo           H0703  ...   \n1  59.918900  10.647900    Skogbrynet 16D, 0283 Oslo           U0101  ...   \n2  59.879000  10.799300  Ringshusveien 8B, 1176 Oslo           H0101  ...   \n3  59.887690  10.802634   Libakkfaret 1 A, 1184 Oslo           H0302  ...   \n4  59.944653  10.888134  Micheletveien 20, 1053 Oslo           U0102  ...   \n\n  N_modernisering N_oppussing  N_regulert  N_garasjemulighet  postcode  \\\n0           False       False       False              False       653   \n1           False       False       False              False       283   \n2           False        True       False              False      1176   \n3           False       False       False              False      1184   \n4           False       False       False              False      1053   \n\n   Parking price_inc_debt  area_id  Bydel_lat  Bydel_lng  \n0        1      5150000.0        1  59.911832  10.789224  \n1        1      3944838.0        6  59.927271  10.664877  \n2        1      9900000.0       14  59.875677  10.789629  \n3        0      1678207.0       14  59.875677  10.789629  \n4        0      5760000.0       12  59.935980  10.877371  \n\n[5 rows x 59 columns]",
      "text/html": "<div>\n<style scoped>\n    .dataframe tbody tr th:only-of-type {\n        vertical-align: middle;\n    }\n\n    .dataframe tbody tr th {\n        vertical-align: top;\n    }\n\n    .dataframe thead th {\n        text-align: right;\n    }\n</style>\n<table border=\"1\" class=\"dataframe\">\n  <thead>\n    <tr style=\"text-align: right;\">\n      <th></th>\n      <th>documentDate</th>\n      <th>picturedate</th>\n      <th>lastchanged</th>\n      <th>adcreated</th>\n      <th>price</th>\n      <th>listprice</th>\n      <th>lat</th>\n      <th>lng</th>\n      <th>address</th>\n      <th>apartmentnumber</th>\n      <th>...</th>\n      <th>N_modernisering</th>\n      <th>N_oppussing</th>\n      <th>N_regulert</th>\n      <th>N_garasjemulighet</th>\n      <th>postcode</th>\n      <th>Parking</th>\n      <th>price_inc_debt</th>\n      <th>area_id</th>\n      <th>Bydel_lat</th>\n      <th>Bydel_lng</th>\n    </tr>\n  </thead>\n  <tbody>\n    <tr>\n      <th>0</th>\n      <td>2020-09-25</td>\n      <td>2020/7</td>\n      <td>2020-08-07</td>\n      <td>2020-08-03</td>\n      <td>5150000</td>\n      <td>4650000.0</td>\n      <td>59.913030</td>\n      <td>10.776672</td>\n      <td>Hagegata 41, 0653 Oslo</td>\n      <td>H0703</td>\n      <td>...</td>\n      <td>False</td>\n      <td>False</td>\n      <td>False</td>\n      <td>False</td>\n      <td>653</td>\n      <td>1</td>\n      <td>5150000.0</td>\n      <td>1</td>\n      <td>59.911832</td>\n      <td>10.789224</td>\n    </tr>\n    <tr>\n      <th>1</th>\n      <td>2020-09-29</td>\n      <td>2020/8</td>\n      <td>2020-12-14</td>\n      <td>2020-08-25</td>\n      <td>3900000</td>\n      <td>3650000.0</td>\n      <td>59.918900</td>\n      <td>10.647900</td>\n      <td>Skogbrynet 16D, 0283 Oslo</td>\n      <td>U0101</td>\n      <td>...</td>\n      <td>False</td>\n      <td>False</td>\n      <td>False</td>\n      <td>False</td>\n      <td>283</td>\n      <td>1</td>\n      <td>3944838.0</td>\n      <td>6</td>\n      <td>59.927271</td>\n      <td>10.664877</td>\n    </tr>\n    <tr>\n      <th>2</th>\n      <td>2021-12-02</td>\n      <td>2021/8</td>\n      <td>2021-08-01</td>\n      <td>2021-07-27</td>\n      <td>9900000</td>\n      <td>8750000.0</td>\n      <td>59.879000</td>\n      <td>10.799300</td>\n      <td>Ringshusveien 8B, 1176 Oslo</td>\n      <td>H0101</td>\n      <td>...</td>\n      <td>False</td>\n      <td>True</td>\n      <td>False</td>\n      <td>False</td>\n      <td>1176</td>\n      <td>1</td>\n      <td>9900000.0</td>\n      <td>14</td>\n      <td>59.875677</td>\n      <td>10.789629</td>\n    </tr>\n    <tr>\n      <th>3</th>\n      <td>2009-11-12</td>\n      <td>4/186</td>\n      <td>2009-09-05</td>\n      <td>2009-08-24</td>\n      <td>1660000</td>\n      <td>1680000.0</td>\n      <td>59.887690</td>\n      <td>10.802634</td>\n      <td>Libakkfaret 1 A, 1184 Oslo</td>\n      <td>H0302</td>\n      <td>...</td>\n      <td>False</td>\n      <td>False</td>\n      <td>False</td>\n      <td>False</td>\n      <td>1184</td>\n      <td>0</td>\n      <td>1678207.0</td>\n      <td>14</td>\n      <td>59.875677</td>\n      <td>10.789629</td>\n    </tr>\n    <tr>\n      <th>4</th>\n      <td>2012-10-24</td>\n      <td>2012/6</td>\n      <td>2012-06-15</td>\n      <td>2012-06-01</td>\n      <td>5760000</td>\n      <td>5490000.0</td>\n      <td>59.944653</td>\n      <td>10.888134</td>\n      <td>Micheletveien 20, 1053 Oslo</td>\n      <td>U0102</td>\n      <td>...</td>\n      <td>False</td>\n      <td>False</td>\n      <td>False</td>\n      <td>False</td>\n      <td>1053</td>\n      <td>0</td>\n      <td>5760000.0</td>\n      <td>12</td>\n      <td>59.935980</td>\n      <td>10.877371</td>\n    </tr>\n  </tbody>\n</table>\n<p>5 rows × 59 columns</p>\n</div>"
     },
     "metadata": {}
    }
   ],
   "execution_count": 17
  },
  {
   "cell_type": "markdown",
   "source": "Den neste variabelen vi skal se på er byggeår. Vi starter da med å få en oversikt over fordelingen av dataen. I datasettet vårt er de eldste boligene fra tidlig 1600 tallet. Modellen vår skal brukes til å predikere gjennomsnittlige boliger, og dermed vil det ikke være hensiktsmessig å ha med boliger bygget før  1800, da dette ikke går inn under en gjennomsnittlig bolig. De fleste av de eldste boligene i datasettet er ikke \"vanlige\" eiendommer, så dermed vil man få en mindre presis modell ved å inkludere disse. I tillegg vil vi få en svært høyreskjev fordeling.\n\n\nI tillegg finnes det rett under 1000 null-verdier som vi velger å fjerne da det vil være vanskelig å beregne byggeår.",
   "metadata": {
    "cell_id": "6ec79f5e-08b7-4b56-8c19-b97a84aab669",
    "tags": [],
    "deepnote_cell_type": "markdown"
   }
  },
  {
   "cell_type": "code",
   "metadata": {
    "cell_id": "871fd60d-bad4-4cbe-aac6-3f061d053cbe",
    "tags": [],
    "deepnote_to_be_reexecuted": false,
    "source_hash": "e03823f8",
    "execution_start": 1645091192268,
    "execution_millis": 458,
    "deepnote_output_heights": [
     21.1875
    ],
    "deepnote_cell_type": "code"
   },
   "source": "#Fjerner alle boliger med byggeår < 1800\ndf.drop(df[df['buildyear'] < 1800].index, inplace = True)\n#Fjerner null-verdier\ndf = df[df['buildyear'].notna()]\ndf['buildyear'].isnull().sum()",
   "execution_count": 18,
   "outputs": [
    {
     "output_type": "execute_result",
     "execution_count": 18,
     "data": {
      "text/plain": "0"
     },
     "metadata": {}
    }
   ]
  },
  {
   "cell_type": "code",
   "metadata": {
    "cell_id": "ac76c937-c259-4ddf-9bbe-4d671f169464",
    "tags": [],
    "deepnote_to_be_reexecuted": false,
    "source_hash": "437b8a3b",
    "execution_start": 1645091192425,
    "execution_millis": 351,
    "deepnote_output_heights": [
     220
    ],
    "deepnote_cell_type": "code"
   },
   "source": "df['buildyear'].hist(bins=50, figsize=(16,4))\nplt.show()",
   "execution_count": 19,
   "outputs": [
    {
     "data": {
      "text/plain": "<Figure size 1152x288 with 1 Axes>",
      "image/png": "[encoded data removed]"
     },
     "metadata": {
      "needs_background": "light",
      "image/png": {
       "width": 945,
       "height": 249
      }
     },
     "output_type": "display_data"
    }
   ]
  },
  {
   "cell_type": "markdown",
   "source": "Videre skal vi nå se på soverom og antall rom totalt. Hvordan er fordelingen, og hva må vi gjøre med eventuelle null-verdier?",
   "metadata": {
    "cell_id": "ca468561-4222-43e9-9a34-6aec21f38b98",
    "tags": [],
    "deepnote_to_be_reexecuted": false,
    "source_hash": "2f88c77a",
    "execution_start": 1644485827021,
    "execution_millis": 153671413,
    "deepnote_output_heights": [
     21
    ],
    "deepnote_cell_type": "markdown"
   }
  },
  {
   "cell_type": "code",
   "metadata": {
    "cell_id": "04ffd01e-1b1b-4112-ada1-f6f107c5d6b7",
    "tags": [],
    "deepnote_to_be_reexecuted": false,
    "source_hash": "d9378346",
    "execution_start": 1645091192851,
    "execution_millis": 570,
    "deepnote_output_heights": [
     184.640625
    ],
    "deepnote_cell_type": "code"
   },
   "source": "df[['rooms','bedrooms']].hist(bins=40, figsize=(16,3)) #Printer fordeling i histogram\nplt.show()\nprint(f\"Antall null-verdier for 'rooms':    {df['rooms'].isnull().sum()}\")\nprint(f\"Antall null-verdier for 'bedrooms': {df['bedrooms'].isnull().sum()}\")",
   "execution_count": 20,
   "outputs": [
    {
     "data": {
      "text/plain": "<Figure size 1152x216 with 2 Axes>",
      "image/png": "[encoded data removed]"
     },
     "metadata": {
      "needs_background": "light",
      "image/png": {
       "width": 952,
       "height": 210
      }
     },
     "output_type": "display_data"
    },
    {
     "name": "stdout",
     "text": "Antall null-verdier for 'rooms':    51247\nAntall null-verdier for 'bedrooms': 9269\n",
     "output_type": "stream"
    }
   ]
  },
  {
   "cell_type": "markdown",
   "source": "Som vi kan se så finnes det helt klart noen feildata i begge kategoriene. I tillegg er det slik at vi har 51 345 null-verdier for antall rom. Dette tilsvarer rundt 30%, og er svært høyt. Løsningen for denne variabelen vil dermed bli å fjerne den helt, da det er såpass mange null-verdier.\n\nFor soverom så har vi 9 279 null-verdier. Dette er relativt høyt, men det er noe vi kan gjøre noe med. Det første vi gjør er å fjerne datapunkter med over 15 soverom da dette helt klart er feilverdier. Videre må vi finne en måte å håndtere null-verdiene på. Løsningen vi går for da er å bruke gjennomsnitt for antall soverom til å erstatte null-verdiene. (FORDEL ULEMPER VED DETTE). Vi så på muligheten for å koble det sammen med BRA eller PROM, men dette har en relativt liten korrelasjon, så det vil være en bedre løsning å bruke gjennomsnitt.",
   "metadata": {
    "cell_id": "d1cf380f-ddb1-4165-b2bc-8dc41aa97cf2",
    "tags": [],
    "deepnote_to_be_reexecuted": false,
    "source_hash": "b623e53d",
    "execution_start": 1644485827104,
    "execution_millis": 154019367,
    "deepnote_cell_type": "markdown"
   }
  },
  {
   "cell_type": "code",
   "metadata": {
    "cell_id": "eaff9081-c320-4037-bbe6-64c3eb9934c1",
    "tags": [],
    "deepnote_to_be_reexecuted": false,
    "source_hash": "5514a64a",
    "execution_start": 1645091193470,
    "execution_millis": 67,
    "deepnote_output_heights": [
     232.34375
    ],
    "deepnote_cell_type": "code"
   },
   "source": "#Fjerner soverom > 15\ndf.drop(df[df['bedrooms'] >15].index, inplace = True)\n\n#Erstatter null-verdier med gjennomsnitt\ndf['bedrooms'].fillna(df['bedrooms'].mean(), inplace=True)\n\n#Fjerner \"rooms\"-variabelen\ndf.drop('rooms',inplace=True, axis=1)",
   "execution_count": 21,
   "outputs": []
  },
  {
   "cell_type": "markdown",
   "source": "Vi har nå fått fikset opp i de variablene, og videre skal vi se på hvordan fordelingen av \"bathrooms\" og \"WC\" er. Fra før av har vi fått oppgitt at variabelen \"bathrooms\" er svært mangelfull, og vanskelig å verifisere. For eksempel finnes det rundt 40 000 datapunkter med 0 som antall bad. Dette er tvilsomme data og når man i tillegg da har rundt 10 000 null-verdier for denne variabelen gjør det at vi velger å fjerne den helt.",
   "metadata": {
    "cell_id": "c537ce24-7e16-4cb5-8494-4705c22460a9",
    "tags": [],
    "deepnote_cell_type": "markdown"
   }
  },
  {
   "cell_type": "code",
   "metadata": {
    "cell_id": "d3c34aab-5612-4a4b-a8b1-5cc225ad1b7d",
    "tags": [],
    "deepnote_to_be_reexecuted": false,
    "source_hash": "47968ee1",
    "execution_start": 1645091193670,
    "execution_millis": 527,
    "deepnote_table_state": {
     "pageSize": 10,
     "pageIndex": 0,
     "filters": [],
     "sortBy": [
      {
       "id": "price",
       "type": "desc"
      }
     ]
    },
    "deepnote_table_loading": false,
    "deepnote_output_heights": [
     185
    ],
    "deepnote_cell_type": "code"
   },
   "source": "df[['bathrooms','WC']].hist(bins=40, figsize=(16,3)) #Printer fordeling i histogram\nplt.show()",
   "execution_count": 22,
   "outputs": [
    {
     "data": {
      "text/plain": "<Figure size 1152x216 with 2 Axes>",
      "image/png": "[encoded data removed]"
     },
     "metadata": {
      "needs_background": "light",
      "image/png": {
       "width": 951,
       "height": 210
      }
     },
     "output_type": "display_data"
    }
   ]
  },
  {
   "cell_type": "code",
   "metadata": {
    "cell_id": "88ba0d14-7a68-40b9-88d5-3998ece3105a",
    "tags": [],
    "deepnote_to_be_reexecuted": false,
    "source_hash": "334898f6",
    "execution_start": 1645091194220,
    "execution_millis": 121,
    "deepnote_table_state": {
     "pageSize": 10,
     "pageIndex": 0,
     "filters": [],
     "sortBy": [
      {
       "id": "price",
       "type": "desc"
      }
     ]
    },
    "deepnote_table_loading": false,
    "deepnote_cell_type": "code"
   },
   "source": "df.drop(df['bathrooms'], inplace=True)",
   "execution_count": 23,
   "outputs": []
  },
  {
   "cell_type": "markdown",
   "source": "Den neste variabelen vi skal se på er heis-variabelen. Som vi kan se fra listen over variabler, så er det også en fastelitetsvariabel på heis (F_Heis). Disse henger tett sammen, men for rundt 5 000 datapunkter så er det ulik verdi. Vi velger derfor å fjerne \"F_Heis\", og gå videre med \"elevator\" variabelen.\n\nFor \"elevator\" så er verdiene kodet som J/N, altså ikke numerisk. Dette vil vi transformere til 1/0. Videre kan vi også observere at det er 783 nullverdier. Disse vil vi omkode til 0.\n\nDet er også viktig å huske på at heis-variabelen bare er relevant i leiligheter, da de fleste eneboliger ikke har bruk for heis.",
   "metadata": {
    "cell_id": "327ff960-8ce8-4c61-b9b0-22fc180657cc",
    "tags": [],
    "deepnote_cell_type": "markdown"
   }
  },
  {
   "cell_type": "code",
   "metadata": {
    "cell_id": "298cd18e-b4fa-4d5c-9b2d-d3f071a4647b",
    "tags": [],
    "deepnote_to_be_reexecuted": false,
    "source_hash": "4525ca84",
    "execution_start": 1645091194358,
    "execution_millis": 150,
    "deepnote_output_heights": [
     null,
     232.34375
    ],
    "deepnote_cell_type": "code"
   },
   "source": "#Printer fordelingen på de to heis-variablene\nprint(df['elevator'].value_counts())\nprint(df['F_Heis'].value_counts())\n\n#Fjerner F_Heis\ndf.drop('F_Heis',inplace=True,axis=1)\n\n#Gjør om til numerisk binær variabel (1/0)\ndf['elevator'].replace({'J':1,'N':0}, inplace=True)\n\n#Koder om null-verdier til 0\ndf['elevator'] = df['elevator'].fillna(0)",
   "execution_count": 24,
   "outputs": [
    {
     "name": "stdout",
     "text": "N    123476\nJ     55522\nName: elevator, dtype: int64\n1.0    50900\nName: F_Heis, dtype: int64\n",
     "output_type": "stream"
    }
   ]
  },
  {
   "cell_type": "markdown",
   "source": "Videre kan vi nå se på variabelen etasjer ('floor'). Der har vi rundt 37 000 null-verdier. I og med at etasje bare er relevant for leiligheter (da det går på etasje for leiligheter og ikke antall etasjer i huset), så er rundt 20 000 av null-verdiene fra andre typer boliger enn leiligheter. Dermed har vi rundt 17 000 null-verdier for leilighetene. Vi løser dette med å erstatte alle null-verdiene med gjennomsnittet, samt legge til en binær variabel som sier om vi har erstattet null-verdi eller ikke.",
   "metadata": {
    "cell_id": "1419f37d-ad24-44a9-9ca5-4714c8df57fb",
    "tags": [],
    "deepnote_to_be_reexecuted": false,
    "source_hash": "b623e53d",
    "execution_start": 1644497854487,
    "execution_millis": 3,
    "deepnote_cell_type": "markdown"
   }
  },
  {
   "cell_type": "code",
   "metadata": {
    "cell_id": "0402c67b-e32f-4c23-966e-75097a1e5039",
    "tags": [],
    "deepnote_to_be_reexecuted": false,
    "source_hash": "93ffca81",
    "execution_start": 1645091194511,
    "execution_millis": 122,
    "deepnote_output_heights": [
     59.578125,
     21.1875
    ],
    "deepnote_cell_type": "code"
   },
   "source": "#Fjerner åpenbare feilverdier\ndf.drop(df[df['floor'] >20].index, inplace = True)\n\n#Sjekker hvor stor del av boligene som ikke er leiligheter som har null-verdi for etasje-variabelen\nprint(df.loc[df['housingtype'] != 'Leilighet','floor'].isna().value_counts())\n\n#Erstatter alle null-verdier med gjennomsnitt og legger til en dummy-variabel\ndf['floor_NA'] = (df['floor'].isna()).astype(int)\ndf['floor'] = df['floor'].fillna(df['floor'].mean())",
   "execution_count": 25,
   "outputs": [
    {
     "name": "stdout",
     "text": "True     20758\nFalse     2383\nName: floor, dtype: int64\n",
     "output_type": "stream"
    }
   ]
  },
  {
   "cell_type": "markdown",
   "source": "Denne løsningen vil også være relevant for variablene fellesgjeld og felleskostnader, da dette også er variabler som for det meste bare er relevant for leiligheter. Men for disse variablene så vil vi erstatte null-verdier med 0, da det er mest sannsynlig slik at boliger uten oppgitt felleskostnader/fellesgjeld ikke har dette.",
   "metadata": {
    "cell_id": "cfaf8b49-a96d-4561-aa83-61ff933c5f90",
    "tags": [],
    "deepnote_to_be_reexecuted": false,
    "source_hash": "b623e53d",
    "execution_start": 1644935415753,
    "execution_millis": 11,
    "deepnote_table_state": {
     "pageSize": 50,
     "pageIndex": 0,
     "filters": [],
     "sortBy": [
      {
       "id": "floor_NA",
       "type": "desc"
      }
     ]
    },
    "deepnote_table_loading": false,
    "deepnote_output_heights": [
     59.578125
    ],
    "deepnote_cell_type": "markdown"
   }
  },
  {
   "cell_type": "code",
   "metadata": {
    "cell_id": "d806a599-d95d-4921-9245-76fd484806fb",
    "tags": [],
    "deepnote_to_be_reexecuted": false,
    "source_hash": "924e5342",
    "execution_start": 1645091194678,
    "execution_millis": 673,
    "deepnote_output_heights": [
     220,
     231
    ],
    "deepnote_cell_type": "code"
   },
   "source": "#Printer fordelingen\ndf['commoncosts'].hist(bins=50, figsize=(16,4))\nplt.show()\ndf['commondebt'].hist(bins=50, figsize=(16,4))\nplt.show()",
   "execution_count": 26,
   "outputs": [
    {
     "data": {
      "text/plain": "<Figure size 1152x288 with 1 Axes>",
      "image/png": "[encoded data removed]"
     },
     "metadata": {
      "needs_background": "light",
      "image/png": {
       "width": 945,
       "height": 248
      }
     },
     "output_type": "display_data"
    },
    {
     "data": {
      "text/plain": "<Figure size 1152x288 with 1 Axes>",
      "image/png": "[encoded data removed]"
     },
     "metadata": {
      "needs_background": "light",
      "image/png": {
       "width": 945,
       "height": 261
      }
     },
     "output_type": "display_data"
    }
   ]
  },
  {
   "cell_type": "code",
   "metadata": {
    "cell_id": "0848350c-fe03-4fec-8001-5e81f0a208ed",
    "tags": [],
    "deepnote_to_be_reexecuted": false,
    "source_hash": "2b0da94c",
    "execution_start": 1645091195390,
    "execution_millis": 1,
    "deepnote_cell_type": "code"
   },
   "source": "#Erstatter alle null-verdier med 0 og legger til en dummy-variabel\ndf['commondebt_NA'] = (df['commondebt'].isna()).astype(int)\ndf['commondebt'] = df['commondebt'].fillna(0)\ndf['commoncosts_NA'] = (df['commoncosts'].isna()).astype(int)\ndf['commoncosts'] = df['commoncosts'].fillna(0)",
   "execution_count": 27,
   "outputs": []
  },
  {
   "cell_type": "markdown",
   "source": "De neste variablene vi skal se på nå er alle som starter med \"F_\". Dette er fasteliteter man kan oppgi i finn-annonsen og er binært 1/0. Som vi har sett så er det svært mye null-verdier i disse variablene, men dette er fordi alle boliger uten den gitte fasteliteten vil få null-verdi og ikke \"0\" i datasettet. Dermed må vi kode om alle variablene slik at null-verdiene erstattes av 0.\n\nI tillegg er det slik at en del av disse variablene ikke vil være så veldig nyttige, da nesten alle er 0 eller finn-fasteliteten ikke blir brukt av megler (for eksempel hvis det finnes alarm men megleren ikke markerer det i annonnsen).",
   "metadata": {
    "cell_id": "64feaedd-de48-4833-8a61-11cea4f5a364",
    "tags": [],
    "deepnote_to_be_reexecuted": false,
    "source_hash": "18182df1",
    "execution_start": 1644936044368,
    "execution_millis": 223,
    "deepnote_output_heights": [
     611
    ],
    "deepnote_cell_type": "markdown"
   }
  },
  {
   "cell_type": "code",
   "metadata": {
    "cell_id": "4b0c6262-f3ae-4932-84bd-c53eb9a28800",
    "tags": [],
    "deepnote_to_be_reexecuted": false,
    "source_hash": "f0c14228",
    "execution_start": 1645091195391,
    "execution_millis": 44,
    "deepnote_cell_type": "code"
   },
   "source": "fasteliteter_liste = ['F_Aircondition', 'F_Alarm', 'F_BalkongTerrasse', 'F_Barnevennlig',\n'F_Bredbåndstilknytning', 'F_Fellesvaskeri', 'F_GarasjeP-plass', 'F_Ingen gjenboere', 'F_Lademulighet',\n'F_Livsløpsstandard', 'F_Moderne', 'F_Offentlig vannkloakk', 'F_Parkett', 'F_PeisIldsted', 'F_Rolig',\n'F_Sentralt', 'F_Utsikt', 'F_Vaktmester-vektertjeneste', 'F_Bademulighet', 'F_Fiskemulighet', 'F_Turterreng']\n\n#Erstatter null-verdier med 0 for hver kategori i listen\nfor cat in fasteliteter_liste:\n    df[cat] = df[cat].fillna(0)",
   "execution_count": 28,
   "outputs": []
  },
  {
   "cell_type": "code",
   "metadata": {
    "cell_id": "923525f2-d022-4c8f-9894-e18f2a360f36",
    "tags": [],
    "deepnote_to_be_reexecuted": false,
    "source_hash": "f3dd26da",
    "execution_start": 1645091195435,
    "execution_millis": 105,
    "deepnote_output_heights": [
     611
    ],
    "deepnote_cell_type": "code"
   },
   "source": "df.isnull().sum()",
   "execution_count": 29,
   "outputs": [
    {
     "output_type": "execute_result",
     "execution_count": 29,
     "data": {
      "text/plain": "documentDate                     0\npicturedate                    247\nlastchanged                      0\nadcreated                        0\nprice                            0\nlistprice                        0\nlat                              0\nlng                              0\naddress                          0\napartmentnumber                807\napartmenttype                  779\nconveyancetype                   0\nfinncode                         0\nBRA                              0\nPROM                             0\nbuildyear                        0\nmatrikkel                        0\nbedrooms                         0\nbathrooms                        0\nWC                               0\nelevator                         0\nfloor                            0\nhousingtype                      0\ncommondebt                       0\ncommoncosts                      0\nF_Aircondition                   0\nF_Alarm                          0\nF_BalkongTerrasse                0\nF_Barnevennlig                   0\nF_Bredbåndstilknytning           0\nF_Fellesvaskeri                  0\nF_GarasjeP-plass                 0\nF_Ingen gjenboere                0\nF_Lademulighet                   0\nF_Livsløpsstandard               0\nF_Moderne                        0\nF_Offentlig vannkloakk           0\nF_Parkett                        0\nF_PeisIldsted                    0\nF_Rolig                          0\nF_Sentralt                       0\nF_Utsikt                         0\nF_Vaktmester-vektertjeneste      0\nF_Bademulighet                   0\nF_Fiskemulighet                  0\nF_Turterreng                     0\nadtitle                          0\nN_modernisering                  0\nN_oppussing                      0\nN_regulert                       0\nN_garasjemulighet                0\npostcode                         0\nParking                          0\nprice_inc_debt                   0\narea_id                          0\nBydel_lat                        0\nBydel_lng                        0\nfloor_NA                         0\ncommondebt_NA                    0\ncommoncosts_NA                   0\ndtype: int64"
     },
     "metadata": {}
    }
   ]
  },
  {
   "cell_type": "code",
   "metadata": {
    "cell_id": "9f2cbb7b-a9cb-452b-8704-a1ad5b77a36c",
    "tags": [],
    "deepnote_to_be_reexecuted": false,
    "source_hash": "c085b6ba",
    "execution_start": 1645091195546,
    "execution_millis": 203,
    "deepnote_cell_type": "code"
   },
   "source": "df.head()",
   "execution_count": 30,
   "outputs": [
    {
     "output_type": "execute_result",
     "execution_count": 30,
     "data": {
      "application/vnd.deepnote.dataframe.v3+json": {
       "column_count": 60,
       "row_count": 5,
       "columns": [
        {
         "name": "documentDate",
         "dtype": "object",
         "stats": {
          "unique_count": 5,
          "nan_count": 0,
          "categories": [
           {
            "name": "2013-11-12",
            "count": 1
           },
           {
            "name": "2020-11-05",
            "count": 1
           },
           {
            "name": "3 others",
            "count": 3
           }
          ]
         }
        },
        {
         "name": "picturedate",
         "dtype": "object",
         "stats": {
          "unique_count": 5,
          "nan_count": 0,
          "categories": [
           {
            "name": "2013/8",
            "count": 1
           },
           {
            "name": "2020/5",
            "count": 1
           },
           {
            "name": "3 others",
            "count": 3
           }
          ]
         }
        },
        {
         "name": "lastchanged",
         "dtype": "object",
         "stats": {
          "unique_count": 5,
          "nan_count": 0,
          "categories": [
           {
            "name": "2013-09-13",
            "count": 1
           },
           {
            "name": "2020-06-17",
            "count": 1
           },
           {
            "name": "3 others",
            "count": 3
           }
          ]
         }
        },
        {
         "name": "adcreated",
         "dtype": "object",
         "stats": {
          "unique_count": 5,
          "nan_count": 0,
          "categories": [
           {
            "name": "2013-08-21",
            "count": 1
           },
           {
            "name": "2020-05-02",
            "count": 1
           },
           {
            "name": "3 others",
            "count": 3
           }
          ]
         }
        },
        {
         "name": "price",
         "dtype": "int64",
         "stats": {
          "unique_count": 5,
          "nan_count": 0,
          "min": "2400000",
          "max": "21000000",
          "histogram": [
           {
            "bin_start": 2400000,
            "bin_end": 4260000,
            "count": 1
           },
           {
            "bin_start": 4260000,
            "bin_end": 6120000,
            "count": 1
           },
           {
            "bin_start": 6120000,
            "bin_end": 7980000,
            "count": 0
           },
           {
            "bin_start": 7980000,
            "bin_end": 9840000,
            "count": 1
           },
           {
            "bin_start": 9840000,
            "bin_end": 11700000,
            "count": 0
           },
           {
            "bin_start": 11700000,
            "bin_end": 13560000,
            "count": 1
           },
           {
            "bin_start": 13560000,
            "bin_end": 15420000,
            "count": 0
           },
           {
            "bin_start": 15420000,
            "bin_end": 17280000,
            "count": 0
           },
           {
            "bin_start": 17280000,
            "bin_end": 19140000,
            "count": 0
           },
           {
            "bin_start": 19140000,
            "bin_end": 21000000,
            "count": 1
           }
          ]
         }
        },
        {
         "name": "listprice",
         "dtype": "float64",
         "stats": {
          "unique_count": 5,
          "nan_count": 0,
          "min": "1990000.0",
          "max": "24000000.0",
          "histogram": [
           {
            "bin_start": 1990000,
            "bin_end": 4191000,
            "count": 1
           },
           {
            "bin_start": 4191000,
            "bin_end": 6392000,
            "count": 1
           },
           {
            "bin_start": 6392000,
            "bin_end": 8593000,
            "count": 1
           },
           {
            "bin_start": 8593000,
            "bin_end": 10794000,
            "count": 0
           },
           {
            "bin_start": 10794000,
            "bin_end": 12995000,
            "count": 0
           },
           {
            "bin_start": 12995000,
            "bin_end": 15196000,
            "count": 1
           },
           {
            "bin_start": 15196000,
            "bin_end": 17397000,
            "count": 0
           },
           {
            "bin_start": 17397000,
            "bin_end": 19598000,
            "count": 0
           },
           {
            "bin_start": 19598000,
            "bin_end": 21799000,
            "count": 0
           },
           {
            "bin_start": 21799000,
            "bin_end": 24000000,
            "count": 1
           }
          ]
         }
        },
        {
         "name": "lat",
         "dtype": "float64",
         "stats": {
          "unique_count": 5,
          "nan_count": 0,
          "min": "59.873753",
          "max": "59.952496",
          "histogram": [
           {
            "bin_start": 59.873753,
            "bin_end": 59.8816273,
            "count": 1
           },
           {
            "bin_start": 59.8816273,
            "bin_end": 59.8895016,
            "count": 0
           },
           {
            "bin_start": 59.8895016,
            "bin_end": 59.8973759,
            "count": 0
           },
           {
            "bin_start": 59.8973759,
            "bin_end": 59.9052502,
            "count": 0
           },
           {
            "bin_start": 59.9052502,
            "bin_end": 59.913124499999995,
            "count": 1
           },
           {
            "bin_start": 59.913124499999995,
            "bin_end": 59.9209988,
            "count": 0
           },
           {
            "bin_start": 59.9209988,
            "bin_end": 59.9288731,
            "count": 0
           },
           {
            "bin_start": 59.9288731,
            "bin_end": 59.936747399999994,
            "count": 1
           },
           {
            "bin_start": 59.936747399999994,
            "bin_end": 59.9446217,
            "count": 1
           },
           {
            "bin_start": 59.9446217,
            "bin_end": 59.952496,
            "count": 1
           }
          ]
         }
        },
        {
         "name": "lng",
         "dtype": "float64",
         "stats": {
          "unique_count": 5,
          "nan_count": 0,
          "min": "10.686596",
          "max": "10.853329",
          "histogram": [
           {
            "bin_start": 10.686596,
            "bin_end": 10.7032693,
            "count": 1
           },
           {
            "bin_start": 10.7032693,
            "bin_end": 10.7199426,
            "count": 0
           },
           {
            "bin_start": 10.7199426,
            "bin_end": 10.7366159,
            "count": 0
           },
           {
            "bin_start": 10.7366159,
            "bin_end": 10.7532892,
            "count": 0
           },
           {
            "bin_start": 10.7532892,
            "bin_end": 10.7699625,
            "count": 0
           },
           {
            "bin_start": 10.7699625,
            "bin_end": 10.7866358,
            "count": 1
           },
           {
            "bin_start": 10.7866358,
            "bin_end": 10.8033091,
            "count": 1
           },
           {
            "bin_start": 10.8033091,
            "bin_end": 10.8199824,
            "count": 1
           },
           {
            "bin_start": 10.8199824,
            "bin_end": 10.8366557,
            "count": 0
           },
           {
            "bin_start": 10.8366557,
            "bin_end": 10.853329,
            "count": 1
           }
          ]
         }
        },
        {
         "name": "address",
         "dtype": "object",
         "stats": {
          "unique_count": 5,
          "nan_count": 0,
          "categories": [
           {
            "name": "Bjørnveien 53, 0774 Oslo",
            "count": 1
           },
           {
            "name": "Trasoppterrassen 3A, 0684 Oslo",
            "count": 1
           },
           {
            "name": "3 others",
            "count": 3
           }
          ]
         }
        },
        {
         "name": "apartmentnumber",
         "dtype": "object",
         "stats": {
          "unique_count": 3,
          "nan_count": 0,
          "categories": [
           {
            "name": "H0101",
            "count": 3
           },
           {
            "name": "H0201",
            "count": 1
           },
           {
            "name": "H0403",
            "count": 1
           }
          ]
         }
        },
        {
         "name": "apartmenttype",
         "dtype": "object",
         "stats": {
          "unique_count": 1,
          "nan_count": 0,
          "categories": [
           {
            "name": "B",
            "count": 5
           }
          ]
         }
        },
        {
         "name": "conveyancetype",
         "dtype": "object",
         "stats": {
          "unique_count": 1,
          "nan_count": 0,
          "categories": [
           {
            "name": "Fritt salg",
            "count": 5
           }
          ]
         }
        },
        {
         "name": "finncode",
         "dtype": "int64",
         "stats": {
          "unique_count": 5,
          "nan_count": 0,
          "min": "36454379",
          "max": "177618568",
          "histogram": [
           {
            "bin_start": 36454379,
            "bin_end": 50570797.9,
            "count": 3
           },
           {
            "bin_start": 50570797.9,
            "bin_end": 64687216.8,
            "count": 0
           },
           {
            "bin_start": 64687216.8,
            "bin_end": 78803635.7,
            "count": 0
           },
           {
            "bin_start": 78803635.7,
            "bin_end": 92920054.6,
            "count": 0
           },
           {
            "bin_start": 92920054.6,
            "bin_end": 107036473.5,
            "count": 0
           },
           {
            "bin_start": 107036473.5,
            "bin_end": 121152892.4,
            "count": 0
           },
           {
            "bin_start": 121152892.4,
            "bin_end": 135269311.3,
            "count": 0
           },
           {
            "bin_start": 135269311.3,
            "bin_end": 149385730.2,
            "count": 1
           },
           {
            "bin_start": 149385730.2,
            "bin_end": 163502149.10000002,
            "count": 0
           },
           {
            "bin_start": 163502149.10000002,
            "bin_end": 177618568,
            "count": 1
           }
          ]
         }
        },
        {
         "name": "BRA",
         "dtype": "float64",
         "stats": {
          "unique_count": 5,
          "nan_count": 0,
          "min": "46.0",
          "max": "571.0",
          "histogram": [
           {
            "bin_start": 46,
            "bin_end": 98.5,
            "count": 1
           },
           {
            "bin_start": 98.5,
            "bin_end": 151,
            "count": 2
           },
           {
            "bin_start": 151,
            "bin_end": 203.5,
            "count": 0
           },
           {
            "bin_start": 203.5,
            "bin_end": 256,
            "count": 0
           },
           {
            "bin_start": 256,
            "bin_end": 308.5,
            "count": 0
           },
           {
            "bin_start": 308.5,
            "bin_end": 361,
            "count": 0
           },
           {
            "bin_start": 361,
            "bin_end": 413.5,
            "count": 0
           },
           {
            "bin_start": 413.5,
            "bin_end": 466,
            "count": 1
           },
           {
            "bin_start": 466,
            "bin_end": 518.5,
            "count": 0
           },
           {
            "bin_start": 518.5,
            "bin_end": 571,
            "count": 1
           }
          ]
         }
        },
        {
         "name": "PROM",
         "dtype": "float64",
         "stats": {
          "unique_count": 5,
          "nan_count": 0,
          "min": "46.0",
          "max": "453.0",
          "histogram": [
           {
            "bin_start": 46,
            "bin_end": 86.7,
            "count": 1
           },
           {
            "bin_start": 86.7,
            "bin_end": 127.4,
            "count": 1
           },
           {
            "bin_start": 127.4,
            "bin_end": 168.10000000000002,
            "count": 1
           },
           {
            "bin_start": 168.10000000000002,
            "bin_end": 208.8,
            "count": 0
           },
           {
            "bin_start": 208.8,
            "bin_end": 249.5,
            "count": 0
           },
           {
            "bin_start": 249.5,
            "bin_end": 290.20000000000005,
            "count": 0
           },
           {
            "bin_start": 290.20000000000005,
            "bin_end": 330.90000000000003,
            "count": 0
           },
           {
            "bin_start": 330.90000000000003,
            "bin_end": 371.6,
            "count": 1
           },
           {
            "bin_start": 371.6,
            "bin_end": 412.3,
            "count": 0
           },
           {
            "bin_start": 412.3,
            "bin_end": 453,
            "count": 1
           }
          ]
         }
        },
        {
         "name": "buildyear",
         "dtype": "float64",
         "stats": {
          "unique_count": 5,
          "nan_count": 0,
          "min": "1932.0",
          "max": "2012.0",
          "histogram": [
           {
            "bin_start": 1932,
            "bin_end": 1940,
            "count": 3
           },
           {
            "bin_start": 1940,
            "bin_end": 1948,
            "count": 0
           },
           {
            "bin_start": 1948,
            "bin_end": 1956,
            "count": 0
           },
           {
            "bin_start": 1956,
            "bin_end": 1964,
            "count": 0
           },
           {
            "bin_start": 1964,
            "bin_end": 1972,
            "count": 0
           },
           {
            "bin_start": 1972,
            "bin_end": 1980,
            "count": 0
           },
           {
            "bin_start": 1980,
            "bin_end": 1988,
            "count": 1
           },
           {
            "bin_start": 1988,
            "bin_end": 1996,
            "count": 0
           },
           {
            "bin_start": 1996,
            "bin_end": 2004,
            "count": 0
           },
           {
            "bin_start": 2004,
            "bin_end": 2012,
            "count": 1
           }
          ]
         }
        },
        {
         "name": "matrikkel",
         "dtype": "object",
         "stats": {
          "unique_count": 5,
          "nan_count": 0,
          "categories": [
           {
            "name": "301-33-628-0",
            "count": 1
           },
           {
            "name": "301-143-204-0",
            "count": 1
           },
           {
            "name": "3 others",
            "count": 3
           }
          ]
         }
        },
        {
         "name": "bedrooms",
         "dtype": "float64",
         "stats": {
          "unique_count": 3,
          "nan_count": 0,
          "min": "1.0",
          "max": "5.0",
          "histogram": [
           {
            "bin_start": 1,
            "bin_end": 1.4,
            "count": 1
           },
           {
            "bin_start": 1.4,
            "bin_end": 1.8,
            "count": 0
           },
           {
            "bin_start": 1.8,
            "bin_end": 2.2,
            "count": 0
           },
           {
            "bin_start": 2.2,
            "bin_end": 2.6,
            "count": 0
           },
           {
            "bin_start": 2.6,
            "bin_end": 3,
            "count": 0
           },
           {
            "bin_start": 3,
            "bin_end": 3.4000000000000004,
            "count": 2
           },
           {
            "bin_start": 3.4000000000000004,
            "bin_end": 3.8000000000000003,
            "count": 0
           },
           {
            "bin_start": 3.8000000000000003,
            "bin_end": 4.2,
            "count": 0
           },
           {
            "bin_start": 4.2,
            "bin_end": 4.6,
            "count": 0
           },
           {
            "bin_start": 4.6,
            "bin_end": 5,
            "count": 2
           }
          ]
         }
        },
        {
         "name": "bathrooms",
         "dtype": "int64",
         "stats": {
          "unique_count": 2,
          "nan_count": 0,
          "min": "1",
          "max": "4",
          "histogram": [
           {
            "bin_start": 1,
            "bin_end": 1.3,
            "count": 4
           },
           {
            "bin_start": 1.3,
            "bin_end": 1.6,
            "count": 0
           },
           {
            "bin_start": 1.6,
            "bin_end": 1.9,
            "count": 0
           },
           {
            "bin_start": 1.9,
            "bin_end": 2.2,
            "count": 0
           },
           {
            "bin_start": 2.2,
            "bin_end": 2.5,
            "count": 0
           },
           {
            "bin_start": 2.5,
            "bin_end": 2.8,
            "count": 0
           },
           {
            "bin_start": 2.8,
            "bin_end": 3.1,
            "count": 0
           },
           {
            "bin_start": 3.1,
            "bin_end": 3.4,
            "count": 0
           },
           {
            "bin_start": 3.4,
            "bin_end": 3.6999999999999997,
            "count": 0
           },
           {
            "bin_start": 3.6999999999999997,
            "bin_end": 4,
            "count": 1
           }
          ]
         }
        },
        {
         "name": "WC",
         "dtype": "int64",
         "stats": {
          "unique_count": 2,
          "nan_count": 0,
          "min": "1",
          "max": "5",
          "histogram": [
           {
            "bin_start": 1,
            "bin_end": 1.4,
            "count": 4
           },
           {
            "bin_start": 1.4,
            "bin_end": 1.8,
            "count": 0
           },
           {
            "bin_start": 1.8,
            "bin_end": 2.2,
            "count": 0
           },
           {
            "bin_start": 2.2,
            "bin_end": 2.6,
            "count": 0
           },
           {
            "bin_start": 2.6,
            "bin_end": 3,
            "count": 0
           },
           {
            "bin_start": 3,
            "bin_end": 3.4000000000000004,
            "count": 0
           },
           {
            "bin_start": 3.4000000000000004,
            "bin_end": 3.8000000000000003,
            "count": 0
           },
           {
            "bin_start": 3.8000000000000003,
            "bin_end": 4.2,
            "count": 0
           },
           {
            "bin_start": 4.2,
            "bin_end": 4.6,
            "count": 0
           },
           {
            "bin_start": 4.6,
            "bin_end": 5,
            "count": 1
           }
          ]
         }
        },
        {
         "name": "elevator",
         "dtype": "float64",
         "stats": {
          "unique_count": 1,
          "nan_count": 0,
          "min": "0.0",
          "max": "0.0",
          "histogram": [
           {
            "bin_start": -0.5,
            "bin_end": -0.4,
            "count": 0
           },
           {
            "bin_start": -0.4,
            "bin_end": -0.3,
            "count": 0
           },
           {
            "bin_start": -0.3,
            "bin_end": -0.19999999999999996,
            "count": 0
           },
           {
            "bin_start": -0.19999999999999996,
            "bin_end": -0.09999999999999998,
            "count": 0
           },
           {
            "bin_start": -0.09999999999999998,
            "bin_end": 0,
            "count": 0
           },
           {
            "bin_start": 0,
            "bin_end": 0.10000000000000009,
            "count": 5
           },
           {
            "bin_start": 0.10000000000000009,
            "bin_end": 0.20000000000000007,
            "count": 0
           },
           {
            "bin_start": 0.20000000000000007,
            "bin_end": 0.30000000000000004,
            "count": 0
           },
           {
            "bin_start": 0.30000000000000004,
            "bin_end": 0.4,
            "count": 0
           },
           {
            "bin_start": 0.4,
            "bin_end": 0.5,
            "count": 0
           }
          ]
         }
        },
        {
         "name": "floor",
         "dtype": "float64",
         "stats": {
          "unique_count": 3,
          "nan_count": 0,
          "min": "2.0",
          "max": "4.0",
          "histogram": [
           {
            "bin_start": 2,
            "bin_end": 2.2,
            "count": 1
           },
           {
            "bin_start": 2.2,
            "bin_end": 2.4,
            "count": 0
           },
           {
            "bin_start": 2.4,
            "bin_end": 2.6,
            "count": 0
           },
           {
            "bin_start": 2.6,
            "bin_end": 2.8,
            "count": 0
           },
           {
            "bin_start": 2.8,
            "bin_end": 3,
            "count": 0
           },
           {
            "bin_start": 3,
            "bin_end": 3.2,
            "count": 3
           },
           {
            "bin_start": 3.2,
            "bin_end": 3.4000000000000004,
            "count": 0
           },
           {
            "bin_start": 3.4000000000000004,
            "bin_end": 3.6,
            "count": 0
           },
           {
            "bin_start": 3.6,
            "bin_end": 3.8,
            "count": 0
           },
           {
            "bin_start": 3.8,
            "bin_end": 4,
            "count": 1
           }
          ]
         }
        },
        {
         "name": "housingtype",
         "dtype": "object",
         "stats": {
          "unique_count": 3,
          "nan_count": 0,
          "categories": [
           {
            "name": "Enebolig",
            "count": 3
           },
           {
            "name": "Tomannsbolig",
            "count": 1
           },
           {
            "name": "Leilighet",
            "count": 1
           }
          ]
         }
        },
        {
         "name": "commondebt",
         "dtype": "float64",
         "stats": {
          "unique_count": 2,
          "nan_count": 0,
          "min": "0.0",
          "max": "164865.0",
          "histogram": [
           {
            "bin_start": 0,
            "bin_end": 16486.5,
            "count": 4
           },
           {
            "bin_start": 16486.5,
            "bin_end": 32973,
            "count": 0
           },
           {
            "bin_start": 32973,
            "bin_end": 49459.5,
            "count": 0
           },
           {
            "bin_start": 49459.5,
            "bin_end": 65946,
            "count": 0
           },
           {
            "bin_start": 65946,
            "bin_end": 82432.5,
            "count": 0
           },
           {
            "bin_start": 82432.5,
            "bin_end": 98919,
            "count": 0
           },
           {
            "bin_start": 98919,
            "bin_end": 115405.5,
            "count": 0
           },
           {
            "bin_start": 115405.5,
            "bin_end": 131892,
            "count": 0
           },
           {
            "bin_start": 131892,
            "bin_end": 148378.5,
            "count": 0
           },
           {
            "bin_start": 148378.5,
            "bin_end": 164865,
            "count": 1
           }
          ]
         }
        },
        {
         "name": "commoncosts",
         "dtype": "float64",
         "stats": {
          "unique_count": 3,
          "nan_count": 0,
          "min": "0.0",
          "max": "3606.0",
          "histogram": [
           {
            "bin_start": 0,
            "bin_end": 360.6,
            "count": 3
           },
           {
            "bin_start": 360.6,
            "bin_end": 721.2,
            "count": 0
           },
           {
            "bin_start": 721.2,
            "bin_end": 1081.8000000000002,
            "count": 0
           },
           {
            "bin_start": 1081.8000000000002,
            "bin_end": 1442.4,
            "count": 0
           },
           {
            "bin_start": 1442.4,
            "bin_end": 1803,
            "count": 1
           },
           {
            "bin_start": 1803,
            "bin_end": 2163.6000000000004,
            "count": 0
           },
           {
            "bin_start": 2163.6000000000004,
            "bin_end": 2524.2000000000003,
            "count": 0
           },
           {
            "bin_start": 2524.2000000000003,
            "bin_end": 2884.8,
            "count": 0
           },
           {
            "bin_start": 2884.8,
            "bin_end": 3245.4,
            "count": 0
           },
           {
            "bin_start": 3245.4,
            "bin_end": 3606,
            "count": 1
           }
          ]
         }
        },
        {
         "name": "F_Aircondition",
         "dtype": "float64",
         "stats": {
          "unique_count": 2,
          "nan_count": 0,
          "min": "0.0",
          "max": "1.0",
          "histogram": [
           {
            "bin_start": 0,
            "bin_end": 0.1,
            "count": 4
           },
           {
            "bin_start": 0.1,
            "bin_end": 0.2,
            "count": 0
           },
           {
            "bin_start": 0.2,
            "bin_end": 0.30000000000000004,
            "count": 0
           },
           {
            "bin_start": 0.30000000000000004,
            "bin_end": 0.4,
            "count": 0
           },
           {
            "bin_start": 0.4,
            "bin_end": 0.5,
            "count": 0
           },
           {
            "bin_start": 0.5,
            "bin_end": 0.6000000000000001,
            "count": 0
           },
           {
            "bin_start": 0.6000000000000001,
            "bin_end": 0.7000000000000001,
            "count": 0
           },
           {
            "bin_start": 0.7000000000000001,
            "bin_end": 0.8,
            "count": 0
           },
           {
            "bin_start": 0.8,
            "bin_end": 0.9,
            "count": 0
           },
           {
            "bin_start": 0.9,
            "bin_end": 1,
            "count": 1
           }
          ]
         }
        },
        {
         "name": "F_Alarm",
         "dtype": "float64",
         "stats": {
          "unique_count": 1,
          "nan_count": 0,
          "min": "0.0",
          "max": "0.0",
          "histogram": [
           {
            "bin_start": -0.5,
            "bin_end": -0.4,
            "count": 0
           },
           {
            "bin_start": -0.4,
            "bin_end": -0.3,
            "count": 0
           },
           {
            "bin_start": -0.3,
            "bin_end": -0.19999999999999996,
            "count": 0
           },
           {
            "bin_start": -0.19999999999999996,
            "bin_end": -0.09999999999999998,
            "count": 0
           },
           {
            "bin_start": -0.09999999999999998,
            "bin_end": 0,
            "count": 0
           },
           {
            "bin_start": 0,
            "bin_end": 0.10000000000000009,
            "count": 5
           },
           {
            "bin_start": 0.10000000000000009,
            "bin_end": 0.20000000000000007,
            "count": 0
           },
           {
            "bin_start": 0.20000000000000007,
            "bin_end": 0.30000000000000004,
            "count": 0
           },
           {
            "bin_start": 0.30000000000000004,
            "bin_end": 0.4,
            "count": 0
           },
           {
            "bin_start": 0.4,
            "bin_end": 0.5,
            "count": 0
           }
          ]
         }
        },
        {
         "name": "F_BalkongTerrasse",
         "dtype": "float64",
         "stats": {
          "unique_count": 2,
          "nan_count": 0,
          "min": "0.0",
          "max": "1.0",
          "histogram": [
           {
            "bin_start": 0,
            "bin_end": 0.1,
            "count": 1
           },
           {
            "bin_start": 0.1,
            "bin_end": 0.2,
            "count": 0
           },
           {
            "bin_start": 0.2,
            "bin_end": 0.30000000000000004,
            "count": 0
           },
           {
            "bin_start": 0.30000000000000004,
            "bin_end": 0.4,
            "count": 0
           },
           {
            "bin_start": 0.4,
            "bin_end": 0.5,
            "count": 0
           },
           {
            "bin_start": 0.5,
            "bin_end": 0.6000000000000001,
            "count": 0
           },
           {
            "bin_start": 0.6000000000000001,
            "bin_end": 0.7000000000000001,
            "count": 0
           },
           {
            "bin_start": 0.7000000000000001,
            "bin_end": 0.8,
            "count": 0
           },
           {
            "bin_start": 0.8,
            "bin_end": 0.9,
            "count": 0
           },
           {
            "bin_start": 0.9,
            "bin_end": 1,
            "count": 4
           }
          ]
         }
        },
        {
         "name": "F_Barnevennlig",
         "dtype": "float64",
         "stats": {
          "unique_count": 2,
          "nan_count": 0,
          "min": "0.0",
          "max": "1.0",
          "histogram": [
           {
            "bin_start": 0,
            "bin_end": 0.1,
            "count": 1
           },
           {
            "bin_start": 0.1,
            "bin_end": 0.2,
            "count": 0
           },
           {
            "bin_start": 0.2,
            "bin_end": 0.30000000000000004,
            "count": 0
           },
           {
            "bin_start": 0.30000000000000004,
            "bin_end": 0.4,
            "count": 0
           },
           {
            "bin_start": 0.4,
            "bin_end": 0.5,
            "count": 0
           },
           {
            "bin_start": 0.5,
            "bin_end": 0.6000000000000001,
            "count": 0
           },
           {
            "bin_start": 0.6000000000000001,
            "bin_end": 0.7000000000000001,
            "count": 0
           },
           {
            "bin_start": 0.7000000000000001,
            "bin_end": 0.8,
            "count": 0
           },
           {
            "bin_start": 0.8,
            "bin_end": 0.9,
            "count": 0
           },
           {
            "bin_start": 0.9,
            "bin_end": 1,
            "count": 4
           }
          ]
         }
        },
        {
         "name": "F_Bredbåndstilknytning",
         "dtype": "float64",
         "stats": {
          "unique_count": 2,
          "nan_count": 0,
          "min": "0.0",
          "max": "1.0",
          "histogram": [
           {
            "bin_start": 0,
            "bin_end": 0.1,
            "count": 1
           },
           {
            "bin_start": 0.1,
            "bin_end": 0.2,
            "count": 0
           },
           {
            "bin_start": 0.2,
            "bin_end": 0.30000000000000004,
            "count": 0
           },
           {
            "bin_start": 0.30000000000000004,
            "bin_end": 0.4,
            "count": 0
           },
           {
            "bin_start": 0.4,
            "bin_end": 0.5,
            "count": 0
           },
           {
            "bin_start": 0.5,
            "bin_end": 0.6000000000000001,
            "count": 0
           },
           {
            "bin_start": 0.6000000000000001,
            "bin_end": 0.7000000000000001,
            "count": 0
           },
           {
            "bin_start": 0.7000000000000001,
            "bin_end": 0.8,
            "count": 0
           },
           {
            "bin_start": 0.8,
            "bin_end": 0.9,
            "count": 0
           },
           {
            "bin_start": 0.9,
            "bin_end": 1,
            "count": 4
           }
          ]
         }
        },
        {
         "name": "F_Fellesvaskeri",
         "dtype": "float64",
         "stats": {
          "unique_count": 2,
          "nan_count": 0,
          "min": "0.0",
          "max": "1.0",
          "histogram": [
           {
            "bin_start": 0,
            "bin_end": 0.1,
            "count": 4
           },
           {
            "bin_start": 0.1,
            "bin_end": 0.2,
            "count": 0
           },
           {
            "bin_start": 0.2,
            "bin_end": 0.30000000000000004,
            "count": 0
           },
           {
            "bin_start": 0.30000000000000004,
            "bin_end": 0.4,
            "count": 0
           },
           {
            "bin_start": 0.4,
            "bin_end": 0.5,
            "count": 0
           },
           {
            "bin_start": 0.5,
            "bin_end": 0.6000000000000001,
            "count": 0
           },
           {
            "bin_start": 0.6000000000000001,
            "bin_end": 0.7000000000000001,
            "count": 0
           },
           {
            "bin_start": 0.7000000000000001,
            "bin_end": 0.8,
            "count": 0
           },
           {
            "bin_start": 0.8,
            "bin_end": 0.9,
            "count": 0
           },
           {
            "bin_start": 0.9,
            "bin_end": 1,
            "count": 1
           }
          ]
         }
        },
        {
         "name": "F_GarasjeP-plass",
         "dtype": "float64",
         "stats": {
          "unique_count": 1,
          "nan_count": 0,
          "min": "1.0",
          "max": "1.0",
          "histogram": [
           {
            "bin_start": 0.5,
            "bin_end": 0.6,
            "count": 0
           },
           {
            "bin_start": 0.6,
            "bin_end": 0.7,
            "count": 0
           },
           {
            "bin_start": 0.7,
            "bin_end": 0.8,
            "count": 0
           },
           {
            "bin_start": 0.8,
            "bin_end": 0.9,
            "count": 0
           },
           {
            "bin_start": 0.9,
            "bin_end": 1,
            "count": 0
           },
           {
            "bin_start": 1,
            "bin_end": 1.1,
            "count": 5
           },
           {
            "bin_start": 1.1,
            "bin_end": 1.2000000000000002,
            "count": 0
           },
           {
            "bin_start": 1.2000000000000002,
            "bin_end": 1.3,
            "count": 0
           },
           {
            "bin_start": 1.3,
            "bin_end": 1.4,
            "count": 0
           },
           {
            "bin_start": 1.4,
            "bin_end": 1.5,
            "count": 0
           }
          ]
         }
        },
        {
         "name": "F_Ingen gjenboere",
         "dtype": "float64",
         "stats": {
          "unique_count": 2,
          "nan_count": 0,
          "min": "0.0",
          "max": "1.0",
          "histogram": [
           {
            "bin_start": 0,
            "bin_end": 0.1,
            "count": 3
           },
           {
            "bin_start": 0.1,
            "bin_end": 0.2,
            "count": 0
           },
           {
            "bin_start": 0.2,
            "bin_end": 0.30000000000000004,
            "count": 0
           },
           {
            "bin_start": 0.30000000000000004,
            "bin_end": 0.4,
            "count": 0
           },
           {
            "bin_start": 0.4,
            "bin_end": 0.5,
            "count": 0
           },
           {
            "bin_start": 0.5,
            "bin_end": 0.6000000000000001,
            "count": 0
           },
           {
            "bin_start": 0.6000000000000001,
            "bin_end": 0.7000000000000001,
            "count": 0
           },
           {
            "bin_start": 0.7000000000000001,
            "bin_end": 0.8,
            "count": 0
           },
           {
            "bin_start": 0.8,
            "bin_end": 0.9,
            "count": 0
           },
           {
            "bin_start": 0.9,
            "bin_end": 1,
            "count": 2
           }
          ]
         }
        },
        {
         "name": "F_Lademulighet",
         "dtype": "float64",
         "stats": {
          "unique_count": 1,
          "nan_count": 0,
          "min": "0.0",
          "max": "0.0",
          "histogram": [
           {
            "bin_start": -0.5,
            "bin_end": -0.4,
            "count": 0
           },
           {
            "bin_start": -0.4,
            "bin_end": -0.3,
            "count": 0
           },
           {
            "bin_start": -0.3,
            "bin_end": -0.19999999999999996,
            "count": 0
           },
           {
            "bin_start": -0.19999999999999996,
            "bin_end": -0.09999999999999998,
            "count": 0
           },
           {
            "bin_start": -0.09999999999999998,
            "bin_end": 0,
            "count": 0
           },
           {
            "bin_start": 0,
            "bin_end": 0.10000000000000009,
            "count": 5
           },
           {
            "bin_start": 0.10000000000000009,
            "bin_end": 0.20000000000000007,
            "count": 0
           },
           {
            "bin_start": 0.20000000000000007,
            "bin_end": 0.30000000000000004,
            "count": 0
           },
           {
            "bin_start": 0.30000000000000004,
            "bin_end": 0.4,
            "count": 0
           },
           {
            "bin_start": 0.4,
            "bin_end": 0.5,
            "count": 0
           }
          ]
         }
        },
        {
         "name": "F_Livsløpsstandard",
         "dtype": "float64",
         "stats": {
          "unique_count": 1,
          "nan_count": 0,
          "min": "0.0",
          "max": "0.0",
          "histogram": [
           {
            "bin_start": -0.5,
            "bin_end": -0.4,
            "count": 0
           },
           {
            "bin_start": -0.4,
            "bin_end": -0.3,
            "count": 0
           },
           {
            "bin_start": -0.3,
            "bin_end": -0.19999999999999996,
            "count": 0
           },
           {
            "bin_start": -0.19999999999999996,
            "bin_end": -0.09999999999999998,
            "count": 0
           },
           {
            "bin_start": -0.09999999999999998,
            "bin_end": 0,
            "count": 0
           },
           {
            "bin_start": 0,
            "bin_end": 0.10000000000000009,
            "count": 5
           },
           {
            "bin_start": 0.10000000000000009,
            "bin_end": 0.20000000000000007,
            "count": 0
           },
           {
            "bin_start": 0.20000000000000007,
            "bin_end": 0.30000000000000004,
            "count": 0
           },
           {
            "bin_start": 0.30000000000000004,
            "bin_end": 0.4,
            "count": 0
           },
           {
            "bin_start": 0.4,
            "bin_end": 0.5,
            "count": 0
           }
          ]
         }
        },
        {
         "name": "F_Moderne",
         "dtype": "float64",
         "stats": {
          "unique_count": 2,
          "nan_count": 0,
          "min": "0.0",
          "max": "1.0",
          "histogram": [
           {
            "bin_start": 0,
            "bin_end": 0.1,
            "count": 3
           },
           {
            "bin_start": 0.1,
            "bin_end": 0.2,
            "count": 0
           },
           {
            "bin_start": 0.2,
            "bin_end": 0.30000000000000004,
            "count": 0
           },
           {
            "bin_start": 0.30000000000000004,
            "bin_end": 0.4,
            "count": 0
           },
           {
            "bin_start": 0.4,
            "bin_end": 0.5,
            "count": 0
           },
           {
            "bin_start": 0.5,
            "bin_end": 0.6000000000000001,
            "count": 0
           },
           {
            "bin_start": 0.6000000000000001,
            "bin_end": 0.7000000000000001,
            "count": 0
           },
           {
            "bin_start": 0.7000000000000001,
            "bin_end": 0.8,
            "count": 0
           },
           {
            "bin_start": 0.8,
            "bin_end": 0.9,
            "count": 0
           },
           {
            "bin_start": 0.9,
            "bin_end": 1,
            "count": 2
           }
          ]
         }
        },
        {
         "name": "F_Offentlig vannkloakk",
         "dtype": "float64",
         "stats": {
          "unique_count": 2,
          "nan_count": 0,
          "min": "0.0",
          "max": "1.0",
          "histogram": [
           {
            "bin_start": 0,
            "bin_end": 0.1,
            "count": 1
           },
           {
            "bin_start": 0.1,
            "bin_end": 0.2,
            "count": 0
           },
           {
            "bin_start": 0.2,
            "bin_end": 0.30000000000000004,
            "count": 0
           },
           {
            "bin_start": 0.30000000000000004,
            "bin_end": 0.4,
            "count": 0
           },
           {
            "bin_start": 0.4,
            "bin_end": 0.5,
            "count": 0
           },
           {
            "bin_start": 0.5,
            "bin_end": 0.6000000000000001,
            "count": 0
           },
           {
            "bin_start": 0.6000000000000001,
            "bin_end": 0.7000000000000001,
            "count": 0
           },
           {
            "bin_start": 0.7000000000000001,
            "bin_end": 0.8,
            "count": 0
           },
           {
            "bin_start": 0.8,
            "bin_end": 0.9,
            "count": 0
           },
           {
            "bin_start": 0.9,
            "bin_end": 1,
            "count": 4
           }
          ]
         }
        },
        {
         "name": "F_Parkett",
         "dtype": "float64",
         "stats": {
          "unique_count": 1,
          "nan_count": 0,
          "min": "1.0",
          "max": "1.0",
          "histogram": [
           {
            "bin_start": 0.5,
            "bin_end": 0.6,
            "count": 0
           },
           {
            "bin_start": 0.6,
            "bin_end": 0.7,
            "count": 0
           },
           {
            "bin_start": 0.7,
            "bin_end": 0.8,
            "count": 0
           },
           {
            "bin_start": 0.8,
            "bin_end": 0.9,
            "count": 0
           },
           {
            "bin_start": 0.9,
            "bin_end": 1,
            "count": 0
           },
           {
            "bin_start": 1,
            "bin_end": 1.1,
            "count": 5
           },
           {
            "bin_start": 1.1,
            "bin_end": 1.2000000000000002,
            "count": 0
           },
           {
            "bin_start": 1.2000000000000002,
            "bin_end": 1.3,
            "count": 0
           },
           {
            "bin_start": 1.3,
            "bin_end": 1.4,
            "count": 0
           },
           {
            "bin_start": 1.4,
            "bin_end": 1.5,
            "count": 0
           }
          ]
         }
        },
        {
         "name": "F_PeisIldsted",
         "dtype": "float64",
         "stats": {
          "unique_count": 2,
          "nan_count": 0,
          "min": "0.0",
          "max": "1.0",
          "histogram": [
           {
            "bin_start": 0,
            "bin_end": 0.1,
            "count": 2
           },
           {
            "bin_start": 0.1,
            "bin_end": 0.2,
            "count": 0
           },
           {
            "bin_start": 0.2,
            "bin_end": 0.30000000000000004,
            "count": 0
           },
           {
            "bin_start": 0.30000000000000004,
            "bin_end": 0.4,
            "count": 0
           },
           {
            "bin_start": 0.4,
            "bin_end": 0.5,
            "count": 0
           },
           {
            "bin_start": 0.5,
            "bin_end": 0.6000000000000001,
            "count": 0
           },
           {
            "bin_start": 0.6000000000000001,
            "bin_end": 0.7000000000000001,
            "count": 0
           },
           {
            "bin_start": 0.7000000000000001,
            "bin_end": 0.8,
            "count": 0
           },
           {
            "bin_start": 0.8,
            "bin_end": 0.9,
            "count": 0
           },
           {
            "bin_start": 0.9,
            "bin_end": 1,
            "count": 3
           }
          ]
         }
        },
        {
         "name": "F_Rolig",
         "dtype": "float64",
         "stats": {
          "unique_count": 2,
          "nan_count": 0,
          "min": "0.0",
          "max": "1.0",
          "histogram": [
           {
            "bin_start": 0,
            "bin_end": 0.1,
            "count": 1
           },
           {
            "bin_start": 0.1,
            "bin_end": 0.2,
            "count": 0
           },
           {
            "bin_start": 0.2,
            "bin_end": 0.30000000000000004,
            "count": 0
           },
           {
            "bin_start": 0.30000000000000004,
            "bin_end": 0.4,
            "count": 0
           },
           {
            "bin_start": 0.4,
            "bin_end": 0.5,
            "count": 0
           },
           {
            "bin_start": 0.5,
            "bin_end": 0.6000000000000001,
            "count": 0
           },
           {
            "bin_start": 0.6000000000000001,
            "bin_end": 0.7000000000000001,
            "count": 0
           },
           {
            "bin_start": 0.7000000000000001,
            "bin_end": 0.8,
            "count": 0
           },
           {
            "bin_start": 0.8,
            "bin_end": 0.9,
            "count": 0
           },
           {
            "bin_start": 0.9,
            "bin_end": 1,
            "count": 4
           }
          ]
         }
        },
        {
         "name": "F_Sentralt",
         "dtype": "float64",
         "stats": {
          "unique_count": 2,
          "nan_count": 0,
          "min": "0.0",
          "max": "1.0",
          "histogram": [
           {
            "bin_start": 0,
            "bin_end": 0.1,
            "count": 2
           },
           {
            "bin_start": 0.1,
            "bin_end": 0.2,
            "count": 0
           },
           {
            "bin_start": 0.2,
            "bin_end": 0.30000000000000004,
            "count": 0
           },
           {
            "bin_start": 0.30000000000000004,
            "bin_end": 0.4,
            "count": 0
           },
           {
            "bin_start": 0.4,
            "bin_end": 0.5,
            "count": 0
           },
           {
            "bin_start": 0.5,
            "bin_end": 0.6000000000000001,
            "count": 0
           },
           {
            "bin_start": 0.6000000000000001,
            "bin_end": 0.7000000000000001,
            "count": 0
           },
           {
            "bin_start": 0.7000000000000001,
            "bin_end": 0.8,
            "count": 0
           },
           {
            "bin_start": 0.8,
            "bin_end": 0.9,
            "count": 0
           },
           {
            "bin_start": 0.9,
            "bin_end": 1,
            "count": 3
           }
          ]
         }
        },
        {
         "name": "F_Utsikt",
         "dtype": "float64",
         "stats": {
          "unique_count": 2,
          "nan_count": 0,
          "min": "0.0",
          "max": "1.0",
          "histogram": [
           {
            "bin_start": 0,
            "bin_end": 0.1,
            "count": 3
           },
           {
            "bin_start": 0.1,
            "bin_end": 0.2,
            "count": 0
           },
           {
            "bin_start": 0.2,
            "bin_end": 0.30000000000000004,
            "count": 0
           },
           {
            "bin_start": 0.30000000000000004,
            "bin_end": 0.4,
            "count": 0
           },
           {
            "bin_start": 0.4,
            "bin_end": 0.5,
            "count": 0
           },
           {
            "bin_start": 0.5,
            "bin_end": 0.6000000000000001,
            "count": 0
           },
           {
            "bin_start": 0.6000000000000001,
            "bin_end": 0.7000000000000001,
            "count": 0
           },
           {
            "bin_start": 0.7000000000000001,
            "bin_end": 0.8,
            "count": 0
           },
           {
            "bin_start": 0.8,
            "bin_end": 0.9,
            "count": 0
           },
           {
            "bin_start": 0.9,
            "bin_end": 1,
            "count": 2
           }
          ]
         }
        },
        {
         "name": "F_Vaktmester-vektertjeneste",
         "dtype": "float64",
         "stats": {
          "unique_count": 1,
          "nan_count": 0,
          "min": "0.0",
          "max": "0.0",
          "histogram": [
           {
            "bin_start": -0.5,
            "bin_end": -0.4,
            "count": 0
           },
           {
            "bin_start": -0.4,
            "bin_end": -0.3,
            "count": 0
           },
           {
            "bin_start": -0.3,
            "bin_end": -0.19999999999999996,
            "count": 0
           },
           {
            "bin_start": -0.19999999999999996,
            "bin_end": -0.09999999999999998,
            "count": 0
           },
           {
            "bin_start": -0.09999999999999998,
            "bin_end": 0,
            "count": 0
           },
           {
            "bin_start": 0,
            "bin_end": 0.10000000000000009,
            "count": 5
           },
           {
            "bin_start": 0.10000000000000009,
            "bin_end": 0.20000000000000007,
            "count": 0
           },
           {
            "bin_start": 0.20000000000000007,
            "bin_end": 0.30000000000000004,
            "count": 0
           },
           {
            "bin_start": 0.30000000000000004,
            "bin_end": 0.4,
            "count": 0
           },
           {
            "bin_start": 0.4,
            "bin_end": 0.5,
            "count": 0
           }
          ]
         }
        },
        {
         "name": "F_Bademulighet",
         "dtype": "float64",
         "stats": {
          "unique_count": 1,
          "nan_count": 0,
          "min": "0.0",
          "max": "0.0",
          "histogram": [
           {
            "bin_start": -0.5,
            "bin_end": -0.4,
            "count": 0
           },
           {
            "bin_start": -0.4,
            "bin_end": -0.3,
            "count": 0
           },
           {
            "bin_start": -0.3,
            "bin_end": -0.19999999999999996,
            "count": 0
           },
           {
            "bin_start": -0.19999999999999996,
            "bin_end": -0.09999999999999998,
            "count": 0
           },
           {
            "bin_start": -0.09999999999999998,
            "bin_end": 0,
            "count": 0
           },
           {
            "bin_start": 0,
            "bin_end": 0.10000000000000009,
            "count": 5
           },
           {
            "bin_start": 0.10000000000000009,
            "bin_end": 0.20000000000000007,
            "count": 0
           },
           {
            "bin_start": 0.20000000000000007,
            "bin_end": 0.30000000000000004,
            "count": 0
           },
           {
            "bin_start": 0.30000000000000004,
            "bin_end": 0.4,
            "count": 0
           },
           {
            "bin_start": 0.4,
            "bin_end": 0.5,
            "count": 0
           }
          ]
         }
        },
        {
         "name": "F_Fiskemulighet",
         "dtype": "float64",
         "stats": {
          "unique_count": 1,
          "nan_count": 0,
          "min": "0.0",
          "max": "0.0",
          "histogram": [
           {
            "bin_start": -0.5,
            "bin_end": -0.4,
            "count": 0
           },
           {
            "bin_start": -0.4,
            "bin_end": -0.3,
            "count": 0
           },
           {
            "bin_start": -0.3,
            "bin_end": -0.19999999999999996,
            "count": 0
           },
           {
            "bin_start": -0.19999999999999996,
            "bin_end": -0.09999999999999998,
            "count": 0
           },
           {
            "bin_start": -0.09999999999999998,
            "bin_end": 0,
            "count": 0
           },
           {
            "bin_start": 0,
            "bin_end": 0.10000000000000009,
            "count": 5
           },
           {
            "bin_start": 0.10000000000000009,
            "bin_end": 0.20000000000000007,
            "count": 0
           },
           {
            "bin_start": 0.20000000000000007,
            "bin_end": 0.30000000000000004,
            "count": 0
           },
           {
            "bin_start": 0.30000000000000004,
            "bin_end": 0.4,
            "count": 0
           },
           {
            "bin_start": 0.4,
            "bin_end": 0.5,
            "count": 0
           }
          ]
         }
        },
        {
         "name": "F_Turterreng",
         "dtype": "float64",
         "stats": {
          "unique_count": 2,
          "nan_count": 0,
          "min": "0.0",
          "max": "1.0",
          "histogram": [
           {
            "bin_start": 0,
            "bin_end": 0.1,
            "count": 3
           },
           {
            "bin_start": 0.1,
            "bin_end": 0.2,
            "count": 0
           },
           {
            "bin_start": 0.2,
            "bin_end": 0.30000000000000004,
            "count": 0
           },
           {
            "bin_start": 0.30000000000000004,
            "bin_end": 0.4,
            "count": 0
           },
           {
            "bin_start": 0.4,
            "bin_end": 0.5,
            "count": 0
           },
           {
            "bin_start": 0.5,
            "bin_end": 0.6000000000000001,
            "count": 0
           },
           {
            "bin_start": 0.6000000000000001,
            "bin_end": 0.7000000000000001,
            "count": 0
           },
           {
            "bin_start": 0.7000000000000001,
            "bin_end": 0.8,
            "count": 0
           },
           {
            "bin_start": 0.8,
            "bin_end": 0.9,
            "count": 0
           },
           {
            "bin_start": 0.9,
            "bin_end": 1,
            "count": 2
           }
          ]
         }
        },
        {
         "name": "adtitle",
         "dtype": "object",
         "stats": {
          "unique_count": 5,
          "nan_count": 0,
          "categories": [
           {
            "name": "SLEMDAL - Herskapsvilla med nydelig tomt på 2,2 mål. Velholdt og innholdsrikt. Integrert dobbelgarasje og separat leil.",
            "count": 1
           },
           {
            "name": "Unik eiendom med spektakulær utsikt og solrik beliggenhet - Arkitekttegnet enebolig med 571 kvm bruksareal",
            "count": 1
           },
           {
            "name": "3 others",
            "count": 3
           }
          ]
         }
        },
        {
         "name": "N_modernisering",
         "dtype": "bool",
         "stats": {
          "unique_count": 1,
          "nan_count": 0,
          "categories": [
           {
            "name": "False",
            "count": 5
           }
          ]
         }
        },
        {
         "name": "N_oppussing",
         "dtype": "bool",
         "stats": {
          "unique_count": 1,
          "nan_count": 0,
          "categories": [
           {
            "name": "False",
            "count": 5
           }
          ]
         }
        },
        {
         "name": "N_regulert",
         "dtype": "bool",
         "stats": {
          "unique_count": 1,
          "nan_count": 0,
          "categories": [
           {
            "name": "False",
            "count": 5
           }
          ]
         }
        },
        {
         "name": "N_garasjemulighet",
         "dtype": "bool",
         "stats": {
          "unique_count": 1,
          "nan_count": 0,
          "categories": [
           {
            "name": "False",
            "count": 5
           }
          ]
         }
        },
        {
         "name": "postcode",
         "dtype": "int64",
         "stats": {
          "unique_count": 5,
          "nan_count": 0,
          "min": "485",
          "max": "1163",
          "histogram": [
           {
            "bin_start": 485,
            "bin_end": 552.8,
            "count": 1
           },
           {
            "bin_start": 552.8,
            "bin_end": 620.6,
            "count": 1
           },
           {
            "bin_start": 620.6,
            "bin_end": 688.4,
            "count": 1
           },
           {
            "bin_start": 688.4,
            "bin_end": 756.2,
            "count": 0
           },
           {
            "bin_start": 756.2,
            "bin_end": 824,
            "count": 1
           },
           {
            "bin_start": 824,
            "bin_end": 891.8,
            "count": 0
           },
           {
            "bin_start": 891.8,
            "bin_end": 959.5999999999999,
            "count": 0
           },
           {
            "bin_start": 959.5999999999999,
            "bin_end": 1027.4,
            "count": 0
           },
           {
            "bin_start": 1027.4,
            "bin_end": 1095.1999999999998,
            "count": 0
           },
           {
            "bin_start": 1095.1999999999998,
            "bin_end": 1163,
            "count": 1
           }
          ]
         }
        },
        {
         "name": "Parking",
         "dtype": "int64",
         "stats": {
          "unique_count": 1,
          "nan_count": 0,
          "min": "1",
          "max": "1",
          "histogram": [
           {
            "bin_start": 0.5,
            "bin_end": 0.6,
            "count": 0
           },
           {
            "bin_start": 0.6,
            "bin_end": 0.7,
            "count": 0
           },
           {
            "bin_start": 0.7,
            "bin_end": 0.8,
            "count": 0
           },
           {
            "bin_start": 0.8,
            "bin_end": 0.9,
            "count": 0
           },
           {
            "bin_start": 0.9,
            "bin_end": 1,
            "count": 0
           },
           {
            "bin_start": 1,
            "bin_end": 1.1,
            "count": 5
           },
           {
            "bin_start": 1.1,
            "bin_end": 1.2000000000000002,
            "count": 0
           },
           {
            "bin_start": 1.2000000000000002,
            "bin_end": 1.3,
            "count": 0
           },
           {
            "bin_start": 1.3,
            "bin_end": 1.4,
            "count": 0
           },
           {
            "bin_start": 1.4,
            "bin_end": 1.5,
            "count": 0
           }
          ]
         }
        },
        {
         "name": "price_inc_debt",
         "dtype": "float64",
         "stats": {
          "unique_count": 5,
          "nan_count": 0,
          "min": "2564865.0",
          "max": "21000000.0",
          "histogram": [
           {
            "bin_start": 2564865,
            "bin_end": 4408378.5,
            "count": 1
           },
           {
            "bin_start": 4408378.5,
            "bin_end": 6251892,
            "count": 1
           },
           {
            "bin_start": 6251892,
            "bin_end": 8095405.5,
            "count": 0
           },
           {
            "bin_start": 8095405.5,
            "bin_end": 9938919,
            "count": 1
           },
           {
            "bin_start": 9938919,
            "bin_end": 11782432.5,
            "count": 0
           },
           {
            "bin_start": 11782432.5,
            "bin_end": 13625946,
            "count": 1
           },
           {
            "bin_start": 13625946,
            "bin_end": 15469459.5,
            "count": 0
           },
           {
            "bin_start": 15469459.5,
            "bin_end": 17312973,
            "count": 0
           },
           {
            "bin_start": 17312973,
            "bin_end": 19156486.5,
            "count": 0
           },
           {
            "bin_start": 19156486.5,
            "bin_end": 21000000,
            "count": 1
           }
          ]
         }
        },
        {
         "name": "area_id",
         "dtype": "int64",
         "stats": {
          "unique_count": 5,
          "nan_count": 0,
          "min": "2",
          "max": "14",
          "histogram": [
           {
            "bin_start": 2,
            "bin_end": 3.2,
            "count": 2
           },
           {
            "bin_start": 3.2,
            "bin_end": 4.4,
            "count": 0
           },
           {
            "bin_start": 4.4,
            "bin_end": 5.6,
            "count": 0
           },
           {
            "bin_start": 5.6,
            "bin_end": 6.8,
            "count": 0
           },
           {
            "bin_start": 6.8,
            "bin_end": 8,
            "count": 1
           },
           {
            "bin_start": 8,
            "bin_end": 9.2,
            "count": 0
           },
           {
            "bin_start": 9.2,
            "bin_end": 10.4,
            "count": 0
           },
           {
            "bin_start": 10.4,
            "bin_end": 11.6,
            "count": 0
           },
           {
            "bin_start": 11.6,
            "bin_end": 12.799999999999999,
            "count": 0
           },
           {
            "bin_start": 12.799999999999999,
            "bin_end": 14,
            "count": 2
           }
          ]
         }
        },
        {
         "name": "Bydel_lat",
         "dtype": "float64",
         "stats": {
          "unique_count": 5,
          "nan_count": 0,
          "min": "59.875677",
          "max": "59.950695",
          "histogram": [
           {
            "bin_start": 59.875677,
            "bin_end": 59.8831788,
            "count": 1
           },
           {
            "bin_start": 59.8831788,
            "bin_end": 59.8906806,
            "count": 1
           },
           {
            "bin_start": 59.8906806,
            "bin_end": 59.8981824,
            "count": 0
           },
           {
            "bin_start": 59.8981824,
            "bin_end": 59.9056842,
            "count": 0
           },
           {
            "bin_start": 59.9056842,
            "bin_end": 59.913186,
            "count": 0
           },
           {
            "bin_start": 59.913186,
            "bin_end": 59.9206878,
            "count": 0
           },
           {
            "bin_start": 59.9206878,
            "bin_end": 59.9281896,
            "count": 1
           },
           {
            "bin_start": 59.9281896,
            "bin_end": 59.9356914,
            "count": 0
           },
           {
            "bin_start": 59.9356914,
            "bin_end": 59.9431932,
            "count": 1
           },
           {
            "bin_start": 59.9431932,
            "bin_end": 59.950695,
            "count": 1
           }
          ]
         }
        },
        {
         "name": "Bydel_lng",
         "dtype": "float64",
         "stats": {
          "unique_count": 5,
          "nan_count": 0,
          "min": "10.657639",
          "max": "10.835148",
          "histogram": [
           {
            "bin_start": 10.657639,
            "bin_end": 10.675389899999999,
            "count": 1
           },
           {
            "bin_start": 10.675389899999999,
            "bin_end": 10.6931408,
            "count": 0
           },
           {
            "bin_start": 10.6931408,
            "bin_end": 10.7108917,
            "count": 0
           },
           {
            "bin_start": 10.7108917,
            "bin_end": 10.7286426,
            "count": 0
           },
           {
            "bin_start": 10.7286426,
            "bin_end": 10.7463935,
            "count": 0
           },
           {
            "bin_start": 10.7463935,
            "bin_end": 10.7641444,
            "count": 0
           },
           {
            "bin_start": 10.7641444,
            "bin_end": 10.7818953,
            "count": 2
           },
           {
            "bin_start": 10.7818953,
            "bin_end": 10.7996462,
            "count": 1
           },
           {
            "bin_start": 10.7996462,
            "bin_end": 10.8173971,
            "count": 0
           },
           {
            "bin_start": 10.8173971,
            "bin_end": 10.835148,
            "count": 1
           }
          ]
         }
        },
        {
         "name": "floor_NA",
         "dtype": "int64",
         "stats": {
          "unique_count": 2,
          "nan_count": 0,
          "min": "0",
          "max": "1",
          "histogram": [
           {
            "bin_start": 0,
            "bin_end": 0.1,
            "count": 2
           },
           {
            "bin_start": 0.1,
            "bin_end": 0.2,
            "count": 0
           },
           {
            "bin_start": 0.2,
            "bin_end": 0.30000000000000004,
            "count": 0
           },
           {
            "bin_start": 0.30000000000000004,
            "bin_end": 0.4,
            "count": 0
           },
           {
            "bin_start": 0.4,
            "bin_end": 0.5,
            "count": 0
           },
           {
            "bin_start": 0.5,
            "bin_end": 0.6000000000000001,
            "count": 0
           },
           {
            "bin_start": 0.6000000000000001,
            "bin_end": 0.7000000000000001,
            "count": 0
           },
           {
            "bin_start": 0.7000000000000001,
            "bin_end": 0.8,
            "count": 0
           },
           {
            "bin_start": 0.8,
            "bin_end": 0.9,
            "count": 0
           },
           {
            "bin_start": 0.9,
            "bin_end": 1,
            "count": 3
           }
          ]
         }
        },
        {
         "name": "commondebt_NA",
         "dtype": "int64",
         "stats": {
          "unique_count": 2,
          "nan_count": 0,
          "min": "0",
          "max": "1",
          "histogram": [
           {
            "bin_start": 0,
            "bin_end": 0.1,
            "count": 1
           },
           {
            "bin_start": 0.1,
            "bin_end": 0.2,
            "count": 0
           },
           {
            "bin_start": 0.2,
            "bin_end": 0.30000000000000004,
            "count": 0
           },
           {
            "bin_start": 0.30000000000000004,
            "bin_end": 0.4,
            "count": 0
           },
           {
            "bin_start": 0.4,
            "bin_end": 0.5,
            "count": 0
           },
           {
            "bin_start": 0.5,
            "bin_end": 0.6000000000000001,
            "count": 0
           },
           {
            "bin_start": 0.6000000000000001,
            "bin_end": 0.7000000000000001,
            "count": 0
           },
           {
            "bin_start": 0.7000000000000001,
            "bin_end": 0.8,
            "count": 0
           },
           {
            "bin_start": 0.8,
            "bin_end": 0.9,
            "count": 0
           },
           {
            "bin_start": 0.9,
            "bin_end": 1,
            "count": 4
           }
          ]
         }
        },
        {
         "name": "commoncosts_NA",
         "dtype": "int64",
         "stats": {
          "unique_count": 2,
          "nan_count": 0,
          "min": "0",
          "max": "1",
          "histogram": [
           {
            "bin_start": 0,
            "bin_end": 0.1,
            "count": 2
           },
           {
            "bin_start": 0.1,
            "bin_end": 0.2,
            "count": 0
           },
           {
            "bin_start": 0.2,
            "bin_end": 0.30000000000000004,
            "count": 0
           },
           {
            "bin_start": 0.30000000000000004,
            "bin_end": 0.4,
            "count": 0
           },
           {
            "bin_start": 0.4,
            "bin_end": 0.5,
            "count": 0
           },
           {
            "bin_start": 0.5,
            "bin_end": 0.6000000000000001,
            "count": 0
           },
           {
            "bin_start": 0.6000000000000001,
            "bin_end": 0.7000000000000001,
            "count": 0
           },
           {
            "bin_start": 0.7000000000000001,
            "bin_end": 0.8,
            "count": 0
           },
           {
            "bin_start": 0.8,
            "bin_end": 0.9,
            "count": 0
           },
           {
            "bin_start": 0.9,
            "bin_end": 1,
            "count": 3
           }
          ]
         }
        },
        {
         "name": "_deepnote_index_column",
         "dtype": "int64"
        }
       ],
       "rows": [
        {
         "documentDate": "2013-11-12",
         "picturedate": "2013/8",
         "lastchanged": "2013-09-13",
         "adcreated": "2013-08-21",
         "price": 21000000,
         "listprice": 24000000,
         "lat": 59.952496,
         "lng": 10.686596,
         "address": "Bjørnveien 53, 0774 Oslo",
         "apartmentnumber": "H0101",
         "apartmenttype": "B",
         "conveyancetype": "Fritt salg",
         "finncode": 43507737,
         "BRA": 443,
         "PROM": 354,
         "buildyear": 1932,
         "matrikkel": "301-33-628-0",
         "bedrooms": 5,
         "bathrooms": 1,
         "WC": 1,
         "elevator": 0,
         "floor": 3.165976387531379,
         "housingtype": "Enebolig",
         "commondebt": 0,
         "commoncosts": 0,
         "F_Aircondition": 0,
         "F_Alarm": 0,
         "F_BalkongTerrasse": 1,
         "F_Barnevennlig": 1,
         "F_Bredbåndstilknytning": 1,
         "F_Fellesvaskeri": 0,
         "F_GarasjeP-plass": 1,
         "F_Ingen gjenboere": 1,
         "F_Lademulighet": 0,
         "F_Livsløpsstandard": 0,
         "F_Moderne": 0,
         "F_Offentlig vannkloakk": 1,
         "F_Parkett": 1,
         "F_PeisIldsted": 1,
         "F_Rolig": 1,
         "F_Sentralt": 0,
         "F_Utsikt": 0,
         "F_Vaktmester-vektertjeneste": 0,
         "F_Bademulighet": 0,
         "F_Fiskemulighet": 0,
         "F_Turterreng": 0,
         "adtitle": "SLEMDAL - Herskapsvilla med nydelig tomt på 2,2 mål. Velholdt og innholdsrikt. Integrert dobbelgara…",
         "N_modernisering": false,
         "N_oppussing": false,
         "N_regulert": false,
         "N_garasjemulighet": false,
         "postcode": 774,
         "Parking": 1,
         "price_inc_debt": 21000000,
         "area_id": 7,
         "Bydel_lat": 59.950695,
         "Bydel_lng": 10.657639,
         "floor_NA": 1,
         "commondebt_NA": 1,
         "commoncosts_NA": 1,
         "_deepnote_index_column": 13
        },
        {
         "documentDate": "2020-11-05",
         "picturedate": "2020/5",
         "lastchanged": "2020-06-17",
         "adcreated": "2020-05-02",
         "price": 13500000,
         "listprice": 15000000,
         "lat": 59.90884,
         "lng": 10.853329,
         "address": "Trasoppterrassen 3A, 0684 Oslo",
         "apartmentnumber": "H0101",
         "apartmenttype": "B",
         "conveyancetype": "Fritt salg",
         "finncode": 177618568,
         "BRA": 571,
         "PROM": 453,
         "buildyear": 1984,
         "matrikkel": "301-143-204-0",
         "bedrooms": 5,
         "bathrooms": 4,
         "WC": 5,
         "elevator": 0,
         "floor": 3.165976387531379,
         "housingtype": "Enebolig",
         "commondebt": 0,
         "commoncosts": 0,
         "F_Aircondition": 0,
         "F_Alarm": 0,
         "F_BalkongTerrasse": 1,
         "F_Barnevennlig": 1,
         "F_Bredbåndstilknytning": 1,
         "F_Fellesvaskeri": 0,
         "F_GarasjeP-plass": 1,
         "F_Ingen gjenboere": 0,
         "F_Lademulighet": 0,
         "F_Livsløpsstandard": 0,
         "F_Moderne": 1,
         "F_Offentlig vannkloakk": 1,
         "F_Parkett": 1,
         "F_PeisIldsted": 1,
         "F_Rolig": 1,
         "F_Sentralt": 1,
         "F_Utsikt": 1,
         "F_Vaktmester-vektertjeneste": 0,
         "F_Bademulighet": 0,
         "F_Fiskemulighet": 0,
         "F_Turterreng": 1,
         "adtitle": "Unik eiendom med spektakulær utsikt og solrik beliggenhet - Arkitekttegnet enebolig med 571 kvm bru…",
         "N_modernisering": false,
         "N_oppussing": false,
         "N_regulert": false,
         "N_garasjemulighet": false,
         "postcode": 684,
         "Parking": 1,
         "price_inc_debt": 13500000,
         "area_id": 13,
         "Bydel_lat": 59.88839,
         "Bydel_lng": 10.835148,
         "floor_NA": 1,
         "commondebt_NA": 1,
         "commoncosts_NA": 1,
         "_deepnote_index_column": 14
        },
        {
         "documentDate": "2019-05-06",
         "picturedate": "2019/2",
         "lastchanged": "2019-02-15",
         "adcreated": "2019-01-25",
         "price": 8450000,
         "listprice": 7800000,
         "lat": 59.873753,
         "lng": 10.808472,
         "address": "Radarveien 78 C, 1163 Oslo",
         "apartmentnumber": "H0201",
         "apartmenttype": "B",
         "conveyancetype": "Fritt salg",
         "finncode": 138940366,
         "BRA": 113,
         "PROM": 113,
         "buildyear": 2012,
         "matrikkel": "301-159-128-2",
         "bedrooms": 3,
         "bathrooms": 1,
         "WC": 1,
         "elevator": 0,
         "floor": 2,
         "housingtype": "Tomannsbolig",
         "commondebt": 0,
         "commoncosts": 1750,
         "F_Aircondition": 1,
         "F_Alarm": 0,
         "F_BalkongTerrasse": 1,
         "F_Barnevennlig": 1,
         "F_Bredbåndstilknytning": 1,
         "F_Fellesvaskeri": 0,
         "F_GarasjeP-plass": 1,
         "F_Ingen gjenboere": 1,
         "F_Lademulighet": 0,
         "F_Livsløpsstandard": 0,
         "F_Moderne": 1,
         "F_Offentlig vannkloakk": 1,
         "F_Parkett": 1,
         "F_PeisIldsted": 0,
         "F_Rolig": 1,
         "F_Sentralt": 1,
         "F_Utsikt": 1,
         "F_Vaktmester-vektertjeneste": 0,
         "F_Bademulighet": 0,
         "F_Fiskemulighet": 0,
         "F_Turterreng": 0,
         "adtitle": "LAMBERTSETER/NORDSTRAND: Lys og luftig 1/2 av tomannsbolig m/flott utsikt. Stor veranda. Garasje. A…",
         "N_modernisering": false,
         "N_oppussing": false,
         "N_regulert": false,
         "N_garasjemulighet": false,
         "postcode": 1163,
         "Parking": 1,
         "price_inc_debt": 8450000,
         "area_id": 14,
         "Bydel_lat": 59.875677,
         "Bydel_lng": 10.789629,
         "floor_NA": 0,
         "commondebt_NA": 1,
         "commoncosts_NA": 0,
         "_deepnote_index_column": 10
        },
        {
         "documentDate": "2014-05-21",
         "picturedate": "2014/2",
         "lastchanged": "2014-03-01",
         "adcreated": "2014-02-15",
         "price": 5775000,
         "listprice": 5690000,
         "lat": 59.93454,
         "lng": 10.796455,
         "address": "Liljeveien 15, 0585 Oslo",
         "apartmentnumber": "H0101",
         "apartmenttype": "B",
         "conveyancetype": "Fritt salg",
         "finncode": 46728572,
         "BRA": 150.37375130507442,
         "PROM": 139,
         "buildyear": 1937,
         "matrikkel": "301-83-217-0",
         "bedrooms": 3,
         "bathrooms": 1,
         "WC": 1,
         "elevator": 0,
         "floor": 3.165976387531379,
         "housingtype": "Enebolig",
         "commondebt": 0,
         "commoncosts": 0,
         "F_Aircondition": 0,
         "F_Alarm": 0,
         "F_BalkongTerrasse": 0,
         "F_Barnevennlig": 1,
         "F_Bredbåndstilknytning": 0,
         "F_Fellesvaskeri": 0,
         "F_GarasjeP-plass": 1,
         "F_Ingen gjenboere": 0,
         "F_Lademulighet": 0,
         "F_Livsløpsstandard": 0,
         "F_Moderne": 0,
         "F_Offentlig vannkloakk": 1,
         "F_Parkett": 1,
         "F_PeisIldsted": 1,
         "F_Rolig": 1,
         "F_Sentralt": 0,
         "F_Utsikt": 0,
         "F_Vaktmester-vektertjeneste": 0,
         "F_Bademulighet": 0,
         "F_Fiskemulighet": 0,
         "F_Turterreng": 0,
         "adtitle": "REFSTAD: Enebolig / Generasjonsbolig / Utleiemulighet - Garasje og solrik hage - Sentralt og meget …",
         "N_modernisering": false,
         "N_oppussing": false,
         "N_regulert": false,
         "N_garasjemulighet": false,
         "postcode": 585,
         "Parking": 1,
         "price_inc_debt": 5775000,
         "area_id": 2,
         "Bydel_lat": 59.923818,
         "Bydel_lng": 10.771007,
         "floor_NA": 1,
         "commondebt_NA": 1,
         "commoncosts_NA": 1,
         "_deepnote_index_column": 12
        },
        {
         "documentDate": "2012-09-04",
         "picturedate": "2012/8",
         "lastchanged": "2019-02-24",
         "adcreated": "2012-08-08",
         "price": 2400000,
         "listprice": 1990000,
         "lat": 59.943737,
         "lng": 10.774553,
         "address": "Grefsenveien 30 A, 0485 Oslo",
         "apartmentnumber": "H0403",
         "apartmenttype": "B",
         "conveyancetype": "Fritt salg",
         "finncode": 36454379,
         "BRA": 46,
         "PROM": 46,
         "buildyear": 1935,
         "matrikkel": "301-76-5-29",
         "bedrooms": 1,
         "bathrooms": 1,
         "WC": 1,
         "elevator": 0,
         "floor": 4,
         "housingtype": "Leilighet",
         "commondebt": 164865,
         "commoncosts": 3606,
         "F_Aircondition": 0,
         "F_Alarm": 0,
         "F_BalkongTerrasse": 1,
         "F_Barnevennlig": 0,
         "F_Bredbåndstilknytning": 1,
         "F_Fellesvaskeri": 1,
         "F_GarasjeP-plass": 1,
         "F_Ingen gjenboere": 0,
         "F_Lademulighet": 0,
         "F_Livsløpsstandard": 0,
         "F_Moderne": 0,
         "F_Offentlig vannkloakk": 0,
         "F_Parkett": 1,
         "F_PeisIldsted": 0,
         "F_Rolig": 0,
         "F_Sentralt": 1,
         "F_Utsikt": 0,
         "F_Vaktmester-vektertjeneste": 0,
         "F_Bademulighet": 0,
         "F_Fiskemulighet": 0,
         "F_Turterreng": 1,
         "adtitle": "Sandaker/Storo - Oppusset og attraktiv 2 roms med parkering og solrik balkong. Alt oppusset i 2007/…",
         "N_modernisering": false,
         "N_oppussing": false,
         "N_regulert": false,
         "N_garasjemulighet": false,
         "postcode": 485,
         "Parking": 1,
         "price_inc_debt": 2564865,
         "area_id": 3,
         "Bydel_lat": 59.93829,
         "Bydel_lng": 10.764674,
         "floor_NA": 0,
         "commondebt_NA": 0,
         "commoncosts_NA": 0,
         "_deepnote_index_column": 11
        }
       ]
      },
      "text/plain": "   documentDate picturedate lastchanged   adcreated     price   listprice  \\\n10   2019-05-06      2019/2  2019-02-15  2019-01-25   8450000   7800000.0   \n11   2012-09-04      2012/8  2019-02-24  2012-08-08   2400000   1990000.0   \n12   2014-05-21      2014/2  2014-03-01  2014-02-15   5775000   5690000.0   \n13   2013-11-12      2013/8  2013-09-13  2013-08-21  21000000  24000000.0   \n14   2020-11-05      2020/5  2020-06-17  2020-05-02  13500000  15000000.0   \n\n          lat        lng                         address apartmentnumber  ...  \\\n10  59.873753  10.808472      Radarveien 78 C, 1163 Oslo           H0201  ...   \n11  59.943737  10.774553    Grefsenveien 30 A, 0485 Oslo           H0403  ...   \n12  59.934540  10.796455        Liljeveien 15, 0585 Oslo           H0101  ...   \n13  59.952496  10.686596        Bjørnveien 53, 0774 Oslo           H0101  ...   \n14  59.908840  10.853329  Trasoppterrassen 3A, 0684 Oslo           H0101  ...   \n\n   N_garasjemulighet postcode  Parking  price_inc_debt  area_id  Bydel_lat  \\\n10             False     1163        1       8450000.0       14  59.875677   \n11             False      485        1       2564865.0        3  59.938290   \n12             False      585        1       5775000.0        2  59.923818   \n13             False      774        1      21000000.0        7  59.950695   \n14             False      684        1      13500000.0       13  59.888390   \n\n    Bydel_lng  floor_NA  commondebt_NA  commoncosts_NA  \n10  10.789629         0              1               0  \n11  10.764674         0              0               0  \n12  10.771007         1              1               1  \n13  10.657639         1              1               1  \n14  10.835148         1              1               1  \n\n[5 rows x 60 columns]",
      "text/html": "<div>\n<style scoped>\n    .dataframe tbody tr th:only-of-type {\n        vertical-align: middle;\n    }\n\n    .dataframe tbody tr th {\n        vertical-align: top;\n    }\n\n    .dataframe thead th {\n        text-align: right;\n    }\n</style>\n<table border=\"1\" class=\"dataframe\">\n  <thead>\n    <tr style=\"text-align: right;\">\n      <th></th>\n      <th>documentDate</th>\n      <th>picturedate</th>\n      <th>lastchanged</th>\n      <th>adcreated</th>\n      <th>price</th>\n      <th>listprice</th>\n      <th>lat</th>\n      <th>lng</th>\n      <th>address</th>\n      <th>apartmentnumber</th>\n      <th>...</th>\n      <th>N_garasjemulighet</th>\n      <th>postcode</th>\n      <th>Parking</th>\n      <th>price_inc_debt</th>\n      <th>area_id</th>\n      <th>Bydel_lat</th>\n      <th>Bydel_lng</th>\n      <th>floor_NA</th>\n      <th>commondebt_NA</th>\n      <th>commoncosts_NA</th>\n    </tr>\n  </thead>\n  <tbody>\n    <tr>\n      <th>10</th>\n      <td>2019-05-06</td>\n      <td>2019/2</td>\n      <td>2019-02-15</td>\n      <td>2019-01-25</td>\n      <td>8450000</td>\n      <td>7800000.0</td>\n      <td>59.873753</td>\n      <td>10.808472</td>\n      <td>Radarveien 78 C, 1163 Oslo</td>\n      <td>H0201</td>\n      <td>...</td>\n      <td>False</td>\n      <td>1163</td>\n      <td>1</td>\n      <td>8450000.0</td>\n      <td>14</td>\n      <td>59.875677</td>\n      <td>10.789629</td>\n      <td>0</td>\n      <td>1</td>\n      <td>0</td>\n    </tr>\n    <tr>\n      <th>11</th>\n      <td>2012-09-04</td>\n      <td>2012/8</td>\n      <td>2019-02-24</td>\n      <td>2012-08-08</td>\n      <td>2400000</td>\n      <td>1990000.0</td>\n      <td>59.943737</td>\n      <td>10.774553</td>\n      <td>Grefsenveien 30 A, 0485 Oslo</td>\n      <td>H0403</td>\n      <td>...</td>\n      <td>False</td>\n      <td>485</td>\n      <td>1</td>\n      <td>2564865.0</td>\n      <td>3</td>\n      <td>59.938290</td>\n      <td>10.764674</td>\n      <td>0</td>\n      <td>0</td>\n      <td>0</td>\n    </tr>\n    <tr>\n      <th>12</th>\n      <td>2014-05-21</td>\n      <td>2014/2</td>\n      <td>2014-03-01</td>\n      <td>2014-02-15</td>\n      <td>5775000</td>\n      <td>5690000.0</td>\n      <td>59.934540</td>\n      <td>10.796455</td>\n      <td>Liljeveien 15, 0585 Oslo</td>\n      <td>H0101</td>\n      <td>...</td>\n      <td>False</td>\n      <td>585</td>\n      <td>1</td>\n      <td>5775000.0</td>\n      <td>2</td>\n      <td>59.923818</td>\n      <td>10.771007</td>\n      <td>1</td>\n      <td>1</td>\n      <td>1</td>\n    </tr>\n    <tr>\n      <th>13</th>\n      <td>2013-11-12</td>\n      <td>2013/8</td>\n      <td>2013-09-13</td>\n      <td>2013-08-21</td>\n      <td>21000000</td>\n      <td>24000000.0</td>\n      <td>59.952496</td>\n      <td>10.686596</td>\n      <td>Bjørnveien 53, 0774 Oslo</td>\n      <td>H0101</td>\n      <td>...</td>\n      <td>False</td>\n      <td>774</td>\n      <td>1</td>\n      <td>21000000.0</td>\n      <td>7</td>\n      <td>59.950695</td>\n      <td>10.657639</td>\n      <td>1</td>\n      <td>1</td>\n      <td>1</td>\n    </tr>\n    <tr>\n      <th>14</th>\n      <td>2020-11-05</td>\n      <td>2020/5</td>\n      <td>2020-06-17</td>\n      <td>2020-05-02</td>\n      <td>13500000</td>\n      <td>15000000.0</td>\n      <td>59.908840</td>\n      <td>10.853329</td>\n      <td>Trasoppterrassen 3A, 0684 Oslo</td>\n      <td>H0101</td>\n      <td>...</td>\n      <td>False</td>\n      <td>684</td>\n      <td>1</td>\n      <td>13500000.0</td>\n      <td>13</td>\n      <td>59.888390</td>\n      <td>10.835148</td>\n      <td>1</td>\n      <td>1</td>\n      <td>1</td>\n    </tr>\n  </tbody>\n</table>\n<p>5 rows × 60 columns</p>\n</div>"
     },
     "metadata": {}
    }
   ]
  },
  {
   "cell_type": "markdown",
   "metadata": {
    "cell_id": "7ce03f6c-9a73-436e-81cf-4f9f9d088793",
    "tags": [],
    "deepnote_to_be_reexecuted": false,
    "source_hash": "b623e53d",
    "execution_start": 1645085598317,
    "execution_millis": 82981919,
    "deepnote_cell_type": "markdown"
   },
   "source": "Andreas: Først lage nye variabler, typ kvadratmeterpris (ut fra prisantydning), måned for annonse, renten osv. Deretter avgrense dataen på byggeår, kvadratmeter og pris. Og så lage en ny dataframe hvor man utelater variabler man ikke skal bruke. \n\nMorten/Silje: Videre vil visualisering være relevant (Seaborn)\n\nDeretter eksprimentere med modeller (ANN/Reresjon)."
  },
  {
   "cell_type": "code",
   "metadata": {
    "cell_id": "057c54bf-afdb-4f22-a861-8ea7a239c699",
    "tags": [],
    "deepnote_to_be_reexecuted": false,
    "source_hash": "9cecee11",
    "execution_start": 1645091528422,
    "execution_millis": 4,
    "deepnote_output_heights": [
     117.171875
    ],
    "deepnote_cell_type": "code"
   },
   "source": "print(type(df.iloc[1]['adcreated']))",
   "execution_count": 57,
   "outputs": [
    {
     "name": "stdout",
     "text": "<class 'str'>\n",
     "output_type": "stream"
    }
   ]
  },
  {
   "cell_type": "code",
   "metadata": {
    "cell_id": "2c47aa90-93ac-4724-bc5b-46df0133324c",
    "tags": [],
    "deepnote_to_be_reexecuted": true,
    "source_hash": "b623e53d",
    "execution_start": 1645085598423,
    "execution_millis": 82981926,
    "deepnote_cell_type": "code"
   },
   "source": "",
   "outputs": [],
   "execution_count": null
  },
  {
   "cell_type": "code",
   "metadata": {
    "cell_id": "7bdc9505-db3f-4d1f-9de9-d3bf5dde0b08",
    "tags": [],
    "deepnote_to_be_reexecuted": true,
    "source_hash": "b623e53d",
    "execution_start": 1645085598467,
    "execution_millis": 82981950,
    "deepnote_cell_type": "code"
   },
   "source": "",
   "outputs": [],
   "execution_count": null
  },
  {
   "cell_type": "code",
   "metadata": {
    "cell_id": "1fbb6f9f-a024-41d2-beb2-8e96ea15aedb",
    "tags": [],
    "deepnote_to_be_reexecuted": true,
    "source_hash": "b623e53d",
    "execution_start": 1645085598511,
    "execution_millis": 82981992,
    "deepnote_cell_type": "code"
   },
   "source": "",
   "outputs": [],
   "execution_count": null
  },
  {
   "cell_type": "code",
   "metadata": {
    "cell_id": "1cfbdc41-07fc-48e0-8fc9-746d337d3d57",
    "tags": [],
    "deepnote_to_be_reexecuted": true,
    "source_hash": "b623e53d",
    "execution_start": 1645085598513,
    "execution_millis": 82981992,
    "deepnote_cell_type": "code"
   },
   "source": "",
   "outputs": [],
   "execution_count": null
  },
  {
   "cell_type": "code",
   "metadata": {
    "cell_id": "eb5cd913-d9cf-47e7-a0c1-68764884e49e",
    "tags": [],
    "deepnote_to_be_reexecuted": true,
    "source_hash": "b623e53d",
    "execution_start": 1645085598562,
    "execution_millis": 82982036,
    "deepnote_cell_type": "code"
   },
   "source": "",
   "outputs": [],
   "execution_count": null
  },
  {
   "cell_type": "code",
   "metadata": {
    "cell_id": "aef35122-7441-49b6-81bb-db1eca58d92a",
    "tags": [],
    "deepnote_to_be_reexecuted": true,
    "source_hash": "b623e53d",
    "execution_start": 1645085598563,
    "execution_millis": 82982037,
    "deepnote_cell_type": "code"
   },
   "source": "",
   "outputs": [],
   "execution_count": null
  },
  {
   "cell_type": "code",
   "source": "",
   "metadata": {
    "cell_id": "48badb57-3c40-4686-a138-57ee9509fd0c",
    "tags": [],
    "deepnote_to_be_reexecuted": true,
    "source_hash": "b623e53d",
    "deepnote_cell_type": "code"
   },
   "outputs": [],
   "execution_count": null
  },
  {
   "cell_type": "code",
   "source": "",
   "metadata": {
    "cell_id": "fe658beb-3c6b-4583-99ea-16a723966031",
    "tags": [],
    "deepnote_to_be_reexecuted": true,
    "source_hash": "b623e53d",
    "deepnote_cell_type": "code"
   },
   "outputs": [],
   "execution_count": null
  },
  {
   "cell_type": "code",
   "source": "",
   "metadata": {
    "cell_id": "061a73e4-8748-4f7d-924a-4f004a6bc8e3",
    "tags": [],
    "deepnote_to_be_reexecuted": true,
    "source_hash": "b623e53d",
    "deepnote_cell_type": "code"
   },
   "outputs": [],
   "execution_count": null
  },
  {
   "cell_type": "code",
   "source": "",
   "metadata": {
    "cell_id": "9e19614d-9e45-4777-9bbd-9a4a5a37b1b6",
    "tags": [],
    "deepnote_to_be_reexecuted": true,
    "source_hash": "b623e53d",
    "deepnote_cell_type": "code"
   },
   "outputs": [],
   "execution_count": null
  },
  {
   "cell_type": "code",
   "source": "",
   "metadata": {
    "cell_id": "21cdde6f-e436-4501-bc8a-d063e78d9137",
    "tags": [],
    "deepnote_to_be_reexecuted": true,
    "source_hash": "b623e53d",
    "deepnote_cell_type": "code"
   },
   "outputs": [],
   "execution_count": null
  },
  {
   "cell_type": "code",
   "metadata": {
    "cell_id": "00005-b0dfb173-5623-4019-9fb9-364cc15ea865",
    "deepnote_to_be_reexecuted": true,
    "source_hash": "34cc42e7",
    "execution_start": 1645085598618,
    "execution_millis": 62,
    "deepnote_cell_type": "code"
   },
   "source": "df_latlng = df.copy()",
   "outputs": [],
   "execution_count": null
  },
  {
   "cell_type": "code",
   "metadata": {
    "cell_id": "00006-aa82cb3e-b989-42d7-8193-b2bf11a89e22",
    "deepnote_to_be_reexecuted": true,
    "source_hash": "b49592ad",
    "execution_start": 1645085598723,
    "execution_millis": 634,
    "deepnote_cell_type": "code"
   },
   "source": "df_latlng.drop(df[df[\"lat\"] < 59.8].index, inplace=True)\ndf_latlng.drop(df[df[\"lat\"] > 59.98].index, inplace=True)",
   "outputs": [],
   "execution_count": null
  },
  {
   "cell_type": "code",
   "metadata": {
    "cell_id": "00007-8805fa5c-b18a-4cf6-90d9-aed5cccef894",
    "deepnote_to_be_reexecuted": true,
    "source_hash": "32487fdf",
    "execution_start": 1645085599403,
    "execution_millis": 1629,
    "deepnote_output_heights": [
     250
    ],
    "deepnote_cell_type": "code"
   },
   "source": "plt.scatter(df_latlng[\"lng\"],df_latlng[\"lat\"], s=1)\nplt.show()",
   "outputs": [
    {
     "data": {
      "text/plain": "<Figure size 432x288 with 1 Axes>",
      "image/png": "[encoded data removed]"
     },
     "metadata": {
      "needs_background": "light",
      "image/png": {
       "width": 391,
       "height": 248
      }
     },
     "output_type": "display_data"
    }
   ],
   "execution_count": null
  },
  {
   "cell_type": "code",
   "metadata": {
    "cell_id": "00008-0ce19e62-da01-4d36-ad2c-173c0a334360",
    "deepnote_to_be_reexecuted": true,
    "source_hash": "933dcef6",
    "execution_start": 1645085600826,
    "execution_millis": 24499,
    "deepnote_output_heights": [
     431
    ],
    "deepnote_cell_type": "code"
   },
   "source": "df_latlng.plot(kind = \"scatter\", \n                x = \"lng\", \n                y = \"lat\", \n                alpha = 0.4,                        # blending value, between 0 (transparent) and 1 (opaque).\n                s = df_latlng[\"price\"]/1000000,   # The marker size according to population\n                label = \"Størrelse\",               # The label of the timeseries used in legend  \n                figsize = (10,7),                   # Figure size\n                #c = \"price\",           # color dependent on feature house value\n                cmap = plt.get_cmap(\"jet\"),         # color map in case that c is an array of floats\n                colorbar = True,\n                sharex = False)                     #  each subplot x- or y-axis will be independent  \n\nplt.legend()\nplt.show()\n\n\n# Try to put an error into cmap then you get a suggestion of all the possibilities\n",
   "outputs": [
    {
     "data": {
      "text/plain": "<Figure size 720x504 with 2 Axes>",
      "image/png": "[encoded data removed]"
     },
     "metadata": {
      "needs_background": "light",
      "image/png": {
       "width": 586,
       "height": 429
      }
     },
     "output_type": "display_data"
    }
   ],
   "execution_count": null
  },
  {
   "cell_type": "code",
   "metadata": {
    "cell_id": "00009-86671a91-8f3b-4d70-969e-9418507566af",
    "deepnote_to_be_reexecuted": true,
    "source_hash": "dbfd81cf",
    "execution_start": 1645085625458,
    "execution_millis": 23601,
    "deepnote_output_heights": [
     571
    ],
    "deepnote_cell_type": "code"
   },
   "source": "oslo_img=mpimg.imread('oslo.png')\n\nax = df_latlng.plot(kind = \"scatter\", \n                x = \"lng\", \n                y = \"lat\", \n                alpha = 0.4,                        # blending value, between 0 (transparent) and 1 (opaque).\n                s = df_latlng[\"price\"]/1000000,   # The marker size according to population\n                label = \"Størrelse\",               # The label of the timeseries used in legend  \n                figsize = (10,10),                   # Figure size\n                #c = \"price\",           # color dependent on feature house value\n                cmap = plt.get_cmap(\"jet\"),         # color map in case that c is an array of floats\n                colorbar = True,\n                sharex = False)  \n\nplt.imshow(oslo_img,\n           extent=[10.62, 10.95, 59.81, 59.988],\n           alpha=0.5,\n           #cmap=plt.get_cmap(\"jet\")\n           )\nplt.ylabel(\"Latitude\", fontsize=14)\nplt.xlabel(\"Longitude\", fontsize=14)\n\nprices = df_latlng[\"price\"]\ntick_values = np.linspace(prices.min(), prices.max(), 11)\ncbar = plt.colorbar(ticks=tick_values/prices.max())\ncbar.ax.set_yticklabels([\"$%dk\"%(round(v/1000)) for v in tick_values], fontsize=14)\n#cbar.set_label('Median House Value', fontsize=16)\n\nplt.legend(fontsize=10)\n\nplt.show()",
   "outputs": [
    {
     "data": {
      "text/plain": "<Figure size 720x720 with 3 Axes>",
      "image/png": "[encoded data removed]"
     },
     "metadata": {
      "needs_background": "light",
      "image/png": {
       "width": 592,
       "height": 569
      }
     },
     "output_type": "display_data"
    }
   ],
   "execution_count": null
  },
  {
   "cell_type": "code",
   "metadata": {
    "cell_id": "00010-2b11b469-4cf3-4e02-a456-8d2f51e8cae9",
    "deepnote_to_be_reexecuted": true,
    "source_hash": "b623e53d",
    "execution_start": 1645085649090,
    "execution_millis": 83017855,
    "deepnote_cell_type": "code"
   },
   "source": "",
   "outputs": [],
   "execution_count": null
  },
  {
   "cell_type": "code",
   "metadata": {
    "cell_id": "00011-5a5685ce-96e8-4d77-9810-4a3b40d440e3",
    "deepnote_output_heights": [
     1
    ],
    "deepnote_to_be_reexecuted": true,
    "source_hash": "c085b6ba",
    "execution_start": 1645085649130,
    "execution_millis": 611,
    "deepnote_cell_type": "code"
   },
   "source": "df.head()",
   "outputs": [
    {
     "output_type": "execute_result",
     "execution_count": 35,
     "data": {
      "application/vnd.deepnote.dataframe.v3+json": {
       "column_count": 60,
       "row_count": 5,
       "columns": [
        {
         "name": "documentDate",
         "dtype": "object",
         "stats": {
          "unique_count": 5,
          "nan_count": 0,
          "categories": [
           {
            "name": "2013-11-12",
            "count": 1
           },
           {
            "name": "2020-11-05",
            "count": 1
           },
           {
            "name": "3 others",
            "count": 3
           }
          ]
         }
        },
        {
         "name": "picturedate",
         "dtype": "object",
         "stats": {
          "unique_count": 5,
          "nan_count": 0,
          "categories": [
           {
            "name": "2013/8",
            "count": 1
           },
           {
            "name": "2020/5",
            "count": 1
           },
           {
            "name": "3 others",
            "count": 3
           }
          ]
         }
        },
        {
         "name": "lastchanged",
         "dtype": "object",
         "stats": {
          "unique_count": 5,
          "nan_count": 0,
          "categories": [
           {
            "name": "2013-09-13",
            "count": 1
           },
           {
            "name": "2020-06-17",
            "count": 1
           },
           {
            "name": "3 others",
            "count": 3
           }
          ]
         }
        },
        {
         "name": "adcreated",
         "dtype": "object",
         "stats": {
          "unique_count": 5,
          "nan_count": 0,
          "categories": [
           {
            "name": "2013-08-21",
            "count": 1
           },
           {
            "name": "2020-05-02",
            "count": 1
           },
           {
            "name": "3 others",
            "count": 3
           }
          ]
         }
        },
        {
         "name": "price",
         "dtype": "int64",
         "stats": {
          "unique_count": 5,
          "nan_count": 0,
          "min": "2400000",
          "max": "21000000",
          "histogram": [
           {
            "bin_start": 2400000,
            "bin_end": 4260000,
            "count": 1
           },
           {
            "bin_start": 4260000,
            "bin_end": 6120000,
            "count": 1
           },
           {
            "bin_start": 6120000,
            "bin_end": 7980000,
            "count": 0
           },
           {
            "bin_start": 7980000,
            "bin_end": 9840000,
            "count": 1
           },
           {
            "bin_start": 9840000,
            "bin_end": 11700000,
            "count": 0
           },
           {
            "bin_start": 11700000,
            "bin_end": 13560000,
            "count": 1
           },
           {
            "bin_start": 13560000,
            "bin_end": 15420000,
            "count": 0
           },
           {
            "bin_start": 15420000,
            "bin_end": 17280000,
            "count": 0
           },
           {
            "bin_start": 17280000,
            "bin_end": 19140000,
            "count": 0
           },
           {
            "bin_start": 19140000,
            "bin_end": 21000000,
            "count": 1
           }
          ]
         }
        },
        {
         "name": "listprice",
         "dtype": "float64",
         "stats": {
          "unique_count": 5,
          "nan_count": 0,
          "min": "1990000.0",
          "max": "24000000.0",
          "histogram": [
           {
            "bin_start": 1990000,
            "bin_end": 4191000,
            "count": 1
           },
           {
            "bin_start": 4191000,
            "bin_end": 6392000,
            "count": 1
           },
           {
            "bin_start": 6392000,
            "bin_end": 8593000,
            "count": 1
           },
           {
            "bin_start": 8593000,
            "bin_end": 10794000,
            "count": 0
           },
           {
            "bin_start": 10794000,
            "bin_end": 12995000,
            "count": 0
           },
           {
            "bin_start": 12995000,
            "bin_end": 15196000,
            "count": 1
           },
           {
            "bin_start": 15196000,
            "bin_end": 17397000,
            "count": 0
           },
           {
            "bin_start": 17397000,
            "bin_end": 19598000,
            "count": 0
           },
           {
            "bin_start": 19598000,
            "bin_end": 21799000,
            "count": 0
           },
           {
            "bin_start": 21799000,
            "bin_end": 24000000,
            "count": 1
           }
          ]
         }
        },
        {
         "name": "lat",
         "dtype": "float64",
         "stats": {
          "unique_count": 5,
          "nan_count": 0,
          "min": "59.873753",
          "max": "59.952496",
          "histogram": [
           {
            "bin_start": 59.873753,
            "bin_end": 59.8816273,
            "count": 1
           },
           {
            "bin_start": 59.8816273,
            "bin_end": 59.8895016,
            "count": 0
           },
           {
            "bin_start": 59.8895016,
            "bin_end": 59.8973759,
            "count": 0
           },
           {
            "bin_start": 59.8973759,
            "bin_end": 59.9052502,
            "count": 0
           },
           {
            "bin_start": 59.9052502,
            "bin_end": 59.913124499999995,
            "count": 1
           },
           {
            "bin_start": 59.913124499999995,
            "bin_end": 59.9209988,
            "count": 0
           },
           {
            "bin_start": 59.9209988,
            "bin_end": 59.9288731,
            "count": 0
           },
           {
            "bin_start": 59.9288731,
            "bin_end": 59.936747399999994,
            "count": 1
           },
           {
            "bin_start": 59.936747399999994,
            "bin_end": 59.9446217,
            "count": 1
           },
           {
            "bin_start": 59.9446217,
            "bin_end": 59.952496,
            "count": 1
           }
          ]
         }
        },
        {
         "name": "lng",
         "dtype": "float64",
         "stats": {
          "unique_count": 5,
          "nan_count": 0,
          "min": "10.686596",
          "max": "10.853329",
          "histogram": [
           {
            "bin_start": 10.686596,
            "bin_end": 10.7032693,
            "count": 1
           },
           {
            "bin_start": 10.7032693,
            "bin_end": 10.7199426,
            "count": 0
           },
           {
            "bin_start": 10.7199426,
            "bin_end": 10.7366159,
            "count": 0
           },
           {
            "bin_start": 10.7366159,
            "bin_end": 10.7532892,
            "count": 0
           },
           {
            "bin_start": 10.7532892,
            "bin_end": 10.7699625,
            "count": 0
           },
           {
            "bin_start": 10.7699625,
            "bin_end": 10.7866358,
            "count": 1
           },
           {
            "bin_start": 10.7866358,
            "bin_end": 10.8033091,
            "count": 1
           },
           {
            "bin_start": 10.8033091,
            "bin_end": 10.8199824,
            "count": 1
           },
           {
            "bin_start": 10.8199824,
            "bin_end": 10.8366557,
            "count": 0
           },
           {
            "bin_start": 10.8366557,
            "bin_end": 10.853329,
            "count": 1
           }
          ]
         }
        },
        {
         "name": "address",
         "dtype": "object",
         "stats": {
          "unique_count": 5,
          "nan_count": 0,
          "categories": [
           {
            "name": "Bjørnveien 53, 0774 Oslo",
            "count": 1
           },
           {
            "name": "Trasoppterrassen 3A, 0684 Oslo",
            "count": 1
           },
           {
            "name": "3 others",
            "count": 3
           }
          ]
         }
        },
        {
         "name": "apartmentnumber",
         "dtype": "object",
         "stats": {
          "unique_count": 3,
          "nan_count": 0,
          "categories": [
           {
            "name": "H0101",
            "count": 3
           },
           {
            "name": "H0201",
            "count": 1
           },
           {
            "name": "H0403",
            "count": 1
           }
          ]
         }
        },
        {
         "name": "apartmenttype",
         "dtype": "object",
         "stats": {
          "unique_count": 1,
          "nan_count": 0,
          "categories": [
           {
            "name": "B",
            "count": 5
           }
          ]
         }
        },
        {
         "name": "conveyancetype",
         "dtype": "object",
         "stats": {
          "unique_count": 1,
          "nan_count": 0,
          "categories": [
           {
            "name": "Fritt salg",
            "count": 5
           }
          ]
         }
        },
        {
         "name": "finncode",
         "dtype": "int64",
         "stats": {
          "unique_count": 5,
          "nan_count": 0,
          "min": "36454379",
          "max": "177618568",
          "histogram": [
           {
            "bin_start": 36454379,
            "bin_end": 50570797.9,
            "count": 3
           },
           {
            "bin_start": 50570797.9,
            "bin_end": 64687216.8,
            "count": 0
           },
           {
            "bin_start": 64687216.8,
            "bin_end": 78803635.7,
            "count": 0
           },
           {
            "bin_start": 78803635.7,
            "bin_end": 92920054.6,
            "count": 0
           },
           {
            "bin_start": 92920054.6,
            "bin_end": 107036473.5,
            "count": 0
           },
           {
            "bin_start": 107036473.5,
            "bin_end": 121152892.4,
            "count": 0
           },
           {
            "bin_start": 121152892.4,
            "bin_end": 135269311.3,
            "count": 0
           },
           {
            "bin_start": 135269311.3,
            "bin_end": 149385730.2,
            "count": 1
           },
           {
            "bin_start": 149385730.2,
            "bin_end": 163502149.10000002,
            "count": 0
           },
           {
            "bin_start": 163502149.10000002,
            "bin_end": 177618568,
            "count": 1
           }
          ]
         }
        },
        {
         "name": "BRA",
         "dtype": "float64",
         "stats": {
          "unique_count": 5,
          "nan_count": 0,
          "min": "46.0",
          "max": "571.0",
          "histogram": [
           {
            "bin_start": 46,
            "bin_end": 98.5,
            "count": 1
           },
           {
            "bin_start": 98.5,
            "bin_end": 151,
            "count": 2
           },
           {
            "bin_start": 151,
            "bin_end": 203.5,
            "count": 0
           },
           {
            "bin_start": 203.5,
            "bin_end": 256,
            "count": 0
           },
           {
            "bin_start": 256,
            "bin_end": 308.5,
            "count": 0
           },
           {
            "bin_start": 308.5,
            "bin_end": 361,
            "count": 0
           },
           {
            "bin_start": 361,
            "bin_end": 413.5,
            "count": 0
           },
           {
            "bin_start": 413.5,
            "bin_end": 466,
            "count": 1
           },
           {
            "bin_start": 466,
            "bin_end": 518.5,
            "count": 0
           },
           {
            "bin_start": 518.5,
            "bin_end": 571,
            "count": 1
           }
          ]
         }
        },
        {
         "name": "PROM",
         "dtype": "float64",
         "stats": {
          "unique_count": 5,
          "nan_count": 0,
          "min": "46.0",
          "max": "453.0",
          "histogram": [
           {
            "bin_start": 46,
            "bin_end": 86.7,
            "count": 1
           },
           {
            "bin_start": 86.7,
            "bin_end": 127.4,
            "count": 1
           },
           {
            "bin_start": 127.4,
            "bin_end": 168.10000000000002,
            "count": 1
           },
           {
            "bin_start": 168.10000000000002,
            "bin_end": 208.8,
            "count": 0
           },
           {
            "bin_start": 208.8,
            "bin_end": 249.5,
            "count": 0
           },
           {
            "bin_start": 249.5,
            "bin_end": 290.20000000000005,
            "count": 0
           },
           {
            "bin_start": 290.20000000000005,
            "bin_end": 330.90000000000003,
            "count": 0
           },
           {
            "bin_start": 330.90000000000003,
            "bin_end": 371.6,
            "count": 1
           },
           {
            "bin_start": 371.6,
            "bin_end": 412.3,
            "count": 0
           },
           {
            "bin_start": 412.3,
            "bin_end": 453,
            "count": 1
           }
          ]
         }
        },
        {
         "name": "buildyear",
         "dtype": "float64",
         "stats": {
          "unique_count": 5,
          "nan_count": 0,
          "min": "1932.0",
          "max": "2012.0",
          "histogram": [
           {
            "bin_start": 1932,
            "bin_end": 1940,
            "count": 3
           },
           {
            "bin_start": 1940,
            "bin_end": 1948,
            "count": 0
           },
           {
            "bin_start": 1948,
            "bin_end": 1956,
            "count": 0
           },
           {
            "bin_start": 1956,
            "bin_end": 1964,
            "count": 0
           },
           {
            "bin_start": 1964,
            "bin_end": 1972,
            "count": 0
           },
           {
            "bin_start": 1972,
            "bin_end": 1980,
            "count": 0
           },
           {
            "bin_start": 1980,
            "bin_end": 1988,
            "count": 1
           },
           {
            "bin_start": 1988,
            "bin_end": 1996,
            "count": 0
           },
           {
            "bin_start": 1996,
            "bin_end": 2004,
            "count": 0
           },
           {
            "bin_start": 2004,
            "bin_end": 2012,
            "count": 1
           }
          ]
         }
        },
        {
         "name": "matrikkel",
         "dtype": "object",
         "stats": {
          "unique_count": 5,
          "nan_count": 0,
          "categories": [
           {
            "name": "301-33-628-0",
            "count": 1
           },
           {
            "name": "301-143-204-0",
            "count": 1
           },
           {
            "name": "3 others",
            "count": 3
           }
          ]
         }
        },
        {
         "name": "bedrooms",
         "dtype": "float64",
         "stats": {
          "unique_count": 3,
          "nan_count": 0,
          "min": "1.0",
          "max": "5.0",
          "histogram": [
           {
            "bin_start": 1,
            "bin_end": 1.4,
            "count": 1
           },
           {
            "bin_start": 1.4,
            "bin_end": 1.8,
            "count": 0
           },
           {
            "bin_start": 1.8,
            "bin_end": 2.2,
            "count": 0
           },
           {
            "bin_start": 2.2,
            "bin_end": 2.6,
            "count": 0
           },
           {
            "bin_start": 2.6,
            "bin_end": 3,
            "count": 0
           },
           {
            "bin_start": 3,
            "bin_end": 3.4000000000000004,
            "count": 2
           },
           {
            "bin_start": 3.4000000000000004,
            "bin_end": 3.8000000000000003,
            "count": 0
           },
           {
            "bin_start": 3.8000000000000003,
            "bin_end": 4.2,
            "count": 0
           },
           {
            "bin_start": 4.2,
            "bin_end": 4.6,
            "count": 0
           },
           {
            "bin_start": 4.6,
            "bin_end": 5,
            "count": 2
           }
          ]
         }
        },
        {
         "name": "bathrooms",
         "dtype": "int64",
         "stats": {
          "unique_count": 2,
          "nan_count": 0,
          "min": "1",
          "max": "4",
          "histogram": [
           {
            "bin_start": 1,
            "bin_end": 1.3,
            "count": 4
           },
           {
            "bin_start": 1.3,
            "bin_end": 1.6,
            "count": 0
           },
           {
            "bin_start": 1.6,
            "bin_end": 1.9,
            "count": 0
           },
           {
            "bin_start": 1.9,
            "bin_end": 2.2,
            "count": 0
           },
           {
            "bin_start": 2.2,
            "bin_end": 2.5,
            "count": 0
           },
           {
            "bin_start": 2.5,
            "bin_end": 2.8,
            "count": 0
           },
           {
            "bin_start": 2.8,
            "bin_end": 3.1,
            "count": 0
           },
           {
            "bin_start": 3.1,
            "bin_end": 3.4,
            "count": 0
           },
           {
            "bin_start": 3.4,
            "bin_end": 3.6999999999999997,
            "count": 0
           },
           {
            "bin_start": 3.6999999999999997,
            "bin_end": 4,
            "count": 1
           }
          ]
         }
        },
        {
         "name": "WC",
         "dtype": "int64",
         "stats": {
          "unique_count": 2,
          "nan_count": 0,
          "min": "1",
          "max": "5",
          "histogram": [
           {
            "bin_start": 1,
            "bin_end": 1.4,
            "count": 4
           },
           {
            "bin_start": 1.4,
            "bin_end": 1.8,
            "count": 0
           },
           {
            "bin_start": 1.8,
            "bin_end": 2.2,
            "count": 0
           },
           {
            "bin_start": 2.2,
            "bin_end": 2.6,
            "count": 0
           },
           {
            "bin_start": 2.6,
            "bin_end": 3,
            "count": 0
           },
           {
            "bin_start": 3,
            "bin_end": 3.4000000000000004,
            "count": 0
           },
           {
            "bin_start": 3.4000000000000004,
            "bin_end": 3.8000000000000003,
            "count": 0
           },
           {
            "bin_start": 3.8000000000000003,
            "bin_end": 4.2,
            "count": 0
           },
           {
            "bin_start": 4.2,
            "bin_end": 4.6,
            "count": 0
           },
           {
            "bin_start": 4.6,
            "bin_end": 5,
            "count": 1
           }
          ]
         }
        },
        {
         "name": "elevator",
         "dtype": "float64",
         "stats": {
          "unique_count": 1,
          "nan_count": 0,
          "min": "0.0",
          "max": "0.0",
          "histogram": [
           {
            "bin_start": -0.5,
            "bin_end": -0.4,
            "count": 0
           },
           {
            "bin_start": -0.4,
            "bin_end": -0.3,
            "count": 0
           },
           {
            "bin_start": -0.3,
            "bin_end": -0.19999999999999996,
            "count": 0
           },
           {
            "bin_start": -0.19999999999999996,
            "bin_end": -0.09999999999999998,
            "count": 0
           },
           {
            "bin_start": -0.09999999999999998,
            "bin_end": 0,
            "count": 0
           },
           {
            "bin_start": 0,
            "bin_end": 0.10000000000000009,
            "count": 5
           },
           {
            "bin_start": 0.10000000000000009,
            "bin_end": 0.20000000000000007,
            "count": 0
           },
           {
            "bin_start": 0.20000000000000007,
            "bin_end": 0.30000000000000004,
            "count": 0
           },
           {
            "bin_start": 0.30000000000000004,
            "bin_end": 0.4,
            "count": 0
           },
           {
            "bin_start": 0.4,
            "bin_end": 0.5,
            "count": 0
           }
          ]
         }
        },
        {
         "name": "floor",
         "dtype": "float64",
         "stats": {
          "unique_count": 3,
          "nan_count": 0,
          "min": "2.0",
          "max": "4.0",
          "histogram": [
           {
            "bin_start": 2,
            "bin_end": 2.2,
            "count": 1
           },
           {
            "bin_start": 2.2,
            "bin_end": 2.4,
            "count": 0
           },
           {
            "bin_start": 2.4,
            "bin_end": 2.6,
            "count": 0
           },
           {
            "bin_start": 2.6,
            "bin_end": 2.8,
            "count": 0
           },
           {
            "bin_start": 2.8,
            "bin_end": 3,
            "count": 0
           },
           {
            "bin_start": 3,
            "bin_end": 3.2,
            "count": 3
           },
           {
            "bin_start": 3.2,
            "bin_end": 3.4000000000000004,
            "count": 0
           },
           {
            "bin_start": 3.4000000000000004,
            "bin_end": 3.6,
            "count": 0
           },
           {
            "bin_start": 3.6,
            "bin_end": 3.8,
            "count": 0
           },
           {
            "bin_start": 3.8,
            "bin_end": 4,
            "count": 1
           }
          ]
         }
        },
        {
         "name": "housingtype",
         "dtype": "object",
         "stats": {
          "unique_count": 3,
          "nan_count": 0,
          "categories": [
           {
            "name": "Enebolig",
            "count": 3
           },
           {
            "name": "Tomannsbolig",
            "count": 1
           },
           {
            "name": "Leilighet",
            "count": 1
           }
          ]
         }
        },
        {
         "name": "commondebt",
         "dtype": "float64",
         "stats": {
          "unique_count": 2,
          "nan_count": 0,
          "min": "0.0",
          "max": "164865.0",
          "histogram": [
           {
            "bin_start": 0,
            "bin_end": 16486.5,
            "count": 4
           },
           {
            "bin_start": 16486.5,
            "bin_end": 32973,
            "count": 0
           },
           {
            "bin_start": 32973,
            "bin_end": 49459.5,
            "count": 0
           },
           {
            "bin_start": 49459.5,
            "bin_end": 65946,
            "count": 0
           },
           {
            "bin_start": 65946,
            "bin_end": 82432.5,
            "count": 0
           },
           {
            "bin_start": 82432.5,
            "bin_end": 98919,
            "count": 0
           },
           {
            "bin_start": 98919,
            "bin_end": 115405.5,
            "count": 0
           },
           {
            "bin_start": 115405.5,
            "bin_end": 131892,
            "count": 0
           },
           {
            "bin_start": 131892,
            "bin_end": 148378.5,
            "count": 0
           },
           {
            "bin_start": 148378.5,
            "bin_end": 164865,
            "count": 1
           }
          ]
         }
        },
        {
         "name": "commoncosts",
         "dtype": "float64",
         "stats": {
          "unique_count": 3,
          "nan_count": 0,
          "min": "0.0",
          "max": "3606.0",
          "histogram": [
           {
            "bin_start": 0,
            "bin_end": 360.6,
            "count": 3
           },
           {
            "bin_start": 360.6,
            "bin_end": 721.2,
            "count": 0
           },
           {
            "bin_start": 721.2,
            "bin_end": 1081.8000000000002,
            "count": 0
           },
           {
            "bin_start": 1081.8000000000002,
            "bin_end": 1442.4,
            "count": 0
           },
           {
            "bin_start": 1442.4,
            "bin_end": 1803,
            "count": 1
           },
           {
            "bin_start": 1803,
            "bin_end": 2163.6000000000004,
            "count": 0
           },
           {
            "bin_start": 2163.6000000000004,
            "bin_end": 2524.2000000000003,
            "count": 0
           },
           {
            "bin_start": 2524.2000000000003,
            "bin_end": 2884.8,
            "count": 0
           },
           {
            "bin_start": 2884.8,
            "bin_end": 3245.4,
            "count": 0
           },
           {
            "bin_start": 3245.4,
            "bin_end": 3606,
            "count": 1
           }
          ]
         }
        },
        {
         "name": "F_Aircondition",
         "dtype": "float64",
         "stats": {
          "unique_count": 2,
          "nan_count": 0,
          "min": "0.0",
          "max": "1.0",
          "histogram": [
           {
            "bin_start": 0,
            "bin_end": 0.1,
            "count": 4
           },
           {
            "bin_start": 0.1,
            "bin_end": 0.2,
            "count": 0
           },
           {
            "bin_start": 0.2,
            "bin_end": 0.30000000000000004,
            "count": 0
           },
           {
            "bin_start": 0.30000000000000004,
            "bin_end": 0.4,
            "count": 0
           },
           {
            "bin_start": 0.4,
            "bin_end": 0.5,
            "count": 0
           },
           {
            "bin_start": 0.5,
            "bin_end": 0.6000000000000001,
            "count": 0
           },
           {
            "bin_start": 0.6000000000000001,
            "bin_end": 0.7000000000000001,
            "count": 0
           },
           {
            "bin_start": 0.7000000000000001,
            "bin_end": 0.8,
            "count": 0
           },
           {
            "bin_start": 0.8,
            "bin_end": 0.9,
            "count": 0
           },
           {
            "bin_start": 0.9,
            "bin_end": 1,
            "count": 1
           }
          ]
         }
        },
        {
         "name": "F_Alarm",
         "dtype": "float64",
         "stats": {
          "unique_count": 1,
          "nan_count": 0,
          "min": "0.0",
          "max": "0.0",
          "histogram": [
           {
            "bin_start": -0.5,
            "bin_end": -0.4,
            "count": 0
           },
           {
            "bin_start": -0.4,
            "bin_end": -0.3,
            "count": 0
           },
           {
            "bin_start": -0.3,
            "bin_end": -0.19999999999999996,
            "count": 0
           },
           {
            "bin_start": -0.19999999999999996,
            "bin_end": -0.09999999999999998,
            "count": 0
           },
           {
            "bin_start": -0.09999999999999998,
            "bin_end": 0,
            "count": 0
           },
           {
            "bin_start": 0,
            "bin_end": 0.10000000000000009,
            "count": 5
           },
           {
            "bin_start": 0.10000000000000009,
            "bin_end": 0.20000000000000007,
            "count": 0
           },
           {
            "bin_start": 0.20000000000000007,
            "bin_end": 0.30000000000000004,
            "count": 0
           },
           {
            "bin_start": 0.30000000000000004,
            "bin_end": 0.4,
            "count": 0
           },
           {
            "bin_start": 0.4,
            "bin_end": 0.5,
            "count": 0
           }
          ]
         }
        },
        {
         "name": "F_BalkongTerrasse",
         "dtype": "float64",
         "stats": {
          "unique_count": 2,
          "nan_count": 0,
          "min": "0.0",
          "max": "1.0",
          "histogram": [
           {
            "bin_start": 0,
            "bin_end": 0.1,
            "count": 1
           },
           {
            "bin_start": 0.1,
            "bin_end": 0.2,
            "count": 0
           },
           {
            "bin_start": 0.2,
            "bin_end": 0.30000000000000004,
            "count": 0
           },
           {
            "bin_start": 0.30000000000000004,
            "bin_end": 0.4,
            "count": 0
           },
           {
            "bin_start": 0.4,
            "bin_end": 0.5,
            "count": 0
           },
           {
            "bin_start": 0.5,
            "bin_end": 0.6000000000000001,
            "count": 0
           },
           {
            "bin_start": 0.6000000000000001,
            "bin_end": 0.7000000000000001,
            "count": 0
           },
           {
            "bin_start": 0.7000000000000001,
            "bin_end": 0.8,
            "count": 0
           },
           {
            "bin_start": 0.8,
            "bin_end": 0.9,
            "count": 0
           },
           {
            "bin_start": 0.9,
            "bin_end": 1,
            "count": 4
           }
          ]
         }
        },
        {
         "name": "F_Barnevennlig",
         "dtype": "float64",
         "stats": {
          "unique_count": 2,
          "nan_count": 0,
          "min": "0.0",
          "max": "1.0",
          "histogram": [
           {
            "bin_start": 0,
            "bin_end": 0.1,
            "count": 1
           },
           {
            "bin_start": 0.1,
            "bin_end": 0.2,
            "count": 0
           },
           {
            "bin_start": 0.2,
            "bin_end": 0.30000000000000004,
            "count": 0
           },
           {
            "bin_start": 0.30000000000000004,
            "bin_end": 0.4,
            "count": 0
           },
           {
            "bin_start": 0.4,
            "bin_end": 0.5,
            "count": 0
           },
           {
            "bin_start": 0.5,
            "bin_end": 0.6000000000000001,
            "count": 0
           },
           {
            "bin_start": 0.6000000000000001,
            "bin_end": 0.7000000000000001,
            "count": 0
           },
           {
            "bin_start": 0.7000000000000001,
            "bin_end": 0.8,
            "count": 0
           },
           {
            "bin_start": 0.8,
            "bin_end": 0.9,
            "count": 0
           },
           {
            "bin_start": 0.9,
            "bin_end": 1,
            "count": 4
           }
          ]
         }
        },
        {
         "name": "F_Bredbåndstilknytning",
         "dtype": "float64",
         "stats": {
          "unique_count": 2,
          "nan_count": 0,
          "min": "0.0",
          "max": "1.0",
          "histogram": [
           {
            "bin_start": 0,
            "bin_end": 0.1,
            "count": 1
           },
           {
            "bin_start": 0.1,
            "bin_end": 0.2,
            "count": 0
           },
           {
            "bin_start": 0.2,
            "bin_end": 0.30000000000000004,
            "count": 0
           },
           {
            "bin_start": 0.30000000000000004,
            "bin_end": 0.4,
            "count": 0
           },
           {
            "bin_start": 0.4,
            "bin_end": 0.5,
            "count": 0
           },
           {
            "bin_start": 0.5,
            "bin_end": 0.6000000000000001,
            "count": 0
           },
           {
            "bin_start": 0.6000000000000001,
            "bin_end": 0.7000000000000001,
            "count": 0
           },
           {
            "bin_start": 0.7000000000000001,
            "bin_end": 0.8,
            "count": 0
           },
           {
            "bin_start": 0.8,
            "bin_end": 0.9,
            "count": 0
           },
           {
            "bin_start": 0.9,
            "bin_end": 1,
            "count": 4
           }
          ]
         }
        },
        {
         "name": "F_Fellesvaskeri",
         "dtype": "float64",
         "stats": {
          "unique_count": 2,
          "nan_count": 0,
          "min": "0.0",
          "max": "1.0",
          "histogram": [
           {
            "bin_start": 0,
            "bin_end": 0.1,
            "count": 4
           },
           {
            "bin_start": 0.1,
            "bin_end": 0.2,
            "count": 0
           },
           {
            "bin_start": 0.2,
            "bin_end": 0.30000000000000004,
            "count": 0
           },
           {
            "bin_start": 0.30000000000000004,
            "bin_end": 0.4,
            "count": 0
           },
           {
            "bin_start": 0.4,
            "bin_end": 0.5,
            "count": 0
           },
           {
            "bin_start": 0.5,
            "bin_end": 0.6000000000000001,
            "count": 0
           },
           {
            "bin_start": 0.6000000000000001,
            "bin_end": 0.7000000000000001,
            "count": 0
           },
           {
            "bin_start": 0.7000000000000001,
            "bin_end": 0.8,
            "count": 0
           },
           {
            "bin_start": 0.8,
            "bin_end": 0.9,
            "count": 0
           },
           {
            "bin_start": 0.9,
            "bin_end": 1,
            "count": 1
           }
          ]
         }
        },
        {
         "name": "F_GarasjeP-plass",
         "dtype": "float64",
         "stats": {
          "unique_count": 1,
          "nan_count": 0,
          "min": "1.0",
          "max": "1.0",
          "histogram": [
           {
            "bin_start": 0.5,
            "bin_end": 0.6,
            "count": 0
           },
           {
            "bin_start": 0.6,
            "bin_end": 0.7,
            "count": 0
           },
           {
            "bin_start": 0.7,
            "bin_end": 0.8,
            "count": 0
           },
           {
            "bin_start": 0.8,
            "bin_end": 0.9,
            "count": 0
           },
           {
            "bin_start": 0.9,
            "bin_end": 1,
            "count": 0
           },
           {
            "bin_start": 1,
            "bin_end": 1.1,
            "count": 5
           },
           {
            "bin_start": 1.1,
            "bin_end": 1.2000000000000002,
            "count": 0
           },
           {
            "bin_start": 1.2000000000000002,
            "bin_end": 1.3,
            "count": 0
           },
           {
            "bin_start": 1.3,
            "bin_end": 1.4,
            "count": 0
           },
           {
            "bin_start": 1.4,
            "bin_end": 1.5,
            "count": 0
           }
          ]
         }
        },
        {
         "name": "F_Ingen gjenboere",
         "dtype": "float64",
         "stats": {
          "unique_count": 2,
          "nan_count": 0,
          "min": "0.0",
          "max": "1.0",
          "histogram": [
           {
            "bin_start": 0,
            "bin_end": 0.1,
            "count": 3
           },
           {
            "bin_start": 0.1,
            "bin_end": 0.2,
            "count": 0
           },
           {
            "bin_start": 0.2,
            "bin_end": 0.30000000000000004,
            "count": 0
           },
           {
            "bin_start": 0.30000000000000004,
            "bin_end": 0.4,
            "count": 0
           },
           {
            "bin_start": 0.4,
            "bin_end": 0.5,
            "count": 0
           },
           {
            "bin_start": 0.5,
            "bin_end": 0.6000000000000001,
            "count": 0
           },
           {
            "bin_start": 0.6000000000000001,
            "bin_end": 0.7000000000000001,
            "count": 0
           },
           {
            "bin_start": 0.7000000000000001,
            "bin_end": 0.8,
            "count": 0
           },
           {
            "bin_start": 0.8,
            "bin_end": 0.9,
            "count": 0
           },
           {
            "bin_start": 0.9,
            "bin_end": 1,
            "count": 2
           }
          ]
         }
        },
        {
         "name": "F_Lademulighet",
         "dtype": "float64",
         "stats": {
          "unique_count": 1,
          "nan_count": 0,
          "min": "0.0",
          "max": "0.0",
          "histogram": [
           {
            "bin_start": -0.5,
            "bin_end": -0.4,
            "count": 0
           },
           {
            "bin_start": -0.4,
            "bin_end": -0.3,
            "count": 0
           },
           {
            "bin_start": -0.3,
            "bin_end": -0.19999999999999996,
            "count": 0
           },
           {
            "bin_start": -0.19999999999999996,
            "bin_end": -0.09999999999999998,
            "count": 0
           },
           {
            "bin_start": -0.09999999999999998,
            "bin_end": 0,
            "count": 0
           },
           {
            "bin_start": 0,
            "bin_end": 0.10000000000000009,
            "count": 5
           },
           {
            "bin_start": 0.10000000000000009,
            "bin_end": 0.20000000000000007,
            "count": 0
           },
           {
            "bin_start": 0.20000000000000007,
            "bin_end": 0.30000000000000004,
            "count": 0
           },
           {
            "bin_start": 0.30000000000000004,
            "bin_end": 0.4,
            "count": 0
           },
           {
            "bin_start": 0.4,
            "bin_end": 0.5,
            "count": 0
           }
          ]
         }
        },
        {
         "name": "F_Livsløpsstandard",
         "dtype": "float64",
         "stats": {
          "unique_count": 1,
          "nan_count": 0,
          "min": "0.0",
          "max": "0.0",
          "histogram": [
           {
            "bin_start": -0.5,
            "bin_end": -0.4,
            "count": 0
           },
           {
            "bin_start": -0.4,
            "bin_end": -0.3,
            "count": 0
           },
           {
            "bin_start": -0.3,
            "bin_end": -0.19999999999999996,
            "count": 0
           },
           {
            "bin_start": -0.19999999999999996,
            "bin_end": -0.09999999999999998,
            "count": 0
           },
           {
            "bin_start": -0.09999999999999998,
            "bin_end": 0,
            "count": 0
           },
           {
            "bin_start": 0,
            "bin_end": 0.10000000000000009,
            "count": 5
           },
           {
            "bin_start": 0.10000000000000009,
            "bin_end": 0.20000000000000007,
            "count": 0
           },
           {
            "bin_start": 0.20000000000000007,
            "bin_end": 0.30000000000000004,
            "count": 0
           },
           {
            "bin_start": 0.30000000000000004,
            "bin_end": 0.4,
            "count": 0
           },
           {
            "bin_start": 0.4,
            "bin_end": 0.5,
            "count": 0
           }
          ]
         }
        },
        {
         "name": "F_Moderne",
         "dtype": "float64",
         "stats": {
          "unique_count": 2,
          "nan_count": 0,
          "min": "0.0",
          "max": "1.0",
          "histogram": [
           {
            "bin_start": 0,
            "bin_end": 0.1,
            "count": 3
           },
           {
            "bin_start": 0.1,
            "bin_end": 0.2,
            "count": 0
           },
           {
            "bin_start": 0.2,
            "bin_end": 0.30000000000000004,
            "count": 0
           },
           {
            "bin_start": 0.30000000000000004,
            "bin_end": 0.4,
            "count": 0
           },
           {
            "bin_start": 0.4,
            "bin_end": 0.5,
            "count": 0
           },
           {
            "bin_start": 0.5,
            "bin_end": 0.6000000000000001,
            "count": 0
           },
           {
            "bin_start": 0.6000000000000001,
            "bin_end": 0.7000000000000001,
            "count": 0
           },
           {
            "bin_start": 0.7000000000000001,
            "bin_end": 0.8,
            "count": 0
           },
           {
            "bin_start": 0.8,
            "bin_end": 0.9,
            "count": 0
           },
           {
            "bin_start": 0.9,
            "bin_end": 1,
            "count": 2
           }
          ]
         }
        },
        {
         "name": "F_Offentlig vannkloakk",
         "dtype": "float64",
         "stats": {
          "unique_count": 2,
          "nan_count": 0,
          "min": "0.0",
          "max": "1.0",
          "histogram": [
           {
            "bin_start": 0,
            "bin_end": 0.1,
            "count": 1
           },
           {
            "bin_start": 0.1,
            "bin_end": 0.2,
            "count": 0
           },
           {
            "bin_start": 0.2,
            "bin_end": 0.30000000000000004,
            "count": 0
           },
           {
            "bin_start": 0.30000000000000004,
            "bin_end": 0.4,
            "count": 0
           },
           {
            "bin_start": 0.4,
            "bin_end": 0.5,
            "count": 0
           },
           {
            "bin_start": 0.5,
            "bin_end": 0.6000000000000001,
            "count": 0
           },
           {
            "bin_start": 0.6000000000000001,
            "bin_end": 0.7000000000000001,
            "count": 0
           },
           {
            "bin_start": 0.7000000000000001,
            "bin_end": 0.8,
            "count": 0
           },
           {
            "bin_start": 0.8,
            "bin_end": 0.9,
            "count": 0
           },
           {
            "bin_start": 0.9,
            "bin_end": 1,
            "count": 4
           }
          ]
         }
        },
        {
         "name": "F_Parkett",
         "dtype": "float64",
         "stats": {
          "unique_count": 1,
          "nan_count": 0,
          "min": "1.0",
          "max": "1.0",
          "histogram": [
           {
            "bin_start": 0.5,
            "bin_end": 0.6,
            "count": 0
           },
           {
            "bin_start": 0.6,
            "bin_end": 0.7,
            "count": 0
           },
           {
            "bin_start": 0.7,
            "bin_end": 0.8,
            "count": 0
           },
           {
            "bin_start": 0.8,
            "bin_end": 0.9,
            "count": 0
           },
           {
            "bin_start": 0.9,
            "bin_end": 1,
            "count": 0
           },
           {
            "bin_start": 1,
            "bin_end": 1.1,
            "count": 5
           },
           {
            "bin_start": 1.1,
            "bin_end": 1.2000000000000002,
            "count": 0
           },
           {
            "bin_start": 1.2000000000000002,
            "bin_end": 1.3,
            "count": 0
           },
           {
            "bin_start": 1.3,
            "bin_end": 1.4,
            "count": 0
           },
           {
            "bin_start": 1.4,
            "bin_end": 1.5,
            "count": 0
           }
          ]
         }
        },
        {
         "name": "F_PeisIldsted",
         "dtype": "float64",
         "stats": {
          "unique_count": 2,
          "nan_count": 0,
          "min": "0.0",
          "max": "1.0",
          "histogram": [
           {
            "bin_start": 0,
            "bin_end": 0.1,
            "count": 2
           },
           {
            "bin_start": 0.1,
            "bin_end": 0.2,
            "count": 0
           },
           {
            "bin_start": 0.2,
            "bin_end": 0.30000000000000004,
            "count": 0
           },
           {
            "bin_start": 0.30000000000000004,
            "bin_end": 0.4,
            "count": 0
           },
           {
            "bin_start": 0.4,
            "bin_end": 0.5,
            "count": 0
           },
           {
            "bin_start": 0.5,
            "bin_end": 0.6000000000000001,
            "count": 0
           },
           {
            "bin_start": 0.6000000000000001,
            "bin_end": 0.7000000000000001,
            "count": 0
           },
           {
            "bin_start": 0.7000000000000001,
            "bin_end": 0.8,
            "count": 0
           },
           {
            "bin_start": 0.8,
            "bin_end": 0.9,
            "count": 0
           },
           {
            "bin_start": 0.9,
            "bin_end": 1,
            "count": 3
           }
          ]
         }
        },
        {
         "name": "F_Rolig",
         "dtype": "float64",
         "stats": {
          "unique_count": 2,
          "nan_count": 0,
          "min": "0.0",
          "max": "1.0",
          "histogram": [
           {
            "bin_start": 0,
            "bin_end": 0.1,
            "count": 1
           },
           {
            "bin_start": 0.1,
            "bin_end": 0.2,
            "count": 0
           },
           {
            "bin_start": 0.2,
            "bin_end": 0.30000000000000004,
            "count": 0
           },
           {
            "bin_start": 0.30000000000000004,
            "bin_end": 0.4,
            "count": 0
           },
           {
            "bin_start": 0.4,
            "bin_end": 0.5,
            "count": 0
           },
           {
            "bin_start": 0.5,
            "bin_end": 0.6000000000000001,
            "count": 0
           },
           {
            "bin_start": 0.6000000000000001,
            "bin_end": 0.7000000000000001,
            "count": 0
           },
           {
            "bin_start": 0.7000000000000001,
            "bin_end": 0.8,
            "count": 0
           },
           {
            "bin_start": 0.8,
            "bin_end": 0.9,
            "count": 0
           },
           {
            "bin_start": 0.9,
            "bin_end": 1,
            "count": 4
           }
          ]
         }
        },
        {
         "name": "F_Sentralt",
         "dtype": "float64",
         "stats": {
          "unique_count": 2,
          "nan_count": 0,
          "min": "0.0",
          "max": "1.0",
          "histogram": [
           {
            "bin_start": 0,
            "bin_end": 0.1,
            "count": 2
           },
           {
            "bin_start": 0.1,
            "bin_end": 0.2,
            "count": 0
           },
           {
            "bin_start": 0.2,
            "bin_end": 0.30000000000000004,
            "count": 0
           },
           {
            "bin_start": 0.30000000000000004,
            "bin_end": 0.4,
            "count": 0
           },
           {
            "bin_start": 0.4,
            "bin_end": 0.5,
            "count": 0
           },
           {
            "bin_start": 0.5,
            "bin_end": 0.6000000000000001,
            "count": 0
           },
           {
            "bin_start": 0.6000000000000001,
            "bin_end": 0.7000000000000001,
            "count": 0
           },
           {
            "bin_start": 0.7000000000000001,
            "bin_end": 0.8,
            "count": 0
           },
           {
            "bin_start": 0.8,
            "bin_end": 0.9,
            "count": 0
           },
           {
            "bin_start": 0.9,
            "bin_end": 1,
            "count": 3
           }
          ]
         }
        },
        {
         "name": "F_Utsikt",
         "dtype": "float64",
         "stats": {
          "unique_count": 2,
          "nan_count": 0,
          "min": "0.0",
          "max": "1.0",
          "histogram": [
           {
            "bin_start": 0,
            "bin_end": 0.1,
            "count": 3
           },
           {
            "bin_start": 0.1,
            "bin_end": 0.2,
            "count": 0
           },
           {
            "bin_start": 0.2,
            "bin_end": 0.30000000000000004,
            "count": 0
           },
           {
            "bin_start": 0.30000000000000004,
            "bin_end": 0.4,
            "count": 0
           },
           {
            "bin_start": 0.4,
            "bin_end": 0.5,
            "count": 0
           },
           {
            "bin_start": 0.5,
            "bin_end": 0.6000000000000001,
            "count": 0
           },
           {
            "bin_start": 0.6000000000000001,
            "bin_end": 0.7000000000000001,
            "count": 0
           },
           {
            "bin_start": 0.7000000000000001,
            "bin_end": 0.8,
            "count": 0
           },
           {
            "bin_start": 0.8,
            "bin_end": 0.9,
            "count": 0
           },
           {
            "bin_start": 0.9,
            "bin_end": 1,
            "count": 2
           }
          ]
         }
        },
        {
         "name": "F_Vaktmester-vektertjeneste",
         "dtype": "float64",
         "stats": {
          "unique_count": 1,
          "nan_count": 0,
          "min": "0.0",
          "max": "0.0",
          "histogram": [
           {
            "bin_start": -0.5,
            "bin_end": -0.4,
            "count": 0
           },
           {
            "bin_start": -0.4,
            "bin_end": -0.3,
            "count": 0
           },
           {
            "bin_start": -0.3,
            "bin_end": -0.19999999999999996,
            "count": 0
           },
           {
            "bin_start": -0.19999999999999996,
            "bin_end": -0.09999999999999998,
            "count": 0
           },
           {
            "bin_start": -0.09999999999999998,
            "bin_end": 0,
            "count": 0
           },
           {
            "bin_start": 0,
            "bin_end": 0.10000000000000009,
            "count": 5
           },
           {
            "bin_start": 0.10000000000000009,
            "bin_end": 0.20000000000000007,
            "count": 0
           },
           {
            "bin_start": 0.20000000000000007,
            "bin_end": 0.30000000000000004,
            "count": 0
           },
           {
            "bin_start": 0.30000000000000004,
            "bin_end": 0.4,
            "count": 0
           },
           {
            "bin_start": 0.4,
            "bin_end": 0.5,
            "count": 0
           }
          ]
         }
        },
        {
         "name": "F_Bademulighet",
         "dtype": "float64",
         "stats": {
          "unique_count": 1,
          "nan_count": 0,
          "min": "0.0",
          "max": "0.0",
          "histogram": [
           {
            "bin_start": -0.5,
            "bin_end": -0.4,
            "count": 0
           },
           {
            "bin_start": -0.4,
            "bin_end": -0.3,
            "count": 0
           },
           {
            "bin_start": -0.3,
            "bin_end": -0.19999999999999996,
            "count": 0
           },
           {
            "bin_start": -0.19999999999999996,
            "bin_end": -0.09999999999999998,
            "count": 0
           },
           {
            "bin_start": -0.09999999999999998,
            "bin_end": 0,
            "count": 0
           },
           {
            "bin_start": 0,
            "bin_end": 0.10000000000000009,
            "count": 5
           },
           {
            "bin_start": 0.10000000000000009,
            "bin_end": 0.20000000000000007,
            "count": 0
           },
           {
            "bin_start": 0.20000000000000007,
            "bin_end": 0.30000000000000004,
            "count": 0
           },
           {
            "bin_start": 0.30000000000000004,
            "bin_end": 0.4,
            "count": 0
           },
           {
            "bin_start": 0.4,
            "bin_end": 0.5,
            "count": 0
           }
          ]
         }
        },
        {
         "name": "F_Fiskemulighet",
         "dtype": "float64",
         "stats": {
          "unique_count": 1,
          "nan_count": 0,
          "min": "0.0",
          "max": "0.0",
          "histogram": [
           {
            "bin_start": -0.5,
            "bin_end": -0.4,
            "count": 0
           },
           {
            "bin_start": -0.4,
            "bin_end": -0.3,
            "count": 0
           },
           {
            "bin_start": -0.3,
            "bin_end": -0.19999999999999996,
            "count": 0
           },
           {
            "bin_start": -0.19999999999999996,
            "bin_end": -0.09999999999999998,
            "count": 0
           },
           {
            "bin_start": -0.09999999999999998,
            "bin_end": 0,
            "count": 0
           },
           {
            "bin_start": 0,
            "bin_end": 0.10000000000000009,
            "count": 5
           },
           {
            "bin_start": 0.10000000000000009,
            "bin_end": 0.20000000000000007,
            "count": 0
           },
           {
            "bin_start": 0.20000000000000007,
            "bin_end": 0.30000000000000004,
            "count": 0
           },
           {
            "bin_start": 0.30000000000000004,
            "bin_end": 0.4,
            "count": 0
           },
           {
            "bin_start": 0.4,
            "bin_end": 0.5,
            "count": 0
           }
          ]
         }
        },
        {
         "name": "F_Turterreng",
         "dtype": "float64",
         "stats": {
          "unique_count": 2,
          "nan_count": 0,
          "min": "0.0",
          "max": "1.0",
          "histogram": [
           {
            "bin_start": 0,
            "bin_end": 0.1,
            "count": 3
           },
           {
            "bin_start": 0.1,
            "bin_end": 0.2,
            "count": 0
           },
           {
            "bin_start": 0.2,
            "bin_end": 0.30000000000000004,
            "count": 0
           },
           {
            "bin_start": 0.30000000000000004,
            "bin_end": 0.4,
            "count": 0
           },
           {
            "bin_start": 0.4,
            "bin_end": 0.5,
            "count": 0
           },
           {
            "bin_start": 0.5,
            "bin_end": 0.6000000000000001,
            "count": 0
           },
           {
            "bin_start": 0.6000000000000001,
            "bin_end": 0.7000000000000001,
            "count": 0
           },
           {
            "bin_start": 0.7000000000000001,
            "bin_end": 0.8,
            "count": 0
           },
           {
            "bin_start": 0.8,
            "bin_end": 0.9,
            "count": 0
           },
           {
            "bin_start": 0.9,
            "bin_end": 1,
            "count": 2
           }
          ]
         }
        },
        {
         "name": "adtitle",
         "dtype": "object",
         "stats": {
          "unique_count": 5,
          "nan_count": 0,
          "categories": [
           {
            "name": "SLEMDAL - Herskapsvilla med nydelig tomt på 2,2 mål. Velholdt og innholdsrikt. Integrert dobbelgarasje og separat leil.",
            "count": 1
           },
           {
            "name": "Unik eiendom med spektakulær utsikt og solrik beliggenhet - Arkitekttegnet enebolig med 571 kvm bruksareal",
            "count": 1
           },
           {
            "name": "3 others",
            "count": 3
           }
          ]
         }
        },
        {
         "name": "N_modernisering",
         "dtype": "bool",
         "stats": {
          "unique_count": 1,
          "nan_count": 0,
          "categories": [
           {
            "name": "False",
            "count": 5
           }
          ]
         }
        },
        {
         "name": "N_oppussing",
         "dtype": "bool",
         "stats": {
          "unique_count": 1,
          "nan_count": 0,
          "categories": [
           {
            "name": "False",
            "count": 5
           }
          ]
         }
        },
        {
         "name": "N_regulert",
         "dtype": "bool",
         "stats": {
          "unique_count": 1,
          "nan_count": 0,
          "categories": [
           {
            "name": "False",
            "count": 5
           }
          ]
         }
        },
        {
         "name": "N_garasjemulighet",
         "dtype": "bool",
         "stats": {
          "unique_count": 1,
          "nan_count": 0,
          "categories": [
           {
            "name": "False",
            "count": 5
           }
          ]
         }
        },
        {
         "name": "postcode",
         "dtype": "int64",
         "stats": {
          "unique_count": 5,
          "nan_count": 0,
          "min": "485",
          "max": "1163",
          "histogram": [
           {
            "bin_start": 485,
            "bin_end": 552.8,
            "count": 1
           },
           {
            "bin_start": 552.8,
            "bin_end": 620.6,
            "count": 1
           },
           {
            "bin_start": 620.6,
            "bin_end": 688.4,
            "count": 1
           },
           {
            "bin_start": 688.4,
            "bin_end": 756.2,
            "count": 0
           },
           {
            "bin_start": 756.2,
            "bin_end": 824,
            "count": 1
           },
           {
            "bin_start": 824,
            "bin_end": 891.8,
            "count": 0
           },
           {
            "bin_start": 891.8,
            "bin_end": 959.5999999999999,
            "count": 0
           },
           {
            "bin_start": 959.5999999999999,
            "bin_end": 1027.4,
            "count": 0
           },
           {
            "bin_start": 1027.4,
            "bin_end": 1095.1999999999998,
            "count": 0
           },
           {
            "bin_start": 1095.1999999999998,
            "bin_end": 1163,
            "count": 1
           }
          ]
         }
        },
        {
         "name": "Parking",
         "dtype": "int64",
         "stats": {
          "unique_count": 1,
          "nan_count": 0,
          "min": "1",
          "max": "1",
          "histogram": [
           {
            "bin_start": 0.5,
            "bin_end": 0.6,
            "count": 0
           },
           {
            "bin_start": 0.6,
            "bin_end": 0.7,
            "count": 0
           },
           {
            "bin_start": 0.7,
            "bin_end": 0.8,
            "count": 0
           },
           {
            "bin_start": 0.8,
            "bin_end": 0.9,
            "count": 0
           },
           {
            "bin_start": 0.9,
            "bin_end": 1,
            "count": 0
           },
           {
            "bin_start": 1,
            "bin_end": 1.1,
            "count": 5
           },
           {
            "bin_start": 1.1,
            "bin_end": 1.2000000000000002,
            "count": 0
           },
           {
            "bin_start": 1.2000000000000002,
            "bin_end": 1.3,
            "count": 0
           },
           {
            "bin_start": 1.3,
            "bin_end": 1.4,
            "count": 0
           },
           {
            "bin_start": 1.4,
            "bin_end": 1.5,
            "count": 0
           }
          ]
         }
        },
        {
         "name": "price_inc_debt",
         "dtype": "float64",
         "stats": {
          "unique_count": 5,
          "nan_count": 0,
          "min": "2564865.0",
          "max": "21000000.0",
          "histogram": [
           {
            "bin_start": 2564865,
            "bin_end": 4408378.5,
            "count": 1
           },
           {
            "bin_start": 4408378.5,
            "bin_end": 6251892,
            "count": 1
           },
           {
            "bin_start": 6251892,
            "bin_end": 8095405.5,
            "count": 0
           },
           {
            "bin_start": 8095405.5,
            "bin_end": 9938919,
            "count": 1
           },
           {
            "bin_start": 9938919,
            "bin_end": 11782432.5,
            "count": 0
           },
           {
            "bin_start": 11782432.5,
            "bin_end": 13625946,
            "count": 1
           },
           {
            "bin_start": 13625946,
            "bin_end": 15469459.5,
            "count": 0
           },
           {
            "bin_start": 15469459.5,
            "bin_end": 17312973,
            "count": 0
           },
           {
            "bin_start": 17312973,
            "bin_end": 19156486.5,
            "count": 0
           },
           {
            "bin_start": 19156486.5,
            "bin_end": 21000000,
            "count": 1
           }
          ]
         }
        },
        {
         "name": "area_id",
         "dtype": "int64",
         "stats": {
          "unique_count": 5,
          "nan_count": 0,
          "min": "2",
          "max": "14",
          "histogram": [
           {
            "bin_start": 2,
            "bin_end": 3.2,
            "count": 2
           },
           {
            "bin_start": 3.2,
            "bin_end": 4.4,
            "count": 0
           },
           {
            "bin_start": 4.4,
            "bin_end": 5.6,
            "count": 0
           },
           {
            "bin_start": 5.6,
            "bin_end": 6.8,
            "count": 0
           },
           {
            "bin_start": 6.8,
            "bin_end": 8,
            "count": 1
           },
           {
            "bin_start": 8,
            "bin_end": 9.2,
            "count": 0
           },
           {
            "bin_start": 9.2,
            "bin_end": 10.4,
            "count": 0
           },
           {
            "bin_start": 10.4,
            "bin_end": 11.6,
            "count": 0
           },
           {
            "bin_start": 11.6,
            "bin_end": 12.799999999999999,
            "count": 0
           },
           {
            "bin_start": 12.799999999999999,
            "bin_end": 14,
            "count": 2
           }
          ]
         }
        },
        {
         "name": "Bydel_lat",
         "dtype": "float64",
         "stats": {
          "unique_count": 5,
          "nan_count": 0,
          "min": "59.875677",
          "max": "59.950695",
          "histogram": [
           {
            "bin_start": 59.875677,
            "bin_end": 59.8831788,
            "count": 1
           },
           {
            "bin_start": 59.8831788,
            "bin_end": 59.8906806,
            "count": 1
           },
           {
            "bin_start": 59.8906806,
            "bin_end": 59.8981824,
            "count": 0
           },
           {
            "bin_start": 59.8981824,
            "bin_end": 59.9056842,
            "count": 0
           },
           {
            "bin_start": 59.9056842,
            "bin_end": 59.913186,
            "count": 0
           },
           {
            "bin_start": 59.913186,
            "bin_end": 59.9206878,
            "count": 0
           },
           {
            "bin_start": 59.9206878,
            "bin_end": 59.9281896,
            "count": 1
           },
           {
            "bin_start": 59.9281896,
            "bin_end": 59.9356914,
            "count": 0
           },
           {
            "bin_start": 59.9356914,
            "bin_end": 59.9431932,
            "count": 1
           },
           {
            "bin_start": 59.9431932,
            "bin_end": 59.950695,
            "count": 1
           }
          ]
         }
        },
        {
         "name": "Bydel_lng",
         "dtype": "float64",
         "stats": {
          "unique_count": 5,
          "nan_count": 0,
          "min": "10.657639",
          "max": "10.835148",
          "histogram": [
           {
            "bin_start": 10.657639,
            "bin_end": 10.675389899999999,
            "count": 1
           },
           {
            "bin_start": 10.675389899999999,
            "bin_end": 10.6931408,
            "count": 0
           },
           {
            "bin_start": 10.6931408,
            "bin_end": 10.7108917,
            "count": 0
           },
           {
            "bin_start": 10.7108917,
            "bin_end": 10.7286426,
            "count": 0
           },
           {
            "bin_start": 10.7286426,
            "bin_end": 10.7463935,
            "count": 0
           },
           {
            "bin_start": 10.7463935,
            "bin_end": 10.7641444,
            "count": 0
           },
           {
            "bin_start": 10.7641444,
            "bin_end": 10.7818953,
            "count": 2
           },
           {
            "bin_start": 10.7818953,
            "bin_end": 10.7996462,
            "count": 1
           },
           {
            "bin_start": 10.7996462,
            "bin_end": 10.8173971,
            "count": 0
           },
           {
            "bin_start": 10.8173971,
            "bin_end": 10.835148,
            "count": 1
           }
          ]
         }
        },
        {
         "name": "floor_NA",
         "dtype": "int64",
         "stats": {
          "unique_count": 2,
          "nan_count": 0,
          "min": "0",
          "max": "1",
          "histogram": [
           {
            "bin_start": 0,
            "bin_end": 0.1,
            "count": 2
           },
           {
            "bin_start": 0.1,
            "bin_end": 0.2,
            "count": 0
           },
           {
            "bin_start": 0.2,
            "bin_end": 0.30000000000000004,
            "count": 0
           },
           {
            "bin_start": 0.30000000000000004,
            "bin_end": 0.4,
            "count": 0
           },
           {
            "bin_start": 0.4,
            "bin_end": 0.5,
            "count": 0
           },
           {
            "bin_start": 0.5,
            "bin_end": 0.6000000000000001,
            "count": 0
           },
           {
            "bin_start": 0.6000000000000001,
            "bin_end": 0.7000000000000001,
            "count": 0
           },
           {
            "bin_start": 0.7000000000000001,
            "bin_end": 0.8,
            "count": 0
           },
           {
            "bin_start": 0.8,
            "bin_end": 0.9,
            "count": 0
           },
           {
            "bin_start": 0.9,
            "bin_end": 1,
            "count": 3
           }
          ]
         }
        },
        {
         "name": "commondebt_NA",
         "dtype": "int64",
         "stats": {
          "unique_count": 2,
          "nan_count": 0,
          "min": "0",
          "max": "1",
          "histogram": [
           {
            "bin_start": 0,
            "bin_end": 0.1,
            "count": 1
           },
           {
            "bin_start": 0.1,
            "bin_end": 0.2,
            "count": 0
           },
           {
            "bin_start": 0.2,
            "bin_end": 0.30000000000000004,
            "count": 0
           },
           {
            "bin_start": 0.30000000000000004,
            "bin_end": 0.4,
            "count": 0
           },
           {
            "bin_start": 0.4,
            "bin_end": 0.5,
            "count": 0
           },
           {
            "bin_start": 0.5,
            "bin_end": 0.6000000000000001,
            "count": 0
           },
           {
            "bin_start": 0.6000000000000001,
            "bin_end": 0.7000000000000001,
            "count": 0
           },
           {
            "bin_start": 0.7000000000000001,
            "bin_end": 0.8,
            "count": 0
           },
           {
            "bin_start": 0.8,
            "bin_end": 0.9,
            "count": 0
           },
           {
            "bin_start": 0.9,
            "bin_end": 1,
            "count": 4
           }
          ]
         }
        },
        {
         "name": "commoncosts_NA",
         "dtype": "int64",
         "stats": {
          "unique_count": 2,
          "nan_count": 0,
          "min": "0",
          "max": "1",
          "histogram": [
           {
            "bin_start": 0,
            "bin_end": 0.1,
            "count": 2
           },
           {
            "bin_start": 0.1,
            "bin_end": 0.2,
            "count": 0
           },
           {
            "bin_start": 0.2,
            "bin_end": 0.30000000000000004,
            "count": 0
           },
           {
            "bin_start": 0.30000000000000004,
            "bin_end": 0.4,
            "count": 0
           },
           {
            "bin_start": 0.4,
            "bin_end": 0.5,
            "count": 0
           },
           {
            "bin_start": 0.5,
            "bin_end": 0.6000000000000001,
            "count": 0
           },
           {
            "bin_start": 0.6000000000000001,
            "bin_end": 0.7000000000000001,
            "count": 0
           },
           {
            "bin_start": 0.7000000000000001,
            "bin_end": 0.8,
            "count": 0
           },
           {
            "bin_start": 0.8,
            "bin_end": 0.9,
            "count": 0
           },
           {
            "bin_start": 0.9,
            "bin_end": 1,
            "count": 3
           }
          ]
         }
        },
        {
         "name": "_deepnote_index_column",
         "dtype": "int64"
        }
       ],
       "rows": [
        {
         "documentDate": "2013-11-12",
         "picturedate": "2013/8",
         "lastchanged": "2013-09-13",
         "adcreated": "2013-08-21",
         "price": 21000000,
         "listprice": 24000000,
         "lat": 59.952496,
         "lng": 10.686596,
         "address": "Bjørnveien 53, 0774 Oslo",
         "apartmentnumber": "H0101",
         "apartmenttype": "B",
         "conveyancetype": "Fritt salg",
         "finncode": 43507737,
         "BRA": 443,
         "PROM": 354,
         "buildyear": 1932,
         "matrikkel": "301-33-628-0",
         "bedrooms": 5,
         "bathrooms": 1,
         "WC": 1,
         "elevator": 0,
         "floor": 3.1663243342102674,
         "housingtype": "Enebolig",
         "commondebt": 0,
         "commoncosts": 0,
         "F_Aircondition": 0,
         "F_Alarm": 0,
         "F_BalkongTerrasse": 1,
         "F_Barnevennlig": 1,
         "F_Bredbåndstilknytning": 1,
         "F_Fellesvaskeri": 0,
         "F_GarasjeP-plass": 1,
         "F_Ingen gjenboere": 1,
         "F_Lademulighet": 0,
         "F_Livsløpsstandard": 0,
         "F_Moderne": 0,
         "F_Offentlig vannkloakk": 1,
         "F_Parkett": 1,
         "F_PeisIldsted": 1,
         "F_Rolig": 1,
         "F_Sentralt": 0,
         "F_Utsikt": 0,
         "F_Vaktmester-vektertjeneste": 0,
         "F_Bademulighet": 0,
         "F_Fiskemulighet": 0,
         "F_Turterreng": 0,
         "adtitle": "SLEMDAL - Herskapsvilla med nydelig tomt på 2,2 mål. Velholdt og innholdsrikt. Integrert dobbelgara…",
         "N_modernisering": false,
         "N_oppussing": false,
         "N_regulert": false,
         "N_garasjemulighet": false,
         "postcode": 774,
         "Parking": 1,
         "price_inc_debt": 21000000,
         "area_id": 7,
         "Bydel_lat": 59.950695,
         "Bydel_lng": 10.657639,
         "floor_NA": 1,
         "commondebt_NA": 1,
         "commoncosts_NA": 1,
         "_deepnote_index_column": 13
        },
        {
         "documentDate": "2020-11-05",
         "picturedate": "2020/5",
         "lastchanged": "2020-06-17",
         "adcreated": "2020-05-02",
         "price": 13500000,
         "listprice": 15000000,
         "lat": 59.90884,
         "lng": 10.853329,
         "address": "Trasoppterrassen 3A, 0684 Oslo",
         "apartmentnumber": "H0101",
         "apartmenttype": "B",
         "conveyancetype": "Fritt salg",
         "finncode": 177618568,
         "BRA": 571,
         "PROM": 453,
         "buildyear": 1984,
         "matrikkel": "301-143-204-0",
         "bedrooms": 5,
         "bathrooms": 4,
         "WC": 5,
         "elevator": 0,
         "floor": 3.1663243342102674,
         "housingtype": "Enebolig",
         "commondebt": 0,
         "commoncosts": 0,
         "F_Aircondition": 0,
         "F_Alarm": 0,
         "F_BalkongTerrasse": 1,
         "F_Barnevennlig": 1,
         "F_Bredbåndstilknytning": 1,
         "F_Fellesvaskeri": 0,
         "F_GarasjeP-plass": 1,
         "F_Ingen gjenboere": 0,
         "F_Lademulighet": 0,
         "F_Livsløpsstandard": 0,
         "F_Moderne": 1,
         "F_Offentlig vannkloakk": 1,
         "F_Parkett": 1,
         "F_PeisIldsted": 1,
         "F_Rolig": 1,
         "F_Sentralt": 1,
         "F_Utsikt": 1,
         "F_Vaktmester-vektertjeneste": 0,
         "F_Bademulighet": 0,
         "F_Fiskemulighet": 0,
         "F_Turterreng": 1,
         "adtitle": "Unik eiendom med spektakulær utsikt og solrik beliggenhet - Arkitekttegnet enebolig med 571 kvm bru…",
         "N_modernisering": false,
         "N_oppussing": false,
         "N_regulert": false,
         "N_garasjemulighet": false,
         "postcode": 684,
         "Parking": 1,
         "price_inc_debt": 13500000,
         "area_id": 13,
         "Bydel_lat": 59.88839,
         "Bydel_lng": 10.835148,
         "floor_NA": 1,
         "commondebt_NA": 1,
         "commoncosts_NA": 1,
         "_deepnote_index_column": 14
        },
        {
         "documentDate": "2019-05-06",
         "picturedate": "2019/2",
         "lastchanged": "2019-02-15",
         "adcreated": "2019-01-25",
         "price": 8450000,
         "listprice": 7800000,
         "lat": 59.873753,
         "lng": 10.808472,
         "address": "Radarveien 78 C, 1163 Oslo",
         "apartmentnumber": "H0201",
         "apartmenttype": "B",
         "conveyancetype": "Fritt salg",
         "finncode": 138940366,
         "BRA": 113,
         "PROM": 113,
         "buildyear": 2012,
         "matrikkel": "301-159-128-2",
         "bedrooms": 3,
         "bathrooms": 1,
         "WC": 1,
         "elevator": 0,
         "floor": 2,
         "housingtype": "Tomannsbolig",
         "commondebt": 0,
         "commoncosts": 1750,
         "F_Aircondition": 1,
         "F_Alarm": 0,
         "F_BalkongTerrasse": 1,
         "F_Barnevennlig": 1,
         "F_Bredbåndstilknytning": 1,
         "F_Fellesvaskeri": 0,
         "F_GarasjeP-plass": 1,
         "F_Ingen gjenboere": 1,
         "F_Lademulighet": 0,
         "F_Livsløpsstandard": 0,
         "F_Moderne": 1,
         "F_Offentlig vannkloakk": 1,
         "F_Parkett": 1,
         "F_PeisIldsted": 0,
         "F_Rolig": 1,
         "F_Sentralt": 1,
         "F_Utsikt": 1,
         "F_Vaktmester-vektertjeneste": 0,
         "F_Bademulighet": 0,
         "F_Fiskemulighet": 0,
         "F_Turterreng": 0,
         "adtitle": "LAMBERTSETER/NORDSTRAND: Lys og luftig 1/2 av tomannsbolig m/flott utsikt. Stor veranda. Garasje. A…",
         "N_modernisering": false,
         "N_oppussing": false,
         "N_regulert": false,
         "N_garasjemulighet": false,
         "postcode": 1163,
         "Parking": 1,
         "price_inc_debt": 8450000,
         "area_id": 14,
         "Bydel_lat": 59.875677,
         "Bydel_lng": 10.789629,
         "floor_NA": 0,
         "commondebt_NA": 1,
         "commoncosts_NA": 0,
         "_deepnote_index_column": 10
        },
        {
         "documentDate": "2014-05-21",
         "picturedate": "2014/2",
         "lastchanged": "2014-03-01",
         "adcreated": "2014-02-15",
         "price": 5775000,
         "listprice": 5690000,
         "lat": 59.93454,
         "lng": 10.796455,
         "address": "Liljeveien 15, 0585 Oslo",
         "apartmentnumber": "H0101",
         "apartmenttype": "B",
         "conveyancetype": "Fritt salg",
         "finncode": 46728572,
         "BRA": 150.37375130507442,
         "PROM": 139,
         "buildyear": 1937,
         "matrikkel": "301-83-217-0",
         "bedrooms": 3,
         "bathrooms": 1,
         "WC": 1,
         "elevator": 0,
         "floor": 3.1663243342102674,
         "housingtype": "Enebolig",
         "commondebt": 0,
         "commoncosts": 0,
         "F_Aircondition": 0,
         "F_Alarm": 0,
         "F_BalkongTerrasse": 0,
         "F_Barnevennlig": 1,
         "F_Bredbåndstilknytning": 0,
         "F_Fellesvaskeri": 0,
         "F_GarasjeP-plass": 1,
         "F_Ingen gjenboere": 0,
         "F_Lademulighet": 0,
         "F_Livsløpsstandard": 0,
         "F_Moderne": 0,
         "F_Offentlig vannkloakk": 1,
         "F_Parkett": 1,
         "F_PeisIldsted": 1,
         "F_Rolig": 1,
         "F_Sentralt": 0,
         "F_Utsikt": 0,
         "F_Vaktmester-vektertjeneste": 0,
         "F_Bademulighet": 0,
         "F_Fiskemulighet": 0,
         "F_Turterreng": 0,
         "adtitle": "REFSTAD: Enebolig / Generasjonsbolig / Utleiemulighet - Garasje og solrik hage - Sentralt og meget …",
         "N_modernisering": false,
         "N_oppussing": false,
         "N_regulert": false,
         "N_garasjemulighet": false,
         "postcode": 585,
         "Parking": 1,
         "price_inc_debt": 5775000,
         "area_id": 2,
         "Bydel_lat": 59.923818,
         "Bydel_lng": 10.771007,
         "floor_NA": 1,
         "commondebt_NA": 1,
         "commoncosts_NA": 1,
         "_deepnote_index_column": 12
        },
        {
         "documentDate": "2012-09-04",
         "picturedate": "2012/8",
         "lastchanged": "2019-02-24",
         "adcreated": "2012-08-08",
         "price": 2400000,
         "listprice": 1990000,
         "lat": 59.943737,
         "lng": 10.774553,
         "address": "Grefsenveien 30 A, 0485 Oslo",
         "apartmentnumber": "H0403",
         "apartmenttype": "B",
         "conveyancetype": "Fritt salg",
         "finncode": 36454379,
         "BRA": 46,
         "PROM": 46,
         "buildyear": 1935,
         "matrikkel": "301-76-5-29",
         "bedrooms": 1,
         "bathrooms": 1,
         "WC": 1,
         "elevator": 0,
         "floor": 4,
         "housingtype": "Leilighet",
         "commondebt": 164865,
         "commoncosts": 3606,
         "F_Aircondition": 0,
         "F_Alarm": 0,
         "F_BalkongTerrasse": 1,
         "F_Barnevennlig": 0,
         "F_Bredbåndstilknytning": 1,
         "F_Fellesvaskeri": 1,
         "F_GarasjeP-plass": 1,
         "F_Ingen gjenboere": 0,
         "F_Lademulighet": 0,
         "F_Livsløpsstandard": 0,
         "F_Moderne": 0,
         "F_Offentlig vannkloakk": 0,
         "F_Parkett": 1,
         "F_PeisIldsted": 0,
         "F_Rolig": 0,
         "F_Sentralt": 1,
         "F_Utsikt": 0,
         "F_Vaktmester-vektertjeneste": 0,
         "F_Bademulighet": 0,
         "F_Fiskemulighet": 0,
         "F_Turterreng": 1,
         "adtitle": "Sandaker/Storo - Oppusset og attraktiv 2 roms med parkering og solrik balkong. Alt oppusset i 2007/…",
         "N_modernisering": false,
         "N_oppussing": false,
         "N_regulert": false,
         "N_garasjemulighet": false,
         "postcode": 485,
         "Parking": 1,
         "price_inc_debt": 2564865,
         "area_id": 3,
         "Bydel_lat": 59.93829,
         "Bydel_lng": 10.764674,
         "floor_NA": 0,
         "commondebt_NA": 0,
         "commoncosts_NA": 0,
         "_deepnote_index_column": 11
        }
       ]
      },
      "text/plain": "   documentDate picturedate lastchanged   adcreated     price   listprice  \\\n10   2019-05-06      2019/2  2019-02-15  2019-01-25   8450000   7800000.0   \n11   2012-09-04      2012/8  2019-02-24  2012-08-08   2400000   1990000.0   \n12   2014-05-21      2014/2  2014-03-01  2014-02-15   5775000   5690000.0   \n13   2013-11-12      2013/8  2013-09-13  2013-08-21  21000000  24000000.0   \n14   2020-11-05      2020/5  2020-06-17  2020-05-02  13500000  15000000.0   \n\n          lat        lng                         address apartmentnumber  ...  \\\n10  59.873753  10.808472      Radarveien 78 C, 1163 Oslo           H0201  ...   \n11  59.943737  10.774553    Grefsenveien 30 A, 0485 Oslo           H0403  ...   \n12  59.934540  10.796455        Liljeveien 15, 0585 Oslo           H0101  ...   \n13  59.952496  10.686596        Bjørnveien 53, 0774 Oslo           H0101  ...   \n14  59.908840  10.853329  Trasoppterrassen 3A, 0684 Oslo           H0101  ...   \n\n   N_garasjemulighet postcode  Parking  price_inc_debt  area_id  Bydel_lat  \\\n10             False     1163        1       8450000.0       14  59.875677   \n11             False      485        1       2564865.0        3  59.938290   \n12             False      585        1       5775000.0        2  59.923818   \n13             False      774        1      21000000.0        7  59.950695   \n14             False      684        1      13500000.0       13  59.888390   \n\n    Bydel_lng  floor_NA  commondebt_NA  commoncosts_NA  \n10  10.789629         0              1               0  \n11  10.764674         0              0               0  \n12  10.771007         1              1               1  \n13  10.657639         1              1               1  \n14  10.835148         1              1               1  \n\n[5 rows x 60 columns]",
      "text/html": "<div>\n<style scoped>\n    .dataframe tbody tr th:only-of-type {\n        vertical-align: middle;\n    }\n\n    .dataframe tbody tr th {\n        vertical-align: top;\n    }\n\n    .dataframe thead th {\n        text-align: right;\n    }\n</style>\n<table border=\"1\" class=\"dataframe\">\n  <thead>\n    <tr style=\"text-align: right;\">\n      <th></th>\n      <th>documentDate</th>\n      <th>picturedate</th>\n      <th>lastchanged</th>\n      <th>adcreated</th>\n      <th>price</th>\n      <th>listprice</th>\n      <th>lat</th>\n      <th>lng</th>\n      <th>address</th>\n      <th>apartmentnumber</th>\n      <th>...</th>\n      <th>N_garasjemulighet</th>\n      <th>postcode</th>\n      <th>Parking</th>\n      <th>price_inc_debt</th>\n      <th>area_id</th>\n      <th>Bydel_lat</th>\n      <th>Bydel_lng</th>\n      <th>floor_NA</th>\n      <th>commondebt_NA</th>\n      <th>commoncosts_NA</th>\n    </tr>\n  </thead>\n  <tbody>\n    <tr>\n      <th>10</th>\n      <td>2019-05-06</td>\n      <td>2019/2</td>\n      <td>2019-02-15</td>\n      <td>2019-01-25</td>\n      <td>8450000</td>\n      <td>7800000.0</td>\n      <td>59.873753</td>\n      <td>10.808472</td>\n      <td>Radarveien 78 C, 1163 Oslo</td>\n      <td>H0201</td>\n      <td>...</td>\n      <td>False</td>\n      <td>1163</td>\n      <td>1</td>\n      <td>8450000.0</td>\n      <td>14</td>\n      <td>59.875677</td>\n      <td>10.789629</td>\n      <td>0</td>\n      <td>1</td>\n      <td>0</td>\n    </tr>\n    <tr>\n      <th>11</th>\n      <td>2012-09-04</td>\n      <td>2012/8</td>\n      <td>2019-02-24</td>\n      <td>2012-08-08</td>\n      <td>2400000</td>\n      <td>1990000.0</td>\n      <td>59.943737</td>\n      <td>10.774553</td>\n      <td>Grefsenveien 30 A, 0485 Oslo</td>\n      <td>H0403</td>\n      <td>...</td>\n      <td>False</td>\n      <td>485</td>\n      <td>1</td>\n      <td>2564865.0</td>\n      <td>3</td>\n      <td>59.938290</td>\n      <td>10.764674</td>\n      <td>0</td>\n      <td>0</td>\n      <td>0</td>\n    </tr>\n    <tr>\n      <th>12</th>\n      <td>2014-05-21</td>\n      <td>2014/2</td>\n      <td>2014-03-01</td>\n      <td>2014-02-15</td>\n      <td>5775000</td>\n      <td>5690000.0</td>\n      <td>59.934540</td>\n      <td>10.796455</td>\n      <td>Liljeveien 15, 0585 Oslo</td>\n      <td>H0101</td>\n      <td>...</td>\n      <td>False</td>\n      <td>585</td>\n      <td>1</td>\n      <td>5775000.0</td>\n      <td>2</td>\n      <td>59.923818</td>\n      <td>10.771007</td>\n      <td>1</td>\n      <td>1</td>\n      <td>1</td>\n    </tr>\n    <tr>\n      <th>13</th>\n      <td>2013-11-12</td>\n      <td>2013/8</td>\n      <td>2013-09-13</td>\n      <td>2013-08-21</td>\n      <td>21000000</td>\n      <td>24000000.0</td>\n      <td>59.952496</td>\n      <td>10.686596</td>\n      <td>Bjørnveien 53, 0774 Oslo</td>\n      <td>H0101</td>\n      <td>...</td>\n      <td>False</td>\n      <td>774</td>\n      <td>1</td>\n      <td>21000000.0</td>\n      <td>7</td>\n      <td>59.950695</td>\n      <td>10.657639</td>\n      <td>1</td>\n      <td>1</td>\n      <td>1</td>\n    </tr>\n    <tr>\n      <th>14</th>\n      <td>2020-11-05</td>\n      <td>2020/5</td>\n      <td>2020-06-17</td>\n      <td>2020-05-02</td>\n      <td>13500000</td>\n      <td>15000000.0</td>\n      <td>59.908840</td>\n      <td>10.853329</td>\n      <td>Trasoppterrassen 3A, 0684 Oslo</td>\n      <td>H0101</td>\n      <td>...</td>\n      <td>False</td>\n      <td>684</td>\n      <td>1</td>\n      <td>13500000.0</td>\n      <td>13</td>\n      <td>59.888390</td>\n      <td>10.835148</td>\n      <td>1</td>\n      <td>1</td>\n      <td>1</td>\n    </tr>\n  </tbody>\n</table>\n<p>5 rows × 60 columns</p>\n</div>"
     },
     "metadata": {}
    }
   ],
   "execution_count": null
  },
  {
   "cell_type": "code",
   "metadata": {
    "cell_id": "00012-06d055c5-8550-4dda-942e-9229072c117d",
    "deepnote_to_be_reexecuted": true,
    "source_hash": "9c321414",
    "execution_start": 1645085649750,
    "execution_millis": 1560,
    "deepnote_output_heights": [
     304.3125
    ],
    "deepnote_cell_type": "code"
   },
   "source": "df['price'].hist(bins=70, range=[0,10000000], figsize=(17,6))\nplt.show()",
   "outputs": [
    {
     "data": {
      "text/plain": "<Figure size 1224x432 with 1 Axes>",
      "image/png": "[encoded data removed]"
     },
     "metadata": {
      "needs_background": "light",
      "image/png": {
       "width": 995,
       "height": 370
      }
     },
     "output_type": "display_data"
    }
   ],
   "execution_count": null
  },
  {
   "cell_type": "code",
   "metadata": {
    "cell_id": "00013-073fd591-e606-4e70-bf33-dba895c85d8c",
    "deepnote_to_be_reexecuted": true,
    "source_hash": "cff01a26",
    "execution_start": 1645085651363,
    "execution_millis": 761,
    "deepnote_output_heights": [
     250
    ],
    "deepnote_cell_type": "code"
   },
   "source": "df[\"area_id\"].hist(bins=25)\nplt.show()",
   "outputs": [
    {
     "data": {
      "text/plain": "<Figure size 432x288 with 1 Axes>",
      "image/png": "[encoded data removed]"
     },
     "metadata": {
      "needs_background": "light",
      "image/png": {
       "width": 387,
       "height": 248
      }
     },
     "output_type": "display_data"
    }
   ],
   "execution_count": null
  },
  {
   "cell_type": "code",
   "metadata": {
    "cell_id": "00014-88d3dadb-013e-4fbb-8bf5-2b40ddd80c82",
    "deepnote_to_be_reexecuted": true,
    "source_hash": "b623e53d",
    "execution_start": 1645085652140,
    "execution_millis": 24,
    "deepnote_cell_type": "code"
   },
   "source": "",
   "outputs": [],
   "execution_count": null
  },
  {
   "cell_type": "code",
   "metadata": {
    "cell_id": "7c28e39c-b084-46fd-939c-33ba8e5932e1",
    "tags": [],
    "deepnote_to_be_reexecuted": true,
    "source_hash": "b623e53d",
    "execution_start": 1645085652173,
    "execution_millis": 16,
    "deepnote_cell_type": "code"
   },
   "source": "",
   "outputs": [],
   "execution_count": null
  },
  {
   "cell_type": "code",
   "metadata": {
    "cell_id": "2b3d1cbb-ba95-418a-950c-eec301627af3",
    "tags": [],
    "deepnote_to_be_reexecuted": true,
    "source_hash": "b623e53d",
    "execution_start": 1645085652202,
    "execution_millis": 2,
    "deepnote_cell_type": "code"
   },
   "source": "",
   "outputs": [],
   "execution_count": null
  },
  {
   "cell_type": "code",
   "metadata": {
    "cell_id": "93699cf4-0436-46f5-bba6-1a12673335b9",
    "tags": [],
    "deepnote_to_be_reexecuted": true,
    "source_hash": "b623e53d",
    "execution_start": 1645085652228,
    "execution_millis": 1,
    "deepnote_cell_type": "code"
   },
   "source": "",
   "outputs": [],
   "execution_count": null
  },
  {
   "cell_type": "code",
   "metadata": {
    "cell_id": "50ee130c-a4d3-41bc-9d02-707859f10cf0",
    "tags": [],
    "deepnote_to_be_reexecuted": true,
    "source_hash": "b623e53d",
    "execution_start": 1645085652253,
    "execution_millis": 83019927,
    "deepnote_cell_type": "code"
   },
   "source": "",
   "outputs": [],
   "execution_count": null
  },
  {
   "cell_type": "markdown",
   "source": "<a style='text-decoration:none;line-height:16px;display:flex;color:#5B5B62;padding:10px;justify-content:end;' href='https://deepnote.com?utm_source=created-in-deepnote-cell&projectId=7a076037-bdbc-4d12-92b5-75ebface7fab' target=\"_blank\">\n<img alt='Created in deepnote.com' style='display:inline;max-height:16px;margin:0px;margin-right:7.5px;' src='data:image/svg+xml;base64,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' > </img>\nCreated in <span style='font-weight:600;margin-left:4px;'>Deepnote</span></a>",
   "metadata": {
    "tags": [],
    "created_in_deepnote_cell": true,
    "deepnote_cell_type": "markdown"
   }
  }
 ],
 "nbformat": 4,
 "nbformat_minor": 5,
 "metadata": {
  "kernelspec": {
   "display_name": "Python 3 (ipykernel)",
   "language": "python",
   "name": "python3"
  },
  "language_info": {
   "codemirror_mode": {
    "name": "ipython",
    "version": 3
   },
   "file_extension": ".py",
   "mimetype": "text/x-python",
   "name": "python",
   "nbconvert_exporter": "python",
   "pygments_lexer": "ipython3",
   "version": "3.9.6"
  },
  "deepnote_notebook_id": "412c32ea-12e7-4943-9595-4f2320b85aab",
  "deepnote": {},
  "deepnote_execution_queue": []
 }
}