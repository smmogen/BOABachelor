{
 "cells": [
  {
   "cell_type": "code",
   "metadata": {
    "cell_id": "2d94c48d-2ab5-483e-b957-7096a7af5034",
    "deepnote_to_be_reexecuted": false,
    "source_hash": "cd337e81",
    "execution_start": 1644227242806,
    "execution_millis": 2277,
    "deepnote_cell_type": "code"
   },
   "source": "# Importer biblioteker som trengs\nimport pandas as pd\nimport matplotlib.pyplot as plt\nimport matplotlib.image as mpimg\nimport numpy as np",
   "execution_count": null,
   "outputs": []
  },
  {
   "cell_type": "code",
   "metadata": {
    "cell_id": "00001-ee8f14d9-2253-4871-a3aa-fcb11991a616",
    "deepnote_to_be_reexecuted": false,
    "source_hash": "67247453",
    "execution_start": 1644227245094,
    "execution_millis": 1932,
    "deepnote_cell_type": "code"
   },
   "source": "# Importerer datasettet\ndf = pd.read_csv('datasett.csv')",
   "execution_count": null,
   "outputs": []
  },
  {
   "cell_type": "code",
   "metadata": {
    "cell_id": "5687221a-a4eb-4a30-b921-3c545b1f51c5",
    "tags": [],
    "deepnote_to_be_reexecuted": false,
    "source_hash": "9bf26057",
    "execution_start": 1644227247031,
    "execution_millis": 500,
    "deepnote_table_state": {
     "pageSize": 10,
     "pageIndex": 0,
     "filters": [],
     "sortBy": [
      {
       "id": "lastchanged",
       "type": "desc"
      }
     ]
    },
    "deepnote_table_loading": false,
    "deepnote_cell_type": "code"
   },
   "source": "# Tar en titt på dataen\ndf.head()",
   "execution_count": null,
   "outputs": [
    {
     "output_type": "execute_result",
     "execution_count": 3,
     "data": {
      "application/vnd.deepnote.dataframe.v3+json": {
       "column_count": 57,
       "row_count": 5,
       "columns": [
        {
         "name": "documentDate",
         "dtype": "object",
         "stats": {
          "unique_count": 5,
          "nan_count": 0,
          "categories": [
           {
            "name": "2021-12-02",
            "count": 1
           },
           {
            "name": "2020-09-29",
            "count": 1
           },
           {
            "name": "3 others",
            "count": 3
           }
          ]
         }
        },
        {
         "name": "picturedate",
         "dtype": "object",
         "stats": {
          "unique_count": 5,
          "nan_count": 0,
          "categories": [
           {
            "name": "2021/8",
            "count": 1
           },
           {
            "name": "2020/8",
            "count": 1
           },
           {
            "name": "3 others",
            "count": 3
           }
          ]
         }
        },
        {
         "name": "lastchanged",
         "dtype": "object",
         "stats": {
          "unique_count": 5,
          "nan_count": 0,
          "categories": [
           {
            "name": "2021-08-01",
            "count": 1
           },
           {
            "name": "2020-12-14",
            "count": 1
           },
           {
            "name": "3 others",
            "count": 3
           }
          ]
         }
        },
        {
         "name": "adcreated",
         "dtype": "object",
         "stats": {
          "unique_count": 5,
          "nan_count": 0,
          "categories": [
           {
            "name": "2021-07-27",
            "count": 1
           },
           {
            "name": "2020-08-25",
            "count": 1
           },
           {
            "name": "3 others",
            "count": 3
           }
          ]
         }
        },
        {
         "name": "price",
         "dtype": "int64",
         "stats": {
          "unique_count": 5,
          "nan_count": 0,
          "min": "1660000",
          "max": "9900000",
          "histogram": [
           {
            "bin_start": 1660000,
            "bin_end": 2484000,
            "count": 1
           },
           {
            "bin_start": 2484000,
            "bin_end": 3308000,
            "count": 0
           },
           {
            "bin_start": 3308000,
            "bin_end": 4132000,
            "count": 1
           },
           {
            "bin_start": 4132000,
            "bin_end": 4956000,
            "count": 0
           },
           {
            "bin_start": 4956000,
            "bin_end": 5780000,
            "count": 2
           },
           {
            "bin_start": 5780000,
            "bin_end": 6604000,
            "count": 0
           },
           {
            "bin_start": 6604000,
            "bin_end": 7428000,
            "count": 0
           },
           {
            "bin_start": 7428000,
            "bin_end": 8252000,
            "count": 0
           },
           {
            "bin_start": 8252000,
            "bin_end": 9076000,
            "count": 0
           },
           {
            "bin_start": 9076000,
            "bin_end": 9900000,
            "count": 1
           }
          ]
         }
        },
        {
         "name": "listprice",
         "dtype": "float64",
         "stats": {
          "unique_count": 5,
          "nan_count": 0,
          "min": "1680000.0",
          "max": "8750000.0",
          "histogram": [
           {
            "bin_start": 1680000,
            "bin_end": 2387000,
            "count": 1
           },
           {
            "bin_start": 2387000,
            "bin_end": 3094000,
            "count": 0
           },
           {
            "bin_start": 3094000,
            "bin_end": 3801000,
            "count": 1
           },
           {
            "bin_start": 3801000,
            "bin_end": 4508000,
            "count": 0
           },
           {
            "bin_start": 4508000,
            "bin_end": 5215000,
            "count": 1
           },
           {
            "bin_start": 5215000,
            "bin_end": 5922000,
            "count": 1
           },
           {
            "bin_start": 5922000,
            "bin_end": 6629000,
            "count": 0
           },
           {
            "bin_start": 6629000,
            "bin_end": 7336000,
            "count": 0
           },
           {
            "bin_start": 7336000,
            "bin_end": 8043000,
            "count": 0
           },
           {
            "bin_start": 8043000,
            "bin_end": 8750000,
            "count": 1
           }
          ]
         }
        },
        {
         "name": "lat",
         "dtype": "float64",
         "stats": {
          "unique_count": 5,
          "nan_count": 0,
          "min": "59.879",
          "max": "59.944653",
          "histogram": [
           {
            "bin_start": 59.879,
            "bin_end": 59.885565299999996,
            "count": 1
           },
           {
            "bin_start": 59.885565299999996,
            "bin_end": 59.8921306,
            "count": 1
           },
           {
            "bin_start": 59.8921306,
            "bin_end": 59.8986959,
            "count": 0
           },
           {
            "bin_start": 59.8986959,
            "bin_end": 59.9052612,
            "count": 0
           },
           {
            "bin_start": 59.9052612,
            "bin_end": 59.911826500000004,
            "count": 0
           },
           {
            "bin_start": 59.911826500000004,
            "bin_end": 59.9183918,
            "count": 1
           },
           {
            "bin_start": 59.9183918,
            "bin_end": 59.9249571,
            "count": 1
           },
           {
            "bin_start": 59.9249571,
            "bin_end": 59.9315224,
            "count": 0
           },
           {
            "bin_start": 59.9315224,
            "bin_end": 59.938087700000004,
            "count": 0
           },
           {
            "bin_start": 59.938087700000004,
            "bin_end": 59.944653,
            "count": 1
           }
          ]
         }
        },
        {
         "name": "lng",
         "dtype": "float64",
         "stats": {
          "unique_count": 5,
          "nan_count": 0,
          "min": "10.6479",
          "max": "10.888134",
          "histogram": [
           {
            "bin_start": 10.6479,
            "bin_end": 10.6719234,
            "count": 1
           },
           {
            "bin_start": 10.6719234,
            "bin_end": 10.6959468,
            "count": 0
           },
           {
            "bin_start": 10.6959468,
            "bin_end": 10.7199702,
            "count": 0
           },
           {
            "bin_start": 10.7199702,
            "bin_end": 10.7439936,
            "count": 0
           },
           {
            "bin_start": 10.7439936,
            "bin_end": 10.768017,
            "count": 0
           },
           {
            "bin_start": 10.768017,
            "bin_end": 10.792040400000001,
            "count": 1
           },
           {
            "bin_start": 10.792040400000001,
            "bin_end": 10.8160638,
            "count": 2
           },
           {
            "bin_start": 10.8160638,
            "bin_end": 10.840087200000001,
            "count": 0
           },
           {
            "bin_start": 10.840087200000001,
            "bin_end": 10.8641106,
            "count": 0
           },
           {
            "bin_start": 10.8641106,
            "bin_end": 10.888134,
            "count": 1
           }
          ]
         }
        },
        {
         "name": "address",
         "dtype": "object",
         "stats": {
          "unique_count": 5,
          "nan_count": 0,
          "categories": [
           {
            "name": "Ringshusveien 8B, 1176 Oslo",
            "count": 1
           },
           {
            "name": "Skogbrynet 16D, 0283 Oslo",
            "count": 1
           },
           {
            "name": "3 others",
            "count": 3
           }
          ]
         }
        },
        {
         "name": "apartmentnumber",
         "dtype": "object",
         "stats": {
          "unique_count": 5,
          "nan_count": 0,
          "categories": [
           {
            "name": "H0101",
            "count": 1
           },
           {
            "name": "U0101",
            "count": 1
           },
           {
            "name": "3 others",
            "count": 3
           }
          ]
         }
        },
        {
         "name": "apartmenttype",
         "dtype": "object",
         "stats": {
          "unique_count": 1,
          "nan_count": 0,
          "categories": [
           {
            "name": "B",
            "count": 5
           }
          ]
         }
        },
        {
         "name": "conveyancetype",
         "dtype": "object",
         "stats": {
          "unique_count": 1,
          "nan_count": 0,
          "categories": [
           {
            "name": "Fritt salg",
            "count": 5
           }
          ]
         }
        },
        {
         "name": "finncode",
         "dtype": "int64",
         "stats": {
          "unique_count": 5,
          "nan_count": 0,
          "min": "18679054",
          "max": "226217549",
          "histogram": [
           {
            "bin_start": 18679054,
            "bin_end": 39432903.5,
            "count": 2
           },
           {
            "bin_start": 39432903.5,
            "bin_end": 60186753,
            "count": 0
           },
           {
            "bin_start": 60186753,
            "bin_end": 80940602.5,
            "count": 0
           },
           {
            "bin_start": 80940602.5,
            "bin_end": 101694452,
            "count": 0
           },
           {
            "bin_start": 101694452,
            "bin_end": 122448301.5,
            "count": 0
           },
           {
            "bin_start": 122448301.5,
            "bin_end": 143202151,
            "count": 0
           },
           {
            "bin_start": 143202151,
            "bin_end": 163956000.5,
            "count": 0
           },
           {
            "bin_start": 163956000.5,
            "bin_end": 184709850,
            "count": 0
           },
           {
            "bin_start": 184709850,
            "bin_end": 205463699.5,
            "count": 2
           },
           {
            "bin_start": 205463699.5,
            "bin_end": 226217549,
            "count": 1
           }
          ]
         }
        },
        {
         "name": "BRA",
         "dtype": "float64",
         "stats": {
          "unique_count": 4,
          "nan_count": 1,
          "min": "55.0",
          "max": "249.0",
          "histogram": [
           {
            "bin_start": 55,
            "bin_end": 74.4,
            "count": 2
           },
           {
            "bin_start": 74.4,
            "bin_end": 93.8,
            "count": 0
           },
           {
            "bin_start": 93.8,
            "bin_end": 113.19999999999999,
            "count": 0
           },
           {
            "bin_start": 113.19999999999999,
            "bin_end": 132.6,
            "count": 1
           },
           {
            "bin_start": 132.6,
            "bin_end": 152,
            "count": 0
           },
           {
            "bin_start": 152,
            "bin_end": 171.39999999999998,
            "count": 0
           },
           {
            "bin_start": 171.39999999999998,
            "bin_end": 190.79999999999998,
            "count": 0
           },
           {
            "bin_start": 190.79999999999998,
            "bin_end": 210.2,
            "count": 0
           },
           {
            "bin_start": 210.2,
            "bin_end": 229.6,
            "count": 0
           },
           {
            "bin_start": 229.6,
            "bin_end": 249,
            "count": 1
           }
          ]
         }
        },
        {
         "name": "PROM",
         "dtype": "float64",
         "stats": {
          "unique_count": 5,
          "nan_count": 0,
          "min": "54.0",
          "max": "242.0",
          "histogram": [
           {
            "bin_start": 54,
            "bin_end": 72.8,
            "count": 3
           },
           {
            "bin_start": 72.8,
            "bin_end": 91.6,
            "count": 0
           },
           {
            "bin_start": 91.6,
            "bin_end": 110.4,
            "count": 0
           },
           {
            "bin_start": 110.4,
            "bin_end": 129.2,
            "count": 1
           },
           {
            "bin_start": 129.2,
            "bin_end": 148,
            "count": 0
           },
           {
            "bin_start": 148,
            "bin_end": 166.8,
            "count": 0
           },
           {
            "bin_start": 166.8,
            "bin_end": 185.6,
            "count": 0
           },
           {
            "bin_start": 185.6,
            "bin_end": 204.4,
            "count": 0
           },
           {
            "bin_start": 204.4,
            "bin_end": 223.20000000000002,
            "count": 0
           },
           {
            "bin_start": 223.20000000000002,
            "bin_end": 242,
            "count": 1
           }
          ]
         }
        },
        {
         "name": "buildyear",
         "dtype": "float64",
         "stats": {
          "unique_count": 4,
          "nan_count": 0,
          "min": "1954.0",
          "max": "1990.0",
          "histogram": [
           {
            "bin_start": 1954,
            "bin_end": 1957.6,
            "count": 1
           },
           {
            "bin_start": 1957.6,
            "bin_end": 1961.2,
            "count": 0
           },
           {
            "bin_start": 1961.2,
            "bin_end": 1964.8,
            "count": 0
           },
           {
            "bin_start": 1964.8,
            "bin_end": 1968.4,
            "count": 0
           },
           {
            "bin_start": 1968.4,
            "bin_end": 1972,
            "count": 1
           },
           {
            "bin_start": 1972,
            "bin_end": 1975.6,
            "count": 0
           },
           {
            "bin_start": 1975.6,
            "bin_end": 1979.2,
            "count": 2
           },
           {
            "bin_start": 1979.2,
            "bin_end": 1982.8,
            "count": 0
           },
           {
            "bin_start": 1982.8,
            "bin_end": 1986.4,
            "count": 0
           },
           {
            "bin_start": 1986.4,
            "bin_end": 1990,
            "count": 1
           }
          ]
         }
        },
        {
         "name": "matrikkel",
         "dtype": "object",
         "stats": {
          "unique_count": 5,
          "nan_count": 0,
          "categories": [
           {
            "name": "301-158-751-0",
            "count": 1
           },
           {
            "name": "301-9-38-14",
            "count": 1
           },
           {
            "name": "3 others",
            "count": 3
           }
          ]
         }
        },
        {
         "name": "bedrooms",
         "dtype": "float64",
         "stats": {
          "unique_count": 4,
          "nan_count": 0,
          "min": "1.0",
          "max": "5.0",
          "histogram": [
           {
            "bin_start": 1,
            "bin_end": 1.4,
            "count": 2
           },
           {
            "bin_start": 1.4,
            "bin_end": 1.8,
            "count": 0
           },
           {
            "bin_start": 1.8,
            "bin_end": 2.2,
            "count": 1
           },
           {
            "bin_start": 2.2,
            "bin_end": 2.6,
            "count": 0
           },
           {
            "bin_start": 2.6,
            "bin_end": 3,
            "count": 0
           },
           {
            "bin_start": 3,
            "bin_end": 3.4000000000000004,
            "count": 0
           },
           {
            "bin_start": 3.4000000000000004,
            "bin_end": 3.8000000000000003,
            "count": 0
           },
           {
            "bin_start": 3.8000000000000003,
            "bin_end": 4.2,
            "count": 1
           },
           {
            "bin_start": 4.2,
            "bin_end": 4.6,
            "count": 0
           },
           {
            "bin_start": 4.6,
            "bin_end": 5,
            "count": 1
           }
          ]
         }
        },
        {
         "name": "rooms",
         "dtype": "float64",
         "stats": {
          "unique_count": 3,
          "nan_count": 2,
          "min": "2.0",
          "max": "10.0",
          "histogram": [
           {
            "bin_start": 2,
            "bin_end": 2.8,
            "count": 1
           },
           {
            "bin_start": 2.8,
            "bin_end": 3.6,
            "count": 0
           },
           {
            "bin_start": 3.6,
            "bin_end": 4.4,
            "count": 0
           },
           {
            "bin_start": 4.4,
            "bin_end": 5.2,
            "count": 1
           },
           {
            "bin_start": 5.2,
            "bin_end": 6,
            "count": 0
           },
           {
            "bin_start": 6,
            "bin_end": 6.800000000000001,
            "count": 0
           },
           {
            "bin_start": 6.800000000000001,
            "bin_end": 7.6000000000000005,
            "count": 0
           },
           {
            "bin_start": 7.6000000000000005,
            "bin_end": 8.4,
            "count": 0
           },
           {
            "bin_start": 8.4,
            "bin_end": 9.2,
            "count": 0
           },
           {
            "bin_start": 9.2,
            "bin_end": 10,
            "count": 1
           }
          ]
         }
        },
        {
         "name": "bathrooms",
         "dtype": "int64",
         "stats": {
          "unique_count": 1,
          "nan_count": 0,
          "min": "1",
          "max": "1",
          "histogram": [
           {
            "bin_start": 0.5,
            "bin_end": 0.6,
            "count": 0
           },
           {
            "bin_start": 0.6,
            "bin_end": 0.7,
            "count": 0
           },
           {
            "bin_start": 0.7,
            "bin_end": 0.8,
            "count": 0
           },
           {
            "bin_start": 0.8,
            "bin_end": 0.9,
            "count": 0
           },
           {
            "bin_start": 0.9,
            "bin_end": 1,
            "count": 0
           },
           {
            "bin_start": 1,
            "bin_end": 1.1,
            "count": 5
           },
           {
            "bin_start": 1.1,
            "bin_end": 1.2000000000000002,
            "count": 0
           },
           {
            "bin_start": 1.2000000000000002,
            "bin_end": 1.3,
            "count": 0
           },
           {
            "bin_start": 1.3,
            "bin_end": 1.4,
            "count": 0
           },
           {
            "bin_start": 1.4,
            "bin_end": 1.5,
            "count": 0
           }
          ]
         }
        },
        {
         "name": "WC",
         "dtype": "int64",
         "stats": {
          "unique_count": 2,
          "nan_count": 0,
          "min": "1",
          "max": "2",
          "histogram": [
           {
            "bin_start": 1,
            "bin_end": 1.1,
            "count": 4
           },
           {
            "bin_start": 1.1,
            "bin_end": 1.2,
            "count": 0
           },
           {
            "bin_start": 1.2,
            "bin_end": 1.3,
            "count": 0
           },
           {
            "bin_start": 1.3,
            "bin_end": 1.4,
            "count": 0
           },
           {
            "bin_start": 1.4,
            "bin_end": 1.5,
            "count": 0
           },
           {
            "bin_start": 1.5,
            "bin_end": 1.6,
            "count": 0
           },
           {
            "bin_start": 1.6,
            "bin_end": 1.7000000000000002,
            "count": 0
           },
           {
            "bin_start": 1.7000000000000002,
            "bin_end": 1.8,
            "count": 0
           },
           {
            "bin_start": 1.8,
            "bin_end": 1.9,
            "count": 0
           },
           {
            "bin_start": 1.9,
            "bin_end": 2,
            "count": 1
           }
          ]
         }
        },
        {
         "name": "elevator",
         "dtype": "object",
         "stats": {
          "unique_count": 2,
          "nan_count": 0,
          "categories": [
           {
            "name": "N",
            "count": 4
           },
           {
            "name": "J",
            "count": 1
           }
          ]
         }
        },
        {
         "name": "floor",
         "dtype": "float64",
         "stats": {
          "unique_count": 3,
          "nan_count": 1,
          "min": "1.0",
          "max": "6.0",
          "histogram": [
           {
            "bin_start": 1,
            "bin_end": 1.5,
            "count": 2
           },
           {
            "bin_start": 1.5,
            "bin_end": 2,
            "count": 0
           },
           {
            "bin_start": 2,
            "bin_end": 2.5,
            "count": 0
           },
           {
            "bin_start": 2.5,
            "bin_end": 3,
            "count": 0
           },
           {
            "bin_start": 3,
            "bin_end": 3.5,
            "count": 1
           },
           {
            "bin_start": 3.5,
            "bin_end": 4,
            "count": 0
           },
           {
            "bin_start": 4,
            "bin_end": 4.5,
            "count": 0
           },
           {
            "bin_start": 4.5,
            "bin_end": 5,
            "count": 0
           },
           {
            "bin_start": 5,
            "bin_end": 5.5,
            "count": 0
           },
           {
            "bin_start": 5.5,
            "bin_end": 6,
            "count": 1
           }
          ]
         }
        },
        {
         "name": "housingtype",
         "dtype": "object",
         "stats": {
          "unique_count": 2,
          "nan_count": 0,
          "categories": [
           {
            "name": "Leilighet",
            "count": 3
           },
           {
            "name": "Enebolig",
            "count": 2
           }
          ]
         }
        },
        {
         "name": "commondebt",
         "dtype": "float64",
         "stats": {
          "unique_count": 2,
          "nan_count": 3,
          "min": "18207.0",
          "max": "44838.0",
          "histogram": [
           {
            "bin_start": 18207,
            "bin_end": 20870.1,
            "count": 1
           },
           {
            "bin_start": 20870.1,
            "bin_end": 23533.2,
            "count": 0
           },
           {
            "bin_start": 23533.2,
            "bin_end": 26196.3,
            "count": 0
           },
           {
            "bin_start": 26196.3,
            "bin_end": 28859.4,
            "count": 0
           },
           {
            "bin_start": 28859.4,
            "bin_end": 31522.5,
            "count": 0
           },
           {
            "bin_start": 31522.5,
            "bin_end": 34185.6,
            "count": 0
           },
           {
            "bin_start": 34185.6,
            "bin_end": 36848.7,
            "count": 0
           },
           {
            "bin_start": 36848.7,
            "bin_end": 39511.8,
            "count": 0
           },
           {
            "bin_start": 39511.8,
            "bin_end": 42174.899999999994,
            "count": 0
           },
           {
            "bin_start": 42174.899999999994,
            "bin_end": 44838,
            "count": 1
           }
          ]
         }
        },
        {
         "name": "commoncosts",
         "dtype": "float64",
         "stats": {
          "unique_count": 3,
          "nan_count": 2,
          "min": "2866.0",
          "max": "3127.0",
          "histogram": [
           {
            "bin_start": 2866,
            "bin_end": 2892.1,
            "count": 1
           },
           {
            "bin_start": 2892.1,
            "bin_end": 2918.2,
            "count": 0
           },
           {
            "bin_start": 2918.2,
            "bin_end": 2944.3,
            "count": 0
           },
           {
            "bin_start": 2944.3,
            "bin_end": 2970.4,
            "count": 0
           },
           {
            "bin_start": 2970.4,
            "bin_end": 2996.5,
            "count": 0
           },
           {
            "bin_start": 2996.5,
            "bin_end": 3022.6,
            "count": 0
           },
           {
            "bin_start": 3022.6,
            "bin_end": 3048.7,
            "count": 0
           },
           {
            "bin_start": 3048.7,
            "bin_end": 3074.8,
            "count": 1
           },
           {
            "bin_start": 3074.8,
            "bin_end": 3100.9,
            "count": 0
           },
           {
            "bin_start": 3100.9,
            "bin_end": 3127,
            "count": 1
           }
          ]
         }
        },
        {
         "name": "F_Aircondition",
         "dtype": "float64",
         "stats": {
          "unique_count": 0,
          "nan_count": 5,
          "min": null,
          "max": null,
          "histogram": [
           {
            "bin_start": 0,
            "bin_end": 0.1,
            "count": 0
           },
           {
            "bin_start": 0.1,
            "bin_end": 0.2,
            "count": 0
           },
           {
            "bin_start": 0.2,
            "bin_end": 0.30000000000000004,
            "count": 0
           },
           {
            "bin_start": 0.30000000000000004,
            "bin_end": 0.4,
            "count": 0
           },
           {
            "bin_start": 0.4,
            "bin_end": 0.5,
            "count": 0
           },
           {
            "bin_start": 0.5,
            "bin_end": 0.6000000000000001,
            "count": 0
           },
           {
            "bin_start": 0.6000000000000001,
            "bin_end": 0.7000000000000001,
            "count": 0
           },
           {
            "bin_start": 0.7000000000000001,
            "bin_end": 0.8,
            "count": 0
           },
           {
            "bin_start": 0.8,
            "bin_end": 0.9,
            "count": 0
           },
           {
            "bin_start": 0.9,
            "bin_end": 1,
            "count": 0
           }
          ]
         }
        },
        {
         "name": "F_Alarm",
         "dtype": "float64",
         "stats": {
          "unique_count": 0,
          "nan_count": 5,
          "min": null,
          "max": null,
          "histogram": [
           {
            "bin_start": 0,
            "bin_end": 0.1,
            "count": 0
           },
           {
            "bin_start": 0.1,
            "bin_end": 0.2,
            "count": 0
           },
           {
            "bin_start": 0.2,
            "bin_end": 0.30000000000000004,
            "count": 0
           },
           {
            "bin_start": 0.30000000000000004,
            "bin_end": 0.4,
            "count": 0
           },
           {
            "bin_start": 0.4,
            "bin_end": 0.5,
            "count": 0
           },
           {
            "bin_start": 0.5,
            "bin_end": 0.6000000000000001,
            "count": 0
           },
           {
            "bin_start": 0.6000000000000001,
            "bin_end": 0.7000000000000001,
            "count": 0
           },
           {
            "bin_start": 0.7000000000000001,
            "bin_end": 0.8,
            "count": 0
           },
           {
            "bin_start": 0.8,
            "bin_end": 0.9,
            "count": 0
           },
           {
            "bin_start": 0.9,
            "bin_end": 1,
            "count": 0
           }
          ]
         }
        },
        {
         "name": "F_BalkongTerrasse",
         "dtype": "float64",
         "stats": {
          "unique_count": 1,
          "nan_count": 1,
          "min": "1.0",
          "max": "1.0",
          "histogram": [
           {
            "bin_start": 0.5,
            "bin_end": 0.6,
            "count": 0
           },
           {
            "bin_start": 0.6,
            "bin_end": 0.7,
            "count": 0
           },
           {
            "bin_start": 0.7,
            "bin_end": 0.8,
            "count": 0
           },
           {
            "bin_start": 0.8,
            "bin_end": 0.9,
            "count": 0
           },
           {
            "bin_start": 0.9,
            "bin_end": 1,
            "count": 0
           },
           {
            "bin_start": 1,
            "bin_end": 1.1,
            "count": 4
           },
           {
            "bin_start": 1.1,
            "bin_end": 1.2000000000000002,
            "count": 0
           },
           {
            "bin_start": 1.2000000000000002,
            "bin_end": 1.3,
            "count": 0
           },
           {
            "bin_start": 1.3,
            "bin_end": 1.4,
            "count": 0
           },
           {
            "bin_start": 1.4,
            "bin_end": 1.5,
            "count": 0
           }
          ]
         }
        },
        {
         "name": "F_Barnevennlig",
         "dtype": "float64",
         "stats": {
          "unique_count": 1,
          "nan_count": 1,
          "min": "1.0",
          "max": "1.0",
          "histogram": [
           {
            "bin_start": 0.5,
            "bin_end": 0.6,
            "count": 0
           },
           {
            "bin_start": 0.6,
            "bin_end": 0.7,
            "count": 0
           },
           {
            "bin_start": 0.7,
            "bin_end": 0.8,
            "count": 0
           },
           {
            "bin_start": 0.8,
            "bin_end": 0.9,
            "count": 0
           },
           {
            "bin_start": 0.9,
            "bin_end": 1,
            "count": 0
           },
           {
            "bin_start": 1,
            "bin_end": 1.1,
            "count": 4
           },
           {
            "bin_start": 1.1,
            "bin_end": 1.2000000000000002,
            "count": 0
           },
           {
            "bin_start": 1.2000000000000002,
            "bin_end": 1.3,
            "count": 0
           },
           {
            "bin_start": 1.3,
            "bin_end": 1.4,
            "count": 0
           },
           {
            "bin_start": 1.4,
            "bin_end": 1.5,
            "count": 0
           }
          ]
         }
        },
        {
         "name": "F_Bredbåndstilknytning",
         "dtype": "float64",
         "stats": {
          "unique_count": 1,
          "nan_count": 3,
          "min": "1.0",
          "max": "1.0",
          "histogram": [
           {
            "bin_start": 0.5,
            "bin_end": 0.6,
            "count": 0
           },
           {
            "bin_start": 0.6,
            "bin_end": 0.7,
            "count": 0
           },
           {
            "bin_start": 0.7,
            "bin_end": 0.8,
            "count": 0
           },
           {
            "bin_start": 0.8,
            "bin_end": 0.9,
            "count": 0
           },
           {
            "bin_start": 0.9,
            "bin_end": 1,
            "count": 0
           },
           {
            "bin_start": 1,
            "bin_end": 1.1,
            "count": 2
           },
           {
            "bin_start": 1.1,
            "bin_end": 1.2000000000000002,
            "count": 0
           },
           {
            "bin_start": 1.2000000000000002,
            "bin_end": 1.3,
            "count": 0
           },
           {
            "bin_start": 1.3,
            "bin_end": 1.4,
            "count": 0
           },
           {
            "bin_start": 1.4,
            "bin_end": 1.5,
            "count": 0
           }
          ]
         }
        },
        {
         "name": "F_Fellesvaskeri",
         "dtype": "float64",
         "stats": {
          "unique_count": 0,
          "nan_count": 5,
          "min": null,
          "max": null,
          "histogram": [
           {
            "bin_start": 0,
            "bin_end": 0.1,
            "count": 0
           },
           {
            "bin_start": 0.1,
            "bin_end": 0.2,
            "count": 0
           },
           {
            "bin_start": 0.2,
            "bin_end": 0.30000000000000004,
            "count": 0
           },
           {
            "bin_start": 0.30000000000000004,
            "bin_end": 0.4,
            "count": 0
           },
           {
            "bin_start": 0.4,
            "bin_end": 0.5,
            "count": 0
           },
           {
            "bin_start": 0.5,
            "bin_end": 0.6000000000000001,
            "count": 0
           },
           {
            "bin_start": 0.6000000000000001,
            "bin_end": 0.7000000000000001,
            "count": 0
           },
           {
            "bin_start": 0.7000000000000001,
            "bin_end": 0.8,
            "count": 0
           },
           {
            "bin_start": 0.8,
            "bin_end": 0.9,
            "count": 0
           },
           {
            "bin_start": 0.9,
            "bin_end": 1,
            "count": 0
           }
          ]
         }
        },
        {
         "name": "F_GarasjeP-plass",
         "dtype": "float64",
         "stats": {
          "unique_count": 1,
          "nan_count": 2,
          "min": "1.0",
          "max": "1.0",
          "histogram": [
           {
            "bin_start": 0.5,
            "bin_end": 0.6,
            "count": 0
           },
           {
            "bin_start": 0.6,
            "bin_end": 0.7,
            "count": 0
           },
           {
            "bin_start": 0.7,
            "bin_end": 0.8,
            "count": 0
           },
           {
            "bin_start": 0.8,
            "bin_end": 0.9,
            "count": 0
           },
           {
            "bin_start": 0.9,
            "bin_end": 1,
            "count": 0
           },
           {
            "bin_start": 1,
            "bin_end": 1.1,
            "count": 3
           },
           {
            "bin_start": 1.1,
            "bin_end": 1.2000000000000002,
            "count": 0
           },
           {
            "bin_start": 1.2000000000000002,
            "bin_end": 1.3,
            "count": 0
           },
           {
            "bin_start": 1.3,
            "bin_end": 1.4,
            "count": 0
           },
           {
            "bin_start": 1.4,
            "bin_end": 1.5,
            "count": 0
           }
          ]
         }
        },
        {
         "name": "F_Heis",
         "dtype": "float64",
         "stats": {
          "unique_count": 1,
          "nan_count": 4,
          "min": "1.0",
          "max": "1.0",
          "histogram": [
           {
            "bin_start": 0.5,
            "bin_end": 0.6,
            "count": 0
           },
           {
            "bin_start": 0.6,
            "bin_end": 0.7,
            "count": 0
           },
           {
            "bin_start": 0.7,
            "bin_end": 0.8,
            "count": 0
           },
           {
            "bin_start": 0.8,
            "bin_end": 0.9,
            "count": 0
           },
           {
            "bin_start": 0.9,
            "bin_end": 1,
            "count": 0
           },
           {
            "bin_start": 1,
            "bin_end": 1.1,
            "count": 1
           },
           {
            "bin_start": 1.1,
            "bin_end": 1.2000000000000002,
            "count": 0
           },
           {
            "bin_start": 1.2000000000000002,
            "bin_end": 1.3,
            "count": 0
           },
           {
            "bin_start": 1.3,
            "bin_end": 1.4,
            "count": 0
           },
           {
            "bin_start": 1.4,
            "bin_end": 1.5,
            "count": 0
           }
          ]
         }
        },
        {
         "name": "F_Ingen gjenboere",
         "dtype": "float64",
         "stats": {
          "unique_count": 1,
          "nan_count": 2,
          "min": "1.0",
          "max": "1.0",
          "histogram": [
           {
            "bin_start": 0.5,
            "bin_end": 0.6,
            "count": 0
           },
           {
            "bin_start": 0.6,
            "bin_end": 0.7,
            "count": 0
           },
           {
            "bin_start": 0.7,
            "bin_end": 0.8,
            "count": 0
           },
           {
            "bin_start": 0.8,
            "bin_end": 0.9,
            "count": 0
           },
           {
            "bin_start": 0.9,
            "bin_end": 1,
            "count": 0
           },
           {
            "bin_start": 1,
            "bin_end": 1.1,
            "count": 3
           },
           {
            "bin_start": 1.1,
            "bin_end": 1.2000000000000002,
            "count": 0
           },
           {
            "bin_start": 1.2000000000000002,
            "bin_end": 1.3,
            "count": 0
           },
           {
            "bin_start": 1.3,
            "bin_end": 1.4,
            "count": 0
           },
           {
            "bin_start": 1.4,
            "bin_end": 1.5,
            "count": 0
           }
          ]
         }
        },
        {
         "name": "F_Lademulighet",
         "dtype": "float64",
         "stats": {
          "unique_count": 0,
          "nan_count": 5,
          "min": null,
          "max": null,
          "histogram": [
           {
            "bin_start": 0,
            "bin_end": 0.1,
            "count": 0
           },
           {
            "bin_start": 0.1,
            "bin_end": 0.2,
            "count": 0
           },
           {
            "bin_start": 0.2,
            "bin_end": 0.30000000000000004,
            "count": 0
           },
           {
            "bin_start": 0.30000000000000004,
            "bin_end": 0.4,
            "count": 0
           },
           {
            "bin_start": 0.4,
            "bin_end": 0.5,
            "count": 0
           },
           {
            "bin_start": 0.5,
            "bin_end": 0.6000000000000001,
            "count": 0
           },
           {
            "bin_start": 0.6000000000000001,
            "bin_end": 0.7000000000000001,
            "count": 0
           },
           {
            "bin_start": 0.7000000000000001,
            "bin_end": 0.8,
            "count": 0
           },
           {
            "bin_start": 0.8,
            "bin_end": 0.9,
            "count": 0
           },
           {
            "bin_start": 0.9,
            "bin_end": 1,
            "count": 0
           }
          ]
         }
        },
        {
         "name": "F_Livsløpsstandard",
         "dtype": "float64",
         "stats": {
          "unique_count": 0,
          "nan_count": 5,
          "min": null,
          "max": null,
          "histogram": [
           {
            "bin_start": 0,
            "bin_end": 0.1,
            "count": 0
           },
           {
            "bin_start": 0.1,
            "bin_end": 0.2,
            "count": 0
           },
           {
            "bin_start": 0.2,
            "bin_end": 0.30000000000000004,
            "count": 0
           },
           {
            "bin_start": 0.30000000000000004,
            "bin_end": 0.4,
            "count": 0
           },
           {
            "bin_start": 0.4,
            "bin_end": 0.5,
            "count": 0
           },
           {
            "bin_start": 0.5,
            "bin_end": 0.6000000000000001,
            "count": 0
           },
           {
            "bin_start": 0.6000000000000001,
            "bin_end": 0.7000000000000001,
            "count": 0
           },
           {
            "bin_start": 0.7000000000000001,
            "bin_end": 0.8,
            "count": 0
           },
           {
            "bin_start": 0.8,
            "bin_end": 0.9,
            "count": 0
           },
           {
            "bin_start": 0.9,
            "bin_end": 1,
            "count": 0
           }
          ]
         }
        },
        {
         "name": "F_Moderne",
         "dtype": "float64",
         "stats": {
          "unique_count": 1,
          "nan_count": 4,
          "min": "1.0",
          "max": "1.0",
          "histogram": [
           {
            "bin_start": 0.5,
            "bin_end": 0.6,
            "count": 0
           },
           {
            "bin_start": 0.6,
            "bin_end": 0.7,
            "count": 0
           },
           {
            "bin_start": 0.7,
            "bin_end": 0.8,
            "count": 0
           },
           {
            "bin_start": 0.8,
            "bin_end": 0.9,
            "count": 0
           },
           {
            "bin_start": 0.9,
            "bin_end": 1,
            "count": 0
           },
           {
            "bin_start": 1,
            "bin_end": 1.1,
            "count": 1
           },
           {
            "bin_start": 1.1,
            "bin_end": 1.2000000000000002,
            "count": 0
           },
           {
            "bin_start": 1.2000000000000002,
            "bin_end": 1.3,
            "count": 0
           },
           {
            "bin_start": 1.3,
            "bin_end": 1.4,
            "count": 0
           },
           {
            "bin_start": 1.4,
            "bin_end": 1.5,
            "count": 0
           }
          ]
         }
        },
        {
         "name": "F_Offentlig vannkloakk",
         "dtype": "float64",
         "stats": {
          "unique_count": 1,
          "nan_count": 2,
          "min": "1.0",
          "max": "1.0",
          "histogram": [
           {
            "bin_start": 0.5,
            "bin_end": 0.6,
            "count": 0
           },
           {
            "bin_start": 0.6,
            "bin_end": 0.7,
            "count": 0
           },
           {
            "bin_start": 0.7,
            "bin_end": 0.8,
            "count": 0
           },
           {
            "bin_start": 0.8,
            "bin_end": 0.9,
            "count": 0
           },
           {
            "bin_start": 0.9,
            "bin_end": 1,
            "count": 0
           },
           {
            "bin_start": 1,
            "bin_end": 1.1,
            "count": 3
           },
           {
            "bin_start": 1.1,
            "bin_end": 1.2000000000000002,
            "count": 0
           },
           {
            "bin_start": 1.2000000000000002,
            "bin_end": 1.3,
            "count": 0
           },
           {
            "bin_start": 1.3,
            "bin_end": 1.4,
            "count": 0
           },
           {
            "bin_start": 1.4,
            "bin_end": 1.5,
            "count": 0
           }
          ]
         }
        },
        {
         "name": "F_Parkett",
         "dtype": "float64",
         "stats": {
          "unique_count": 1,
          "nan_count": 3,
          "min": "1.0",
          "max": "1.0",
          "histogram": [
           {
            "bin_start": 0.5,
            "bin_end": 0.6,
            "count": 0
           },
           {
            "bin_start": 0.6,
            "bin_end": 0.7,
            "count": 0
           },
           {
            "bin_start": 0.7,
            "bin_end": 0.8,
            "count": 0
           },
           {
            "bin_start": 0.8,
            "bin_end": 0.9,
            "count": 0
           },
           {
            "bin_start": 0.9,
            "bin_end": 1,
            "count": 0
           },
           {
            "bin_start": 1,
            "bin_end": 1.1,
            "count": 2
           },
           {
            "bin_start": 1.1,
            "bin_end": 1.2000000000000002,
            "count": 0
           },
           {
            "bin_start": 1.2000000000000002,
            "bin_end": 1.3,
            "count": 0
           },
           {
            "bin_start": 1.3,
            "bin_end": 1.4,
            "count": 0
           },
           {
            "bin_start": 1.4,
            "bin_end": 1.5,
            "count": 0
           }
          ]
         }
        },
        {
         "name": "F_PeisIldsted",
         "dtype": "float64",
         "stats": {
          "unique_count": 1,
          "nan_count": 4,
          "min": "1.0",
          "max": "1.0",
          "histogram": [
           {
            "bin_start": 0.5,
            "bin_end": 0.6,
            "count": 0
           },
           {
            "bin_start": 0.6,
            "bin_end": 0.7,
            "count": 0
           },
           {
            "bin_start": 0.7,
            "bin_end": 0.8,
            "count": 0
           },
           {
            "bin_start": 0.8,
            "bin_end": 0.9,
            "count": 0
           },
           {
            "bin_start": 0.9,
            "bin_end": 1,
            "count": 0
           },
           {
            "bin_start": 1,
            "bin_end": 1.1,
            "count": 1
           },
           {
            "bin_start": 1.1,
            "bin_end": 1.2000000000000002,
            "count": 0
           },
           {
            "bin_start": 1.2000000000000002,
            "bin_end": 1.3,
            "count": 0
           },
           {
            "bin_start": 1.3,
            "bin_end": 1.4,
            "count": 0
           },
           {
            "bin_start": 1.4,
            "bin_end": 1.5,
            "count": 0
           }
          ]
         }
        },
        {
         "name": "F_Rolig",
         "dtype": "float64",
         "stats": {
          "unique_count": 1,
          "nan_count": 1,
          "min": "1.0",
          "max": "1.0",
          "histogram": [
           {
            "bin_start": 0.5,
            "bin_end": 0.6,
            "count": 0
           },
           {
            "bin_start": 0.6,
            "bin_end": 0.7,
            "count": 0
           },
           {
            "bin_start": 0.7,
            "bin_end": 0.8,
            "count": 0
           },
           {
            "bin_start": 0.8,
            "bin_end": 0.9,
            "count": 0
           },
           {
            "bin_start": 0.9,
            "bin_end": 1,
            "count": 0
           },
           {
            "bin_start": 1,
            "bin_end": 1.1,
            "count": 4
           },
           {
            "bin_start": 1.1,
            "bin_end": 1.2000000000000002,
            "count": 0
           },
           {
            "bin_start": 1.2000000000000002,
            "bin_end": 1.3,
            "count": 0
           },
           {
            "bin_start": 1.3,
            "bin_end": 1.4,
            "count": 0
           },
           {
            "bin_start": 1.4,
            "bin_end": 1.5,
            "count": 0
           }
          ]
         }
        },
        {
         "name": "F_Sentralt",
         "dtype": "float64",
         "stats": {
          "unique_count": 1,
          "nan_count": 3,
          "min": "1.0",
          "max": "1.0",
          "histogram": [
           {
            "bin_start": 0.5,
            "bin_end": 0.6,
            "count": 0
           },
           {
            "bin_start": 0.6,
            "bin_end": 0.7,
            "count": 0
           },
           {
            "bin_start": 0.7,
            "bin_end": 0.8,
            "count": 0
           },
           {
            "bin_start": 0.8,
            "bin_end": 0.9,
            "count": 0
           },
           {
            "bin_start": 0.9,
            "bin_end": 1,
            "count": 0
           },
           {
            "bin_start": 1,
            "bin_end": 1.1,
            "count": 2
           },
           {
            "bin_start": 1.1,
            "bin_end": 1.2000000000000002,
            "count": 0
           },
           {
            "bin_start": 1.2000000000000002,
            "bin_end": 1.3,
            "count": 0
           },
           {
            "bin_start": 1.3,
            "bin_end": 1.4,
            "count": 0
           },
           {
            "bin_start": 1.4,
            "bin_end": 1.5,
            "count": 0
           }
          ]
         }
        },
        {
         "name": "F_Utsikt",
         "dtype": "float64",
         "stats": {
          "unique_count": 1,
          "nan_count": 3,
          "min": "1.0",
          "max": "1.0",
          "histogram": [
           {
            "bin_start": 0.5,
            "bin_end": 0.6,
            "count": 0
           },
           {
            "bin_start": 0.6,
            "bin_end": 0.7,
            "count": 0
           },
           {
            "bin_start": 0.7,
            "bin_end": 0.8,
            "count": 0
           },
           {
            "bin_start": 0.8,
            "bin_end": 0.9,
            "count": 0
           },
           {
            "bin_start": 0.9,
            "bin_end": 1,
            "count": 0
           },
           {
            "bin_start": 1,
            "bin_end": 1.1,
            "count": 2
           },
           {
            "bin_start": 1.1,
            "bin_end": 1.2000000000000002,
            "count": 0
           },
           {
            "bin_start": 1.2000000000000002,
            "bin_end": 1.3,
            "count": 0
           },
           {
            "bin_start": 1.3,
            "bin_end": 1.4,
            "count": 0
           },
           {
            "bin_start": 1.4,
            "bin_end": 1.5,
            "count": 0
           }
          ]
         }
        },
        {
         "name": "F_Vaktmester-vektertjeneste",
         "dtype": "float64",
         "stats": {
          "unique_count": 1,
          "nan_count": 2,
          "min": "1.0",
          "max": "1.0",
          "histogram": [
           {
            "bin_start": 0.5,
            "bin_end": 0.6,
            "count": 0
           },
           {
            "bin_start": 0.6,
            "bin_end": 0.7,
            "count": 0
           },
           {
            "bin_start": 0.7,
            "bin_end": 0.8,
            "count": 0
           },
           {
            "bin_start": 0.8,
            "bin_end": 0.9,
            "count": 0
           },
           {
            "bin_start": 0.9,
            "bin_end": 1,
            "count": 0
           },
           {
            "bin_start": 1,
            "bin_end": 1.1,
            "count": 3
           },
           {
            "bin_start": 1.1,
            "bin_end": 1.2000000000000002,
            "count": 0
           },
           {
            "bin_start": 1.2000000000000002,
            "bin_end": 1.3,
            "count": 0
           },
           {
            "bin_start": 1.3,
            "bin_end": 1.4,
            "count": 0
           },
           {
            "bin_start": 1.4,
            "bin_end": 1.5,
            "count": 0
           }
          ]
         }
        },
        {
         "name": "F_Bademulighet",
         "dtype": "float64",
         "stats": {
          "unique_count": 0,
          "nan_count": 5,
          "min": null,
          "max": null,
          "histogram": [
           {
            "bin_start": 0,
            "bin_end": 0.1,
            "count": 0
           },
           {
            "bin_start": 0.1,
            "bin_end": 0.2,
            "count": 0
           },
           {
            "bin_start": 0.2,
            "bin_end": 0.30000000000000004,
            "count": 0
           },
           {
            "bin_start": 0.30000000000000004,
            "bin_end": 0.4,
            "count": 0
           },
           {
            "bin_start": 0.4,
            "bin_end": 0.5,
            "count": 0
           },
           {
            "bin_start": 0.5,
            "bin_end": 0.6000000000000001,
            "count": 0
           },
           {
            "bin_start": 0.6000000000000001,
            "bin_end": 0.7000000000000001,
            "count": 0
           },
           {
            "bin_start": 0.7000000000000001,
            "bin_end": 0.8,
            "count": 0
           },
           {
            "bin_start": 0.8,
            "bin_end": 0.9,
            "count": 0
           },
           {
            "bin_start": 0.9,
            "bin_end": 1,
            "count": 0
           }
          ]
         }
        },
        {
         "name": "F_Fiskemulighet",
         "dtype": "float64",
         "stats": {
          "unique_count": 0,
          "nan_count": 5,
          "min": null,
          "max": null,
          "histogram": [
           {
            "bin_start": 0,
            "bin_end": 0.1,
            "count": 0
           },
           {
            "bin_start": 0.1,
            "bin_end": 0.2,
            "count": 0
           },
           {
            "bin_start": 0.2,
            "bin_end": 0.30000000000000004,
            "count": 0
           },
           {
            "bin_start": 0.30000000000000004,
            "bin_end": 0.4,
            "count": 0
           },
           {
            "bin_start": 0.4,
            "bin_end": 0.5,
            "count": 0
           },
           {
            "bin_start": 0.5,
            "bin_end": 0.6000000000000001,
            "count": 0
           },
           {
            "bin_start": 0.6000000000000001,
            "bin_end": 0.7000000000000001,
            "count": 0
           },
           {
            "bin_start": 0.7000000000000001,
            "bin_end": 0.8,
            "count": 0
           },
           {
            "bin_start": 0.8,
            "bin_end": 0.9,
            "count": 0
           },
           {
            "bin_start": 0.9,
            "bin_end": 1,
            "count": 0
           }
          ]
         }
        },
        {
         "name": "F_Turterreng",
         "dtype": "float64",
         "stats": {
          "unique_count": 1,
          "nan_count": 3,
          "min": "1.0",
          "max": "1.0",
          "histogram": [
           {
            "bin_start": 0.5,
            "bin_end": 0.6,
            "count": 0
           },
           {
            "bin_start": 0.6,
            "bin_end": 0.7,
            "count": 0
           },
           {
            "bin_start": 0.7,
            "bin_end": 0.8,
            "count": 0
           },
           {
            "bin_start": 0.8,
            "bin_end": 0.9,
            "count": 0
           },
           {
            "bin_start": 0.9,
            "bin_end": 1,
            "count": 0
           },
           {
            "bin_start": 1,
            "bin_end": 1.1,
            "count": 2
           },
           {
            "bin_start": 1.1,
            "bin_end": 1.2000000000000002,
            "count": 0
           },
           {
            "bin_start": 1.2000000000000002,
            "bin_end": 1.3,
            "count": 0
           },
           {
            "bin_start": 1.3,
            "bin_end": 1.4,
            "count": 0
           },
           {
            "bin_start": 1.4,
            "bin_end": 1.5,
            "count": 0
           }
          ]
         }
        },
        {
         "name": "adtitle",
         "dtype": "object",
         "stats": {
          "unique_count": 5,
          "nan_count": 0,
          "categories": [
           {
            "name": "Oppussingsobjekt - Enebolig i kjede med skjermet beliggenhet - Vestvendt uteplass - Barnevennlig - 4 soverom - Peis",
            "count": 1
           },
           {
            "name": "Innbydende og lys 2-roms hjørneleilighet - Vestvendt terrasse mot hage - Parkeringsplass - Rekkehusfølelse",
            "count": 1
           },
           {
            "name": "3 others",
            "count": 3
           }
          ]
         }
        },
        {
         "name": "N_modernisering",
         "dtype": "bool",
         "stats": {
          "unique_count": 1,
          "nan_count": 0,
          "categories": [
           {
            "name": "False",
            "count": 5
           }
          ]
         }
        },
        {
         "name": "N_oppussing",
         "dtype": "bool",
         "stats": {
          "unique_count": 2,
          "nan_count": 0,
          "categories": [
           {
            "name": "False",
            "count": 4
           },
           {
            "name": "True",
            "count": 1
           }
          ]
         }
        },
        {
         "name": "N_regulert",
         "dtype": "bool",
         "stats": {
          "unique_count": 1,
          "nan_count": 0,
          "categories": [
           {
            "name": "False",
            "count": 5
           }
          ]
         }
        },
        {
         "name": "N_garasjemulighet",
         "dtype": "bool",
         "stats": {
          "unique_count": 1,
          "nan_count": 0,
          "categories": [
           {
            "name": "False",
            "count": 5
           }
          ]
         }
        },
        {
         "name": "postcode",
         "dtype": "int64",
         "stats": {
          "unique_count": 5,
          "nan_count": 0,
          "min": "283",
          "max": "1184",
          "histogram": [
           {
            "bin_start": 283,
            "bin_end": 373.1,
            "count": 1
           },
           {
            "bin_start": 373.1,
            "bin_end": 463.2,
            "count": 0
           },
           {
            "bin_start": 463.2,
            "bin_end": 553.3,
            "count": 0
           },
           {
            "bin_start": 553.3,
            "bin_end": 643.4,
            "count": 0
           },
           {
            "bin_start": 643.4,
            "bin_end": 733.5,
            "count": 1
           },
           {
            "bin_start": 733.5,
            "bin_end": 823.5999999999999,
            "count": 0
           },
           {
            "bin_start": 823.5999999999999,
            "bin_end": 913.6999999999999,
            "count": 0
           },
           {
            "bin_start": 913.6999999999999,
            "bin_end": 1003.8,
            "count": 0
           },
           {
            "bin_start": 1003.8,
            "bin_end": 1093.9,
            "count": 1
           },
           {
            "bin_start": 1093.9,
            "bin_end": 1184,
            "count": 2
           }
          ]
         }
        },
        {
         "name": "Parking",
         "dtype": "int64",
         "stats": {
          "unique_count": 2,
          "nan_count": 0,
          "min": "0",
          "max": "1",
          "histogram": [
           {
            "bin_start": 0,
            "bin_end": 0.1,
            "count": 2
           },
           {
            "bin_start": 0.1,
            "bin_end": 0.2,
            "count": 0
           },
           {
            "bin_start": 0.2,
            "bin_end": 0.30000000000000004,
            "count": 0
           },
           {
            "bin_start": 0.30000000000000004,
            "bin_end": 0.4,
            "count": 0
           },
           {
            "bin_start": 0.4,
            "bin_end": 0.5,
            "count": 0
           },
           {
            "bin_start": 0.5,
            "bin_end": 0.6000000000000001,
            "count": 0
           },
           {
            "bin_start": 0.6000000000000001,
            "bin_end": 0.7000000000000001,
            "count": 0
           },
           {
            "bin_start": 0.7000000000000001,
            "bin_end": 0.8,
            "count": 0
           },
           {
            "bin_start": 0.8,
            "bin_end": 0.9,
            "count": 0
           },
           {
            "bin_start": 0.9,
            "bin_end": 1,
            "count": 3
           }
          ]
         }
        },
        {
         "name": "price_inc_debt",
         "dtype": "float64",
         "stats": {
          "unique_count": 5,
          "nan_count": 0,
          "min": "1678207.0",
          "max": "9900000.0",
          "histogram": [
           {
            "bin_start": 1678207,
            "bin_end": 2500386.3,
            "count": 1
           },
           {
            "bin_start": 2500386.3,
            "bin_end": 3322565.6,
            "count": 0
           },
           {
            "bin_start": 3322565.6,
            "bin_end": 4144744.9000000004,
            "count": 1
           },
           {
            "bin_start": 4144744.9000000004,
            "bin_end": 4966924.2,
            "count": 0
           },
           {
            "bin_start": 4966924.2,
            "bin_end": 5789103.5,
            "count": 2
           },
           {
            "bin_start": 5789103.5,
            "bin_end": 6611282.800000001,
            "count": 0
           },
           {
            "bin_start": 6611282.800000001,
            "bin_end": 7433462.100000001,
            "count": 0
           },
           {
            "bin_start": 7433462.100000001,
            "bin_end": 8255641.4,
            "count": 0
           },
           {
            "bin_start": 8255641.4,
            "bin_end": 9077820.7,
            "count": 0
           },
           {
            "bin_start": 9077820.7,
            "bin_end": 9900000,
            "count": 1
           }
          ]
         }
        },
        {
         "name": "area_id",
         "dtype": "int64",
         "stats": {
          "unique_count": 4,
          "nan_count": 0,
          "min": "1",
          "max": "14",
          "histogram": [
           {
            "bin_start": 1,
            "bin_end": 2.3,
            "count": 1
           },
           {
            "bin_start": 2.3,
            "bin_end": 3.6,
            "count": 0
           },
           {
            "bin_start": 3.6,
            "bin_end": 4.9,
            "count": 0
           },
           {
            "bin_start": 4.9,
            "bin_end": 6.2,
            "count": 1
           },
           {
            "bin_start": 6.2,
            "bin_end": 7.5,
            "count": 0
           },
           {
            "bin_start": 7.5,
            "bin_end": 8.8,
            "count": 0
           },
           {
            "bin_start": 8.8,
            "bin_end": 10.1,
            "count": 0
           },
           {
            "bin_start": 10.1,
            "bin_end": 11.4,
            "count": 0
           },
           {
            "bin_start": 11.4,
            "bin_end": 12.700000000000001,
            "count": 1
           },
           {
            "bin_start": 12.700000000000001,
            "bin_end": 14,
            "count": 2
           }
          ]
         }
        },
        {
         "name": "_deepnote_index_column",
         "dtype": "int64"
        }
       ],
       "rows": [
        {
         "documentDate": "2021-12-02",
         "picturedate": "2021/8",
         "lastchanged": "2021-08-01",
         "adcreated": "2021-07-27",
         "price": 9900000,
         "listprice": 8750000,
         "lat": 59.879,
         "lng": 10.7993,
         "address": "Ringshusveien 8B, 1176 Oslo",
         "apartmentnumber": "H0101",
         "apartmenttype": "B",
         "conveyancetype": "Fritt salg",
         "finncode": 226217549,
         "BRA": 126,
         "PROM": 115,
         "buildyear": 1970,
         "matrikkel": "301-158-751-0",
         "bedrooms": 4,
         "rooms": 5,
         "bathrooms": 1,
         "WC": 2,
         "elevator": "N",
         "floor": 1,
         "housingtype": "Enebolig",
         "commondebt": "nan",
         "commoncosts": "nan",
         "F_Aircondition": "nan",
         "F_Alarm": "nan",
         "F_BalkongTerrasse": 1,
         "F_Barnevennlig": 1,
         "F_Bredbåndstilknytning": "nan",
         "F_Fellesvaskeri": "nan",
         "F_GarasjeP-plass": 1,
         "F_Heis": "nan",
         "F_Ingen gjenboere": "nan",
         "F_Lademulighet": "nan",
         "F_Livsløpsstandard": "nan",
         "F_Moderne": "nan",
         "F_Offentlig vannkloakk": "nan",
         "F_Parkett": "nan",
         "F_PeisIldsted": 1,
         "F_Rolig": 1,
         "F_Sentralt": "nan",
         "F_Utsikt": "nan",
         "F_Vaktmester-vektertjeneste": "nan",
         "F_Bademulighet": "nan",
         "F_Fiskemulighet": "nan",
         "F_Turterreng": 1,
         "adtitle": "Oppussingsobjekt - Enebolig i kjede med skjermet beliggenhet - Vestvendt uteplass - Barnevennlig - …",
         "N_modernisering": false,
         "N_oppussing": true,
         "N_regulert": false,
         "N_garasjemulighet": false,
         "postcode": 1176,
         "Parking": 1,
         "price_inc_debt": 9900000,
         "area_id": 14,
         "_deepnote_index_column": 2
        },
        {
         "documentDate": "2020-09-29",
         "picturedate": "2020/8",
         "lastchanged": "2020-12-14",
         "adcreated": "2020-08-25",
         "price": 3900000,
         "listprice": 3650000,
         "lat": 59.9189,
         "lng": 10.6479,
         "address": "Skogbrynet 16D, 0283 Oslo",
         "apartmentnumber": "U0101",
         "apartmenttype": "B",
         "conveyancetype": "Fritt salg",
         "finncode": 188594072,
         "BRA": 56,
         "PROM": 56,
         "buildyear": 1977,
         "matrikkel": "301-9-38-14",
         "bedrooms": 1,
         "rooms": 2,
         "bathrooms": 1,
         "WC": 1,
         "elevator": "N",
         "floor": 1,
         "housingtype": "Leilighet",
         "commondebt": 44838,
         "commoncosts": 3062,
         "F_Aircondition": "nan",
         "F_Alarm": "nan",
         "F_BalkongTerrasse": 1,
         "F_Barnevennlig": 1,
         "F_Bredbåndstilknytning": 1,
         "F_Fellesvaskeri": "nan",
         "F_GarasjeP-plass": 1,
         "F_Heis": "nan",
         "F_Ingen gjenboere": 1,
         "F_Lademulighet": "nan",
         "F_Livsløpsstandard": "nan",
         "F_Moderne": "nan",
         "F_Offentlig vannkloakk": 1,
         "F_Parkett": 1,
         "F_PeisIldsted": "nan",
         "F_Rolig": 1,
         "F_Sentralt": 1,
         "F_Utsikt": "nan",
         "F_Vaktmester-vektertjeneste": 1,
         "F_Bademulighet": "nan",
         "F_Fiskemulighet": "nan",
         "F_Turterreng": 1,
         "adtitle": "Innbydende og lys 2-roms hjørneleilighet - Vestvendt terrasse mot hage - Parkeringsplass - Rekkehus…",
         "N_modernisering": false,
         "N_oppussing": false,
         "N_regulert": false,
         "N_garasjemulighet": false,
         "postcode": 283,
         "Parking": 1,
         "price_inc_debt": 3944838,
         "area_id": 6,
         "_deepnote_index_column": 1
        },
        {
         "documentDate": "2020-09-25",
         "picturedate": "2020/7",
         "lastchanged": "2020-08-07",
         "adcreated": "2020-08-03",
         "price": 5150000,
         "listprice": 4650000,
         "lat": 59.91303,
         "lng": 10.776672,
         "address": "Hagegata 41, 0653 Oslo",
         "apartmentnumber": "H0703",
         "apartmenttype": "B",
         "conveyancetype": "Fritt salg",
         "finncode": 186196629,
         "BRA": 55,
         "PROM": 54,
         "buildyear": 1990,
         "matrikkel": "301-231-166-37",
         "bedrooms": 1,
         "rooms": "nan",
         "bathrooms": 1,
         "WC": 1,
         "elevator": "J",
         "floor": 6,
         "housingtype": "Leilighet",
         "commondebt": "nan",
         "commoncosts": 3127,
         "F_Aircondition": "nan",
         "F_Alarm": "nan",
         "F_BalkongTerrasse": 1,
         "F_Barnevennlig": 1,
         "F_Bredbåndstilknytning": 1,
         "F_Fellesvaskeri": "nan",
         "F_GarasjeP-plass": 1,
         "F_Heis": 1,
         "F_Ingen gjenboere": 1,
         "F_Lademulighet": "nan",
         "F_Livsløpsstandard": "nan",
         "F_Moderne": 1,
         "F_Offentlig vannkloakk": 1,
         "F_Parkett": "nan",
         "F_PeisIldsted": "nan",
         "F_Rolig": 1,
         "F_Sentralt": 1,
         "F_Utsikt": 1,
         "F_Vaktmester-vektertjeneste": 1,
         "F_Bademulighet": "nan",
         "F_Fiskemulighet": "nan",
         "F_Turterreng": "nan",
         "adtitle": "VISNING AVLYST! Direkte bud til selger. Toppleilighet med stor, solrik takterrasse (14 kvm) - Ingen…",
         "N_modernisering": false,
         "N_oppussing": false,
         "N_regulert": false,
         "N_garasjemulighet": false,
         "postcode": 653,
         "Parking": 1,
         "price_inc_debt": 5150000,
         "area_id": 1,
         "_deepnote_index_column": 0
        },
        {
         "documentDate": "2012-10-24",
         "picturedate": "2012/6",
         "lastchanged": "2012-06-15",
         "adcreated": "2012-06-01",
         "price": 5760000,
         "listprice": 5490000,
         "lat": 59.944653,
         "lng": 10.888134,
         "address": "Micheletveien 20, 1053 Oslo",
         "apartmentnumber": "U0102",
         "apartmenttype": "B",
         "conveyancetype": "Fritt salg",
         "finncode": 35251134,
         "BRA": 249,
         "PROM": 242,
         "buildyear": 1977,
         "matrikkel": "301-105-334-0",
         "bedrooms": 5,
         "rooms": 10,
         "bathrooms": 1,
         "WC": 1,
         "elevator": "N",
         "floor": "nan",
         "housingtype": "Enebolig",
         "commondebt": "nan",
         "commoncosts": "nan",
         "F_Aircondition": "nan",
         "F_Alarm": "nan",
         "F_BalkongTerrasse": "nan",
         "F_Barnevennlig": "nan",
         "F_Bredbåndstilknytning": "nan",
         "F_Fellesvaskeri": "nan",
         "F_GarasjeP-plass": "nan",
         "F_Heis": "nan",
         "F_Ingen gjenboere": "nan",
         "F_Lademulighet": "nan",
         "F_Livsløpsstandard": "nan",
         "F_Moderne": "nan",
         "F_Offentlig vannkloakk": "nan",
         "F_Parkett": "nan",
         "F_PeisIldsted": "nan",
         "F_Rolig": "nan",
         "F_Sentralt": "nan",
         "F_Utsikt": "nan",
         "F_Vaktmester-vektertjeneste": "nan",
         "F_Bademulighet": "nan",
         "F_Fiskemulighet": "nan",
         "F_Turterreng": "nan",
         "adtitle": "GAMLE FURUSET - Velholdt og romslig enebolig med sokkelleilighet - Dobbeltgarasje - Tomt på 1.140m2…",
         "N_modernisering": false,
         "N_oppussing": false,
         "N_regulert": false,
         "N_garasjemulighet": false,
         "postcode": 1053,
         "Parking": 0,
         "price_inc_debt": 5760000,
         "area_id": 12,
         "_deepnote_index_column": 4
        },
        {
         "documentDate": "2009-11-12",
         "picturedate": "4/186",
         "lastchanged": "2009-09-05",
         "adcreated": "2009-08-24",
         "price": 1660000,
         "listprice": 1680000,
         "lat": 59.88769,
         "lng": 10.802634,
         "address": "Libakkfaret 1 A, 1184 Oslo",
         "apartmentnumber": "H0302",
         "apartmenttype": "B",
         "conveyancetype": "Fritt salg",
         "finncode": 18679054,
         "BRA": "nan",
         "PROM": 66,
         "buildyear": 1954,
         "matrikkel": "301-149-433-102",
         "bedrooms": 2,
         "rooms": "nan",
         "bathrooms": 1,
         "WC": 1,
         "elevator": "N",
         "floor": 3,
         "housingtype": "Leilighet",
         "commondebt": 18207,
         "commoncosts": 2866,
         "F_Aircondition": "nan",
         "F_Alarm": "nan",
         "F_BalkongTerrasse": 1,
         "F_Barnevennlig": 1,
         "F_Bredbåndstilknytning": "nan",
         "F_Fellesvaskeri": "nan",
         "F_GarasjeP-plass": "nan",
         "F_Heis": "nan",
         "F_Ingen gjenboere": 1,
         "F_Lademulighet": "nan",
         "F_Livsløpsstandard": "nan",
         "F_Moderne": "nan",
         "F_Offentlig vannkloakk": 1,
         "F_Parkett": 1,
         "F_PeisIldsted": "nan",
         "F_Rolig": 1,
         "F_Sentralt": "nan",
         "F_Utsikt": 1,
         "F_Vaktmester-vektertjeneste": 1,
         "F_Bademulighet": "nan",
         "F_Fiskemulighet": "nan",
         "F_Turterreng": "nan",
         "adtitle": "BRATTLIKOLLEN - Lys og gjennomgående 3-roms selveier - Endeleilighet - Balkong - Sentralt - Ingen f…",
         "N_modernisering": false,
         "N_oppussing": false,
         "N_regulert": false,
         "N_garasjemulighet": false,
         "postcode": 1184,
         "Parking": 0,
         "price_inc_debt": 1678207,
         "area_id": 14,
         "_deepnote_index_column": 3
        }
       ]
      },
      "text/plain": "  documentDate picturedate lastchanged   adcreated    price  listprice  \\\n0   2020-09-25      2020/7  2020-08-07  2020-08-03  5150000  4650000.0   \n1   2020-09-29      2020/8  2020-12-14  2020-08-25  3900000  3650000.0   \n2   2021-12-02      2021/8  2021-08-01  2021-07-27  9900000  8750000.0   \n3   2009-11-12       4/186  2009-09-05  2009-08-24  1660000  1680000.0   \n4   2012-10-24      2012/6  2012-06-15  2012-06-01  5760000  5490000.0   \n\n         lat        lng                      address apartmentnumber  ...  \\\n0  59.913030  10.776672       Hagegata 41, 0653 Oslo           H0703  ...   \n1  59.918900  10.647900    Skogbrynet 16D, 0283 Oslo           U0101  ...   \n2  59.879000  10.799300  Ringshusveien 8B, 1176 Oslo           H0101  ...   \n3  59.887690  10.802634   Libakkfaret 1 A, 1184 Oslo           H0302  ...   \n4  59.944653  10.888134  Micheletveien 20, 1053 Oslo           U0102  ...   \n\n  F_Turterreng                                            adtitle  \\\n0          NaN  VISNING AVLYST! Direkte bud til selger. Topple...   \n1          1.0  Innbydende og lys 2-roms hjørneleilighet - Ves...   \n2          1.0  Oppussingsobjekt - Enebolig i kjede med skjerm...   \n3          NaN  BRATTLIKOLLEN - Lys og gjennomgående 3-roms se...   \n4          NaN  GAMLE FURUSET - Velholdt og romslig enebolig m...   \n\n   N_modernisering  N_oppussing  N_regulert  N_garasjemulighet postcode  \\\n0            False        False       False              False      653   \n1            False        False       False              False      283   \n2            False         True       False              False     1176   \n3            False        False       False              False     1184   \n4            False        False       False              False     1053   \n\n   Parking  price_inc_debt  area_id  \n0        1       5150000.0        1  \n1        1       3944838.0        6  \n2        1       9900000.0       14  \n3        0       1678207.0       14  \n4        0       5760000.0       12  \n\n[5 rows x 57 columns]",
      "text/html": "<div>\n<style scoped>\n    .dataframe tbody tr th:only-of-type {\n        vertical-align: middle;\n    }\n\n    .dataframe tbody tr th {\n        vertical-align: top;\n    }\n\n    .dataframe thead th {\n        text-align: right;\n    }\n</style>\n<table border=\"1\" class=\"dataframe\">\n  <thead>\n    <tr style=\"text-align: right;\">\n      <th></th>\n      <th>documentDate</th>\n      <th>picturedate</th>\n      <th>lastchanged</th>\n      <th>adcreated</th>\n      <th>price</th>\n      <th>listprice</th>\n      <th>lat</th>\n      <th>lng</th>\n      <th>address</th>\n      <th>apartmentnumber</th>\n      <th>...</th>\n      <th>F_Turterreng</th>\n      <th>adtitle</th>\n      <th>N_modernisering</th>\n      <th>N_oppussing</th>\n      <th>N_regulert</th>\n      <th>N_garasjemulighet</th>\n      <th>postcode</th>\n      <th>Parking</th>\n      <th>price_inc_debt</th>\n      <th>area_id</th>\n    </tr>\n  </thead>\n  <tbody>\n    <tr>\n      <th>0</th>\n      <td>2020-09-25</td>\n      <td>2020/7</td>\n      <td>2020-08-07</td>\n      <td>2020-08-03</td>\n      <td>5150000</td>\n      <td>4650000.0</td>\n      <td>59.913030</td>\n      <td>10.776672</td>\n      <td>Hagegata 41, 0653 Oslo</td>\n      <td>H0703</td>\n      <td>...</td>\n      <td>NaN</td>\n      <td>VISNING AVLYST! Direkte bud til selger. Topple...</td>\n      <td>False</td>\n      <td>False</td>\n      <td>False</td>\n      <td>False</td>\n      <td>653</td>\n      <td>1</td>\n      <td>5150000.0</td>\n      <td>1</td>\n    </tr>\n    <tr>\n      <th>1</th>\n      <td>2020-09-29</td>\n      <td>2020/8</td>\n      <td>2020-12-14</td>\n      <td>2020-08-25</td>\n      <td>3900000</td>\n      <td>3650000.0</td>\n      <td>59.918900</td>\n      <td>10.647900</td>\n      <td>Skogbrynet 16D, 0283 Oslo</td>\n      <td>U0101</td>\n      <td>...</td>\n      <td>1.0</td>\n      <td>Innbydende og lys 2-roms hjørneleilighet - Ves...</td>\n      <td>False</td>\n      <td>False</td>\n      <td>False</td>\n      <td>False</td>\n      <td>283</td>\n      <td>1</td>\n      <td>3944838.0</td>\n      <td>6</td>\n    </tr>\n    <tr>\n      <th>2</th>\n      <td>2021-12-02</td>\n      <td>2021/8</td>\n      <td>2021-08-01</td>\n      <td>2021-07-27</td>\n      <td>9900000</td>\n      <td>8750000.0</td>\n      <td>59.879000</td>\n      <td>10.799300</td>\n      <td>Ringshusveien 8B, 1176 Oslo</td>\n      <td>H0101</td>\n      <td>...</td>\n      <td>1.0</td>\n      <td>Oppussingsobjekt - Enebolig i kjede med skjerm...</td>\n      <td>False</td>\n      <td>True</td>\n      <td>False</td>\n      <td>False</td>\n      <td>1176</td>\n      <td>1</td>\n      <td>9900000.0</td>\n      <td>14</td>\n    </tr>\n    <tr>\n      <th>3</th>\n      <td>2009-11-12</td>\n      <td>4/186</td>\n      <td>2009-09-05</td>\n      <td>2009-08-24</td>\n      <td>1660000</td>\n      <td>1680000.0</td>\n      <td>59.887690</td>\n      <td>10.802634</td>\n      <td>Libakkfaret 1 A, 1184 Oslo</td>\n      <td>H0302</td>\n      <td>...</td>\n      <td>NaN</td>\n      <td>BRATTLIKOLLEN - Lys og gjennomgående 3-roms se...</td>\n      <td>False</td>\n      <td>False</td>\n      <td>False</td>\n      <td>False</td>\n      <td>1184</td>\n      <td>0</td>\n      <td>1678207.0</td>\n      <td>14</td>\n    </tr>\n    <tr>\n      <th>4</th>\n      <td>2012-10-24</td>\n      <td>2012/6</td>\n      <td>2012-06-15</td>\n      <td>2012-06-01</td>\n      <td>5760000</td>\n      <td>5490000.0</td>\n      <td>59.944653</td>\n      <td>10.888134</td>\n      <td>Micheletveien 20, 1053 Oslo</td>\n      <td>U0102</td>\n      <td>...</td>\n      <td>NaN</td>\n      <td>GAMLE FURUSET - Velholdt og romslig enebolig m...</td>\n      <td>False</td>\n      <td>False</td>\n      <td>False</td>\n      <td>False</td>\n      <td>1053</td>\n      <td>0</td>\n      <td>5760000.0</td>\n      <td>12</td>\n    </tr>\n  </tbody>\n</table>\n<p>5 rows × 57 columns</p>\n</div>"
     },
     "metadata": {}
    }
   ]
  },
  {
   "cell_type": "code",
   "metadata": {
    "cell_id": "00002-b418a789-a747-4f9e-a266-d09143aad12b",
    "deepnote_to_be_reexecuted": false,
    "source_hash": "2517bc9f",
    "execution_start": 1644227247485,
    "execution_millis": 346939075,
    "deepnote_cell_type": "code"
   },
   "source": "# Printer litt info om datasettet\nprint(f\"Antall rader i datasettet: {len(df)}\")\nprint(f\"Antall kolonner i datasettet: {len(df.columns)}\")\nprint()\nprint(df.columns)",
   "execution_count": null,
   "outputs": [
    {
     "name": "stdout",
     "text": "Antall rader i datasettet: 181250\nAntall kolonner i datasettet: 57\n\nIndex(['documentDate', 'picturedate', 'lastchanged', 'adcreated', 'price',\n       'listprice', 'lat', 'lng', 'address', 'apartmentnumber',\n       'apartmenttype', 'conveyancetype', 'finncode', 'BRA', 'PROM',\n       'buildyear', 'matrikkel', 'bedrooms', 'rooms', 'bathrooms', 'WC',\n       'elevator', 'floor', 'housingtype', 'commondebt', 'commoncosts',\n       'F_Aircondition', 'F_Alarm', 'F_BalkongTerrasse', 'F_Barnevennlig',\n       'F_Bredbåndstilknytning', 'F_Fellesvaskeri', 'F_GarasjeP-plass',\n       'F_Heis', 'F_Ingen gjenboere', 'F_Lademulighet', 'F_Livsløpsstandard',\n       'F_Moderne', 'F_Offentlig vannkloakk', 'F_Parkett', 'F_PeisIldsted',\n       'F_Rolig', 'F_Sentralt', 'F_Utsikt', 'F_Vaktmester-vektertjeneste',\n       'F_Bademulighet', 'F_Fiskemulighet', 'F_Turterreng', 'adtitle',\n       'N_modernisering', 'N_oppussing', 'N_regulert', 'N_garasjemulighet',\n       'postcode', 'Parking', 'price_inc_debt', 'area_id'],\n      dtype='object')\n",
     "output_type": "stream"
    }
   ]
  },
  {
   "cell_type": "code",
   "metadata": {
    "cell_id": "e6fa94fe-ad20-4d55-83db-e14a1dd364ee",
    "tags": [],
    "deepnote_to_be_reexecuted": false,
    "source_hash": "6a761762",
    "execution_start": 1644227247513,
    "execution_millis": 346939011,
    "deepnote_cell_type": "code"
   },
   "source": "#df.info()\n#df.describe()",
   "execution_count": null,
   "outputs": []
  },
  {
   "cell_type": "code",
   "metadata": {
    "cell_id": "00003-a0f671d3-600f-45e7-a9ef-bbca9f2f0e40",
    "deepnote_output_heights": [
     611
    ],
    "deepnote_to_be_reexecuted": false,
    "source_hash": "b4b71d30",
    "execution_start": 1644227247514,
    "execution_millis": 75,
    "deepnote_cell_type": "code"
   },
   "source": "# Sjekker null-verdier\ndf.isnull().sum()",
   "execution_count": null,
   "outputs": [
    {
     "output_type": "execute_result",
     "execution_count": 6,
     "data": {
      "text/plain": "documentDate                        0\npicturedate                       257\nlastchanged                         0\nadcreated                           0\nprice                               0\nlistprice                           0\nlat                              1568\nlng                              1568\naddress                             0\napartmentnumber                   822\napartmenttype                     792\nconveyancetype                      0\nfinncode                            0\nBRA                              3273\nPROM                                0\nbuildyear                         925\nmatrikkel                           0\nbedrooms                         9385\nrooms                           51910\nbathrooms                           0\nWC                                  0\nelevator                          792\nfloor                           37977\nhousingtype                         0\ncommondebt                      58689\ncommoncosts                     15759\nF_Aircondition                 178173\nF_Alarm                        175171\nF_BalkongTerrasse               60920\nF_Barnevennlig                  72380\nF_Bredbåndstilknytning          80143\nF_Fellesvaskeri                148196\nF_GarasjeP-plass               108973\nF_Heis                         129931\nF_Ingen gjenboere              132973\nF_Lademulighet                 173472\nF_Livsløpsstandard             176498\nF_Moderne                      136234\nF_Offentlig vannkloakk          98042\nF_Parkett                       82952\nF_PeisIldsted                  128068\nF_Rolig                         76928\nF_Sentralt                      81605\nF_Utsikt                       119962\nF_Vaktmester-vektertjeneste    117235\nF_Bademulighet                 172852\nF_Fiskemulighet                178556\nF_Turterreng                   100291\nadtitle                             0\nN_modernisering                     0\nN_oppussing                         0\nN_regulert                          0\nN_garasjemulighet                   0\npostcode                            0\nParking                             0\nprice_inc_debt                      0\narea_id                             0\ndtype: int64"
     },
     "metadata": {}
    }
   ]
  },
  {
   "cell_type": "markdown",
   "source": "Som vi kan se så finnes det null-verdier for flere av variablene. Dette er helt vanlig i større datasett og er et problem vi må gjøre noe med. Alle null-verdiene for variabler som starter med F_ (fasteliteter), vil bli kodet om til 0, da dette er dummy-variabler med 0 og 1 som verdi. Videre ser vi at rom og etasje er de to variablene med flest null-verdier (henholdsvis 51 910 og 37 977). Det finnes også et høyt antall null-verider for fellesgjeld og felleskostnader, men dette er knyttet til eneboliger og rekkehus hvor man ikke har disse kostnadene.",
   "metadata": {
    "cell_id": "f2e7051f-28fb-49d3-8fa9-bb9cfbd8b95f",
    "tags": [],
    "deepnote_cell_type": "markdown"
   }
  },
  {
   "cell_type": "code",
   "metadata": {
    "cell_id": "2859dd53-6650-4867-b900-f402a7f53849",
    "tags": [],
    "deepnote_to_be_reexecuted": false,
    "source_hash": "ff0d33f4",
    "execution_start": 1644230358904,
    "execution_millis": 115,
    "deepnote_output_heights": [
     290
    ],
    "deepnote_cell_type": "code"
   },
   "source": "df['housingtype'].value_counts()",
   "execution_count": null,
   "outputs": [
    {
     "output_type": "execute_result",
     "execution_count": 47,
     "data": {
      "text/plain": "Leilighet                157773\nEnebolig                  10180\nRekkehus                   7491\nTomannsbolig               5637\nAndre                        66\nTomter                       55\nBygård/Flermannsbolig        29\nAnnet fritid                  6\nGarasje/Parkering             5\nGårdsbruk/Småbruk             2\nwarehouse                     1\nbusiness                      1\nmultipurposearea              1\nKontor                        1\nName: housingtype, dtype: int64"
     },
     "metadata": {}
    }
   ]
  },
  {
   "cell_type": "markdown",
   "source": "Vi starter med å se hvordan fordelingen av de ulike boligformene er i datasettet, og observerer at 87% av datapunktene i datasetter er leiligheter. I bydelene som er nærmest sentrum ligger",
   "metadata": {
    "cell_id": "3869877f-47ee-4671-a78b-0a615c54ecac",
    "tags": [],
    "deepnote_cell_type": "markdown"
   }
  },
  {
   "cell_type": "code",
   "metadata": {
    "cell_id": "646d8cb5-5cb5-407c-9256-dde607d6ead0",
    "tags": [],
    "deepnote_cell_type": "code"
   },
   "source": "",
   "execution_count": null,
   "outputs": []
  },
  {
   "cell_type": "code",
   "metadata": {
    "cell_id": "0d02a98e-f319-48dd-9fb8-1bbbb19a3b1b",
    "tags": [],
    "deepnote_cell_type": "code"
   },
   "source": "",
   "execution_count": null,
   "outputs": []
  },
  {
   "cell_type": "code",
   "metadata": {
    "cell_id": "7c2c4675-2241-49a6-8539-04cf71dc8779",
    "tags": [],
    "deepnote_cell_type": "code"
   },
   "source": "",
   "execution_count": null,
   "outputs": []
  },
  {
   "cell_type": "code",
   "metadata": {
    "cell_id": "6c3e7fb6-62d1-4cce-9b8f-3f26b99cbf47",
    "tags": [],
    "deepnote_cell_type": "code"
   },
   "source": "",
   "execution_count": null,
   "outputs": []
  },
  {
   "cell_type": "code",
   "metadata": {
    "cell_id": "9223601c-d93c-4f50-bf99-02191fc3751d",
    "tags": [],
    "deepnote_cell_type": "code"
   },
   "source": "",
   "execution_count": null,
   "outputs": []
  },
  {
   "cell_type": "code",
   "metadata": {
    "cell_id": "8859a97e-30ac-40fb-9188-d5199dcda0b5",
    "tags": [],
    "deepnote_cell_type": "code"
   },
   "source": "",
   "execution_count": null,
   "outputs": []
  },
  {
   "cell_type": "code",
   "metadata": {
    "cell_id": "c66a5199-1b48-425d-ae92-6e7a79b9f730",
    "tags": [],
    "deepnote_cell_type": "code"
   },
   "source": "",
   "execution_count": null,
   "outputs": []
  },
  {
   "cell_type": "markdown",
   "source": "Det første vi skal gjøre er å gå gjennom variablene for å få en oversikt over hvordan dataen er og hvilke variabler vi må gjøre noe med. Vi starter med lengde og breddegrad (lat,lng).",
   "metadata": {
    "cell_id": "842afa34-2e58-4886-b8f4-11f989e24c8d",
    "tags": [],
    "deepnote_cell_type": "markdown"
   }
  },
  {
   "cell_type": "code",
   "metadata": {
    "cell_id": "00004-574501ab-56fe-46ff-92ba-8517bd05eadb",
    "deepnote_output_heights": [
     null,
     232
    ],
    "deepnote_to_be_reexecuted": false,
    "source_hash": "f617aa34",
    "execution_start": 1644227247583,
    "execution_millis": 628,
    "deepnote_cell_type": "code"
   },
   "source": "#Printer litt info om lat/lng variablene, samt histogram.\nprint(df[[\"lat\",\"lng\"]].describe())\ndf[['lat',\"lng\"]].hist(bins=20,figsize=(16,4))\nplt.show()",
   "execution_count": null,
   "outputs": [
    {
     "name": "stdout",
     "text": "                 lat            lng\ncount  179682.000000  179682.000000\nmean       59.921185      10.777217\nstd         0.166531       0.132330\nmin        10.684200       5.372300\n25%        59.912300      10.740151\n50%        59.925990      10.773260\n75%        59.938960      10.814118\nmax        60.360400      59.947437\n",
     "output_type": "stream"
    },
    {
     "data": {
      "text/plain": "<Figure size 1152x288 with 2 Axes>",
      "image/png": "[encoded data removed]"
     },
     "metadata": {
      "needs_background": "light",
      "image/png": {
       "width": 952,
       "height": 264
      }
     },
     "output_type": "display_data"
    }
   ]
  },
  {
   "cell_type": "code",
   "metadata": {
    "cell_id": "680b6157-9047-4607-aa0c-547dd85a166b",
    "tags": [],
    "deepnote_to_be_reexecuted": false,
    "source_hash": "930cdf7e",
    "execution_start": 1644227248218,
    "execution_millis": 19,
    "deepnote_output_heights": [
     21
    ],
    "deepnote_cell_type": "code"
   },
   "source": "#Printer alle variabler med 8 < lng < 12\nprint(df.loc[df['lng']>=12, ['lng','lat']])\nprint(df.loc[df['lng']<=8, ['lng','lat']])",
   "execution_count": null,
   "outputs": [
    {
     "name": "stdout",
     "text": "             lng        lat\n26325  59.947437  10.785965\n          lng      lat\n56426  5.3723  60.3604\n",
     "output_type": "stream"
    }
   ]
  },
  {
   "cell_type": "code",
   "metadata": {
    "cell_id": "7c1a3811-14a5-46bf-8f4b-36f00fbc10f7",
    "tags": [],
    "deepnote_to_be_reexecuted": false,
    "source_hash": "bf05902a",
    "execution_start": 1644227248253,
    "execution_millis": 13,
    "deepnote_cell_type": "code"
   },
   "source": "#Printer alle variabler med 58 < lat < 62\nprint(df.loc[df['lat']>=62, ['lng','lat']])\nprint(df.loc[df['lat']<=58, ['lng','lat']])",
   "execution_count": null,
   "outputs": [
    {
     "name": "stdout",
     "text": "Empty DataFrame\nColumns: [lng, lat]\nIndex: []\n              lng        lat\n26325   59.947437  10.785965\n141115  10.684200  10.684200\n",
     "output_type": "stream"
    }
   ]
  },
  {
   "cell_type": "markdown",
   "source": "Som vi kan se så er det et datapunkt som har mikset lengde og breddegrad, et datapunkt med mikset lengdegrad og feil breddegrad (5), samt et datapunkt hvor man har skrevet lengdegraden på både lat og lng. Det ene datapunktet kan vi bytte lat/lng, mens de andre datapunktetne må vi (...)",
   "metadata": {
    "cell_id": "75bf84f7-9afb-4e4f-9fc4-c6dcbc26ec56",
    "tags": [],
    "deepnote_cell_type": "markdown"
   }
  },
  {
   "cell_type": "code",
   "metadata": {
    "cell_id": "bb280514-9da4-4c4c-9a05-d576c0fb1e30",
    "tags": [],
    "deepnote_to_be_reexecuted": false,
    "source_hash": "8eee5264",
    "execution_start": 1644227248284,
    "execution_millis": 3,
    "deepnote_output_heights": [
     611,
     611
    ],
    "deepnote_cell_type": "code"
   },
   "source": "#Oppretter midlertidlig variabel for lat/lng og bytter med tidligere variabel \nlng = df.loc[26325]['lat']\nlat = df.loc[26325]['lng']\ndf.loc[26325, 'lng'] = lng\ndf.loc[26325, 'lat'] = lat\n",
   "execution_count": null,
   "outputs": []
  },
  {
   "cell_type": "code",
   "metadata": {
    "cell_id": "4543b92b-b04d-4e9e-822c-45412b3a94ab",
    "tags": [],
    "deepnote_to_be_reexecuted": false,
    "source_hash": "3f60e9b8",
    "execution_start": 1644227248295,
    "execution_millis": 149,
    "deepnote_cell_type": "code"
   },
   "source": "#Fjerner datapunktene med feil i koordinater\ndf.drop(141115, inplace = True)\ndf.drop(56426, inplace = True)",
   "execution_count": null,
   "outputs": []
  },
  {
   "cell_type": "code",
   "metadata": {
    "cell_id": "aec1f39f-1e1f-4cdb-8b46-dd8c42bca288",
    "tags": [],
    "deepnote_to_be_reexecuted": false,
    "source_hash": "639379d3",
    "execution_start": 1644227248445,
    "execution_millis": 560,
    "deepnote_output_heights": [
     282
    ],
    "deepnote_cell_type": "code"
   },
   "source": "df[['lat','lng']].hist(figsize=(16,5), bins=25)\nplt.show()",
   "execution_count": null,
   "outputs": [
    {
     "data": {
      "text/plain": "<Figure size 1152x360 with 2 Axes>",
      "image/png": "[encoded data removed]"
     },
     "metadata": {
      "needs_background": "light",
      "image/png": {
       "width": 945,
       "height": 319
      }
     },
     "output_type": "display_data"
    }
   ]
  },
  {
   "cell_type": "markdown",
   "source": "Som vi kan se nå så har man fått lengde/bredde-grader til å nå treffe på Oslo-området. Dette vil være nyttig når man videre skal lage scatterplot med kart.",
   "metadata": {
    "cell_id": "6b8c881f-6bc1-442b-a38c-875ac9e70f1f",
    "tags": [],
    "deepnote_to_be_reexecuted": false,
    "source_hash": "b623e53d",
    "execution_start": 1643793800783,
    "execution_millis": 0,
    "deepnote_output_heights": [
     250
    ],
    "deepnote_cell_type": "markdown"
   }
  },
  {
   "cell_type": "code",
   "metadata": {
    "cell_id": "3f07ae4c-7e77-4fa7-84d9-ff0c2867f659",
    "tags": [],
    "deepnote_to_be_reexecuted": false,
    "source_hash": "a360a738",
    "execution_start": 1644229425985,
    "execution_millis": 10,
    "deepnote_output_heights": [
     232
    ],
    "deepnote_table_state": {
     "pageSize": 100,
     "pageIndex": 199,
     "filters": [
      {
       "id": "lng",
       "value": "True",
       "type": "contains"
      }
     ],
     "sortBy": [
      {
       "id": "buildyear",
       "type": "asc"
      }
     ]
    },
    "deepnote_table_loading": false,
    "deepnote_cell_type": "code"
   },
   "source": "df['documentDate'].value_counts()",
   "execution_count": null,
   "outputs": [
    {
     "output_type": "execute_result",
     "execution_count": 46,
     "data": {
      "text/plain": "2020-08-05    300\n2018-07-04    281\n2018-12-05    279\n2019-12-04    266\n2015-11-04    264\n             ... \n2021-06-13      1\n2020-05-03      1\n2021-11-13      1\n2007-09-13      1\n2007-12-27      1\nName: documentDate, Length: 3607, dtype: int64"
     },
     "metadata": {}
    }
   ]
  },
  {
   "cell_type": "code",
   "metadata": {
    "cell_id": "9e542c7c-a536-4bdf-883b-c8a555703489",
    "tags": [],
    "deepnote_to_be_reexecuted": false,
    "source_hash": "904b5d71",
    "execution_start": 1644228069781,
    "execution_millis": 2,
    "deepnote_cell_type": "code"
   },
   "source": "print(df.loc[df['floor']>=40, ['finncode','price']])",
   "execution_count": null,
   "outputs": [
    {
     "name": "stdout",
     "text": "         finncode    price\n58875   105504167  3950000\n135329   14251816  2110000\n",
     "output_type": "stream"
    }
   ]
  },
  {
   "cell_type": "code",
   "metadata": {
    "cell_id": "ca00411f-266d-4cce-a6e3-5d0b61971801",
    "tags": [],
    "deepnote_to_be_reexecuted": false,
    "source_hash": "4e1e1e7e",
    "execution_start": 1644227249067,
    "execution_millis": 172,
    "deepnote_output_heights": [
     611
    ],
    "deepnote_cell_type": "code"
   },
   "source": "df_leilighet = df.loc[df['housingtype']=='Leilighet']\ndf_leilighet['housingtype'].value_counts()\ndf_leilighet.isnull().sum()",
   "execution_count": null,
   "outputs": [
    {
     "output_type": "execute_result",
     "execution_count": 14,
     "data": {
      "text/plain": "documentDate                        0\npicturedate                       219\nlastchanged                         0\nadcreated                           0\nprice                               0\nlistprice                           0\nlat                              1324\nlng                              1324\naddress                             0\napartmentnumber                   799\napartmenttype                     779\nconveyancetype                      0\nfinncode                            0\nBRA                              2959\nPROM                                0\nbuildyear                         822\nmatrikkel                           0\nbedrooms                         8688\nrooms                           39329\nbathrooms                           0\nWC                                  0\nelevator                          779\nfloor                           17000\nhousingtype                         0\ncommondebt                      39360\ncommoncosts                       854\nF_Aircondition                 155233\nF_Alarm                        154552\nF_BalkongTerrasse               53893\nF_Barnevennlig                  66731\nF_Bredbåndstilknytning          66455\nF_Fellesvaskeri                125007\nF_GarasjeP-plass               102328\nF_Heis                         106587\nF_Ingen gjenboere              114377\nF_Lademulighet                 151203\nF_Livsløpsstandard             153247\nF_Moderne                      117201\nF_Offentlig vannkloakk          84773\nF_Parkett                       73289\nF_PeisIldsted                  119879\nF_Rolig                         68058\nF_Sentralt                      67947\nF_Utsikt                       103899\nF_Vaktmester-vektertjeneste     95176\nF_Bademulighet                 150825\nF_Fiskemulighet                155630\nF_Turterreng                    89145\nadtitle                             0\nN_modernisering                     0\nN_oppussing                         0\nN_regulert                          0\nN_garasjemulighet                   0\npostcode                            0\nParking                             0\nprice_inc_debt                      0\narea_id                             0\ndtype: int64"
     },
     "metadata": {}
    }
   ]
  },
  {
   "cell_type": "code",
   "metadata": {
    "cell_id": "7bbb9bd0-0888-463c-9bbf-e04dc0350b37",
    "tags": [],
    "deepnote_to_be_reexecuted": false,
    "source_hash": "b623e53d",
    "execution_start": 1644227249245,
    "execution_millis": 346937467,
    "deepnote_cell_type": "code"
   },
   "source": "",
   "execution_count": null,
   "outputs": []
  },
  {
   "cell_type": "code",
   "metadata": {
    "cell_id": "4b0c6262-f3ae-4932-84bd-c53eb9a28800",
    "tags": [],
    "deepnote_to_be_reexecuted": false,
    "source_hash": "b623e53d",
    "execution_start": 1644227249256,
    "execution_millis": 346937463,
    "deepnote_cell_type": "code"
   },
   "source": "",
   "execution_count": null,
   "outputs": []
  },
  {
   "cell_type": "code",
   "metadata": {
    "cell_id": "923525f2-d022-4c8f-9894-e18f2a360f36",
    "tags": [],
    "deepnote_to_be_reexecuted": false,
    "source_hash": "b623e53d",
    "execution_start": 1644227249303,
    "execution_millis": 346937417,
    "deepnote_cell_type": "code"
   },
   "source": "",
   "execution_count": null,
   "outputs": []
  },
  {
   "cell_type": "code",
   "metadata": {
    "cell_id": "9f2cbb7b-a9cb-452b-8704-a1ad5b77a36c",
    "tags": [],
    "deepnote_to_be_reexecuted": false,
    "source_hash": "b623e53d",
    "execution_start": 1644227249305,
    "execution_millis": 346937378,
    "deepnote_cell_type": "code"
   },
   "source": "",
   "execution_count": null,
   "outputs": []
  },
  {
   "cell_type": "code",
   "metadata": {
    "cell_id": "7ce03f6c-9a73-436e-81cf-4f9f9d088793",
    "tags": [],
    "deepnote_to_be_reexecuted": false,
    "source_hash": "b623e53d",
    "execution_start": 1644227249306,
    "execution_millis": 346937413,
    "deepnote_cell_type": "code"
   },
   "source": "",
   "execution_count": null,
   "outputs": []
  },
  {
   "cell_type": "code",
   "metadata": {
    "cell_id": "057c54bf-afdb-4f22-a861-8ea7a239c699",
    "tags": [],
    "deepnote_to_be_reexecuted": false,
    "source_hash": "b623e53d",
    "execution_start": 1644227249321,
    "execution_millis": 346937370,
    "deepnote_cell_type": "code"
   },
   "source": "",
   "execution_count": null,
   "outputs": []
  },
  {
   "cell_type": "code",
   "metadata": {
    "cell_id": "2c47aa90-93ac-4724-bc5b-46df0133324c",
    "tags": [],
    "deepnote_to_be_reexecuted": false,
    "source_hash": "b623e53d",
    "execution_start": 1644227249326,
    "execution_millis": 346937328,
    "deepnote_cell_type": "code"
   },
   "source": "",
   "execution_count": null,
   "outputs": []
  },
  {
   "cell_type": "code",
   "metadata": {
    "cell_id": "7bdc9505-db3f-4d1f-9de9-d3bf5dde0b08",
    "tags": [],
    "deepnote_to_be_reexecuted": false,
    "source_hash": "b623e53d",
    "execution_start": 1644227249370,
    "execution_millis": 346937328,
    "deepnote_cell_type": "code"
   },
   "source": "",
   "execution_count": null,
   "outputs": []
  },
  {
   "cell_type": "code",
   "metadata": {
    "cell_id": "1fbb6f9f-a024-41d2-beb2-8e96ea15aedb",
    "tags": [],
    "deepnote_to_be_reexecuted": false,
    "source_hash": "b623e53d",
    "execution_start": 1644227249371,
    "execution_millis": 346937282,
    "deepnote_cell_type": "code"
   },
   "source": "",
   "execution_count": null,
   "outputs": []
  },
  {
   "cell_type": "code",
   "metadata": {
    "cell_id": "1cfbdc41-07fc-48e0-8fc9-746d337d3d57",
    "tags": [],
    "deepnote_to_be_reexecuted": false,
    "source_hash": "b623e53d",
    "execution_start": 1644227249372,
    "execution_millis": 346937282,
    "deepnote_cell_type": "code"
   },
   "source": "",
   "execution_count": null,
   "outputs": []
  },
  {
   "cell_type": "code",
   "metadata": {
    "cell_id": "eb5cd913-d9cf-47e7-a0c1-68764884e49e",
    "tags": [],
    "deepnote_to_be_reexecuted": false,
    "source_hash": "b623e53d",
    "execution_start": 1644227249372,
    "execution_millis": 346937252,
    "deepnote_cell_type": "code"
   },
   "source": "",
   "execution_count": null,
   "outputs": []
  },
  {
   "cell_type": "code",
   "metadata": {
    "cell_id": "aef35122-7441-49b6-81bb-db1eca58d92a",
    "tags": [],
    "deepnote_to_be_reexecuted": false,
    "source_hash": "b623e53d",
    "execution_start": 1644227249373,
    "execution_millis": 346937252,
    "deepnote_cell_type": "code"
   },
   "source": "",
   "execution_count": null,
   "outputs": []
  },
  {
   "cell_type": "code",
   "metadata": {
    "cell_id": "00005-b0dfb173-5623-4019-9fb9-364cc15ea865",
    "deepnote_to_be_reexecuted": false,
    "source_hash": "34cc42e7",
    "execution_start": 1644227249383,
    "execution_millis": 346937259,
    "deepnote_cell_type": "code"
   },
   "source": "df_latlng = df.copy()",
   "execution_count": null,
   "outputs": []
  },
  {
   "cell_type": "code",
   "metadata": {
    "cell_id": "00006-aa82cb3e-b989-42d7-8193-b2bf11a89e22",
    "deepnote_to_be_reexecuted": false,
    "source_hash": "b49592ad",
    "execution_start": 1644227249429,
    "execution_millis": 88,
    "deepnote_cell_type": "code"
   },
   "source": "df_latlng.drop(df[df[\"lat\"] < 59.8].index, inplace=True)\ndf_latlng.drop(df[df[\"lat\"] > 59.98].index, inplace=True)",
   "execution_count": null,
   "outputs": []
  },
  {
   "cell_type": "code",
   "metadata": {
    "cell_id": "00007-8805fa5c-b18a-4cf6-90d9-aed5cccef894",
    "deepnote_output_heights": [
     250
    ],
    "deepnote_to_be_reexecuted": false,
    "source_hash": "32487fdf",
    "execution_start": 1644227249563,
    "execution_millis": 359,
    "deepnote_cell_type": "code"
   },
   "source": "plt.scatter(df_latlng[\"lng\"],df_latlng[\"lat\"], s=1)\nplt.show()",
   "execution_count": null,
   "outputs": [
    {
     "data": {
      "text/plain": "<Figure size 432x288 with 1 Axes>",
      "image/png": "[encoded data removed]"
     },
     "metadata": {
      "needs_background": "light",
      "image/png": {
       "width": 391,
       "height": 248
      }
     },
     "output_type": "display_data"
    }
   ]
  },
  {
   "cell_type": "code",
   "metadata": {
    "cell_id": "00008-0ce19e62-da01-4d36-ad2c-173c0a334360",
    "deepnote_output_heights": [
     431
    ],
    "deepnote_to_be_reexecuted": false,
    "source_hash": "933dcef6",
    "execution_start": 1644227249921,
    "execution_millis": 6247,
    "deepnote_cell_type": "code"
   },
   "source": "df_latlng.plot(kind = \"scatter\", \n                x = \"lng\", \n                y = \"lat\", \n                alpha = 0.4,                        # blending value, between 0 (transparent) and 1 (opaque).\n                s = df_latlng[\"price\"]/1000000,   # The marker size according to population\n                label = \"Størrelse\",               # The label of the timeseries used in legend  \n                figsize = (10,7),                   # Figure size\n                #c = \"price\",           # color dependent on feature house value\n                cmap = plt.get_cmap(\"jet\"),         # color map in case that c is an array of floats\n                colorbar = True,\n                sharex = False)                     #  each subplot x- or y-axis will be independent  \n\nplt.legend()\nplt.show()\n\n\n# Try to put an error into cmap then you get a suggestion of all the possibilities\n",
   "execution_count": null,
   "outputs": [
    {
     "data": {
      "text/plain": "<Figure size 720x504 with 2 Axes>",
      "image/png": "[encoded data removed]"
     },
     "metadata": {
      "needs_background": "light",
      "image/png": {
       "width": 586,
       "height": 429
      }
     },
     "output_type": "display_data"
    }
   ]
  },
  {
   "cell_type": "code",
   "metadata": {
    "cell_id": "00009-86671a91-8f3b-4d70-969e-9418507566af",
    "deepnote_output_heights": [
     571
    ],
    "deepnote_to_be_reexecuted": false,
    "source_hash": "dbfd81cf",
    "execution_start": 1644227256175,
    "execution_millis": 6458,
    "deepnote_cell_type": "code"
   },
   "source": "oslo_img=mpimg.imread('oslo.png')\n\nax = df_latlng.plot(kind = \"scatter\", \n                x = \"lng\", \n                y = \"lat\", \n                alpha = 0.4,                        # blending value, between 0 (transparent) and 1 (opaque).\n                s = df_latlng[\"price\"]/1000000,   # The marker size according to population\n                label = \"Størrelse\",               # The label of the timeseries used in legend  \n                figsize = (10,10),                   # Figure size\n                #c = \"price\",           # color dependent on feature house value\n                cmap = plt.get_cmap(\"jet\"),         # color map in case that c is an array of floats\n                colorbar = True,\n                sharex = False)  \n\nplt.imshow(oslo_img,\n           extent=[10.62, 10.95, 59.81, 59.988],\n           alpha=0.5,\n           #cmap=plt.get_cmap(\"jet\")\n           )\nplt.ylabel(\"Latitude\", fontsize=14)\nplt.xlabel(\"Longitude\", fontsize=14)\n\nprices = df_latlng[\"price\"]\ntick_values = np.linspace(prices.min(), prices.max(), 11)\ncbar = plt.colorbar(ticks=tick_values/prices.max())\ncbar.ax.set_yticklabels([\"$%dk\"%(round(v/1000)) for v in tick_values], fontsize=14)\n#cbar.set_label('Median House Value', fontsize=16)\n\nplt.legend(fontsize=10)\n\nplt.show()",
   "execution_count": null,
   "outputs": [
    {
     "data": {
      "text/plain": "<Figure size 720x720 with 3 Axes>",
      "image/png": "[encoded data removed]"
     },
     "metadata": {
      "needs_background": "light",
      "image/png": {
       "width": 592,
       "height": 569
      }
     },
     "output_type": "display_data"
    }
   ]
  },
  {
   "cell_type": "code",
   "metadata": {
    "cell_id": "00010-2b11b469-4cf3-4e02-a456-8d2f51e8cae9",
    "deepnote_to_be_reexecuted": false,
    "source_hash": "b623e53d",
    "execution_start": 1644227262636,
    "execution_millis": 346920850,
    "deepnote_cell_type": "code"
   },
   "source": "",
   "execution_count": null,
   "outputs": []
  },
  {
   "cell_type": "code",
   "metadata": {
    "cell_id": "00011-5a5685ce-96e8-4d77-9810-4a3b40d440e3",
    "deepnote_output_heights": [
     1
    ],
    "deepnote_to_be_reexecuted": false,
    "source_hash": "c085b6ba",
    "execution_start": 1644227262758,
    "execution_millis": 203,
    "deepnote_cell_type": "code"
   },
   "source": "df.head()",
   "execution_count": null,
   "outputs": [
    {
     "output_type": "execute_result",
     "execution_count": 20,
     "data": {
      "application/vnd.deepnote.dataframe.v3+json": {
       "column_count": 57,
       "row_count": 0,
       "columns": [
        {
         "name": "documentDate",
         "dtype": "object",
         "stats": {
          "unique_count": 0,
          "nan_count": 0,
          "categories": []
         }
        },
        {
         "name": "picturedate",
         "dtype": "object",
         "stats": {
          "unique_count": 0,
          "nan_count": 0,
          "categories": []
         }
        },
        {
         "name": "lastchanged",
         "dtype": "object",
         "stats": {
          "unique_count": 0,
          "nan_count": 0,
          "categories": []
         }
        },
        {
         "name": "adcreated",
         "dtype": "object",
         "stats": {
          "unique_count": 0,
          "nan_count": 0,
          "categories": []
         }
        },
        {
         "name": "price",
         "dtype": "int64",
         "stats": {
          "unique_count": 0,
          "nan_count": 0,
          "min": null,
          "max": null,
          "histogram": [
           {
            "bin_start": 0,
            "bin_end": 0.1,
            "count": 0
           },
           {
            "bin_start": 0.1,
            "bin_end": 0.2,
            "count": 0
           },
           {
            "bin_start": 0.2,
            "bin_end": 0.30000000000000004,
            "count": 0
           },
           {
            "bin_start": 0.30000000000000004,
            "bin_end": 0.4,
            "count": 0
           },
           {
            "bin_start": 0.4,
            "bin_end": 0.5,
            "count": 0
           },
           {
            "bin_start": 0.5,
            "bin_end": 0.6000000000000001,
            "count": 0
           },
           {
            "bin_start": 0.6000000000000001,
            "bin_end": 0.7000000000000001,
            "count": 0
           },
           {
            "bin_start": 0.7000000000000001,
            "bin_end": 0.8,
            "count": 0
           },
           {
            "bin_start": 0.8,
            "bin_end": 0.9,
            "count": 0
           },
           {
            "bin_start": 0.9,
            "bin_end": 1,
            "count": 0
           }
          ]
         }
        },
        {
         "name": "listprice",
         "dtype": "float64",
         "stats": {
          "unique_count": 0,
          "nan_count": 0,
          "min": null,
          "max": null,
          "histogram": [
           {
            "bin_start": 0,
            "bin_end": 0.1,
            "count": 0
           },
           {
            "bin_start": 0.1,
            "bin_end": 0.2,
            "count": 0
           },
           {
            "bin_start": 0.2,
            "bin_end": 0.30000000000000004,
            "count": 0
           },
           {
            "bin_start": 0.30000000000000004,
            "bin_end": 0.4,
            "count": 0
           },
           {
            "bin_start": 0.4,
            "bin_end": 0.5,
            "count": 0
           },
           {
            "bin_start": 0.5,
            "bin_end": 0.6000000000000001,
            "count": 0
           },
           {
            "bin_start": 0.6000000000000001,
            "bin_end": 0.7000000000000001,
            "count": 0
           },
           {
            "bin_start": 0.7000000000000001,
            "bin_end": 0.8,
            "count": 0
           },
           {
            "bin_start": 0.8,
            "bin_end": 0.9,
            "count": 0
           },
           {
            "bin_start": 0.9,
            "bin_end": 1,
            "count": 0
           }
          ]
         }
        },
        {
         "name": "lat",
         "dtype": "float64",
         "stats": {
          "unique_count": 0,
          "nan_count": 0,
          "min": null,
          "max": null,
          "histogram": [
           {
            "bin_start": 0,
            "bin_end": 0.1,
            "count": 0
           },
           {
            "bin_start": 0.1,
            "bin_end": 0.2,
            "count": 0
           },
           {
            "bin_start": 0.2,
            "bin_end": 0.30000000000000004,
            "count": 0
           },
           {
            "bin_start": 0.30000000000000004,
            "bin_end": 0.4,
            "count": 0
           },
           {
            "bin_start": 0.4,
            "bin_end": 0.5,
            "count": 0
           },
           {
            "bin_start": 0.5,
            "bin_end": 0.6000000000000001,
            "count": 0
           },
           {
            "bin_start": 0.6000000000000001,
            "bin_end": 0.7000000000000001,
            "count": 0
           },
           {
            "bin_start": 0.7000000000000001,
            "bin_end": 0.8,
            "count": 0
           },
           {
            "bin_start": 0.8,
            "bin_end": 0.9,
            "count": 0
           },
           {
            "bin_start": 0.9,
            "bin_end": 1,
            "count": 0
           }
          ]
         }
        },
        {
         "name": "lng",
         "dtype": "float64",
         "stats": {
          "unique_count": 0,
          "nan_count": 0,
          "min": null,
          "max": null,
          "histogram": [
           {
            "bin_start": 0,
            "bin_end": 0.1,
            "count": 0
           },
           {
            "bin_start": 0.1,
            "bin_end": 0.2,
            "count": 0
           },
           {
            "bin_start": 0.2,
            "bin_end": 0.30000000000000004,
            "count": 0
           },
           {
            "bin_start": 0.30000000000000004,
            "bin_end": 0.4,
            "count": 0
           },
           {
            "bin_start": 0.4,
            "bin_end": 0.5,
            "count": 0
           },
           {
            "bin_start": 0.5,
            "bin_end": 0.6000000000000001,
            "count": 0
           },
           {
            "bin_start": 0.6000000000000001,
            "bin_end": 0.7000000000000001,
            "count": 0
           },
           {
            "bin_start": 0.7000000000000001,
            "bin_end": 0.8,
            "count": 0
           },
           {
            "bin_start": 0.8,
            "bin_end": 0.9,
            "count": 0
           },
           {
            "bin_start": 0.9,
            "bin_end": 1,
            "count": 0
           }
          ]
         }
        },
        {
         "name": "address",
         "dtype": "object",
         "stats": {
          "unique_count": 0,
          "nan_count": 0,
          "categories": []
         }
        },
        {
         "name": "apartmentnumber",
         "dtype": "object",
         "stats": {
          "unique_count": 0,
          "nan_count": 0,
          "categories": []
         }
        },
        {
         "name": "apartmenttype",
         "dtype": "object",
         "stats": {
          "unique_count": 0,
          "nan_count": 0,
          "categories": []
         }
        },
        {
         "name": "conveyancetype",
         "dtype": "object",
         "stats": {
          "unique_count": 0,
          "nan_count": 0,
          "categories": []
         }
        },
        {
         "name": "finncode",
         "dtype": "int64",
         "stats": {
          "unique_count": 0,
          "nan_count": 0,
          "min": null,
          "max": null,
          "histogram": [
           {
            "bin_start": 0,
            "bin_end": 0.1,
            "count": 0
           },
           {
            "bin_start": 0.1,
            "bin_end": 0.2,
            "count": 0
           },
           {
            "bin_start": 0.2,
            "bin_end": 0.30000000000000004,
            "count": 0
           },
           {
            "bin_start": 0.30000000000000004,
            "bin_end": 0.4,
            "count": 0
           },
           {
            "bin_start": 0.4,
            "bin_end": 0.5,
            "count": 0
           },
           {
            "bin_start": 0.5,
            "bin_end": 0.6000000000000001,
            "count": 0
           },
           {
            "bin_start": 0.6000000000000001,
            "bin_end": 0.7000000000000001,
            "count": 0
           },
           {
            "bin_start": 0.7000000000000001,
            "bin_end": 0.8,
            "count": 0
           },
           {
            "bin_start": 0.8,
            "bin_end": 0.9,
            "count": 0
           },
           {
            "bin_start": 0.9,
            "bin_end": 1,
            "count": 0
           }
          ]
         }
        },
        {
         "name": "BRA",
         "dtype": "float64",
         "stats": {
          "unique_count": 0,
          "nan_count": 0,
          "min": null,
          "max": null,
          "histogram": [
           {
            "bin_start": 0,
            "bin_end": 0.1,
            "count": 0
           },
           {
            "bin_start": 0.1,
            "bin_end": 0.2,
            "count": 0
           },
           {
            "bin_start": 0.2,
            "bin_end": 0.30000000000000004,
            "count": 0
           },
           {
            "bin_start": 0.30000000000000004,
            "bin_end": 0.4,
            "count": 0
           },
           {
            "bin_start": 0.4,
            "bin_end": 0.5,
            "count": 0
           },
           {
            "bin_start": 0.5,
            "bin_end": 0.6000000000000001,
            "count": 0
           },
           {
            "bin_start": 0.6000000000000001,
            "bin_end": 0.7000000000000001,
            "count": 0
           },
           {
            "bin_start": 0.7000000000000001,
            "bin_end": 0.8,
            "count": 0
           },
           {
            "bin_start": 0.8,
            "bin_end": 0.9,
            "count": 0
           },
           {
            "bin_start": 0.9,
            "bin_end": 1,
            "count": 0
           }
          ]
         }
        },
        {
         "name": "PROM",
         "dtype": "float64",
         "stats": {
          "unique_count": 0,
          "nan_count": 0,
          "min": null,
          "max": null,
          "histogram": [
           {
            "bin_start": 0,
            "bin_end": 0.1,
            "count": 0
           },
           {
            "bin_start": 0.1,
            "bin_end": 0.2,
            "count": 0
           },
           {
            "bin_start": 0.2,
            "bin_end": 0.30000000000000004,
            "count": 0
           },
           {
            "bin_start": 0.30000000000000004,
            "bin_end": 0.4,
            "count": 0
           },
           {
            "bin_start": 0.4,
            "bin_end": 0.5,
            "count": 0
           },
           {
            "bin_start": 0.5,
            "bin_end": 0.6000000000000001,
            "count": 0
           },
           {
            "bin_start": 0.6000000000000001,
            "bin_end": 0.7000000000000001,
            "count": 0
           },
           {
            "bin_start": 0.7000000000000001,
            "bin_end": 0.8,
            "count": 0
           },
           {
            "bin_start": 0.8,
            "bin_end": 0.9,
            "count": 0
           },
           {
            "bin_start": 0.9,
            "bin_end": 1,
            "count": 0
           }
          ]
         }
        },
        {
         "name": "buildyear",
         "dtype": "float64",
         "stats": {
          "unique_count": 0,
          "nan_count": 0,
          "min": null,
          "max": null,
          "histogram": [
           {
            "bin_start": 0,
            "bin_end": 0.1,
            "count": 0
           },
           {
            "bin_start": 0.1,
            "bin_end": 0.2,
            "count": 0
           },
           {
            "bin_start": 0.2,
            "bin_end": 0.30000000000000004,
            "count": 0
           },
           {
            "bin_start": 0.30000000000000004,
            "bin_end": 0.4,
            "count": 0
           },
           {
            "bin_start": 0.4,
            "bin_end": 0.5,
            "count": 0
           },
           {
            "bin_start": 0.5,
            "bin_end": 0.6000000000000001,
            "count": 0
           },
           {
            "bin_start": 0.6000000000000001,
            "bin_end": 0.7000000000000001,
            "count": 0
           },
           {
            "bin_start": 0.7000000000000001,
            "bin_end": 0.8,
            "count": 0
           },
           {
            "bin_start": 0.8,
            "bin_end": 0.9,
            "count": 0
           },
           {
            "bin_start": 0.9,
            "bin_end": 1,
            "count": 0
           }
          ]
         }
        },
        {
         "name": "matrikkel",
         "dtype": "object",
         "stats": {
          "unique_count": 0,
          "nan_count": 0,
          "categories": []
         }
        },
        {
         "name": "bedrooms",
         "dtype": "float64",
         "stats": {
          "unique_count": 0,
          "nan_count": 0,
          "min": null,
          "max": null,
          "histogram": [
           {
            "bin_start": 0,
            "bin_end": 0.1,
            "count": 0
           },
           {
            "bin_start": 0.1,
            "bin_end": 0.2,
            "count": 0
           },
           {
            "bin_start": 0.2,
            "bin_end": 0.30000000000000004,
            "count": 0
           },
           {
            "bin_start": 0.30000000000000004,
            "bin_end": 0.4,
            "count": 0
           },
           {
            "bin_start": 0.4,
            "bin_end": 0.5,
            "count": 0
           },
           {
            "bin_start": 0.5,
            "bin_end": 0.6000000000000001,
            "count": 0
           },
           {
            "bin_start": 0.6000000000000001,
            "bin_end": 0.7000000000000001,
            "count": 0
           },
           {
            "bin_start": 0.7000000000000001,
            "bin_end": 0.8,
            "count": 0
           },
           {
            "bin_start": 0.8,
            "bin_end": 0.9,
            "count": 0
           },
           {
            "bin_start": 0.9,
            "bin_end": 1,
            "count": 0
           }
          ]
         }
        },
        {
         "name": "rooms",
         "dtype": "float64",
         "stats": {
          "unique_count": 0,
          "nan_count": 0,
          "min": null,
          "max": null,
          "histogram": [
           {
            "bin_start": 0,
            "bin_end": 0.1,
            "count": 0
           },
           {
            "bin_start": 0.1,
            "bin_end": 0.2,
            "count": 0
           },
           {
            "bin_start": 0.2,
            "bin_end": 0.30000000000000004,
            "count": 0
           },
           {
            "bin_start": 0.30000000000000004,
            "bin_end": 0.4,
            "count": 0
           },
           {
            "bin_start": 0.4,
            "bin_end": 0.5,
            "count": 0
           },
           {
            "bin_start": 0.5,
            "bin_end": 0.6000000000000001,
            "count": 0
           },
           {
            "bin_start": 0.6000000000000001,
            "bin_end": 0.7000000000000001,
            "count": 0
           },
           {
            "bin_start": 0.7000000000000001,
            "bin_end": 0.8,
            "count": 0
           },
           {
            "bin_start": 0.8,
            "bin_end": 0.9,
            "count": 0
           },
           {
            "bin_start": 0.9,
            "bin_end": 1,
            "count": 0
           }
          ]
         }
        },
        {
         "name": "bathrooms",
         "dtype": "int64",
         "stats": {
          "unique_count": 0,
          "nan_count": 0,
          "min": null,
          "max": null,
          "histogram": [
           {
            "bin_start": 0,
            "bin_end": 0.1,
            "count": 0
           },
           {
            "bin_start": 0.1,
            "bin_end": 0.2,
            "count": 0
           },
           {
            "bin_start": 0.2,
            "bin_end": 0.30000000000000004,
            "count": 0
           },
           {
            "bin_start": 0.30000000000000004,
            "bin_end": 0.4,
            "count": 0
           },
           {
            "bin_start": 0.4,
            "bin_end": 0.5,
            "count": 0
           },
           {
            "bin_start": 0.5,
            "bin_end": 0.6000000000000001,
            "count": 0
           },
           {
            "bin_start": 0.6000000000000001,
            "bin_end": 0.7000000000000001,
            "count": 0
           },
           {
            "bin_start": 0.7000000000000001,
            "bin_end": 0.8,
            "count": 0
           },
           {
            "bin_start": 0.8,
            "bin_end": 0.9,
            "count": 0
           },
           {
            "bin_start": 0.9,
            "bin_end": 1,
            "count": 0
           }
          ]
         }
        },
        {
         "name": "WC",
         "dtype": "int64",
         "stats": {
          "unique_count": 0,
          "nan_count": 0,
          "min": null,
          "max": null,
          "histogram": [
           {
            "bin_start": 0,
            "bin_end": 0.1,
            "count": 0
           },
           {
            "bin_start": 0.1,
            "bin_end": 0.2,
            "count": 0
           },
           {
            "bin_start": 0.2,
            "bin_end": 0.30000000000000004,
            "count": 0
           },
           {
            "bin_start": 0.30000000000000004,
            "bin_end": 0.4,
            "count": 0
           },
           {
            "bin_start": 0.4,
            "bin_end": 0.5,
            "count": 0
           },
           {
            "bin_start": 0.5,
            "bin_end": 0.6000000000000001,
            "count": 0
           },
           {
            "bin_start": 0.6000000000000001,
            "bin_end": 0.7000000000000001,
            "count": 0
           },
           {
            "bin_start": 0.7000000000000001,
            "bin_end": 0.8,
            "count": 0
           },
           {
            "bin_start": 0.8,
            "bin_end": 0.9,
            "count": 0
           },
           {
            "bin_start": 0.9,
            "bin_end": 1,
            "count": 0
           }
          ]
         }
        },
        {
         "name": "elevator",
         "dtype": "object",
         "stats": {
          "unique_count": 0,
          "nan_count": 0,
          "categories": []
         }
        },
        {
         "name": "floor",
         "dtype": "float64",
         "stats": {
          "unique_count": 0,
          "nan_count": 0,
          "min": null,
          "max": null,
          "histogram": [
           {
            "bin_start": 0,
            "bin_end": 0.1,
            "count": 0
           },
           {
            "bin_start": 0.1,
            "bin_end": 0.2,
            "count": 0
           },
           {
            "bin_start": 0.2,
            "bin_end": 0.30000000000000004,
            "count": 0
           },
           {
            "bin_start": 0.30000000000000004,
            "bin_end": 0.4,
            "count": 0
           },
           {
            "bin_start": 0.4,
            "bin_end": 0.5,
            "count": 0
           },
           {
            "bin_start": 0.5,
            "bin_end": 0.6000000000000001,
            "count": 0
           },
           {
            "bin_start": 0.6000000000000001,
            "bin_end": 0.7000000000000001,
            "count": 0
           },
           {
            "bin_start": 0.7000000000000001,
            "bin_end": 0.8,
            "count": 0
           },
           {
            "bin_start": 0.8,
            "bin_end": 0.9,
            "count": 0
           },
           {
            "bin_start": 0.9,
            "bin_end": 1,
            "count": 0
           }
          ]
         }
        },
        {
         "name": "housingtype",
         "dtype": "object",
         "stats": {
          "unique_count": 0,
          "nan_count": 0,
          "categories": []
         }
        },
        {
         "name": "commondebt",
         "dtype": "float64",
         "stats": {
          "unique_count": 0,
          "nan_count": 0,
          "min": null,
          "max": null,
          "histogram": [
           {
            "bin_start": 0,
            "bin_end": 0.1,
            "count": 0
           },
           {
            "bin_start": 0.1,
            "bin_end": 0.2,
            "count": 0
           },
           {
            "bin_start": 0.2,
            "bin_end": 0.30000000000000004,
            "count": 0
           },
           {
            "bin_start": 0.30000000000000004,
            "bin_end": 0.4,
            "count": 0
           },
           {
            "bin_start": 0.4,
            "bin_end": 0.5,
            "count": 0
           },
           {
            "bin_start": 0.5,
            "bin_end": 0.6000000000000001,
            "count": 0
           },
           {
            "bin_start": 0.6000000000000001,
            "bin_end": 0.7000000000000001,
            "count": 0
           },
           {
            "bin_start": 0.7000000000000001,
            "bin_end": 0.8,
            "count": 0
           },
           {
            "bin_start": 0.8,
            "bin_end": 0.9,
            "count": 0
           },
           {
            "bin_start": 0.9,
            "bin_end": 1,
            "count": 0
           }
          ]
         }
        },
        {
         "name": "commoncosts",
         "dtype": "float64",
         "stats": {
          "unique_count": 0,
          "nan_count": 0,
          "min": null,
          "max": null,
          "histogram": [
           {
            "bin_start": 0,
            "bin_end": 0.1,
            "count": 0
           },
           {
            "bin_start": 0.1,
            "bin_end": 0.2,
            "count": 0
           },
           {
            "bin_start": 0.2,
            "bin_end": 0.30000000000000004,
            "count": 0
           },
           {
            "bin_start": 0.30000000000000004,
            "bin_end": 0.4,
            "count": 0
           },
           {
            "bin_start": 0.4,
            "bin_end": 0.5,
            "count": 0
           },
           {
            "bin_start": 0.5,
            "bin_end": 0.6000000000000001,
            "count": 0
           },
           {
            "bin_start": 0.6000000000000001,
            "bin_end": 0.7000000000000001,
            "count": 0
           },
           {
            "bin_start": 0.7000000000000001,
            "bin_end": 0.8,
            "count": 0
           },
           {
            "bin_start": 0.8,
            "bin_end": 0.9,
            "count": 0
           },
           {
            "bin_start": 0.9,
            "bin_end": 1,
            "count": 0
           }
          ]
         }
        },
        {
         "name": "F_Aircondition",
         "dtype": "float64",
         "stats": {
          "unique_count": 0,
          "nan_count": 0,
          "min": null,
          "max": null,
          "histogram": [
           {
            "bin_start": 0,
            "bin_end": 0.1,
            "count": 0
           },
           {
            "bin_start": 0.1,
            "bin_end": 0.2,
            "count": 0
           },
           {
            "bin_start": 0.2,
            "bin_end": 0.30000000000000004,
            "count": 0
           },
           {
            "bin_start": 0.30000000000000004,
            "bin_end": 0.4,
            "count": 0
           },
           {
            "bin_start": 0.4,
            "bin_end": 0.5,
            "count": 0
           },
           {
            "bin_start": 0.5,
            "bin_end": 0.6000000000000001,
            "count": 0
           },
           {
            "bin_start": 0.6000000000000001,
            "bin_end": 0.7000000000000001,
            "count": 0
           },
           {
            "bin_start": 0.7000000000000001,
            "bin_end": 0.8,
            "count": 0
           },
           {
            "bin_start": 0.8,
            "bin_end": 0.9,
            "count": 0
           },
           {
            "bin_start": 0.9,
            "bin_end": 1,
            "count": 0
           }
          ]
         }
        },
        {
         "name": "F_Alarm",
         "dtype": "float64",
         "stats": {
          "unique_count": 0,
          "nan_count": 0,
          "min": null,
          "max": null,
          "histogram": [
           {
            "bin_start": 0,
            "bin_end": 0.1,
            "count": 0
           },
           {
            "bin_start": 0.1,
            "bin_end": 0.2,
            "count": 0
           },
           {
            "bin_start": 0.2,
            "bin_end": 0.30000000000000004,
            "count": 0
           },
           {
            "bin_start": 0.30000000000000004,
            "bin_end": 0.4,
            "count": 0
           },
           {
            "bin_start": 0.4,
            "bin_end": 0.5,
            "count": 0
           },
           {
            "bin_start": 0.5,
            "bin_end": 0.6000000000000001,
            "count": 0
           },
           {
            "bin_start": 0.6000000000000001,
            "bin_end": 0.7000000000000001,
            "count": 0
           },
           {
            "bin_start": 0.7000000000000001,
            "bin_end": 0.8,
            "count": 0
           },
           {
            "bin_start": 0.8,
            "bin_end": 0.9,
            "count": 0
           },
           {
            "bin_start": 0.9,
            "bin_end": 1,
            "count": 0
           }
          ]
         }
        },
        {
         "name": "F_BalkongTerrasse",
         "dtype": "float64",
         "stats": {
          "unique_count": 0,
          "nan_count": 0,
          "min": null,
          "max": null,
          "histogram": [
           {
            "bin_start": 0,
            "bin_end": 0.1,
            "count": 0
           },
           {
            "bin_start": 0.1,
            "bin_end": 0.2,
            "count": 0
           },
           {
            "bin_start": 0.2,
            "bin_end": 0.30000000000000004,
            "count": 0
           },
           {
            "bin_start": 0.30000000000000004,
            "bin_end": 0.4,
            "count": 0
           },
           {
            "bin_start": 0.4,
            "bin_end": 0.5,
            "count": 0
           },
           {
            "bin_start": 0.5,
            "bin_end": 0.6000000000000001,
            "count": 0
           },
           {
            "bin_start": 0.6000000000000001,
            "bin_end": 0.7000000000000001,
            "count": 0
           },
           {
            "bin_start": 0.7000000000000001,
            "bin_end": 0.8,
            "count": 0
           },
           {
            "bin_start": 0.8,
            "bin_end": 0.9,
            "count": 0
           },
           {
            "bin_start": 0.9,
            "bin_end": 1,
            "count": 0
           }
          ]
         }
        },
        {
         "name": "F_Barnevennlig",
         "dtype": "float64",
         "stats": {
          "unique_count": 0,
          "nan_count": 0,
          "min": null,
          "max": null,
          "histogram": [
           {
            "bin_start": 0,
            "bin_end": 0.1,
            "count": 0
           },
           {
            "bin_start": 0.1,
            "bin_end": 0.2,
            "count": 0
           },
           {
            "bin_start": 0.2,
            "bin_end": 0.30000000000000004,
            "count": 0
           },
           {
            "bin_start": 0.30000000000000004,
            "bin_end": 0.4,
            "count": 0
           },
           {
            "bin_start": 0.4,
            "bin_end": 0.5,
            "count": 0
           },
           {
            "bin_start": 0.5,
            "bin_end": 0.6000000000000001,
            "count": 0
           },
           {
            "bin_start": 0.6000000000000001,
            "bin_end": 0.7000000000000001,
            "count": 0
           },
           {
            "bin_start": 0.7000000000000001,
            "bin_end": 0.8,
            "count": 0
           },
           {
            "bin_start": 0.8,
            "bin_end": 0.9,
            "count": 0
           },
           {
            "bin_start": 0.9,
            "bin_end": 1,
            "count": 0
           }
          ]
         }
        },
        {
         "name": "F_Bredbåndstilknytning",
         "dtype": "float64",
         "stats": {
          "unique_count": 0,
          "nan_count": 0,
          "min": null,
          "max": null,
          "histogram": [
           {
            "bin_start": 0,
            "bin_end": 0.1,
            "count": 0
           },
           {
            "bin_start": 0.1,
            "bin_end": 0.2,
            "count": 0
           },
           {
            "bin_start": 0.2,
            "bin_end": 0.30000000000000004,
            "count": 0
           },
           {
            "bin_start": 0.30000000000000004,
            "bin_end": 0.4,
            "count": 0
           },
           {
            "bin_start": 0.4,
            "bin_end": 0.5,
            "count": 0
           },
           {
            "bin_start": 0.5,
            "bin_end": 0.6000000000000001,
            "count": 0
           },
           {
            "bin_start": 0.6000000000000001,
            "bin_end": 0.7000000000000001,
            "count": 0
           },
           {
            "bin_start": 0.7000000000000001,
            "bin_end": 0.8,
            "count": 0
           },
           {
            "bin_start": 0.8,
            "bin_end": 0.9,
            "count": 0
           },
           {
            "bin_start": 0.9,
            "bin_end": 1,
            "count": 0
           }
          ]
         }
        },
        {
         "name": "F_Fellesvaskeri",
         "dtype": "float64",
         "stats": {
          "unique_count": 0,
          "nan_count": 0,
          "min": null,
          "max": null,
          "histogram": [
           {
            "bin_start": 0,
            "bin_end": 0.1,
            "count": 0
           },
           {
            "bin_start": 0.1,
            "bin_end": 0.2,
            "count": 0
           },
           {
            "bin_start": 0.2,
            "bin_end": 0.30000000000000004,
            "count": 0
           },
           {
            "bin_start": 0.30000000000000004,
            "bin_end": 0.4,
            "count": 0
           },
           {
            "bin_start": 0.4,
            "bin_end": 0.5,
            "count": 0
           },
           {
            "bin_start": 0.5,
            "bin_end": 0.6000000000000001,
            "count": 0
           },
           {
            "bin_start": 0.6000000000000001,
            "bin_end": 0.7000000000000001,
            "count": 0
           },
           {
            "bin_start": 0.7000000000000001,
            "bin_end": 0.8,
            "count": 0
           },
           {
            "bin_start": 0.8,
            "bin_end": 0.9,
            "count": 0
           },
           {
            "bin_start": 0.9,
            "bin_end": 1,
            "count": 0
           }
          ]
         }
        },
        {
         "name": "F_GarasjeP-plass",
         "dtype": "float64",
         "stats": {
          "unique_count": 0,
          "nan_count": 0,
          "min": null,
          "max": null,
          "histogram": [
           {
            "bin_start": 0,
            "bin_end": 0.1,
            "count": 0
           },
           {
            "bin_start": 0.1,
            "bin_end": 0.2,
            "count": 0
           },
           {
            "bin_start": 0.2,
            "bin_end": 0.30000000000000004,
            "count": 0
           },
           {
            "bin_start": 0.30000000000000004,
            "bin_end": 0.4,
            "count": 0
           },
           {
            "bin_start": 0.4,
            "bin_end": 0.5,
            "count": 0
           },
           {
            "bin_start": 0.5,
            "bin_end": 0.6000000000000001,
            "count": 0
           },
           {
            "bin_start": 0.6000000000000001,
            "bin_end": 0.7000000000000001,
            "count": 0
           },
           {
            "bin_start": 0.7000000000000001,
            "bin_end": 0.8,
            "count": 0
           },
           {
            "bin_start": 0.8,
            "bin_end": 0.9,
            "count": 0
           },
           {
            "bin_start": 0.9,
            "bin_end": 1,
            "count": 0
           }
          ]
         }
        },
        {
         "name": "F_Heis",
         "dtype": "float64",
         "stats": {
          "unique_count": 0,
          "nan_count": 0,
          "min": null,
          "max": null,
          "histogram": [
           {
            "bin_start": 0,
            "bin_end": 0.1,
            "count": 0
           },
           {
            "bin_start": 0.1,
            "bin_end": 0.2,
            "count": 0
           },
           {
            "bin_start": 0.2,
            "bin_end": 0.30000000000000004,
            "count": 0
           },
           {
            "bin_start": 0.30000000000000004,
            "bin_end": 0.4,
            "count": 0
           },
           {
            "bin_start": 0.4,
            "bin_end": 0.5,
            "count": 0
           },
           {
            "bin_start": 0.5,
            "bin_end": 0.6000000000000001,
            "count": 0
           },
           {
            "bin_start": 0.6000000000000001,
            "bin_end": 0.7000000000000001,
            "count": 0
           },
           {
            "bin_start": 0.7000000000000001,
            "bin_end": 0.8,
            "count": 0
           },
           {
            "bin_start": 0.8,
            "bin_end": 0.9,
            "count": 0
           },
           {
            "bin_start": 0.9,
            "bin_end": 1,
            "count": 0
           }
          ]
         }
        },
        {
         "name": "F_Ingen gjenboere",
         "dtype": "float64",
         "stats": {
          "unique_count": 0,
          "nan_count": 0,
          "min": null,
          "max": null,
          "histogram": [
           {
            "bin_start": 0,
            "bin_end": 0.1,
            "count": 0
           },
           {
            "bin_start": 0.1,
            "bin_end": 0.2,
            "count": 0
           },
           {
            "bin_start": 0.2,
            "bin_end": 0.30000000000000004,
            "count": 0
           },
           {
            "bin_start": 0.30000000000000004,
            "bin_end": 0.4,
            "count": 0
           },
           {
            "bin_start": 0.4,
            "bin_end": 0.5,
            "count": 0
           },
           {
            "bin_start": 0.5,
            "bin_end": 0.6000000000000001,
            "count": 0
           },
           {
            "bin_start": 0.6000000000000001,
            "bin_end": 0.7000000000000001,
            "count": 0
           },
           {
            "bin_start": 0.7000000000000001,
            "bin_end": 0.8,
            "count": 0
           },
           {
            "bin_start": 0.8,
            "bin_end": 0.9,
            "count": 0
           },
           {
            "bin_start": 0.9,
            "bin_end": 1,
            "count": 0
           }
          ]
         }
        },
        {
         "name": "F_Lademulighet",
         "dtype": "float64",
         "stats": {
          "unique_count": 0,
          "nan_count": 0,
          "min": null,
          "max": null,
          "histogram": [
           {
            "bin_start": 0,
            "bin_end": 0.1,
            "count": 0
           },
           {
            "bin_start": 0.1,
            "bin_end": 0.2,
            "count": 0
           },
           {
            "bin_start": 0.2,
            "bin_end": 0.30000000000000004,
            "count": 0
           },
           {
            "bin_start": 0.30000000000000004,
            "bin_end": 0.4,
            "count": 0
           },
           {
            "bin_start": 0.4,
            "bin_end": 0.5,
            "count": 0
           },
           {
            "bin_start": 0.5,
            "bin_end": 0.6000000000000001,
            "count": 0
           },
           {
            "bin_start": 0.6000000000000001,
            "bin_end": 0.7000000000000001,
            "count": 0
           },
           {
            "bin_start": 0.7000000000000001,
            "bin_end": 0.8,
            "count": 0
           },
           {
            "bin_start": 0.8,
            "bin_end": 0.9,
            "count": 0
           },
           {
            "bin_start": 0.9,
            "bin_end": 1,
            "count": 0
           }
          ]
         }
        },
        {
         "name": "F_Livsløpsstandard",
         "dtype": "float64",
         "stats": {
          "unique_count": 0,
          "nan_count": 0,
          "min": null,
          "max": null,
          "histogram": [
           {
            "bin_start": 0,
            "bin_end": 0.1,
            "count": 0
           },
           {
            "bin_start": 0.1,
            "bin_end": 0.2,
            "count": 0
           },
           {
            "bin_start": 0.2,
            "bin_end": 0.30000000000000004,
            "count": 0
           },
           {
            "bin_start": 0.30000000000000004,
            "bin_end": 0.4,
            "count": 0
           },
           {
            "bin_start": 0.4,
            "bin_end": 0.5,
            "count": 0
           },
           {
            "bin_start": 0.5,
            "bin_end": 0.6000000000000001,
            "count": 0
           },
           {
            "bin_start": 0.6000000000000001,
            "bin_end": 0.7000000000000001,
            "count": 0
           },
           {
            "bin_start": 0.7000000000000001,
            "bin_end": 0.8,
            "count": 0
           },
           {
            "bin_start": 0.8,
            "bin_end": 0.9,
            "count": 0
           },
           {
            "bin_start": 0.9,
            "bin_end": 1,
            "count": 0
           }
          ]
         }
        },
        {
         "name": "F_Moderne",
         "dtype": "float64",
         "stats": {
          "unique_count": 0,
          "nan_count": 0,
          "min": null,
          "max": null,
          "histogram": [
           {
            "bin_start": 0,
            "bin_end": 0.1,
            "count": 0
           },
           {
            "bin_start": 0.1,
            "bin_end": 0.2,
            "count": 0
           },
           {
            "bin_start": 0.2,
            "bin_end": 0.30000000000000004,
            "count": 0
           },
           {
            "bin_start": 0.30000000000000004,
            "bin_end": 0.4,
            "count": 0
           },
           {
            "bin_start": 0.4,
            "bin_end": 0.5,
            "count": 0
           },
           {
            "bin_start": 0.5,
            "bin_end": 0.6000000000000001,
            "count": 0
           },
           {
            "bin_start": 0.6000000000000001,
            "bin_end": 0.7000000000000001,
            "count": 0
           },
           {
            "bin_start": 0.7000000000000001,
            "bin_end": 0.8,
            "count": 0
           },
           {
            "bin_start": 0.8,
            "bin_end": 0.9,
            "count": 0
           },
           {
            "bin_start": 0.9,
            "bin_end": 1,
            "count": 0
           }
          ]
         }
        },
        {
         "name": "F_Offentlig vannkloakk",
         "dtype": "float64",
         "stats": {
          "unique_count": 0,
          "nan_count": 0,
          "min": null,
          "max": null,
          "histogram": [
           {
            "bin_start": 0,
            "bin_end": 0.1,
            "count": 0
           },
           {
            "bin_start": 0.1,
            "bin_end": 0.2,
            "count": 0
           },
           {
            "bin_start": 0.2,
            "bin_end": 0.30000000000000004,
            "count": 0
           },
           {
            "bin_start": 0.30000000000000004,
            "bin_end": 0.4,
            "count": 0
           },
           {
            "bin_start": 0.4,
            "bin_end": 0.5,
            "count": 0
           },
           {
            "bin_start": 0.5,
            "bin_end": 0.6000000000000001,
            "count": 0
           },
           {
            "bin_start": 0.6000000000000001,
            "bin_end": 0.7000000000000001,
            "count": 0
           },
           {
            "bin_start": 0.7000000000000001,
            "bin_end": 0.8,
            "count": 0
           },
           {
            "bin_start": 0.8,
            "bin_end": 0.9,
            "count": 0
           },
           {
            "bin_start": 0.9,
            "bin_end": 1,
            "count": 0
           }
          ]
         }
        },
        {
         "name": "F_Parkett",
         "dtype": "float64",
         "stats": {
          "unique_count": 0,
          "nan_count": 0,
          "min": null,
          "max": null,
          "histogram": [
           {
            "bin_start": 0,
            "bin_end": 0.1,
            "count": 0
           },
           {
            "bin_start": 0.1,
            "bin_end": 0.2,
            "count": 0
           },
           {
            "bin_start": 0.2,
            "bin_end": 0.30000000000000004,
            "count": 0
           },
           {
            "bin_start": 0.30000000000000004,
            "bin_end": 0.4,
            "count": 0
           },
           {
            "bin_start": 0.4,
            "bin_end": 0.5,
            "count": 0
           },
           {
            "bin_start": 0.5,
            "bin_end": 0.6000000000000001,
            "count": 0
           },
           {
            "bin_start": 0.6000000000000001,
            "bin_end": 0.7000000000000001,
            "count": 0
           },
           {
            "bin_start": 0.7000000000000001,
            "bin_end": 0.8,
            "count": 0
           },
           {
            "bin_start": 0.8,
            "bin_end": 0.9,
            "count": 0
           },
           {
            "bin_start": 0.9,
            "bin_end": 1,
            "count": 0
           }
          ]
         }
        },
        {
         "name": "F_PeisIldsted",
         "dtype": "float64",
         "stats": {
          "unique_count": 0,
          "nan_count": 0,
          "min": null,
          "max": null,
          "histogram": [
           {
            "bin_start": 0,
            "bin_end": 0.1,
            "count": 0
           },
           {
            "bin_start": 0.1,
            "bin_end": 0.2,
            "count": 0
           },
           {
            "bin_start": 0.2,
            "bin_end": 0.30000000000000004,
            "count": 0
           },
           {
            "bin_start": 0.30000000000000004,
            "bin_end": 0.4,
            "count": 0
           },
           {
            "bin_start": 0.4,
            "bin_end": 0.5,
            "count": 0
           },
           {
            "bin_start": 0.5,
            "bin_end": 0.6000000000000001,
            "count": 0
           },
           {
            "bin_start": 0.6000000000000001,
            "bin_end": 0.7000000000000001,
            "count": 0
           },
           {
            "bin_start": 0.7000000000000001,
            "bin_end": 0.8,
            "count": 0
           },
           {
            "bin_start": 0.8,
            "bin_end": 0.9,
            "count": 0
           },
           {
            "bin_start": 0.9,
            "bin_end": 1,
            "count": 0
           }
          ]
         }
        },
        {
         "name": "F_Rolig",
         "dtype": "float64",
         "stats": {
          "unique_count": 0,
          "nan_count": 0,
          "min": null,
          "max": null,
          "histogram": [
           {
            "bin_start": 0,
            "bin_end": 0.1,
            "count": 0
           },
           {
            "bin_start": 0.1,
            "bin_end": 0.2,
            "count": 0
           },
           {
            "bin_start": 0.2,
            "bin_end": 0.30000000000000004,
            "count": 0
           },
           {
            "bin_start": 0.30000000000000004,
            "bin_end": 0.4,
            "count": 0
           },
           {
            "bin_start": 0.4,
            "bin_end": 0.5,
            "count": 0
           },
           {
            "bin_start": 0.5,
            "bin_end": 0.6000000000000001,
            "count": 0
           },
           {
            "bin_start": 0.6000000000000001,
            "bin_end": 0.7000000000000001,
            "count": 0
           },
           {
            "bin_start": 0.7000000000000001,
            "bin_end": 0.8,
            "count": 0
           },
           {
            "bin_start": 0.8,
            "bin_end": 0.9,
            "count": 0
           },
           {
            "bin_start": 0.9,
            "bin_end": 1,
            "count": 0
           }
          ]
         }
        },
        {
         "name": "F_Sentralt",
         "dtype": "float64",
         "stats": {
          "unique_count": 0,
          "nan_count": 0,
          "min": null,
          "max": null,
          "histogram": [
           {
            "bin_start": 0,
            "bin_end": 0.1,
            "count": 0
           },
           {
            "bin_start": 0.1,
            "bin_end": 0.2,
            "count": 0
           },
           {
            "bin_start": 0.2,
            "bin_end": 0.30000000000000004,
            "count": 0
           },
           {
            "bin_start": 0.30000000000000004,
            "bin_end": 0.4,
            "count": 0
           },
           {
            "bin_start": 0.4,
            "bin_end": 0.5,
            "count": 0
           },
           {
            "bin_start": 0.5,
            "bin_end": 0.6000000000000001,
            "count": 0
           },
           {
            "bin_start": 0.6000000000000001,
            "bin_end": 0.7000000000000001,
            "count": 0
           },
           {
            "bin_start": 0.7000000000000001,
            "bin_end": 0.8,
            "count": 0
           },
           {
            "bin_start": 0.8,
            "bin_end": 0.9,
            "count": 0
           },
           {
            "bin_start": 0.9,
            "bin_end": 1,
            "count": 0
           }
          ]
         }
        },
        {
         "name": "F_Utsikt",
         "dtype": "float64",
         "stats": {
          "unique_count": 0,
          "nan_count": 0,
          "min": null,
          "max": null,
          "histogram": [
           {
            "bin_start": 0,
            "bin_end": 0.1,
            "count": 0
           },
           {
            "bin_start": 0.1,
            "bin_end": 0.2,
            "count": 0
           },
           {
            "bin_start": 0.2,
            "bin_end": 0.30000000000000004,
            "count": 0
           },
           {
            "bin_start": 0.30000000000000004,
            "bin_end": 0.4,
            "count": 0
           },
           {
            "bin_start": 0.4,
            "bin_end": 0.5,
            "count": 0
           },
           {
            "bin_start": 0.5,
            "bin_end": 0.6000000000000001,
            "count": 0
           },
           {
            "bin_start": 0.6000000000000001,
            "bin_end": 0.7000000000000001,
            "count": 0
           },
           {
            "bin_start": 0.7000000000000001,
            "bin_end": 0.8,
            "count": 0
           },
           {
            "bin_start": 0.8,
            "bin_end": 0.9,
            "count": 0
           },
           {
            "bin_start": 0.9,
            "bin_end": 1,
            "count": 0
           }
          ]
         }
        },
        {
         "name": "F_Vaktmester-vektertjeneste",
         "dtype": "float64",
         "stats": {
          "unique_count": 0,
          "nan_count": 0,
          "min": null,
          "max": null,
          "histogram": [
           {
            "bin_start": 0,
            "bin_end": 0.1,
            "count": 0
           },
           {
            "bin_start": 0.1,
            "bin_end": 0.2,
            "count": 0
           },
           {
            "bin_start": 0.2,
            "bin_end": 0.30000000000000004,
            "count": 0
           },
           {
            "bin_start": 0.30000000000000004,
            "bin_end": 0.4,
            "count": 0
           },
           {
            "bin_start": 0.4,
            "bin_end": 0.5,
            "count": 0
           },
           {
            "bin_start": 0.5,
            "bin_end": 0.6000000000000001,
            "count": 0
           },
           {
            "bin_start": 0.6000000000000001,
            "bin_end": 0.7000000000000001,
            "count": 0
           },
           {
            "bin_start": 0.7000000000000001,
            "bin_end": 0.8,
            "count": 0
           },
           {
            "bin_start": 0.8,
            "bin_end": 0.9,
            "count": 0
           },
           {
            "bin_start": 0.9,
            "bin_end": 1,
            "count": 0
           }
          ]
         }
        },
        {
         "name": "F_Bademulighet",
         "dtype": "float64",
         "stats": {
          "unique_count": 0,
          "nan_count": 0,
          "min": null,
          "max": null,
          "histogram": [
           {
            "bin_start": 0,
            "bin_end": 0.1,
            "count": 0
           },
           {
            "bin_start": 0.1,
            "bin_end": 0.2,
            "count": 0
           },
           {
            "bin_start": 0.2,
            "bin_end": 0.30000000000000004,
            "count": 0
           },
           {
            "bin_start": 0.30000000000000004,
            "bin_end": 0.4,
            "count": 0
           },
           {
            "bin_start": 0.4,
            "bin_end": 0.5,
            "count": 0
           },
           {
            "bin_start": 0.5,
            "bin_end": 0.6000000000000001,
            "count": 0
           },
           {
            "bin_start": 0.6000000000000001,
            "bin_end": 0.7000000000000001,
            "count": 0
           },
           {
            "bin_start": 0.7000000000000001,
            "bin_end": 0.8,
            "count": 0
           },
           {
            "bin_start": 0.8,
            "bin_end": 0.9,
            "count": 0
           },
           {
            "bin_start": 0.9,
            "bin_end": 1,
            "count": 0
           }
          ]
         }
        },
        {
         "name": "F_Fiskemulighet",
         "dtype": "float64",
         "stats": {
          "unique_count": 0,
          "nan_count": 0,
          "min": null,
          "max": null,
          "histogram": [
           {
            "bin_start": 0,
            "bin_end": 0.1,
            "count": 0
           },
           {
            "bin_start": 0.1,
            "bin_end": 0.2,
            "count": 0
           },
           {
            "bin_start": 0.2,
            "bin_end": 0.30000000000000004,
            "count": 0
           },
           {
            "bin_start": 0.30000000000000004,
            "bin_end": 0.4,
            "count": 0
           },
           {
            "bin_start": 0.4,
            "bin_end": 0.5,
            "count": 0
           },
           {
            "bin_start": 0.5,
            "bin_end": 0.6000000000000001,
            "count": 0
           },
           {
            "bin_start": 0.6000000000000001,
            "bin_end": 0.7000000000000001,
            "count": 0
           },
           {
            "bin_start": 0.7000000000000001,
            "bin_end": 0.8,
            "count": 0
           },
           {
            "bin_start": 0.8,
            "bin_end": 0.9,
            "count": 0
           },
           {
            "bin_start": 0.9,
            "bin_end": 1,
            "count": 0
           }
          ]
         }
        },
        {
         "name": "F_Turterreng",
         "dtype": "float64",
         "stats": {
          "unique_count": 0,
          "nan_count": 0,
          "min": null,
          "max": null,
          "histogram": [
           {
            "bin_start": 0,
            "bin_end": 0.1,
            "count": 0
           },
           {
            "bin_start": 0.1,
            "bin_end": 0.2,
            "count": 0
           },
           {
            "bin_start": 0.2,
            "bin_end": 0.30000000000000004,
            "count": 0
           },
           {
            "bin_start": 0.30000000000000004,
            "bin_end": 0.4,
            "count": 0
           },
           {
            "bin_start": 0.4,
            "bin_end": 0.5,
            "count": 0
           },
           {
            "bin_start": 0.5,
            "bin_end": 0.6000000000000001,
            "count": 0
           },
           {
            "bin_start": 0.6000000000000001,
            "bin_end": 0.7000000000000001,
            "count": 0
           },
           {
            "bin_start": 0.7000000000000001,
            "bin_end": 0.8,
            "count": 0
           },
           {
            "bin_start": 0.8,
            "bin_end": 0.9,
            "count": 0
           },
           {
            "bin_start": 0.9,
            "bin_end": 1,
            "count": 0
           }
          ]
         }
        },
        {
         "name": "adtitle",
         "dtype": "object",
         "stats": {
          "unique_count": 0,
          "nan_count": 0,
          "categories": []
         }
        },
        {
         "name": "N_modernisering",
         "dtype": "bool",
         "stats": {
          "unique_count": 0,
          "nan_count": 0,
          "categories": []
         }
        },
        {
         "name": "N_oppussing",
         "dtype": "bool",
         "stats": {
          "unique_count": 0,
          "nan_count": 0,
          "categories": []
         }
        },
        {
         "name": "N_regulert",
         "dtype": "bool",
         "stats": {
          "unique_count": 0,
          "nan_count": 0,
          "categories": []
         }
        },
        {
         "name": "N_garasjemulighet",
         "dtype": "bool",
         "stats": {
          "unique_count": 0,
          "nan_count": 0,
          "categories": []
         }
        },
        {
         "name": "postcode",
         "dtype": "int64",
         "stats": {
          "unique_count": 0,
          "nan_count": 0,
          "min": null,
          "max": null,
          "histogram": [
           {
            "bin_start": 0,
            "bin_end": 0.1,
            "count": 0
           },
           {
            "bin_start": 0.1,
            "bin_end": 0.2,
            "count": 0
           },
           {
            "bin_start": 0.2,
            "bin_end": 0.30000000000000004,
            "count": 0
           },
           {
            "bin_start": 0.30000000000000004,
            "bin_end": 0.4,
            "count": 0
           },
           {
            "bin_start": 0.4,
            "bin_end": 0.5,
            "count": 0
           },
           {
            "bin_start": 0.5,
            "bin_end": 0.6000000000000001,
            "count": 0
           },
           {
            "bin_start": 0.6000000000000001,
            "bin_end": 0.7000000000000001,
            "count": 0
           },
           {
            "bin_start": 0.7000000000000001,
            "bin_end": 0.8,
            "count": 0
           },
           {
            "bin_start": 0.8,
            "bin_end": 0.9,
            "count": 0
           },
           {
            "bin_start": 0.9,
            "bin_end": 1,
            "count": 0
           }
          ]
         }
        },
        {
         "name": "Parking",
         "dtype": "int64",
         "stats": {
          "unique_count": 0,
          "nan_count": 0,
          "min": null,
          "max": null,
          "histogram": [
           {
            "bin_start": 0,
            "bin_end": 0.1,
            "count": 0
           },
           {
            "bin_start": 0.1,
            "bin_end": 0.2,
            "count": 0
           },
           {
            "bin_start": 0.2,
            "bin_end": 0.30000000000000004,
            "count": 0
           },
           {
            "bin_start": 0.30000000000000004,
            "bin_end": 0.4,
            "count": 0
           },
           {
            "bin_start": 0.4,
            "bin_end": 0.5,
            "count": 0
           },
           {
            "bin_start": 0.5,
            "bin_end": 0.6000000000000001,
            "count": 0
           },
           {
            "bin_start": 0.6000000000000001,
            "bin_end": 0.7000000000000001,
            "count": 0
           },
           {
            "bin_start": 0.7000000000000001,
            "bin_end": 0.8,
            "count": 0
           },
           {
            "bin_start": 0.8,
            "bin_end": 0.9,
            "count": 0
           },
           {
            "bin_start": 0.9,
            "bin_end": 1,
            "count": 0
           }
          ]
         }
        },
        {
         "name": "price_inc_debt",
         "dtype": "float64",
         "stats": {
          "unique_count": 0,
          "nan_count": 0,
          "min": null,
          "max": null,
          "histogram": [
           {
            "bin_start": 0,
            "bin_end": 0.1,
            "count": 0
           },
           {
            "bin_start": 0.1,
            "bin_end": 0.2,
            "count": 0
           },
           {
            "bin_start": 0.2,
            "bin_end": 0.30000000000000004,
            "count": 0
           },
           {
            "bin_start": 0.30000000000000004,
            "bin_end": 0.4,
            "count": 0
           },
           {
            "bin_start": 0.4,
            "bin_end": 0.5,
            "count": 0
           },
           {
            "bin_start": 0.5,
            "bin_end": 0.6000000000000001,
            "count": 0
           },
           {
            "bin_start": 0.6000000000000001,
            "bin_end": 0.7000000000000001,
            "count": 0
           },
           {
            "bin_start": 0.7000000000000001,
            "bin_end": 0.8,
            "count": 0
           },
           {
            "bin_start": 0.8,
            "bin_end": 0.9,
            "count": 0
           },
           {
            "bin_start": 0.9,
            "bin_end": 1,
            "count": 0
           }
          ]
         }
        },
        {
         "name": "area_id",
         "dtype": "int64",
         "stats": {
          "unique_count": 0,
          "nan_count": 0,
          "min": null,
          "max": null,
          "histogram": [
           {
            "bin_start": 0,
            "bin_end": 0.1,
            "count": 0
           },
           {
            "bin_start": 0.1,
            "bin_end": 0.2,
            "count": 0
           },
           {
            "bin_start": 0.2,
            "bin_end": 0.30000000000000004,
            "count": 0
           },
           {
            "bin_start": 0.30000000000000004,
            "bin_end": 0.4,
            "count": 0
           },
           {
            "bin_start": 0.4,
            "bin_end": 0.5,
            "count": 0
           },
           {
            "bin_start": 0.5,
            "bin_end": 0.6000000000000001,
            "count": 0
           },
           {
            "bin_start": 0.6000000000000001,
            "bin_end": 0.7000000000000001,
            "count": 0
           },
           {
            "bin_start": 0.7000000000000001,
            "bin_end": 0.8,
            "count": 0
           },
           {
            "bin_start": 0.8,
            "bin_end": 0.9,
            "count": 0
           },
           {
            "bin_start": 0.9,
            "bin_end": 1,
            "count": 0
           }
          ]
         }
        },
        {
         "name": "_deepnote_index_column",
         "dtype": "int64"
        }
       ],
       "rows": []
      },
      "text/plain": "  documentDate picturedate lastchanged   adcreated    price  listprice  \\\n0   2020-09-25      2020/7  2020-08-07  2020-08-03  5150000  4650000.0   \n1   2020-09-29      2020/8  2020-12-14  2020-08-25  3900000  3650000.0   \n2   2021-12-02      2021/8  2021-08-01  2021-07-27  9900000  8750000.0   \n3   2009-11-12       4/186  2009-09-05  2009-08-24  1660000  1680000.0   \n4   2012-10-24      2012/6  2012-06-15  2012-06-01  5760000  5490000.0   \n\n         lat        lng                      address apartmentnumber  ...  \\\n0  59.913030  10.776672       Hagegata 41, 0653 Oslo           H0703  ...   \n1  59.918900  10.647900    Skogbrynet 16D, 0283 Oslo           U0101  ...   \n2  59.879000  10.799300  Ringshusveien 8B, 1176 Oslo           H0101  ...   \n3  59.887690  10.802634   Libakkfaret 1 A, 1184 Oslo           H0302  ...   \n4  59.944653  10.888134  Micheletveien 20, 1053 Oslo           U0102  ...   \n\n  F_Turterreng                                            adtitle  \\\n0          NaN  VISNING AVLYST! Direkte bud til selger. Topple...   \n1          1.0  Innbydende og lys 2-roms hjørneleilighet - Ves...   \n2          1.0  Oppussingsobjekt - Enebolig i kjede med skjerm...   \n3          NaN  BRATTLIKOLLEN - Lys og gjennomgående 3-roms se...   \n4          NaN  GAMLE FURUSET - Velholdt og romslig enebolig m...   \n\n   N_modernisering  N_oppussing  N_regulert  N_garasjemulighet postcode  \\\n0            False        False       False              False      653   \n1            False        False       False              False      283   \n2            False         True       False              False     1176   \n3            False        False       False              False     1184   \n4            False        False       False              False     1053   \n\n   Parking  price_inc_debt  area_id  \n0        1       5150000.0        1  \n1        1       3944838.0        6  \n2        1       9900000.0       14  \n3        0       1678207.0       14  \n4        0       5760000.0       12  \n\n[5 rows x 57 columns]",
      "text/html": "<div>\n<style scoped>\n    .dataframe tbody tr th:only-of-type {\n        vertical-align: middle;\n    }\n\n    .dataframe tbody tr th {\n        vertical-align: top;\n    }\n\n    .dataframe thead th {\n        text-align: right;\n    }\n</style>\n<table border=\"1\" class=\"dataframe\">\n  <thead>\n    <tr style=\"text-align: right;\">\n      <th></th>\n      <th>documentDate</th>\n      <th>picturedate</th>\n      <th>lastchanged</th>\n      <th>adcreated</th>\n      <th>price</th>\n      <th>listprice</th>\n      <th>lat</th>\n      <th>lng</th>\n      <th>address</th>\n      <th>apartmentnumber</th>\n      <th>...</th>\n      <th>F_Turterreng</th>\n      <th>adtitle</th>\n      <th>N_modernisering</th>\n      <th>N_oppussing</th>\n      <th>N_regulert</th>\n      <th>N_garasjemulighet</th>\n      <th>postcode</th>\n      <th>Parking</th>\n      <th>price_inc_debt</th>\n      <th>area_id</th>\n    </tr>\n  </thead>\n  <tbody>\n    <tr>\n      <th>0</th>\n      <td>2020-09-25</td>\n      <td>2020/7</td>\n      <td>2020-08-07</td>\n      <td>2020-08-03</td>\n      <td>5150000</td>\n      <td>4650000.0</td>\n      <td>59.913030</td>\n      <td>10.776672</td>\n      <td>Hagegata 41, 0653 Oslo</td>\n      <td>H0703</td>\n      <td>...</td>\n      <td>NaN</td>\n      <td>VISNING AVLYST! Direkte bud til selger. Topple...</td>\n      <td>False</td>\n      <td>False</td>\n      <td>False</td>\n      <td>False</td>\n      <td>653</td>\n      <td>1</td>\n      <td>5150000.0</td>\n      <td>1</td>\n    </tr>\n    <tr>\n      <th>1</th>\n      <td>2020-09-29</td>\n      <td>2020/8</td>\n      <td>2020-12-14</td>\n      <td>2020-08-25</td>\n      <td>3900000</td>\n      <td>3650000.0</td>\n      <td>59.918900</td>\n      <td>10.647900</td>\n      <td>Skogbrynet 16D, 0283 Oslo</td>\n      <td>U0101</td>\n      <td>...</td>\n      <td>1.0</td>\n      <td>Innbydende og lys 2-roms hjørneleilighet - Ves...</td>\n      <td>False</td>\n      <td>False</td>\n      <td>False</td>\n      <td>False</td>\n      <td>283</td>\n      <td>1</td>\n      <td>3944838.0</td>\n      <td>6</td>\n    </tr>\n    <tr>\n      <th>2</th>\n      <td>2021-12-02</td>\n      <td>2021/8</td>\n      <td>2021-08-01</td>\n      <td>2021-07-27</td>\n      <td>9900000</td>\n      <td>8750000.0</td>\n      <td>59.879000</td>\n      <td>10.799300</td>\n      <td>Ringshusveien 8B, 1176 Oslo</td>\n      <td>H0101</td>\n      <td>...</td>\n      <td>1.0</td>\n      <td>Oppussingsobjekt - Enebolig i kjede med skjerm...</td>\n      <td>False</td>\n      <td>True</td>\n      <td>False</td>\n      <td>False</td>\n      <td>1176</td>\n      <td>1</td>\n      <td>9900000.0</td>\n      <td>14</td>\n    </tr>\n    <tr>\n      <th>3</th>\n      <td>2009-11-12</td>\n      <td>4/186</td>\n      <td>2009-09-05</td>\n      <td>2009-08-24</td>\n      <td>1660000</td>\n      <td>1680000.0</td>\n      <td>59.887690</td>\n      <td>10.802634</td>\n      <td>Libakkfaret 1 A, 1184 Oslo</td>\n      <td>H0302</td>\n      <td>...</td>\n      <td>NaN</td>\n      <td>BRATTLIKOLLEN - Lys og gjennomgående 3-roms se...</td>\n      <td>False</td>\n      <td>False</td>\n      <td>False</td>\n      <td>False</td>\n      <td>1184</td>\n      <td>0</td>\n      <td>1678207.0</td>\n      <td>14</td>\n    </tr>\n    <tr>\n      <th>4</th>\n      <td>2012-10-24</td>\n      <td>2012/6</td>\n      <td>2012-06-15</td>\n      <td>2012-06-01</td>\n      <td>5760000</td>\n      <td>5490000.0</td>\n      <td>59.944653</td>\n      <td>10.888134</td>\n      <td>Micheletveien 20, 1053 Oslo</td>\n      <td>U0102</td>\n      <td>...</td>\n      <td>NaN</td>\n      <td>GAMLE FURUSET - Velholdt og romslig enebolig m...</td>\n      <td>False</td>\n      <td>False</td>\n      <td>False</td>\n      <td>False</td>\n      <td>1053</td>\n      <td>0</td>\n      <td>5760000.0</td>\n      <td>12</td>\n    </tr>\n  </tbody>\n</table>\n<p>5 rows × 57 columns</p>\n</div>"
     },
     "metadata": {}
    }
   ]
  },
  {
   "cell_type": "code",
   "metadata": {
    "cell_id": "00012-06d055c5-8550-4dda-942e-9229072c117d",
    "deepnote_output_heights": [
     310
    ],
    "deepnote_to_be_reexecuted": false,
    "source_hash": "9c321414",
    "execution_start": 1644227262963,
    "execution_millis": 457,
    "deepnote_cell_type": "code"
   },
   "source": "df['price'].hist(bins=70, range=[0,10000000], figsize=(17,6))\nplt.show()",
   "execution_count": null,
   "outputs": [
    {
     "data": {
      "text/plain": "<Figure size 1224x432 with 1 Axes>",
      "image/png": "[encoded data removed]"
     },
     "metadata": {
      "needs_background": "light",
      "image/png": {
       "width": 995,
       "height": 370
      }
     },
     "output_type": "display_data"
    }
   ]
  },
  {
   "cell_type": "code",
   "metadata": {
    "cell_id": "00013-073fd591-e606-4e70-bf33-dba895c85d8c",
    "deepnote_output_heights": [
     250
    ],
    "deepnote_to_be_reexecuted": false,
    "source_hash": "cff01a26",
    "execution_start": 1644227263395,
    "execution_millis": 309,
    "deepnote_cell_type": "code"
   },
   "source": "df[\"area_id\"].hist(bins=25)\nplt.show()",
   "execution_count": null,
   "outputs": [
    {
     "data": {
      "text/plain": "<Figure size 432x288 with 1 Axes>",
      "image/png": "[encoded data removed]"
     },
     "metadata": {
      "needs_background": "light",
      "image/png": {
       "width": 387,
       "height": 248
      }
     },
     "output_type": "display_data"
    }
   ]
  },
  {
   "cell_type": "code",
   "metadata": {
    "cell_id": "00014-88d3dadb-013e-4fbb-8bf5-2b40ddd80c82",
    "deepnote_to_be_reexecuted": false,
    "source_hash": "b623e53d",
    "execution_start": 1644227263719,
    "execution_millis": 346919464,
    "deepnote_cell_type": "code"
   },
   "source": "",
   "execution_count": null,
   "outputs": []
  },
  {
   "cell_type": "code",
   "metadata": {
    "cell_id": "7c28e39c-b084-46fd-939c-33ba8e5932e1",
    "tags": [],
    "deepnote_to_be_reexecuted": false,
    "source_hash": "b623e53d",
    "execution_start": 1644227263740,
    "execution_millis": 346919441,
    "deepnote_cell_type": "code"
   },
   "source": "",
   "execution_count": null,
   "outputs": []
  },
  {
   "cell_type": "code",
   "metadata": {
    "cell_id": "2b3d1cbb-ba95-418a-950c-eec301627af3",
    "tags": [],
    "deepnote_to_be_reexecuted": false,
    "source_hash": "b623e53d",
    "execution_start": 1644227263745,
    "execution_millis": 346919430,
    "deepnote_cell_type": "code"
   },
   "source": "",
   "execution_count": null,
   "outputs": []
  },
  {
   "cell_type": "code",
   "metadata": {
    "cell_id": "93699cf4-0436-46f5-bba6-1a12673335b9",
    "tags": [],
    "deepnote_to_be_reexecuted": false,
    "source_hash": "b623e53d",
    "execution_start": 1644227263793,
    "execution_millis": 346919420,
    "deepnote_cell_type": "code"
   },
   "source": "",
   "execution_count": null,
   "outputs": []
  },
  {
   "cell_type": "code",
   "metadata": {
    "cell_id": "50ee130c-a4d3-41bc-9d02-707859f10cf0",
    "tags": [],
    "deepnote_to_be_reexecuted": false,
    "source_hash": "b623e53d",
    "execution_start": 1644227263794,
    "execution_millis": 346919369,
    "deepnote_cell_type": "code"
   },
   "source": "",
   "execution_count": null,
   "outputs": []
  },
  {
   "cell_type": "markdown",
   "source": "<a style='text-decoration:none;line-height:16px;display:flex;color:#5B5B62;padding:10px;justify-content:end;' href='https://deepnote.com?utm_source=created-in-deepnote-cell&projectId=7a076037-bdbc-4d12-92b5-75ebface7fab' target=\"_blank\">\n<img alt='Created in deepnote.com' style='display:inline;max-height:16px;margin:0px;margin-right:7.5px;' src='data:image/svg+xml;base64,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' > </img>\nCreated in <span style='font-weight:600;margin-left:4px;'>Deepnote</span></a>",
   "metadata": {
    "tags": [],
    "created_in_deepnote_cell": true,
    "deepnote_cell_type": "markdown"
   }
  }
 ],
 "nbformat": 4,
 "nbformat_minor": 5,
 "metadata": {
  "kernelspec": {
   "display_name": "Python 3 (ipykernel)",
   "language": "python",
   "name": "python3"
  },
  "language_info": {
   "codemirror_mode": {
    "name": "ipython",
    "version": 3
   },
   "file_extension": ".py",
   "mimetype": "text/x-python",
   "name": "python",
   "nbconvert_exporter": "python",
   "pygments_lexer": "ipython3",
   "version": "3.9.6"
  },
  "deepnote_notebook_id": "412c32ea-12e7-4943-9595-4f2320b85aab",
  "deepnote": {},
  "deepnote_execution_queue": []
 }
}