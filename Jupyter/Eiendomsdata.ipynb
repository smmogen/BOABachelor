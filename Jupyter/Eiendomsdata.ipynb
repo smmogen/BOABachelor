{
 "cells": [
  {
   "cell_type": "code",
   "execution_count": 51,
   "id": "ca729166",
   "metadata": {
    "cell_id": "2d94c48d-2ab5-483e-b957-7096a7af5034",
    "deepnote_cell_height": 171,
    "deepnote_cell_type": "code",
    "deepnote_to_be_reexecuted": false,
    "execution_millis": 3087,
    "execution_start": 1646053680396,
    "source_hash": "502e9ba9"
   },
   "outputs": [],
   "source": [
    "# Importer biblioteker som trengs\n",
    "import pandas as pd\n",
    "import matplotlib.pyplot as plt\n",
    "import matplotlib.image as mpimg\n",
    "import numpy as np\n",
    "import seaborn as sb\n",
    "import datetime\n",
    "from sklearn import linear_model"
   ]
  },
  {
   "cell_type": "code",
   "execution_count": 52,
   "id": "f1195670",
   "metadata": {
    "cell_id": "00001-ee8f14d9-2253-4871-a3aa-fcb11991a616",
    "deepnote_cell_height": 99,
    "deepnote_cell_type": "code",
    "deepnote_to_be_reexecuted": false,
    "execution_millis": 2063,
    "execution_start": 1646053683492,
    "source_hash": "67247453"
   },
   "outputs": [],
   "source": [
    "# Importerer datasettet\n",
    "df = pd.read_csv('datasett.csv')"
   ]
  },
  {
   "cell_type": "code",
   "execution_count": 53,
   "id": "bd43caeb",
   "metadata": {
    "cell_id": "5687221a-a4eb-4a30-b921-3c545b1f51c5",
    "deepnote_cell_height": 407,
    "deepnote_cell_type": "code",
    "deepnote_table_loading": false,
    "deepnote_table_state": {
     "filters": [],
     "pageIndex": 0,
     "pageSize": 10,
     "sortBy": [
      {
       "id": "price",
       "type": "desc"
      }
     ]
    },
    "deepnote_to_be_reexecuted": false,
    "execution_millis": 171,
    "execution_start": 1646053685636,
    "source_hash": "9bf26057",
    "tags": []
   },
   "outputs": [
    {
     "data": {
      "text/html": [
       "<div>\n",
       "<style scoped>\n",
       "    .dataframe tbody tr th:only-of-type {\n",
       "        vertical-align: middle;\n",
       "    }\n",
       "\n",
       "    .dataframe tbody tr th {\n",
       "        vertical-align: top;\n",
       "    }\n",
       "\n",
       "    .dataframe thead th {\n",
       "        text-align: right;\n",
       "    }\n",
       "</style>\n",
       "<table border=\"1\" class=\"dataframe\">\n",
       "  <thead>\n",
       "    <tr style=\"text-align: right;\">\n",
       "      <th></th>\n",
       "      <th>documentDate</th>\n",
       "      <th>picturedate</th>\n",
       "      <th>lastchanged</th>\n",
       "      <th>adcreated</th>\n",
       "      <th>price</th>\n",
       "      <th>listprice</th>\n",
       "      <th>lat</th>\n",
       "      <th>lng</th>\n",
       "      <th>address</th>\n",
       "      <th>apartmentnumber</th>\n",
       "      <th>...</th>\n",
       "      <th>F_Turterreng</th>\n",
       "      <th>adtitle</th>\n",
       "      <th>N_modernisering</th>\n",
       "      <th>N_oppussing</th>\n",
       "      <th>N_regulert</th>\n",
       "      <th>N_garasjemulighet</th>\n",
       "      <th>postcode</th>\n",
       "      <th>Parking</th>\n",
       "      <th>price_inc_debt</th>\n",
       "      <th>area_id</th>\n",
       "    </tr>\n",
       "  </thead>\n",
       "  <tbody>\n",
       "    <tr>\n",
       "      <th>0</th>\n",
       "      <td>2020-09-25</td>\n",
       "      <td>2020/7</td>\n",
       "      <td>2020-08-07</td>\n",
       "      <td>2020-08-03</td>\n",
       "      <td>5150000</td>\n",
       "      <td>4650000.0</td>\n",
       "      <td>59.913030</td>\n",
       "      <td>10.776672</td>\n",
       "      <td>Hagegata 41, 0653 Oslo</td>\n",
       "      <td>H0703</td>\n",
       "      <td>...</td>\n",
       "      <td>NaN</td>\n",
       "      <td>VISNING AVLYST! Direkte bud til selger. Topple...</td>\n",
       "      <td>False</td>\n",
       "      <td>False</td>\n",
       "      <td>False</td>\n",
       "      <td>False</td>\n",
       "      <td>653</td>\n",
       "      <td>1</td>\n",
       "      <td>5150000.0</td>\n",
       "      <td>1</td>\n",
       "    </tr>\n",
       "    <tr>\n",
       "      <th>1</th>\n",
       "      <td>2020-09-29</td>\n",
       "      <td>2020/8</td>\n",
       "      <td>2020-12-14</td>\n",
       "      <td>2020-08-25</td>\n",
       "      <td>3900000</td>\n",
       "      <td>3650000.0</td>\n",
       "      <td>59.918900</td>\n",
       "      <td>10.647900</td>\n",
       "      <td>Skogbrynet 16D, 0283 Oslo</td>\n",
       "      <td>U0101</td>\n",
       "      <td>...</td>\n",
       "      <td>1.0</td>\n",
       "      <td>Innbydende og lys 2-roms hjørneleilighet - Ves...</td>\n",
       "      <td>False</td>\n",
       "      <td>False</td>\n",
       "      <td>False</td>\n",
       "      <td>False</td>\n",
       "      <td>283</td>\n",
       "      <td>1</td>\n",
       "      <td>3944838.0</td>\n",
       "      <td>6</td>\n",
       "    </tr>\n",
       "    <tr>\n",
       "      <th>2</th>\n",
       "      <td>2021-12-02</td>\n",
       "      <td>2021/8</td>\n",
       "      <td>2021-08-01</td>\n",
       "      <td>2021-07-27</td>\n",
       "      <td>9900000</td>\n",
       "      <td>8750000.0</td>\n",
       "      <td>59.879000</td>\n",
       "      <td>10.799300</td>\n",
       "      <td>Ringshusveien 8B, 1176 Oslo</td>\n",
       "      <td>H0101</td>\n",
       "      <td>...</td>\n",
       "      <td>1.0</td>\n",
       "      <td>Oppussingsobjekt - Enebolig i kjede med skjerm...</td>\n",
       "      <td>False</td>\n",
       "      <td>True</td>\n",
       "      <td>False</td>\n",
       "      <td>False</td>\n",
       "      <td>1176</td>\n",
       "      <td>1</td>\n",
       "      <td>9900000.0</td>\n",
       "      <td>14</td>\n",
       "    </tr>\n",
       "    <tr>\n",
       "      <th>3</th>\n",
       "      <td>2009-11-12</td>\n",
       "      <td>4/186</td>\n",
       "      <td>2009-09-05</td>\n",
       "      <td>2009-08-24</td>\n",
       "      <td>1660000</td>\n",
       "      <td>1680000.0</td>\n",
       "      <td>59.887690</td>\n",
       "      <td>10.802634</td>\n",
       "      <td>Libakkfaret 1 A, 1184 Oslo</td>\n",
       "      <td>H0302</td>\n",
       "      <td>...</td>\n",
       "      <td>NaN</td>\n",
       "      <td>BRATTLIKOLLEN - Lys og gjennomgående 3-roms se...</td>\n",
       "      <td>False</td>\n",
       "      <td>False</td>\n",
       "      <td>False</td>\n",
       "      <td>False</td>\n",
       "      <td>1184</td>\n",
       "      <td>0</td>\n",
       "      <td>1678207.0</td>\n",
       "      <td>14</td>\n",
       "    </tr>\n",
       "    <tr>\n",
       "      <th>4</th>\n",
       "      <td>2012-10-24</td>\n",
       "      <td>2012/6</td>\n",
       "      <td>2012-06-15</td>\n",
       "      <td>2012-06-01</td>\n",
       "      <td>5760000</td>\n",
       "      <td>5490000.0</td>\n",
       "      <td>59.944653</td>\n",
       "      <td>10.888134</td>\n",
       "      <td>Micheletveien 20, 1053 Oslo</td>\n",
       "      <td>U0102</td>\n",
       "      <td>...</td>\n",
       "      <td>NaN</td>\n",
       "      <td>GAMLE FURUSET - Velholdt og romslig enebolig m...</td>\n",
       "      <td>False</td>\n",
       "      <td>False</td>\n",
       "      <td>False</td>\n",
       "      <td>False</td>\n",
       "      <td>1053</td>\n",
       "      <td>0</td>\n",
       "      <td>5760000.0</td>\n",
       "      <td>12</td>\n",
       "    </tr>\n",
       "  </tbody>\n",
       "</table>\n",
       "<p>5 rows × 57 columns</p>\n",
       "</div>"
      ],
      "text/plain": [
       "  documentDate picturedate lastchanged   adcreated    price  listprice  \\\n",
       "0   2020-09-25      2020/7  2020-08-07  2020-08-03  5150000  4650000.0   \n",
       "1   2020-09-29      2020/8  2020-12-14  2020-08-25  3900000  3650000.0   \n",
       "2   2021-12-02      2021/8  2021-08-01  2021-07-27  9900000  8750000.0   \n",
       "3   2009-11-12       4/186  2009-09-05  2009-08-24  1660000  1680000.0   \n",
       "4   2012-10-24      2012/6  2012-06-15  2012-06-01  5760000  5490000.0   \n",
       "\n",
       "         lat        lng                      address apartmentnumber  ...  \\\n",
       "0  59.913030  10.776672       Hagegata 41, 0653 Oslo           H0703  ...   \n",
       "1  59.918900  10.647900    Skogbrynet 16D, 0283 Oslo           U0101  ...   \n",
       "2  59.879000  10.799300  Ringshusveien 8B, 1176 Oslo           H0101  ...   \n",
       "3  59.887690  10.802634   Libakkfaret 1 A, 1184 Oslo           H0302  ...   \n",
       "4  59.944653  10.888134  Micheletveien 20, 1053 Oslo           U0102  ...   \n",
       "\n",
       "  F_Turterreng                                            adtitle  \\\n",
       "0          NaN  VISNING AVLYST! Direkte bud til selger. Topple...   \n",
       "1          1.0  Innbydende og lys 2-roms hjørneleilighet - Ves...   \n",
       "2          1.0  Oppussingsobjekt - Enebolig i kjede med skjerm...   \n",
       "3          NaN  BRATTLIKOLLEN - Lys og gjennomgående 3-roms se...   \n",
       "4          NaN  GAMLE FURUSET - Velholdt og romslig enebolig m...   \n",
       "\n",
       "   N_modernisering  N_oppussing  N_regulert  N_garasjemulighet postcode  \\\n",
       "0            False        False       False              False      653   \n",
       "1            False        False       False              False      283   \n",
       "2            False         True       False              False     1176   \n",
       "3            False        False       False              False     1184   \n",
       "4            False        False       False              False     1053   \n",
       "\n",
       "   Parking  price_inc_debt  area_id  \n",
       "0        1       5150000.0        1  \n",
       "1        1       3944838.0        6  \n",
       "2        1       9900000.0       14  \n",
       "3        0       1678207.0       14  \n",
       "4        0       5760000.0       12  \n",
       "\n",
       "[5 rows x 57 columns]"
      ]
     },
     "execution_count": 53,
     "metadata": {},
     "output_type": "execute_result"
    }
   ],
   "source": [
    "# Tar en titt på dataen\n",
    "df.head()"
   ]
  },
  {
   "cell_type": "code",
   "execution_count": 54,
   "id": "da9e8139",
   "metadata": {
    "cell_id": "00002-b418a789-a747-4f9e-a266-d09143aad12b",
    "deepnote_cell_height": 498.8125,
    "deepnote_cell_type": "code",
    "deepnote_to_be_reexecuted": false,
    "execution_millis": 436373,
    "execution_start": 1646053685823,
    "source_hash": "2517bc9f"
   },
   "outputs": [
    {
     "name": "stdout",
     "output_type": "stream",
     "text": [
      "Antall rader i datasettet: 181250\n",
      "Antall kolonner i datasettet: 57\n",
      "\n",
      "Index(['documentDate', 'picturedate', 'lastchanged', 'adcreated', 'price',\n",
      "       'listprice', 'lat', 'lng', 'address', 'apartmentnumber',\n",
      "       'apartmenttype', 'conveyancetype', 'finncode', 'BRA', 'PROM',\n",
      "       'buildyear', 'matrikkel', 'bedrooms', 'rooms', 'bathrooms', 'WC',\n",
      "       'elevator', 'floor', 'housingtype', 'commondebt', 'commoncosts',\n",
      "       'F_Aircondition', 'F_Alarm', 'F_BalkongTerrasse', 'F_Barnevennlig',\n",
      "       'F_Bredbåndstilknytning', 'F_Fellesvaskeri', 'F_GarasjeP-plass',\n",
      "       'F_Heis', 'F_Ingen gjenboere', 'F_Lademulighet', 'F_Livsløpsstandard',\n",
      "       'F_Moderne', 'F_Offentlig vannkloakk', 'F_Parkett', 'F_PeisIldsted',\n",
      "       'F_Rolig', 'F_Sentralt', 'F_Utsikt', 'F_Vaktmester-vektertjeneste',\n",
      "       'F_Bademulighet', 'F_Fiskemulighet', 'F_Turterreng', 'adtitle',\n",
      "       'N_modernisering', 'N_oppussing', 'N_regulert', 'N_garasjemulighet',\n",
      "       'postcode', 'Parking', 'price_inc_debt', 'area_id'],\n",
      "      dtype='object')\n"
     ]
    }
   ],
   "source": [
    "# Printer litt info om datasettet\n",
    "print(f\"Antall rader i datasettet: {len(df)}\")\n",
    "print(f\"Antall kolonner i datasettet: {len(df.columns)}\")\n",
    "print()\n",
    "print(df.columns)"
   ]
  },
  {
   "cell_type": "code",
   "execution_count": 55,
   "id": "bf893eb5",
   "metadata": {
    "cell_id": "e6fa94fe-ad20-4d55-83db-e14a1dd364ee",
    "deepnote_cell_height": 99,
    "deepnote_cell_type": "code",
    "deepnote_to_be_reexecuted": false,
    "execution_millis": 436357,
    "execution_start": 1646053685867,
    "source_hash": "6a761762",
    "tags": []
   },
   "outputs": [],
   "source": [
    "#df.info()\n",
    "#df.describe() "
   ]
  },
  {
   "cell_type": "code",
   "execution_count": 56,
   "id": "1c372b3f",
   "metadata": {
    "cell_id": "00003-a0f671d3-600f-45e7-a9ef-bbca9f2f0e40",
    "deepnote_cell_height": 726,
    "deepnote_cell_type": "code",
    "deepnote_output_heights": [
     611
    ],
    "deepnote_to_be_reexecuted": false,
    "execution_millis": 137,
    "execution_start": 1646053685868,
    "source_hash": "b4b71d30"
   },
   "outputs": [
    {
     "data": {
      "text/plain": [
       "documentDate                        0\n",
       "picturedate                       257\n",
       "lastchanged                         0\n",
       "adcreated                           0\n",
       "price                               0\n",
       "listprice                           0\n",
       "lat                              1568\n",
       "lng                              1568\n",
       "address                             0\n",
       "apartmentnumber                   822\n",
       "apartmenttype                     792\n",
       "conveyancetype                      0\n",
       "finncode                            0\n",
       "BRA                              3273\n",
       "PROM                                0\n",
       "buildyear                         925\n",
       "matrikkel                           0\n",
       "bedrooms                         9385\n",
       "rooms                           51910\n",
       "bathrooms                           0\n",
       "WC                                  0\n",
       "elevator                          792\n",
       "floor                           37977\n",
       "housingtype                         0\n",
       "commondebt                      58689\n",
       "commoncosts                     15759\n",
       "F_Aircondition                 178173\n",
       "F_Alarm                        175171\n",
       "F_BalkongTerrasse               60920\n",
       "F_Barnevennlig                  72380\n",
       "F_Bredbåndstilknytning          80143\n",
       "F_Fellesvaskeri                148196\n",
       "F_GarasjeP-plass               108973\n",
       "F_Heis                         129931\n",
       "F_Ingen gjenboere              132973\n",
       "F_Lademulighet                 173472\n",
       "F_Livsløpsstandard             176498\n",
       "F_Moderne                      136234\n",
       "F_Offentlig vannkloakk          98042\n",
       "F_Parkett                       82952\n",
       "F_PeisIldsted                  128068\n",
       "F_Rolig                         76928\n",
       "F_Sentralt                      81605\n",
       "F_Utsikt                       119962\n",
       "F_Vaktmester-vektertjeneste    117235\n",
       "F_Bademulighet                 172852\n",
       "F_Fiskemulighet                178556\n",
       "F_Turterreng                   100291\n",
       "adtitle                             0\n",
       "N_modernisering                     0\n",
       "N_oppussing                         0\n",
       "N_regulert                          0\n",
       "N_garasjemulighet                   0\n",
       "postcode                            0\n",
       "Parking                             0\n",
       "price_inc_debt                      0\n",
       "area_id                             0\n",
       "dtype: int64"
      ]
     },
     "execution_count": 56,
     "metadata": {},
     "output_type": "execute_result"
    }
   ],
   "source": [
    "# Sjekker null-verdier\n",
    "df.isnull().sum()"
   ]
  },
  {
   "cell_type": "markdown",
   "id": "31d5ad06",
   "metadata": {
    "cell_id": "f2e7051f-28fb-49d3-8fa9-bb9cfbd8b95f",
    "deepnote_cell_height": 141.984375,
    "deepnote_cell_type": "markdown",
    "tags": []
   },
   "source": [
    "Som vi kan se så finnes det null-verdier for flere av variablene. Dette er helt vanlig i større datasett og er et problem vi må gjøre noe med. Alle null-verdiene for variabler som starter med F_ (fasteliteter), vil bli kodet om til 0, da dette er dummy-variabler med 0 og 1 som verdi. Videre ser vi at rom og etasje er de to variablene med flest null-verdier (henholdsvis 51 910 og 37 977). Det finnes også et høyt antall null-verider for fellesgjeld og felleskostnader, men dette er knyttet til eneboliger og rekkehus hvor man ikke har disse kostnadene."
   ]
  },
  {
   "cell_type": "code",
   "execution_count": 57,
   "id": "ec00e660",
   "metadata": {
    "cell_id": "2859dd53-6650-4867-b900-f402a7f53849",
    "deepnote_cell_height": 386.921875,
    "deepnote_cell_type": "code",
    "deepnote_output_heights": [
     289.921875
    ],
    "deepnote_to_be_reexecuted": false,
    "execution_millis": 19,
    "execution_start": 1646053686003,
    "source_hash": "ff0d33f4",
    "tags": []
   },
   "outputs": [
    {
     "data": {
      "text/plain": [
       "Leilighet                157774\n",
       "Enebolig                  10180\n",
       "Rekkehus                   7491\n",
       "Tomannsbolig               5638\n",
       "Andre                        66\n",
       "Tomter                       55\n",
       "Bygård/Flermannsbolig        29\n",
       "Annet fritid                  6\n",
       "Garasje/Parkering             5\n",
       "Gårdsbruk/Småbruk             2\n",
       "business                      1\n",
       "warehouse                     1\n",
       "multipurposearea              1\n",
       "Kontor                        1\n",
       "Name: housingtype, dtype: int64"
      ]
     },
     "execution_count": 57,
     "metadata": {},
     "output_type": "execute_result"
    }
   ],
   "source": [
    "df['housingtype'].value_counts()"
   ]
  },
  {
   "cell_type": "markdown",
   "id": "56f2e6e7",
   "metadata": {
    "cell_id": "3869877f-47ee-4671-a78b-0a615c54ecac",
    "deepnote_cell_height": 141.984375,
    "deepnote_cell_type": "markdown",
    "tags": []
   },
   "source": [
    "Vi starter med å se hvordan fordelingen av de ulike boligformene er i datasettet, og observerer at 87% av datapunktene i datasetter er leiligheter. I bydelene som er nærmest sentrum er over 90% av boliger leiligheter, mens i bydelene som ligger lengre borte fra sentrum er leilighetsandelen ned mot 40% på det laveste. Vi kan observere at det finnes 167 datapunkter som ikke er leilighet, enebolig, rekkehus eller tomannsbolig. Disse datapunktene vil ikke være relevante for oss så vi velger å utelate dem fra datasettet."
   ]
  },
  {
   "cell_type": "code",
   "execution_count": 58,
   "id": "2454f295",
   "metadata": {
    "cell_id": "c66a5199-1b48-425d-ae92-6e7a79b9f730",
    "deepnote_cell_height": 302.96875,
    "deepnote_cell_type": "code",
    "deepnote_output_heights": [
     97.96875
    ],
    "deepnote_to_be_reexecuted": false,
    "execution_millis": 1208,
    "execution_start": 1646053686059,
    "source_hash": "79bf7124",
    "tags": []
   },
   "outputs": [
    {
     "data": {
      "text/plain": [
       "Leilighet       157774\n",
       "Enebolig         10180\n",
       "Rekkehus          7491\n",
       "Tomannsbolig      5638\n",
       "Name: housingtype, dtype: int64"
      ]
     },
     "execution_count": 58,
     "metadata": {},
     "output_type": "execute_result"
    }
   ],
   "source": [
    "feil_bolig = ['Andre','Tomter','Bygård/Flermannsbolig','Annet fritid','Garasje/Parkering','Gårdsbruk/Småbruk','Kontor','multipurposearea','warehouse','business']\n",
    "\n",
    "for cat in feil_bolig:\n",
    "    df.drop(df[df['housingtype'] == cat].index, inplace=True)\n",
    "\n",
    "df['housingtype'].value_counts()\n"
   ]
  },
  {
   "cell_type": "markdown",
   "id": "b234b6be",
   "metadata": {
    "cell_id": "f9b23e94-4e10-4e9b-85a4-0ae6e0834991",
    "deepnote_cell_height": 74.796875,
    "deepnote_cell_type": "markdown",
    "deepnote_to_be_reexecuted": false,
    "execution_millis": 1,
    "execution_start": 1644315649954,
    "source_hash": "b623e53d",
    "tags": []
   },
   "source": [
    "Den neste variabelen vi skal se på er lengde/breddegrad variablene (lat,lng). Vi vet at Oslo ligger rundt breddegrad 59-60 og rundt lengdegrad 10. Dermed vil koordinater som avviker mye fra disse koordinatene være feil."
   ]
  },
  {
   "cell_type": "code",
   "execution_count": 59,
   "id": "de90bb59",
   "metadata": {
    "cell_id": "aec1f39f-1e1f-4cdb-8b46-dd8c42bca288",
    "deepnote_cell_height": 395,
    "deepnote_cell_type": "code",
    "deepnote_output_heights": [
     280
    ],
    "deepnote_to_be_reexecuted": false,
    "execution_millis": 776,
    "execution_start": 1646053686798,
    "source_hash": "639379d3",
    "tags": []
   },
   "outputs": [
    {
     "data": {
      "image/png": "[encoded data removed]",
      "text/plain": [
       "<Figure size 1152x360 with 2 Axes>"
      ]
     },
     "metadata": {
      "needs_background": "light"
     },
     "output_type": "display_data"
    }
   ],
   "source": [
    "df[['lat','lng']].hist(figsize=(16,5), bins=25)\n",
    "plt.show()"
   ]
  },
  {
   "cell_type": "markdown",
   "id": "057e22f4",
   "metadata": {
    "cell_id": "6b8c881f-6bc1-442b-a38c-875ac9e70f1f",
    "deepnote_cell_height": 52.390625,
    "deepnote_cell_type": "markdown",
    "deepnote_output_heights": [
     250
    ],
    "deepnote_to_be_reexecuted": false,
    "execution_millis": 0,
    "execution_start": 1643793800783,
    "source_hash": "b623e53d",
    "tags": []
   },
   "source": [
    "Som vi ser så treffer alle koordinatene på Oslo-området. Vi skal nå ta en titt på null-verdiene til datapunktene."
   ]
  },
  {
   "cell_type": "code",
   "execution_count": 60,
   "id": "3d8490b6",
   "metadata": {
    "cell_id": "97b25732-f52a-49f6-9919-2e51bd6a9ddb",
    "deepnote_cell_height": 174.578125,
    "deepnote_cell_type": "code",
    "deepnote_output_heights": [
     59.578125
    ],
    "deepnote_to_be_reexecuted": false,
    "execution_millis": 37,
    "execution_start": 1646053687578,
    "source_hash": "adcb1887",
    "tags": []
   },
   "outputs": [
    {
     "data": {
      "text/plain": [
       "lat    1567\n",
       "lng    1567\n",
       "dtype: int64"
      ]
     },
     "execution_count": 60,
     "metadata": {},
     "output_type": "execute_result"
    }
   ],
   "source": [
    "# Printer null-verdier for lat or lng\n",
    "df[['lat','lng']].isnull().sum()"
   ]
  },
  {
   "cell_type": "markdown",
   "id": "61b147ff",
   "metadata": {
    "cell_id": "8c03339c-c950-41ac-8e27-b181430fe0a4",
    "deepnote_cell_height": 119.59375,
    "deepnote_cell_type": "markdown",
    "tags": []
   },
   "source": [
    "Som vi kan se så har vi 1567 datapunkter som mangler lengde og breddegrader. En løsning vil da være å fjerne null-verdiene, men dette vil ikke være optimalt. Vi vil derfor prøve å finne koordinater for hver av de 16 bydelene, for deretter å erstatte null-verdiene med dette. Vi må derfor først lage koordinater for de 16 bydelene, for deretter å erstatte null-verdiene med disse. Koordinatene til bydelene vil være sentrum av bydelen."
   ]
  },
  {
   "cell_type": "code",
   "execution_count": 61,
   "id": "e47d7339",
   "metadata": {
    "cell_id": "4e3ac3ea-0b16-43cd-9106-f6e0092464e6",
    "deepnote_cell_height": 459,
    "deepnote_cell_type": "code",
    "deepnote_output_heights": [
     60
    ],
    "deepnote_to_be_reexecuted": false,
    "execution_millis": 309,
    "execution_start": 1646053687658,
    "source_hash": "4dffbf60",
    "tags": []
   },
   "outputs": [],
   "source": [
    "#Dictionary med bydeler (area_id) og tilsvarende koordinater til sentrum av bydelene\n",
    "bydeler_koordinater = {1:[59.911832, 10.789224], 2:[59.923818, 10.771007],3:[59.938290, 10.764674],\n",
    "4:[59.927053, 10.738491],5:[59.915947, 10.705421],6:[59.927271, 10.664877],7:[59.950695, 10.657639],\n",
    "8:[59.956516, 10.766631],9:[59.937116, 10.820808],10:[59.954572, 10.876033],11:[59.958182, 10.924858],\n",
    "12:[59.935980, 10.877371],13:[59.888390, 10.835148],14:[59.875677, 10.789629],15:[59.832622, 10.826528],\n",
    "16:[59.910462, 10.737319]}\n",
    "\n",
    "#Oppretter nye kolonner for lat/lng til bydelene\n",
    "df['Bydel_lat'] = df['area_id']\n",
    "df['Bydel_lng'] = df['area_id']\n",
    "\n",
    "#Endrer fra area_id til koordinater for bydelene\n",
    "for key, item in bydeler_koordinater.items():\n",
    "    df['Bydel_lat'].mask(df['Bydel_lat'] == key, item[0], inplace=True)\n",
    "    df['Bydel_lng'].mask(df['Bydel_lng'] == key, item[1], inplace=True)\n",
    "\n",
    "#Legger til dummy-variabel hvis det finnes null-verdi\n",
    "df['latlng_NV'] = (df['lat'].isna()).astype(int)\n",
    "\n",
    "#Fyller inn null-verdier med tilsvarende koordinater for bydelene\n",
    "df['lat'] = df['lat'].fillna(df['Bydel_lat'])\n",
    "df['lng'] = df['lng'].fillna(df['Bydel_lng'])\n",
    "\n",
    "#Fjerner åpenbare feildata\n",
    "df.drop(df[df['lat'] < 59.8].index, inplace = True)\n",
    "df.drop(df[df['lat'] > 59.98].index, inplace = True)"
   ]
  },
  {
   "cell_type": "markdown",
   "id": "2ad9788f",
   "metadata": {
    "cell_id": "333960f3-55f9-431b-8da5-089a089447fc",
    "deepnote_cell_height": 187,
    "deepnote_cell_type": "markdown",
    "deepnote_output_heights": [
     611
    ],
    "deepnote_to_be_reexecuted": false,
    "execution_millis": 90,
    "execution_start": 1644324241165,
    "source_hash": "b4b71d30",
    "tags": []
   },
   "source": [
    "Den neste variabelen vi skal se på er bruksareal (BRA). Det første vi må gjøre er å se på fordelingen for å kunne identifisere feil-verdier. BRA vil i de fleste tilfeller ligge mellom 50-100 for leiligheter, og 150-300 for større enebolig. Dette er det selvfølgelig unntak for med større leiligheter og boliger. Dermed vil det være vanskelig å skille mellom hva som er reelle store boliger, og hva som er feilverdier. En løsning er å fjerne verdier som er over 500 for eneboliger, rekkehus og tomannsboliger, hvis man har en pris som er under 10 000 000. Det er fordi boliger på >500 kvm vil så si alltid koste over 10 M. For leiligheter kan man fjerne verdier over 350 kvm hvis prisen er under 10M. Til slutt vil vi fjerne alle boliger med 1000 > BRA > 10 pga dette er åpenbare feildata etter å ha inspisert datapunktene.\n",
    "\n",
    " "
   ]
  },
  {
   "cell_type": "code",
   "execution_count": 62,
   "id": "49daa57d",
   "metadata": {
    "cell_id": "c3c1c711-320b-42cd-80b3-7a5bb9abfa1e",
    "deepnote_cell_height": 225,
    "deepnote_cell_type": "code",
    "deepnote_to_be_reexecuted": false,
    "execution_millis": 473,
    "execution_start": 1646053687978,
    "source_hash": "ffc43c7b",
    "tags": []
   },
   "outputs": [],
   "source": [
    "#Fjerner alle boliger med BRA>500 og pris<10 000 000\n",
    "df.drop(df[(df['BRA'] > 500) & (df['price'] < 10000000)].index, inplace = True)\n",
    "#Fjerner alle leiligheter med BRA>350 og pris<10 000 000\n",
    "df.drop(df[(df['BRA'] > 350) & (df['housingtype'] == 'Leilighet') & (df['price'] < 10000000)].index, inplace = True)\n",
    "#Fjerner alle boliger med BRA > 1000\n",
    "df.drop(df[df['BRA'] > 1000].index, inplace = True)\n",
    "#Fjerner alle boliger med BRA < 10 og PROM <10\n",
    "df.drop(df[df['BRA'] < 10].index, inplace = True)\n",
    "df.drop(df[df['PROM'] < 10].index, inplace = True)"
   ]
  },
  {
   "cell_type": "code",
   "execution_count": 63,
   "id": "7d64ab8e",
   "metadata": {
    "cell_id": "05fca3c2-ad6d-42cf-bcb8-07b49d838d61",
    "deepnote_cell_height": 754,
    "deepnote_cell_type": "code",
    "deepnote_output_heights": [
     268,
     268
    ],
    "deepnote_to_be_reexecuted": false,
    "execution_millis": 1429,
    "execution_start": 1646053688523,
    "source_hash": "4774ca9c",
    "tags": []
   },
   "outputs": [
    {
     "data": {
      "image/png": "[encoded data removed]",
      "text/plain": [
       "<Figure size 1152x360 with 1 Axes>"
      ]
     },
     "metadata": {
      "needs_background": "light"
     },
     "output_type": "display_data"
    },
    {
     "data": {
      "image/png": "[encoded data removed]",
      "text/plain": [
       "<Figure size 1152x360 with 1 Axes>"
      ]
     },
     "metadata": {
      "needs_background": "light"
     },
     "output_type": "display_data"
    }
   ],
   "source": [
    "#Printer histogram over fordelingen\n",
    "df['BRA'].hist(bins=50, figsize=(16,5))\n",
    "plt.show()\n",
    "#Printer histogram over fordelingen mellom 0 og 200 kvm\n",
    "df['BRA'].hist(bins=50, figsize=(16,5), range=[0,200])\n",
    "plt.show()"
   ]
  },
  {
   "cell_type": "markdown",
   "id": "5e93eb77",
   "metadata": {
    "cell_id": "29e2d438-77ca-4afc-ac08-8920171f0851",
    "deepnote_cell_height": 134,
    "deepnote_cell_type": "markdown",
    "deepnote_output_heights": [
     611
    ],
    "deepnote_table_loading": false,
    "deepnote_table_state": {
     "filters": [],
     "pageIndex": 0,
     "pageSize": 100,
     "sortBy": [
      {
       "id": "BRA",
       "type": "desc"
      }
     ]
    },
    "deepnote_to_be_reexecuted": false,
    "execution_millis": 7,
    "execution_start": 1644329377571,
    "source_hash": "b623e53d",
    "tags": []
   },
   "source": [
    "Som vi kan se så er dataen høyreskjev, noe som vil være naturlig da det finnes langt flere små boliger. Videre må vi nå gjøre noe med null-verdiene. Siden BRA henger tett sammen med primærrom (PROM), så vil en brukbar løsning være å finne forholdet mellom disse variablene og deretter bruke det for å generere BRA hvor man ikke har dette oppgitt.\n",
    "\n",
    "Det første vi gjør er å plotte forholdet mellom disse to variablene i et scatter-plot."
   ]
  },
  {
   "cell_type": "code",
   "execution_count": 64,
   "id": "841583fa",
   "metadata": {
    "cell_id": "1b7692c2-795c-4935-b0be-f1e433495ab6",
    "deepnote_cell_height": 365,
    "deepnote_cell_type": "code",
    "deepnote_output_heights": [
     250
    ],
    "deepnote_to_be_reexecuted": false,
    "execution_millis": 615,
    "execution_start": 1646053689632,
    "source_hash": "1491a2ba",
    "tags": []
   },
   "outputs": [
    {
     "data": {
      "image/png": "[encoded data removed]",
      "text/plain": [
       "<Figure size 432x288 with 1 Axes>"
      ]
     },
     "metadata": {
      "needs_background": "light"
     },
     "output_type": "display_data"
    }
   ],
   "source": [
    "plt.scatter(df['BRA'],df['PROM'], s=5)\n",
    "plt.show()"
   ]
  },
  {
   "cell_type": "markdown",
   "id": "9aa4703c",
   "metadata": {
    "cell_id": "bd9fa60d-4b8e-46b4-8422-4b2857c33ce0",
    "deepnote_cell_height": 97.1875,
    "deepnote_cell_type": "markdown",
    "tags": []
   },
   "source": [
    "Som vi kan se så virker det som om det er noen datapunkter hvor man har mikset opp PROM og BRA, da PROM alltid er mindre enn BRA. Dette er klare feilverdier og noe vi må fjerne. Videre vil vi finne sammenhengen mellom variablene ved bruk av linær regresjon."
   ]
  },
  {
   "cell_type": "code",
   "execution_count": 65,
   "id": "1c75eb62",
   "metadata": {
    "cell_id": "d1808de4-7b13-4dc4-919b-12226e82b1f5",
    "deepnote_cell_height": 356.96875,
    "deepnote_cell_type": "code",
    "deepnote_output_heights": [
     null,
     59.578125
    ],
    "deepnote_to_be_reexecuted": false,
    "execution_millis": 66,
    "execution_start": 1646053690318,
    "source_hash": "14f7c85e",
    "tags": []
   },
   "outputs": [],
   "source": [
    "#Fjerner datapunkter hvor PROM > BRA\n",
    "df.drop(df[df['PROM'] > df['BRA']].index, inplace=True)\n",
    "\n",
    "#Lager en ny datafram uten null-verdier for BRA slik at man kan gjøre en linear regresjon\n",
    "df_PROM_BRA = df[['PROM','BRA']]\n",
    "df_PROM_BRA.dropna(axis=0, inplace=True)\n",
    "\n",
    "#Definerer og tilpasser modellen\n",
    "model = linear_model.LinearRegression()\n",
    "model = model.fit(df_PROM_BRA[['PROM']], df_PROM_BRA[['BRA']])"
   ]
  },
  {
   "cell_type": "code",
   "execution_count": 66,
   "id": "d4f38373",
   "metadata": {
    "cell_id": "b95d6c4d-5d9d-4815-adb6-36c6b8a18bce",
    "deepnote_cell_height": 313.078125,
    "deepnote_cell_type": "code",
    "deepnote_output_heights": [
     606.5
    ],
    "deepnote_to_be_reexecuted": false,
    "execution_millis": 3,
    "execution_start": 1646053690447,
    "source_hash": "6488f9c3",
    "tags": []
   },
   "outputs": [
    {
     "name": "stdout",
     "output_type": "stream",
     "text": [
      "R^2 for modellen er: 97.1819%\n",
      "Koeffisienten: [1.12681167]\n",
      "Skjæringspiunktet: [-6.25761408]\n"
     ]
    }
   ],
   "source": [
    "#Printer ut R-scoren, koeffisientene og skjæringspunktet\n",
    "skjæringspunktet = model.intercept_.astype(float)\n",
    "koeffisienten = model.coef_[0].astype(float)\n",
    "\n",
    "print(f\"R^2 for modellen er: {model.score(df_PROM_BRA[['PROM']], df_PROM_BRA[['BRA']])*100:.4f}%\") # R^2\n",
    "print(f'Koeffisienten: {koeffisienten}')  # Koeffisient\n",
    "print(f'Skjæringspiunktet: {skjæringspunktet:}') # Skjæringspunktet\n",
    "\n",
    "#Erstatter alle null-verdier for BRA med tilhørende PROM * koeffisienten + skjæringspunktet\n",
    "df['BRA'] = df['BRA'].fillna((skjæringspunktet + df['PROM']*koeffisienten))"
   ]
  },
  {
   "cell_type": "code",
   "execution_count": 67,
   "id": "101d2143",
   "metadata": {
    "cell_id": "f2d31bc9-13fc-40c4-95ad-fcf3d35fdaf6",
    "deepnote_cell_height": 357,
    "deepnote_cell_type": "code",
    "deepnote_table_loading": false,
    "deepnote_table_state": {
     "filters": [],
     "pageIndex": 3,
     "pageSize": 100,
     "sortBy": []
    },
    "deepnote_to_be_reexecuted": false,
    "execution_millis": 293,
    "execution_start": 1646053690490,
    "source_hash": "c085b6ba",
    "tags": []
   },
   "outputs": [
    {
     "data": {
      "text/html": [
       "<div>\n",
       "<style scoped>\n",
       "    .dataframe tbody tr th:only-of-type {\n",
       "        vertical-align: middle;\n",
       "    }\n",
       "\n",
       "    .dataframe tbody tr th {\n",
       "        vertical-align: top;\n",
       "    }\n",
       "\n",
       "    .dataframe thead th {\n",
       "        text-align: right;\n",
       "    }\n",
       "</style>\n",
       "<table border=\"1\" class=\"dataframe\">\n",
       "  <thead>\n",
       "    <tr style=\"text-align: right;\">\n",
       "      <th></th>\n",
       "      <th>documentDate</th>\n",
       "      <th>picturedate</th>\n",
       "      <th>lastchanged</th>\n",
       "      <th>adcreated</th>\n",
       "      <th>price</th>\n",
       "      <th>listprice</th>\n",
       "      <th>lat</th>\n",
       "      <th>lng</th>\n",
       "      <th>address</th>\n",
       "      <th>apartmentnumber</th>\n",
       "      <th>...</th>\n",
       "      <th>N_oppussing</th>\n",
       "      <th>N_regulert</th>\n",
       "      <th>N_garasjemulighet</th>\n",
       "      <th>postcode</th>\n",
       "      <th>Parking</th>\n",
       "      <th>price_inc_debt</th>\n",
       "      <th>area_id</th>\n",
       "      <th>Bydel_lat</th>\n",
       "      <th>Bydel_lng</th>\n",
       "      <th>latlng_NV</th>\n",
       "    </tr>\n",
       "  </thead>\n",
       "  <tbody>\n",
       "    <tr>\n",
       "      <th>0</th>\n",
       "      <td>2020-09-25</td>\n",
       "      <td>2020/7</td>\n",
       "      <td>2020-08-07</td>\n",
       "      <td>2020-08-03</td>\n",
       "      <td>5150000</td>\n",
       "      <td>4650000.0</td>\n",
       "      <td>59.913030</td>\n",
       "      <td>10.776672</td>\n",
       "      <td>Hagegata 41, 0653 Oslo</td>\n",
       "      <td>H0703</td>\n",
       "      <td>...</td>\n",
       "      <td>False</td>\n",
       "      <td>False</td>\n",
       "      <td>False</td>\n",
       "      <td>653</td>\n",
       "      <td>1</td>\n",
       "      <td>5150000.0</td>\n",
       "      <td>1</td>\n",
       "      <td>59.911832</td>\n",
       "      <td>10.789224</td>\n",
       "      <td>0</td>\n",
       "    </tr>\n",
       "    <tr>\n",
       "      <th>1</th>\n",
       "      <td>2020-09-29</td>\n",
       "      <td>2020/8</td>\n",
       "      <td>2020-12-14</td>\n",
       "      <td>2020-08-25</td>\n",
       "      <td>3900000</td>\n",
       "      <td>3650000.0</td>\n",
       "      <td>59.918900</td>\n",
       "      <td>10.647900</td>\n",
       "      <td>Skogbrynet 16D, 0283 Oslo</td>\n",
       "      <td>U0101</td>\n",
       "      <td>...</td>\n",
       "      <td>False</td>\n",
       "      <td>False</td>\n",
       "      <td>False</td>\n",
       "      <td>283</td>\n",
       "      <td>1</td>\n",
       "      <td>3944838.0</td>\n",
       "      <td>6</td>\n",
       "      <td>59.927271</td>\n",
       "      <td>10.664877</td>\n",
       "      <td>0</td>\n",
       "    </tr>\n",
       "    <tr>\n",
       "      <th>2</th>\n",
       "      <td>2021-12-02</td>\n",
       "      <td>2021/8</td>\n",
       "      <td>2021-08-01</td>\n",
       "      <td>2021-07-27</td>\n",
       "      <td>9900000</td>\n",
       "      <td>8750000.0</td>\n",
       "      <td>59.879000</td>\n",
       "      <td>10.799300</td>\n",
       "      <td>Ringshusveien 8B, 1176 Oslo</td>\n",
       "      <td>H0101</td>\n",
       "      <td>...</td>\n",
       "      <td>True</td>\n",
       "      <td>False</td>\n",
       "      <td>False</td>\n",
       "      <td>1176</td>\n",
       "      <td>1</td>\n",
       "      <td>9900000.0</td>\n",
       "      <td>14</td>\n",
       "      <td>59.875677</td>\n",
       "      <td>10.789629</td>\n",
       "      <td>0</td>\n",
       "    </tr>\n",
       "    <tr>\n",
       "      <th>3</th>\n",
       "      <td>2009-11-12</td>\n",
       "      <td>4/186</td>\n",
       "      <td>2009-09-05</td>\n",
       "      <td>2009-08-24</td>\n",
       "      <td>1660000</td>\n",
       "      <td>1680000.0</td>\n",
       "      <td>59.887690</td>\n",
       "      <td>10.802634</td>\n",
       "      <td>Libakkfaret 1 A, 1184 Oslo</td>\n",
       "      <td>H0302</td>\n",
       "      <td>...</td>\n",
       "      <td>False</td>\n",
       "      <td>False</td>\n",
       "      <td>False</td>\n",
       "      <td>1184</td>\n",
       "      <td>0</td>\n",
       "      <td>1678207.0</td>\n",
       "      <td>14</td>\n",
       "      <td>59.875677</td>\n",
       "      <td>10.789629</td>\n",
       "      <td>0</td>\n",
       "    </tr>\n",
       "    <tr>\n",
       "      <th>4</th>\n",
       "      <td>2012-10-24</td>\n",
       "      <td>2012/6</td>\n",
       "      <td>2012-06-15</td>\n",
       "      <td>2012-06-01</td>\n",
       "      <td>5760000</td>\n",
       "      <td>5490000.0</td>\n",
       "      <td>59.944653</td>\n",
       "      <td>10.888134</td>\n",
       "      <td>Micheletveien 20, 1053 Oslo</td>\n",
       "      <td>U0102</td>\n",
       "      <td>...</td>\n",
       "      <td>False</td>\n",
       "      <td>False</td>\n",
       "      <td>False</td>\n",
       "      <td>1053</td>\n",
       "      <td>0</td>\n",
       "      <td>5760000.0</td>\n",
       "      <td>12</td>\n",
       "      <td>59.935980</td>\n",
       "      <td>10.877371</td>\n",
       "      <td>0</td>\n",
       "    </tr>\n",
       "  </tbody>\n",
       "</table>\n",
       "<p>5 rows × 60 columns</p>\n",
       "</div>"
      ],
      "text/plain": [
       "  documentDate picturedate lastchanged   adcreated    price  listprice  \\\n",
       "0   2020-09-25      2020/7  2020-08-07  2020-08-03  5150000  4650000.0   \n",
       "1   2020-09-29      2020/8  2020-12-14  2020-08-25  3900000  3650000.0   \n",
       "2   2021-12-02      2021/8  2021-08-01  2021-07-27  9900000  8750000.0   \n",
       "3   2009-11-12       4/186  2009-09-05  2009-08-24  1660000  1680000.0   \n",
       "4   2012-10-24      2012/6  2012-06-15  2012-06-01  5760000  5490000.0   \n",
       "\n",
       "         lat        lng                      address apartmentnumber  ...  \\\n",
       "0  59.913030  10.776672       Hagegata 41, 0653 Oslo           H0703  ...   \n",
       "1  59.918900  10.647900    Skogbrynet 16D, 0283 Oslo           U0101  ...   \n",
       "2  59.879000  10.799300  Ringshusveien 8B, 1176 Oslo           H0101  ...   \n",
       "3  59.887690  10.802634   Libakkfaret 1 A, 1184 Oslo           H0302  ...   \n",
       "4  59.944653  10.888134  Micheletveien 20, 1053 Oslo           U0102  ...   \n",
       "\n",
       "  N_oppussing N_regulert  N_garasjemulighet  postcode  Parking  \\\n",
       "0       False      False              False       653        1   \n",
       "1       False      False              False       283        1   \n",
       "2        True      False              False      1176        1   \n",
       "3       False      False              False      1184        0   \n",
       "4       False      False              False      1053        0   \n",
       "\n",
       "   price_inc_debt area_id  Bydel_lat  Bydel_lng  latlng_NV  \n",
       "0       5150000.0       1  59.911832  10.789224          0  \n",
       "1       3944838.0       6  59.927271  10.664877          0  \n",
       "2       9900000.0      14  59.875677  10.789629          0  \n",
       "3       1678207.0      14  59.875677  10.789629          0  \n",
       "4       5760000.0      12  59.935980  10.877371          0  \n",
       "\n",
       "[5 rows x 60 columns]"
      ]
     },
     "execution_count": 67,
     "metadata": {},
     "output_type": "execute_result"
    }
   ],
   "source": [
    "df.head()"
   ]
  },
  {
   "cell_type": "markdown",
   "id": "db161b56",
   "metadata": {
    "cell_id": "6ec79f5e-08b7-4b56-8c19-b97a84aab669",
    "deepnote_cell_height": 178.390625,
    "deepnote_cell_type": "markdown",
    "tags": []
   },
   "source": [
    "Den neste variabelen vi skal se på er byggeår. Vi starter da med å få en oversikt over fordelingen av dataen. I datasettet vårt er de eldste boligene fra tidlig 1600 tallet. Modellen vår skal brukes til å predikere gjennomsnittlige boliger, og dermed vil det ikke være hensiktsmessig å ha med boliger bygget før  1800, da dette ikke går inn under en gjennomsnittlig bolig. De fleste av de eldste boligene i datasettet er ikke \"vanlige\" eiendommer, så dermed vil man få en mindre presis modell ved å inkludere disse. I tillegg vil vi få en svært høyreskjev fordeling.\n",
    "\n",
    "\n",
    "I tillegg finnes det rett under 1000 null-verdier som vi velger å fjerne da det vil være vanskelig å beregne byggeår."
   ]
  },
  {
   "cell_type": "code",
   "execution_count": 68,
   "id": "832acd20",
   "metadata": {
    "cell_id": "871fd60d-bad4-4cbe-aac6-3f061d053cbe",
    "deepnote_cell_height": 190.1875,
    "deepnote_cell_type": "code",
    "deepnote_output_heights": [
     21.1875
    ],
    "deepnote_to_be_reexecuted": false,
    "execution_millis": 110,
    "execution_start": 1646053690838,
    "source_hash": "e03823f8",
    "tags": []
   },
   "outputs": [
    {
     "data": {
      "text/plain": [
       "0"
      ]
     },
     "execution_count": 68,
     "metadata": {},
     "output_type": "execute_result"
    }
   ],
   "source": [
    "#Fjerner alle boliger med byggeår < 1800\n",
    "df.drop(df[df['buildyear'] < 1800].index, inplace = True)\n",
    "#Fjerner null-verdier\n",
    "df = df[df['buildyear'].notna()]\n",
    "df['buildyear'].isnull().sum()"
   ]
  },
  {
   "cell_type": "code",
   "execution_count": 69,
   "id": "d877d621",
   "metadata": {
    "cell_id": "ac76c937-c259-4ddf-9bbe-4d671f169464",
    "deepnote_cell_height": 335.15625,
    "deepnote_cell_type": "code",
    "deepnote_output_heights": [
     220.15625
    ],
    "deepnote_to_be_reexecuted": false,
    "execution_millis": 420,
    "execution_start": 1646053690958,
    "source_hash": "437b8a3b",
    "tags": []
   },
   "outputs": [
    {
     "data": {
      "image/png": "[encoded data removed]",
      "text/plain": [
       "<Figure size 1152x288 with 1 Axes>"
      ]
     },
     "metadata": {
      "needs_background": "light"
     },
     "output_type": "display_data"
    }
   ],
   "source": [
    "df['buildyear'].hist(bins=50, figsize=(16,4))\n",
    "plt.show()"
   ]
  },
  {
   "cell_type": "markdown",
   "id": "9b4b66ac",
   "metadata": {
    "cell_id": "ca468561-4222-43e9-9a34-6aec21f38b98",
    "deepnote_cell_height": 52.390625,
    "deepnote_cell_type": "markdown",
    "deepnote_output_heights": [
     21
    ],
    "deepnote_to_be_reexecuted": false,
    "execution_millis": 153671413,
    "execution_start": 1644485827021,
    "source_hash": "2f88c77a",
    "tags": []
   },
   "source": [
    "Videre skal vi nå se på soverom og antall rom totalt. Hvordan er fordelingen, og hva må vi gjøre med eventuelle null-verdier?"
   ]
  },
  {
   "cell_type": "code",
   "execution_count": 70,
   "id": "d64b63ee",
   "metadata": {
    "cell_id": "04ffd01e-1b1b-4112-ada1-f6f107c5d6b7",
    "deepnote_cell_height": 401.03125,
    "deepnote_cell_type": "code",
    "deepnote_output_heights": [
     184.640625
    ],
    "deepnote_to_be_reexecuted": false,
    "execution_millis": 931,
    "execution_start": 1646053691450,
    "source_hash": "d9378346",
    "tags": []
   },
   "outputs": [
    {
     "data": {
      "image/png": "[encoded data removed]",
      "text/plain": [
       "<Figure size 1152x216 with 2 Axes>"
      ]
     },
     "metadata": {
      "needs_background": "light"
     },
     "output_type": "display_data"
    },
    {
     "name": "stdout",
     "output_type": "stream",
     "text": [
      "Antall null-verdier for 'rooms':    51174\n",
      "Antall null-verdier for 'bedrooms': 9255\n"
     ]
    }
   ],
   "source": [
    "df[['rooms','bedrooms']].hist(bins=40, figsize=(16,3)) #Printer fordeling i histogram\n",
    "plt.show()\n",
    "print(f\"Antall null-verdier for 'rooms':    {df['rooms'].isnull().sum()}\")\n",
    "print(f\"Antall null-verdier for 'bedrooms': {df['bedrooms'].isnull().sum()}\")"
   ]
  },
  {
   "cell_type": "markdown",
   "id": "4d798ada",
   "metadata": {
    "cell_id": "d1cf380f-ddb1-4165-b2bc-8dc41aa97cf2",
    "deepnote_cell_height": 223.1875,
    "deepnote_cell_type": "markdown",
    "deepnote_to_be_reexecuted": false,
    "execution_millis": 154019367,
    "execution_start": 1644485827104,
    "source_hash": "b623e53d",
    "tags": []
   },
   "source": [
    "Som vi kan se så finnes det helt klart noen feildata i begge kategoriene. I tillegg er det slik at vi har 51 345 null-verdier for antall rom. Dette tilsvarer rundt 30%, og er svært høyt. Løsningen for denne variabelen vil dermed bli å fjerne den helt, da det er såpass mange null-verdier.\n",
    "\n",
    "For soverom så har vi 9 279 null-verdier. Dette er relativt høyt, men det er noe vi kan gjøre noe med. Det første vi gjør er å fjerne datapunkter med over 15 soverom da dette helt klart er feilverdier. Videre må vi finne en måte å håndtere null-verdiene på. Løsningen vi går for da er å bruke gjennomsnitt for antall soverom til å erstatte null-verdiene. (FORDEL ULEMPER VED DETTE). Vi så på muligheten for å koble det sammen med BRA eller PROM, men dette har en relativt liten korrelasjon, så det vil være en bedre løsning å bruke gjennomsnitt."
   ]
  },
  {
   "cell_type": "code",
   "execution_count": 71,
   "id": "3e165fbe",
   "metadata": {
    "cell_id": "eaff9081-c320-4037-bbe6-64c3eb9934c1",
    "deepnote_cell_height": 225,
    "deepnote_cell_type": "code",
    "deepnote_output_heights": [
     232.34375
    ],
    "deepnote_to_be_reexecuted": false,
    "execution_millis": 124,
    "execution_start": 1646053692096,
    "source_hash": "8d00f7de",
    "tags": []
   },
   "outputs": [],
   "source": [
    "#Fjerner soverom > 15\n",
    "df.drop(df[df['bedrooms'] >15].index, inplace = True)\n",
    "\n",
    "#Erstatter null-verdier med gjennomsnitt og lager dummy-variabel ved null-verdi\n",
    "df['bedrooms_NV'] = (df['bedrooms'].isna()).astype(int)\n",
    "df['bedrooms'].fillna(df['bedrooms'].mean(), inplace=True)\n",
    "\n",
    "#Fjerner \"rooms\"-variabelen\n",
    "df.drop('rooms',inplace=True, axis=1)"
   ]
  },
  {
   "cell_type": "markdown",
   "id": "cf06148c",
   "metadata": {
    "cell_id": "c537ce24-7e16-4cb5-8494-4705c22460a9",
    "deepnote_cell_height": 119.59375,
    "deepnote_cell_type": "markdown",
    "tags": []
   },
   "source": [
    "Vi har nå fått fikset opp i de variablene, og videre skal vi se på hvordan fordelingen av \"bathrooms\" og \"WC\" er. Fra før av har vi fått oppgitt at variabelen \"bathrooms\" er svært mangelfull, og vanskelig å verifisere. For eksempel finnes det rundt 40 000 datapunkter med 0 som antall bad. Dette er tvilsomme data og når man i tillegg da har rundt 10 000 null-verdier for denne variabelen gjør det at vi velger å fjerne den helt."
   ]
  },
  {
   "cell_type": "code",
   "execution_count": 72,
   "id": "f1ced162",
   "metadata": {
    "cell_id": "d3c34aab-5612-4a4b-a8b1-5cc225ad1b7d",
    "deepnote_cell_height": 299.828125,
    "deepnote_cell_type": "code",
    "deepnote_output_heights": [
     184.828125
    ],
    "deepnote_table_loading": false,
    "deepnote_table_state": {
     "filters": [],
     "pageIndex": 0,
     "pageSize": 10,
     "sortBy": [
      {
       "id": "price",
       "type": "desc"
      }
     ]
    },
    "deepnote_to_be_reexecuted": false,
    "execution_millis": 637,
    "execution_start": 1646053692270,
    "source_hash": "47968ee1",
    "tags": []
   },
   "outputs": [
    {
     "data": {
      "image/png": "[encoded data removed]",
      "text/plain": [
       "<Figure size 1152x216 with 2 Axes>"
      ]
     },
     "metadata": {
      "needs_background": "light"
     },
     "output_type": "display_data"
    }
   ],
   "source": [
    "df[['bathrooms','WC']].hist(bins=40, figsize=(16,3)) #Printer fordeling i histogram\n",
    "plt.show()"
   ]
  },
  {
   "cell_type": "code",
   "execution_count": 73,
   "id": "30091dff",
   "metadata": {
    "cell_id": "88ba0d14-7a68-40b9-88d5-3998ece3105a",
    "deepnote_cell_height": 81,
    "deepnote_cell_type": "code",
    "deepnote_table_loading": false,
    "deepnote_table_state": {
     "filters": [],
     "pageIndex": 0,
     "pageSize": 10,
     "sortBy": [
      {
       "id": "price",
       "type": "desc"
      }
     ]
    },
    "deepnote_to_be_reexecuted": false,
    "execution_millis": 138,
    "execution_start": 1646053692958,
    "source_hash": "334898f6",
    "tags": []
   },
   "outputs": [],
   "source": [
    "df.drop(df['bathrooms'], inplace=True)"
   ]
  },
  {
   "cell_type": "markdown",
   "id": "a58c7073",
   "metadata": {
    "cell_id": "327ff960-8ce8-4c61-b9b0-22fc180657cc",
    "deepnote_cell_height": 192.390625,
    "deepnote_cell_type": "markdown",
    "tags": []
   },
   "source": [
    "Den neste variabelen vi skal se på er heis-variabelen. Som vi kan se fra listen over variabler, så er det også en fastelitetsvariabel på heis (F_Heis). Disse henger tett sammen, men for rundt 5 000 datapunkter så er det ulik verdi. Vi velger derfor å fjerne \"F_Heis\", og gå videre med \"elevator\" variabelen.\n",
    "\n",
    "For \"elevator\" så er verdiene kodet som J/N, altså ikke numerisk. Dette vil vi transformere til 1/0. Videre kan vi også observere at det er 783 nullverdier. Disse vil vi omkode til 0.\n",
    "\n",
    "Det er også viktig å huske på at heis-variabelen bare er relevant i leiligheter, da de fleste eneboliger ikke har bruk for heis."
   ]
  },
  {
   "cell_type": "code",
   "execution_count": 74,
   "id": "a480b8ce",
   "metadata": {
    "cell_id": "298cd18e-b4fa-4d5c-9b2d-d3f071a4647b",
    "deepnote_cell_height": 388.46875,
    "deepnote_cell_type": "code",
    "deepnote_output_heights": [
     null,
     232.34375
    ],
    "deepnote_to_be_reexecuted": false,
    "execution_millis": 248,
    "execution_start": 1646053693110,
    "source_hash": "4525ca84",
    "tags": []
   },
   "outputs": [
    {
     "name": "stdout",
     "output_type": "stream",
     "text": [
      "N    123351\n",
      "J     55521\n",
      "Name: elevator, dtype: int64\n",
      "1.0    50899\n",
      "Name: F_Heis, dtype: int64\n"
     ]
    }
   ],
   "source": [
    "#Printer fordelingen på de to heis-variablene\n",
    "print(df['elevator'].value_counts())\n",
    "print(df['F_Heis'].value_counts())\n",
    "\n",
    "#Fjerner F_Heis\n",
    "df.drop('F_Heis',inplace=True,axis=1)\n",
    "\n",
    "#Gjør om til numerisk binær variabel (1/0)\n",
    "df['elevator'].replace({'J':1,'N':0}, inplace=True)\n",
    "\n",
    "#Koder om null-verdier til 0\n",
    "df['elevator'] = df['elevator'].fillna(0)"
   ]
  },
  {
   "cell_type": "markdown",
   "id": "8f62e0bd",
   "metadata": {
    "cell_id": "1419f37d-ad24-44a9-9ca5-4714c8df57fb",
    "deepnote_cell_height": 119.59375,
    "deepnote_cell_type": "markdown",
    "deepnote_to_be_reexecuted": false,
    "execution_millis": 3,
    "execution_start": 1644497854487,
    "source_hash": "b623e53d",
    "tags": []
   },
   "source": [
    "Videre kan vi nå se på variabelen etasjer ('floor'). Der har vi rundt 37 000 null-verdier. I og med at etasje bare er relevant for leiligheter (da det går på etasje for leiligheter og ikke antall etasjer i huset), så er rundt 20 000 av null-verdiene fra andre typer boliger enn leiligheter. Dermed har vi rundt 17 000 null-verdier for leilighetene. Vi løser dette med å erstatte alle null-verdiene med gjennomsnittet, samt legge til en binær variabel som sier om vi har erstattet null-verdi eller ikke."
   ]
  },
  {
   "cell_type": "code",
   "execution_count": 75,
   "id": "59210f1d",
   "metadata": {
    "cell_id": "0402c67b-e32f-4c23-966e-75097a1e5039",
    "deepnote_cell_height": 295.078125,
    "deepnote_cell_type": "code",
    "deepnote_output_heights": [
     59.578125,
     21.1875
    ],
    "deepnote_to_be_reexecuted": false,
    "execution_millis": 149,
    "execution_start": 1646053693374,
    "source_hash": "93ffca81",
    "tags": []
   },
   "outputs": [
    {
     "name": "stdout",
     "output_type": "stream",
     "text": [
      "True     20645\n",
      "False     2377\n",
      "Name: floor, dtype: int64\n"
     ]
    }
   ],
   "source": [
    "#Fjerner åpenbare feilverdier\n",
    "df.drop(df[df['floor'] >20].index, inplace = True)\n",
    "\n",
    "#Sjekker hvor stor del av boligene som ikke er leiligheter som har null-verdi for etasje-variabelen\n",
    "print(df.loc[df['housingtype'] != 'Leilighet','floor'].isna().value_counts())\n",
    "\n",
    "#Erstatter alle null-verdier med gjennomsnitt og legger til en dummy-variabel\n",
    "df['floor_NV'] = (df['floor'].isna()).astype(int)\n",
    "df['floor'] = df['floor'].fillna(df['floor'].mean())"
   ]
  },
  {
   "cell_type": "markdown",
   "id": "0c8fc67d",
   "metadata": {
    "cell_id": "cfaf8b49-a96d-4561-aa83-61ff933c5f90",
    "deepnote_cell_height": 97.1875,
    "deepnote_cell_type": "markdown",
    "deepnote_output_heights": [
     59.578125
    ],
    "deepnote_table_loading": false,
    "deepnote_table_state": {
     "filters": [],
     "pageIndex": 0,
     "pageSize": 50,
     "sortBy": [
      {
       "id": "floor_NA",
       "type": "desc"
      }
     ]
    },
    "deepnote_to_be_reexecuted": false,
    "execution_millis": 11,
    "execution_start": 1644935415753,
    "source_hash": "b623e53d",
    "tags": []
   },
   "source": [
    "Denne løsningen vil også være relevant for variablene fellesgjeld og felleskostnader, da dette også er variabler som for det meste bare er relevant for leiligheter. Men for disse variablene så vil vi erstatte null-verdier med 0, da det er mest sannsynlig slik at boliger uten oppgitt felleskostnader/fellesgjeld ikke har dette."
   ]
  },
  {
   "cell_type": "code",
   "execution_count": 76,
   "id": "264f8f26",
   "metadata": {
    "cell_id": "d806a599-d95d-4921-9245-76fd484806fb",
    "deepnote_cell_height": 651,
    "deepnote_cell_type": "code",
    "deepnote_output_heights": [
     220,
     231
    ],
    "deepnote_to_be_reexecuted": false,
    "execution_millis": 1353,
    "execution_start": 1646053693537,
    "source_hash": "924e5342",
    "tags": []
   },
   "outputs": [
    {
     "data": {
      "image/png": "[encoded data removed]",
      "text/plain": [
       "<Figure size 1152x288 with 1 Axes>"
      ]
     },
     "metadata": {
      "needs_background": "light"
     },
     "output_type": "display_data"
    },
    {
     "data": {
      "image/png": "[encoded data removed]",
      "text/plain": [
       "<Figure size 1152x288 with 1 Axes>"
      ]
     },
     "metadata": {
      "needs_background": "light"
     },
     "output_type": "display_data"
    }
   ],
   "source": [
    "#Printer fordelingen\n",
    "df['commoncosts'].hist(bins=50, figsize=(16,4))\n",
    "plt.show()\n",
    "df['commondebt'].hist(bins=50, figsize=(16,4))\n",
    "plt.show()"
   ]
  },
  {
   "cell_type": "code",
   "execution_count": 77,
   "id": "d8f217d1",
   "metadata": {
    "cell_id": "0848350c-fe03-4fec-8001-5e81f0a208ed",
    "deepnote_cell_height": 153,
    "deepnote_cell_type": "code",
    "deepnote_to_be_reexecuted": false,
    "execution_millis": 1,
    "execution_start": 1646053694863,
    "source_hash": "2b0da94c",
    "tags": []
   },
   "outputs": [],
   "source": [
    "#Erstatter alle null-verdier med 0 og legger til en dummy-variabel\n",
    "df['commondebt_NV'] = (df['commondebt'].isna()).astype(int)\n",
    "df['commondebt'] = df['commondebt'].fillna(0)\n",
    "df['commoncosts_NV'] = (df['commoncosts'].isna()).astype(int)\n",
    "df['commoncosts'] = df['commoncosts'].fillna(0)"
   ]
  },
  {
   "cell_type": "markdown",
   "id": "0c91decf",
   "metadata": {
    "cell_id": "64feaedd-de48-4833-8a61-11cea4f5a364",
    "deepnote_cell_height": 155.984375,
    "deepnote_cell_type": "markdown",
    "deepnote_output_heights": [
     611
    ],
    "deepnote_to_be_reexecuted": false,
    "execution_millis": 223,
    "execution_start": 1644936044368,
    "source_hash": "18182df1",
    "tags": []
   },
   "source": [
    "De neste variablene vi skal se på nå er alle som starter med \"F_\". Dette er fasteliteter man kan oppgi i finn-annonsen og er binært 1/0. Som vi har sett så er det svært mye null-verdier i disse variablene, men dette er fordi alle boliger uten den gitte fasteliteten vil få null-verdi og ikke \"0\" i datasettet. Dermed må vi kode om alle variablene slik at null-verdiene erstattes av 0.\n",
    "\n",
    "I tillegg er det slik at en del av disse variablene ikke vil være så veldig nyttige, da nesten alle er 0 eller finn-fasteliteten ikke blir brukt av megler (for eksempel hvis det finnes alarm men megleren ikke markerer det i annonnsen)."
   ]
  },
  {
   "cell_type": "code",
   "execution_count": 78,
   "id": "4b69fe40",
   "metadata": {
    "cell_id": "4b0c6262-f3ae-4932-84bd-c53eb9a28800",
    "deepnote_cell_height": 207,
    "deepnote_cell_type": "code",
    "deepnote_to_be_reexecuted": false,
    "execution_millis": 1,
    "execution_start": 1646053694926,
    "source_hash": "f0c14228",
    "tags": []
   },
   "outputs": [],
   "source": [
    "fasteliteter_liste = ['F_Aircondition', 'F_Alarm', 'F_BalkongTerrasse', 'F_Barnevennlig',\n",
    "'F_Bredbåndstilknytning', 'F_Fellesvaskeri', 'F_GarasjeP-plass', 'F_Ingen gjenboere', 'F_Lademulighet',\n",
    "'F_Livsløpsstandard', 'F_Moderne', 'F_Offentlig vannkloakk', 'F_Parkett', 'F_PeisIldsted', 'F_Rolig',\n",
    "'F_Sentralt', 'F_Utsikt', 'F_Vaktmester-vektertjeneste', 'F_Bademulighet', 'F_Fiskemulighet', 'F_Turterreng']\n",
    "\n",
    "#Erstatter null-verdier med 0 for hver kategori i listen\n",
    "for cat in fasteliteter_liste:\n",
    "    df[cat] = df[cat].fillna(0)"
   ]
  },
  {
   "cell_type": "code",
   "execution_count": 79,
   "id": "d5f4db77",
   "metadata": {
    "cell_id": "923525f2-d022-4c8f-9894-e18f2a360f36",
    "deepnote_cell_height": 329.34375,
    "deepnote_cell_type": "code",
    "deepnote_output_heights": [
     232.34375
    ],
    "deepnote_to_be_reexecuted": false,
    "execution_millis": 213,
    "execution_start": 1646053694972,
    "source_hash": "f3dd26da",
    "tags": []
   },
   "outputs": [
    {
     "data": {
      "text/plain": [
       "documentDate        0\n",
       "picturedate       247\n",
       "lastchanged         0\n",
       "adcreated           0\n",
       "price               0\n",
       "                 ... \n",
       "latlng_NV           0\n",
       "bedrooms_NV         0\n",
       "floor_NV            0\n",
       "commondebt_NV       0\n",
       "commoncosts_NV      0\n",
       "Length: 62, dtype: int64"
      ]
     },
     "execution_count": 79,
     "metadata": {},
     "output_type": "execute_result"
    }
   ],
   "source": [
    "df.isnull().sum()"
   ]
  },
  {
   "cell_type": "code",
   "execution_count": 80,
   "id": "08623ea6",
   "metadata": {
    "cell_id": "9f2cbb7b-a9cb-452b-8704-a1ad5b77a36c",
    "deepnote_cell_height": 357,
    "deepnote_cell_type": "code",
    "deepnote_to_be_reexecuted": false,
    "execution_millis": 304,
    "execution_start": 1646053695192,
    "source_hash": "c085b6ba",
    "tags": []
   },
   "outputs": [
    {
     "data": {
      "text/html": [
       "<div>\n",
       "<style scoped>\n",
       "    .dataframe tbody tr th:only-of-type {\n",
       "        vertical-align: middle;\n",
       "    }\n",
       "\n",
       "    .dataframe tbody tr th {\n",
       "        vertical-align: top;\n",
       "    }\n",
       "\n",
       "    .dataframe thead th {\n",
       "        text-align: right;\n",
       "    }\n",
       "</style>\n",
       "<table border=\"1\" class=\"dataframe\">\n",
       "  <thead>\n",
       "    <tr style=\"text-align: right;\">\n",
       "      <th></th>\n",
       "      <th>documentDate</th>\n",
       "      <th>picturedate</th>\n",
       "      <th>lastchanged</th>\n",
       "      <th>adcreated</th>\n",
       "      <th>price</th>\n",
       "      <th>listprice</th>\n",
       "      <th>lat</th>\n",
       "      <th>lng</th>\n",
       "      <th>address</th>\n",
       "      <th>apartmentnumber</th>\n",
       "      <th>...</th>\n",
       "      <th>Parking</th>\n",
       "      <th>price_inc_debt</th>\n",
       "      <th>area_id</th>\n",
       "      <th>Bydel_lat</th>\n",
       "      <th>Bydel_lng</th>\n",
       "      <th>latlng_NV</th>\n",
       "      <th>bedrooms_NV</th>\n",
       "      <th>floor_NV</th>\n",
       "      <th>commondebt_NV</th>\n",
       "      <th>commoncosts_NV</th>\n",
       "    </tr>\n",
       "  </thead>\n",
       "  <tbody>\n",
       "    <tr>\n",
       "      <th>10</th>\n",
       "      <td>2019-05-06</td>\n",
       "      <td>2019/2</td>\n",
       "      <td>2019-02-15</td>\n",
       "      <td>2019-01-25</td>\n",
       "      <td>8450000</td>\n",
       "      <td>7800000.0</td>\n",
       "      <td>59.873753</td>\n",
       "      <td>10.808472</td>\n",
       "      <td>Radarveien 78 C, 1163 Oslo</td>\n",
       "      <td>H0201</td>\n",
       "      <td>...</td>\n",
       "      <td>1</td>\n",
       "      <td>8450000.0</td>\n",
       "      <td>14</td>\n",
       "      <td>59.875677</td>\n",
       "      <td>10.789629</td>\n",
       "      <td>0</td>\n",
       "      <td>0</td>\n",
       "      <td>0</td>\n",
       "      <td>1</td>\n",
       "      <td>0</td>\n",
       "    </tr>\n",
       "    <tr>\n",
       "      <th>11</th>\n",
       "      <td>2012-09-04</td>\n",
       "      <td>2012/8</td>\n",
       "      <td>2019-02-24</td>\n",
       "      <td>2012-08-08</td>\n",
       "      <td>2400000</td>\n",
       "      <td>1990000.0</td>\n",
       "      <td>59.943737</td>\n",
       "      <td>10.774553</td>\n",
       "      <td>Grefsenveien 30 A, 0485 Oslo</td>\n",
       "      <td>H0403</td>\n",
       "      <td>...</td>\n",
       "      <td>1</td>\n",
       "      <td>2564865.0</td>\n",
       "      <td>3</td>\n",
       "      <td>59.938290</td>\n",
       "      <td>10.764674</td>\n",
       "      <td>0</td>\n",
       "      <td>0</td>\n",
       "      <td>0</td>\n",
       "      <td>0</td>\n",
       "      <td>0</td>\n",
       "    </tr>\n",
       "    <tr>\n",
       "      <th>12</th>\n",
       "      <td>2014-05-21</td>\n",
       "      <td>2014/2</td>\n",
       "      <td>2014-03-01</td>\n",
       "      <td>2014-02-15</td>\n",
       "      <td>5775000</td>\n",
       "      <td>5690000.0</td>\n",
       "      <td>59.934540</td>\n",
       "      <td>10.796455</td>\n",
       "      <td>Liljeveien 15, 0585 Oslo</td>\n",
       "      <td>H0101</td>\n",
       "      <td>...</td>\n",
       "      <td>1</td>\n",
       "      <td>5775000.0</td>\n",
       "      <td>2</td>\n",
       "      <td>59.923818</td>\n",
       "      <td>10.771007</td>\n",
       "      <td>0</td>\n",
       "      <td>0</td>\n",
       "      <td>1</td>\n",
       "      <td>1</td>\n",
       "      <td>1</td>\n",
       "    </tr>\n",
       "    <tr>\n",
       "      <th>13</th>\n",
       "      <td>2013-11-12</td>\n",
       "      <td>2013/8</td>\n",
       "      <td>2013-09-13</td>\n",
       "      <td>2013-08-21</td>\n",
       "      <td>21000000</td>\n",
       "      <td>24000000.0</td>\n",
       "      <td>59.952496</td>\n",
       "      <td>10.686596</td>\n",
       "      <td>Bjørnveien 53, 0774 Oslo</td>\n",
       "      <td>H0101</td>\n",
       "      <td>...</td>\n",
       "      <td>1</td>\n",
       "      <td>21000000.0</td>\n",
       "      <td>7</td>\n",
       "      <td>59.950695</td>\n",
       "      <td>10.657639</td>\n",
       "      <td>0</td>\n",
       "      <td>0</td>\n",
       "      <td>1</td>\n",
       "      <td>1</td>\n",
       "      <td>1</td>\n",
       "    </tr>\n",
       "    <tr>\n",
       "      <th>14</th>\n",
       "      <td>2020-11-05</td>\n",
       "      <td>2020/5</td>\n",
       "      <td>2020-06-17</td>\n",
       "      <td>2020-05-02</td>\n",
       "      <td>13500000</td>\n",
       "      <td>15000000.0</td>\n",
       "      <td>59.908840</td>\n",
       "      <td>10.853329</td>\n",
       "      <td>Trasoppterrassen 3A, 0684 Oslo</td>\n",
       "      <td>H0101</td>\n",
       "      <td>...</td>\n",
       "      <td>1</td>\n",
       "      <td>13500000.0</td>\n",
       "      <td>13</td>\n",
       "      <td>59.888390</td>\n",
       "      <td>10.835148</td>\n",
       "      <td>0</td>\n",
       "      <td>0</td>\n",
       "      <td>1</td>\n",
       "      <td>1</td>\n",
       "      <td>1</td>\n",
       "    </tr>\n",
       "  </tbody>\n",
       "</table>\n",
       "<p>5 rows × 62 columns</p>\n",
       "</div>"
      ],
      "text/plain": [
       "   documentDate picturedate lastchanged   adcreated     price   listprice  \\\n",
       "10   2019-05-06      2019/2  2019-02-15  2019-01-25   8450000   7800000.0   \n",
       "11   2012-09-04      2012/8  2019-02-24  2012-08-08   2400000   1990000.0   \n",
       "12   2014-05-21      2014/2  2014-03-01  2014-02-15   5775000   5690000.0   \n",
       "13   2013-11-12      2013/8  2013-09-13  2013-08-21  21000000  24000000.0   \n",
       "14   2020-11-05      2020/5  2020-06-17  2020-05-02  13500000  15000000.0   \n",
       "\n",
       "          lat        lng                         address apartmentnumber  ...  \\\n",
       "10  59.873753  10.808472      Radarveien 78 C, 1163 Oslo           H0201  ...   \n",
       "11  59.943737  10.774553    Grefsenveien 30 A, 0485 Oslo           H0403  ...   \n",
       "12  59.934540  10.796455        Liljeveien 15, 0585 Oslo           H0101  ...   \n",
       "13  59.952496  10.686596        Bjørnveien 53, 0774 Oslo           H0101  ...   \n",
       "14  59.908840  10.853329  Trasoppterrassen 3A, 0684 Oslo           H0101  ...   \n",
       "\n",
       "   Parking price_inc_debt  area_id  Bydel_lat  Bydel_lng  latlng_NV  \\\n",
       "10       1      8450000.0       14  59.875677  10.789629          0   \n",
       "11       1      2564865.0        3  59.938290  10.764674          0   \n",
       "12       1      5775000.0        2  59.923818  10.771007          0   \n",
       "13       1     21000000.0        7  59.950695  10.657639          0   \n",
       "14       1     13500000.0       13  59.888390  10.835148          0   \n",
       "\n",
       "   bedrooms_NV  floor_NV  commondebt_NV  commoncosts_NV  \n",
       "10           0         0              1               0  \n",
       "11           0         0              0               0  \n",
       "12           0         1              1               1  \n",
       "13           0         1              1               1  \n",
       "14           0         1              1               1  \n",
       "\n",
       "[5 rows x 62 columns]"
      ]
     },
     "execution_count": 80,
     "metadata": {},
     "output_type": "execute_result"
    }
   ],
   "source": [
    "df.head()"
   ]
  },
  {
   "cell_type": "markdown",
   "id": "1aacdac2",
   "metadata": {
    "cell_id": "7bdc9505-db3f-4d1f-9de9-d3bf5dde0b08",
    "deepnote_cell_height": 155.984375,
    "deepnote_cell_type": "markdown",
    "deepnote_to_be_reexecuted": false,
    "execution_millis": 15,
    "execution_start": 1645193196815,
    "source_hash": "9e6e204a",
    "tags": []
   },
   "source": [
    "Vi er nå ferdig med å fjerne null-verdier og renske dataen. Det vi vil gjøre videre er å generere nye variabler basert på de gamle variablene, samt lage et nytt datasett bestående kun av de variablene vi skal bruke. I tillegg vil vi begrense noen variabler for å få data som gir oss en mer presis modell da vi fjerner uteliggere.\n",
    "\n",
    "Vi starter med å lage noen nye variabler. Første et par variabler for hvilke måned og år annonsen ble laget, samt en variabel med \"adscreated\" convertert til datetime-format. Deretter lager vi en variabel som gir oss en kvadratmeterpris ut fra prisantydning."
   ]
  },
  {
   "cell_type": "code",
   "execution_count": 81,
   "id": "74502093",
   "metadata": {
    "cell_id": "1fbb6f9f-a024-41d2-beb2-8e96ea15aedb",
    "deepnote_cell_height": 153,
    "deepnote_cell_type": "code",
    "deepnote_output_heights": [
     21.1875,
     250
    ],
    "deepnote_to_be_reexecuted": false,
    "execution_millis": 193,
    "execution_start": 1646053695526,
    "source_hash": "e3dc5e6c",
    "tags": []
   },
   "outputs": [],
   "source": [
    "#Genererer måned-variabel ut fra \"adcreated\"\n",
    "df['måned_annonse'] = df['adcreated'].str[5:7].astype(int)\n",
    "\n",
    "#Genererer år-variabel ut fra \"adcreated\"\n",
    "df['år_annonse'] = df['adcreated'].str[0:4].astype(int)\n",
    "\n",
    "#Genererer date-time variabel ut fra \"adscreated\"\n",
    "df['datetime_annonse'] = pd.to_datetime(df['adcreated'], format='%YY%m%d', infer_datetime_format=True)\n",
    "\n",
    "#Genererer kvadratmeterpris ut fra PROM og prisantydning\n",
    "df['kvm_prisantydning'] = (df['listprice']/df['PROM']).round(2)"
   ]
  },
  {
   "cell_type": "code",
   "execution_count": 82,
   "id": "3cd8bc42",
   "metadata": {
    "cell_id": "eb5cd913-d9cf-47e7-a0c1-68764884e49e",
    "deepnote_cell_height": 383.390625,
    "deepnote_cell_type": "code",
    "deepnote_to_be_reexecuted": false,
    "execution_millis": 328,
    "execution_start": 1646053695734,
    "source_hash": "bc701757",
    "tags": []
   },
   "outputs": [
    {
     "name": "stdout",
     "output_type": "stream",
     "text": [
      "Antall datapunkter før begrensning: 179649\n",
      "Antall datapunkter etter begrensning: 177534\n"
     ]
    }
   ],
   "source": [
    "#Lager en kopi av dataen\n",
    "df_copy = df.copy()\n",
    "\n",
    "print(f\"Antall datapunkter før begrensning: {len(df)}\")\n",
    "\n",
    "#Begrenser byggeår til minimum 1850\n",
    "df.drop(df[df['buildyear'] < 1850].index, inplace = True)\n",
    "#Begrenser PROM for leiligheter til maximum 250\n",
    "df.drop(df[(df['BRA'] > 250) & (df['housingtype'] == 'Leilighet')].index, inplace = True)\n",
    "#Begrenser PROM for enebolig, rekkehus og tomannsbolig til maximum 400\n",
    "df.drop(df[df['BRA'] > 350].index, inplace = True)\n",
    "#Begrenser pris til å være maksimum 20 millioner\n",
    "df.drop(df[df['listprice'] > 15000000].index, inplace = True)\n",
    "\n",
    "print(f\"Antall datapunkter etter begrensning: {len(df)}\")"
   ]
  },
  {
   "cell_type": "markdown",
   "id": "b52827f9",
   "metadata": {
    "cell_id": "aef35122-7441-49b6-81bb-db1eca58d92a",
    "deepnote_cell_height": 74.796875,
    "deepnote_cell_type": "markdown",
    "deepnote_to_be_reexecuted": false,
    "execution_millis": 200554,
    "execution_start": 1645194471162,
    "source_hash": "b623e53d",
    "tags": []
   },
   "source": [
    "Vi har nå begrenset dataen slik at vi fjerner \"ekstreme\" boliger og gjør modellen vår mer treffsikker. Videre vil vi fjerne de variablene vi ikke skal benytte i modellen vår."
   ]
  },
  {
   "cell_type": "code",
   "execution_count": 83,
   "id": "a8579b64",
   "metadata": {
    "cell_id": "48badb57-3c40-4686-a138-57ee9509fd0c",
    "deepnote_cell_height": 694.078125,
    "deepnote_cell_type": "code",
    "deepnote_output_heights": [
     611
    ],
    "deepnote_to_be_reexecuted": false,
    "execution_millis": 95,
    "execution_start": 1646053696092,
    "source_hash": "47ad0278",
    "tags": []
   },
   "outputs": [
    {
     "name": "stdout",
     "output_type": "stream",
     "text": [
      "Antall variabler før begrensning: 66\n",
      "Antall variabler etter begrensning: 45\n",
      "Fjernet 21 variabler.\n"
     ]
    }
   ],
   "source": [
    "variabler = ['price', 'listprice', 'lat', 'lng', 'finncode', 'BRA', 'PROM', 'buildyear', \n",
    "'bedrooms', 'WC', 'elevator', 'floor', 'housingtype', 'commondebt', 'commoncosts', 'F_BalkongTerrasse',\n",
    "'F_Barnevennlig', 'F_Bredbåndstilknytning', 'F_Fellesvaskeri', 'F_GarasjeP-plass', 'F_Ingen gjenboere',\n",
    "'F_Lademulighet', 'F_Livsløpsstandard', 'F_Moderne', 'F_Offentlig vannkloakk', 'F_Parkett', 'F_PeisIldsted',\n",
    "'F_Rolig', 'F_Sentralt', 'F_Utsikt', 'F_Vaktmester-vektertjeneste', 'F_Turterreng', 'postcode', 'Parking',\n",
    "'price_inc_debt', 'area_id', 'latlng_NV', 'bedrooms_NV', 'floor_NV', 'commondebt_NV', 'commoncosts_NV',\n",
    "'måned_annonse', 'år_annonse', 'datetime_annonse', 'kvm_prisantydning']\n",
    "\n",
    "#Printer litt statistikk:\n",
    "var_før= len(df.columns)\n",
    "df = df[variabler]\n",
    "var_etter = len(df.columns)\n",
    "print(f\"Antall variabler før begrensning: {var_før}\\nAntall variabler etter begrensning: {var_etter}\\nFjernet {var_før-var_etter} variabler.\")"
   ]
  },
  {
   "cell_type": "markdown",
   "id": "4aa9c135",
   "metadata": {
    "cell_id": "fe658beb-3c6b-4583-99ea-16a723966031",
    "deepnote_cell_height": 156.578125,
    "deepnote_cell_type": "markdown",
    "deepnote_output_heights": [
     59.578125
    ],
    "deepnote_to_be_reexecuted": false,
    "execution_millis": 234956061,
    "execution_start": 1645438473968,
    "source_hash": "b623e53d",
    "tags": []
   },
   "source": [
    "### Visualisering"
   ]
  },
  {
   "cell_type": "markdown",
   "id": "7891ff9f",
   "metadata": {
    "cell_id": "061a73e4-8748-4f7d-924a-4f004a6bc8e3",
    "deepnote_cell_height": 81,
    "deepnote_cell_type": "markdown",
    "deepnote_to_be_reexecuted": false,
    "execution_millis": 235669869,
    "execution_start": 1645438473977,
    "source_hash": "b623e53d",
    "tags": []
   },
   "source": [
    "Etter vi nå er ferdig med å renske dataen, så vil det videre være viktig å prøve å visualisere variabler på forskjellige måter for å få en best mulig forståelse av dataen. Dette vil gjøre at vi som nevnt får en bedre forståelse, men også at vi kan oppdage feilverdier og andre ting som vi må fikse før vi lager modellen."
   ]
  },
  {
   "cell_type": "code",
   "execution_count": 84,
   "id": "a43584bc",
   "metadata": {
    "cell_id": "21cdde6f-e436-4501-bc8a-d063e78d9137",
    "deepnote_cell_height": 81,
    "deepnote_cell_type": "code",
    "deepnote_to_be_reexecuted": false,
    "execution_millis": 434273,
    "execution_start": 1646053696126,
    "source_hash": "25d43fa0",
    "tags": []
   },
   "outputs": [
    {
     "data": {
      "text/plain": [
       "Index(['price', 'listprice', 'lat', 'lng', 'finncode', 'BRA', 'PROM',\n",
       "       'buildyear', 'bedrooms', 'WC', 'elevator', 'floor', 'housingtype',\n",
       "       'commondebt', 'commoncosts', 'F_BalkongTerrasse', 'F_Barnevennlig',\n",
       "       'F_Bredbåndstilknytning', 'F_Fellesvaskeri', 'F_GarasjeP-plass',\n",
       "       'F_Ingen gjenboere', 'F_Lademulighet', 'F_Livsløpsstandard',\n",
       "       'F_Moderne', 'F_Offentlig vannkloakk', 'F_Parkett', 'F_PeisIldsted',\n",
       "       'F_Rolig', 'F_Sentralt', 'F_Utsikt', 'F_Vaktmester-vektertjeneste',\n",
       "       'F_Turterreng', 'postcode', 'Parking', 'price_inc_debt', 'area_id',\n",
       "       'latlng_NV', 'bedrooms_NV', 'floor_NV', 'commondebt_NV',\n",
       "       'commoncosts_NV', 'måned_annonse', 'år_annonse', 'datetime_annonse',\n",
       "       'kvm_prisantydning'],\n",
       "      dtype='object')"
      ]
     },
     "execution_count": 84,
     "metadata": {},
     "output_type": "execute_result"
    }
   ],
   "source": [
    "df.columns"
   ]
  },
  {
   "cell_type": "code",
   "execution_count": 85,
   "id": "01b40b00",
   "metadata": {
    "cell_id": "cd658944-026d-4b0d-ab9e-be9381ff94c7",
    "deepnote_cell_type": "code",
    "deepnote_to_be_reexecuted": false,
    "execution_millis": 386,
    "execution_start": 1646053696174,
    "source_hash": "794fd391",
    "tags": []
   },
   "outputs": [
    {
     "data": {
      "image/png": "[encoded data removed]",
      "text/plain": [
       "<Figure size 1152x360 with 1 Axes>"
      ]
     },
     "metadata": {
      "needs_background": "light"
     },
     "output_type": "display_data"
    }
   ],
   "source": [
    "df['datetime_annonse'].hist(bins=30, figsize=(16,5))\n",
    "plt.show()"
   ]
  },
  {
   "cell_type": "markdown",
   "id": "2fbf5621",
   "metadata": {
    "cell_id": "e6f487fb-84dc-4fb3-83cf-bb8d546f4842",
    "deepnote_cell_type": "markdown",
    "deepnote_to_be_reexecuted": false,
    "execution_millis": 1469169,
    "execution_start": 1645620118363,
    "source_hash": "b623e53d",
    "tags": []
   },
   "source": [
    "Dette er et plot som viser fordelingen fra når annonsene ble opprettet. Som vi kan se så har vi med boligsalg helt tilbake til 2008. Det er først fra 2012 vi har stabilt mye data, som øker litt jevnt mot 2022."
   ]
  },
  {
   "cell_type": "code",
   "execution_count": 86,
   "id": "7ae39be7",
   "metadata": {
    "cell_id": "ba1d4373-fcf9-45e7-9fe0-1e035f54d586",
    "deepnote_cell_type": "code",
    "deepnote_to_be_reexecuted": false,
    "execution_millis": 4827,
    "execution_start": 1646053696598,
    "source_hash": "992370b7",
    "tags": []
   },
   "outputs": [
    {
     "data": {
      "image/png": "[encoded data removed]",
      "text/plain": [
       "<Figure size 432x288 with 1 Axes>"
      ]
     },
     "metadata": {
      "needs_background": "light"
     },
     "output_type": "display_data"
    }
   ],
   "source": [
    "sb.scatterplot(x = df['lat'], y = df['lng'], hue = df['price_inc_debt'],\n",
    "               s=10, legend=False, palette='Blues')\n",
    "plt.show()"
   ]
  },
  {
   "cell_type": "markdown",
   "id": "1f4879ce",
   "metadata": {
    "cell_id": "9ec54f7e-c473-452c-9f33-306996a02d3f",
    "deepnote_cell_type": "markdown",
    "deepnote_to_be_reexecuted": false,
    "execution_millis": 57309510,
    "execution_start": 1645689613733,
    "source_hash": "b623e53d",
    "tags": []
   },
   "source": [
    "### ANN"
   ]
  },
  {
   "cell_type": "code",
   "execution_count": 87,
   "id": "8ed7b1e3",
   "metadata": {
    "cell_id": "2370aa9e-d14e-4ee6-90a1-5150ec93e28c",
    "deepnote_cell_type": "code",
    "deepnote_to_be_reexecuted": false,
    "execution_millis": 7399,
    "execution_start": 1646053701434,
    "source_hash": "e4f0ff0b",
    "tags": []
   },
   "outputs": [],
   "source": [
    "# Importerer biblotek\n",
    "from sklearn.model_selection import train_test_split\n",
    "from sklearn.preprocessing import LabelEncoder\n",
    "from sklearn.preprocessing import MinMaxScaler\n",
    "from tensorflow import keras\n",
    "#from keras.models import Sequential\n",
    "#from keras.layers import Dense\n",
    "#from keras.callbacks import EarlyStopping\n",
    "from sklearn.metrics import r2_score\n",
    "from sklearn.metrics import accuracy_score"
   ]
  },
  {
   "cell_type": "code",
   "execution_count": 88,
   "id": "a258d5ab",
   "metadata": {
    "cell_id": "537d492b-27a7-4150-b121-5319dacc6b4b",
    "deepnote_cell_type": "code",
    "deepnote_to_be_reexecuted": false,
    "execution_millis": 385,
    "execution_start": 1646053708849,
    "source_hash": "99ba0605",
    "tags": []
   },
   "outputs": [],
   "source": [
    "bydeler_navn = {1:'Gamle Oslo', 2:'Grünerløkka', 3:'Sagane', 4:'St. Hanshaugen', 5:'Frogner',\n",
    "6:'Ullern', 7:'Vestre Aker', 8:'Nordre Aker', 9:'Bjerke', 10:'Grorud', 11:'Stovner', 12:'Alna',\n",
    "13:'Østensjø', 14:'Nordstrand', 15:'Søndre Nordstrand', 16:'Oslo Sentrum'}\n",
    "\n",
    "#Endrer fra area_id til navn for bydelene\n",
    "for key, item in bydeler_navn.items():\n",
    "    df['area_id'].mask(df['area_id'] == key, item, inplace=True)"
   ]
  },
  {
   "cell_type": "code",
   "execution_count": 89,
   "id": "0ab68990",
   "metadata": {
    "cell_id": "8e3b5037-be6d-48d0-a1a2-0fe1b83ac17d",
    "deepnote_cell_type": "code",
    "deepnote_to_be_reexecuted": false,
    "execution_millis": 85,
    "execution_start": 1646053709342,
    "source_hash": "2d344623",
    "tags": []
   },
   "outputs": [],
   "source": [
    "#Lager dummy-variabel for housingtype og area_id\n",
    "df = pd.get_dummies(df, drop_first=True)"
   ]
  },
  {
   "cell_type": "code",
   "execution_count": 111,
   "id": "1ad79ae3",
   "metadata": {
    "cell_id": "2bfe1d8f-3ae1-48cf-83f5-651fb7dabb10",
    "deepnote_cell_type": "code",
    "deepnote_to_be_reexecuted": false,
    "execution_millis": 28,
    "execution_start": 1646053709468,
    "source_hash": "49d93b5",
    "tags": []
   },
   "outputs": [],
   "source": [
    "X = df[['lat', 'lng', 'BRA', 'PROM', 'buildyear', 'bedrooms', 'WC', 'elevator', 'floor']]\n",
    "#'commondebt', 'commoncosts', 'F_BalkongTerrasse', 'F_Barnevennlig','F_Bredbåndstilknytning',\n",
    "#'F_Fellesvaskeri', 'F_GarasjeP-plass', 'F_Ingen gjenboere', 'F_Lademulighet', 'F_Livsløpsstandard',\n",
    "#'F_Moderne', 'F_Offentlig vannkloakk', 'F_Parkett', 'F_PeisIldsted', 'F_Rolig', 'F_Sentralt',\n",
    "#'F_Utsikt', 'F_Vaktmester-vektertjeneste', 'F_Turterreng', 'postcode', 'Parking', 'måned_annonse',\n",
    "#'år_annonse' ,'latlng_NV', 'bedrooms_NV', 'floor_NV', 'commondebt_NV', 'commoncosts_NV',\n",
    "\n",
    "#'housingtype_Leilighet', 'housingtype_Rekkehus','housingtype_Tomannsbolig', #'datetime_annonse',\n",
    "\n",
    "#'area_id_Alna', 'area_id_Bjerke','area_id_Frogner', 'area_id_Gamle Oslo', 'area_id_Grorud',\n",
    "#'area_id_Grünerløkka', 'area_id_Nordre Aker', 'area_id_Nordstrand', 'area_id_Oslo Sentrum',\n",
    "#'area_id_Sagane', 'area_id_St. Hanshaugen', 'area_id_Stovner', 'area_id_Søndre Nordstrand',\n",
    "#'area_id_Ullern', 'area_id_Vestre Aker', 'area_id_Østensjø']]\n",
    "\n",
    "y = df[['price_inc_debt']]"
   ]
  },
  {
   "cell_type": "code",
   "execution_count": 98,
   "id": "e8344126-78fe-4448-9881-f5cf9193b68c",
   "metadata": {},
   "outputs": [
    {
     "data": {
      "text/html": [
       "<div>\n",
       "<style scoped>\n",
       "    .dataframe tbody tr th:only-of-type {\n",
       "        vertical-align: middle;\n",
       "    }\n",
       "\n",
       "    .dataframe tbody tr th {\n",
       "        vertical-align: top;\n",
       "    }\n",
       "\n",
       "    .dataframe thead th {\n",
       "        text-align: right;\n",
       "    }\n",
       "</style>\n",
       "<table border=\"1\" class=\"dataframe\">\n",
       "  <thead>\n",
       "    <tr style=\"text-align: right;\">\n",
       "      <th></th>\n",
       "      <th>lat</th>\n",
       "      <th>lng</th>\n",
       "      <th>BRA</th>\n",
       "      <th>PROM</th>\n",
       "      <th>buildyear</th>\n",
       "      <th>bedrooms</th>\n",
       "      <th>WC</th>\n",
       "      <th>elevator</th>\n",
       "      <th>floor</th>\n",
       "    </tr>\n",
       "  </thead>\n",
       "  <tbody>\n",
       "    <tr>\n",
       "      <th>10</th>\n",
       "      <td>59.873753</td>\n",
       "      <td>10.808472</td>\n",
       "      <td>113.000000</td>\n",
       "      <td>113.0</td>\n",
       "      <td>2012.0</td>\n",
       "      <td>3.0</td>\n",
       "      <td>1</td>\n",
       "      <td>0.0</td>\n",
       "      <td>2.000000</td>\n",
       "    </tr>\n",
       "    <tr>\n",
       "      <th>11</th>\n",
       "      <td>59.943737</td>\n",
       "      <td>10.774553</td>\n",
       "      <td>46.000000</td>\n",
       "      <td>46.0</td>\n",
       "      <td>1935.0</td>\n",
       "      <td>1.0</td>\n",
       "      <td>1</td>\n",
       "      <td>0.0</td>\n",
       "      <td>4.000000</td>\n",
       "    </tr>\n",
       "    <tr>\n",
       "      <th>12</th>\n",
       "      <td>59.934540</td>\n",
       "      <td>10.796455</td>\n",
       "      <td>150.369207</td>\n",
       "      <td>139.0</td>\n",
       "      <td>1937.0</td>\n",
       "      <td>3.0</td>\n",
       "      <td>1</td>\n",
       "      <td>0.0</td>\n",
       "      <td>3.166033</td>\n",
       "    </tr>\n",
       "    <tr>\n",
       "      <th>15</th>\n",
       "      <td>59.911300</td>\n",
       "      <td>10.777734</td>\n",
       "      <td>34.000000</td>\n",
       "      <td>34.0</td>\n",
       "      <td>1899.0</td>\n",
       "      <td>1.0</td>\n",
       "      <td>1</td>\n",
       "      <td>0.0</td>\n",
       "      <td>4.000000</td>\n",
       "    </tr>\n",
       "    <tr>\n",
       "      <th>16</th>\n",
       "      <td>59.900898</td>\n",
       "      <td>10.777195</td>\n",
       "      <td>46.000000</td>\n",
       "      <td>46.0</td>\n",
       "      <td>1938.0</td>\n",
       "      <td>1.0</td>\n",
       "      <td>0</td>\n",
       "      <td>0.0</td>\n",
       "      <td>2.000000</td>\n",
       "    </tr>\n",
       "  </tbody>\n",
       "</table>\n",
       "</div>"
      ],
      "text/plain": [
       "          lat        lng         BRA   PROM  buildyear  bedrooms  WC  \\\n",
       "10  59.873753  10.808472  113.000000  113.0     2012.0       3.0   1   \n",
       "11  59.943737  10.774553   46.000000   46.0     1935.0       1.0   1   \n",
       "12  59.934540  10.796455  150.369207  139.0     1937.0       3.0   1   \n",
       "15  59.911300  10.777734   34.000000   34.0     1899.0       1.0   1   \n",
       "16  59.900898  10.777195   46.000000   46.0     1938.0       1.0   0   \n",
       "\n",
       "    elevator     floor  \n",
       "10       0.0  2.000000  \n",
       "11       0.0  4.000000  \n",
       "12       0.0  3.166033  \n",
       "15       0.0  4.000000  \n",
       "16       0.0  2.000000  "
      ]
     },
     "execution_count": 98,
     "metadata": {},
     "output_type": "execute_result"
    }
   ],
   "source": [
    "X.head()"
   ]
  },
  {
   "cell_type": "code",
   "execution_count": 99,
   "id": "287d7524",
   "metadata": {
    "cell_id": "69027957-ca0d-4ded-9133-37037de1ab8f",
    "deepnote_cell_type": "code",
    "deepnote_to_be_reexecuted": false,
    "execution_millis": 216,
    "execution_start": 1646054427528,
    "source_hash": "a7df8dcb",
    "tags": []
   },
   "outputs": [],
   "source": [
    "# Fjerner advarsel som kommer fra pandas (!!!!)\n",
    "pd.options.mode.chained_assignment = None  # default='warn'\n",
    "\n",
    "#Definerer X-scaler \n",
    "X_scaler = MinMaxScaler()\n",
    "\n",
    "#Definerer y-scaler\n",
    "y_scaler = MinMaxScaler()\n",
    "\n",
    "not_scale = ['finncode','datetime','area_id', 'postcode','lat','lng']\n",
    "\n",
    "\n",
    "#for col in X: \n",
    "#    if col not in not_scale:\n",
    "#        X[col] = X_scaler.fit_transform(X[[col]])\n",
    "\n",
    "#for col in y:\n",
    "#    if col not in not_scale:\n",
    "#        y[col] = y_scaler.fit_transform(y[[col]])\n"
   ]
  },
  {
   "cell_type": "code",
   "execution_count": 100,
   "id": "396928f5",
   "metadata": {
    "cell_id": "fa65d136-7b11-46f7-b7da-5054c6d4b1f5",
    "deepnote_cell_type": "code",
    "deepnote_to_be_reexecuted": false,
    "execution_millis": 52,
    "execution_start": 1646054431435,
    "source_hash": "9db168a",
    "tags": []
   },
   "outputs": [],
   "source": [
    "#Splitter i test og treningsset\n",
    "X_train, X_test, y_train, y_test = train_test_split(X,y, train_size = 0.8)"
   ]
  },
  {
   "cell_type": "code",
   "execution_count": 101,
   "id": "42355d41-dc2c-42a8-bc80-8e8d91077c57",
   "metadata": {},
   "outputs": [
    {
     "name": "stdout",
     "output_type": "stream",
     "text": [
      "(142027, 1) <class 'pandas.core.frame.DataFrame'>\n",
      "(142027, 1) <class 'pandas.core.frame.DataFrame'>\n"
     ]
    }
   ],
   "source": [
    "#Forsikrer oss om at all data er av typen dataframe.\n",
    "print(y_train.shape, type(y_train))\n",
    "y_train = pd.DataFrame(y_train)\n",
    "print(y_train.shape, type(y_train))\n",
    "\n",
    "y_test = pd.DataFrame(y_test)\n",
    "X_train = pd.DataFrame(X_train)\n",
    "X_test = pd.DataFrame(X_test)"
   ]
  },
  {
   "cell_type": "code",
   "execution_count": 102,
   "id": "fb26f068-c09f-4baa-a924-3ba22d47f13f",
   "metadata": {},
   "outputs": [
    {
     "name": "stdout",
     "output_type": "stream",
     "text": [
      "Input: 9\n",
      "Output: 1\n"
     ]
    }
   ],
   "source": [
    "#Definerer input/output variabler\n",
    "input_num = X_train.shape[1]\n",
    "output_num = y_test.shape[1]\n",
    "print(f\"Input: {input_num}\\nOutput: {output_num}\")"
   ]
  },
  {
   "cell_type": "code",
   "execution_count": 103,
   "id": "3af7b426",
   "metadata": {
    "cell_id": "e111d29e-acfe-47de-8085-65131fa91eaf",
    "deepnote_cell_type": "code",
    "deepnote_to_be_reexecuted": false,
    "execution_millis": 103,
    "execution_start": 1646054440404,
    "source_hash": "7698eec3",
    "tags": []
   },
   "outputs": [],
   "source": [
    "#Lager modellen\n",
    "model = keras.models.Sequential()\n",
    "Dense = keras.layers.Dense\n",
    "\n",
    "model.add(Dense(2, input_dim = input_num, activation = 'relu'))\n",
    "\n",
    "model.add(Dense(2, activation = 'relu'))\n",
    "model.add(Dense(5, activation = 'relu'))\n",
    "\n",
    "#model.add(Dense(12, activation = 'relu'))\n",
    "#model.add(Dense(12, activation = 'relu'))\n",
    "\n",
    "#model.add(Dense(128, activation = 'relu'))\n",
    "\n",
    "\n",
    "model.add(Dense(output_num, activation = 'linear'))\n",
    "\n",
    "#model.summary()"
   ]
  },
  {
   "cell_type": "code",
   "execution_count": 104,
   "id": "34c6a5b8",
   "metadata": {
    "cell_id": "61524136-3331-4c5f-863e-1963473efcd8",
    "deepnote_cell_type": "code",
    "deepnote_to_be_reexecuted": false,
    "execution_millis": 13,
    "execution_start": 1646054442499,
    "source_hash": "6a21a65c",
    "tags": []
   },
   "outputs": [],
   "source": [
    "#Oppretter en tidlig stopp-funksjon\n",
    "\n",
    "model.compile(loss = 'mse', optimizer = 'adam') #, metrics=['accuracy'])\n",
    "\n",
    "EarlyStopping = keras.callbacks.EarlyStopping\n",
    "\n",
    "early_stop = EarlyStopping(monitor = 'loss', patience = 2, verbose = 1)"
   ]
  },
  {
   "cell_type": "code",
   "execution_count": 105,
   "id": "61fa900a",
   "metadata": {
    "cell_id": "5b3509bd-5514-4f87-816a-012244726b73",
    "deepnote_cell_type": "code",
    "deepnote_to_be_reexecuted": false,
    "execution_millis": 29261,
    "execution_start": 1646054444283,
    "source_hash": "37db4411",
    "tags": []
   },
   "outputs": [
    {
     "name": "stdout",
     "output_type": "stream",
     "text": [
      "Epoch 1/100\n",
      "1421/1421 [==============================] - 1s 658us/step - loss: 23896361271296.0000\n",
      "Epoch 2/100\n",
      "1421/1421 [==============================] - 1s 752us/step - loss: 23896334008320.0000\n",
      "Epoch 3/100\n",
      "1421/1421 [==============================] - 1s 631us/step - loss: 23896321425408.0000\n",
      "Epoch 4/100\n",
      "1421/1421 [==============================] - 1s 630us/step - loss: 23896313036800.0000\n",
      "Epoch 5/100\n",
      "1421/1421 [==============================] - 1s 629us/step - loss: 23896279482368.0000\n",
      "Epoch 6/100\n",
      "1421/1421 [==============================] - 1s 630us/step - loss: 23896298356736.0000\n",
      "Epoch 7/100\n",
      "1421/1421 [==============================] - 1s 636us/step - loss: 23896287870976.0000\n",
      "Epoch 00007: early stopping\n"
     ]
    }
   ],
   "source": [
    "#Tilpasser modellen\n",
    "\n",
    "history = model.fit(X_train, y_train,\n",
    "                    epochs = 100,\n",
    "                    batch_size = 100,\n",
    "                    verbose = 1,\n",
    "                    callbacks = [early_stop],\n",
    "                    shuffle = True)"
   ]
  },
  {
   "cell_type": "code",
   "execution_count": 106,
   "id": "ed673249-ebde-45c3-8588-3e7e28e8b365",
   "metadata": {},
   "outputs": [],
   "source": [
    "#Lager prediksjoner basert på testene\n",
    "y_test_pred = (model.predict(X_test))\n",
    "\n",
    "y_test['Pred'] = y_test_pred\n",
    "y_test['Error'] = y_test['price_inc_debt'] - y_test['Pred']\n",
    "y_test['Error_percent'] = y_test['price_inc_debt'] / y_test['Pred']-1\n",
    "\n",
    "#Gjør om fra skalert tall til vanlig:\n",
    "#for col in y_test:\n",
    "    #y_test[col] = y_scaler.inverse_transform(y_test[[col]])"
   ]
  },
  {
   "cell_type": "code",
   "execution_count": 107,
   "id": "ec457b13-9829-4e1d-bb8d-02f1f9aa2416",
   "metadata": {},
   "outputs": [
    {
     "name": "stdout",
     "output_type": "stream",
     "text": [
      "The r2 score of the test set is: -347.8704%\n"
     ]
    }
   ],
   "source": [
    "print(f'The r2 score of the test set is: {r2_score(y_test[\"price_inc_debt\"], y_test[\"Pred\"])*100:.4f}%')"
   ]
  },
  {
   "cell_type": "code",
   "execution_count": 108,
   "id": "00bfa53e",
   "metadata": {
    "cell_id": "7375bf7a-0826-4ebe-abc0-5d6ca823545c",
    "deepnote_cell_type": "code",
    "deepnote_to_be_reexecuted": false,
    "execution_millis": 13,
    "execution_start": 1646054486980,
    "source_hash": "20e71353",
    "tags": []
   },
   "outputs": [
    {
     "data": {
      "text/plain": [
       "count    3.550700e+04\n",
       "mean     4.344903e+06\n",
       "std      2.329579e+06\n",
       "min      5.129901e+05\n",
       "25%      2.799990e+06\n",
       "50%      3.689990e+06\n",
       "75%      5.173750e+06\n",
       "max      1.874999e+07\n",
       "Name: Error, dtype: float64"
      ]
     },
     "execution_count": 108,
     "metadata": {},
     "output_type": "execute_result"
    }
   ],
   "source": [
    "y_test['Error'].describe()"
   ]
  },
  {
   "cell_type": "code",
   "execution_count": 109,
   "id": "7b46c670",
   "metadata": {
    "cell_id": "d3dcf7a0-373f-437a-9f16-0eccfc43a384",
    "deepnote_cell_type": "code",
    "deepnote_to_be_reexecuted": false,
    "execution_millis": 1160,
    "execution_start": 1646054489835,
    "source_hash": "53dfab89",
    "tags": []
   },
   "outputs": [
    {
     "name": "stderr",
     "output_type": "stream",
     "text": [
      "/Library/Frameworks/Python.framework/Versions/3.9/lib/python3.9/site-packages/seaborn/_decorators.py:36: FutureWarning: Pass the following variables as keyword args: x, y. From version 0.12, the only valid positional argument will be `data`, and passing other arguments without an explicit keyword will result in an error or misinterpretation.\n",
      "  warnings.warn(\n",
      "/Library/Frameworks/Python.framework/Versions/3.9/lib/python3.9/site-packages/seaborn/_decorators.py:36: FutureWarning: Pass the following variables as keyword args: x, y. From version 0.12, the only valid positional argument will be `data`, and passing other arguments without an explicit keyword will result in an error or misinterpretation.\n",
      "  warnings.warn(\n"
     ]
    },
    {
     "data": {
      "image/png": "[encoded data removed]",
      "text/plain": [
       "<Figure size 432x288 with 1 Axes>"
      ]
     },
     "metadata": {
      "needs_background": "light"
     },
     "output_type": "display_data"
    }
   ],
   "source": [
    "sb.scatterplot(y_test.price_inc_debt,y_test.Pred)\n",
    "sb.scatterplot(y_test.price_inc_debt,y_test.price_inc_debt)\n",
    "plt.show()"
   ]
  },
  {
   "cell_type": "code",
   "execution_count": 110,
   "id": "e4b8cc96",
   "metadata": {
    "cell_id": "524d78dd-882e-48b6-9ffa-e41153e8ad21",
    "deepnote_cell_type": "code",
    "deepnote_to_be_reexecuted": true,
    "execution_millis": 1,
    "execution_start": 1646053021546,
    "source_hash": "b623e53d",
    "tags": []
   },
   "outputs": [
    {
     "data": {
      "image/png": "[encoded data removed]",
      "text/plain": [
       "<Figure size 1152x360 with 1 Axes>"
      ]
     },
     "metadata": {
      "needs_background": "light"
     },
     "output_type": "display_data"
    },
    {
     "data": {
      "image/png": "[encoded data removed]",
      "text/plain": [
       "<Figure size 1152x360 with 1 Axes>"
      ]
     },
     "metadata": {
      "needs_background": "light"
     },
     "output_type": "display_data"
    }
   ],
   "source": [
    "y_test['Error'].hist(figsize=(16,5),bins=50)\n",
    "plt.show()\n",
    "y_test['Error_percent'].hist(figsize=(16,5),bins=50, range = [-2,2])\n",
    "plt.show()"
   ]
  },
  {
   "cell_type": "code",
   "execution_count": null,
   "id": "c68122d5",
   "metadata": {
    "cell_id": "8799dc2e-e51f-4a0f-9263-dadc39dfe9bf",
    "deepnote_cell_type": "code",
    "deepnote_to_be_reexecuted": true,
    "execution_millis": 3,
    "execution_start": 1646053021555,
    "source_hash": "b623e53d",
    "tags": []
   },
   "outputs": [],
   "source": [
    "y_test.head(20)"
   ]
  },
  {
   "cell_type": "code",
   "execution_count": null,
   "id": "6c01b095-7a0b-41f4-b64b-7068a6adcfe6",
   "metadata": {},
   "outputs": [],
   "source": []
  },
  {
   "cell_type": "markdown",
   "id": "fb37e518-ddde-4ae4-9234-a7fcdfbf792f",
   "metadata": {},
   "source": [
    "# Resultater fra tester:\n",
    "*Kjører litt forskjellige tester for å finne ut hvilke kombinasjoner som vil fungere best ut fra hvilke variabler vi har med. Starter med å kjøre litt tester med:*\n",
    "- ingen skalering\n",
    "- earlystopping patience: 2\n",
    "- batch size: 100 (tester med færre)\n",
    "- epochs: 100 (tester med flere)\n",
    "\n",
    "**Resultater (beste oppnådde R2, og lag-kombinasjon):**\n",
    "- Vanlig (alle variabler som i main):\n",
    "    - 20M, 400kvm hus: 69,00% - input-2-5-output\n",
    "    - 15M, 350kvm hus: 68,54% - input-2-5-output\n",
    "- Uten dummy (housingtype/area_id):\n",
    "    - 20M, 400kvm hus: 66,45% - input-2-5-output\n",
    "    - 15M, 350kvm hus: 66,50% - input-2-5-output"
   ]
  },
  {
   "cell_type": "code",
   "execution_count": null,
   "id": "87eb0272-93f1-4caf-b12b-11dc2698224a",
   "metadata": {},
   "outputs": [],
   "source": []
  },
  {
   "cell_type": "code",
   "execution_count": null,
   "id": "70a9fdef-e142-403a-bc55-014681a3d9eb",
   "metadata": {},
   "outputs": [],
   "source": []
  },
  {
   "cell_type": "code",
   "execution_count": null,
   "id": "abcf95f5-08ec-44fd-92ad-5de8faf0abe6",
   "metadata": {},
   "outputs": [],
   "source": []
  },
  {
   "cell_type": "code",
   "execution_count": null,
   "id": "e610c863-9e8c-45c1-8ec0-153e475e22f4",
   "metadata": {},
   "outputs": [],
   "source": []
  },
  {
   "cell_type": "code",
   "execution_count": null,
   "id": "6f4d2453-92ac-4dd0-898d-255b68c943da",
   "metadata": {},
   "outputs": [],
   "source": []
  },
  {
   "cell_type": "code",
   "execution_count": null,
   "id": "17e1f557-2d9b-44e1-947c-405a7e4695a7",
   "metadata": {},
   "outputs": [],
   "source": []
  },
  {
   "cell_type": "code",
   "execution_count": null,
   "id": "99867ee2-72ff-479d-88f1-6b584284ddb9",
   "metadata": {},
   "outputs": [],
   "source": []
  },
  {
   "cell_type": "code",
   "execution_count": null,
   "id": "438d0286-6908-4aad-9099-58fe3a4e19e9",
   "metadata": {},
   "outputs": [],
   "source": []
  },
  {
   "cell_type": "code",
   "execution_count": null,
   "id": "41df4378",
   "metadata": {
    "cell_id": "00005-b0dfb173-5623-4019-9fb9-364cc15ea865",
    "deepnote_cell_height": 81,
    "deepnote_cell_type": "code",
    "deepnote_to_be_reexecuted": true,
    "execution_millis": 28,
    "execution_start": 1646053021563,
    "source_hash": "34cc42e7"
   },
   "outputs": [],
   "source": [
    "df_latlng = df.copy()"
   ]
  },
  {
   "cell_type": "code",
   "execution_count": null,
   "id": "93eeccd7",
   "metadata": {
    "cell_id": "00006-aa82cb3e-b989-42d7-8193-b2bf11a89e22",
    "deepnote_cell_height": 99,
    "deepnote_cell_type": "code",
    "deepnote_to_be_reexecuted": true,
    "execution_millis": 89,
    "execution_start": 1646053021642,
    "source_hash": "b49592ad"
   },
   "outputs": [],
   "source": [
    "df_latlng.drop(df[df[\"lat\"] < 59.8].index, inplace=True)\n",
    "df_latlng.drop(df[df[\"lat\"] > 59.98].index, inplace=True)"
   ]
  },
  {
   "cell_type": "code",
   "execution_count": null,
   "id": "6ef1d624",
   "metadata": {
    "cell_id": "00007-8805fa5c-b18a-4cf6-90d9-aed5cccef894",
    "deepnote_cell_height": 365,
    "deepnote_cell_type": "code",
    "deepnote_output_heights": [
     250
    ],
    "deepnote_to_be_reexecuted": true,
    "execution_millis": 362,
    "execution_start": 1646053021775,
    "source_hash": "32487fdf"
   },
   "outputs": [],
   "source": [
    "plt.scatter(df_latlng[\"lng\"],df_latlng[\"lat\"], s=1)\n",
    "plt.show()"
   ]
  },
  {
   "cell_type": "code",
   "execution_count": null,
   "id": "5b9212c5",
   "metadata": {
    "cell_id": "00008-0ce19e62-da01-4d36-ad2c-173c0a334360",
    "deepnote_cell_height": 834,
    "deepnote_cell_type": "code",
    "deepnote_output_heights": [
     431
    ],
    "deepnote_to_be_reexecuted": true,
    "execution_millis": 6533,
    "execution_start": 1646053022148,
    "source_hash": "933dcef6"
   },
   "outputs": [],
   "source": [
    "df_latlng.plot(kind = \"scatter\", \n",
    "                x = \"lng\", \n",
    "                y = \"lat\", \n",
    "                alpha = 0.4,                        # blending value, between 0 (transparent) and 1 (opaque).\n",
    "                s = df_latlng[\"price\"]/1000000,   # The marker size according to population\n",
    "                label = \"Størrelse\",               # The label of the timeseries used in legend  \n",
    "                figsize = (10,7),                   # Figure size\n",
    "                #c = \"price\",           # color dependent on feature house value\n",
    "                cmap = plt.get_cmap(\"jet\"),         # color map in case that c is an array of floats\n",
    "                colorbar = True,\n",
    "                sharex = False)                     #  each subplot x- or y-axis will be independent  \n",
    "\n",
    "plt.legend()\n",
    "plt.show()\n",
    "\n",
    "\n",
    "# Try to put an error into cmap then you get a suggestion of all the possibilities\n"
   ]
  },
  {
   "cell_type": "code",
   "execution_count": null,
   "id": "057491eb",
   "metadata": {
    "cell_id": "00009-86671a91-8f3b-4d70-969e-9418507566af",
    "deepnote_cell_height": 1208,
    "deepnote_cell_type": "code",
    "deepnote_output_heights": [
     571
    ],
    "deepnote_to_be_reexecuted": true,
    "execution_millis": 6844,
    "execution_start": 1646053028691,
    "source_hash": "dbfd81cf"
   },
   "outputs": [],
   "source": [
    "oslo_img=mpimg.imread('oslo.png')\n",
    "\n",
    "ax = df_latlng.plot(kind = \"scatter\", \n",
    "                x = \"lng\", \n",
    "                y = \"lat\", \n",
    "                alpha = 0.4,                        # blending value, between 0 (transparent) and 1 (opaque).\n",
    "                s = df_latlng[\"price\"]/1000000,   # The marker size according to population\n",
    "                label = \"Størrelse\",               # The label of the timeseries used in legend  \n",
    "                figsize = (10,10),                   # Figure size\n",
    "                #c = \"price\",           # color dependent on feature house value\n",
    "                cmap = plt.get_cmap(\"jet\"),         # color map in case that c is an array of floats\n",
    "                colorbar = True,\n",
    "                sharex = False)  \n",
    "\n",
    "plt.imshow(oslo_img,\n",
    "           extent=[10.62, 10.95, 59.81, 59.988],\n",
    "           alpha=0.5,\n",
    "           #cmap=plt.get_cmap(\"jet\")\n",
    "           )\n",
    "plt.ylabel(\"Latitude\", fontsize=14)\n",
    "plt.xlabel(\"Longitude\", fontsize=14)\n",
    "\n",
    "prices = df_latlng[\"price\"]\n",
    "tick_values = np.linspace(prices.min(), prices.max(), 11)\n",
    "cbar = plt.colorbar(ticks=tick_values/prices.max())\n",
    "cbar.ax.set_yticklabels([\"$%dk\"%(round(v/1000)) for v in tick_values], fontsize=14)\n",
    "#cbar.set_label('Median House Value', fontsize=16)\n",
    "\n",
    "plt.legend(fontsize=10)\n",
    "\n",
    "plt.show()"
   ]
  },
  {
   "cell_type": "code",
   "execution_count": null,
   "id": "56e980b8",
   "metadata": {
    "cell_id": "00010-2b11b469-4cf3-4e02-a456-8d2f51e8cae9",
    "deepnote_cell_height": 81,
    "deepnote_cell_type": "code",
    "deepnote_to_be_reexecuted": true,
    "execution_millis": 362111528,
    "execution_start": 1646053035145,
    "source_hash": "b623e53d"
   },
   "outputs": [],
   "source": []
  },
  {
   "cell_type": "code",
   "execution_count": null,
   "id": "044d86d9",
   "metadata": {
    "cell_id": "00011-5a5685ce-96e8-4d77-9810-4a3b40d440e3",
    "deepnote_cell_height": 357,
    "deepnote_cell_type": "code",
    "deepnote_output_heights": [
     1
    ],
    "deepnote_to_be_reexecuted": true,
    "execution_millis": 394,
    "execution_start": 1646053035146,
    "source_hash": "c085b6ba"
   },
   "outputs": [],
   "source": [
    "df.head()"
   ]
  },
  {
   "cell_type": "code",
   "execution_count": null,
   "id": "a67e49b3",
   "metadata": {
    "cell_id": "00012-06d055c5-8550-4dda-942e-9229072c117d",
    "deepnote_cell_height": 419.3125,
    "deepnote_cell_type": "code",
    "deepnote_output_heights": [
     304.3125
    ],
    "deepnote_to_be_reexecuted": true,
    "execution_millis": 434,
    "execution_start": 1646053035380,
    "source_hash": "9c321414"
   },
   "outputs": [],
   "source": [
    "df['price'].hist(bins=70, range=[0,10000000], figsize=(17,6))\n",
    "plt.show()"
   ]
  },
  {
   "cell_type": "code",
   "execution_count": null,
   "id": "7019f244",
   "metadata": {
    "cell_id": "00013-073fd591-e606-4e70-bf33-dba895c85d8c",
    "deepnote_cell_height": 365,
    "deepnote_cell_type": "code",
    "deepnote_output_heights": [
     250
    ],
    "deepnote_to_be_reexecuted": true,
    "execution_millis": 201,
    "execution_start": 1646053035955,
    "source_hash": "cff01a26"
   },
   "outputs": [],
   "source": [
    "df[\"area_id\"].hist(bins=25)\n",
    "plt.show()"
   ]
  },
  {
   "cell_type": "code",
   "execution_count": null,
   "id": "c81527d6",
   "metadata": {
    "cell_id": "00014-88d3dadb-013e-4fbb-8bf5-2b40ddd80c82",
    "deepnote_cell_height": 81,
    "deepnote_cell_type": "code",
    "deepnote_to_be_reexecuted": true,
    "execution_millis": 5,
    "execution_start": 1646053036163,
    "source_hash": "b623e53d"
   },
   "outputs": [],
   "source": []
  },
  {
   "cell_type": "code",
   "execution_count": null,
   "id": "283d6295",
   "metadata": {
    "cell_id": "7c28e39c-b084-46fd-939c-33ba8e5932e1",
    "deepnote_cell_height": 81,
    "deepnote_cell_type": "code",
    "deepnote_to_be_reexecuted": true,
    "execution_millis": 362111733,
    "execution_start": 1646053036178,
    "source_hash": "b623e53d",
    "tags": []
   },
   "outputs": [],
   "source": []
  },
  {
   "cell_type": "code",
   "execution_count": null,
   "id": "22f68166",
   "metadata": {
    "cell_id": "2b3d1cbb-ba95-418a-950c-eec301627af3",
    "deepnote_cell_height": 81,
    "deepnote_cell_type": "code",
    "deepnote_to_be_reexecuted": true,
    "execution_millis": 362111724,
    "execution_start": 1646053036189,
    "source_hash": "b623e53d",
    "tags": []
   },
   "outputs": [],
   "source": []
  },
  {
   "cell_type": "code",
   "execution_count": null,
   "id": "7b967577",
   "metadata": {
    "cell_id": "93699cf4-0436-46f5-bba6-1a12673335b9",
    "deepnote_cell_height": 81,
    "deepnote_cell_type": "code",
    "deepnote_to_be_reexecuted": true,
    "execution_millis": 362111726,
    "execution_start": 1646053036234,
    "source_hash": "b623e53d",
    "tags": []
   },
   "outputs": [],
   "source": []
  },
  {
   "cell_type": "code",
   "execution_count": null,
   "id": "f885e060",
   "metadata": {
    "cell_id": "50ee130c-a4d3-41bc-9d02-707859f10cf0",
    "deepnote_cell_height": 81,
    "deepnote_cell_type": "code",
    "deepnote_to_be_reexecuted": true,
    "execution_millis": 362111683,
    "execution_start": 1646053036235,
    "source_hash": "b623e53d",
    "tags": []
   },
   "outputs": [],
   "source": []
  },
  {
   "cell_type": "markdown",
   "id": "8de383ad",
   "metadata": {
    "created_in_deepnote_cell": true,
    "deepnote_cell_type": "markdown",
    "tags": []
   },
   "source": [
    "<a style='text-decoration:none;line-height:16px;display:flex;color:#5B5B62;padding:10px;justify-content:end;' href='https://deepnote.com?utm_source=created-in-deepnote-cell&projectId=7a076037-bdbc-4d12-92b5-75ebface7fab' target=\"_blank\">\n",
    "<img alt='Created in deepnote.com' style='display:inline;max-height:16px;margin:0px;margin-right:7.5px;' src='data:image/svg+xml;base64,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' > </img>\n",
    "Created in <span style='font-weight:600;margin-left:4px;'>Deepnote</span></a>"
   ]
  }
 ],
 "metadata": {
  "deepnote": {},
  "deepnote_execution_queue": [],
  "deepnote_notebook_id": "412c32ea-12e7-4943-9595-4f2320b85aab",
  "kernelspec": {
   "display_name": "Python 3 (ipykernel)",
   "language": "python",
   "name": "python3"
  },
  "language_info": {
   "codemirror_mode": {
    "name": "ipython",
    "version": 3
   },
   "file_extension": ".py",
   "mimetype": "text/x-python",
   "name": "python",
   "nbconvert_exporter": "python",
   "pygments_lexer": "ipython3",
   "version": "3.9.6"
  }
 },
 "nbformat": 4,
 "nbformat_minor": 5
}
