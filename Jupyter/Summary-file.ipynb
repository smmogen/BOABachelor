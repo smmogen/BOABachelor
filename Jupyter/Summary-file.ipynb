{
 "cells": [
  {
   "cell_type": "markdown",
   "source": "# Summary-file for Business analytics <a id = top>",
   "metadata": {
    "cell_id": "2e33d21a-c420-482c-9f07-3990bbabec3b",
    "deepnote_cell_type": "markdown"
   }
  },
  {
   "cell_type": "markdown",
   "source": "This notebook is to use on the exam in BBAN3001 Essentials of Business Analytics. The notebook uses some example-files to illustrate different functions.",
   "metadata": {
    "cell_id": "00001-21441123-abbc-4da9-9a24-de8bab703de8",
    "deepnote_cell_type": "markdown"
   }
  },
  {
   "cell_type": "markdown",
   "source": "<h1>Summary</h1>\n<ul>\n    <li>General\n        <ul>\n            <li><a href = #importPackages >Import needed packages</a></li>\n            <li><a href = #Info >Info/Describe</a></li>\n            <li><a href = #corrmatrix >Correlation Matrix</a></li>\n            <li><a href = #convert >Convert Pandas/Numpy<a/></li>\n            <li><a href = #colrow > Change columns/rows</a></li>\n            <li><a href = #NV >Null-values</a></li>\n            <li><a href = #TTS >Train Test Split</a></li>\n            <li><a href = #dummyvar >Dummy variables</a></li>\n            <li><a href = #LabelEncoder >Label Encoder</a></li>\n            <li><a href = #MinMaxScaler >MinMaxScaler</a></li>\n        </ul>\n    </li>\n    <li><a href = #Visualization>Visualization</a>\n        <ul>\n            <li><a href = #histogram >Histogram</a></li>\n            <li><a href = #pairplot >Pairplot</a></li>\n            <li><a href = #crosstable >Crosstable</a></li>\n            <li><a href = #scatterplot >Scatterplot (Matplotlib/Seaborn)</a></li>\n            <li><a href = #relplot > Relplot (Seaborn)</a></li>\n        </ul>\n    </li>\n    <li>Topics\n        <ul>\n            <li><a href = #LinReg>Linear Regression</a>\n                <ul>\n                    <li><a href = #OLS >Ordinary Least Squares (OLS)</a></li>\n                    <li><a href = #LinearRegression >LinearRegression()</a></li>\n                </ul>\n            </li>\n            <li><a href = #LogReg>Logistic Regression</a>\n                <ul>\n                    <li><a href = #LogRegE1 >Example 1: Insurance data</a></li>\n                    <li><a href = #LogRegE2 >Example 2: Financial condition of banks</a></li>\n                    <li><a href = #incomeClass >Example 3: Income class classification</a></li>\n                </ul>\n            </li>\n            <li><a href = #NBC>Naive Bayes Classification</a>\n                <ul>\n                    <li><a href = #GaussianNB >GaussianNB</a></li>\n                </ul>\n            </li>\n            <li><a href = #KMC>K-Means Clustering</a>\n                <ul>\n                    <li><a href = #MinMaxScalerKM >MinMaxScaler</a></li>\n                    <li><a href = #ElbowPlot >Elbow Plot</a></li>\n                </ul>\n            </li>\n            <li><a href = #ANN>Artificial Neural Network</a>\n                <ul>\n                    <li><a href = #prediction >Prediction</a></li>\n                    <li><a href = #classificationBin >Classification (binary)</a></li>\n                    <li><a href = #classificationMulti >Classification (multiclass)</a></li>\n                </ul>\n            </li>\n        </ul>\n    </ul>\n</ul>",
   "metadata": {
    "cell_id": "00002-52dcf9e2-f98d-49d7-9721-383f3059633d",
    "deepnote_cell_type": "markdown"
   }
  },
  {
   "cell_type": "markdown",
   "source": "## General",
   "metadata": {
    "cell_id": "00003-67a08705-ee1a-4a73-ba8a-7edea70f01a9",
    "deepnote_cell_type": "markdown"
   }
  },
  {
   "cell_type": "markdown",
   "source": "#### Import needed packages <a id=importPackages>",
   "metadata": {
    "cell_id": "00004-b2751012-3d38-493c-b6d4-d299c655171c",
    "deepnote_cell_type": "markdown"
   }
  },
  {
   "cell_type": "markdown",
   "source": "To check whats in a package use:\n```python \ndir(package)\n\n",
   "metadata": {
    "cell_id": "00005-3482966d-ca09-4f83-a4b5-d6809dd4a651",
    "deepnote_cell_type": "markdown"
   }
  },
  {
   "cell_type": "code",
   "metadata": {
    "cell_id": "00006-2b5ed3df-0fac-4061-8b15-444caaf5ccb3",
    "deepnote_to_be_reexecuted": false,
    "source_hash": "3c094e96",
    "execution_start": 1645690314008,
    "execution_millis": 2304,
    "deepnote_cell_type": "code"
   },
   "source": "# General\nimport pandas as pd\nimport numpy as np\nimport seaborn as sb\nimport matplotlib.pyplot as plt\n%matplotlib inline\nfrom sklearn.model_selection import train_test_split\nimport sklearn.datasets #dir(sklearn.datasets)\n\n# Linear Regression\nfrom sklearn import linear_model\nimport statsmodels.api as sm #General(?)\n\n# Logistic Regression\nfrom sklearn.preprocessing import LabelEncoder\nfrom sklearn.linear_model import LogisticRegression\nfrom sklearn.metrics import confusion_matrix\nfrom sklearn.model_selection import train_test_split\nfrom sklearn.preprocessing import MinMaxScaler\n\n# Naive Bayes Classification\nfrom sklearn.naive_bayes import GaussianNB\nfrom sklearn.metrics import confusion_matrix\nfrom seaborn import heatmap as hm\n\n# K-Means Clustering\nfrom sklearn.preprocessing import MinMaxScaler\nfrom sklearn.datasets import make_blobs\nfrom sklearn.cluster import KMeans\n\n# Artificial Neural Network\nfrom sklearn.preprocessing import LabelEncoder\nfrom sklearn.preprocessing import MinMaxScaler\nfrom keras.models import Sequential\nfrom keras.layers import Dense\nfrom keras.callbacks import EarlyStopping\nfrom sklearn.metrics import r2_score\nfrom sklearn.metrics import mean_squared_error\nfrom sklearn.metrics import accuracy_score\nfrom sklearn.metrics import confusion_matrix\n\n# Check whats in a package:\n#dir(package)",
   "execution_count": 1,
   "outputs": [
    {
     "output_type": "error",
     "ename": "ModuleNotFoundError",
     "evalue": "No module named 'statsmodels'",
     "traceback": [
      "\u001b[0;31m---------------------------------------------------------------------------\u001b[0m",
      "\u001b[0;31mModuleNotFoundError\u001b[0m                       Traceback (most recent call last)",
      "\u001b[0;32m<ipython-input-1-7785e9266693>\u001b[0m in \u001b[0;36m<module>\u001b[0;34m\u001b[0m\n\u001b[1;32m     10\u001b[0m \u001b[0;31m# Linear Regression\u001b[0m\u001b[0;34m\u001b[0m\u001b[0;34m\u001b[0m\u001b[0;34m\u001b[0m\u001b[0m\n\u001b[1;32m     11\u001b[0m \u001b[0;32mfrom\u001b[0m \u001b[0msklearn\u001b[0m \u001b[0;32mimport\u001b[0m \u001b[0mlinear_model\u001b[0m\u001b[0;34m\u001b[0m\u001b[0;34m\u001b[0m\u001b[0m\n\u001b[0;32m---> 12\u001b[0;31m \u001b[0;32mimport\u001b[0m \u001b[0mstatsmodels\u001b[0m\u001b[0;34m.\u001b[0m\u001b[0mapi\u001b[0m \u001b[0;32mas\u001b[0m \u001b[0msm\u001b[0m \u001b[0;31m#General(?)\u001b[0m\u001b[0;34m\u001b[0m\u001b[0;34m\u001b[0m\u001b[0m\n\u001b[0m\u001b[1;32m     13\u001b[0m \u001b[0;34m\u001b[0m\u001b[0m\n\u001b[1;32m     14\u001b[0m \u001b[0;31m# Logistic Regression\u001b[0m\u001b[0;34m\u001b[0m\u001b[0;34m\u001b[0m\u001b[0;34m\u001b[0m\u001b[0m\n",
      "\u001b[0;31mModuleNotFoundError\u001b[0m: No module named 'statsmodels'"
     ]
    }
   ]
  },
  {
   "cell_type": "markdown",
   "source": "#### Info/Describe <a id = Info>",
   "metadata": {
    "cell_id": "00007-37fcf872-ef73-474a-9091-c255b99e529d",
    "deepnote_cell_type": "markdown"
   }
  },
  {
   "cell_type": "code",
   "metadata": {
    "cell_id": "00008-41f35e4f-66cb-464a-a9aa-cb67981957a8",
    "deepnote_to_be_reexecuted": true,
    "source_hash": "a97d476b",
    "deepnote_cell_type": "code"
   },
   "source": "# Import file from csv\ndf = pd.read_csv('housing.csv')",
   "execution_count": null,
   "outputs": []
  },
  {
   "cell_type": "code",
   "metadata": {
    "cell_id": "00009-45b37539-334f-4ca6-8cac-bd2a558ba33e",
    "deepnote_output_heights": [
     null,
     61
    ],
    "deepnote_to_be_reexecuted": true,
    "source_hash": "9097896f",
    "deepnote_cell_type": "code"
   },
   "source": "# Look at the shape and head\nprint(df.shape)\ndf.head(1)",
   "execution_count": null,
   "outputs": [
    {
     "name": "stdout",
     "output_type": "stream",
     "text": "(20640, 10)\n"
    },
    {
     "data": {
      "text/html": "<div>\n<style scoped>\n    .dataframe tbody tr th:only-of-type {\n        vertical-align: middle;\n    }\n\n    .dataframe tbody tr th {\n        vertical-align: top;\n    }\n\n    .dataframe thead th {\n        text-align: right;\n    }\n</style>\n<table border=\"1\" class=\"dataframe\">\n  <thead>\n    <tr style=\"text-align: right;\">\n      <th></th>\n      <th>longitude</th>\n      <th>latitude</th>\n      <th>housing_median_age</th>\n      <th>total_rooms</th>\n      <th>total_bedrooms</th>\n      <th>population</th>\n      <th>households</th>\n      <th>median_income</th>\n      <th>median_house_value</th>\n      <th>ocean_proximity</th>\n    </tr>\n  </thead>\n  <tbody>\n    <tr>\n      <th>0</th>\n      <td>-122.23</td>\n      <td>37.88</td>\n      <td>41.0</td>\n      <td>880.0</td>\n      <td>129.0</td>\n      <td>322.0</td>\n      <td>126.0</td>\n      <td>8.3252</td>\n      <td>452600.0</td>\n      <td>NEAR BAY</td>\n    </tr>\n  </tbody>\n</table>\n</div>",
      "text/plain": "   longitude  latitude  housing_median_age  total_rooms  total_bedrooms  \\\n0    -122.23     37.88                41.0        880.0           129.0   \n\n   population  households  median_income  median_house_value ocean_proximity  \n0       322.0       126.0         8.3252            452600.0        NEAR BAY  "
     },
     "execution_count": 3,
     "metadata": {},
     "output_type": "execute_result"
    }
   ]
  },
  {
   "cell_type": "code",
   "metadata": {
    "cell_id": "00010-76a39210-c8e8-4ff6-ae40-6a1b076b739b",
    "deepnote_output_heights": [
     213
    ],
    "deepnote_to_be_reexecuted": true,
    "source_hash": "40d62c5f",
    "deepnote_cell_type": "code"
   },
   "source": "# See specific rows/columns\ndf.loc[26,:] #loc[row,column]",
   "execution_count": null,
   "outputs": [
    {
     "data": {
      "text/plain": "longitude              -122.28\nlatitude                 37.85\nhousing_median_age        49.0\ntotal_rooms             1130.0\ntotal_bedrooms           244.0\npopulation               607.0\nhouseholds               239.0\nmedian_income           2.4597\nmedian_house_value     93800.0\nocean_proximity       NEAR BAY\nName: 26, dtype: object"
     },
     "execution_count": 4,
     "metadata": {},
     "output_type": "execute_result"
    }
   ]
  },
  {
   "cell_type": "code",
   "metadata": {
    "cell_id": "00011-629aedf5-bbdd-4b8b-980e-9cac152d82ef",
    "deepnote_output_heights": [
     233
    ],
    "deepnote_to_be_reexecuted": true,
    "source_hash": "b5618b5e",
    "deepnote_cell_type": "code"
   },
   "source": "# Select specific rows/columns based on criteria\ndf.loc[df['ocean_proximity']=='NEAR BAY','population']",
   "execution_count": null,
   "outputs": [
    {
     "data": {
      "text/plain": "0         322.0\n1        2401.0\n2         496.0\n3         558.0\n4         565.0\n          ...  \n19067    1374.0\n19068    1277.0\n19069    1994.0\n19077    1657.0\n19104    2808.0\nName: population, Length: 2290, dtype: float64"
     },
     "execution_count": 5,
     "metadata": {},
     "output_type": "execute_result"
    }
   ]
  },
  {
   "cell_type": "code",
   "metadata": {
    "cell_id": "00012-b91320fd-bd9c-466a-a887-e479cf13a071",
    "deepnote_to_be_reexecuted": true,
    "source_hash": "a55c8e38",
    "deepnote_cell_type": "code"
   },
   "source": "# See some information\ndf.info()",
   "execution_count": null,
   "outputs": [
    {
     "name": "stdout",
     "output_type": "stream",
     "text": "<class 'pandas.core.frame.DataFrame'>\nRangeIndex: 20640 entries, 0 to 20639\nData columns (total 10 columns):\n #   Column              Non-Null Count  Dtype  \n---  ------              --------------  -----  \n 0   longitude           20640 non-null  float64\n 1   latitude            20640 non-null  float64\n 2   housing_median_age  20640 non-null  float64\n 3   total_rooms         20640 non-null  float64\n 4   total_bedrooms      20433 non-null  float64\n 5   population          20640 non-null  float64\n 6   households          20640 non-null  float64\n 7   median_income       20640 non-null  float64\n 8   median_house_value  20640 non-null  float64\n 9   ocean_proximity     20640 non-null  object \ndtypes: float64(9), object(1)\nmemory usage: 1.6+ MB\n"
    }
   ]
  },
  {
   "cell_type": "code",
   "metadata": {
    "cell_id": "00013-d5f33d01-103e-47e6-8344-1b0ba6bd94b8",
    "deepnote_output_heights": [
     264
    ],
    "deepnote_to_be_reexecuted": true,
    "source_hash": "f88152d9",
    "deepnote_cell_type": "code"
   },
   "source": "df.describe()",
   "execution_count": null,
   "outputs": [
    {
     "data": {
      "text/html": "<div>\n<style scoped>\n    .dataframe tbody tr th:only-of-type {\n        vertical-align: middle;\n    }\n\n    .dataframe tbody tr th {\n        vertical-align: top;\n    }\n\n    .dataframe thead th {\n        text-align: right;\n    }\n</style>\n<table border=\"1\" class=\"dataframe\">\n  <thead>\n    <tr style=\"text-align: right;\">\n      <th></th>\n      <th>longitude</th>\n      <th>latitude</th>\n      <th>housing_median_age</th>\n      <th>total_rooms</th>\n      <th>total_bedrooms</th>\n      <th>population</th>\n      <th>households</th>\n      <th>median_income</th>\n      <th>median_house_value</th>\n    </tr>\n  </thead>\n  <tbody>\n    <tr>\n      <th>count</th>\n      <td>20640.000000</td>\n      <td>20640.000000</td>\n      <td>20640.000000</td>\n      <td>20640.000000</td>\n      <td>20433.000000</td>\n      <td>20640.000000</td>\n      <td>20640.000000</td>\n      <td>20640.000000</td>\n      <td>20640.000000</td>\n    </tr>\n    <tr>\n      <th>mean</th>\n      <td>-119.569704</td>\n      <td>35.631861</td>\n      <td>28.639486</td>\n      <td>2635.763081</td>\n      <td>537.870553</td>\n      <td>1425.476744</td>\n      <td>499.539680</td>\n      <td>3.870671</td>\n      <td>206855.816909</td>\n    </tr>\n    <tr>\n      <th>std</th>\n      <td>2.003532</td>\n      <td>2.135952</td>\n      <td>12.585558</td>\n      <td>2181.615252</td>\n      <td>421.385070</td>\n      <td>1132.462122</td>\n      <td>382.329753</td>\n      <td>1.899822</td>\n      <td>115395.615874</td>\n    </tr>\n    <tr>\n      <th>min</th>\n      <td>-124.350000</td>\n      <td>32.540000</td>\n      <td>1.000000</td>\n      <td>2.000000</td>\n      <td>1.000000</td>\n      <td>3.000000</td>\n      <td>1.000000</td>\n      <td>0.499900</td>\n      <td>14999.000000</td>\n    </tr>\n    <tr>\n      <th>25%</th>\n      <td>-121.800000</td>\n      <td>33.930000</td>\n      <td>18.000000</td>\n      <td>1447.750000</td>\n      <td>296.000000</td>\n      <td>787.000000</td>\n      <td>280.000000</td>\n      <td>2.563400</td>\n      <td>119600.000000</td>\n    </tr>\n    <tr>\n      <th>50%</th>\n      <td>-118.490000</td>\n      <td>34.260000</td>\n      <td>29.000000</td>\n      <td>2127.000000</td>\n      <td>435.000000</td>\n      <td>1166.000000</td>\n      <td>409.000000</td>\n      <td>3.534800</td>\n      <td>179700.000000</td>\n    </tr>\n    <tr>\n      <th>75%</th>\n      <td>-118.010000</td>\n      <td>37.710000</td>\n      <td>37.000000</td>\n      <td>3148.000000</td>\n      <td>647.000000</td>\n      <td>1725.000000</td>\n      <td>605.000000</td>\n      <td>4.743250</td>\n      <td>264725.000000</td>\n    </tr>\n    <tr>\n      <th>max</th>\n      <td>-114.310000</td>\n      <td>41.950000</td>\n      <td>52.000000</td>\n      <td>39320.000000</td>\n      <td>6445.000000</td>\n      <td>35682.000000</td>\n      <td>6082.000000</td>\n      <td>15.000100</td>\n      <td>500001.000000</td>\n    </tr>\n  </tbody>\n</table>\n</div>",
      "text/plain": "          longitude      latitude  housing_median_age   total_rooms  \\\ncount  20640.000000  20640.000000        20640.000000  20640.000000   \nmean    -119.569704     35.631861           28.639486   2635.763081   \nstd        2.003532      2.135952           12.585558   2181.615252   \nmin     -124.350000     32.540000            1.000000      2.000000   \n25%     -121.800000     33.930000           18.000000   1447.750000   \n50%     -118.490000     34.260000           29.000000   2127.000000   \n75%     -118.010000     37.710000           37.000000   3148.000000   \nmax     -114.310000     41.950000           52.000000  39320.000000   \n\n       total_bedrooms    population    households  median_income  \\\ncount    20433.000000  20640.000000  20640.000000   20640.000000   \nmean       537.870553   1425.476744    499.539680       3.870671   \nstd        421.385070   1132.462122    382.329753       1.899822   \nmin          1.000000      3.000000      1.000000       0.499900   \n25%        296.000000    787.000000    280.000000       2.563400   \n50%        435.000000   1166.000000    409.000000       3.534800   \n75%        647.000000   1725.000000    605.000000       4.743250   \nmax       6445.000000  35682.000000   6082.000000      15.000100   \n\n       median_house_value  \ncount        20640.000000  \nmean        206855.816909  \nstd         115395.615874  \nmin          14999.000000  \n25%         119600.000000  \n50%         179700.000000  \n75%         264725.000000  \nmax         500001.000000  "
     },
     "execution_count": 7,
     "metadata": {},
     "output_type": "execute_result"
    }
   ]
  },
  {
   "cell_type": "code",
   "metadata": {
    "cell_id": "00014-c2a0ec8d-2e6a-47d2-b64c-7610ff3d17e7",
    "deepnote_output_heights": [
     117
    ],
    "deepnote_to_be_reexecuted": true,
    "source_hash": "c56505c5",
    "deepnote_cell_type": "code"
   },
   "source": "# Count the number of unique values\ndf['ocean_proximity'].value_counts()",
   "execution_count": null,
   "outputs": [
    {
     "data": {
      "text/plain": "<1H OCEAN     9136\nINLAND        6551\nNEAR OCEAN    2658\nNEAR BAY      2290\nISLAND           5\nName: ocean_proximity, dtype: int64"
     },
     "execution_count": 8,
     "metadata": {},
     "output_type": "execute_result"
    }
   ]
  },
  {
   "cell_type": "code",
   "metadata": {
    "cell_id": "00015-2842a7e1-d84f-4f82-b3ae-c44703d1ab14",
    "deepnote_output_heights": [
     206
    ],
    "deepnote_to_be_reexecuted": true,
    "source_hash": "7054c23",
    "deepnote_cell_type": "code"
   },
   "source": "# See means with different values of a variable. This will only be relevant with few unique values for the variable\ndf.groupby('ocean_proximity').mean()",
   "execution_count": null,
   "outputs": [
    {
     "data": {
      "text/html": "<div>\n<style scoped>\n    .dataframe tbody tr th:only-of-type {\n        vertical-align: middle;\n    }\n\n    .dataframe tbody tr th {\n        vertical-align: top;\n    }\n\n    .dataframe thead th {\n        text-align: right;\n    }\n</style>\n<table border=\"1\" class=\"dataframe\">\n  <thead>\n    <tr style=\"text-align: right;\">\n      <th></th>\n      <th>longitude</th>\n      <th>latitude</th>\n      <th>housing_median_age</th>\n      <th>total_rooms</th>\n      <th>total_bedrooms</th>\n      <th>population</th>\n      <th>households</th>\n      <th>median_income</th>\n      <th>median_house_value</th>\n    </tr>\n    <tr>\n      <th>ocean_proximity</th>\n      <th></th>\n      <th></th>\n      <th></th>\n      <th></th>\n      <th></th>\n      <th></th>\n      <th></th>\n      <th></th>\n      <th></th>\n    </tr>\n  </thead>\n  <tbody>\n    <tr>\n      <th>&lt;1H OCEAN</th>\n      <td>-118.847766</td>\n      <td>34.560577</td>\n      <td>29.279225</td>\n      <td>2628.343586</td>\n      <td>546.539185</td>\n      <td>1520.290499</td>\n      <td>517.744965</td>\n      <td>4.230682</td>\n      <td>240084.285464</td>\n    </tr>\n    <tr>\n      <th>INLAND</th>\n      <td>-119.732990</td>\n      <td>36.731829</td>\n      <td>24.271867</td>\n      <td>2717.742787</td>\n      <td>533.881619</td>\n      <td>1391.046252</td>\n      <td>477.447565</td>\n      <td>3.208996</td>\n      <td>124805.392001</td>\n    </tr>\n    <tr>\n      <th>ISLAND</th>\n      <td>-118.354000</td>\n      <td>33.358000</td>\n      <td>42.400000</td>\n      <td>1574.600000</td>\n      <td>420.400000</td>\n      <td>668.000000</td>\n      <td>276.600000</td>\n      <td>2.744420</td>\n      <td>380440.000000</td>\n    </tr>\n    <tr>\n      <th>NEAR BAY</th>\n      <td>-122.260694</td>\n      <td>37.801057</td>\n      <td>37.730131</td>\n      <td>2493.589520</td>\n      <td>514.182819</td>\n      <td>1230.317467</td>\n      <td>488.616157</td>\n      <td>4.172885</td>\n      <td>259212.311790</td>\n    </tr>\n    <tr>\n      <th>NEAR OCEAN</th>\n      <td>-119.332555</td>\n      <td>34.738439</td>\n      <td>29.347254</td>\n      <td>2583.700903</td>\n      <td>538.615677</td>\n      <td>1354.008653</td>\n      <td>501.244545</td>\n      <td>4.005785</td>\n      <td>249433.977427</td>\n    </tr>\n  </tbody>\n</table>\n</div>",
      "text/plain": "                  longitude   latitude  housing_median_age  total_rooms  \\\nocean_proximity                                                           \n<1H OCEAN       -118.847766  34.560577           29.279225  2628.343586   \nINLAND          -119.732990  36.731829           24.271867  2717.742787   \nISLAND          -118.354000  33.358000           42.400000  1574.600000   \nNEAR BAY        -122.260694  37.801057           37.730131  2493.589520   \nNEAR OCEAN      -119.332555  34.738439           29.347254  2583.700903   \n\n                 total_bedrooms   population  households  median_income  \\\nocean_proximity                                                           \n<1H OCEAN            546.539185  1520.290499  517.744965       4.230682   \nINLAND               533.881619  1391.046252  477.447565       3.208996   \nISLAND               420.400000   668.000000  276.600000       2.744420   \nNEAR BAY             514.182819  1230.317467  488.616157       4.172885   \nNEAR OCEAN           538.615677  1354.008653  501.244545       4.005785   \n\n                 median_house_value  \nocean_proximity                      \n<1H OCEAN             240084.285464  \nINLAND                124805.392001  \nISLAND                380440.000000  \nNEAR BAY              259212.311790  \nNEAR OCEAN            249433.977427  "
     },
     "execution_count": 9,
     "metadata": {},
     "output_type": "execute_result"
    }
   ]
  },
  {
   "cell_type": "code",
   "metadata": {
    "cell_id": "00016-2b0128a0-ab15-4c64-9d46-c4a9c2ef4ab1",
    "deepnote_output_heights": [
     266.1875
    ],
    "deepnote_to_be_reexecuted": true,
    "source_hash": "34f9f08a",
    "deepnote_cell_type": "code"
   },
   "source": "# We can generate a pivot table to see the distribution. Agian this is also most releavnt with few unique values\ndf.pivot_table(index = 'ocean_proximity', columns = 'total_rooms', aggfunc='sum')",
   "execution_count": null,
   "outputs": [
    {
     "data": {
      "text/html": "<div>\n<style scoped>\n    .dataframe tbody tr th:only-of-type {\n        vertical-align: middle;\n    }\n\n    .dataframe tbody tr th {\n        vertical-align: top;\n    }\n\n    .dataframe thead tr th {\n        text-align: left;\n    }\n\n    .dataframe thead tr:last-of-type th {\n        text-align: right;\n    }\n</style>\n<table border=\"1\" class=\"dataframe\">\n  <thead>\n    <tr>\n      <th></th>\n      <th colspan=\"10\" halign=\"left\">households</th>\n      <th>...</th>\n      <th colspan=\"10\" halign=\"left\">total_bedrooms</th>\n    </tr>\n    <tr>\n      <th>total_rooms</th>\n      <th>2.0</th>\n      <th>6.0</th>\n      <th>8.0</th>\n      <th>11.0</th>\n      <th>12.0</th>\n      <th>15.0</th>\n      <th>16.0</th>\n      <th>18.0</th>\n      <th>19.0</th>\n      <th>20.0</th>\n      <th>...</th>\n      <th>27700.0</th>\n      <th>27870.0</th>\n      <th>28258.0</th>\n      <th>30401.0</th>\n      <th>30405.0</th>\n      <th>30450.0</th>\n      <th>32054.0</th>\n      <th>32627.0</th>\n      <th>37937.0</th>\n      <th>39320.0</th>\n    </tr>\n    <tr>\n      <th>ocean_proximity</th>\n      <th></th>\n      <th></th>\n      <th></th>\n      <th></th>\n      <th></th>\n      <th></th>\n      <th></th>\n      <th></th>\n      <th></th>\n      <th></th>\n      <th></th>\n      <th></th>\n      <th></th>\n      <th></th>\n      <th></th>\n      <th></th>\n      <th></th>\n      <th></th>\n      <th></th>\n      <th></th>\n      <th></th>\n    </tr>\n  </thead>\n  <tbody>\n    <tr>\n      <th>&lt;1H OCEAN</th>\n      <td>NaN</td>\n      <td>NaN</td>\n      <td>NaN</td>\n      <td>13.0</td>\n      <td>NaN</td>\n      <td>6.0</td>\n      <td>NaN</td>\n      <td>4.0</td>\n      <td>NaN</td>\n      <td>5.0</td>\n      <td>...</td>\n      <td>4179.0</td>\n      <td>NaN</td>\n      <td>3864.0</td>\n      <td>4957.0</td>\n      <td>NaN</td>\n      <td>5033.0</td>\n      <td>5290.0</td>\n      <td>6445.0</td>\n      <td>5471.0</td>\n      <td>NaN</td>\n    </tr>\n    <tr>\n      <th>INLAND</th>\n      <td>2.0</td>\n      <td>2.0</td>\n      <td>NaN</td>\n      <td>NaN</td>\n      <td>NaN</td>\n      <td>NaN</td>\n      <td>NaN</td>\n      <td>9.0</td>\n      <td>15.0</td>\n      <td>9.0</td>\n      <td>...</td>\n      <td>NaN</td>\n      <td>5027.0</td>\n      <td>NaN</td>\n      <td>NaN</td>\n      <td>NaN</td>\n      <td>NaN</td>\n      <td>NaN</td>\n      <td>NaN</td>\n      <td>NaN</td>\n      <td>6210.0</td>\n    </tr>\n    <tr>\n      <th>ISLAND</th>\n      <td>NaN</td>\n      <td>NaN</td>\n      <td>NaN</td>\n      <td>NaN</td>\n      <td>NaN</td>\n      <td>NaN</td>\n      <td>NaN</td>\n      <td>NaN</td>\n      <td>NaN</td>\n      <td>NaN</td>\n      <td>...</td>\n      <td>NaN</td>\n      <td>NaN</td>\n      <td>NaN</td>\n      <td>NaN</td>\n      <td>NaN</td>\n      <td>NaN</td>\n      <td>NaN</td>\n      <td>NaN</td>\n      <td>NaN</td>\n      <td>NaN</td>\n    </tr>\n    <tr>\n      <th>NEAR BAY</th>\n      <td>NaN</td>\n      <td>NaN</td>\n      <td>1.0</td>\n      <td>NaN</td>\n      <td>7.0</td>\n      <td>NaN</td>\n      <td>NaN</td>\n      <td>4.0</td>\n      <td>NaN</td>\n      <td>NaN</td>\n      <td>...</td>\n      <td>NaN</td>\n      <td>NaN</td>\n      <td>NaN</td>\n      <td>NaN</td>\n      <td>NaN</td>\n      <td>NaN</td>\n      <td>NaN</td>\n      <td>NaN</td>\n      <td>NaN</td>\n      <td>NaN</td>\n    </tr>\n    <tr>\n      <th>NEAR OCEAN</th>\n      <td>NaN</td>\n      <td>NaN</td>\n      <td>NaN</td>\n      <td>NaN</td>\n      <td>NaN</td>\n      <td>3.0</td>\n      <td>3.0</td>\n      <td>NaN</td>\n      <td>NaN</td>\n      <td>NaN</td>\n      <td>...</td>\n      <td>NaN</td>\n      <td>NaN</td>\n      <td>NaN</td>\n      <td>NaN</td>\n      <td>4093.0</td>\n      <td>NaN</td>\n      <td>NaN</td>\n      <td>NaN</td>\n      <td>NaN</td>\n      <td>NaN</td>\n    </tr>\n  </tbody>\n</table>\n<p>5 rows × 47408 columns</p>\n</div>",
      "text/plain": "                households                                                  \\\ntotal_rooms        2.0     6.0     8.0     11.0    12.0    15.0    16.0      \nocean_proximity                                                              \n<1H OCEAN              NaN     NaN     NaN    13.0     NaN     6.0     NaN   \nINLAND                 2.0     2.0     NaN     NaN     NaN     NaN     NaN   \nISLAND                 NaN     NaN     NaN     NaN     NaN     NaN     NaN   \nNEAR BAY               NaN     NaN     1.0     NaN     7.0     NaN     NaN   \nNEAR OCEAN             NaN     NaN     NaN     NaN     NaN     3.0     3.0   \n\n                                         ... total_bedrooms                  \\\ntotal_rooms     18.0    19.0    20.0     ...        27700.0 27870.0 28258.0   \nocean_proximity                          ...                                  \n<1H OCEAN           4.0     NaN     5.0  ...         4179.0     NaN  3864.0   \nINLAND              9.0    15.0     9.0  ...            NaN  5027.0     NaN   \nISLAND              NaN     NaN     NaN  ...            NaN     NaN     NaN   \nNEAR BAY            4.0     NaN     NaN  ...            NaN     NaN     NaN   \nNEAR OCEAN          NaN     NaN     NaN  ...            NaN     NaN     NaN   \n\n                                                                         \ntotal_rooms     30401.0 30405.0 30450.0 32054.0 32627.0 37937.0 39320.0  \nocean_proximity                                                          \n<1H OCEAN        4957.0     NaN  5033.0  5290.0  6445.0  5471.0     NaN  \nINLAND              NaN     NaN     NaN     NaN     NaN     NaN  6210.0  \nISLAND              NaN     NaN     NaN     NaN     NaN     NaN     NaN  \nNEAR BAY            NaN     NaN     NaN     NaN     NaN     NaN     NaN  \nNEAR OCEAN          NaN  4093.0     NaN     NaN     NaN     NaN     NaN  \n\n[5 rows x 47408 columns]"
     },
     "execution_count": 10,
     "metadata": {},
     "output_type": "execute_result"
    }
   ]
  },
  {
   "cell_type": "markdown",
   "source": "See <a href = #PiviotTable >this</a> example on a piviot table",
   "metadata": {
    "cell_id": "00017-257b8731-c399-490a-9fde-7e25b318ab18",
    "deepnote_cell_type": "markdown"
   }
  },
  {
   "cell_type": "markdown",
   "source": "#### Correlation Matrix <a id = corrmatrix>",
   "metadata": {
    "cell_id": "00018-7695f3ac-9dad-4fd2-8651-dc5910b01aa1",
    "deepnote_cell_type": "markdown"
   }
  },
  {
   "cell_type": "code",
   "metadata": {
    "cell_id": "00019-c87b6085-a2fb-4028-a0d6-14de69af4415",
    "deepnote_to_be_reexecuted": true,
    "source_hash": "a2be13d2",
    "deepnote_cell_type": "code"
   },
   "source": "# Make the correlation matrix\ncorr_matrix = df[['median_house_value','housing_median_age', 'population']].corr()\n#corr_matrix = df.corr()\n\nprint(corr_matrix['median_house_value'].sort_values(ascending=False))\n#print(corr_matrix)",
   "execution_count": null,
   "outputs": [
    {
     "name": "stdout",
     "output_type": "stream",
     "text": "median_house_value    1.000000\nhousing_median_age    0.105623\npopulation           -0.024650\nName: median_house_value, dtype: float64\n"
    }
   ]
  },
  {
   "cell_type": "markdown",
   "source": "#### Convert Pandas/Numpy <a id = convert>",
   "metadata": {
    "cell_id": "00020-41029243-bb6d-4184-aea9-e843da9f8cd5",
    "deepnote_cell_type": "markdown"
   }
  },
  {
   "cell_type": "code",
   "metadata": {
    "cell_id": "00021-71661011-8210-4e01-9d3f-9524a4bb4af0",
    "deepnote_to_be_reexecuted": true,
    "source_hash": "8178feb7",
    "deepnote_cell_type": "code"
   },
   "source": "# Convert from Pandas to Numpy\ndf_numpy = df.to_numpy()\n\n# Convert from Numpy to Pandas\ndf_Pandas = pd.DataFrame(df_numpy) #Have to specify the column-names: (Columns = ['Col1','col2'])",
   "execution_count": null,
   "outputs": []
  },
  {
   "cell_type": "markdown",
   "source": "#### Change columns/rows <a id=colrow>",
   "metadata": {
    "cell_id": "00022-16ac5bec-1ea0-4d0c-83f6-44e79515abcf",
    "deepnote_cell_type": "markdown"
   }
  },
  {
   "cell_type": "code",
   "metadata": {
    "cell_id": "00023-6b8682b9-398a-4c4a-a9c5-6955a1fe0b3b",
    "deepnote_to_be_reexecuted": true,
    "source_hash": "4c7351ef",
    "deepnote_cell_type": "code"
   },
   "source": "# Delete a column\ndf.drop('total_rooms', inplace=True, axis=1)",
   "execution_count": null,
   "outputs": []
  },
  {
   "cell_type": "code",
   "metadata": {
    "cell_id": "00024-a3c2c11e-fb41-4fd6-acd9-2bc2ba838ca4",
    "deepnote_to_be_reexecuted": true,
    "source_hash": "24ac60dd",
    "deepnote_cell_type": "code"
   },
   "source": "# Remove rows with a specific value\ndf.drop(df[df['population'] < 10].index, inplace = True)",
   "execution_count": null,
   "outputs": []
  },
  {
   "cell_type": "code",
   "metadata": {
    "cell_id": "00025-d839764e-678c-4d38-8369-7088f3193a4e",
    "deepnote_to_be_reexecuted": true,
    "source_hash": "1808ca9f",
    "deepnote_cell_type": "code"
   },
   "source": "# Pick all columns except one\ndf_no_households = df.drop('households', axis = 1)\n#df_no_households.head()",
   "execution_count": null,
   "outputs": []
  },
  {
   "cell_type": "markdown",
   "source": "#### Null-values <a id=NV>",
   "metadata": {
    "cell_id": "00026-f97f7726-4437-4a89-8cc1-01e0bdc5a7d0",
    "deepnote_cell_type": "markdown"
   }
  },
  {
   "cell_type": "code",
   "metadata": {
    "cell_id": "00027-4a291273-2b3f-4291-b597-31562f437bc2",
    "deepnote_output_heights": [
     194
    ],
    "deepnote_to_be_reexecuted": true,
    "source_hash": "21f73bea",
    "deepnote_cell_type": "code"
   },
   "source": "# Check for null-values\ndf.isnull().sum()",
   "execution_count": null,
   "outputs": [
    {
     "data": {
      "text/plain": "longitude               0\nlatitude                0\nhousing_median_age      0\ntotal_bedrooms        207\npopulation              0\nhouseholds              0\nmedian_income           0\nmedian_house_value      0\nocean_proximity         0\ndtype: int64"
     },
     "execution_count": 16,
     "metadata": {},
     "output_type": "execute_result"
    }
   ]
  },
  {
   "cell_type": "code",
   "metadata": {
    "cell_id": "00028-328b604f-32ed-43ce-911b-95ffe94b11ef",
    "deepnote_to_be_reexecuted": true,
    "source_hash": "8dc49632",
    "deepnote_cell_type": "code"
   },
   "source": "# Remove null-values\ndf = df.dropna()\n#df.isnull().sum()",
   "execution_count": null,
   "outputs": []
  },
  {
   "cell_type": "code",
   "metadata": {
    "cell_id": "00029-ede94e9b-b0f9-488e-956f-1e3dd0479f9b",
    "deepnote_to_be_reexecuted": true,
    "source_hash": "55ac4cce",
    "deepnote_cell_type": "code"
   },
   "source": "# Replace null-values\ndf = df.fillna(df['total_bedrooms'].mean()) #This will replace null-values with the mean",
   "execution_count": null,
   "outputs": []
  },
  {
   "cell_type": "markdown",
   "source": "#### Train Test Split <a id = TTS>",
   "metadata": {
    "cell_id": "00030-682adbe5-4214-4c1c-9f77-51057aad65f7",
    "deepnote_cell_type": "markdown"
   }
  },
  {
   "cell_type": "code",
   "metadata": {
    "cell_id": "00031-408d4cb5-beee-4a39-9b65-830fcbfa5d9c",
    "deepnote_to_be_reexecuted": true,
    "source_hash": "4933065d",
    "deepnote_cell_type": "code"
   },
   "source": "# Import package\nfrom sklearn.model_selection import train_test_split\n\n# Define X and y\nX = df.drop('population', axis = 1)\ny = df['population']\n\n# Split to Train Test Set\ndf_train, df_test = train_test_split(df, train_size = 0.8, shuffle = True)\nX_train, X_test, y_train, y_test = train_test_split(X,y, train_size = 0.8, shuffle = True)",
   "execution_count": null,
   "outputs": []
  },
  {
   "cell_type": "code",
   "metadata": {
    "cell_id": "00032-eade7fb5-7237-43d0-836a-2461a7418649",
    "deepnote_to_be_reexecuted": true,
    "source_hash": "c276c4ec",
    "deepnote_cell_type": "code"
   },
   "source": "# One-dimentional objects sometimes cause problems (important!), therefore we will convert everything in to dataframes\n\nprint(y_train.shape, type(y_train))\ny_train = pd.DataFrame(y_train)\nprint(y_train.shape, type(y_train))\n\ny_test = pd.DataFrame(y_test)\nX_train = pd.DataFrame(X_train)\nX_test = pd.DataFrame(X_test)",
   "execution_count": null,
   "outputs": [
    {
     "name": "stdout",
     "output_type": "stream",
     "text": "(16339,) <class 'pandas.core.series.Series'>\n(16339, 1) <class 'pandas.core.frame.DataFrame'>\n"
    }
   ]
  },
  {
   "cell_type": "markdown",
   "source": "#### Dummy variables <a id = dummyvar>",
   "metadata": {
    "cell_id": "00033-f413df2f-9ab4-4253-a7d0-e7e4e987e6ef",
    "deepnote_cell_type": "markdown"
   }
  },
  {
   "cell_type": "code",
   "metadata": {
    "cell_id": "00034-ec440df4-a0c8-4f05-bafd-4abed64eff78",
    "deepnote_to_be_reexecuted": true,
    "source_hash": "af89f052",
    "deepnote_cell_type": "code"
   },
   "source": "# Make some extra columns of 'ocean_proximity' to use on dummy variables and label-encoder\ndf_dummy_var = pd.DataFrame(df['ocean_proximity'])\ndf_label_encoder = pd.DataFrame(df[['population','ocean_proximity']])",
   "execution_count": null,
   "outputs": []
  },
  {
   "cell_type": "code",
   "metadata": {
    "cell_id": "00035-c2364732-9781-4038-b853-f5251eb27a44",
    "deepnote_to_be_reexecuted": true,
    "source_hash": "7a5ad7e3",
    "deepnote_cell_type": "code"
   },
   "source": "print(f\"The number of columns before making dummy variables: {len(df_dummy_var.columns)}.\")\ndf_dummy_var = pd.get_dummies(df_dummy_var)\nprint(f\"The number of columns is now: {len(df_dummy_var.columns)}.\")",
   "execution_count": null,
   "outputs": [
    {
     "name": "stdout",
     "output_type": "stream",
     "text": "The number of columns before making dummy variables: 1.\nThe number of columns is now: 5.\n"
    }
   ]
  },
  {
   "cell_type": "markdown",
   "source": "#### Label Encoder <a id = LabelEncoder>",
   "metadata": {
    "cell_id": "00036-b0629776-4f99-48ae-be91-fc28ae4b230d",
    "deepnote_cell_type": "markdown"
   }
  },
  {
   "cell_type": "code",
   "metadata": {
    "cell_id": "00037-dae1a162-5287-4434-b273-b008b216e77c",
    "deepnote_to_be_reexecuted": true,
    "source_hash": "7cac3460",
    "deepnote_cell_type": "code"
   },
   "source": "# Import needed packages\nfrom sklearn.preprocessing import LabelEncoder\n\n# Create the Label Encoder\nle = LabelEncoder()\n\n# Fit the Label Encoder\nle.fit(df_label_encoder['ocean_proximity'])\n\n# See the classes\nprint('Classes:', le.classes_)\n\n# Transform\ntransformed = le.transform(df_label_encoder['ocean_proximity'])\n\n# Add the Label Encoder to the dataframe\ndf_label_encoder['ocean_proximity_LE'] = transformed\n\n# Can also do everything in one step:\ndf_label_encoder['ocean_proximity_LE2'] = le.fit_transform(df_label_encoder['ocean_proximity'])",
   "execution_count": null,
   "outputs": [
    {
     "name": "stdout",
     "output_type": "stream",
     "text": "Classes: ['<1H OCEAN' 'INLAND' 'ISLAND' 'NEAR BAY' 'NEAR OCEAN']\n"
    }
   ]
  },
  {
   "cell_type": "markdown",
   "source": "#### MinMaxScaler <a id = MinMaxScaler >",
   "metadata": {
    "cell_id": "00038-3a8fc262-f9f6-44b5-a798-d23e4959f303",
    "deepnote_cell_type": "markdown"
   }
  },
  {
   "cell_type": "code",
   "metadata": {
    "cell_id": "00039-aaf10698-ac43-4d87-adba-65de097849ba",
    "deepnote_to_be_reexecuted": true,
    "source_hash": "edbd6f16",
    "deepnote_cell_type": "code"
   },
   "source": "# Import needed packages\nfrom sklearn.preprocessing import MinMaxScaler\n\n# Define the scaler\nscaler = MinMaxScaler()\n\nscaled = ['median_house_value','housing_median_age', 'population']\nfor col in scaled:\n    df[col] = scaler.fit_transform(df[[col]])",
   "execution_count": null,
   "outputs": []
  },
  {
   "cell_type": "markdown",
   "source": "## Visualization <a id = Visualization>",
   "metadata": {
    "cell_id": "00040-baca7676-a2e2-4da9-b194-a92b2f95cdfb",
    "deepnote_cell_type": "markdown"
   }
  },
  {
   "cell_type": "code",
   "metadata": {
    "cell_id": "00041-13fe83eb-c4b1-40a9-b3ae-24788c9ad7ef",
    "deepnote_to_be_reexecuted": true,
    "source_hash": "164e0eb1",
    "deepnote_cell_type": "code"
   },
   "source": "# Libaries needed for visualization\nimport matplotlib.pyplot as plt\nimport seaborn as sb",
   "execution_count": null,
   "outputs": []
  },
  {
   "cell_type": "markdown",
   "source": "#### Histogram <a id = histogram>",
   "metadata": {
    "cell_id": "00042-ad8d76c1-5323-4d75-a1e3-a518c11b47fa",
    "deepnote_cell_type": "markdown"
   }
  },
  {
   "cell_type": "code",
   "metadata": {
    "cell_id": "00043-014945bf-91b1-40e4-a193-3b8e491afbc1",
    "deepnote_output_heights": [
     158
    ],
    "deepnote_to_be_reexecuted": true,
    "source_hash": "74dc87f3",
    "deepnote_cell_type": "code"
   },
   "source": "# Histogram show distribution.\ndf[['households','total_bedrooms']].hist(bins=50, figsize=(12,2))\nplt.show()\n\n# Alternative:\n#plt.hist(df['total_bedrooms'])",
   "execution_count": null,
   "outputs": [
    {
     "data": {
      "image/png": "[encoded data removed]",
      "text/plain": "<Figure size 864x144 with 2 Axes>"
     },
     "metadata": {
      "needs_background": "light",
      "image/png": {
       "width": 716,
       "height": 156
      }
     },
     "output_type": "display_data"
    }
   ]
  },
  {
   "cell_type": "markdown",
   "source": "#### Pairplot <a id = pairplot >",
   "metadata": {
    "cell_id": "00044-95897abf-e0e7-4558-83df-212a11158d18",
    "deepnote_cell_type": "markdown"
   }
  },
  {
   "cell_type": "code",
   "metadata": {
    "cell_id": "00045-a451d4c7-ccb3-4d74-8c4e-fd2f727f4515",
    "deepnote_output_heights": [
     535
    ],
    "deepnote_to_be_reexecuted": true,
    "source_hash": "1c9921b0",
    "deepnote_cell_type": "code"
   },
   "source": "# Variables we want to pairplot\nvariables = ['median_house_value','housing_median_age', 'population']\n\n# Plot the pairplot\nsb.pairplot(df[variables])\nplt.show()",
   "execution_count": null,
   "outputs": [
    {
     "data": {
      "image/png": "[encoded data removed]",
      "text/plain": "<Figure size 540x540 with 12 Axes>"
     },
     "metadata": {
      "needs_background": "light",
      "image/png": {
       "width": 536,
       "height": 533
      }
     },
     "output_type": "display_data"
    }
   ]
  },
  {
   "cell_type": "markdown",
   "source": "#### Crosstable <a id = crosstable >",
   "metadata": {
    "cell_id": "00046-24a143b5-7175-4e68-bde0-a92032a679e5",
    "deepnote_cell_type": "markdown"
   }
  },
  {
   "cell_type": "code",
   "metadata": {
    "cell_id": "00047-b5a3f3ca-f59a-4de6-b7dc-6512c2ea87c3",
    "deepnote_output_heights": [
     203
    ],
    "deepnote_to_be_reexecuted": true,
    "source_hash": "f712a516",
    "deepnote_cell_type": "code"
   },
   "source": "# There is no point showing a crosstable with the varibles in the df\npd.crosstab(df['ocean_proximity'],df['ocean_proximity']).plot(kind='bar', figsize=(6,1))\nplt.show()",
   "execution_count": null,
   "outputs": [
    {
     "data": {
      "image/png": "[encoded data removed]",
      "text/plain": "<Figure size 432x72 with 1 Axes>"
     },
     "metadata": {
      "needs_background": "light",
      "image/png": {
       "width": 381,
       "height": 201
      }
     },
     "output_type": "display_data"
    }
   ]
  },
  {
   "cell_type": "markdown",
   "source": "#### Scatterplot (Matplotlib/Seaborn) <a id = scatterplot>",
   "metadata": {
    "cell_id": "00048-d106dc24-1b8f-4f2f-bef4-372b0e133c0f",
    "deepnote_cell_type": "markdown"
   }
  },
  {
   "cell_type": "code",
   "metadata": {
    "cell_id": "00049-f84f5924-819e-41fa-af49-df7c48407b6e",
    "deepnote_output_heights": [
     251
    ],
    "deepnote_to_be_reexecuted": true,
    "source_hash": "972aee67",
    "deepnote_cell_type": "code"
   },
   "source": "plt.scatter(df['latitude'],df['longitude'], s=1, alpha = 0.4, color = 'red' )\n#sb.scatterplot(x=df['latitude'],y=df['longitude']) \nplt.show()",
   "execution_count": null,
   "outputs": [
    {
     "data": {
      "image/png": "[encoded data removed]",
      "text/plain": "<Figure size 432x288 with 1 Axes>"
     },
     "metadata": {
      "needs_background": "light",
      "image/png": {
       "width": 383,
       "height": 249
      }
     },
     "output_type": "display_data"
    }
   ]
  },
  {
   "cell_type": "markdown",
   "source": "#### Relplot (Seaborn) <a id=relplot>",
   "metadata": {
    "cell_id": "00050-46d4b147-67f0-43c2-a76c-def6af14bee2",
    "deepnote_cell_type": "markdown"
   }
  },
  {
   "cell_type": "code",
   "metadata": {
    "cell_id": "00051-ffb952e4-5726-44de-aa5d-67cf4dafa665",
    "deepnote_output_heights": [
     211
    ],
    "deepnote_to_be_reexecuted": true,
    "source_hash": "eb612cef",
    "deepnote_cell_type": "code"
   },
   "source": "sb.relplot(x = df['ocean_proximity'], y = df['population'], height=3) #hue, alpha\nplt.show()",
   "execution_count": null,
   "outputs": [
    {
     "data": {
      "image/png": "[encoded data removed]",
      "text/plain": "<Figure size 216x216 with 1 Axes>"
     },
     "metadata": {
      "needs_background": "light",
      "image/png": {
       "width": 209,
       "height": 209
      }
     },
     "output_type": "display_data"
    }
   ]
  },
  {
   "cell_type": "markdown",
   "source": "## Linear Regression <a id=LinReg >",
   "metadata": {
    "cell_id": "00052-977a31e2-4ccf-4d4a-bfd6-fa0b41297544",
    "deepnote_cell_type": "markdown"
   }
  },
  {
   "cell_type": "markdown",
   "source": "Linear regression is used when we got different variables that influence a dependent varible. The equation will be:                 \n`y = b0 + b1*x1 + b2*x2 ... + bn*xn + e, e = random error`",
   "metadata": {
    "cell_id": "00053-92ddca98-d5a0-4bf1-bf85-569b7e69b269",
    "deepnote_cell_type": "markdown"
   }
  },
  {
   "cell_type": "markdown",
   "source": "The example we are going to follow here is based on the 'Toyota Corolla' Exercise from class.",
   "metadata": {
    "cell_id": "00054-e9b9be8d-1c12-42c1-b051-69de55fec630",
    "deepnote_cell_type": "markdown"
   }
  },
  {
   "cell_type": "code",
   "metadata": {
    "cell_id": "00055-851820e7-425d-4675-9127-718f541b2d79",
    "deepnote_to_be_reexecuted": true,
    "source_hash": "80a47312",
    "deepnote_cell_type": "code"
   },
   "source": "# Start by importing the needed libaries\nimport pandas as pd\nimport matplotlib.pyplot as plt\nfrom sklearn.linear_model import LinearRegression\nimport statsmodels.api as sm",
   "execution_count": null,
   "outputs": []
  },
  {
   "cell_type": "code",
   "metadata": {
    "cell_id": "00056-536d5069-4646-4f99-80ee-ca472b81a300",
    "deepnote_to_be_reexecuted": true,
    "source_hash": "78ad3dfb",
    "deepnote_cell_type": "code"
   },
   "source": "# Import dataframe from csv\ndf = pd.read_csv('ToyotaCorolla.csv')",
   "execution_count": null,
   "outputs": []
  },
  {
   "cell_type": "code",
   "metadata": {
    "cell_id": "00057-1c692ce4-2081-4014-9914-f3162a8c80d9",
    "deepnote_output_heights": [
     92.1875
    ],
    "deepnote_to_be_reexecuted": true,
    "source_hash": "7d7133fd",
    "deepnote_cell_type": "code"
   },
   "source": "# Take a look at the data\ndf.head(1)",
   "execution_count": null,
   "outputs": [
    {
     "data": {
      "text/html": "<div>\n<style scoped>\n    .dataframe tbody tr th:only-of-type {\n        vertical-align: middle;\n    }\n\n    .dataframe tbody tr th {\n        vertical-align: top;\n    }\n\n    .dataframe thead th {\n        text-align: right;\n    }\n</style>\n<table border=\"1\" class=\"dataframe\">\n  <thead>\n    <tr style=\"text-align: right;\">\n      <th></th>\n      <th>Id</th>\n      <th>Model</th>\n      <th>Price</th>\n      <th>Age_08_04</th>\n      <th>Mfg_Month</th>\n      <th>Mfg_Year</th>\n      <th>KM</th>\n      <th>Fuel_Type</th>\n      <th>HP</th>\n      <th>Met_Color</th>\n      <th>...</th>\n      <th>Powered_Windows</th>\n      <th>Power_Steering</th>\n      <th>Radio</th>\n      <th>Mistlamps</th>\n      <th>Sport_Model</th>\n      <th>Backseat_Divider</th>\n      <th>Metallic_Rim</th>\n      <th>Radio_cassette</th>\n      <th>Parking_Assistant</th>\n      <th>Tow_Bar</th>\n    </tr>\n  </thead>\n  <tbody>\n    <tr>\n      <th>0</th>\n      <td>1</td>\n      <td>TOYOTA Corolla 2.0 D4D HATCHB TERRA 2/3-Doors</td>\n      <td>13500</td>\n      <td>23</td>\n      <td>10</td>\n      <td>2002</td>\n      <td>46986</td>\n      <td>Diesel</td>\n      <td>90</td>\n      <td>1</td>\n      <td>...</td>\n      <td>1</td>\n      <td>1</td>\n      <td>0</td>\n      <td>0</td>\n      <td>0</td>\n      <td>1</td>\n      <td>0</td>\n      <td>0</td>\n      <td>0</td>\n      <td>0</td>\n    </tr>\n  </tbody>\n</table>\n<p>1 rows × 39 columns</p>\n</div>",
      "text/plain": "   Id                                          Model  Price  Age_08_04  \\\n0   1  TOYOTA Corolla 2.0 D4D HATCHB TERRA 2/3-Doors  13500         23   \n\n   Mfg_Month  Mfg_Year     KM Fuel_Type  HP  Met_Color  ... Powered_Windows  \\\n0         10      2002  46986    Diesel  90          1  ...               1   \n\n   Power_Steering  Radio  Mistlamps  Sport_Model  Backseat_Divider  \\\n0               1      0          0            0                 1   \n\n   Metallic_Rim  Radio_cassette  Parking_Assistant  Tow_Bar  \n0             0               0                  0        0  \n\n[1 rows x 39 columns]"
     },
     "execution_count": 33,
     "metadata": {},
     "output_type": "execute_result"
    }
   ]
  },
  {
   "cell_type": "code",
   "metadata": {
    "cell_id": "00058-5ea1a9ac-d6ad-46b2-beda-0a074bab9d52",
    "deepnote_to_be_reexecuted": true,
    "source_hash": "c092cbdd",
    "deepnote_cell_type": "code"
   },
   "source": "# Define the varibles we are going to use in this example\ndf = df[['Price','Age_08_04', 'KM', 'Fuel_Type', 'HP', 'Automatic', 'Doors', 'Quarterly_Tax', 'Mfr_Guarantee', 'Guarantee_Period','Airco', 'Automatic_airco', 'CD_Player', 'Powered_Windows',  'Sport_Model', 'Tow_Bar']]",
   "execution_count": null,
   "outputs": []
  },
  {
   "cell_type": "code",
   "metadata": {
    "cell_id": "00059-409ee98c-4562-4315-8582-706e90f62d11",
    "deepnote_to_be_reexecuted": true,
    "source_hash": "a614e09",
    "deepnote_cell_type": "code"
   },
   "source": "# Check out how the data is:\ndf.info()\n# We can see that the Fuel_type column is object, and therefore we must do something with it later on",
   "execution_count": null,
   "outputs": [
    {
     "name": "stdout",
     "output_type": "stream",
     "text": "<class 'pandas.core.frame.DataFrame'>\nRangeIndex: 1436 entries, 0 to 1435\nData columns (total 16 columns):\n #   Column            Non-Null Count  Dtype \n---  ------            --------------  ----- \n 0   Price             1436 non-null   int64 \n 1   Age_08_04         1436 non-null   int64 \n 2   KM                1436 non-null   int64 \n 3   Fuel_Type         1436 non-null   object\n 4   HP                1436 non-null   int64 \n 5   Automatic         1436 non-null   int64 \n 6   Doors             1436 non-null   int64 \n 7   Quarterly_Tax     1436 non-null   int64 \n 8   Mfr_Guarantee     1436 non-null   int64 \n 9   Guarantee_Period  1436 non-null   int64 \n 10  Airco             1436 non-null   int64 \n 11  Automatic_airco   1436 non-null   int64 \n 12  CD_Player         1436 non-null   int64 \n 13  Powered_Windows   1436 non-null   int64 \n 14  Sport_Model       1436 non-null   int64 \n 15  Tow_Bar           1436 non-null   int64 \ndtypes: int64(15), object(1)\nmemory usage: 179.6+ KB\n"
    }
   ]
  },
  {
   "cell_type": "code",
   "metadata": {
    "cell_id": "00060-66e3d666-7e88-47ac-82e8-6510368586c3",
    "deepnote_output_heights": [
     142
    ],
    "deepnote_to_be_reexecuted": true,
    "source_hash": "482ad95b",
    "deepnote_cell_type": "code"
   },
   "source": "# Visualize the data\ndf['Price'].hist(bins=20, figsize=(6,2))\nplt.show()\n# We could (and should) visualize the data on other ways, and different variables to look for outliers etc. ",
   "execution_count": null,
   "outputs": [
    {
     "data": {
      "image/png": "[encoded data removed]",
      "text/plain": "<Figure size 432x144 with 1 Axes>"
     },
     "metadata": {
      "needs_background": "light",
      "image/png": {
       "width": 375,
       "height": 140
      }
     },
     "output_type": "display_data"
    }
   ]
  },
  {
   "cell_type": "code",
   "metadata": {
    "cell_id": "00061-efa16c51-e785-45e4-b60f-cb5146dc3b1b",
    "deepnote_output_heights": [
     329
    ],
    "deepnote_to_be_reexecuted": true,
    "source_hash": "21f73bea",
    "deepnote_cell_type": "code"
   },
   "source": "# Check for null-values\ndf.isnull().sum()",
   "execution_count": null,
   "outputs": [
    {
     "data": {
      "text/plain": "Price               0\nAge_08_04           0\nKM                  0\nFuel_Type           0\nHP                  0\nAutomatic           0\nDoors               0\nQuarterly_Tax       0\nMfr_Guarantee       0\nGuarantee_Period    0\nAirco               0\nAutomatic_airco     0\nCD_Player           0\nPowered_Windows     0\nSport_Model         0\nTow_Bar             0\ndtype: int64"
     },
     "execution_count": 37,
     "metadata": {},
     "output_type": "execute_result"
    }
   ]
  },
  {
   "cell_type": "markdown",
   "source": "Nice, no null-values, we continue. If we had null-values we would like to do something with them: <a href = #NV> Click here</a>\n\nNow we have to make dummy-variables for the `Fuel_type` varible. For info on dummy variables: <a href = #dummyvar > Click here</a>",
   "metadata": {
    "cell_id": "00062-3507a965-e891-4587-aac7-2913626b1279",
    "deepnote_cell_type": "markdown"
   }
  },
  {
   "cell_type": "code",
   "metadata": {
    "cell_id": "00063-40778501-4390-4e91-8a98-11db9d18ee9c",
    "deepnote_to_be_reexecuted": true,
    "source_hash": "b6ebcbe3",
    "deepnote_cell_type": "code"
   },
   "source": "df = pd.get_dummies(df)",
   "execution_count": null,
   "outputs": []
  },
  {
   "cell_type": "markdown",
   "source": "The next thing we have to do is to split to training and test set. For info on that: <a href = #TTS > Click here</a>",
   "metadata": {
    "cell_id": "00064-e6288a9e-e2e6-47a7-b82f-8281f6f4eed2",
    "deepnote_cell_type": "markdown"
   }
  },
  {
   "cell_type": "code",
   "metadata": {
    "cell_id": "00065-1af3d6b4-d6cf-4e33-abe0-9f330614c490",
    "deepnote_to_be_reexecuted": true,
    "source_hash": "df11edf8",
    "deepnote_cell_type": "code"
   },
   "source": "# Define X and y\nX = df.drop('Price', axis = 1)\ny = df['Price']\n\n# Split to train and test set\nX_train, X_test, y_train, y_test = train_test_split(X,y, train_size = 0.8, shuffle = True)",
   "execution_count": null,
   "outputs": []
  },
  {
   "cell_type": "code",
   "metadata": {
    "cell_id": "00066-a10455d7-d112-487c-a37a-052c1314786e",
    "deepnote_to_be_reexecuted": true,
    "source_hash": "9b741812",
    "deepnote_cell_type": "code"
   },
   "source": "# One-dimentional objects sometimes cause problems (important!), therefore we will convert everything in to dataframes\n\n#print(y_train.shape, type(y_train))\n#y_train = pd.DataFrame(y_train)\n#print(y_train.shape, type(y_train))\n\n#y_test = pd.DataFrame(y_test)\n#X_train = pd.DataFrame(X_train)\n#X_test = pd.DataFrame(X_test)",
   "execution_count": null,
   "outputs": []
  },
  {
   "cell_type": "markdown",
   "source": "Now we have splitted the data into training and test set, so we will now apply the model. There is two different models we can use, namely the `sm.OLS` (statsmodel) and the `LinearRegression()` (sklearn). We will show both.",
   "metadata": {
    "cell_id": "00067-1a53915e-bab3-4732-92a0-227bae9f231f",
    "deepnote_cell_type": "markdown"
   }
  },
  {
   "cell_type": "markdown",
   "source": "#### Ordinary Least Squares (OLS) <a id = OLS>",
   "metadata": {
    "cell_id": "00068-9fe4d5ee-937b-4013-b972-89d64d24f4f8",
    "deepnote_cell_type": "markdown"
   }
  },
  {
   "cell_type": "code",
   "metadata": {
    "cell_id": "00069-c0dab957-6fb3-4fb2-afa8-827a83aef209",
    "deepnote_output_heights": [
     611
    ],
    "deepnote_to_be_reexecuted": true,
    "source_hash": "80f7aaaf",
    "deepnote_cell_type": "code"
   },
   "source": "# Import the needed libary\nimport statsmodels.api as sm\n\n# Define the model\nmodel = sm.OLS(y_train, X_train)\n\n# Fit the model\nmodel_est = model.fit()\n\n# Print out the statistics\nmodel_est.summary()",
   "execution_count": null,
   "outputs": [
    {
     "data": {
      "text/html": "<table class=\"simpletable\">\n<caption>OLS Regression Results</caption>\n<tr>\n  <th>Dep. Variable:</th>          <td>Price</td>      <th>  R-squared:         </th> <td>   0.891</td> \n</tr>\n<tr>\n  <th>Model:</th>                   <td>OLS</td>       <th>  Adj. R-squared:    </th> <td>   0.889</td> \n</tr>\n<tr>\n  <th>Method:</th>             <td>Least Squares</td>  <th>  F-statistic:       </th> <td>   575.2</td> \n</tr>\n<tr>\n  <th>Date:</th>             <td>Mon, 13 Dec 2021</td> <th>  Prob (F-statistic):</th>  <td>  0.00</td>  \n</tr>\n<tr>\n  <th>Time:</th>                 <td>08:47:35</td>     <th>  Log-Likelihood:    </th> <td> -9803.9</td> \n</tr>\n<tr>\n  <th>No. Observations:</th>      <td>  1148</td>      <th>  AIC:               </th> <td>1.964e+04</td>\n</tr>\n<tr>\n  <th>Df Residuals:</th>          <td>  1131</td>      <th>  BIC:               </th> <td>1.973e+04</td>\n</tr>\n<tr>\n  <th>Df Model:</th>              <td>    16</td>      <th>                     </th>     <td> </td>    \n</tr>\n<tr>\n  <th>Covariance Type:</th>      <td>nonrobust</td>    <th>                     </th>     <td> </td>    \n</tr>\n</table>\n<table class=\"simpletable\">\n<tr>\n          <td></td>            <th>coef</th>     <th>std err</th>      <th>t</th>      <th>P>|t|</th>  <th>[0.025</th>    <th>0.975]</th>  \n</tr>\n<tr>\n  <th>Age_08_04</th>        <td> -110.0770</td> <td>    3.164</td> <td>  -34.785</td> <td> 0.000</td> <td> -116.286</td> <td> -103.868</td>\n</tr>\n<tr>\n  <th>KM</th>               <td>   -0.0195</td> <td>    0.001</td> <td>  -13.909</td> <td> 0.000</td> <td>   -0.022</td> <td>   -0.017</td>\n</tr>\n<tr>\n  <th>HP</th>               <td>   35.8547</td> <td>    3.190</td> <td>   11.241</td> <td> 0.000</td> <td>   29.596</td> <td>   42.113</td>\n</tr>\n<tr>\n  <th>Automatic</th>        <td>  533.1637</td> <td>  165.932</td> <td>    3.213</td> <td> 0.001</td> <td>  207.594</td> <td>  858.734</td>\n</tr>\n<tr>\n  <th>Doors</th>            <td>  155.8516</td> <td>   40.457</td> <td>    3.852</td> <td> 0.000</td> <td>   76.472</td> <td>  235.231</td>\n</tr>\n<tr>\n  <th>Quarterly_Tax</th>    <td>   16.3237</td> <td>    1.857</td> <td>    8.788</td> <td> 0.000</td> <td>   12.679</td> <td>   19.968</td>\n</tr>\n<tr>\n  <th>Mfr_Guarantee</th>    <td>  223.8234</td> <td>   79.095</td> <td>    2.830</td> <td> 0.005</td> <td>   68.635</td> <td>  379.012</td>\n</tr>\n<tr>\n  <th>Guarantee_Period</th> <td>   80.9540</td> <td>   13.560</td> <td>    5.970</td> <td> 0.000</td> <td>   54.348</td> <td>  107.560</td>\n</tr>\n<tr>\n  <th>Airco</th>            <td>  172.5885</td> <td>   93.289</td> <td>    1.850</td> <td> 0.065</td> <td>  -10.450</td> <td>  355.627</td>\n</tr>\n<tr>\n  <th>Automatic_airco</th>  <td> 3175.9627</td> <td>  190.084</td> <td>   16.708</td> <td> 0.000</td> <td> 2803.005</td> <td> 3548.920</td>\n</tr>\n<tr>\n  <th>CD_Player</th>        <td>  199.7548</td> <td>  104.565</td> <td>    1.910</td> <td> 0.056</td> <td>   -5.408</td> <td>  404.917</td>\n</tr>\n<tr>\n  <th>Powered_Windows</th>  <td>  487.9581</td> <td>   88.617</td> <td>    5.506</td> <td> 0.000</td> <td>  314.086</td> <td>  661.831</td>\n</tr>\n<tr>\n  <th>Sport_Model</th>      <td>  403.5317</td> <td>   85.581</td> <td>    4.715</td> <td> 0.000</td> <td>  235.616</td> <td>  571.448</td>\n</tr>\n<tr>\n  <th>Tow_Bar</th>          <td> -194.3241</td> <td>   86.665</td> <td>   -2.242</td> <td> 0.025</td> <td> -364.367</td> <td>  -24.281</td>\n</tr>\n<tr>\n  <th>Fuel_Type_CNG</th>    <td> 9664.0293</td> <td>  604.306</td> <td>   15.992</td> <td> 0.000</td> <td> 8478.342</td> <td> 1.08e+04</td>\n</tr>\n<tr>\n  <th>Fuel_Type_Diesel</th> <td> 1.171e+04</td> <td>  474.451</td> <td>   24.685</td> <td> 0.000</td> <td> 1.08e+04</td> <td> 1.26e+04</td>\n</tr>\n<tr>\n  <th>Fuel_Type_Petrol</th> <td> 1.146e+04</td> <td>  421.104</td> <td>   27.211</td> <td> 0.000</td> <td> 1.06e+04</td> <td> 1.23e+04</td>\n</tr>\n</table>\n<table class=\"simpletable\">\n<tr>\n  <th>Omnibus:</th>       <td>163.104</td> <th>  Durbin-Watson:     </th> <td>   1.972</td> \n</tr>\n<tr>\n  <th>Prob(Omnibus):</th> <td> 0.000</td>  <th>  Jarque-Bera (JB):  </th> <td> 502.690</td> \n</tr>\n<tr>\n  <th>Skew:</th>          <td> 0.706</td>  <th>  Prob(JB):          </th> <td>6.95e-110</td>\n</tr>\n<tr>\n  <th>Kurtosis:</th>      <td> 5.918</td>  <th>  Cond. No.          </th> <td>1.74e+06</td> \n</tr>\n</table><br/><br/>Notes:<br/>[1] Standard Errors assume that the covariance matrix of the errors is correctly specified.<br/>[2] The condition number is large, 1.74e+06. This might indicate that there are<br/>strong multicollinearity or other numerical problems.",
      "text/plain": "<class 'statsmodels.iolib.summary.Summary'>\n\"\"\"\n                            OLS Regression Results                            \n==============================================================================\nDep. Variable:                  Price   R-squared:                       0.891\nModel:                            OLS   Adj. R-squared:                  0.889\nMethod:                 Least Squares   F-statistic:                     575.2\nDate:                Mon, 13 Dec 2021   Prob (F-statistic):               0.00\nTime:                        08:47:35   Log-Likelihood:                -9803.9\nNo. Observations:                1148   AIC:                         1.964e+04\nDf Residuals:                    1131   BIC:                         1.973e+04\nDf Model:                          16                                         \nCovariance Type:            nonrobust                                         \n====================================================================================\n                       coef    std err          t      P>|t|      [0.025      0.975]\n------------------------------------------------------------------------------------\nAge_08_04         -110.0770      3.164    -34.785      0.000    -116.286    -103.868\nKM                  -0.0195      0.001    -13.909      0.000      -0.022      -0.017\nHP                  35.8547      3.190     11.241      0.000      29.596      42.113\nAutomatic          533.1637    165.932      3.213      0.001     207.594     858.734\nDoors              155.8516     40.457      3.852      0.000      76.472     235.231\nQuarterly_Tax       16.3237      1.857      8.788      0.000      12.679      19.968\nMfr_Guarantee      223.8234     79.095      2.830      0.005      68.635     379.012\nGuarantee_Period    80.9540     13.560      5.970      0.000      54.348     107.560\nAirco              172.5885     93.289      1.850      0.065     -10.450     355.627\nAutomatic_airco   3175.9627    190.084     16.708      0.000    2803.005    3548.920\nCD_Player          199.7548    104.565      1.910      0.056      -5.408     404.917\nPowered_Windows    487.9581     88.617      5.506      0.000     314.086     661.831\nSport_Model        403.5317     85.581      4.715      0.000     235.616     571.448\nTow_Bar           -194.3241     86.665     -2.242      0.025    -364.367     -24.281\nFuel_Type_CNG     9664.0293    604.306     15.992      0.000    8478.342    1.08e+04\nFuel_Type_Diesel  1.171e+04    474.451     24.685      0.000    1.08e+04    1.26e+04\nFuel_Type_Petrol  1.146e+04    421.104     27.211      0.000    1.06e+04    1.23e+04\n==============================================================================\nOmnibus:                      163.104   Durbin-Watson:                   1.972\nProb(Omnibus):                  0.000   Jarque-Bera (JB):              502.690\nSkew:                           0.706   Prob(JB):                    6.95e-110\nKurtosis:                       5.918   Cond. No.                     1.74e+06\n==============================================================================\n\nNotes:\n[1] Standard Errors assume that the covariance matrix of the errors is correctly specified.\n[2] The condition number is large, 1.74e+06. This might indicate that there are\nstrong multicollinearity or other numerical problems.\n\"\"\""
     },
     "execution_count": 41,
     "metadata": {},
     "output_type": "execute_result"
    }
   ]
  },
  {
   "cell_type": "code",
   "metadata": {
    "cell_id": "00070-25ce1816-4cbb-4132-87fa-74008f98bef3",
    "deepnote_to_be_reexecuted": true,
    "source_hash": "d8713d5f",
    "deepnote_cell_type": "code"
   },
   "source": "print('adjusted R squared:', model_est.rsquared_adj)\nprint('AIC:', model_est.aic)\nprint('BIC:', model_est.bic)",
   "execution_count": null,
   "outputs": [
    {
     "name": "stdout",
     "output_type": "stream",
     "text": "adjusted R squared: 0.8890146126383847\nAIC: 19641.76051298616\nBIC: 19727.53871479311\n"
    }
   ]
  },
  {
   "cell_type": "code",
   "metadata": {
    "cell_id": "00071-5acbdb17-a269-4e6f-a1e1-d2ae7fecf088",
    "deepnote_to_be_reexecuted": true,
    "source_hash": "1dc7b6e9",
    "deepnote_cell_type": "code"
   },
   "source": "# Predict on test set\ny_pred = model_est.predict(X_test)",
   "execution_count": null,
   "outputs": []
  },
  {
   "cell_type": "code",
   "metadata": {
    "cell_id": "00072-efe35830-d625-492a-801b-f338e83191f1",
    "deepnote_to_be_reexecuted": true,
    "source_hash": "ef67049d",
    "deepnote_cell_type": "code"
   },
   "source": "# Calculate the errors in test\ntest_errors = (y_pred - y_test)\nsquared_test_errors = test_errors**2\nabsolute_test_errors = abs(test_errors)\n\n# Calculate the Mean squared error\nprint(f'MSE: {squared_test_errors.mean()}')\nprint(f'Root MSE {squared_test_errors.mean()**(1/2)}')\nprint(f'MAE: {absolute_test_errors.mean()}')",
   "execution_count": null,
   "outputs": [
    {
     "name": "stdout",
     "output_type": "stream",
     "text": "MSE: 1183535.33983076\nRoot MSE 1087.9041041519974\nMAE: 867.084146701512\n"
    }
   ]
  },
  {
   "cell_type": "markdown",
   "source": "Now lets take a look at the predicted y against the tested y.",
   "metadata": {
    "cell_id": "00073-87327781-1930-4a57-9ce0-a2888626c5a6",
    "deepnote_cell_type": "markdown"
   }
  },
  {
   "cell_type": "code",
   "metadata": {
    "cell_id": "00074-e80b2645-a637-45f9-93f8-e599e0cc9ec9",
    "deepnote_output_heights": [
     177
    ],
    "deepnote_to_be_reexecuted": true,
    "source_hash": "62e02d91",
    "deepnote_cell_type": "code"
   },
   "source": "y_test_table = pd.DataFrame(y_test)\ny_test_table['Predicted Price'] = y_pred.round()\ny_test_table['Error'] = y_pred-y_test\ny_test_table.head()",
   "execution_count": null,
   "outputs": [
    {
     "data": {
      "text/html": "<div>\n<style scoped>\n    .dataframe tbody tr th:only-of-type {\n        vertical-align: middle;\n    }\n\n    .dataframe tbody tr th {\n        vertical-align: top;\n    }\n\n    .dataframe thead th {\n        text-align: right;\n    }\n</style>\n<table border=\"1\" class=\"dataframe\">\n  <thead>\n    <tr style=\"text-align: right;\">\n      <th></th>\n      <th>Price</th>\n      <th>Predicted Price</th>\n      <th>Error</th>\n    </tr>\n  </thead>\n  <tbody>\n    <tr>\n      <th>778</th>\n      <td>8950</td>\n      <td>8344.0</td>\n      <td>-605.894056</td>\n    </tr>\n    <tr>\n      <th>533</th>\n      <td>11895</td>\n      <td>11382.0</td>\n      <td>-513.078201</td>\n    </tr>\n    <tr>\n      <th>940</th>\n      <td>9450</td>\n      <td>10317.0</td>\n      <td>867.208273</td>\n    </tr>\n    <tr>\n      <th>364</th>\n      <td>12900</td>\n      <td>14267.0</td>\n      <td>1367.414746</td>\n    </tr>\n    <tr>\n      <th>1057</th>\n      <td>6500</td>\n      <td>5160.0</td>\n      <td>-1339.936472</td>\n    </tr>\n  </tbody>\n</table>\n</div>",
      "text/plain": "      Price  Predicted Price        Error\n778    8950           8344.0  -605.894056\n533   11895          11382.0  -513.078201\n940    9450          10317.0   867.208273\n364   12900          14267.0  1367.414746\n1057   6500           5160.0 -1339.936472"
     },
     "execution_count": 45,
     "metadata": {},
     "output_type": "execute_result"
    }
   ]
  },
  {
   "cell_type": "code",
   "metadata": {
    "cell_id": "00075-d00ff991-47d2-4bd5-9476-56255f573b2a",
    "deepnote_output_heights": [
     250
    ],
    "deepnote_to_be_reexecuted": true,
    "source_hash": "66a23f09",
    "deepnote_cell_type": "code"
   },
   "source": "# Plot the erorrs\nplt.scatter(y_test,y_test, s=10, color='black')\nplt.scatter(y_test,y_pred, alpha=0.8, s=5, color = 'red')\nplt.show()",
   "execution_count": null,
   "outputs": [
    {
     "data": {
      "image/png": "[encoded data removed]",
      "text/plain": "<Figure size 432x288 with 1 Axes>"
     },
     "metadata": {
      "needs_background": "light",
      "image/png": {
       "width": 401,
       "height": 248
      }
     },
     "output_type": "display_data"
    }
   ]
  },
  {
   "cell_type": "markdown",
   "source": "Here we can see how well the predicted y performed against the acual y. The black diagonale line representes y_test, while the red dots is y_pred",
   "metadata": {
    "cell_id": "00076-9e4a2172-7ee3-4ec9-aa54-7041c01f180d",
    "deepnote_cell_type": "markdown"
   }
  },
  {
   "cell_type": "markdown",
   "source": "#### LinearRegression() <a id = LinearRegression>",
   "metadata": {
    "cell_id": "00077-5bd5af2c-d209-4b80-80eb-ea0f99b68fac",
    "deepnote_cell_type": "markdown"
   }
  },
  {
   "cell_type": "code",
   "metadata": {
    "cell_id": "00078-785a711b-8c94-4e55-8f2d-0447912c08e7",
    "deepnote_to_be_reexecuted": true,
    "source_hash": "964dba22",
    "deepnote_cell_type": "code"
   },
   "source": "# Import the needed libary\nfrom sklearn import linear_model\n\n# Define the model\nmodel = linear_model.LinearRegression()\n\n# Fit the model\nmodel = model.fit(X_train, y_train)",
   "execution_count": null,
   "outputs": []
  },
  {
   "cell_type": "code",
   "metadata": {
    "cell_id": "00079-b986232d-b400-41cb-a50d-2a15f4d36e2b",
    "deepnote_to_be_reexecuted": true,
    "source_hash": "7d9ae17",
    "deepnote_cell_type": "code"
   },
   "source": "# Look at the outcomes\nprint(f'The R squared of the model is: {model.score(X_train, y_train)*100:.4f}%') # R squared\nprint(f'The coefficients of the model is: {model.coef_}')  # The coefficients\nprint(f'The intercept of the model is: {model.intercept_:}') # The intercept\n\n#for i in range(len(X.columns)):\n#    print(f'The coefficient of {X.columns[i]:<16} is {model.coef_[i]:.4f}')",
   "execution_count": null,
   "outputs": [
    {
     "name": "stdout",
     "output_type": "stream",
     "text": "The R squared of the model is: 89.0563%\nThe coefficients of the model is: [-1.10077036e+02 -1.95018149e-02  3.58547262e+01  5.33163691e+02\n  1.55851625e+02  1.63237026e+01  2.23823376e+02  8.09540390e+01\n  1.72588516e+02  3.17596274e+03  1.99754798e+02  4.87958078e+02\n  4.03531652e+02 -1.94324101e+02 -1.28076799e+03  7.67093773e+02\n  5.13674219e+02]\nThe intercept of the model is: 10944.797275698777\n"
    }
   ]
  },
  {
   "cell_type": "code",
   "metadata": {
    "cell_id": "00080-0ca6eb64-52ca-4899-bc0d-b00b090b4918",
    "deepnote_to_be_reexecuted": true,
    "source_hash": "7d6af1e3",
    "deepnote_cell_type": "code"
   },
   "source": "# Predict on the test set:\npred_y = model.predict(X_test)",
   "execution_count": null,
   "outputs": []
  },
  {
   "cell_type": "code",
   "metadata": {
    "cell_id": "00081-1da4ab44-4786-415d-9d86-487e735db8ca",
    "deepnote_to_be_reexecuted": true,
    "source_hash": "d6282a6c",
    "deepnote_cell_type": "code"
   },
   "source": "# Calculate the R squared for the test data\n\nprint(f'The R squared of the model is: {model.score(X_test, y_test)*100:.4f}%') # R squared",
   "execution_count": null,
   "outputs": [
    {
     "name": "stdout",
     "output_type": "stream",
     "text": "The R squared of the model is: 87.7462%\n"
    }
   ]
  },
  {
   "cell_type": "markdown",
   "source": "## Logistic Regression <a id = LogReg >",
   "metadata": {
    "cell_id": "00082-c74021ef-3553-4914-b603-a49bc2131c35",
    "deepnote_cell_type": "markdown"
   }
  },
  {
   "cell_type": "markdown",
   "source": "In logistic regression we differanciate between binary and mulitclass classification. With binary classification, we want to find out wheater a dataset is going to be 1 or 0 (two options). This could for example be whether a person will buy insurance or not. In a multiclass classification, we want to find out what the dataset is going to be. How many outputs there can be will vary. For example we could find out whether a person will vote democratic, republic or independent (3 types), or we could ind out what number a handwritten number will represent, then the output would have 10 different types (0-9). An important function for logistic regression is the <a href = https://en.wikipedia.org/wiki/Sigmoid_function>Sigmoid function</a>\n\nFor the first example, we are going to follow the 'Insurance data'-example from class.",
   "metadata": {
    "cell_id": "00083-0a4a9b40-ac7b-46c3-90fc-6a38357fadda",
    "deepnote_cell_type": "markdown"
   }
  },
  {
   "cell_type": "code",
   "metadata": {
    "cell_id": "00084-5ad8bb4d-def7-4155-b081-ad29538e0058",
    "deepnote_to_be_reexecuted": true,
    "source_hash": "b4d5140e",
    "deepnote_cell_type": "code"
   },
   "source": "# Import the needed packages\nimport pandas as pd\nimport seaborn as sb\nimport matplotlib.pyplot as plt\nfrom sklearn.model_selection import train_test_split\nfrom sklearn.linear_model import LogisticRegression\nfrom sklearn.preprocessing import LabelEncoder\nfrom sklearn.metrics import confusion_matrix",
   "execution_count": null,
   "outputs": []
  },
  {
   "cell_type": "markdown",
   "source": "#### Example 1: Insurance data (Binary classification) <a id = LogRegE1>",
   "metadata": {
    "cell_id": "00085-fbe56bec-57e3-4b5e-9525-09a4661c41ee",
    "deepnote_cell_type": "markdown"
   }
  },
  {
   "cell_type": "code",
   "metadata": {
    "cell_id": "00086-a2abdb74-c61c-440d-aa74-608df6765b32",
    "deepnote_output_heights": [
     null,
     177
    ],
    "deepnote_to_be_reexecuted": true,
    "source_hash": "f9f04ebd",
    "deepnote_cell_type": "code"
   },
   "source": "# Import the data and take a look at the shape and head\ndf = pd.read_csv('Insurance_Data.csv')\nprint(df.shape)\ndf.head()",
   "execution_count": null,
   "outputs": [
    {
     "name": "stdout",
     "output_type": "stream",
     "text": "(27, 2)\n"
    },
    {
     "data": {
      "text/html": "<div>\n<style scoped>\n    .dataframe tbody tr th:only-of-type {\n        vertical-align: middle;\n    }\n\n    .dataframe tbody tr th {\n        vertical-align: top;\n    }\n\n    .dataframe thead th {\n        text-align: right;\n    }\n</style>\n<table border=\"1\" class=\"dataframe\">\n  <thead>\n    <tr style=\"text-align: right;\">\n      <th></th>\n      <th>age</th>\n      <th>bought_insurance</th>\n    </tr>\n  </thead>\n  <tbody>\n    <tr>\n      <th>0</th>\n      <td>22</td>\n      <td>0</td>\n    </tr>\n    <tr>\n      <th>1</th>\n      <td>25</td>\n      <td>0</td>\n    </tr>\n    <tr>\n      <th>2</th>\n      <td>47</td>\n      <td>1</td>\n    </tr>\n    <tr>\n      <th>3</th>\n      <td>52</td>\n      <td>0</td>\n    </tr>\n    <tr>\n      <th>4</th>\n      <td>46</td>\n      <td>1</td>\n    </tr>\n  </tbody>\n</table>\n</div>",
      "text/plain": "   age  bought_insurance\n0   22                 0\n1   25                 0\n2   47                 1\n3   52                 0\n4   46                 1"
     },
     "execution_count": 52,
     "metadata": {},
     "output_type": "execute_result"
    }
   ]
  },
  {
   "cell_type": "code",
   "metadata": {
    "cell_id": "00087-a9d72bd2-d34a-42ee-8c25-cfc95ba5383b",
    "deepnote_output_heights": [
     250
    ],
    "deepnote_to_be_reexecuted": true,
    "source_hash": "afe4440e",
    "deepnote_cell_type": "code"
   },
   "source": "# Let us plot the data\n\nplt.scatter(df['age'], df['bought_insurance'], color='red')\nplt.show()",
   "execution_count": null,
   "outputs": [
    {
     "data": {
      "image/png": "[encoded data removed]",
      "text/plain": "<Figure size 432x288 with 1 Axes>"
     },
     "metadata": {
      "needs_background": "light",
      "image/png": {
       "width": 372,
       "height": 248
      }
     },
     "output_type": "display_data"
    }
   ]
  },
  {
   "cell_type": "markdown",
   "source": "Now we will split the data in to training and test set, and the define and fit the model",
   "metadata": {
    "cell_id": "00088-76f39163-1d76-49cc-b6d3-f9270b87857b",
    "deepnote_cell_type": "markdown"
   }
  },
  {
   "cell_type": "code",
   "metadata": {
    "cell_id": "00089-36f5a1cd-167e-404a-bbc4-9aa2e451868d",
    "deepnote_to_be_reexecuted": true,
    "source_hash": "29b2db58",
    "deepnote_cell_type": "code"
   },
   "source": "# First define X and y\nX = df[['age']]\ny = df['bought_insurance']\n\n# Split the data\nX_train, X_test, y_train, y_test = train_test_split(X,y, train_size = 0.8, shuffle = True)\n# df[['age']] makes the reshape(-1,1) unnecessary",
   "execution_count": null,
   "outputs": []
  },
  {
   "cell_type": "code",
   "metadata": {
    "cell_id": "00090-94b8aa59-162d-40d7-a9b6-7a2f0f9e560d",
    "deepnote_to_be_reexecuted": true,
    "source_hash": "9b741812",
    "deepnote_cell_type": "code"
   },
   "source": "# One-dimentional objects sometimes cause problems (important!), therefore we will convert everything in to dataframes\n\n#print(y_train.shape, type(y_train))\n#y_train = pd.DataFrame(y_train)\n#print(y_train.shape, type(y_train))\n\n#y_test = pd.DataFrame(y_test)\n#X_train = pd.DataFrame(X_train)\n#X_test = pd.DataFrame(X_test)",
   "execution_count": null,
   "outputs": []
  },
  {
   "cell_type": "code",
   "metadata": {
    "cell_id": "00091-ac5684e6-f0ce-446d-a1f1-891291b3b8af",
    "deepnote_to_be_reexecuted": true,
    "source_hash": "b25ed93d",
    "deepnote_cell_type": "code"
   },
   "source": "# Define the model\nmodel = LogisticRegression()",
   "execution_count": null,
   "outputs": []
  },
  {
   "cell_type": "code",
   "metadata": {
    "cell_id": "00092-ef813287-456c-4cc3-abf1-6326412b3a9d",
    "deepnote_output_heights": [
     21
    ],
    "deepnote_to_be_reexecuted": true,
    "source_hash": "bb855792",
    "deepnote_cell_type": "code"
   },
   "source": "# Fit the model\nmodel.fit(X_train,y_train)",
   "execution_count": null,
   "outputs": [
    {
     "data": {
      "text/plain": "LogisticRegression()"
     },
     "execution_count": 57,
     "metadata": {},
     "output_type": "execute_result"
    }
   ]
  },
  {
   "cell_type": "code",
   "metadata": {
    "cell_id": "00093-c0e559a7-fd34-4034-906f-6628d6e6c07a",
    "deepnote_to_be_reexecuted": true,
    "source_hash": "aca4226f",
    "deepnote_cell_type": "code"
   },
   "source": "# Make predictions\ny_pred = model.predict(X_train)",
   "execution_count": null,
   "outputs": []
  },
  {
   "cell_type": "code",
   "metadata": {
    "cell_id": "00094-ed995f27-87e0-4d7f-a1a6-cb5767f57aba",
    "deepnote_output_heights": [
     250
    ],
    "deepnote_to_be_reexecuted": true,
    "source_hash": "453bda3c",
    "deepnote_cell_type": "code"
   },
   "source": "# Plot the results\nplt.scatter(X_train, y_train, c='red')\nplt.scatter(X_train, y_pred, c='black', marker='x')\nplt.show()",
   "execution_count": null,
   "outputs": [
    {
     "data": {
      "image/png": "[encoded data removed]",
      "text/plain": "<Figure size 432x288 with 1 Axes>"
     },
     "metadata": {
      "needs_background": "light",
      "image/png": {
       "width": 372,
       "height": 248
      }
     },
     "output_type": "display_data"
    }
   ]
  },
  {
   "cell_type": "code",
   "metadata": {
    "cell_id": "00095-09464a5f-ff51-4c13-b50f-183c6109fea3",
    "deepnote_to_be_reexecuted": true,
    "source_hash": "7dac9d5c",
    "deepnote_cell_type": "code"
   },
   "source": "# Check the accuray on the training set\n\nprint(f'Accuracy is: {model.score(X_train, y_train)}')",
   "execution_count": null,
   "outputs": [
    {
     "name": "stdout",
     "output_type": "stream",
     "text": "Accuracy is: 0.9047619047619048\n"
    }
   ]
  },
  {
   "cell_type": "code",
   "metadata": {
    "cell_id": "00096-5db416f9-dd5f-4b91-94cb-76e9c261aba7",
    "deepnote_to_be_reexecuted": true,
    "source_hash": "6e1cf136",
    "deepnote_cell_type": "code"
   },
   "source": "# Now do the prediction on the test set\n\ny_pred = model.predict(X_test)",
   "execution_count": null,
   "outputs": []
  },
  {
   "cell_type": "code",
   "metadata": {
    "cell_id": "00097-712730db-6b62-41ed-88fa-6adec15fdcf1",
    "deepnote_output_heights": [
     250
    ],
    "deepnote_to_be_reexecuted": true,
    "source_hash": "372181f",
    "deepnote_cell_type": "code"
   },
   "source": "# Plot the result\n\nplt.scatter(X_test, y_test, c='red')\nplt.scatter(X_test, y_pred+0.05, c='black')\nplt.show()",
   "execution_count": null,
   "outputs": [
    {
     "data": {
      "image/png": "[encoded data removed]",
      "text/plain": "<Figure size 432x288 with 1 Axes>"
     },
     "metadata": {
      "needs_background": "light",
      "image/png": {
       "width": 372,
       "height": 248
      }
     },
     "output_type": "display_data"
    }
   ]
  },
  {
   "cell_type": "code",
   "metadata": {
    "cell_id": "00098-a4601777-01e6-4c9a-8b9f-b4ba4e549f35",
    "deepnote_to_be_reexecuted": true,
    "source_hash": "94fa14ff",
    "deepnote_cell_type": "code"
   },
   "source": "# Accuracy on the test set (remember it is random shuffeling)\n\nprint(f'Accuracy is: {model.score(X_test, y_test)}')",
   "execution_count": null,
   "outputs": [
    {
     "name": "stdout",
     "output_type": "stream",
     "text": "Accuracy is: 0.8333333333333334\n"
    }
   ]
  },
  {
   "cell_type": "code",
   "metadata": {
    "cell_id": "00099-4ec3b522-9155-48cd-8ad7-a33914ba9d00",
    "deepnote_output_heights": [
     117
    ],
    "deepnote_to_be_reexecuted": true,
    "source_hash": "8a675d2c",
    "deepnote_cell_type": "code"
   },
   "source": "# Predicted probalilities\n\nmodel.predict_proba(X_test)",
   "execution_count": null,
   "outputs": [
    {
     "data": {
      "text/plain": "array([[0.04843995, 0.95156005],\n       [0.81857791, 0.18142209],\n       [0.04178973, 0.95821027],\n       [0.09933953, 0.90066047],\n       [0.93956515, 0.06043485],\n       [0.76807352, 0.23192648]])"
     },
     "execution_count": 64,
     "metadata": {},
     "output_type": "execute_result"
    }
   ]
  },
  {
   "cell_type": "markdown",
   "source": "#### Example 2: Financial condition of banks (Binary classification) <a id=LogRegE2>",
   "metadata": {
    "cell_id": "00100-670b0603-a422-4082-9860-58a937b33a52",
    "deepnote_cell_type": "markdown"
   }
  },
  {
   "cell_type": "code",
   "metadata": {
    "cell_id": "00101-c8026e6b-ee9b-4d34-9e85-b21f40345db9",
    "deepnote_output_heights": [
     null,
     177
    ],
    "deepnote_to_be_reexecuted": true,
    "source_hash": "9cbaa3a3",
    "deepnote_cell_type": "code"
   },
   "source": "# Import the dataset and take a look at the shape and head\ndf = pd.read_csv(\"banks.csv\")\ndf = df.drop('Obs', axis=1) #Removes a column we don't need\nprint(df.shape)\ndf.head()",
   "execution_count": null,
   "outputs": [
    {
     "name": "stdout",
     "output_type": "stream",
     "text": "(20, 4)\n"
    },
    {
     "data": {
      "text/html": "<div>\n<style scoped>\n    .dataframe tbody tr th:only-of-type {\n        vertical-align: middle;\n    }\n\n    .dataframe tbody tr th {\n        vertical-align: top;\n    }\n\n    .dataframe thead th {\n        text-align: right;\n    }\n</style>\n<table border=\"1\" class=\"dataframe\">\n  <thead>\n    <tr style=\"text-align: right;\">\n      <th></th>\n      <th>Financial Condition</th>\n      <th>TotCap/Assets</th>\n      <th>TotExp/Assets</th>\n      <th>TotLns&amp;Lses/Assets</th>\n    </tr>\n  </thead>\n  <tbody>\n    <tr>\n      <th>0</th>\n      <td>1</td>\n      <td>9.7</td>\n      <td>0.12</td>\n      <td>0.65</td>\n    </tr>\n    <tr>\n      <th>1</th>\n      <td>1</td>\n      <td>1.0</td>\n      <td>0.11</td>\n      <td>0.62</td>\n    </tr>\n    <tr>\n      <th>2</th>\n      <td>1</td>\n      <td>6.9</td>\n      <td>0.09</td>\n      <td>1.02</td>\n    </tr>\n    <tr>\n      <th>3</th>\n      <td>1</td>\n      <td>5.8</td>\n      <td>0.10</td>\n      <td>0.67</td>\n    </tr>\n    <tr>\n      <th>4</th>\n      <td>1</td>\n      <td>4.3</td>\n      <td>0.11</td>\n      <td>0.69</td>\n    </tr>\n  </tbody>\n</table>\n</div>",
      "text/plain": "   Financial Condition  TotCap/Assets  TotExp/Assets  TotLns&Lses/Assets\n0                    1            9.7           0.12                0.65\n1                    1            1.0           0.11                0.62\n2                    1            6.9           0.09                1.02\n3                    1            5.8           0.10                0.67\n4                    1            4.3           0.11                0.69"
     },
     "execution_count": 65,
     "metadata": {},
     "output_type": "execute_result"
    }
   ]
  },
  {
   "cell_type": "code",
   "metadata": {
    "cell_id": "00102-9a439b7b-378a-4120-925a-93de7811697a",
    "deepnote_output_heights": [
     21
    ],
    "deepnote_to_be_reexecuted": true,
    "source_hash": "b0b869d7",
    "deepnote_cell_type": "code"
   },
   "source": "# Take a look at the 'Financial Condition' variable to the different values it can have\ndf['Financial Condition'].unique()",
   "execution_count": null,
   "outputs": [
    {
     "data": {
      "text/plain": "array([1, 0])"
     },
     "execution_count": 66,
     "metadata": {},
     "output_type": "execute_result"
    }
   ]
  },
  {
   "cell_type": "code",
   "metadata": {
    "cell_id": "00103-928daaff-2831-4799-80bb-380d845d7234",
    "deepnote_output_heights": [
     119
    ],
    "deepnote_to_be_reexecuted": true,
    "source_hash": "558994c5",
    "deepnote_cell_type": "code"
   },
   "source": "# Now lets see the means for the different variables plotted against the financial condition variable\ndf.groupby('Financial Condition').mean()",
   "execution_count": null,
   "outputs": [
    {
     "data": {
      "text/html": "<div>\n<style scoped>\n    .dataframe tbody tr th:only-of-type {\n        vertical-align: middle;\n    }\n\n    .dataframe tbody tr th {\n        vertical-align: top;\n    }\n\n    .dataframe thead th {\n        text-align: right;\n    }\n</style>\n<table border=\"1\" class=\"dataframe\">\n  <thead>\n    <tr style=\"text-align: right;\">\n      <th></th>\n      <th>TotCap/Assets</th>\n      <th>TotExp/Assets</th>\n      <th>TotLns&amp;Lses/Assets</th>\n    </tr>\n    <tr>\n      <th>Financial Condition</th>\n      <th></th>\n      <th></th>\n      <th></th>\n    </tr>\n  </thead>\n  <tbody>\n    <tr>\n      <th>0</th>\n      <td>11.92</td>\n      <td>0.088</td>\n      <td>0.547</td>\n    </tr>\n    <tr>\n      <th>1</th>\n      <td>6.72</td>\n      <td>0.121</td>\n      <td>0.710</td>\n    </tr>\n  </tbody>\n</table>\n</div>",
      "text/plain": "                     TotCap/Assets  TotExp/Assets  TotLns&Lses/Assets\nFinancial Condition                                                  \n0                            11.92          0.088               0.547\n1                             6.72          0.121               0.710"
     },
     "execution_count": 67,
     "metadata": {},
     "output_type": "execute_result"
    }
   ]
  },
  {
   "cell_type": "code",
   "metadata": {
    "cell_id": "00104-b1fe22cd-c17d-48ba-88eb-f1d0a0eb04c5",
    "deepnote_output_heights": [
     177
    ],
    "deepnote_to_be_reexecuted": true,
    "source_hash": "c085b6ba",
    "deepnote_cell_type": "code"
   },
   "source": "df.head()",
   "execution_count": null,
   "outputs": [
    {
     "data": {
      "text/html": "<div>\n<style scoped>\n    .dataframe tbody tr th:only-of-type {\n        vertical-align: middle;\n    }\n\n    .dataframe tbody tr th {\n        vertical-align: top;\n    }\n\n    .dataframe thead th {\n        text-align: right;\n    }\n</style>\n<table border=\"1\" class=\"dataframe\">\n  <thead>\n    <tr style=\"text-align: right;\">\n      <th></th>\n      <th>Financial Condition</th>\n      <th>TotCap/Assets</th>\n      <th>TotExp/Assets</th>\n      <th>TotLns&amp;Lses/Assets</th>\n    </tr>\n  </thead>\n  <tbody>\n    <tr>\n      <th>0</th>\n      <td>1</td>\n      <td>9.7</td>\n      <td>0.12</td>\n      <td>0.65</td>\n    </tr>\n    <tr>\n      <th>1</th>\n      <td>1</td>\n      <td>1.0</td>\n      <td>0.11</td>\n      <td>0.62</td>\n    </tr>\n    <tr>\n      <th>2</th>\n      <td>1</td>\n      <td>6.9</td>\n      <td>0.09</td>\n      <td>1.02</td>\n    </tr>\n    <tr>\n      <th>3</th>\n      <td>1</td>\n      <td>5.8</td>\n      <td>0.10</td>\n      <td>0.67</td>\n    </tr>\n    <tr>\n      <th>4</th>\n      <td>1</td>\n      <td>4.3</td>\n      <td>0.11</td>\n      <td>0.69</td>\n    </tr>\n  </tbody>\n</table>\n</div>",
      "text/plain": "   Financial Condition  TotCap/Assets  TotExp/Assets  TotLns&Lses/Assets\n0                    1            9.7           0.12                0.65\n1                    1            1.0           0.11                0.62\n2                    1            6.9           0.09                1.02\n3                    1            5.8           0.10                0.67\n4                    1            4.3           0.11                0.69"
     },
     "execution_count": 68,
     "metadata": {},
     "output_type": "execute_result"
    }
   ]
  },
  {
   "cell_type": "markdown",
   "source": "From above table we may draw following conclusions:\n\n**TotCap/Assets**: Total Capital per Assets is higher for strong banks\n\n**TotExp/Assets**: Total Expenditures per assets are lower for stron g banks\n\n**TotLns&Lses/Assets**: Total Loans & Leases per assets are less for strong banks\n",
   "metadata": {
    "cell_id": "00105-417da631-f801-43e7-be5a-54936140ebec",
    "deepnote_cell_type": "markdown"
   }
  },
  {
   "cell_type": "markdown",
   "source": "Now to get the best performing model, we will scale the data",
   "metadata": {
    "cell_id": "00106-84453a5f-03f6-43bd-b7f2-288698da5c6c",
    "deepnote_cell_type": "markdown"
   }
  },
  {
   "cell_type": "code",
   "metadata": {
    "cell_id": "00107-485be5ee-6f30-4004-86ac-3b89c37e9172",
    "deepnote_to_be_reexecuted": true,
    "source_hash": "b9a55334",
    "deepnote_cell_type": "code"
   },
   "source": "# Define the scaler\nscaler = MinMaxScaler()\n\nscaled = ['TotCap/Assets','TotExp/Assets','TotLns&Lses/Assets']\nfor col in scaled:\n    df[col] = scaler.fit_transform(df[[col]])",
   "execution_count": null,
   "outputs": []
  },
  {
   "cell_type": "code",
   "metadata": {
    "cell_id": "00108-2b62e353-bd6e-4832-b02a-6086a3cf19ee",
    "deepnote_to_be_reexecuted": true,
    "source_hash": "9c1b31ce",
    "deepnote_cell_type": "code"
   },
   "source": "# Create dependent and independent variables\n\nX = df.drop('Financial Condition', axis = 1)\ny = df['Financial Condition']\n\n# Because the set only consist of 20 datapoints, we will not split to train/test.\n# Split to train and test set\n#X_train, X_test, y_train, y_test = train_test_split(X,y, train_size=0.8, shuffle=True)",
   "execution_count": null,
   "outputs": []
  },
  {
   "cell_type": "code",
   "metadata": {
    "cell_id": "00109-283668a4-1144-43fa-b1a5-de773964852f",
    "deepnote_to_be_reexecuted": true,
    "source_hash": "b25ed93d",
    "deepnote_cell_type": "code"
   },
   "source": "# Define the model\nmodel = LogisticRegression()",
   "execution_count": null,
   "outputs": []
  },
  {
   "cell_type": "code",
   "metadata": {
    "cell_id": "00110-70103a51-cd7b-4a8b-a7ab-13868c3e3ef9",
    "deepnote_output_heights": [
     21
    ],
    "deepnote_to_be_reexecuted": true,
    "source_hash": "6d629f9d",
    "deepnote_cell_type": "code"
   },
   "source": "# Fit the model\nmodel.fit(X, y)",
   "execution_count": null,
   "outputs": [
    {
     "data": {
      "text/plain": "LogisticRegression()"
     },
     "execution_count": 72,
     "metadata": {},
     "output_type": "execute_result"
    }
   ]
  },
  {
   "cell_type": "code",
   "metadata": {
    "cell_id": "00111-1d09dffb-2943-4749-89b7-bcfc1a4e35f9",
    "deepnote_to_be_reexecuted": true,
    "source_hash": "64bd621",
    "deepnote_cell_type": "code"
   },
   "source": "# For writing down the equation\nprint(model.coef_)\nprint(model.intercept_)\n",
   "execution_count": null,
   "outputs": [
    {
     "name": "stdout",
     "output_type": "stream",
     "text": "[[-0.93421196  1.21794818  0.82772756]]\n[-0.44539252]\n"
    }
   ]
  },
  {
   "cell_type": "code",
   "metadata": {
    "cell_id": "00112-446fa87c-eb29-4656-b75a-e3f2b0e0059c",
    "deepnote_output_heights": [
     21
    ],
    "deepnote_to_be_reexecuted": true,
    "source_hash": "2a57df63",
    "deepnote_cell_type": "code"
   },
   "source": "# Model Score\nmodel.score(X,y) #Remember to fit the model on training set!!!",
   "execution_count": null,
   "outputs": [
    {
     "data": {
      "text/plain": "0.95"
     },
     "execution_count": 74,
     "metadata": {},
     "output_type": "execute_result"
    }
   ]
  },
  {
   "cell_type": "code",
   "metadata": {
    "cell_id": "00113-4eb26fe2-95b6-4878-8191-480766bcaf99",
    "deepnote_to_be_reexecuted": true,
    "source_hash": "4890e124",
    "deepnote_cell_type": "code"
   },
   "source": "y_pred = model.predict(X)",
   "execution_count": null,
   "outputs": []
  },
  {
   "cell_type": "code",
   "metadata": {
    "cell_id": "00114-eb358883-dfda-4dc8-a3e5-c0ff82440fd3",
    "deepnote_output_heights": [
     268
    ],
    "deepnote_to_be_reexecuted": true,
    "source_hash": "4d5f0d32",
    "deepnote_cell_type": "code"
   },
   "source": "# Make the confusion matrix\ncf_matrix = confusion_matrix(y, y_pred)\n\n# Generate the heatmap using seaborn\nsb.heatmap(cf_matrix/np.sum(cf_matrix), annot= True, fmt='.2%', cmap='Blues')\nplt.xlabel('Prediction')\nplt.ylabel('Observation')\nplt.show()",
   "execution_count": null,
   "outputs": [
    {
     "data": {
      "image/png": "[encoded data removed]",
      "text/plain": "<Figure size 432x288 with 2 Axes>"
     },
     "metadata": {
      "needs_background": "light",
      "image/png": {
       "width": 363,
       "height": 266
      }
     },
     "output_type": "display_data"
    }
   ]
  },
  {
   "cell_type": "markdown",
   "source": "There is still more we can do with the model. Check out 'Exercise_02' for more.",
   "metadata": {
    "cell_id": "00115-7e25a66a-1468-4383-9a6c-9c40de68f6ea",
    "deepnote_cell_type": "markdown"
   }
  },
  {
   "cell_type": "markdown",
   "source": "#### Example 3: Income Class (Multiclass classification) <a id = incomeClass>",
   "metadata": {
    "cell_id": "00116-b95a2d3b-a41c-4e19-a2b2-5313cadc7c78",
    "deepnote_cell_type": "markdown"
   }
  },
  {
   "cell_type": "code",
   "metadata": {
    "cell_id": "00117-0622fbcc-6781-4072-97f6-57db69c74ee3",
    "deepnote_output_heights": [
     null,
     177
    ],
    "deepnote_to_be_reexecuted": true,
    "source_hash": "afe3b301",
    "deepnote_cell_type": "code"
   },
   "source": "# Import the data and take look at it\ndf = pd.read_csv('Income_Class.csv')\nprint(df.shape)\nprint(df.info())\ndf.head()",
   "execution_count": null,
   "outputs": [
    {
     "name": "stdout",
     "output_type": "stream",
     "text": "(2001, 2)\n<class 'pandas.core.frame.DataFrame'>\nRangeIndex: 2001 entries, 0 to 2000\nData columns (total 2 columns):\n #   Column        Non-Null Count  Dtype\n---  ------        --------------  -----\n 0   Age           2001 non-null   int64\n 1   Income Class  2001 non-null   int64\ndtypes: int64(2)\nmemory usage: 31.4 KB\nNone\n"
    },
    {
     "data": {
      "text/html": "<div>\n<style scoped>\n    .dataframe tbody tr th:only-of-type {\n        vertical-align: middle;\n    }\n\n    .dataframe tbody tr th {\n        vertical-align: top;\n    }\n\n    .dataframe thead th {\n        text-align: right;\n    }\n</style>\n<table border=\"1\" class=\"dataframe\">\n  <thead>\n    <tr style=\"text-align: right;\">\n      <th></th>\n      <th>Age</th>\n      <th>Income Class</th>\n    </tr>\n  </thead>\n  <tbody>\n    <tr>\n      <th>0</th>\n      <td>40</td>\n      <td>2</td>\n    </tr>\n    <tr>\n      <th>1</th>\n      <td>24</td>\n      <td>1</td>\n    </tr>\n    <tr>\n      <th>2</th>\n      <td>24</td>\n      <td>1</td>\n    </tr>\n    <tr>\n      <th>3</th>\n      <td>49</td>\n      <td>3</td>\n    </tr>\n    <tr>\n      <th>4</th>\n      <td>46</td>\n      <td>3</td>\n    </tr>\n  </tbody>\n</table>\n</div>",
      "text/plain": "   Age  Income Class\n0   40             2\n1   24             1\n2   24             1\n3   49             3\n4   46             3"
     },
     "execution_count": 77,
     "metadata": {},
     "output_type": "execute_result"
    }
   ]
  },
  {
   "cell_type": "code",
   "metadata": {
    "cell_id": "00118-44015f00-a48a-4b0a-876a-914de09134ab",
    "deepnote_output_heights": [
     79
    ],
    "deepnote_to_be_reexecuted": true,
    "source_hash": "860bd9ae",
    "deepnote_cell_type": "code"
   },
   "source": "df['Income Class'].value_counts()",
   "execution_count": null,
   "outputs": [
    {
     "data": {
      "text/plain": "2    725\n3    723\n1    553\nName: Income Class, dtype: int64"
     },
     "execution_count": 78,
     "metadata": {},
     "output_type": "execute_result"
    }
   ]
  },
  {
   "cell_type": "markdown",
   "source": "As we can see, there are no null-values, and 3 different types of income classes. Our goal is to make a model that can predict the income class based on the age (which is the only variable we got). We will therefor start with making a scatterplot and then split to test and training set, before we try to make the model. Normaly we would also scale the data, but since we only got one variable, we will not do that.\n\nThis will most likely don't be a great model because we only got one variable, namely the 'age' variable.",
   "metadata": {
    "cell_id": "00119-a8670ece-5cea-4a7c-8a5f-a80a0272909d",
    "deepnote_cell_type": "markdown"
   }
  },
  {
   "cell_type": "code",
   "metadata": {
    "cell_id": "00120-15fb578e-7560-4e9f-9666-2babb5c83a9c",
    "deepnote_output_heights": [
     264
    ],
    "deepnote_to_be_reexecuted": true,
    "source_hash": "aea5884b",
    "deepnote_cell_type": "code"
   },
   "source": "sb.scatterplot(x=df['Age'],y=df['Income Class'])\nplt.show()",
   "execution_count": null,
   "outputs": [
    {
     "data": {
      "image/png": "[encoded data removed]",
      "text/plain": "<Figure size 432x288 with 1 Axes>"
     },
     "metadata": {
      "needs_background": "light",
      "image/png": {
       "width": 392,
       "height": 262
      }
     },
     "output_type": "display_data"
    }
   ]
  },
  {
   "cell_type": "code",
   "metadata": {
    "cell_id": "00121-2030277b-538e-4c4a-bd59-b99ea64b9da2",
    "deepnote_to_be_reexecuted": true,
    "source_hash": "cbbcef1f",
    "deepnote_cell_type": "code"
   },
   "source": "# Define the scaler\nscaler = MinMaxScaler()\n\n# Scale the age variable\n#df['Age_Scaled'] = scaler.fit_transform(df[['Age']])",
   "execution_count": null,
   "outputs": []
  },
  {
   "cell_type": "code",
   "metadata": {
    "cell_id": "00122-7151dbb5-3fe5-4fbb-a53a-eef91315b90a",
    "deepnote_to_be_reexecuted": true,
    "source_hash": "8097870c",
    "deepnote_cell_type": "code"
   },
   "source": "# Define X and y\nX = df['Age']\ny = df['Income Class']\n\n# Split to training and test set\nX_train, X_test, y_train, y_test = train_test_split(X,y, train_size=0.8, shuffle=True)",
   "execution_count": null,
   "outputs": []
  },
  {
   "cell_type": "code",
   "metadata": {
    "cell_id": "00123-c56ca7da-41cb-40b0-bc7b-dd9a8e40a365",
    "deepnote_to_be_reexecuted": true,
    "source_hash": "c276c4ec",
    "deepnote_cell_type": "code"
   },
   "source": "# One-dimentional objects sometimes cause problems (important!), therefore we will convert everything in to dataframes\n\nprint(y_train.shape, type(y_train))\ny_train = pd.DataFrame(y_train)\nprint(y_train.shape, type(y_train))\n\ny_test = pd.DataFrame(y_test)\nX_train = pd.DataFrame(X_train)\nX_test = pd.DataFrame(X_test)",
   "execution_count": null,
   "outputs": [
    {
     "name": "stdout",
     "output_type": "stream",
     "text": "(1600,) <class 'pandas.core.series.Series'>\n(1600, 1) <class 'pandas.core.frame.DataFrame'>\n"
    }
   ]
  },
  {
   "cell_type": "code",
   "metadata": {
    "cell_id": "00124-1d9fb2a2-d6a9-4dd8-a820-c48794b46d4a",
    "deepnote_output_heights": [
     null,
     21
    ],
    "deepnote_to_be_reexecuted": true,
    "source_hash": "431603db",
    "deepnote_cell_type": "code"
   },
   "source": "# Define the model\nmodel = LogisticRegression()\n\n# Fit the mdoel\nmodel.fit(X_train,y_train)",
   "execution_count": null,
   "outputs": [
    {
     "name": "stderr",
     "output_type": "stream",
     "text": "/Library/Frameworks/Python.framework/Versions/3.9/lib/python3.9/site-packages/sklearn/utils/validation.py:985: DataConversionWarning: A column-vector y was passed when a 1d array was expected. Please change the shape of y to (n_samples, ), for example using ravel().\n  y = column_or_1d(y, warn=True)\n"
    },
    {
     "data": {
      "text/plain": "LogisticRegression()"
     },
     "execution_count": 83,
     "metadata": {},
     "output_type": "execute_result"
    }
   ]
  },
  {
   "cell_type": "code",
   "metadata": {
    "cell_id": "00125-9d41b217-1ea1-4ab2-acf9-47a982d31a91",
    "deepnote_to_be_reexecuted": true,
    "source_hash": "702a91bb",
    "deepnote_cell_type": "code"
   },
   "source": "# The model parameters are the following\nprint(f'Slopes are: {model.coef_}')\nprint(f'Intercept is: {model.intercept_}')",
   "execution_count": null,
   "outputs": [
    {
     "name": "stdout",
     "output_type": "stream",
     "text": "Slopes are: [[-0.43308204]\n [-0.01272299]\n [ 0.44580503]]\nIntercept is: [ 13.91486629   2.0602883  -15.97515459]\n"
    }
   ]
  },
  {
   "cell_type": "code",
   "metadata": {
    "cell_id": "00126-319b2435-96a0-4ed1-976e-f310901e7ee7",
    "deepnote_to_be_reexecuted": true,
    "source_hash": "19747644",
    "deepnote_cell_type": "code"
   },
   "source": "# Model Score\nscore = model.score(X_train,y_train)\nprint(f'The score of the model is: {score*100:.2f}%')",
   "execution_count": null,
   "outputs": [
    {
     "name": "stdout",
     "output_type": "stream",
     "text": "The score of the model is: 83.81%\n"
    }
   ]
  },
  {
   "cell_type": "code",
   "metadata": {
    "cell_id": "00127-f6172420-393a-40c1-9c0f-c74fcdf422a5",
    "deepnote_to_be_reexecuted": true,
    "source_hash": "f763578f",
    "deepnote_cell_type": "code"
   },
   "source": "# Make predictions\ny_train_pred = model.predict(X_train)",
   "execution_count": null,
   "outputs": []
  },
  {
   "cell_type": "code",
   "metadata": {
    "cell_id": "00128-2c57cbf2-1b7f-4e31-9b58-d7e3f759d05d",
    "deepnote_output_heights": [
     319
    ],
    "deepnote_to_be_reexecuted": true,
    "source_hash": "46a3b5c3",
    "deepnote_cell_type": "code"
   },
   "source": "# Create a confussion matrix and heatmap\ncm = confusion_matrix(y_train,y_train_pred)\n\nplt.figure(figsize=(7,5))\nhm(cm/np.sum(cm), annot = True, fmt='.2%', cmap='Blues')\nplt.xlabel('Prediction')\nplt.ylabel('Observation')\nplt.show()",
   "execution_count": null,
   "outputs": [
    {
     "data": {
      "image/png": "[encoded data removed]",
      "text/plain": "<Figure size 504x360 with 2 Axes>"
     },
     "metadata": {
      "needs_background": "light",
      "image/png": {
       "width": 420,
       "height": 317
      }
     },
     "output_type": "display_data"
    }
   ]
  },
  {
   "cell_type": "markdown",
   "source": "As we can see, the models seem to perform okay. Now let's test it on the test data",
   "metadata": {
    "cell_id": "00129-4f3adde9-97a2-4a62-a5d8-310d06cdbf9b",
    "deepnote_cell_type": "markdown"
   }
  },
  {
   "cell_type": "code",
   "metadata": {
    "cell_id": "00130-2ae7f3c9-a0f4-4731-9cde-0de13294cc6b",
    "deepnote_output_heights": [
     319
    ],
    "deepnote_to_be_reexecuted": true,
    "source_hash": "77f03080",
    "deepnote_cell_type": "code"
   },
   "source": "# Make predictions\ny_test_pred = model.predict(X_test)\n\n# Make confussion matrix\ncm = confusion_matrix(y_test, y_test_pred)\n\nplt.figure(figsize=(7,5))\nhm(cm/np.sum(cm), annot = True, fmt='.2%', cmap='Blues')\nplt.xlabel('Prediction')\nplt.ylabel('Observation')\nplt.show()\n\n# Model Score\nscore = model.score(X_test,y_test)\nprint(f'The score of the model is: {score*100:.2f}%')",
   "execution_count": null,
   "outputs": [
    {
     "data": {
      "image/png": "[encoded data removed]",
      "text/plain": "<Figure size 504x360 with 2 Axes>"
     },
     "metadata": {
      "needs_background": "light",
      "image/png": {
       "width": 420,
       "height": 317
      }
     },
     "output_type": "display_data"
    },
    {
     "name": "stdout",
     "output_type": "stream",
     "text": "The score of the model is: 82.04%\n"
    }
   ]
  },
  {
   "cell_type": "code",
   "metadata": {
    "cell_id": "00131-ce7b890f-cd78-411b-959a-556a4decb4da",
    "deepnote_output_heights": [
     264
    ],
    "deepnote_to_be_reexecuted": true,
    "source_hash": "a50b96ad",
    "deepnote_cell_type": "code"
   },
   "source": "# Add the results to the test-data\ny_test['Pred'] = y_test_pred\n\n# Plot the results\nsb.scatterplot(x=X_test['Age'],y=y_test['Income Class'])\nsb.scatterplot(x=X_test['Age'],y=y_test['Pred']+0.1)\nplt.show()",
   "execution_count": null,
   "outputs": [
    {
     "data": {
      "image/png": "[encoded data removed]",
      "text/plain": "<Figure size 432x288 with 1 Axes>"
     },
     "metadata": {
      "needs_background": "light",
      "image/png": {
       "width": 386,
       "height": 262
      }
     },
     "output_type": "display_data"
    }
   ]
  },
  {
   "cell_type": "markdown",
   "source": "I would say the model is quite good considering we only got one variable (Age).",
   "metadata": {
    "cell_id": "00132-7d4b525a-3ac8-498a-ac36-cfb71f71278a",
    "deepnote_cell_type": "markdown"
   }
  },
  {
   "cell_type": "markdown",
   "source": "## Naive Bayes Classification <a id = NBC>",
   "metadata": {
    "cell_id": "00133-3f704007-e124-4385-8764-e4903579f2e9",
    "deepnote_cell_type": "markdown"
   }
  },
  {
   "cell_type": "markdown",
   "source": "In Naive Bayes Classification the goal is to classify a datapoint to a specific class(?). For example if you are a loan manager and want to classify customers which are risky and which are safe. The first example we are going to follow is 'Personal Loan Acceptance' from class.",
   "metadata": {
    "cell_id": "00134-18955d7b-52d2-4ce5-b962-142a6c3aa787",
    "deepnote_cell_type": "markdown"
   }
  },
  {
   "cell_type": "code",
   "metadata": {
    "cell_id": "00135-c1fd468e-96fc-4b5d-9a30-c20a2357fb13",
    "deepnote_to_be_reexecuted": true,
    "source_hash": "e4d48741",
    "deepnote_cell_type": "code"
   },
   "source": "# Import the needed libaries\nimport pandas as pd\nimport numpy as np\nimport seaborn as sb\nimport matplotlib.pyplot as plt\n%matplotlib inline\nfrom sklearn.model_selection import train_test_split\nfrom sklearn.naive_bayes import GaussianNB\nfrom sklearn.metrics import confusion_matrix\nfrom seaborn import heatmap as hm",
   "execution_count": null,
   "outputs": []
  },
  {
   "cell_type": "code",
   "metadata": {
    "cell_id": "00136-add2b332-b4a8-41a9-9c01-31c181dec592",
    "deepnote_output_heights": [
     null,
     177
    ],
    "deepnote_to_be_reexecuted": true,
    "source_hash": "b3070813",
    "deepnote_cell_type": "code"
   },
   "source": "# Import the data and take a look at it\ndf = pd.read_csv('UniversalBank.csv')\ndf = df[['Online','CreditCard', 'Personal Loan']] #We will only use these three variables\nprint(df.shape)\nprint(df.info())\ndf.head()",
   "execution_count": null,
   "outputs": [
    {
     "name": "stdout",
     "output_type": "stream",
     "text": "(5000, 3)\n<class 'pandas.core.frame.DataFrame'>\nRangeIndex: 5000 entries, 0 to 4999\nData columns (total 3 columns):\n #   Column         Non-Null Count  Dtype\n---  ------         --------------  -----\n 0   Online         5000 non-null   int64\n 1   CreditCard     5000 non-null   int64\n 2   Personal Loan  5000 non-null   int64\ndtypes: int64(3)\nmemory usage: 117.3 KB\nNone\n"
    },
    {
     "data": {
      "text/html": "<div>\n<style scoped>\n    .dataframe tbody tr th:only-of-type {\n        vertical-align: middle;\n    }\n\n    .dataframe tbody tr th {\n        vertical-align: top;\n    }\n\n    .dataframe thead th {\n        text-align: right;\n    }\n</style>\n<table border=\"1\" class=\"dataframe\">\n  <thead>\n    <tr style=\"text-align: right;\">\n      <th></th>\n      <th>Online</th>\n      <th>CreditCard</th>\n      <th>Personal Loan</th>\n    </tr>\n  </thead>\n  <tbody>\n    <tr>\n      <th>0</th>\n      <td>0</td>\n      <td>0</td>\n      <td>0</td>\n    </tr>\n    <tr>\n      <th>1</th>\n      <td>0</td>\n      <td>0</td>\n      <td>0</td>\n    </tr>\n    <tr>\n      <th>2</th>\n      <td>0</td>\n      <td>0</td>\n      <td>0</td>\n    </tr>\n    <tr>\n      <th>3</th>\n      <td>0</td>\n      <td>0</td>\n      <td>0</td>\n    </tr>\n    <tr>\n      <th>4</th>\n      <td>0</td>\n      <td>1</td>\n      <td>0</td>\n    </tr>\n  </tbody>\n</table>\n</div>",
      "text/plain": "   Online  CreditCard  Personal Loan\n0       0           0              0\n1       0           0              0\n2       0           0              0\n3       0           0              0\n4       0           1              0"
     },
     "execution_count": 91,
     "metadata": {},
     "output_type": "execute_result"
    }
   ]
  },
  {
   "cell_type": "markdown",
   "source": "Nice! As we can see, there are no <a href = #NV>null-values</a> and also no 'object'-data that need to be <a href = #LabelEncoder>encoded</a>. We then start by dividing the data in to a <a href = #TTS>training and test set</a>.",
   "metadata": {
    "cell_id": "00137-8ba52bcf-5c7a-4e04-b0d4-2a616e2969be",
    "deepnote_cell_type": "markdown"
   }
  },
  {
   "cell_type": "code",
   "metadata": {
    "cell_id": "00138-911176ac-212b-4ca8-8ac7-17cac6ceab67",
    "deepnote_to_be_reexecuted": true,
    "source_hash": "6e466a42",
    "deepnote_cell_type": "code"
   },
   "source": "# Split to training and test set (60/40)\ndf_train,df_test = train_test_split(df, train_size = 0.6, shuffle = True)",
   "execution_count": null,
   "outputs": []
  },
  {
   "cell_type": "markdown",
   "source": "We can generate a pivot table to get some more info <a id = PiviotTable>",
   "metadata": {
    "cell_id": "00139-a78d41a9-9328-4b4d-b72e-83bcbbfb1dab",
    "deepnote_cell_type": "markdown"
   }
  },
  {
   "cell_type": "code",
   "metadata": {
    "cell_id": "00140-b04a268c-75ac-4d20-9031-bf907d80ae34",
    "deepnote_output_heights": [
     148
    ],
    "deepnote_to_be_reexecuted": true,
    "source_hash": "6bc86780",
    "deepnote_cell_type": "code"
   },
   "source": "df_train.pivot_table(index = 'Online', columns = 'CreditCard', aggfunc='sum')",
   "execution_count": null,
   "outputs": [
    {
     "data": {
      "text/html": "<div>\n<style scoped>\n    .dataframe tbody tr th:only-of-type {\n        vertical-align: middle;\n    }\n\n    .dataframe tbody tr th {\n        vertical-align: top;\n    }\n\n    .dataframe thead tr th {\n        text-align: left;\n    }\n\n    .dataframe thead tr:last-of-type th {\n        text-align: right;\n    }\n</style>\n<table border=\"1\" class=\"dataframe\">\n  <thead>\n    <tr>\n      <th></th>\n      <th colspan=\"2\" halign=\"left\">Personal Loan</th>\n    </tr>\n    <tr>\n      <th>CreditCard</th>\n      <th>0</th>\n      <th>1</th>\n    </tr>\n    <tr>\n      <th>Online</th>\n      <th></th>\n      <th></th>\n    </tr>\n  </thead>\n  <tbody>\n    <tr>\n      <th>0</th>\n      <td>78</td>\n      <td>32</td>\n    </tr>\n    <tr>\n      <th>1</th>\n      <td>125</td>\n      <td>48</td>\n    </tr>\n  </tbody>\n</table>\n</div>",
      "text/plain": "           Personal Loan    \nCreditCard             0   1\nOnline                      \n0                     78  32\n1                    125  48"
     },
     "execution_count": 93,
     "metadata": {},
     "output_type": "execute_result"
    }
   ]
  },
  {
   "cell_type": "code",
   "metadata": {
    "cell_id": "00141-52c39e0b-da97-4872-a5e3-5f89358614c7",
    "deepnote_to_be_reexecuted": true,
    "source_hash": "16955643",
    "deepnote_cell_type": "code"
   },
   "source": "# Define X and y\nX_train, y_train = df_train[['Online','CreditCard']], df_train['Personal Loan']\nX_test, y_test = df_test[['Online','CreditCard']], df_test['Personal Loan']",
   "execution_count": null,
   "outputs": []
  },
  {
   "cell_type": "markdown",
   "source": "#### GaussianNB <a id = GaussianNB> ",
   "metadata": {
    "cell_id": "00142-c1e5ae0f-5028-4a68-955a-cdeb62f340cc",
    "deepnote_cell_type": "markdown"
   }
  },
  {
   "cell_type": "code",
   "metadata": {
    "cell_id": "00143-5f2f9ff9-15d1-4130-a41e-a9616ae8b5b7",
    "deepnote_to_be_reexecuted": true,
    "source_hash": "6d47611d",
    "deepnote_cell_type": "code"
   },
   "source": "# Define the model\nmodel = GaussianNB()",
   "execution_count": null,
   "outputs": []
  },
  {
   "cell_type": "code",
   "metadata": {
    "cell_id": "00144-eff72cec-0f92-4ae4-8d67-aa1bf91d272a",
    "deepnote_to_be_reexecuted": true,
    "source_hash": "6c8a7d48",
    "deepnote_cell_type": "code"
   },
   "source": "# Fit the model\nmodel = model.fit(X_train,y_train)\n# Predict the model\ny_pred = model.predict(X_train)",
   "execution_count": null,
   "outputs": []
  },
  {
   "cell_type": "code",
   "metadata": {
    "cell_id": "00145-d5c19e6d-4b19-4acc-847f-af9e44f96bdb",
    "deepnote_output_heights": [
     319
    ],
    "deepnote_to_be_reexecuted": true,
    "source_hash": "41f65587",
    "deepnote_cell_type": "code"
   },
   "source": "# Create a confussion matrix and heatmap\ncm = confusion_matrix(y_train,y_pred)\n\nplt.figure(figsize=(7,5))\nhm(cm/np.sum(cm), annot = True, fmt='.2%', cmap='Blues')\nplt.xlabel('Prediction')\nplt.ylabel('Observation')\nplt.show()\n\nprint(f'The score of the model is: {model.score(X_train,y_train)*100:.2f}%')",
   "execution_count": null,
   "outputs": [
    {
     "data": {
      "image/png": "[encoded data removed]",
      "text/plain": "<Figure size 504x360 with 2 Axes>"
     },
     "metadata": {
      "needs_background": "light",
      "image/png": {
       "width": 413,
       "height": 317
      }
     },
     "output_type": "display_data"
    },
    {
     "name": "stdout",
     "output_type": "stream",
     "text": "The score of the model is: 90.57%\n"
    }
   ]
  },
  {
   "cell_type": "markdown",
   "source": "Even though we got a good score, we can see that the model failed to predict any of the '1' observations right, therefor our model is quite shit. We will now try how well it performs on the test set.",
   "metadata": {
    "cell_id": "00146-7156b296-4ceb-4c24-83e5-2684250e50be",
    "deepnote_cell_type": "markdown"
   }
  },
  {
   "cell_type": "code",
   "metadata": {
    "cell_id": "00147-ae095709-3c40-4abc-a8da-1e803df271ab",
    "deepnote_to_be_reexecuted": true,
    "source_hash": "9db6bd93",
    "deepnote_cell_type": "code"
   },
   "source": "# Predict on the y_test\ny_test_pred = model.predict(X_test)",
   "execution_count": null,
   "outputs": []
  },
  {
   "cell_type": "code",
   "metadata": {
    "cell_id": "00148-d9369f66-f9da-45f0-b9d8-6b9dd5d8fba3",
    "deepnote_output_heights": [
     319
    ],
    "deepnote_to_be_reexecuted": true,
    "source_hash": "57a0c7a6",
    "deepnote_cell_type": "code"
   },
   "source": "cm = confusion_matrix(y_test,y_test_pred)\n\nplt.figure(figsize=(7,5))\nhm(cm/np.sum(cm), annot = True, fmt='.2%', cmap='Blues')\nplt.xlabel('Prediction')\nplt.ylabel('Observation')\nplt.show()\n\nprint(f'The score of the model is: {model.score(X_test,y_test)*100:.2f}%')",
   "execution_count": null,
   "outputs": [
    {
     "data": {
      "image/png": "[encoded data removed]",
      "text/plain": "<Figure size 504x360 with 2 Axes>"
     },
     "metadata": {
      "needs_background": "light",
      "image/png": {
       "width": 413,
       "height": 317
      }
     },
     "output_type": "display_data"
    },
    {
     "name": "stdout",
     "output_type": "stream",
     "text": "The score of the model is: 90.15%\n"
    }
   ]
  },
  {
   "cell_type": "markdown",
   "source": "Again, not a good performance.",
   "metadata": {
    "cell_id": "00149-90db369e-4fa1-41f3-82a2-8e055c91c4d6",
    "deepnote_cell_type": "markdown"
   }
  },
  {
   "cell_type": "markdown",
   "source": "## K-Means Clustering <a id = KMC>",
   "metadata": {
    "cell_id": "00150-cdc5883f-a85b-466e-b9f3-7a8a327d1dab",
    "deepnote_cell_type": "markdown"
   }
  },
  {
   "cell_type": "markdown",
   "source": "K-Means Clustering is used to identify different clusters among a dataset. This can be useful for example for a salesman who want to identify different types of customers so that he can give different offers to them. To use K-means Clustering, the clusters must be homogeneous and spherical clusters, if not the method won't work. To know how many clusters that is the optimal soultion, we will use an <a href = https://en.wikipedia.org/wiki/Elbow_method_(clustering) >elbow-plot</a>. We would get better and better performance, the more clusters we add, but then the clusters would not be helpful. Therefore we should use an elbow-plot. To get the best results we should also scale the data using <a href = https://scikit-learn.org/stable/modules/generated/sklearn.preprocessing.MinMaxScaler.html >MinMaxScaler</a> from SKlearn. We will again follow a exercise from class, namely the 'income'-exercise. This exercise can be found <a href = https://youtu.be/EItlUEPCIzM >here</a>. We will not split to training and test set in this exercise.",
   "metadata": {
    "cell_id": "00151-3faead49-cb2e-4f3f-935a-b8d873e2d723",
    "deepnote_cell_type": "markdown"
   }
  },
  {
   "cell_type": "code",
   "metadata": {
    "cell_id": "00152-01a8974b-7ec8-4c70-8791-59fad053ea75",
    "deepnote_to_be_reexecuted": true,
    "source_hash": "e3f37d52",
    "deepnote_cell_type": "code"
   },
   "source": "# Import the needed libaries\nimport pandas as pd\nimport numpy as np\nimport seaborn as sb\nimport matplotlib.pyplot as plt\n%matplotlib inline\nfrom sklearn.model_selection import train_test_split\nfrom sklearn.preprocessing import MinMaxScaler\nfrom sklearn.datasets import make_blobs\nfrom sklearn.cluster import KMeans",
   "execution_count": null,
   "outputs": []
  },
  {
   "cell_type": "code",
   "metadata": {
    "cell_id": "00153-206e6f38-486b-4cfd-a6e2-099c361868a1",
    "deepnote_output_heights": [
     null,
     177
    ],
    "deepnote_to_be_reexecuted": true,
    "source_hash": "42171eab",
    "deepnote_cell_type": "code"
   },
   "source": "# Import the data and take a look at it\ndf = pd.read_csv('income.csv')\nprint(df.shape)\ndf.head()",
   "execution_count": null,
   "outputs": [
    {
     "name": "stdout",
     "output_type": "stream",
     "text": "(22, 3)\n"
    },
    {
     "data": {
      "text/html": "<div>\n<style scoped>\n    .dataframe tbody tr th:only-of-type {\n        vertical-align: middle;\n    }\n\n    .dataframe tbody tr th {\n        vertical-align: top;\n    }\n\n    .dataframe thead th {\n        text-align: right;\n    }\n</style>\n<table border=\"1\" class=\"dataframe\">\n  <thead>\n    <tr style=\"text-align: right;\">\n      <th></th>\n      <th>Name</th>\n      <th>Age</th>\n      <th>Income($)</th>\n    </tr>\n  </thead>\n  <tbody>\n    <tr>\n      <th>0</th>\n      <td>Rob</td>\n      <td>27</td>\n      <td>70000</td>\n    </tr>\n    <tr>\n      <th>1</th>\n      <td>Michael</td>\n      <td>29</td>\n      <td>90000</td>\n    </tr>\n    <tr>\n      <th>2</th>\n      <td>Mohan</td>\n      <td>29</td>\n      <td>61000</td>\n    </tr>\n    <tr>\n      <th>3</th>\n      <td>Ismail</td>\n      <td>28</td>\n      <td>60000</td>\n    </tr>\n    <tr>\n      <th>4</th>\n      <td>Kory</td>\n      <td>42</td>\n      <td>150000</td>\n    </tr>\n  </tbody>\n</table>\n</div>",
      "text/plain": "      Name  Age  Income($)\n0      Rob   27      70000\n1  Michael   29      90000\n2    Mohan   29      61000\n3   Ismail   28      60000\n4     Kory   42     150000"
     },
     "execution_count": 101,
     "metadata": {},
     "output_type": "execute_result"
    }
   ]
  },
  {
   "cell_type": "code",
   "metadata": {
    "cell_id": "00154-afbb0a88-dc52-4b80-a624-07782d5fd9bc",
    "deepnote_output_heights": [
     250
    ],
    "deepnote_to_be_reexecuted": true,
    "source_hash": "296291ed",
    "deepnote_cell_type": "code"
   },
   "source": "# Let's plot the age against the income\nplt.scatter(df['Age'],df['Income($)'])\n#sb.scatterplot(x=df['Age'],y=df['Income($)'])\nplt.show()",
   "execution_count": null,
   "outputs": [
    {
     "data": {
      "image/png": "[encoded data removed]",
      "text/plain": "<Figure size 432x288 with 1 Axes>"
     },
     "metadata": {
      "needs_background": "light",
      "image/png": {
       "width": 393,
       "height": 248
      }
     },
     "output_type": "display_data"
    }
   ]
  },
  {
   "cell_type": "markdown",
   "source": "As we can see from this scatterplot, there are clearly 3 clusters (Bottom left, bottom right and top rigth). This means that we should use 3 clusters. Let's try that and see",
   "metadata": {
    "cell_id": "00155-6c15bd38-da23-4c09-b28e-21dc52dcf89f",
    "deepnote_cell_type": "markdown"
   }
  },
  {
   "cell_type": "code",
   "metadata": {
    "cell_id": "00156-d1c5ba25-dd23-4a5c-8143-0a055698aaf3",
    "deepnote_to_be_reexecuted": true,
    "source_hash": "64737b4",
    "deepnote_cell_type": "code"
   },
   "source": "# Define the model\nkm = KMeans(n_clusters=3)\n\n# Fit the model\nkm.fit(df[['Age','Income($)']])\n\n# Predict and adds to the datafram\npredicted = km.predict(df[['Age','Income($)']])\ndf['Predicted'] = predicted",
   "execution_count": null,
   "outputs": []
  },
  {
   "cell_type": "code",
   "metadata": {
    "cell_id": "00157-c21ffbbc-5ea4-46d5-b932-b8d48ccaad41",
    "deepnote_output_heights": [
     250
    ],
    "deepnote_to_be_reexecuted": true,
    "source_hash": "a5df5e39",
    "deepnote_cell_type": "code"
   },
   "source": "# Make different dataframes for each cluster\ndf0 = df[df['Predicted'] == 0 ]\ndf1 = df[df['Predicted'] == 1 ]\ndf2 = df[df['Predicted'] == 2 ]\n\n# Plot the clusters against each other\nplt.scatter(df0['Age'],df0['Income($)'], color = 'red')\nplt.scatter(df1['Age'],df1['Income($)'], color = 'blue')\nplt.scatter(df2['Age'],df2['Income($)'], color = 'green')\n\n# Define the clusters\nclusters = km.cluster_centers_\n\n# Plot the cluster centers\nplt.scatter(clusters[:,0], clusters[:,1], color = 'black', marker = 'X', s=150, alpha=0.8)\n\nplt.show()",
   "execution_count": null,
   "outputs": [
    {
     "data": {
      "image/png": "[encoded data removed]",
      "text/plain": "<Figure size 432x288 with 1 Axes>"
     },
     "metadata": {
      "needs_background": "light",
      "image/png": {
       "width": 393,
       "height": 248
      }
     },
     "output_type": "display_data"
    }
   ]
  },
  {
   "cell_type": "markdown",
   "source": "This does not seem right. That is becuase we have not scaled our data. Therefore we must scale the data before trying to identify clusters.",
   "metadata": {
    "cell_id": "00158-77656756-1df7-4be7-9770-ac751775c289",
    "deepnote_cell_type": "markdown"
   }
  },
  {
   "cell_type": "markdown",
   "source": "#### MinMaxScaler <a id = MinMaxScalerKM>",
   "metadata": {
    "cell_id": "00159-23d2fa19-5f05-4a70-b69c-658b6c8328c0",
    "deepnote_cell_type": "markdown"
   }
  },
  {
   "cell_type": "code",
   "metadata": {
    "cell_id": "00160-8e85c274-ebd7-4d78-bfab-5d2af1102ef8",
    "deepnote_to_be_reexecuted": true,
    "source_hash": "fd62058f",
    "deepnote_cell_type": "code"
   },
   "source": "# Define the scaler\nscaler = MinMaxScaler()",
   "execution_count": null,
   "outputs": []
  },
  {
   "cell_type": "code",
   "metadata": {
    "cell_id": "00161-c5477aaa-99a7-47ed-9d6c-e5084dca7332",
    "deepnote_to_be_reexecuted": true,
    "source_hash": "b4e105a",
    "deepnote_cell_type": "code"
   },
   "source": "# Fit the scaler on 'Age'\nscaler.fit(df[['Age']]) #Remember double brackets [[\n\n# Transform the 'Age'-variable\ndf['Age'] = scaler.transform(df[['Age']])",
   "execution_count": null,
   "outputs": []
  },
  {
   "cell_type": "code",
   "metadata": {
    "cell_id": "00162-0ea9a90f-bdbf-435a-b2a0-c89c341e1440",
    "deepnote_to_be_reexecuted": true,
    "source_hash": "97fc84e",
    "deepnote_cell_type": "code"
   },
   "source": "# Fit the scaler on 'Income($)'\nscaler.fit(df[['Income($)']]) #Remember double brackets [[\n\n# Transform the 'Income($)'-variable\ndf['Income($)'] = scaler.transform(df[['Income($)']])",
   "execution_count": null,
   "outputs": []
  },
  {
   "cell_type": "code",
   "metadata": {
    "cell_id": "00163-1a249cbd-1f25-45bc-acae-95ff3adf9d6c",
    "deepnote_to_be_reexecuted": true,
    "source_hash": "debe5b75",
    "deepnote_cell_type": "code"
   },
   "source": "scaled = ['col1','col2','col3']\n#for col in scaled:\n#    df[col] = scaler.fit_transform(df[[col]])",
   "execution_count": null,
   "outputs": []
  },
  {
   "cell_type": "code",
   "metadata": {
    "cell_id": "00164-bf8cb303-a297-49ba-98dc-20291cc7203e",
    "deepnote_output_heights": [
     177
    ],
    "deepnote_to_be_reexecuted": true,
    "source_hash": "cec1f145",
    "deepnote_cell_type": "code"
   },
   "source": "# Now take a new look at the dataframe\ndf.head()",
   "execution_count": null,
   "outputs": [
    {
     "data": {
      "text/html": "<div>\n<style scoped>\n    .dataframe tbody tr th:only-of-type {\n        vertical-align: middle;\n    }\n\n    .dataframe tbody tr th {\n        vertical-align: top;\n    }\n\n    .dataframe thead th {\n        text-align: right;\n    }\n</style>\n<table border=\"1\" class=\"dataframe\">\n  <thead>\n    <tr style=\"text-align: right;\">\n      <th></th>\n      <th>Name</th>\n      <th>Age</th>\n      <th>Income($)</th>\n      <th>Predicted</th>\n    </tr>\n  </thead>\n  <tbody>\n    <tr>\n      <th>0</th>\n      <td>Rob</td>\n      <td>0.058824</td>\n      <td>0.213675</td>\n      <td>2</td>\n    </tr>\n    <tr>\n      <th>1</th>\n      <td>Michael</td>\n      <td>0.176471</td>\n      <td>0.384615</td>\n      <td>2</td>\n    </tr>\n    <tr>\n      <th>2</th>\n      <td>Mohan</td>\n      <td>0.176471</td>\n      <td>0.136752</td>\n      <td>0</td>\n    </tr>\n    <tr>\n      <th>3</th>\n      <td>Ismail</td>\n      <td>0.117647</td>\n      <td>0.128205</td>\n      <td>0</td>\n    </tr>\n    <tr>\n      <th>4</th>\n      <td>Kory</td>\n      <td>0.941176</td>\n      <td>0.897436</td>\n      <td>1</td>\n    </tr>\n  </tbody>\n</table>\n</div>",
      "text/plain": "      Name       Age  Income($)  Predicted\n0      Rob  0.058824   0.213675          2\n1  Michael  0.176471   0.384615          2\n2    Mohan  0.176471   0.136752          0\n3   Ismail  0.117647   0.128205          0\n4     Kory  0.941176   0.897436          1"
     },
     "execution_count": 109,
     "metadata": {},
     "output_type": "execute_result"
    }
   ]
  },
  {
   "cell_type": "markdown",
   "source": "As we can see, the data is scaled, with every value between 0 and 1. We will now try to make the cluster-model again and see how it performs.",
   "metadata": {
    "cell_id": "00165-f20c1e68-5d58-4717-9ae1-4d998022e33e",
    "deepnote_cell_type": "markdown"
   }
  },
  {
   "cell_type": "code",
   "metadata": {
    "cell_id": "00166-92386b6a-0c3b-4815-92bd-6c54104b9338",
    "deepnote_to_be_reexecuted": true,
    "source_hash": "64737b4",
    "deepnote_cell_type": "code"
   },
   "source": "# Define the model\nkm = KMeans(n_clusters=3)\n\n# Fit the model\nkm.fit(df[['Age','Income($)']])\n\n# Predict and adds to the datafram\npredicted = km.predict(df[['Age','Income($)']])\ndf['Predicted'] = predicted",
   "execution_count": null,
   "outputs": []
  },
  {
   "cell_type": "code",
   "metadata": {
    "cell_id": "00167-b4ac9349-a3f7-4def-a9ad-5609f07f19b0",
    "deepnote_output_heights": [
     250
    ],
    "deepnote_to_be_reexecuted": true,
    "source_hash": "a5df5e39",
    "deepnote_cell_type": "code"
   },
   "source": "# Make different dataframes for each cluster\ndf0 = df[df['Predicted'] == 0 ]\ndf1 = df[df['Predicted'] == 1 ]\ndf2 = df[df['Predicted'] == 2 ]\n\n# Plot the clusters against each other\nplt.scatter(df0['Age'],df0['Income($)'], color = 'red')\nplt.scatter(df1['Age'],df1['Income($)'], color = 'blue')\nplt.scatter(df2['Age'],df2['Income($)'], color = 'green')\n\n# Define the clusters\nclusters = km.cluster_centers_\n\n# Plot the cluster centers\nplt.scatter(clusters[:,0], clusters[:,1], color = 'black', marker = 'X', s=150, alpha=0.8)\n\nplt.show()",
   "execution_count": null,
   "outputs": [
    {
     "data": {
      "image/png": "[encoded data removed]",
      "text/plain": "<Figure size 432x288 with 1 Axes>"
     },
     "metadata": {
      "needs_background": "light",
      "image/png": {
       "width": 372,
       "height": 248
      }
     },
     "output_type": "display_data"
    }
   ]
  },
  {
   "cell_type": "markdown",
   "source": "This time it performed much better! We will now try to see how an elbow plot looks",
   "metadata": {
    "cell_id": "00168-3f794d0f-3547-424d-8be3-5b1a5a4a2a14",
    "deepnote_cell_type": "markdown"
   }
  },
  {
   "cell_type": "markdown",
   "source": "#### Elbow plot <a id = ElbowPlot >",
   "metadata": {
    "cell_id": "00169-b845ac61-0b6d-45c1-90c3-65b613c45605",
    "deepnote_cell_type": "markdown"
   }
  },
  {
   "cell_type": "code",
   "metadata": {
    "cell_id": "00170-823f3ea4-2c70-441d-bf5d-e4e87af45771",
    "deepnote_to_be_reexecuted": true,
    "source_hash": "c189767c",
    "deepnote_cell_type": "code"
   },
   "source": "sse = [] #Sum of Squared Errors\n\nk_range = range(1,10)\n\nfor k in k_range:\n    km = KMeans(n_clusters = k)\n    km.fit(df[['Age','Income($)']])\n    sse.append(km.inertia_) # Adds the sum of squared error to the list",
   "execution_count": null,
   "outputs": []
  },
  {
   "cell_type": "code",
   "metadata": {
    "cell_id": "00171-72b99660-74ce-4702-942d-25f89b281550",
    "deepnote_output_heights": [
     264
    ],
    "deepnote_to_be_reexecuted": true,
    "source_hash": "857ef530",
    "deepnote_cell_type": "code"
   },
   "source": "plt.plot(k_range, sse)\nplt.xlabel('Number of clusters')\nplt.ylabel('Inertia (Sum of distances)')\nplt.show()",
   "execution_count": null,
   "outputs": [
    {
     "data": {
      "image/png": "[encoded data removed]",
      "text/plain": "<Figure size 432x288 with 1 Axes>"
     },
     "metadata": {
      "needs_background": "light",
      "image/png": {
       "width": 376,
       "height": 262
      }
     },
     "output_type": "display_data"
    }
   ]
  },
  {
   "cell_type": "markdown",
   "source": "We can clearly see the \"elbow\" on k = 3. This means that the optimal number of clusters is 3. As told before, the elbow plot is much more relevant when we have more than 2 variables (can't use scatterplot to visualize that).",
   "metadata": {
    "cell_id": "00172-58cf197b-d2ac-4a76-a49f-c1da0d45bae6",
    "deepnote_cell_type": "markdown"
   }
  },
  {
   "cell_type": "markdown",
   "source": "## Artificial Neural Network <a id = ANN>",
   "metadata": {
    "cell_id": "00173-0580b9ab-9987-4289-9b92-b6d24c7e37be",
    "deepnote_cell_type": "markdown"
   }
  },
  {
   "cell_type": "markdown",
   "source": "Artificial Neural Network works much the same way as our braincells. It is often used to identify relationships that is not easily explained mathematically. An example of an neural network can be the classic axample of a network identifying and classifying hand-written numbers. We differnciate between <b>prediction</b> and <b>classification</b> (binary/multiclass). Prediction can be compared to linear regression, for example for predicting a car's price based on different inputs. And classification can be compared to logistic regression, for example whether a person will buy a product or not (binary), or what party a person will vote for (multiclass).",
   "metadata": {
    "cell_id": "00174-22f35b5e-73f7-4e6b-b658-63dfc1ee8d01",
    "deepnote_cell_type": "markdown"
   }
  },
  {
   "cell_type": "markdown",
   "source": "When it comes to choosing a activation function for your neural network, the usual function is the `relu` function. Others beeing: `sigmoid, linear, tanh, softmax`. Read about the different activation functions <a href = https://machinelearningmastery.com/choose-an-activation-function-for-deep-learning/>here</a>",
   "metadata": {
    "cell_id": "00175-f0bf32ed-7ae6-440e-8edc-bfebd859cb99",
    "deepnote_cell_type": "markdown"
   }
  },
  {
   "cell_type": "code",
   "metadata": {
    "cell_id": "00176-1f3658e6-92e0-404b-9c31-31855adf9979",
    "deepnote_to_be_reexecuted": true,
    "source_hash": "5870fd7",
    "deepnote_cell_type": "code"
   },
   "source": "# Import needed packages\nimport pandas as pd\nimport numpy as np\nimport seaborn as sb\nimport matplotlib.pyplot as plt\n%matplotlib inline\nfrom sklearn.model_selection import train_test_split\nfrom sklearn import datasets\nfrom sklearn.preprocessing import LabelEncoder\nfrom sklearn.preprocessing import MinMaxScaler\nfrom keras.models import Sequential\nfrom keras.layers import Dense\nfrom keras.callbacks import EarlyStopping\nfrom sklearn.metrics import r2_score\nfrom sklearn.metrics import accuracy_score",
   "execution_count": null,
   "outputs": []
  },
  {
   "cell_type": "markdown",
   "source": "#### Prediction <a id = prediction>",
   "metadata": {
    "cell_id": "00177-632036fb-57cc-4e84-b202-0293f551450f",
    "deepnote_cell_type": "markdown"
   }
  },
  {
   "cell_type": "markdown",
   "source": "Activation function: `linear, relu`. The example we are going to go thru here is the Toyota Corolla price prediction from class.",
   "metadata": {
    "cell_id": "00178-7203d3de-b1c6-463b-9cdf-250f9f723f97",
    "deepnote_cell_type": "markdown"
   }
  },
  {
   "cell_type": "code",
   "metadata": {
    "cell_id": "00179-26776b22-d611-4008-82f9-14c450ad45f8",
    "deepnote_to_be_reexecuted": true,
    "source_hash": "fbc210fd",
    "deepnote_cell_type": "code"
   },
   "source": "# Import the data and take a look\ndf = pd.read_csv('ToyotaCorolla.csv')",
   "execution_count": null,
   "outputs": []
  },
  {
   "cell_type": "code",
   "metadata": {
    "cell_id": "00180-e235b618-e51a-4fb7-8ef3-dd66da9b1246",
    "deepnote_to_be_reexecuted": true,
    "source_hash": "b15b4802",
    "deepnote_cell_type": "code"
   },
   "source": "# Define the columns we need for this assignment\ndf = df[['Price', 'Age_08_04', 'KM', 'Fuel_Type', 'HP', 'Automatic', 'Doors','Quarterly_Tax', 'Mfr_Guarantee', 'Guarantee_Period', 'Airco', 'Automatic_airco', 'CD_Player', 'Powered_Windows', 'Sport_Model',  'Tow_Bar']]",
   "execution_count": null,
   "outputs": []
  },
  {
   "cell_type": "code",
   "metadata": {
    "cell_id": "00181-55382fb9-7370-449c-9ee9-7285ecdfe009",
    "deepnote_output_heights": [
     null,
     182
    ],
    "deepnote_to_be_reexecuted": true,
    "source_hash": "9ccfacbf",
    "deepnote_cell_type": "code"
   },
   "source": "print(df.shape)\nprint(df.info())\ndf.head()",
   "execution_count": null,
   "outputs": [
    {
     "name": "stdout",
     "output_type": "stream",
     "text": "(1436, 16)\n<class 'pandas.core.frame.DataFrame'>\nRangeIndex: 1436 entries, 0 to 1435\nData columns (total 16 columns):\n #   Column            Non-Null Count  Dtype \n---  ------            --------------  ----- \n 0   Price             1436 non-null   int64 \n 1   Age_08_04         1436 non-null   int64 \n 2   KM                1436 non-null   int64 \n 3   Fuel_Type         1436 non-null   object\n 4   HP                1436 non-null   int64 \n 5   Automatic         1436 non-null   int64 \n 6   Doors             1436 non-null   int64 \n 7   Quarterly_Tax     1436 non-null   int64 \n 8   Mfr_Guarantee     1436 non-null   int64 \n 9   Guarantee_Period  1436 non-null   int64 \n 10  Airco             1436 non-null   int64 \n 11  Automatic_airco   1436 non-null   int64 \n 12  CD_Player         1436 non-null   int64 \n 13  Powered_Windows   1436 non-null   int64 \n 14  Sport_Model       1436 non-null   int64 \n 15  Tow_Bar           1436 non-null   int64 \ndtypes: int64(15), object(1)\nmemory usage: 179.6+ KB\nNone\n"
    },
    {
     "data": {
      "text/html": "<div>\n<style scoped>\n    .dataframe tbody tr th:only-of-type {\n        vertical-align: middle;\n    }\n\n    .dataframe tbody tr th {\n        vertical-align: top;\n    }\n\n    .dataframe thead th {\n        text-align: right;\n    }\n</style>\n<table border=\"1\" class=\"dataframe\">\n  <thead>\n    <tr style=\"text-align: right;\">\n      <th></th>\n      <th>Price</th>\n      <th>Age_08_04</th>\n      <th>KM</th>\n      <th>Fuel_Type</th>\n      <th>HP</th>\n      <th>Automatic</th>\n      <th>Doors</th>\n      <th>Quarterly_Tax</th>\n      <th>Mfr_Guarantee</th>\n      <th>Guarantee_Period</th>\n      <th>Airco</th>\n      <th>Automatic_airco</th>\n      <th>CD_Player</th>\n      <th>Powered_Windows</th>\n      <th>Sport_Model</th>\n      <th>Tow_Bar</th>\n    </tr>\n  </thead>\n  <tbody>\n    <tr>\n      <th>0</th>\n      <td>13500</td>\n      <td>23</td>\n      <td>46986</td>\n      <td>Diesel</td>\n      <td>90</td>\n      <td>0</td>\n      <td>3</td>\n      <td>210</td>\n      <td>0</td>\n      <td>3</td>\n      <td>0</td>\n      <td>0</td>\n      <td>0</td>\n      <td>1</td>\n      <td>0</td>\n      <td>0</td>\n    </tr>\n    <tr>\n      <th>1</th>\n      <td>13750</td>\n      <td>23</td>\n      <td>72937</td>\n      <td>Diesel</td>\n      <td>90</td>\n      <td>0</td>\n      <td>3</td>\n      <td>210</td>\n      <td>0</td>\n      <td>3</td>\n      <td>1</td>\n      <td>0</td>\n      <td>1</td>\n      <td>0</td>\n      <td>0</td>\n      <td>0</td>\n    </tr>\n    <tr>\n      <th>2</th>\n      <td>13950</td>\n      <td>24</td>\n      <td>41711</td>\n      <td>Diesel</td>\n      <td>90</td>\n      <td>0</td>\n      <td>3</td>\n      <td>210</td>\n      <td>1</td>\n      <td>3</td>\n      <td>0</td>\n      <td>0</td>\n      <td>0</td>\n      <td>0</td>\n      <td>0</td>\n      <td>0</td>\n    </tr>\n    <tr>\n      <th>3</th>\n      <td>14950</td>\n      <td>26</td>\n      <td>48000</td>\n      <td>Diesel</td>\n      <td>90</td>\n      <td>0</td>\n      <td>3</td>\n      <td>210</td>\n      <td>1</td>\n      <td>3</td>\n      <td>0</td>\n      <td>0</td>\n      <td>0</td>\n      <td>0</td>\n      <td>0</td>\n      <td>0</td>\n    </tr>\n    <tr>\n      <th>4</th>\n      <td>13750</td>\n      <td>30</td>\n      <td>38500</td>\n      <td>Diesel</td>\n      <td>90</td>\n      <td>0</td>\n      <td>3</td>\n      <td>210</td>\n      <td>1</td>\n      <td>3</td>\n      <td>1</td>\n      <td>0</td>\n      <td>0</td>\n      <td>1</td>\n      <td>0</td>\n      <td>0</td>\n    </tr>\n  </tbody>\n</table>\n</div>",
      "text/plain": "   Price  Age_08_04     KM Fuel_Type  HP  Automatic  Doors  Quarterly_Tax  \\\n0  13500         23  46986    Diesel  90          0      3            210   \n1  13750         23  72937    Diesel  90          0      3            210   \n2  13950         24  41711    Diesel  90          0      3            210   \n3  14950         26  48000    Diesel  90          0      3            210   \n4  13750         30  38500    Diesel  90          0      3            210   \n\n   Mfr_Guarantee  Guarantee_Period  Airco  Automatic_airco  CD_Player  \\\n0              0                 3      0                0          0   \n1              0                 3      1                0          1   \n2              1                 3      0                0          0   \n3              1                 3      0                0          0   \n4              1                 3      1                0          0   \n\n   Powered_Windows  Sport_Model  Tow_Bar  \n0                1            0        0  \n1                0            0        0  \n2                0            0        0  \n3                0            0        0  \n4                1            0        0  "
     },
     "execution_count": 117,
     "metadata": {},
     "output_type": "execute_result"
    }
   ]
  },
  {
   "cell_type": "markdown",
   "source": "As we can see, there are one variable which is not numeric, namely the `Fuel_Type`. Therefore we will have to use a LabelEncoder to make it numeric. After that we will scale the data using the `MinMaxScaler`. We also observe that there is no null-values.",
   "metadata": {
    "cell_id": "00182-d1bd37c2-7ec7-4843-949a-a4e55f6fb982",
    "deepnote_cell_type": "markdown"
   }
  },
  {
   "cell_type": "code",
   "metadata": {
    "cell_id": "00183-b8e34a3b-c12d-4422-b77d-66f31378df55",
    "deepnote_to_be_reexecuted": true,
    "source_hash": "2b05bc29",
    "deepnote_cell_type": "code"
   },
   "source": "# Create the Label Encoder\nle = LabelEncoder()\n\n# Transform the data\ndf['Fuel_Type'] = le.fit_transform(df['Fuel_Type'])",
   "execution_count": null,
   "outputs": []
  },
  {
   "cell_type": "code",
   "metadata": {
    "cell_id": "00184-5c85042f-f1d5-49d7-a6b0-2aab96b6b97a",
    "deepnote_to_be_reexecuted": true,
    "source_hash": "a78f63ad",
    "deepnote_cell_type": "code"
   },
   "source": "# Define the scaler\nscaler = MinMaxScaler()\n\n# Make a list of the variables we are going to scale\nscaled_var = ['Price','Age_08_04','KM','HP','Doors','Quarterly_Tax','Guarantee_Period','Fuel_Type']\n\nfor col in scaled_var:\n    # Make a name for the scaled variable\n    scaled_var_name = str(col) + '_scaled'\n    # Fit the scaler on the variable\n    scaler.fit(df[[col]])\n    # Transform the variable\n    df[scaled_var_name] = scaler.transform(df[[col]])",
   "execution_count": null,
   "outputs": []
  },
  {
   "cell_type": "code",
   "metadata": {
    "cell_id": "00185-65915fde-0c2c-405a-a488-5a965486aa7c",
    "deepnote_output_heights": [
     213
    ],
    "deepnote_to_be_reexecuted": true,
    "source_hash": "c085b6ba",
    "deepnote_cell_type": "code"
   },
   "source": "df.head()",
   "execution_count": null,
   "outputs": [
    {
     "data": {
      "text/html": "<div>\n<style scoped>\n    .dataframe tbody tr th:only-of-type {\n        vertical-align: middle;\n    }\n\n    .dataframe tbody tr th {\n        vertical-align: top;\n    }\n\n    .dataframe thead th {\n        text-align: right;\n    }\n</style>\n<table border=\"1\" class=\"dataframe\">\n  <thead>\n    <tr style=\"text-align: right;\">\n      <th></th>\n      <th>Price</th>\n      <th>Age_08_04</th>\n      <th>KM</th>\n      <th>Fuel_Type</th>\n      <th>HP</th>\n      <th>Automatic</th>\n      <th>Doors</th>\n      <th>Quarterly_Tax</th>\n      <th>Mfr_Guarantee</th>\n      <th>Guarantee_Period</th>\n      <th>...</th>\n      <th>Sport_Model</th>\n      <th>Tow_Bar</th>\n      <th>Price_scaled</th>\n      <th>Age_08_04_scaled</th>\n      <th>KM_scaled</th>\n      <th>HP_scaled</th>\n      <th>Doors_scaled</th>\n      <th>Quarterly_Tax_scaled</th>\n      <th>Guarantee_Period_scaled</th>\n      <th>Fuel_Type_scaled</th>\n    </tr>\n  </thead>\n  <tbody>\n    <tr>\n      <th>0</th>\n      <td>13500</td>\n      <td>23</td>\n      <td>46986</td>\n      <td>1</td>\n      <td>90</td>\n      <td>0</td>\n      <td>3</td>\n      <td>210</td>\n      <td>0</td>\n      <td>3</td>\n      <td>...</td>\n      <td>0</td>\n      <td>0</td>\n      <td>0.325044</td>\n      <td>0.278481</td>\n      <td>0.193355</td>\n      <td>0.170732</td>\n      <td>0.333333</td>\n      <td>0.723485</td>\n      <td>0.0</td>\n      <td>0.5</td>\n    </tr>\n    <tr>\n      <th>1</th>\n      <td>13750</td>\n      <td>23</td>\n      <td>72937</td>\n      <td>1</td>\n      <td>90</td>\n      <td>0</td>\n      <td>3</td>\n      <td>210</td>\n      <td>0</td>\n      <td>3</td>\n      <td>...</td>\n      <td>0</td>\n      <td>0</td>\n      <td>0.333925</td>\n      <td>0.278481</td>\n      <td>0.300149</td>\n      <td>0.170732</td>\n      <td>0.333333</td>\n      <td>0.723485</td>\n      <td>0.0</td>\n      <td>0.5</td>\n    </tr>\n    <tr>\n      <th>2</th>\n      <td>13950</td>\n      <td>24</td>\n      <td>41711</td>\n      <td>1</td>\n      <td>90</td>\n      <td>0</td>\n      <td>3</td>\n      <td>210</td>\n      <td>1</td>\n      <td>3</td>\n      <td>...</td>\n      <td>0</td>\n      <td>0</td>\n      <td>0.341030</td>\n      <td>0.291139</td>\n      <td>0.171647</td>\n      <td>0.170732</td>\n      <td>0.333333</td>\n      <td>0.723485</td>\n      <td>0.0</td>\n      <td>0.5</td>\n    </tr>\n    <tr>\n      <th>3</th>\n      <td>14950</td>\n      <td>26</td>\n      <td>48000</td>\n      <td>1</td>\n      <td>90</td>\n      <td>0</td>\n      <td>3</td>\n      <td>210</td>\n      <td>1</td>\n      <td>3</td>\n      <td>...</td>\n      <td>0</td>\n      <td>0</td>\n      <td>0.376554</td>\n      <td>0.316456</td>\n      <td>0.197528</td>\n      <td>0.170732</td>\n      <td>0.333333</td>\n      <td>0.723485</td>\n      <td>0.0</td>\n      <td>0.5</td>\n    </tr>\n    <tr>\n      <th>4</th>\n      <td>13750</td>\n      <td>30</td>\n      <td>38500</td>\n      <td>1</td>\n      <td>90</td>\n      <td>0</td>\n      <td>3</td>\n      <td>210</td>\n      <td>1</td>\n      <td>3</td>\n      <td>...</td>\n      <td>0</td>\n      <td>0</td>\n      <td>0.333925</td>\n      <td>0.367089</td>\n      <td>0.158433</td>\n      <td>0.170732</td>\n      <td>0.333333</td>\n      <td>0.723485</td>\n      <td>0.0</td>\n      <td>0.5</td>\n    </tr>\n  </tbody>\n</table>\n<p>5 rows × 24 columns</p>\n</div>",
      "text/plain": "   Price  Age_08_04     KM  Fuel_Type  HP  Automatic  Doors  Quarterly_Tax  \\\n0  13500         23  46986          1  90          0      3            210   \n1  13750         23  72937          1  90          0      3            210   \n2  13950         24  41711          1  90          0      3            210   \n3  14950         26  48000          1  90          0      3            210   \n4  13750         30  38500          1  90          0      3            210   \n\n   Mfr_Guarantee  Guarantee_Period  ...  Sport_Model  Tow_Bar  Price_scaled  \\\n0              0                 3  ...            0        0      0.325044   \n1              0                 3  ...            0        0      0.333925   \n2              1                 3  ...            0        0      0.341030   \n3              1                 3  ...            0        0      0.376554   \n4              1                 3  ...            0        0      0.333925   \n\n   Age_08_04_scaled  KM_scaled  HP_scaled  Doors_scaled  Quarterly_Tax_scaled  \\\n0          0.278481   0.193355   0.170732      0.333333              0.723485   \n1          0.278481   0.300149   0.170732      0.333333              0.723485   \n2          0.291139   0.171647   0.170732      0.333333              0.723485   \n3          0.316456   0.197528   0.170732      0.333333              0.723485   \n4          0.367089   0.158433   0.170732      0.333333              0.723485   \n\n   Guarantee_Period_scaled  Fuel_Type_scaled  \n0                      0.0               0.5  \n1                      0.0               0.5  \n2                      0.0               0.5  \n3                      0.0               0.5  \n4                      0.0               0.5  \n\n[5 rows x 24 columns]"
     },
     "execution_count": 120,
     "metadata": {},
     "output_type": "execute_result"
    }
   ]
  },
  {
   "cell_type": "markdown",
   "source": "When we now look at the data, we can see that all the variables are numeric and between 0 and 1. We will now split in to training and test set, and then build the neural network.",
   "metadata": {
    "cell_id": "00186-cdbd7134-b19e-4e21-85e8-16dbcdeb784d",
    "deepnote_cell_type": "markdown"
   }
  },
  {
   "cell_type": "code",
   "metadata": {
    "cell_id": "00187-f1306d6f-b7ec-4707-b8a0-a846654fdcc7",
    "deepnote_to_be_reexecuted": true,
    "source_hash": "907afe4a",
    "deepnote_cell_type": "code"
   },
   "source": "# Define X and y\nX = df[['Fuel_Type_scaled', 'Automatic', 'Mfr_Guarantee', 'Airco',\n       'Automatic_airco', 'CD_Player', 'Powered_Windows', 'Sport_Model',\n       'Tow_Bar', 'Guarantee_Period_scaled', 'Age_08_04_scaled', 'KM_scaled',\n       'HP_scaled', 'Doors_scaled', 'Quarterly_Tax_scaled']]\ny = df['Price_scaled']\n\n# Split to training and test set\nX_train, X_test, y_train, y_test = train_test_split(X,y, train_size = 0.8)",
   "execution_count": null,
   "outputs": []
  },
  {
   "cell_type": "code",
   "metadata": {
    "cell_id": "00188-0bf0c616-ce91-46fb-8f8f-aefb2f44fec8",
    "deepnote_to_be_reexecuted": true,
    "source_hash": "c276c4ec",
    "deepnote_cell_type": "code"
   },
   "source": "# One-dimentional objects sometimes cause problems (important!), therefore we will convert everything in to dataframes\n\nprint(y_train.shape, type(y_train))\ny_train = pd.DataFrame(y_train)\nprint(y_train.shape, type(y_train))\n\ny_test = pd.DataFrame(y_test)\nX_train = pd.DataFrame(X_train)\nX_test = pd.DataFrame(X_test)",
   "execution_count": null,
   "outputs": [
    {
     "name": "stdout",
     "output_type": "stream",
     "text": "(1148,) <class 'pandas.core.series.Series'>\n(1148, 1) <class 'pandas.core.frame.DataFrame'>\n"
    }
   ]
  },
  {
   "cell_type": "code",
   "metadata": {
    "cell_id": "00189-09ec21e7-7208-4721-adca-d05ec621c9c7",
    "deepnote_to_be_reexecuted": true,
    "source_hash": "b520551f",
    "deepnote_cell_type": "code"
   },
   "source": "# Define the input and output dimension. We do this so we don't have to hard-code it.\nNumVar = X.shape[1]\nNumOut = y_test.shape[1] #Be sure that it is a dataframe, else it won't run",
   "execution_count": null,
   "outputs": []
  },
  {
   "cell_type": "code",
   "metadata": {
    "cell_id": "00190-a65e8d02-17fb-46d1-8e95-3f58aed9cb96",
    "deepnote_to_be_reexecuted": true,
    "source_hash": "66cdf6fb",
    "deepnote_cell_type": "code"
   },
   "source": "# Create the model\n\nmodel = Sequential()\nmodel.add(Dense(2, input_dim = NumVar, activation = 'relu'))\nmodel.add(Dense(12, activation = 'relu'))\nmodel.add(Dense(10, activation = 'relu'))\nmodel.add(Dense(NumOut, activation = 'linear'))\nmodel.summary()",
   "execution_count": null,
   "outputs": [
    {
     "name": "stdout",
     "output_type": "stream",
     "text": "Model: \"sequential\"\n_________________________________________________________________\n Layer (type)                Output Shape              Param #   \n=================================================================\n dense (Dense)               (None, 2)                 32        \n                                                                 \n dense_1 (Dense)             (None, 12)                36        \n                                                                 \n dense_2 (Dense)             (None, 10)                130       \n                                                                 \n dense_3 (Dense)             (None, 1)                 11        \n                                                                 \n=================================================================\nTotal params: 209\nTrainable params: 209\nNon-trainable params: 0\n_________________________________________________________________\n"
    },
    {
     "name": "stderr",
     "output_type": "stream",
     "text": "2021-12-13 08:47:38.885477: I tensorflow/core/platform/cpu_feature_guard.cc:151] This TensorFlow binary is optimized with oneAPI Deep Neural Network Library (oneDNN) to use the following CPU instructions in performance-critical operations:  AVX2 FMA\nTo enable them in other operations, rebuild TensorFlow with the appropriate compiler flags.\n"
    }
   ]
  },
  {
   "cell_type": "code",
   "metadata": {
    "cell_id": "00191-1843fcd7-f54e-4c0f-81c6-3caf3b627d30",
    "deepnote_to_be_reexecuted": true,
    "source_hash": "38358281",
    "deepnote_cell_type": "code"
   },
   "source": "# Make and implement early-stopping \n\nmodel.compile(loss = 'mse', optimizer = 'adam', metrics=['accuracy'])\n\nearly_stop = EarlyStopping(monitor = 'loss', patience = 2, verbose = 1)",
   "execution_count": null,
   "outputs": []
  },
  {
   "cell_type": "code",
   "metadata": {
    "cell_id": "00192-97d0bb95-d005-4761-aa4c-cfbdb4cc87ec",
    "deepnote_to_be_reexecuted": true,
    "source_hash": "50dd900e",
    "deepnote_cell_type": "code"
   },
   "source": "# Fit the model\n\nhistory = model.fit(X_train, y_train,\n                    epochs = 50,\n                    batch_size = 1,\n                    verbose = 1,\n                    callbacks = [early_stop],\n                    shuffle = True) # Try to shuffle, will the model change?",
   "execution_count": null,
   "outputs": [
    {
     "name": "stdout",
     "output_type": "stream",
     "text": "Epoch 1/50\n1148/1148 [==============================] - 1s 637us/step - loss: 0.0147 - accuracy: 8.7108e-04\nEpoch 2/50\n1148/1148 [==============================] - 1s 602us/step - loss: 0.0051 - accuracy: 8.7108e-04\nEpoch 3/50\n1148/1148 [==============================] - 1s 596us/step - loss: 0.0034 - accuracy: 8.7108e-04\nEpoch 4/50\n1148/1148 [==============================] - 1s 595us/step - loss: 0.0026 - accuracy: 8.7108e-04\nEpoch 5/50\n1148/1148 [==============================] - 1s 602us/step - loss: 0.0021 - accuracy: 8.7108e-04\nEpoch 6/50\n1148/1148 [==============================] - 1s 595us/step - loss: 0.0020 - accuracy: 8.7108e-04\nEpoch 7/50\n1148/1148 [==============================] - 1s 605us/step - loss: 0.0019 - accuracy: 8.7108e-04\nEpoch 8/50\n1148/1148 [==============================] - 1s 592us/step - loss: 0.0018 - accuracy: 8.7108e-04\nEpoch 9/50\n1148/1148 [==============================] - 1s 598us/step - loss: 0.0018 - accuracy: 8.7108e-04\nEpoch 10/50\n1148/1148 [==============================] - 1s 633us/step - loss: 0.0017 - accuracy: 8.7108e-04\nEpoch 11/50\n1148/1148 [==============================] - 1s 599us/step - loss: 0.0017 - accuracy: 8.7108e-04\nEpoch 12/50\n1148/1148 [==============================] - 1s 595us/step - loss: 0.0017 - accuracy: 8.7108e-04\nEpoch 13/50\n1148/1148 [==============================] - 1s 598us/step - loss: 0.0017 - accuracy: 8.7108e-04\nEpoch 14/50\n1148/1148 [==============================] - 1s 595us/step - loss: 0.0016 - accuracy: 8.7108e-04\nEpoch 15/50\n1148/1148 [==============================] - 1s 594us/step - loss: 0.0016 - accuracy: 8.7108e-04\nEpoch 16/50\n1148/1148 [==============================] - 1s 588us/step - loss: 0.0016 - accuracy: 8.7108e-04\nEpoch 17/50\n1148/1148 [==============================] - 1s 606us/step - loss: 0.0016 - accuracy: 8.7108e-04\nEpoch 00017: early stopping\n"
    }
   ]
  },
  {
   "cell_type": "markdown",
   "source": "We have now built a neural network and trained it on the training data. Let's see how well it performed",
   "metadata": {
    "cell_id": "00193-8067c7b1-838a-4343-aa0f-666028e0d072",
    "deepnote_cell_type": "markdown"
   }
  },
  {
   "cell_type": "code",
   "metadata": {
    "cell_id": "00194-dcb183e5-630c-48b8-aac5-d3b5b69c5969",
    "deepnote_to_be_reexecuted": true,
    "source_hash": "6c991db0",
    "deepnote_cell_type": "code"
   },
   "source": "# Make predictions\ny_train_pred = (model.predict(X_train))\ny_test_pred = (model.predict(X_test))\n\n# Add the predictions to the observed values\ny_train[\"Pred\"] = y_train_pred\ny_test['Pred'] = y_test_pred\n\n# Print the r2 score\nprint(f'The r2 score of the training set is: {r2_score(y_train[\"Price_scaled\"], y_train[\"Pred\"])*100:.4f}%')\nprint(f'The r2 score of the test set is: {r2_score(y_test[\"Price_scaled\"], y_test[\"Pred\"])*100:.4f}%')",
   "execution_count": null,
   "outputs": [
    {
     "name": "stdout",
     "output_type": "stream",
     "text": "The r2 score of the training set is: 90.0714%\nThe r2 score of the test set is: 89.6949%\n"
    }
   ]
  },
  {
   "cell_type": "markdown",
   "source": "We will now invert the scaled variables back to its original value. This is done to illustrate the errors a bit better",
   "metadata": {
    "cell_id": "00195-f66aae98-2ee9-4b58-9a6b-48f776597486",
    "deepnote_cell_type": "markdown"
   }
  },
  {
   "cell_type": "code",
   "metadata": {
    "cell_id": "00196-fbc77e51-03d0-4746-89b1-5ed666859047",
    "deepnote_to_be_reexecuted": true,
    "source_hash": "cc8e0952",
    "deepnote_cell_type": "code"
   },
   "source": "# Invert the price and predicted price in y_train\nfor col in y_test.columns:\n    scaler.fit(df[['Price']])\n    y_test[col] = scaler.inverse_transform(y_test[[col]])\n    \n# Invert the scaled variables in X_train just in case    \nscaled_var2 = ['Guarantee_Period_scaled', 'Age_08_04_scaled', 'KM_scaled', 'HP_scaled','Doors_scaled', 'Quarterly_Tax_scaled','Fuel_Type_scaled']\n    \nfor col in scaled_var2:\n    scaler.fit(df[[col[:-7]]])\n    X_test[col] = scaler.inverse_transform(X_test[[col]])",
   "execution_count": null,
   "outputs": []
  },
  {
   "cell_type": "code",
   "metadata": {
    "cell_id": "00197-2cb51fac-bb82-4e8c-bc0a-16bf276e6170",
    "deepnote_to_be_reexecuted": true,
    "source_hash": "8c2e3b6d",
    "deepnote_cell_type": "code"
   },
   "source": "# Add the error-column to the test set\ny_test['Error'] = abs(y_test['Price_scaled']-y_test['Pred'])\n\n# Add a percentage error-column to the test set\ny_test['Error_per'] = abs(y_test['Error']/y_test['Price_scaled'])",
   "execution_count": null,
   "outputs": []
  },
  {
   "cell_type": "code",
   "metadata": {
    "cell_id": "00198-50f73f46-a377-48c4-8b90-1b8b59d5cc93",
    "deepnote_to_be_reexecuted": true,
    "source_hash": "3a22b28a",
    "deepnote_cell_type": "code"
   },
   "source": "y_test = y_test.round(decimals=2)\nmean = y_test['Error'].mean().round(decimals=2)\nmean_per = (y_test['Error_per'].mean()*100).round(decimals=2)\nmax_error = y_test['Error'].max().round(decimals=2)\n\nprint(f\"The mean errors is: {mean}, which is {mean_per}%\")\n#print(f\"The mean error is: {(y_test['Error_per'].mean()*100).round(decimals=2)}%\")\nprint(f\"The maximum error is: {max_error}\")",
   "execution_count": null,
   "outputs": [
    {
     "name": "stdout",
     "output_type": "stream",
     "text": "The mean errors is: 905.65, which is 8.32%\nThe maximum error is: 7954.81\n"
    }
   ]
  },
  {
   "cell_type": "code",
   "metadata": {
    "cell_id": "00199-e9988e77-6c9f-4eec-b6ee-d1af739b7ed1",
    "deepnote_output_heights": [
     250,
     223
    ],
    "deepnote_to_be_reexecuted": true,
    "source_hash": "b4ebf883",
    "deepnote_cell_type": "code"
   },
   "source": "plt.scatter(y_test['Price_scaled'],y_test['Error'],s=10, alpha=0.8, color='red')\ny_test[['Error','Error_per']].hist(bins=100, figsize=(17,4))\n\nplt.show()",
   "execution_count": null,
   "outputs": [
    {
     "data": {
      "image/png": "[encoded data removed]",
      "text/plain": "<Figure size 432x288 with 1 Axes>"
     },
     "metadata": {
      "needs_background": "light",
      "image/png": {
       "width": 381,
       "height": 248
      }
     },
     "output_type": "display_data"
    },
    {
     "data": {
      "image/png": "[encoded data removed]",
      "text/plain": "<Figure size 1224x288 with 2 Axes>"
     },
     "metadata": {
      "needs_background": "light",
      "image/png": {
       "width": 992,
       "height": 264
      }
     },
     "output_type": "display_data"
    }
   ]
  },
  {
   "cell_type": "markdown",
   "source": "As we can see, the model is quite good, with an avarage error of around 10% (will change for each time you run the jupyter file). ",
   "metadata": {
    "cell_id": "00200-f5863790-c7ca-4350-bf52-7310d3f41bbd",
    "deepnote_cell_type": "markdown"
   }
  },
  {
   "cell_type": "markdown",
   "source": "#### Classification (Binary) <a id = classificationBin>",
   "metadata": {
    "cell_id": "00201-e06e3d76-4748-44c9-ac6f-d5dc759ce1d8",
    "deepnote_cell_type": "markdown"
   }
  },
  {
   "cell_type": "markdown",
   "source": "Activation function: `sigmoid`, loss: `binary_crossentropy`. The example which will be used here is from exercise 10: Classification: Credit Card Default",
   "metadata": {
    "cell_id": "00202-c03ffc83-1b5d-430f-b2f1-5ca9b3d52afe",
    "deepnote_cell_type": "markdown"
   }
  },
  {
   "cell_type": "markdown",
   "source": "<b> From the description of Exercise 10:</b>                                                                      \nThe goal of this exercise is to predict whether a customer defaults on his /her credit card.\nThe data is taken from https://archive.ics.uci.edu/ml/datasets/default+of+credit+card+clients\n\nThe output variable is a binary variable for default payment (Yes = 1, No = 0)\n\nThe input variables are the following:\n\n1. Amount of the given credit (NT dollar): it includes both the individual consumer credit and his/her family (supplementary) credit.\n2. Gender (1 = male; 2 = female).\n3. Education (1 = graduate school; 2 = university; 3 = high school; 4 = others).\n4. Marital status (1 = married; 2 = single; 3 = others).\n5. Age (year).\n6. the repayment status in September, 2005\n7. the repayment status in August, 2005\n8. the repayment status in July, 2005\n9. the repayment status in June, 2005\n10. the repayment status in May, 2005\n11. the repayment status in April, 2005\n12. amount of bill statement in September, 2005\n13. amount of bill statement in August, 2005\n14. amount of bill statement in July, 2005\n15. amount of bill statement in June, 2005\n16. amount of bill statement in May, 2005\n17. amount of bill statement in April, 2005\n18. amount paid in September, 2005\n19. amount paid in August, 2005\n20. amount paid in July, 2005\n21. amount paid in June, 2005\n22. amount paid in May, 2005\n23. amount paid in April, 2005.\n\nThe measurement scale for the repayment status is: -1 = pay duly; 1 = payment delay for one month; 2 = payment delay for two months; . . .; 8 = payment delay for eight months; 9 = payment delay for nine months and above.",
   "metadata": {
    "cell_id": "00203-508809ce-f385-4da9-888c-50d7087d4902",
    "deepnote_cell_type": "markdown"
   }
  },
  {
   "cell_type": "code",
   "metadata": {
    "cell_id": "00204-6b54b4d8-2632-473c-9a07-125066157be0",
    "deepnote_output_heights": [
     null,
     242
    ],
    "deepnote_to_be_reexecuted": true,
    "source_hash": "a7c70083",
    "deepnote_cell_type": "code"
   },
   "source": "# Import the data and take a look at it\ndf = pd.read_csv(\"Default.csv\", delimiter=';', header=1, index_col='ID')\nprint(df.shape)\ndf.head()",
   "execution_count": null,
   "outputs": [
    {
     "name": "stdout",
     "output_type": "stream",
     "text": "(30000, 24)\n"
    },
    {
     "data": {
      "text/html": "<div>\n<style scoped>\n    .dataframe tbody tr th:only-of-type {\n        vertical-align: middle;\n    }\n\n    .dataframe tbody tr th {\n        vertical-align: top;\n    }\n\n    .dataframe thead th {\n        text-align: right;\n    }\n</style>\n<table border=\"1\" class=\"dataframe\">\n  <thead>\n    <tr style=\"text-align: right;\">\n      <th></th>\n      <th>LIMIT_BAL</th>\n      <th>SEX</th>\n      <th>EDUCATION</th>\n      <th>MARRIAGE</th>\n      <th>AGE</th>\n      <th>PAY_0</th>\n      <th>PAY_2</th>\n      <th>PAY_3</th>\n      <th>PAY_4</th>\n      <th>PAY_5</th>\n      <th>...</th>\n      <th>BILL_AMT4</th>\n      <th>BILL_AMT5</th>\n      <th>BILL_AMT6</th>\n      <th>PAY_AMT1</th>\n      <th>PAY_AMT2</th>\n      <th>PAY_AMT3</th>\n      <th>PAY_AMT4</th>\n      <th>PAY_AMT5</th>\n      <th>PAY_AMT6</th>\n      <th>default payment next month</th>\n    </tr>\n    <tr>\n      <th>ID</th>\n      <th></th>\n      <th></th>\n      <th></th>\n      <th></th>\n      <th></th>\n      <th></th>\n      <th></th>\n      <th></th>\n      <th></th>\n      <th></th>\n      <th></th>\n      <th></th>\n      <th></th>\n      <th></th>\n      <th></th>\n      <th></th>\n      <th></th>\n      <th></th>\n      <th></th>\n      <th></th>\n      <th></th>\n    </tr>\n  </thead>\n  <tbody>\n    <tr>\n      <th>1</th>\n      <td>20000</td>\n      <td>2</td>\n      <td>2</td>\n      <td>1</td>\n      <td>24</td>\n      <td>2</td>\n      <td>2</td>\n      <td>-1</td>\n      <td>-1</td>\n      <td>-2</td>\n      <td>...</td>\n      <td>0</td>\n      <td>0</td>\n      <td>0</td>\n      <td>0</td>\n      <td>689</td>\n      <td>0</td>\n      <td>0</td>\n      <td>0</td>\n      <td>0</td>\n      <td>1</td>\n    </tr>\n    <tr>\n      <th>2</th>\n      <td>120000</td>\n      <td>2</td>\n      <td>2</td>\n      <td>2</td>\n      <td>26</td>\n      <td>-1</td>\n      <td>2</td>\n      <td>0</td>\n      <td>0</td>\n      <td>0</td>\n      <td>...</td>\n      <td>3272</td>\n      <td>3455</td>\n      <td>3261</td>\n      <td>0</td>\n      <td>1000</td>\n      <td>1000</td>\n      <td>1000</td>\n      <td>0</td>\n      <td>2000</td>\n      <td>1</td>\n    </tr>\n    <tr>\n      <th>3</th>\n      <td>90000</td>\n      <td>2</td>\n      <td>2</td>\n      <td>2</td>\n      <td>34</td>\n      <td>0</td>\n      <td>0</td>\n      <td>0</td>\n      <td>0</td>\n      <td>0</td>\n      <td>...</td>\n      <td>14331</td>\n      <td>14948</td>\n      <td>15549</td>\n      <td>1518</td>\n      <td>1500</td>\n      <td>1000</td>\n      <td>1000</td>\n      <td>1000</td>\n      <td>5000</td>\n      <td>0</td>\n    </tr>\n    <tr>\n      <th>4</th>\n      <td>50000</td>\n      <td>2</td>\n      <td>2</td>\n      <td>1</td>\n      <td>37</td>\n      <td>0</td>\n      <td>0</td>\n      <td>0</td>\n      <td>0</td>\n      <td>0</td>\n      <td>...</td>\n      <td>28314</td>\n      <td>28959</td>\n      <td>29547</td>\n      <td>2000</td>\n      <td>2019</td>\n      <td>1200</td>\n      <td>1100</td>\n      <td>1069</td>\n      <td>1000</td>\n      <td>0</td>\n    </tr>\n    <tr>\n      <th>5</th>\n      <td>50000</td>\n      <td>1</td>\n      <td>2</td>\n      <td>1</td>\n      <td>57</td>\n      <td>-1</td>\n      <td>0</td>\n      <td>-1</td>\n      <td>0</td>\n      <td>0</td>\n      <td>...</td>\n      <td>20940</td>\n      <td>19146</td>\n      <td>19131</td>\n      <td>2000</td>\n      <td>36681</td>\n      <td>10000</td>\n      <td>9000</td>\n      <td>689</td>\n      <td>679</td>\n      <td>0</td>\n    </tr>\n  </tbody>\n</table>\n<p>5 rows × 24 columns</p>\n</div>",
      "text/plain": "    LIMIT_BAL  SEX  EDUCATION  MARRIAGE  AGE  PAY_0  PAY_2  PAY_3  PAY_4  \\\nID                                                                         \n1       20000    2          2         1   24      2      2     -1     -1   \n2      120000    2          2         2   26     -1      2      0      0   \n3       90000    2          2         2   34      0      0      0      0   \n4       50000    2          2         1   37      0      0      0      0   \n5       50000    1          2         1   57     -1      0     -1      0   \n\n    PAY_5  ...  BILL_AMT4  BILL_AMT5  BILL_AMT6  PAY_AMT1  PAY_AMT2  PAY_AMT3  \\\nID         ...                                                                  \n1      -2  ...          0          0          0         0       689         0   \n2       0  ...       3272       3455       3261         0      1000      1000   \n3       0  ...      14331      14948      15549      1518      1500      1000   \n4       0  ...      28314      28959      29547      2000      2019      1200   \n5       0  ...      20940      19146      19131      2000     36681     10000   \n\n    PAY_AMT4  PAY_AMT5  PAY_AMT6  default payment next month  \nID                                                            \n1          0         0         0                           1  \n2       1000         0      2000                           1  \n3       1000      1000      5000                           0  \n4       1100      1069      1000                           0  \n5       9000       689       679                           0  \n\n[5 rows x 24 columns]"
     },
     "execution_count": 132,
     "metadata": {},
     "output_type": "execute_result"
    }
   ]
  },
  {
   "cell_type": "markdown",
   "source": "Let's first check for null-values, then transform *gender*, *education*, *marital status*, and *repayment status* into dummy variables.",
   "metadata": {
    "cell_id": "00205-55144388-45ff-4d01-9c0c-dd8032b7e430",
    "deepnote_cell_type": "markdown"
   }
  },
  {
   "cell_type": "code",
   "metadata": {
    "cell_id": "00206-c0568c76-43f3-4c0a-8379-b4871dc24b5f",
    "deepnote_to_be_reexecuted": true,
    "source_hash": "7b71126a",
    "deepnote_cell_type": "code"
   },
   "source": "# Check for null-values\n#df.isnull().sum()",
   "execution_count": null,
   "outputs": []
  },
  {
   "cell_type": "code",
   "metadata": {
    "cell_id": "00207-1f67219c-1fe0-410e-9852-69fd6c624f76",
    "deepnote_to_be_reexecuted": true,
    "source_hash": "9cf15ca5",
    "deepnote_cell_type": "code"
   },
   "source": "# Nice, no null values. We continue with making dummy variables for some of the variables\ndf_dummy_var = pd.get_dummies(df_dummy_var)\ndummy_var_list = ['SEX','EDUCATION','MARRIAGE','PAY_0', 'PAY_2', 'PAY_3', 'PAY_4', 'PAY_5', 'PAY_6']\n\ndum = 0\n\nfor col in dummy_var_list:\n    dum += len(df[col].unique())\n    df[col].value_counts\n    df_dummy = pd.get_dummies(df[[col]].astype(str))\n    df = pd.concat([df,df_dummy],axis=1)",
   "execution_count": null,
   "outputs": []
  },
  {
   "cell_type": "code",
   "metadata": {
    "cell_id": "00208-109ae2fd-24e5-44b2-9658-a5fc60ee30b3",
    "deepnote_output_heights": [
     242
    ],
    "deepnote_to_be_reexecuted": true,
    "source_hash": "c085b6ba",
    "deepnote_cell_type": "code"
   },
   "source": "df.head()",
   "execution_count": null,
   "outputs": [
    {
     "data": {
      "text/html": "<div>\n<style scoped>\n    .dataframe tbody tr th:only-of-type {\n        vertical-align: middle;\n    }\n\n    .dataframe tbody tr th {\n        vertical-align: top;\n    }\n\n    .dataframe thead th {\n        text-align: right;\n    }\n</style>\n<table border=\"1\" class=\"dataframe\">\n  <thead>\n    <tr style=\"text-align: right;\">\n      <th></th>\n      <th>LIMIT_BAL</th>\n      <th>SEX</th>\n      <th>EDUCATION</th>\n      <th>MARRIAGE</th>\n      <th>AGE</th>\n      <th>PAY_0</th>\n      <th>PAY_2</th>\n      <th>PAY_3</th>\n      <th>PAY_4</th>\n      <th>PAY_5</th>\n      <th>...</th>\n      <th>PAY_6_-1</th>\n      <th>PAY_6_-2</th>\n      <th>PAY_6_0</th>\n      <th>PAY_6_2</th>\n      <th>PAY_6_3</th>\n      <th>PAY_6_4</th>\n      <th>PAY_6_5</th>\n      <th>PAY_6_6</th>\n      <th>PAY_6_7</th>\n      <th>PAY_6_8</th>\n    </tr>\n    <tr>\n      <th>ID</th>\n      <th></th>\n      <th></th>\n      <th></th>\n      <th></th>\n      <th></th>\n      <th></th>\n      <th></th>\n      <th></th>\n      <th></th>\n      <th></th>\n      <th></th>\n      <th></th>\n      <th></th>\n      <th></th>\n      <th></th>\n      <th></th>\n      <th></th>\n      <th></th>\n      <th></th>\n      <th></th>\n      <th></th>\n    </tr>\n  </thead>\n  <tbody>\n    <tr>\n      <th>1</th>\n      <td>20000</td>\n      <td>2</td>\n      <td>2</td>\n      <td>1</td>\n      <td>24</td>\n      <td>2</td>\n      <td>2</td>\n      <td>-1</td>\n      <td>-1</td>\n      <td>-2</td>\n      <td>...</td>\n      <td>0</td>\n      <td>1</td>\n      <td>0</td>\n      <td>0</td>\n      <td>0</td>\n      <td>0</td>\n      <td>0</td>\n      <td>0</td>\n      <td>0</td>\n      <td>0</td>\n    </tr>\n    <tr>\n      <th>2</th>\n      <td>120000</td>\n      <td>2</td>\n      <td>2</td>\n      <td>2</td>\n      <td>26</td>\n      <td>-1</td>\n      <td>2</td>\n      <td>0</td>\n      <td>0</td>\n      <td>0</td>\n      <td>...</td>\n      <td>0</td>\n      <td>0</td>\n      <td>0</td>\n      <td>1</td>\n      <td>0</td>\n      <td>0</td>\n      <td>0</td>\n      <td>0</td>\n      <td>0</td>\n      <td>0</td>\n    </tr>\n    <tr>\n      <th>3</th>\n      <td>90000</td>\n      <td>2</td>\n      <td>2</td>\n      <td>2</td>\n      <td>34</td>\n      <td>0</td>\n      <td>0</td>\n      <td>0</td>\n      <td>0</td>\n      <td>0</td>\n      <td>...</td>\n      <td>0</td>\n      <td>0</td>\n      <td>1</td>\n      <td>0</td>\n      <td>0</td>\n      <td>0</td>\n      <td>0</td>\n      <td>0</td>\n      <td>0</td>\n      <td>0</td>\n    </tr>\n    <tr>\n      <th>4</th>\n      <td>50000</td>\n      <td>2</td>\n      <td>2</td>\n      <td>1</td>\n      <td>37</td>\n      <td>0</td>\n      <td>0</td>\n      <td>0</td>\n      <td>0</td>\n      <td>0</td>\n      <td>...</td>\n      <td>0</td>\n      <td>0</td>\n      <td>1</td>\n      <td>0</td>\n      <td>0</td>\n      <td>0</td>\n      <td>0</td>\n      <td>0</td>\n      <td>0</td>\n      <td>0</td>\n    </tr>\n    <tr>\n      <th>5</th>\n      <td>50000</td>\n      <td>1</td>\n      <td>2</td>\n      <td>1</td>\n      <td>57</td>\n      <td>-1</td>\n      <td>0</td>\n      <td>-1</td>\n      <td>0</td>\n      <td>0</td>\n      <td>...</td>\n      <td>0</td>\n      <td>0</td>\n      <td>1</td>\n      <td>0</td>\n      <td>0</td>\n      <td>0</td>\n      <td>0</td>\n      <td>0</td>\n      <td>0</td>\n      <td>0</td>\n    </tr>\n  </tbody>\n</table>\n<p>5 rows × 101 columns</p>\n</div>",
      "text/plain": "    LIMIT_BAL  SEX  EDUCATION  MARRIAGE  AGE  PAY_0  PAY_2  PAY_3  PAY_4  \\\nID                                                                         \n1       20000    2          2         1   24      2      2     -1     -1   \n2      120000    2          2         2   26     -1      2      0      0   \n3       90000    2          2         2   34      0      0      0      0   \n4       50000    2          2         1   37      0      0      0      0   \n5       50000    1          2         1   57     -1      0     -1      0   \n\n    PAY_5  ...  PAY_6_-1  PAY_6_-2  PAY_6_0  PAY_6_2  PAY_6_3  PAY_6_4  \\\nID         ...                                                           \n1      -2  ...         0         1        0        0        0        0   \n2       0  ...         0         0        0        1        0        0   \n3       0  ...         0         0        1        0        0        0   \n4       0  ...         0         0        1        0        0        0   \n5       0  ...         0         0        1        0        0        0   \n\n    PAY_6_5  PAY_6_6  PAY_6_7  PAY_6_8  \nID                                      \n1         0        0        0        0  \n2         0        0        0        0  \n3         0        0        0        0  \n4         0        0        0        0  \n5         0        0        0        0  \n\n[5 rows x 101 columns]"
     },
     "execution_count": 135,
     "metadata": {},
     "output_type": "execute_result"
    }
   ]
  },
  {
   "cell_type": "markdown",
   "source": "That was a bit messy, but now we hade made the dummy-variables we need. Now we will scale the data using a MinMaxScaler",
   "metadata": {
    "cell_id": "00209-eba11058-ee10-45cf-a7ae-430e0bd7d878",
    "deepnote_cell_type": "markdown"
   }
  },
  {
   "cell_type": "code",
   "metadata": {
    "cell_id": "00210-01685027-4856-458b-8089-a1cf54c350f7",
    "deepnote_to_be_reexecuted": true,
    "source_hash": "76cd0b31",
    "deepnote_cell_type": "code"
   },
   "source": "# Define the scaler\nscaler = MinMaxScaler()\n\n# Make a list of the variables we are going to scale\nscaled_var = ['LIMIT_BAL', 'AGE', 'BILL_AMT1', 'BILL_AMT2', 'BILL_AMT3', 'BILL_AMT4', 'BILL_AMT5', 'BILL_AMT6', 'PAY_AMT1',\n               'PAY_AMT2', 'PAY_AMT3', 'PAY_AMT4', 'PAY_AMT5', 'PAY_AMT6']\n\n# To have a df with the original values, we make a copy\ndf_original = df.copy()\n\nfor col in scaled_var:\n    # Fit the scaler on the variable\n    scaler.fit(df[[col]])\n    \n    # Transform the variable\n    df[col] = scaler.transform(df[[col]])",
   "execution_count": null,
   "outputs": []
  },
  {
   "cell_type": "code",
   "metadata": {
    "cell_id": "00211-03910ea7-b4db-44ab-bc79-f77e218d5b35",
    "deepnote_output_heights": [
     329
    ],
    "deepnote_to_be_reexecuted": true,
    "source_hash": "ce157042",
    "deepnote_cell_type": "code"
   },
   "source": "df.head(8)",
   "execution_count": null,
   "outputs": [
    {
     "data": {
      "text/html": "<div>\n<style scoped>\n    .dataframe tbody tr th:only-of-type {\n        vertical-align: middle;\n    }\n\n    .dataframe tbody tr th {\n        vertical-align: top;\n    }\n\n    .dataframe thead th {\n        text-align: right;\n    }\n</style>\n<table border=\"1\" class=\"dataframe\">\n  <thead>\n    <tr style=\"text-align: right;\">\n      <th></th>\n      <th>LIMIT_BAL</th>\n      <th>SEX</th>\n      <th>EDUCATION</th>\n      <th>MARRIAGE</th>\n      <th>AGE</th>\n      <th>PAY_0</th>\n      <th>PAY_2</th>\n      <th>PAY_3</th>\n      <th>PAY_4</th>\n      <th>PAY_5</th>\n      <th>...</th>\n      <th>PAY_6_-1</th>\n      <th>PAY_6_-2</th>\n      <th>PAY_6_0</th>\n      <th>PAY_6_2</th>\n      <th>PAY_6_3</th>\n      <th>PAY_6_4</th>\n      <th>PAY_6_5</th>\n      <th>PAY_6_6</th>\n      <th>PAY_6_7</th>\n      <th>PAY_6_8</th>\n    </tr>\n    <tr>\n      <th>ID</th>\n      <th></th>\n      <th></th>\n      <th></th>\n      <th></th>\n      <th></th>\n      <th></th>\n      <th></th>\n      <th></th>\n      <th></th>\n      <th></th>\n      <th></th>\n      <th></th>\n      <th></th>\n      <th></th>\n      <th></th>\n      <th></th>\n      <th></th>\n      <th></th>\n      <th></th>\n      <th></th>\n      <th></th>\n    </tr>\n  </thead>\n  <tbody>\n    <tr>\n      <th>1</th>\n      <td>0.010101</td>\n      <td>2</td>\n      <td>2</td>\n      <td>1</td>\n      <td>0.051724</td>\n      <td>2</td>\n      <td>2</td>\n      <td>-1</td>\n      <td>-1</td>\n      <td>-2</td>\n      <td>...</td>\n      <td>0</td>\n      <td>1</td>\n      <td>0</td>\n      <td>0</td>\n      <td>0</td>\n      <td>0</td>\n      <td>0</td>\n      <td>0</td>\n      <td>0</td>\n      <td>0</td>\n    </tr>\n    <tr>\n      <th>2</th>\n      <td>0.111111</td>\n      <td>2</td>\n      <td>2</td>\n      <td>2</td>\n      <td>0.086207</td>\n      <td>-1</td>\n      <td>2</td>\n      <td>0</td>\n      <td>0</td>\n      <td>0</td>\n      <td>...</td>\n      <td>0</td>\n      <td>0</td>\n      <td>0</td>\n      <td>1</td>\n      <td>0</td>\n      <td>0</td>\n      <td>0</td>\n      <td>0</td>\n      <td>0</td>\n      <td>0</td>\n    </tr>\n    <tr>\n      <th>3</th>\n      <td>0.080808</td>\n      <td>2</td>\n      <td>2</td>\n      <td>2</td>\n      <td>0.224138</td>\n      <td>0</td>\n      <td>0</td>\n      <td>0</td>\n      <td>0</td>\n      <td>0</td>\n      <td>...</td>\n      <td>0</td>\n      <td>0</td>\n      <td>1</td>\n      <td>0</td>\n      <td>0</td>\n      <td>0</td>\n      <td>0</td>\n      <td>0</td>\n      <td>0</td>\n      <td>0</td>\n    </tr>\n    <tr>\n      <th>4</th>\n      <td>0.040404</td>\n      <td>2</td>\n      <td>2</td>\n      <td>1</td>\n      <td>0.275862</td>\n      <td>0</td>\n      <td>0</td>\n      <td>0</td>\n      <td>0</td>\n      <td>0</td>\n      <td>...</td>\n      <td>0</td>\n      <td>0</td>\n      <td>1</td>\n      <td>0</td>\n      <td>0</td>\n      <td>0</td>\n      <td>0</td>\n      <td>0</td>\n      <td>0</td>\n      <td>0</td>\n    </tr>\n    <tr>\n      <th>5</th>\n      <td>0.040404</td>\n      <td>1</td>\n      <td>2</td>\n      <td>1</td>\n      <td>0.620690</td>\n      <td>-1</td>\n      <td>0</td>\n      <td>-1</td>\n      <td>0</td>\n      <td>0</td>\n      <td>...</td>\n      <td>0</td>\n      <td>0</td>\n      <td>1</td>\n      <td>0</td>\n      <td>0</td>\n      <td>0</td>\n      <td>0</td>\n      <td>0</td>\n      <td>0</td>\n      <td>0</td>\n    </tr>\n    <tr>\n      <th>6</th>\n      <td>0.040404</td>\n      <td>1</td>\n      <td>1</td>\n      <td>2</td>\n      <td>0.275862</td>\n      <td>0</td>\n      <td>0</td>\n      <td>0</td>\n      <td>0</td>\n      <td>0</td>\n      <td>...</td>\n      <td>0</td>\n      <td>0</td>\n      <td>1</td>\n      <td>0</td>\n      <td>0</td>\n      <td>0</td>\n      <td>0</td>\n      <td>0</td>\n      <td>0</td>\n      <td>0</td>\n    </tr>\n    <tr>\n      <th>7</th>\n      <td>0.494949</td>\n      <td>1</td>\n      <td>1</td>\n      <td>2</td>\n      <td>0.137931</td>\n      <td>0</td>\n      <td>0</td>\n      <td>0</td>\n      <td>0</td>\n      <td>0</td>\n      <td>...</td>\n      <td>0</td>\n      <td>0</td>\n      <td>1</td>\n      <td>0</td>\n      <td>0</td>\n      <td>0</td>\n      <td>0</td>\n      <td>0</td>\n      <td>0</td>\n      <td>0</td>\n    </tr>\n    <tr>\n      <th>8</th>\n      <td>0.090909</td>\n      <td>2</td>\n      <td>2</td>\n      <td>2</td>\n      <td>0.034483</td>\n      <td>0</td>\n      <td>-1</td>\n      <td>-1</td>\n      <td>0</td>\n      <td>0</td>\n      <td>...</td>\n      <td>1</td>\n      <td>0</td>\n      <td>0</td>\n      <td>0</td>\n      <td>0</td>\n      <td>0</td>\n      <td>0</td>\n      <td>0</td>\n      <td>0</td>\n      <td>0</td>\n    </tr>\n  </tbody>\n</table>\n<p>8 rows × 101 columns</p>\n</div>",
      "text/plain": "    LIMIT_BAL  SEX  EDUCATION  MARRIAGE       AGE  PAY_0  PAY_2  PAY_3  PAY_4  \\\nID                                                                              \n1    0.010101    2          2         1  0.051724      2      2     -1     -1   \n2    0.111111    2          2         2  0.086207     -1      2      0      0   \n3    0.080808    2          2         2  0.224138      0      0      0      0   \n4    0.040404    2          2         1  0.275862      0      0      0      0   \n5    0.040404    1          2         1  0.620690     -1      0     -1      0   \n6    0.040404    1          1         2  0.275862      0      0      0      0   \n7    0.494949    1          1         2  0.137931      0      0      0      0   \n8    0.090909    2          2         2  0.034483      0     -1     -1      0   \n\n    PAY_5  ...  PAY_6_-1  PAY_6_-2  PAY_6_0  PAY_6_2  PAY_6_3  PAY_6_4  \\\nID         ...                                                           \n1      -2  ...         0         1        0        0        0        0   \n2       0  ...         0         0        0        1        0        0   \n3       0  ...         0         0        1        0        0        0   \n4       0  ...         0         0        1        0        0        0   \n5       0  ...         0         0        1        0        0        0   \n6       0  ...         0         0        1        0        0        0   \n7       0  ...         0         0        1        0        0        0   \n8       0  ...         1         0        0        0        0        0   \n\n    PAY_6_5  PAY_6_6  PAY_6_7  PAY_6_8  \nID                                      \n1         0        0        0        0  \n2         0        0        0        0  \n3         0        0        0        0  \n4         0        0        0        0  \n5         0        0        0        0  \n6         0        0        0        0  \n7         0        0        0        0  \n8         0        0        0        0  \n\n[8 rows x 101 columns]"
     },
     "execution_count": 137,
     "metadata": {},
     "output_type": "execute_result"
    }
   ]
  },
  {
   "cell_type": "markdown",
   "source": "Now we have succeded with scaling the data, so the next thing is to split the data in to training and test set, and then make the model and train it.",
   "metadata": {
    "cell_id": "00212-412e9281-ce1c-4282-a403-d8ae771a507a",
    "deepnote_cell_type": "markdown"
   }
  },
  {
   "cell_type": "code",
   "metadata": {
    "cell_id": "00213-05b8e366-7f19-4489-8ab5-ac3bc1838d2e",
    "deepnote_to_be_reexecuted": true,
    "source_hash": "6b0a2a1e",
    "deepnote_cell_type": "code"
   },
   "source": "# Define X and y\nX = df.drop(['SEX','EDUCATION','MARRIAGE','PAY_0', 'PAY_2', 'PAY_3', 'PAY_4', 'PAY_5', 'PAY_6','default payment next month'],axis=1)\ny = df['default payment next month']\n\n# Split to training and test set\nX_train, X_test, y_train, y_test = train_test_split(X,y, train_size = 0.8)",
   "execution_count": null,
   "outputs": []
  },
  {
   "cell_type": "code",
   "metadata": {
    "cell_id": "00214-da535322-da37-4fd0-aa46-eaa1d88f1994",
    "deepnote_to_be_reexecuted": true,
    "source_hash": "c276c4ec",
    "deepnote_cell_type": "code"
   },
   "source": "# One-dimentional objects sometimes cause problems (important!), therefore we will convert everything in to dataframes\n\nprint(y_train.shape, type(y_train))\ny_train = pd.DataFrame(y_train)\nprint(y_train.shape, type(y_train))\n\ny_test = pd.DataFrame(y_test)\nX_train = pd.DataFrame(X_train)\nX_test = pd.DataFrame(X_test)",
   "execution_count": null,
   "outputs": [
    {
     "name": "stdout",
     "output_type": "stream",
     "text": "(24000,) <class 'pandas.core.series.Series'>\n(24000, 1) <class 'pandas.core.frame.DataFrame'>\n"
    }
   ]
  },
  {
   "cell_type": "code",
   "metadata": {
    "cell_id": "00215-7dbd09c6-43a7-4be6-9cec-895e4f5a27ab",
    "deepnote_to_be_reexecuted": true,
    "source_hash": "614867ac",
    "deepnote_cell_type": "code"
   },
   "source": "# Define the input and output dimension. We do this so we don't have to hard-code it.\nNumVar = X_train.shape[1]\nNumOut = y_test.shape[1] #Be sure that it is a dataframe, else it won't run\nprint(NumVar, NumOut)",
   "execution_count": null,
   "outputs": [
    {
     "name": "stdout",
     "output_type": "stream",
     "text": "91 1\n"
    }
   ]
  },
  {
   "cell_type": "code",
   "metadata": {
    "cell_id": "00216-be7fd138-e11b-4318-be43-fcce7ac243d1",
    "deepnote_to_be_reexecuted": true,
    "source_hash": "6be95ca2",
    "deepnote_cell_type": "code"
   },
   "source": "# Create the model\n\nmodel = Sequential()\nmodel.add(Dense(2, input_dim = NumVar, activation = 'relu'))\nmodel.add(Dense(12, activation = 'relu'))\nmodel.add(Dense(10, activation = 'relu'))\nmodel.add(Dense(NumOut, activation = 'sigmoid'))\nmodel.summary()",
   "execution_count": null,
   "outputs": [
    {
     "name": "stdout",
     "output_type": "stream",
     "text": "Model: \"sequential_1\"\n_________________________________________________________________\n Layer (type)                Output Shape              Param #   \n=================================================================\n dense_4 (Dense)             (None, 2)                 184       \n                                                                 \n dense_5 (Dense)             (None, 12)                36        \n                                                                 \n dense_6 (Dense)             (None, 10)                130       \n                                                                 \n dense_7 (Dense)             (None, 1)                 11        \n                                                                 \n=================================================================\nTotal params: 361\nTrainable params: 361\nNon-trainable params: 0\n_________________________________________________________________\n"
    }
   ]
  },
  {
   "cell_type": "code",
   "metadata": {
    "cell_id": "00217-734b972f-c4cf-44b6-a86a-5f95a270d1ff",
    "deepnote_to_be_reexecuted": true,
    "source_hash": "c35e94ee",
    "deepnote_cell_type": "code"
   },
   "source": "# Make and implement early-stopping \n\nmodel.compile(loss = 'binary_crossentropy', optimizer = 'adam', metrics=['accuracy'])\n\nearly_stop = EarlyStopping(monitor = 'loss', patience = 2, verbose = 1)",
   "execution_count": null,
   "outputs": []
  },
  {
   "cell_type": "code",
   "metadata": {
    "cell_id": "00218-9b19a4ee-75e4-4f3b-a3b4-daba69f91920",
    "deepnote_to_be_reexecuted": true,
    "source_hash": "bbcf80ec",
    "deepnote_cell_type": "code"
   },
   "source": "# Fit the model\n\nhistory = model.fit(X_train, y_train,\n                    epochs = 10,\n                    batch_size = 100,\n                    verbose = 1,\n                    callbacks = [early_stop],\n                    shuffle = True) # Try to shuffle, will the model change?",
   "execution_count": null,
   "outputs": [
    {
     "name": "stdout",
     "output_type": "stream",
     "text": "Epoch 1/10\n240/240 [==============================] - 1s 863us/step - loss: 0.5179 - accuracy: 0.7772\nEpoch 2/10\n240/240 [==============================] - 0s 773us/step - loss: 0.4506 - accuracy: 0.8096\nEpoch 3/10\n240/240 [==============================] - 0s 748us/step - loss: 0.4438 - accuracy: 0.8148\nEpoch 4/10\n240/240 [==============================] - 0s 767us/step - loss: 0.4402 - accuracy: 0.8185\nEpoch 5/10\n240/240 [==============================] - 0s 777us/step - loss: 0.4386 - accuracy: 0.8198\nEpoch 6/10\n240/240 [==============================] - 0s 754us/step - loss: 0.4376 - accuracy: 0.8189\nEpoch 7/10\n240/240 [==============================] - 0s 755us/step - loss: 0.4372 - accuracy: 0.8198\nEpoch 8/10\n240/240 [==============================] - 0s 755us/step - loss: 0.4364 - accuracy: 0.8198\nEpoch 9/10\n240/240 [==============================] - 0s 761us/step - loss: 0.4363 - accuracy: 0.8203\nEpoch 10/10\n240/240 [==============================] - 0s 760us/step - loss: 0.4361 - accuracy: 0.8210\n"
    }
   ]
  },
  {
   "cell_type": "code",
   "metadata": {
    "cell_id": "00219-b031cdd6-f7bb-4564-8444-d0cfff428862",
    "deepnote_to_be_reexecuted": true,
    "source_hash": "97757069",
    "deepnote_cell_type": "code"
   },
   "source": "# Make predictions\ny_train_pred = (model.predict(X_train))\ny_test_pred = (model.predict(X_test))\n\n# Add the predictions to the observed values\ny_train[\"Pred\"] = y_train_pred.round()\ny_test['Pred'] = y_test_pred.round()\n\n# Print the r2 score of the model\nprint(f\"The r2 score of the training set is: {(r2_score(y_train['default payment next month'], y_train['Pred'])*100):.4f}%\")\nprint(f\"The r2 score of the test set is: {(r2_score(y_test['default payment next month'], y_test['Pred'])*100):.4f}%\")",
   "execution_count": null,
   "outputs": [
    {
     "name": "stdout",
     "output_type": "stream",
     "text": "The r2 score of the training set is: -3.0178%\nThe r2 score of the test set is: -2.1432%\n"
    }
   ]
  },
  {
   "cell_type": "code",
   "metadata": {
    "cell_id": "00220-5085ae0c-d293-4a99-85db-94ae3b906bdf",
    "deepnote_output_heights": [
     206
    ],
    "deepnote_to_be_reexecuted": true,
    "source_hash": "84ce9014",
    "deepnote_cell_type": "code"
   },
   "source": "y_test.head()",
   "execution_count": null,
   "outputs": [
    {
     "data": {
      "text/html": "<div>\n<style scoped>\n    .dataframe tbody tr th:only-of-type {\n        vertical-align: middle;\n    }\n\n    .dataframe tbody tr th {\n        vertical-align: top;\n    }\n\n    .dataframe thead th {\n        text-align: right;\n    }\n</style>\n<table border=\"1\" class=\"dataframe\">\n  <thead>\n    <tr style=\"text-align: right;\">\n      <th></th>\n      <th>default payment next month</th>\n      <th>Pred</th>\n    </tr>\n    <tr>\n      <th>ID</th>\n      <th></th>\n      <th></th>\n    </tr>\n  </thead>\n  <tbody>\n    <tr>\n      <th>14002</th>\n      <td>0</td>\n      <td>0.0</td>\n    </tr>\n    <tr>\n      <th>11204</th>\n      <td>0</td>\n      <td>0.0</td>\n    </tr>\n    <tr>\n      <th>24111</th>\n      <td>0</td>\n      <td>0.0</td>\n    </tr>\n    <tr>\n      <th>16835</th>\n      <td>1</td>\n      <td>1.0</td>\n    </tr>\n    <tr>\n      <th>15655</th>\n      <td>0</td>\n      <td>0.0</td>\n    </tr>\n  </tbody>\n</table>\n</div>",
      "text/plain": "       default payment next month  Pred\nID                                     \n14002                           0   0.0\n11204                           0   0.0\n24111                           0   0.0\n16835                           1   1.0\n15655                           0   0.0"
     },
     "execution_count": 145,
     "metadata": {},
     "output_type": "execute_result"
    }
   ]
  },
  {
   "cell_type": "markdown",
   "source": "Now we have predicted the output and added that to our dataframe. Let's make a variable for the error, and then try to make a confussion matrix",
   "metadata": {
    "cell_id": "00221-1cc764d7-33bf-4cb9-9f01-42b52ea46f79",
    "deepnote_cell_type": "markdown"
   }
  },
  {
   "cell_type": "code",
   "metadata": {
    "cell_id": "00222-1f860e36-c7f0-4377-bbdc-4caf9e695aa3",
    "deepnote_to_be_reexecuted": true,
    "source_hash": "1e911c84",
    "deepnote_cell_type": "code"
   },
   "source": "y_train['Error'] = y_train['default payment next month']-y_train['Pred']\ny_test['Error'] = y_test['default payment next month']-y_test['Pred']",
   "execution_count": null,
   "outputs": []
  },
  {
   "cell_type": "code",
   "metadata": {
    "cell_id": "00223-eadabcd5-e015-4f5e-8f1e-9a1b38c8cf9d",
    "deepnote_output_heights": [
     79
    ],
    "deepnote_to_be_reexecuted": true,
    "source_hash": "e35f0459",
    "deepnote_cell_type": "code"
   },
   "source": "(y_test['Error'].value_counts())",
   "execution_count": null,
   "outputs": [
    {
     "data": {
      "text/plain": " 0.0    4961\n 1.0     793\n-1.0     246\nName: Error, dtype: int64"
     },
     "execution_count": 147,
     "metadata": {},
     "output_type": "execute_result"
    }
   ]
  },
  {
   "cell_type": "code",
   "metadata": {
    "cell_id": "00224-a36519dc-4283-411c-badb-b38179c64265",
    "deepnote_to_be_reexecuted": true,
    "source_hash": "9856173d",
    "deepnote_cell_type": "code"
   },
   "source": "acc = accuracy_score(y_test['default payment next month'], y_test['Pred'])\nprint('Accuracy: %.3f' % acc)",
   "execution_count": null,
   "outputs": [
    {
     "name": "stdout",
     "output_type": "stream",
     "text": "Accuracy: 0.827\n"
    }
   ]
  },
  {
   "cell_type": "code",
   "metadata": {
    "cell_id": "00225-5070ee11-5db1-4959-94ad-5e46294639c3",
    "deepnote_output_heights": [
     264
    ],
    "deepnote_to_be_reexecuted": true,
    "source_hash": "f35c6e2e",
    "deepnote_cell_type": "code"
   },
   "source": "# Make the confussion matrix\ncf_matrix = confusion_matrix(y_test['default payment next month'],y_test['Pred'])\n\n# Generate the heatmap using seaborn\nsb.heatmap(cf_matrix/np.sum(cf_matrix), annot= True, fmt='.2%', cmap='Blues')\nplt.xlabel('Prediction')\nplt.ylabel('Observation')\nplt.show()\nplt.show()",
   "execution_count": null,
   "outputs": [
    {
     "data": {
      "image/png": "[encoded data removed]",
      "text/plain": "<Figure size 432x288 with 2 Axes>"
     },
     "metadata": {
      "needs_background": "light",
      "image/png": {
       "width": 363,
       "height": 262
      }
     },
     "output_type": "display_data"
    }
   ]
  },
  {
   "cell_type": "markdown",
   "source": "As we can see, the model is not so good.",
   "metadata": {
    "cell_id": "00226-5210c142-71ee-4132-a2e9-74cf0c82f26a",
    "deepnote_cell_type": "markdown"
   }
  },
  {
   "cell_type": "markdown",
   "source": "#### Classification (Multiclass) <a id = classificationMulti>",
   "metadata": {
    "cell_id": "00227-95383ee6-d3e4-44c0-87c6-cf88d204c7c4",
    "deepnote_cell_type": "markdown"
   }
  },
  {
   "cell_type": "markdown",
   "source": "Activation function: `softmax`, loss: `sparse_categorical_crossentropy`. Not we are going to predict what income class a person belongs to based on his/hers age. To see a better example, check out the digits dataset from sklearn in the torturials 2.0.",
   "metadata": {
    "cell_id": "00228-3d25fb3d-ee3c-4ccc-99fc-6d45784ebe7f",
    "deepnote_cell_type": "markdown"
   }
  },
  {
   "cell_type": "code",
   "metadata": {
    "cell_id": "00229-cda0f5fb-9da0-450a-9269-97a747760816",
    "deepnote_output_heights": [
     null,
     177
    ],
    "deepnote_to_be_reexecuted": true,
    "source_hash": "8a6048c5",
    "deepnote_cell_type": "code"
   },
   "source": "# Import data and take a look it\ndf = pd.read_csv('Income_Class.csv')\nprint(df.shape)\nprint(df.info())\ndf.head()",
   "execution_count": null,
   "outputs": [
    {
     "name": "stdout",
     "output_type": "stream",
     "text": "(2001, 2)\n<class 'pandas.core.frame.DataFrame'>\nRangeIndex: 2001 entries, 0 to 2000\nData columns (total 2 columns):\n #   Column        Non-Null Count  Dtype\n---  ------        --------------  -----\n 0   Age           2001 non-null   int64\n 1   Income Class  2001 non-null   int64\ndtypes: int64(2)\nmemory usage: 31.4 KB\nNone\n"
    },
    {
     "data": {
      "text/html": "<div>\n<style scoped>\n    .dataframe tbody tr th:only-of-type {\n        vertical-align: middle;\n    }\n\n    .dataframe tbody tr th {\n        vertical-align: top;\n    }\n\n    .dataframe thead th {\n        text-align: right;\n    }\n</style>\n<table border=\"1\" class=\"dataframe\">\n  <thead>\n    <tr style=\"text-align: right;\">\n      <th></th>\n      <th>Age</th>\n      <th>Income Class</th>\n    </tr>\n  </thead>\n  <tbody>\n    <tr>\n      <th>0</th>\n      <td>40</td>\n      <td>2</td>\n    </tr>\n    <tr>\n      <th>1</th>\n      <td>24</td>\n      <td>1</td>\n    </tr>\n    <tr>\n      <th>2</th>\n      <td>24</td>\n      <td>1</td>\n    </tr>\n    <tr>\n      <th>3</th>\n      <td>49</td>\n      <td>3</td>\n    </tr>\n    <tr>\n      <th>4</th>\n      <td>46</td>\n      <td>3</td>\n    </tr>\n  </tbody>\n</table>\n</div>",
      "text/plain": "   Age  Income Class\n0   40             2\n1   24             1\n2   24             1\n3   49             3\n4   46             3"
     },
     "execution_count": 150,
     "metadata": {},
     "output_type": "execute_result"
    }
   ]
  },
  {
   "cell_type": "code",
   "metadata": {
    "cell_id": "00230-dcf676e0-8c01-487f-9343-87b6ba7b2788",
    "deepnote_output_heights": [
     79
    ],
    "deepnote_to_be_reexecuted": true,
    "source_hash": "860bd9ae",
    "deepnote_cell_type": "code"
   },
   "source": "df['Income Class'].value_counts()",
   "execution_count": null,
   "outputs": [
    {
     "data": {
      "text/plain": "2    725\n3    723\n1    553\nName: Income Class, dtype: int64"
     },
     "execution_count": 151,
     "metadata": {},
     "output_type": "execute_result"
    }
   ]
  },
  {
   "cell_type": "markdown",
   "source": "As we can see, there are no null-values, and 3 different types of income classes. Our goal is to make a model that can predict the income class based on the age (which is the only variable we got). We will therefor start with making a scatterplot, then make a Label Encoder for the classes. Thats done because we will get an error if not. After that we will scale the age-variable, and then split to test and training set, before we try to make the model.\n\nThis will most likely don't be a great model because we only got one variable, namely the 'age' variable.",
   "metadata": {
    "cell_id": "00231-94adcc6d-60df-468d-8132-5072dfa99fc9",
    "deepnote_cell_type": "markdown"
   }
  },
  {
   "cell_type": "code",
   "metadata": {
    "cell_id": "00232-4bd13759-c2c4-47f6-94bf-805426023bce",
    "deepnote_output_heights": [
     264
    ],
    "deepnote_to_be_reexecuted": true,
    "source_hash": "aea5884b",
    "deepnote_cell_type": "code"
   },
   "source": "sb.scatterplot(x=df['Age'],y=df['Income Class'])\nplt.show()",
   "execution_count": null,
   "outputs": [
    {
     "data": {
      "image/png": "[encoded data removed]",
      "text/plain": "<Figure size 432x288 with 1 Axes>"
     },
     "metadata": {
      "needs_background": "light",
      "image/png": {
       "width": 392,
       "height": 262
      }
     },
     "output_type": "display_data"
    }
   ]
  },
  {
   "cell_type": "code",
   "metadata": {
    "cell_id": "00233-882228c3-5af2-4685-a0ae-b3992c987f0a",
    "deepnote_to_be_reexecuted": true,
    "source_hash": "f9d09ace",
    "deepnote_cell_type": "code"
   },
   "source": "# Define the label encoder\nle = LabelEncoder()\n\n# Transform the variable\ndf['Income Class'] = le.fit_transform(df['Income Class'])",
   "execution_count": null,
   "outputs": []
  },
  {
   "cell_type": "code",
   "metadata": {
    "cell_id": "00234-cd23c664-1346-4351-8c02-a3c34719903f",
    "deepnote_output_heights": [
     177
    ],
    "deepnote_to_be_reexecuted": true,
    "source_hash": "c085b6ba",
    "deepnote_cell_type": "code"
   },
   "source": "df.head()",
   "execution_count": null,
   "outputs": [
    {
     "data": {
      "text/html": "<div>\n<style scoped>\n    .dataframe tbody tr th:only-of-type {\n        vertical-align: middle;\n    }\n\n    .dataframe tbody tr th {\n        vertical-align: top;\n    }\n\n    .dataframe thead th {\n        text-align: right;\n    }\n</style>\n<table border=\"1\" class=\"dataframe\">\n  <thead>\n    <tr style=\"text-align: right;\">\n      <th></th>\n      <th>Age</th>\n      <th>Income Class</th>\n    </tr>\n  </thead>\n  <tbody>\n    <tr>\n      <th>0</th>\n      <td>40</td>\n      <td>1</td>\n    </tr>\n    <tr>\n      <th>1</th>\n      <td>24</td>\n      <td>0</td>\n    </tr>\n    <tr>\n      <th>2</th>\n      <td>24</td>\n      <td>0</td>\n    </tr>\n    <tr>\n      <th>3</th>\n      <td>49</td>\n      <td>2</td>\n    </tr>\n    <tr>\n      <th>4</th>\n      <td>46</td>\n      <td>2</td>\n    </tr>\n  </tbody>\n</table>\n</div>",
      "text/plain": "   Age  Income Class\n0   40             1\n1   24             0\n2   24             0\n3   49             2\n4   46             2"
     },
     "execution_count": 154,
     "metadata": {},
     "output_type": "execute_result"
    }
   ]
  },
  {
   "cell_type": "markdown",
   "source": "As we can see, we now also use a 0 for the income classes. We could also have subtracted 1 from every class to do the same.",
   "metadata": {
    "cell_id": "00235-c95cda6e-690b-47c5-9317-72668dae8d2b",
    "deepnote_cell_type": "markdown"
   }
  },
  {
   "cell_type": "code",
   "metadata": {
    "cell_id": "00236-29bbeb46-64a8-41f0-b5c5-9664ce7e1711",
    "deepnote_to_be_reexecuted": true,
    "source_hash": "eb398c2d",
    "deepnote_cell_type": "code"
   },
   "source": "# Define the scaler\nscaler = MinMaxScaler()\n\n# Scale the age variable\ndf['Age_Scaled'] = scaler.fit_transform(df[['Age']])",
   "execution_count": null,
   "outputs": []
  },
  {
   "cell_type": "code",
   "metadata": {
    "cell_id": "00237-27edf499-1a82-4738-a597-915b76ea92b6",
    "deepnote_to_be_reexecuted": true,
    "source_hash": "ab8c8d4c",
    "deepnote_cell_type": "code"
   },
   "source": "# Define X and y\nX = df['Age_Scaled'] #_Scaled\ny = df['Income Class']\n\n# Split to training and test set\nX_train, X_test, y_train, y_test = train_test_split(X,y, train_size=0.8, shuffle=True)",
   "execution_count": null,
   "outputs": []
  },
  {
   "cell_type": "code",
   "metadata": {
    "cell_id": "00238-58205c06-9dab-41cf-960d-0338e302d46f",
    "deepnote_to_be_reexecuted": true,
    "source_hash": "c276c4ec",
    "deepnote_cell_type": "code"
   },
   "source": "# One-dimentional objects sometimes cause problems (important!), therefore we will convert everything in to dataframes\n\nprint(y_train.shape, type(y_train))\ny_train = pd.DataFrame(y_train)\nprint(y_train.shape, type(y_train))\n\ny_test = pd.DataFrame(y_test)\nX_train = pd.DataFrame(X_train)\nX_test = pd.DataFrame(X_test)",
   "execution_count": null,
   "outputs": [
    {
     "name": "stdout",
     "output_type": "stream",
     "text": "(1600,) <class 'pandas.core.series.Series'>\n(1600, 1) <class 'pandas.core.frame.DataFrame'>\n"
    }
   ]
  },
  {
   "cell_type": "code",
   "metadata": {
    "cell_id": "00239-eafb523d-5123-46e7-89cf-0fa9d66650a7",
    "deepnote_to_be_reexecuted": true,
    "source_hash": "64151828",
    "deepnote_cell_type": "code"
   },
   "source": "NumVar = len(X_train.columns)\nNumOut = len(y_train['Income Class'].unique())\nprint(NumVar, NumOut)",
   "execution_count": null,
   "outputs": [
    {
     "name": "stdout",
     "output_type": "stream",
     "text": "1 3\n"
    }
   ]
  },
  {
   "cell_type": "code",
   "metadata": {
    "cell_id": "00240-e27a9650-58a5-4503-a026-30ac89b5277e",
    "deepnote_to_be_reexecuted": true,
    "source_hash": "a01efcb4",
    "deepnote_cell_type": "code"
   },
   "source": "# Create the model\n\nmodel = Sequential()\nmodel.add(Dense(2, input_dim = NumVar, activation = 'relu'))\nmodel.add(Dense(12, activation = 'relu'))\nmodel.add(Dense(10, activation = 'relu'))\nmodel.add(Dense(NumOut, activation = 'softmax'))\n#model.summary()",
   "execution_count": null,
   "outputs": []
  },
  {
   "cell_type": "code",
   "metadata": {
    "cell_id": "00241-3ea87dce-bbc5-4567-a5c9-ab9bde6612c1",
    "deepnote_to_be_reexecuted": true,
    "source_hash": "5c050549",
    "deepnote_cell_type": "code"
   },
   "source": "# Make and implement early-stopping \n\nmodel.compile(loss = 'sparse_categorical_crossentropy', optimizer = 'adam', metrics=['accuracy'])\n\nearly_stop = EarlyStopping(monitor = 'loss', patience = 2, verbose = 1)",
   "execution_count": null,
   "outputs": []
  },
  {
   "cell_type": "code",
   "metadata": {
    "cell_id": "00242-6aea93ff-7ca7-4b94-a1e7-2c78a6f612f1",
    "deepnote_to_be_reexecuted": true,
    "source_hash": "33fc266f",
    "deepnote_cell_type": "code"
   },
   "source": "# Fit the model\n\nhistory = model.fit(X_train, y_train,\n                    epochs = 10,\n                    batch_size = 1,\n                    verbose = 1,\n                    callbacks = [early_stop],\n                    shuffle = True) # Try to shuffle, will the model change?",
   "execution_count": null,
   "outputs": [
    {
     "name": "stdout",
     "output_type": "stream",
     "text": "Epoch 1/10\n1600/1600 [==============================] - 1s 637us/step - loss: 0.7754 - accuracy: 0.6350\nEpoch 2/10\n1600/1600 [==============================] - 1s 618us/step - loss: 0.4608 - accuracy: 0.8325\nEpoch 3/10\n1600/1600 [==============================] - 1s 621us/step - loss: 0.4272 - accuracy: 0.8519\nEpoch 4/10\n1600/1600 [==============================] - 1s 631us/step - loss: 0.4137 - accuracy: 0.8562\nEpoch 5/10\n1600/1600 [==============================] - 1s 622us/step - loss: 0.4056 - accuracy: 0.8606\nEpoch 6/10\n1600/1600 [==============================] - 1s 620us/step - loss: 0.4000 - accuracy: 0.8637\nEpoch 7/10\n1600/1600 [==============================] - 1s 618us/step - loss: 0.3929 - accuracy: 0.8550\nEpoch 8/10\n1600/1600 [==============================] - 1s 626us/step - loss: 0.3845 - accuracy: 0.8694\nEpoch 9/10\n1600/1600 [==============================] - 1s 625us/step - loss: 0.3782 - accuracy: 0.8631\nEpoch 10/10\n1600/1600 [==============================] - 1s 623us/step - loss: 0.3792 - accuracy: 0.8644\n"
    }
   ]
  },
  {
   "cell_type": "code",
   "metadata": {
    "cell_id": "00243-6dc4883d-8580-46dd-9d26-e811a6d0f4d9",
    "deepnote_to_be_reexecuted": true,
    "source_hash": "d6b13d62",
    "deepnote_cell_type": "code"
   },
   "source": "# Predict on the test set\ny_pred = model.predict([X_test])\n\n# Use argmax to find the highest probability\ny_pred = np.argmax(y_pred, axis=1)\n\n# Add prediction to test set\ny_test['Pred'] = y_pred",
   "execution_count": null,
   "outputs": []
  },
  {
   "cell_type": "code",
   "metadata": {
    "cell_id": "00244-a83d8b83-583a-486a-ad66-979d30eb52ab",
    "deepnote_output_heights": [
     264
    ],
    "deepnote_to_be_reexecuted": true,
    "source_hash": "49a3f89b",
    "deepnote_cell_type": "code"
   },
   "source": "# Make the confussion matrix\ncf_matrix = confusion_matrix(y_test['Income Class'],y_test['Pred'])\n\n# Generate the heatmap using seaborn\nsb.heatmap(cf_matrix, annot = True, fmt='.0f', cmap='Blues')\nplt.xlabel('Prediction')\nplt.ylabel('Observation')\nplt.show()",
   "execution_count": null,
   "outputs": [
    {
     "data": {
      "image/png": "[encoded data removed]",
      "text/plain": "<Figure size 432x288 with 2 Axes>"
     },
     "metadata": {
      "needs_background": "light",
      "image/png": {
       "width": 366,
       "height": 262
      }
     },
     "output_type": "display_data"
    }
   ]
  },
  {
   "cell_type": "markdown",
   "source": "As we can see, the confussion matrix uses 0 insted of 1, 1 insted of 2 and 2 instead of 3. This can we fix for the scatterplot:",
   "metadata": {
    "cell_id": "00245-641d53be-c738-4d80-a35c-ef5030dc0a30",
    "deepnote_cell_type": "markdown"
   }
  },
  {
   "cell_type": "code",
   "metadata": {
    "cell_id": "00246-10b57042-377b-4439-b388-de0da5996291",
    "deepnote_to_be_reexecuted": true,
    "source_hash": "d066f75d",
    "deepnote_cell_type": "code"
   },
   "source": "# Invert the scaled variables\nscaler.fit(df[['Age']])\nX_test['Age_Scaled'] = scaler.inverse_transform(X_test[['Age_Scaled']])\n\n# Get back the old classes\ny_test['Income Class'] += 1\ny_test['Pred'] += 1",
   "execution_count": null,
   "outputs": []
  },
  {
   "cell_type": "code",
   "metadata": {
    "cell_id": "00247-a5856c7d-d0ee-4d11-929e-cdbdcb90889c",
    "deepnote_output_heights": [
     250
    ],
    "deepnote_to_be_reexecuted": true,
    "source_hash": "a8f1a2e4",
    "deepnote_cell_type": "code"
   },
   "source": "plt.scatter(X_test['Age_Scaled'], y_test['Income Class'])\nplt.scatter(X_test['Age_Scaled'], y_test['Pred'])\nplt.show()",
   "execution_count": null,
   "outputs": [
    {
     "data": {
      "image/png": "[encoded data removed]",
      "text/plain": "<Figure size 432x288 with 1 Axes>"
     },
     "metadata": {
      "needs_background": "light",
      "image/png": {
       "width": 378,
       "height": 248
      }
     },
     "output_type": "display_data"
    }
   ]
  },
  {
   "cell_type": "markdown",
   "source": "As we can see, the model works as expected, and because we only have one variable, the performace is very limited.",
   "metadata": {
    "cell_id": "00248-620a239e-68ba-413c-949f-21574175840c",
    "deepnote_cell_type": "markdown"
   }
  },
  {
   "cell_type": "markdown",
   "source": "## <a href = #top > Click here to get to the top </a>",
   "metadata": {
    "cell_id": "00249-d04f9a65-7ca8-49c7-85f7-3947601445d2",
    "deepnote_cell_type": "markdown"
   }
  },
  {
   "cell_type": "markdown",
   "source": "<a style='text-decoration:none;line-height:16px;display:flex;color:#5B5B62;padding:10px;justify-content:end;' href='https://deepnote.com?utm_source=created-in-deepnote-cell&projectId=7a076037-bdbc-4d12-92b5-75ebface7fab' target=\"_blank\">\n<img alt='Created in deepnote.com' style='display:inline;max-height:16px;margin:0px;margin-right:7.5px;' src='data:image/svg+xml;base64,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' > </img>\nCreated in <span style='font-weight:600;margin-left:4px;'>Deepnote</span></a>",
   "metadata": {
    "tags": [],
    "created_in_deepnote_cell": true,
    "deepnote_cell_type": "markdown"
   }
  }
 ],
 "nbformat": 4,
 "nbformat_minor": 5,
 "metadata": {
  "kernelspec": {
   "display_name": "Python 3 (ipykernel)",
   "language": "python",
   "name": "python3"
  },
  "language_info": {
   "codemirror_mode": {
    "name": "ipython",
    "version": 3
   },
   "file_extension": ".py",
   "mimetype": "text/x-python",
   "name": "python",
   "nbconvert_exporter": "python",
   "pygments_lexer": "ipython3",
   "version": "3.9.6"
  },
  "deepnote_notebook_id": "34de9414-8db9-40c8-97c1-2dfc9fb605e6",
  "deepnote": {},
  "deepnote_execution_queue": []
 }
}